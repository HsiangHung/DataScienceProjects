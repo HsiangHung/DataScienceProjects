{
 "cells": [
  {
   "cell_type": "markdown",
   "metadata": {},
   "source": [
    "# Implementation of collaborative filtering on a recommendation system \n",
    "\n",
    "This note is intended to demonstrate how collaborative filtering algorithms is implemented in recommendation systems. \n",
    "Instead using conjugate gradient, here we used alternating least squares (ALS) to solve the problem.\n",
    "\n",
    "At the beginning, we assume there are 5 users and 10 movies. The rating matrix will be 10x6, where each element is 1-10, a rating score. The element (i,j) denotes the rating score of movie-i by user-j."
   ]
  },
  {
   "cell_type": "code",
   "execution_count": 253,
   "metadata": {
    "collapsed": false
   },
   "outputs": [
    {
     "name": "stdout",
     "output_type": "stream",
     "text": [
      "[[7 6 9 3 1]\n",
      " [1 5 1 4 7]\n",
      " [6 3 9 1 9]\n",
      " [6 9 9 4 6]\n",
      " [0 8 3 2 6]\n",
      " [7 2 4 6 2]\n",
      " [3 5 5 2 6]\n",
      " [7 3 8 3 6]\n",
      " [7 9 6 8 4]\n",
      " [1 2 6 6 3]]\n"
     ]
    }
   ],
   "source": [
    "import numpy as np\n",
    "import math\n",
    "from numpy import *\n",
    "\n",
    "num_movies =10\n",
    "num_users = 5\n",
    "\n",
    "ratings = random.randint(11, size = (num_movies, num_users))\n",
    "print (ratings)"
   ]
  },
  {
   "cell_type": "code",
   "execution_count": 254,
   "metadata": {
    "collapsed": false
   },
   "outputs": [
    {
     "name": "stdout",
     "output_type": "stream",
     "text": [
      "[[1 1 1 1 1]\n",
      " [1 1 1 1 1]\n",
      " [1 1 1 1 1]\n",
      " [1 1 1 1 1]\n",
      " [0 1 1 1 1]\n",
      " [1 1 1 1 1]\n",
      " [1 1 1 1 1]\n",
      " [1 1 1 1 1]\n",
      " [1 1 1 1 1]\n",
      " [1 1 1 1 1]]\n"
     ]
    }
   ],
   "source": [
    "did_ratings = (ratings != 0)*1\n",
    "print (did_ratings)"
   ]
  },
  {
   "cell_type": "markdown",
   "metadata": {},
   "source": [
    "Now, suppose we have a new user, Hsiang. This user's rating is represented by a 10-component rating vector. We can first initialize the null rating vector:"
   ]
  },
  {
   "cell_type": "code",
   "execution_count": 255,
   "metadata": {
    "collapsed": false
   },
   "outputs": [
    {
     "name": "stdout",
     "output_type": "stream",
     "text": [
      "[[ 0.]\n",
      " [ 0.]\n",
      " [ 0.]\n",
      " [ 0.]\n",
      " [ 0.]\n",
      " [ 0.]\n",
      " [ 0.]\n",
      " [ 0.]\n",
      " [ 0.]\n",
      " [ 0.]]\n"
     ]
    }
   ],
   "source": [
    "hsiang_rating = zeros((num_movies,1))\n",
    "print (hsiang_rating)"
   ]
  },
  {
   "cell_type": "markdown",
   "metadata": {},
   "source": [
    "Instead, we can also designate the rating vector by generating random numbers:"
   ]
  },
  {
   "cell_type": "code",
   "execution_count": 256,
   "metadata": {
    "collapsed": false
   },
   "outputs": [
    {
     "name": "stdout",
     "output_type": "stream",
     "text": [
      "[[0]\n",
      " [1]\n",
      " [2]\n",
      " [3]\n",
      " [8]\n",
      " [3]\n",
      " [7]\n",
      " [3]\n",
      " [9]\n",
      " [1]]\n"
     ]
    }
   ],
   "source": [
    "hsiang_ratings = random.randint(11,size =(num_movies,1))\n",
    "print (hsiang_ratings)"
   ]
  },
  {
   "cell_type": "markdown",
   "metadata": {},
   "source": [
    "Then we merge the new user's rating in the rating matrix. Since now there are 6 users, we can see there are six columns in the rating matrix."
   ]
  },
  {
   "cell_type": "code",
   "execution_count": 257,
   "metadata": {
    "collapsed": false
   },
   "outputs": [
    {
     "name": "stdout",
     "output_type": "stream",
     "text": [
      "[[0 7 6 9 3 1]\n",
      " [1 1 5 1 4 7]\n",
      " [2 6 3 9 1 9]\n",
      " [3 6 9 9 4 6]\n",
      " [8 0 8 3 2 6]\n",
      " [3 7 2 4 6 2]\n",
      " [7 3 5 5 2 6]\n",
      " [3 7 3 8 3 6]\n",
      " [9 7 9 6 8 4]\n",
      " [1 1 2 6 6 3]]\n",
      "[[0 1 1 1 1 1]\n",
      " [1 1 1 1 1 1]\n",
      " [1 1 1 1 1 1]\n",
      " [1 1 1 1 1 1]\n",
      " [1 0 1 1 1 1]\n",
      " [1 1 1 1 1 1]\n",
      " [1 1 1 1 1 1]\n",
      " [1 1 1 1 1 1]\n",
      " [1 1 1 1 1 1]\n",
      " [1 1 1 1 1 1]]\n"
     ]
    }
   ],
   "source": [
    "ratings = append(hsiang_ratings, ratings, axis =1)\n",
    "did_ratings = append((hsiang_ratings!=0)*1, did_ratings, axis = 1)\n",
    "print (np.around(ratings,2))\n",
    "print (did_ratings)"
   ]
  },
  {
   "cell_type": "markdown",
   "metadata": {},
   "source": [
    "In the above, the first matrix is the rating matrix. The second one is the matrix, whose (i,j) element is 1 if user-j has rated movie-i, whereas = 0 if the users didn't rate the movie-i. Note that we used the convention: rating 1-10. In the rating matrix, rating =0 means \"the user has not rated the movie yet\"; the data is missing.\n",
    "\n",
    "\n",
    "## Mean-normalization\n",
    "\n",
    "Next step we need to mean normalize the rating matrix."
   ]
  },
  {
   "cell_type": "code",
   "execution_count": 258,
   "metadata": {
    "collapsed": false
   },
   "outputs": [
    {
     "name": "stdout",
     "output_type": "stream",
     "text": [
      "[[ 0.   1.8  0.8  3.8 -2.2 -4.2]\n",
      " [-2.2 -2.2  1.8 -2.2  0.8  3.8]\n",
      " [-3.   1.  -2.   4.  -4.   4. ]\n",
      " [-3.2 -0.2  2.8  2.8 -2.2 -0.2]\n",
      " [ 2.6  0.   2.6 -2.4 -3.4  0.6]\n",
      " [-1.   3.  -2.   0.   2.  -2. ]\n",
      " [ 2.3 -1.7  0.3  0.3 -2.7  1.3]\n",
      " [-2.   2.  -2.   3.  -2.   1. ]\n",
      " [ 1.8 -0.2  1.8 -1.2  0.8 -3.2]\n",
      " [-2.2 -2.2 -1.2  2.8  2.8 -0.2]]\n"
     ]
    }
   ],
   "source": [
    "import numpy as np\n",
    "def normalize_ratings(ratings, did_ratings):\n",
    "    num_movies = ratings.shape[0]\n",
    "    ratings_mean = [0]*num_movies\n",
    "    ratings_norm = zeros(shape = ratings.shape)\n",
    "    for i in range(num_movies):\n",
    "        idx = where(did_ratings[i] == 1)[0]\n",
    "        ratings_mean[i] = np.mean(ratings[i,idx])\n",
    "        ratings_norm[i,idx] = ratings[i, idx]- ratings_mean[i]\n",
    "    return ratings_norm, ratings_mean\n",
    "\n",
    "#print (ratings, did_ratings)\n",
    "ratings, ratings_mean = normalize_ratings(ratings, did_ratings)\n",
    "print (np.around(ratings,1))"
   ]
  },
  {
   "cell_type": "markdown",
   "metadata": {},
   "source": [
    "After mean-normalizing, the positive values indicate the rating beyond the average, the negative values mean \"users don't like the movies\". The exact \"0\" mean the movie has not been rated by the users yet."
   ]
  },
  {
   "cell_type": "code",
   "execution_count": 259,
   "metadata": {
    "collapsed": false
   },
   "outputs": [
    {
     "name": "stdout",
     "output_type": "stream",
     "text": [
      "6 10\n"
     ]
    }
   ],
   "source": [
    "num_users = ratings.shape[1]\n",
    "num_movies = ratings.shape[0]\n",
    "print (num_users, num_movies)\n",
    "num_features = 3"
   ]
  },
  {
   "cell_type": "markdown",
   "metadata": {},
   "source": [
    "\"num_features =3\" means there are three latent factors; could be \"action\", \"romance\", \"comedy\" or any others. These latent factors describe features of movies. We only recommend movies to users who have similar taste on movies, or they may like the movie.\n",
    "\n",
    "To be more concrete, for example, if a movie \"Warcraft\" has a high score on action by many users, it means this movie has strong preference on action. If user-1, say, Alice, doesn't like action movie, meaning that she possibly will give low rating to Warcraft\". Then obviously we won't recommend the action movie Alice. On the other hand, if the user-2, Joe, always rates high score on action movies, we know he may like \"Warcraft\". Even though Joe has not watched yet, we can recommend \"Warcraft\" to Joe.\n",
    "\n",
    "Remind again. Aftet mean-normalization, positive values suggest positive preference, whereas negative ones mean the user dislikes. Exact \"0\"'s means the users have not watched yet.\n",
    " \n",
    "\n",
    "\n",
    "## Initialize the movies' features and users' preference\n",
    "\n",
    "How can we find the latent factors? Using linear regression. \n",
    "\n",
    "We fisrt consider that the rating matrix can be decomposed as two matrices, Rating = U * V.\n",
    "For simple linear regression problems, y=theta*x, we know (x,y) and try to find out Theta to best describe the correlation between (x,y). \n",
    "\n",
    "In our matrix problem, we can think about each element in the rating matrix is a rating[i,j] = y, theta is the attributes for each movie-i, x is user-j's preference. In reality, theta and x are unknown. In the collaborative filtering algorithm, we initially guess the values of Theta and X:"
   ]
  },
  {
   "cell_type": "code",
   "execution_count": 265,
   "metadata": {
    "collapsed": false
   },
   "outputs": [
    {
     "name": "stdout",
     "output_type": "stream",
     "text": [
      "[[-0.99633304 -0.66022008 -1.03651279]\n",
      " [-0.85943883  1.15216689  2.18023273]\n",
      " [ 0.11363454  0.01710109 -0.32018263]\n",
      " [-0.38804045 -2.43522192 -0.37708437]\n",
      " [-0.11813036  1.71939601 -0.45814617]\n",
      " [ 0.45819133 -0.92005296 -1.24911749]\n",
      " [ 0.41449486  0.27185492 -0.27395849]\n",
      " [-1.11926801 -1.2589305  -0.48007282]\n",
      " [ 0.83475855  0.02389139 -0.47600654]\n",
      " [ 0.54152236  0.31649974  1.10087383]]\n"
     ]
    }
   ],
   "source": [
    "movies_features = random.randn(nums_movies, nums_features)\n",
    "users_preference = random.randn(nums_users, nums_features)\n",
    "print (movies_features)"
   ]
  },
  {
   "cell_type": "markdown",
   "metadata": {
    "collapsed": true
   },
   "source": [
    "The j-th row of \"movies_features\" denotes the j-th movie's features. For example, for j=1, X1 = (x11, x12, x13) means the movie has feature \"action\"=x11, \"romance\"=x12, \"comedy\"=x13. Here we will denote it as U."
   ]
  },
  {
   "cell_type": "code",
   "execution_count": 266,
   "metadata": {
    "collapsed": false
   },
   "outputs": [
    {
     "name": "stdout",
     "output_type": "stream",
     "text": [
      "[[-0.34034663  2.61657888  1.37143206]\n",
      " [ 0.89372139 -0.23251664  1.00898648]\n",
      " [-0.53687364  0.24529631  0.78791333]\n",
      " [-1.15833453  0.23128601  0.19295087]\n",
      " [ 0.04698052  0.32548204 -0.41042209]\n",
      " [ 0.56284968 -0.11649399 -0.4150762 ]]\n"
     ]
    }
   ],
   "source": [
    "print (users_preference)"
   ]
  },
  {
   "cell_type": "markdown",
   "metadata": {},
   "source": [
    "The i-th row of \"users_preference\" denotes the i-th user's preference, Theta(i) = (ti1, ti2, ti3) means the level of  action, romance and comedy movies the user-i likes. Hereafter we will denote it as V."
   ]
  },
  {
   "cell_type": "code",
   "execution_count": 262,
   "metadata": {
    "collapsed": false
   },
   "outputs": [
    {
     "name": "stdout",
     "output_type": "stream",
     "text": [
      "[ 1.08808386 -0.71489339 -2.20505238  0.32832656  1.4422673   2.78588963\n",
      " -0.71141742  0.43186069 -0.20470045  0.76426419  0.09406951  0.48134434\n",
      " -0.25078608  2.31938796  0.41265807  2.15990492 -0.32095182 -0.3960826\n",
      "  1.91751958  0.55523168 -2.87927849  0.1737703   0.13369125  0.81648228\n",
      " -0.66734808 -0.13872669  0.50599594  0.35043516  0.00412928  0.15324317\n",
      "  1.45034913  0.85189741 -0.62059825 -0.72950777 -1.26273711 -0.94952881\n",
      " -1.03228682 -0.60630743 -0.47535134  0.12417856 -0.59128421  0.1514741\n",
      "  1.71986978  0.08041668 -1.12398661 -0.14544704 -0.36398353  0.74393368]\n"
     ]
    }
   ],
   "source": [
    "initial_Theta_X = r_[movies_features.T.flatten(), users_preference.T.flatten()]\n",
    "print(initial_Theta_X)"
   ]
  },
  {
   "cell_type": "markdown",
   "metadata": {},
   "source": [
    "\"initial_Theta_X\" is a matrix (X* Theta^T) with dimension of (num_movies * num_features) * (num_features x * num_users). Here X is 10x6 = (10x3)*(3*6). So we have X = U (V.T).\n",
    "\n",
    "\n",
    "## Alternating least squares\n",
    "\n",
    "Instead using the conjugate gradient, we implement alternating least squares (ALS) algorithm. We need to solve X = U*V.T, but both U and V are unknown. After initially guessing U and V, we can:\n",
    "\n",
    "(1) fixed V, to find U\n",
    "\n",
    "(2) fixed U, to find V\n",
    "\n",
    "(3) repeat above procedures, until U*V.T doesn't change much.\n",
    "\n",
    "This is the ALS. In the following we use normal equation to solve U and V respectively."
   ]
  },
  {
   "cell_type": "code",
   "execution_count": 267,
   "metadata": {
    "collapsed": false
   },
   "outputs": [
    {
     "name": "stdout",
     "output_type": "stream",
     "text": [
      "0 1000 1.07117666017\n",
      "1 1.07117666017 0.924362358499\n",
      "2 0.924362358499 0.904897992687\n",
      "3 0.904897992687 0.900511012914\n",
      "4 0.900511012914 0.898954944292\n",
      "5 0.898954944292 0.898160378141\n",
      "6 0.898160378141 0.89764753544\n",
      "7 0.89764753544 0.897275390852\n",
      "8 0.897275390852 0.896990114249\n",
      "9 0.896990114249 0.896765013625\n",
      "10 0.896765013625 0.896584093442\n",
      "11 0.896584093442 0.89643668548\n",
      "12 0.89643668548 0.896315257429\n",
      "13 0.896315257429 0.896214309214\n",
      "14 0.896214309214 0.896129729845\n",
      "15 0.896129729845 0.896058389458\n",
      "16 0.896058389458 0.895997867652\n",
      "17 0.895997867652 0.89594626684\n",
      "18 0.89594626684 0.895902081037\n",
      "19 0.895902081037 0.895864101864\n",
      "20 0.895864101864 0.895831350116\n",
      "21 0.895831350116 0.895803025191\n",
      "22 0.895803025191 0.895778467236\n",
      "23 0.895778467236 0.895757128438\n",
      "24 0.895757128438 0.895738551027\n",
      "25 0.895738551027 0.895722350212\n",
      "26 0.895722350212 0.895708200842\n",
      "27 0.895708200842 0.895695826852\n",
      "28 0.895695826852 0.895684992856\n",
      "29 0.895684992856 0.895675497392\n",
      "30 0.895675497392 0.895667167445\n",
      "31 0.895667167445 0.895659853978\n",
      "32 0.895659853978 0.895653428266\n",
      "33 0.895653428266 0.895647778857\n",
      "34 0.895647778857 0.895642809048\n",
      "35 0.895642809048 0.895638434774\n",
      "36 0.895638434774 0.89563458283\n",
      "37 0.89563458283 0.895631189373\n",
      "38 0.895631189373 0.89562819865\n",
      "39 0.89562819865 0.895625561912\n",
      "40 0.895625561912 0.895623236492\n",
      "41 0.895623236492 0.895621185006\n",
      "42 0.895621185006 0.895619374673\n",
      "43 0.895619374673 0.895617776728\n",
      "44 0.895617776728 0.895616365908\n",
      "45 0.895616365908 0.895615120014\n",
      "46 0.895615120014 0.895614019531\n",
      "47 0.895614019531 0.895613047289\n",
      "48 0.895613047289 0.895612188179\n",
      "49 0.895612188179 0.895611428898\n",
      "50 0.895611428898 0.895610757729\n",
      "51 0.895610757729 0.895610164348\n",
      "52 0.895610164348 0.895609639655\n",
      "53 0.895609639655 0.895609175627\n",
      "54 0.895609175627 0.89560876519\n",
      "55 0.89560876519 0.895608402102\n",
      "56 0.895608402102 0.895608080855\n",
      "57 0.895608080855 0.89560779659\n",
      "58 0.89560779659 0.895607545016\n",
      "59 0.895607545016 0.895607322344\n",
      "60 0.895607322344 0.89560712523\n",
      "61 0.89560712523 0.895606950719\n",
      "62 0.895606950719 0.8956067962\n",
      "63 0.8956067962 0.895606659366\n",
      "64 0.895606659366 0.89560653818\n",
      "65 0.89560653818 0.89560643084\n",
      "66 0.89560643084 0.895606335754\n",
      "67 0.895606335754 0.895606251512\n",
      "68 0.895606251512 0.895606176871\n",
      "69 0.895606176871 0.895606110729\n",
      "70 0.895606110729 0.895606052112\n",
      "71 0.895606052112 0.895606000159\n",
      "72 0.895606000159 0.895605954107\n",
      "73 0.895605954107 0.895605913282\n",
      "74 0.895605913282 0.895605877087\n",
      "75 0.895605877087 0.895605844995\n",
      "76 0.895605844995 0.895605816536\n",
      "77 0.895605816536 0.895605791298\n",
      "78 0.895605791298 0.895605768914\n",
      "79 0.895605768914 0.895605749059\n",
      "80 0.895605749059 0.895605731446\n",
      "81 0.895605731446 0.89560571582\n",
      "82 0.89560571582 0.895605701956\n",
      "83 0.895605701956 0.895605689655\n",
      "84 0.895605689655 0.895605678738\n",
      "85 0.895605678738 0.89560566905\n",
      "86 0.89560566905 0.895605660451\n",
      " ----- Now ALS is convergent -----\n",
      "MSE = 0.89560566905\n"
     ]
    }
   ],
   "source": [
    "def errorCheck(ratings, U, T):\n",
    "        num_movies = ratings.shape[0]\n",
    "        num_users = ratings.shape[1]\n",
    "        err =0\n",
    "        n = 0\n",
    "        for movie in range(num_movies):\n",
    "            for user in range(num_users):\n",
    "                err += (ratings[movie, user] - (U[movie]*(V.T)[user].T)[0,0])**2 \n",
    "                n+=1\n",
    "        return np.sqrt(err/n)\n",
    "       \n",
    "        \n",
    "lamda =0.3\n",
    "U = np.mat(movies_features)\n",
    "epsilo = 0.00000001\n",
    "err = 1000\n",
    "for iter in range(100):\n",
    "        # compute movies' features\n",
    "        newV = np.linalg.inv(U.T * U + lamda* np.mat(np.eye(3))) * U.T* ratings\n",
    "        V = newV ## now V is updated\n",
    "        \n",
    "        # compute users features\n",
    "        newU = np.linalg.inv(V * V.T + lamda* np.mat(np.eye(3))).T * V * np.mat(ratings).T\n",
    "        U = newU.T  ## now U is updated\n",
    "        \n",
    "        err_update = errorCheck(ratings, U, V)\n",
    "        print (iter, err, err_update)\n",
    "        if abs ((err-err_update)/err) < epsilo: break\n",
    "        err = err_update\n",
    "\n",
    "print (' ----- Now ALS is convergent -----')     \n",
    "print ('MSE =', err)  "
   ]
  },
  {
   "cell_type": "markdown",
   "metadata": {},
   "source": [
    "Now U and V are convergently computed after 86 iterations. The movie feature matrix U is"
   ]
  },
  {
   "cell_type": "code",
   "execution_count": 268,
   "metadata": {
    "collapsed": false
   },
   "outputs": [
    {
     "name": "stdout",
     "output_type": "stream",
     "text": [
      "[[-0.46 -0.83 -1.83]\n",
      " [-0.22  0.67  1.61]\n",
      " [-2.07 -0.98  0.58]\n",
      " [-1.09 -0.45 -0.27]\n",
      " [-0.71  1.6  -0.6 ]\n",
      " [ 0.82 -1.   -0.33]\n",
      " [-0.83  0.83 -0.16]\n",
      " [-0.99 -1.09 -0.07]\n",
      " [ 0.78  0.51 -0.91]\n",
      " [ 0.43 -1.16  0.71]]\n"
     ]
    }
   ],
   "source": [
    "print (np.around(U,2))"
   ]
  },
  {
   "cell_type": "markdown",
   "metadata": {},
   "source": [
    "The fifth movie has highr rating on the second features than others; meaning it is a romance movie.\n",
    "The V matrix is"
   ]
  },
  {
   "cell_type": "code",
   "execution_count": 269,
   "metadata": {
    "collapsed": false
   },
   "outputs": [
    {
     "name": "stdout",
     "output_type": "stream",
     "text": [
      "[[ 0.6  -0.11 -0.23 -1.24  2.35 -1.37]\n",
      " [ 1.58 -0.8   1.29 -1.98 -0.6   0.51]\n",
      " [-1.06 -0.98 -0.48 -0.58  0.95  2.15]]\n"
     ]
    }
   ],
   "source": [
    "print (np.around(V,2))"
   ]
  },
  {
   "cell_type": "markdown",
   "metadata": {},
   "source": [
    "We can see the first user like romance since the preference is higher than others.\n",
    "So we can predict the first user will give 5-th movie very high-raitng:"
   ]
  },
  {
   "cell_type": "code",
   "execution_count": 270,
   "metadata": {
    "collapsed": false
   },
   "outputs": [
    {
     "name": "stdout",
     "output_type": "stream",
     "text": [
      "[[ 0.37  2.51 -0.09  3.25 -2.31 -3.74]\n",
      " [-0.79 -2.09  0.14 -1.97  0.61  4.1 ]\n",
      " [-3.4   0.43 -1.07  4.17 -3.72  3.59]\n",
      " [-1.08  0.74 -0.21  2.4  -2.54  0.69]\n",
      " [ 2.73 -0.61  2.53 -1.94 -3.2   0.49]\n",
      " [-0.73  1.04 -1.32  1.15  2.21 -2.35]\n",
      " [ 0.98 -0.42  1.34 -0.53 -2.58  1.21]\n",
      " [-2.23  1.05 -1.15  3.43 -1.75  0.65]\n",
      " [ 2.24  0.41  0.92 -1.44  0.65 -2.77]\n",
      " [-2.32  0.18 -1.94  1.35  2.38  0.36]]\n"
     ]
    }
   ],
   "source": [
    "print (np.around(U*V,2))"
   ]
  },
  {
   "cell_type": "code",
   "execution_count": 271,
   "metadata": {
    "collapsed": false
   },
   "outputs": [
    {
     "name": "stdout",
     "output_type": "stream",
     "text": [
      "[[ 0.  2.  1.  4. -2. -4.]\n",
      " [-2. -2.  2. -2.  1.  4.]\n",
      " [-3.  1. -2.  4. -4.  4.]\n",
      " [-3. -0.  3.  3. -2. -0.]\n",
      " [ 3.  0.  3. -2. -3.  1.]\n",
      " [-1.  3. -2.  0.  2. -2.]\n",
      " [ 2. -2.  0.  0. -3.  1.]\n",
      " [-2.  2. -2.  3. -2.  1.]\n",
      " [ 2. -0.  2. -1.  1. -3.]\n",
      " [-2. -2. -1.  3.  3. -0.]]\n"
     ]
    }
   ],
   "source": [
    "print (np.around(ratings))"
   ]
  },
  {
   "cell_type": "markdown",
   "metadata": {},
   "source": [
    "As we see. Now we can use the collaborative filtering to fill the missing data, and recommend new movies to users."
   ]
  }
 ],
 "metadata": {
  "kernelspec": {
   "display_name": "Python 3",
   "language": "python",
   "name": "python3"
  },
  "language_info": {
   "codemirror_mode": {
    "name": "ipython",
    "version": 3
   },
   "file_extension": ".py",
   "mimetype": "text/x-python",
   "name": "python",
   "nbconvert_exporter": "python",
   "pygments_lexer": "ipython3",
   "version": "3.4.3"
  }
 },
 "nbformat": 4,
 "nbformat_minor": 0
}
