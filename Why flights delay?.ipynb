{
 "cells": [
  {
   "cell_type": "markdown",
   "metadata": {},
   "source": [
    "# Why flights delay? \n",
    "\n",
    "\n",
    "## The main point: Classification using Random Forest\n",
    "\n",
    "This note is intended to perform data analysis on the US domestic air traffic between 2004-2007. The data has individual trip information: airlines, which date, what time the flight took off and landed, and take-off and destination airports. Here we will use the random forest model in the sciki-learn library: http://scikit-learn.org/stable/modules/generated/sklearn.ensemble.RandomForestClassifier.html#sklearn.ensemble.RandomForestClassifier to perform classification and identify whether the flight will delay more than 15 mins or not. We will analyze what the most important factor result the flights delay.\n",
    "\n",
    "First we load the data and see what attributes we have:"
   ]
  },
  {
   "cell_type": "code",
   "execution_count": 48,
   "metadata": {
    "collapsed": false
   },
   "outputs": [
    {
     "data": {
      "text/html": [
       "<div>\n",
       "<table border=\"1\" class=\"dataframe\">\n",
       "  <thead>\n",
       "    <tr style=\"text-align: right;\">\n",
       "      <th></th>\n",
       "      <th>Year</th>\n",
       "      <th>Month</th>\n",
       "      <th>DayofMonth</th>\n",
       "      <th>DayOfWeek</th>\n",
       "      <th>DepTime</th>\n",
       "      <th>UniqueCarrier</th>\n",
       "      <th>Origin</th>\n",
       "      <th>Dest</th>\n",
       "      <th>Distance</th>\n",
       "      <th>dep_delayed_15min</th>\n",
       "    </tr>\n",
       "  </thead>\n",
       "  <tbody>\n",
       "    <tr>\n",
       "      <th>0</th>\n",
       "      <td>2006</td>\n",
       "      <td>c-11</td>\n",
       "      <td>c-22</td>\n",
       "      <td>c-3</td>\n",
       "      <td>1316</td>\n",
       "      <td>AA</td>\n",
       "      <td>FAT</td>\n",
       "      <td>DFW</td>\n",
       "      <td>1313</td>\n",
       "      <td>N</td>\n",
       "    </tr>\n",
       "    <tr>\n",
       "      <th>1</th>\n",
       "      <td>2004</td>\n",
       "      <td>c-10</td>\n",
       "      <td>c-12</td>\n",
       "      <td>c-2</td>\n",
       "      <td>1242</td>\n",
       "      <td>US</td>\n",
       "      <td>SAN</td>\n",
       "      <td>PHL</td>\n",
       "      <td>2369</td>\n",
       "      <td>N</td>\n",
       "    </tr>\n",
       "    <tr>\n",
       "      <th>2</th>\n",
       "      <td>2006</td>\n",
       "      <td>c-5</td>\n",
       "      <td>c-5</td>\n",
       "      <td>c-5</td>\n",
       "      <td>1302</td>\n",
       "      <td>OO</td>\n",
       "      <td>SBP</td>\n",
       "      <td>SFO</td>\n",
       "      <td>191</td>\n",
       "      <td>Y</td>\n",
       "    </tr>\n",
       "    <tr>\n",
       "      <th>3</th>\n",
       "      <td>2005</td>\n",
       "      <td>c-8</td>\n",
       "      <td>c-8</td>\n",
       "      <td>c-1</td>\n",
       "      <td>1138</td>\n",
       "      <td>DL</td>\n",
       "      <td>PHL</td>\n",
       "      <td>ATL</td>\n",
       "      <td>665</td>\n",
       "      <td>N</td>\n",
       "    </tr>\n",
       "    <tr>\n",
       "      <th>4</th>\n",
       "      <td>2005</td>\n",
       "      <td>c-4</td>\n",
       "      <td>c-3</td>\n",
       "      <td>c-7</td>\n",
       "      <td>1438</td>\n",
       "      <td>DL</td>\n",
       "      <td>ATL</td>\n",
       "      <td>BDL</td>\n",
       "      <td>859</td>\n",
       "      <td>N</td>\n",
       "    </tr>\n",
       "  </tbody>\n",
       "</table>\n",
       "</div>"
      ],
      "text/plain": [
       "   Year Month DayofMonth DayOfWeek  DepTime UniqueCarrier Origin Dest  \\\n",
       "0  2006  c-11       c-22       c-3     1316            AA    FAT  DFW   \n",
       "1  2004  c-10       c-12       c-2     1242            US    SAN  PHL   \n",
       "2  2006   c-5        c-5       c-5     1302            OO    SBP  SFO   \n",
       "3  2005   c-8        c-8       c-1     1138            DL    PHL  ATL   \n",
       "4  2005   c-4        c-3       c-7     1438            DL    ATL  BDL   \n",
       "\n",
       "   Distance dep_delayed_15min  \n",
       "0      1313                 N  \n",
       "1      2369                 N  \n",
       "2       191                 Y  \n",
       "3       665                 N  \n",
       "4       859                 N  "
      ]
     },
     "execution_count": 48,
     "metadata": {},
     "output_type": "execute_result"
    }
   ],
   "source": [
    "import pandas as pd\n",
    "import numpy as np\n",
    "import random\n",
    "DF = pd.read_csv('data-0.1m.csv')\n",
    "DF.head()"
   ]
  },
  {
   "cell_type": "code",
   "execution_count": 49,
   "metadata": {
    "collapsed": false
   },
   "outputs": [
    {
     "data": {
      "text/html": [
       "<div>\n",
       "<table border=\"1\" class=\"dataframe\">\n",
       "  <thead>\n",
       "    <tr style=\"text-align: right;\">\n",
       "      <th></th>\n",
       "      <th>Year</th>\n",
       "      <th>Month</th>\n",
       "      <th>DayofMonth</th>\n",
       "      <th>DayOfWeek</th>\n",
       "      <th>DepTime</th>\n",
       "      <th>UniqueCarrier</th>\n",
       "      <th>Origin</th>\n",
       "      <th>Dest</th>\n",
       "      <th>Distance</th>\n",
       "      <th>dep_delayed_15min</th>\n",
       "    </tr>\n",
       "  </thead>\n",
       "  <tbody>\n",
       "    <tr>\n",
       "      <th>99995</th>\n",
       "      <td>2005</td>\n",
       "      <td>c-5</td>\n",
       "      <td>c-23</td>\n",
       "      <td>c-1</td>\n",
       "      <td>1730</td>\n",
       "      <td>FL</td>\n",
       "      <td>MLI</td>\n",
       "      <td>ATL</td>\n",
       "      <td>633</td>\n",
       "      <td>N</td>\n",
       "    </tr>\n",
       "    <tr>\n",
       "      <th>99996</th>\n",
       "      <td>2006</td>\n",
       "      <td>c-1</td>\n",
       "      <td>c-23</td>\n",
       "      <td>c-1</td>\n",
       "      <td>1515</td>\n",
       "      <td>AS</td>\n",
       "      <td>FAI</td>\n",
       "      <td>ANC</td>\n",
       "      <td>261</td>\n",
       "      <td>N</td>\n",
       "    </tr>\n",
       "    <tr>\n",
       "      <th>99997</th>\n",
       "      <td>2005</td>\n",
       "      <td>c-6</td>\n",
       "      <td>c-16</td>\n",
       "      <td>c-4</td>\n",
       "      <td>1611</td>\n",
       "      <td>OO</td>\n",
       "      <td>BIL</td>\n",
       "      <td>DEN</td>\n",
       "      <td>455</td>\n",
       "      <td>N</td>\n",
       "    </tr>\n",
       "    <tr>\n",
       "      <th>99998</th>\n",
       "      <td>2005</td>\n",
       "      <td>c-4</td>\n",
       "      <td>c-10</td>\n",
       "      <td>c-7</td>\n",
       "      <td>1229</td>\n",
       "      <td>OO</td>\n",
       "      <td>ORD</td>\n",
       "      <td>CLE</td>\n",
       "      <td>316</td>\n",
       "      <td>Y</td>\n",
       "    </tr>\n",
       "    <tr>\n",
       "      <th>99999</th>\n",
       "      <td>2006</td>\n",
       "      <td>c-8</td>\n",
       "      <td>c-5</td>\n",
       "      <td>c-6</td>\n",
       "      <td>1835</td>\n",
       "      <td>YV</td>\n",
       "      <td>CLT</td>\n",
       "      <td>IAH</td>\n",
       "      <td>913</td>\n",
       "      <td>N</td>\n",
       "    </tr>\n",
       "  </tbody>\n",
       "</table>\n",
       "</div>"
      ],
      "text/plain": [
       "       Year Month DayofMonth DayOfWeek  DepTime UniqueCarrier Origin Dest  \\\n",
       "99995  2005   c-5       c-23       c-1     1730            FL    MLI  ATL   \n",
       "99996  2006   c-1       c-23       c-1     1515            AS    FAI  ANC   \n",
       "99997  2005   c-6       c-16       c-4     1611            OO    BIL  DEN   \n",
       "99998  2005   c-4       c-10       c-7     1229            OO    ORD  CLE   \n",
       "99999  2006   c-8        c-5       c-6     1835            YV    CLT  IAH   \n",
       "\n",
       "       Distance dep_delayed_15min  \n",
       "99995       633                 N  \n",
       "99996       261                 N  \n",
       "99997       455                 N  \n",
       "99998       316                 Y  \n",
       "99999       913                 N  "
      ]
     },
     "execution_count": 49,
     "metadata": {},
     "output_type": "execute_result"
    }
   ],
   "source": [
    "DF.tail()"
   ]
  },
  {
   "cell_type": "code",
   "execution_count": 50,
   "metadata": {
    "collapsed": false
   },
   "outputs": [
    {
     "data": {
      "text/plain": [
       "(100000, 10)"
      ]
     },
     "execution_count": 50,
     "metadata": {},
     "output_type": "execute_result"
    }
   ],
   "source": [
    "DF.shape"
   ]
  },
  {
   "cell_type": "markdown",
   "metadata": {},
   "source": [
    "From above procedures, there are 100,000 observations and 10 attributes. The data date is between 2004-2007."
   ]
  },
  {
   "cell_type": "markdown",
   "metadata": {},
   "source": [
    "## Converting categorical variables as dummy variables\n",
    "\n",
    "In our problem, we try to build a model to classify the binary targets: whether delay or not, so y = 0/1. Prior to model fitting, first we need to convert all category variables to quantitative variables by using dummy variable:"
   ]
  },
  {
   "cell_type": "code",
   "execution_count": 51,
   "metadata": {
    "collapsed": false
   },
   "outputs": [],
   "source": [
    "DF = pd.get_dummies(DF)"
   ]
  },
  {
   "cell_type": "code",
   "execution_count": 52,
   "metadata": {
    "collapsed": false
   },
   "outputs": [
    {
     "data": {
      "text/plain": [
       "(100000, 691)"
      ]
     },
     "execution_count": 52,
     "metadata": {},
     "output_type": "execute_result"
    }
   ],
   "source": [
    "DF.shape"
   ]
  },
  {
   "cell_type": "markdown",
   "metadata": {},
   "source": [
    "Note that now after introducing the dummy variables, there are 691 attributes, rather than 10 features. Now the attributes includ the month, day and airport informations. For example, a flight is on 5/23 Wed from FAT to DFW. The \"Month_c-5\" =1, other =0, \"DayofMonth_c-23\"=0 other DayofMonth_c.. =0; \"Dest_DFW\"=1 and other \"Dest_..\"=0. "
   ]
  },
  {
   "cell_type": "code",
   "execution_count": 45,
   "metadata": {
    "collapsed": false
   },
   "outputs": [
    {
     "data": {
      "text/plain": [
       "Year                     int64\n",
       "DepTime                  int64\n",
       "Distance                 int64\n",
       "Month_c-1              float64\n",
       "Month_c-10             float64\n",
       "Month_c-11             float64\n",
       "Month_c-12             float64\n",
       "Month_c-2              float64\n",
       "Month_c-3              float64\n",
       "Month_c-4              float64\n",
       "Month_c-5              float64\n",
       "Month_c-6              float64\n",
       "Month_c-7              float64\n",
       "Month_c-8              float64\n",
       "Month_c-9              float64\n",
       "DayofMonth_c-1         float64\n",
       "DayofMonth_c-10        float64\n",
       "DayofMonth_c-11        float64\n",
       "DayofMonth_c-12        float64\n",
       "DayofMonth_c-13        float64\n",
       "DayofMonth_c-14        float64\n",
       "DayofMonth_c-15        float64\n",
       "DayofMonth_c-16        float64\n",
       "DayofMonth_c-17        float64\n",
       "DayofMonth_c-18        float64\n",
       "DayofMonth_c-19        float64\n",
       "DayofMonth_c-2         float64\n",
       "DayofMonth_c-20        float64\n",
       "DayofMonth_c-21        float64\n",
       "DayofMonth_c-22        float64\n",
       "                        ...   \n",
       "Dest_STT               float64\n",
       "Dest_STX               float64\n",
       "Dest_SUN               float64\n",
       "Dest_SWF               float64\n",
       "Dest_SYR               float64\n",
       "Dest_TEX               float64\n",
       "Dest_TLH               float64\n",
       "Dest_TOL               float64\n",
       "Dest_TPA               float64\n",
       "Dest_TRI               float64\n",
       "Dest_TUL               float64\n",
       "Dest_TUP               float64\n",
       "Dest_TUS               float64\n",
       "Dest_TVC               float64\n",
       "Dest_TWF               float64\n",
       "Dest_TXK               float64\n",
       "Dest_TYR               float64\n",
       "Dest_TYS               float64\n",
       "Dest_VCT               float64\n",
       "Dest_VIS               float64\n",
       "Dest_VLD               float64\n",
       "Dest_VPS               float64\n",
       "Dest_WRG               float64\n",
       "Dest_WYS               float64\n",
       "Dest_XNA               float64\n",
       "Dest_YAK               float64\n",
       "Dest_YKM               float64\n",
       "Dest_YUM               float64\n",
       "dep_delayed_15min_N    float64\n",
       "dep_delayed_15min_Y    float64\n",
       "dtype: object"
      ]
     },
     "execution_count": 45,
     "metadata": {},
     "output_type": "execute_result"
    }
   ],
   "source": [
    "DF.dtypes"
   ]
  },
  {
   "cell_type": "markdown",
   "metadata": {},
   "source": [
    "## Preparing cross-validation dataset\n",
    "\n",
    "Next step we filter out the 2007 data as the cross-validaiton dataset. And others are used to be the training and test datasets."
   ]
  },
  {
   "cell_type": "code",
   "execution_count": 55,
   "metadata": {
    "collapsed": false,
    "scrolled": true
   },
   "outputs": [
    {
     "data": {
      "text/html": [
       "<div>\n",
       "<table border=\"1\" class=\"dataframe\">\n",
       "  <thead>\n",
       "    <tr style=\"text-align: right;\">\n",
       "      <th></th>\n",
       "      <th>Year</th>\n",
       "      <th>DepTime</th>\n",
       "      <th>Distance</th>\n",
       "      <th>Month_c-1</th>\n",
       "      <th>Month_c-10</th>\n",
       "      <th>Month_c-11</th>\n",
       "      <th>Month_c-12</th>\n",
       "      <th>Month_c-2</th>\n",
       "      <th>Month_c-3</th>\n",
       "      <th>Month_c-4</th>\n",
       "      <th>...</th>\n",
       "      <th>Dest_VLD</th>\n",
       "      <th>Dest_VPS</th>\n",
       "      <th>Dest_WRG</th>\n",
       "      <th>Dest_WYS</th>\n",
       "      <th>Dest_XNA</th>\n",
       "      <th>Dest_YAK</th>\n",
       "      <th>Dest_YKM</th>\n",
       "      <th>Dest_YUM</th>\n",
       "      <th>dep_delayed_15min_N</th>\n",
       "      <th>dep_delayed_15min_Y</th>\n",
       "    </tr>\n",
       "  </thead>\n",
       "  <tbody>\n",
       "    <tr>\n",
       "      <th>7</th>\n",
       "      <td>2007</td>\n",
       "      <td>1839</td>\n",
       "      <td>479</td>\n",
       "      <td>0</td>\n",
       "      <td>0</td>\n",
       "      <td>0</td>\n",
       "      <td>0</td>\n",
       "      <td>0</td>\n",
       "      <td>0</td>\n",
       "      <td>0</td>\n",
       "      <td>...</td>\n",
       "      <td>0</td>\n",
       "      <td>0</td>\n",
       "      <td>0</td>\n",
       "      <td>0</td>\n",
       "      <td>0</td>\n",
       "      <td>0</td>\n",
       "      <td>0</td>\n",
       "      <td>0</td>\n",
       "      <td>0</td>\n",
       "      <td>1</td>\n",
       "    </tr>\n",
       "    <tr>\n",
       "      <th>10</th>\n",
       "      <td>2007</td>\n",
       "      <td>2115</td>\n",
       "      <td>630</td>\n",
       "      <td>0</td>\n",
       "      <td>0</td>\n",
       "      <td>0</td>\n",
       "      <td>0</td>\n",
       "      <td>0</td>\n",
       "      <td>0</td>\n",
       "      <td>0</td>\n",
       "      <td>...</td>\n",
       "      <td>0</td>\n",
       "      <td>0</td>\n",
       "      <td>0</td>\n",
       "      <td>0</td>\n",
       "      <td>0</td>\n",
       "      <td>0</td>\n",
       "      <td>0</td>\n",
       "      <td>0</td>\n",
       "      <td>1</td>\n",
       "      <td>0</td>\n",
       "    </tr>\n",
       "    <tr>\n",
       "      <th>11</th>\n",
       "      <td>2007</td>\n",
       "      <td>757</td>\n",
       "      <td>1608</td>\n",
       "      <td>0</td>\n",
       "      <td>0</td>\n",
       "      <td>0</td>\n",
       "      <td>0</td>\n",
       "      <td>0</td>\n",
       "      <td>0</td>\n",
       "      <td>1</td>\n",
       "      <td>...</td>\n",
       "      <td>0</td>\n",
       "      <td>0</td>\n",
       "      <td>0</td>\n",
       "      <td>0</td>\n",
       "      <td>0</td>\n",
       "      <td>0</td>\n",
       "      <td>0</td>\n",
       "      <td>0</td>\n",
       "      <td>1</td>\n",
       "      <td>0</td>\n",
       "    </tr>\n",
       "    <tr>\n",
       "      <th>21</th>\n",
       "      <td>2007</td>\n",
       "      <td>556</td>\n",
       "      <td>668</td>\n",
       "      <td>0</td>\n",
       "      <td>0</td>\n",
       "      <td>0</td>\n",
       "      <td>0</td>\n",
       "      <td>0</td>\n",
       "      <td>1</td>\n",
       "      <td>0</td>\n",
       "      <td>...</td>\n",
       "      <td>0</td>\n",
       "      <td>0</td>\n",
       "      <td>0</td>\n",
       "      <td>0</td>\n",
       "      <td>0</td>\n",
       "      <td>0</td>\n",
       "      <td>0</td>\n",
       "      <td>0</td>\n",
       "      <td>1</td>\n",
       "      <td>0</td>\n",
       "    </tr>\n",
       "    <tr>\n",
       "      <th>24</th>\n",
       "      <td>2007</td>\n",
       "      <td>632</td>\n",
       "      <td>1034</td>\n",
       "      <td>0</td>\n",
       "      <td>0</td>\n",
       "      <td>0</td>\n",
       "      <td>1</td>\n",
       "      <td>0</td>\n",
       "      <td>0</td>\n",
       "      <td>0</td>\n",
       "      <td>...</td>\n",
       "      <td>0</td>\n",
       "      <td>0</td>\n",
       "      <td>0</td>\n",
       "      <td>0</td>\n",
       "      <td>0</td>\n",
       "      <td>0</td>\n",
       "      <td>0</td>\n",
       "      <td>0</td>\n",
       "      <td>1</td>\n",
       "      <td>0</td>\n",
       "    </tr>\n",
       "  </tbody>\n",
       "</table>\n",
       "<p>5 rows × 691 columns</p>\n",
       "</div>"
      ],
      "text/plain": [
       "    Year  DepTime  Distance  Month_c-1  Month_c-10  Month_c-11  Month_c-12  \\\n",
       "7   2007     1839       479          0           0           0           0   \n",
       "10  2007     2115       630          0           0           0           0   \n",
       "11  2007      757      1608          0           0           0           0   \n",
       "21  2007      556       668          0           0           0           0   \n",
       "24  2007      632      1034          0           0           0           1   \n",
       "\n",
       "    Month_c-2  Month_c-3  Month_c-4         ...           Dest_VLD  Dest_VPS  \\\n",
       "7           0          0          0         ...                  0         0   \n",
       "10          0          0          0         ...                  0         0   \n",
       "11          0          0          1         ...                  0         0   \n",
       "21          0          1          0         ...                  0         0   \n",
       "24          0          0          0         ...                  0         0   \n",
       "\n",
       "    Dest_WRG  Dest_WYS  Dest_XNA  Dest_YAK  Dest_YKM  Dest_YUM  \\\n",
       "7          0         0         0         0         0         0   \n",
       "10         0         0         0         0         0         0   \n",
       "11         0         0         0         0         0         0   \n",
       "21         0         0         0         0         0         0   \n",
       "24         0         0         0         0         0         0   \n",
       "\n",
       "    dep_delayed_15min_N  dep_delayed_15min_Y  \n",
       "7                     0                    1  \n",
       "10                    1                    0  \n",
       "11                    1                    0  \n",
       "21                    1                    0  \n",
       "24                    1                    0  \n",
       "\n",
       "[5 rows x 691 columns]"
      ]
     },
     "execution_count": 55,
     "metadata": {},
     "output_type": "execute_result"
    }
   ],
   "source": [
    "DF_val = DF[DF.Year == 2007]\n",
    "DF_val.head()"
   ]
  },
  {
   "cell_type": "code",
   "execution_count": 60,
   "metadata": {
    "collapsed": false
   },
   "outputs": [
    {
     "data": {
      "text/plain": [
       "(25719, 691)"
      ]
     },
     "execution_count": 60,
     "metadata": {},
     "output_type": "execute_result"
    }
   ],
   "source": [
    "DF_val.shape"
   ]
  },
  {
   "cell_type": "markdown",
   "metadata": {},
   "source": [
    "## Preparing non cross-validation data"
   ]
  },
  {
   "cell_type": "code",
   "execution_count": 56,
   "metadata": {
    "collapsed": true
   },
   "outputs": [],
   "source": [
    "#a = [random.randint(0, 100000) for x in range(10000)]\n",
    "#sample = DF.iloc[a,:]\n",
    "DF = DF[DF.Year != 2007]"
   ]
  },
  {
   "cell_type": "code",
   "execution_count": 57,
   "metadata": {
    "collapsed": false
   },
   "outputs": [
    {
     "data": {
      "text/plain": [
       "(74281, 691)"
      ]
     },
     "execution_count": 57,
     "metadata": {},
     "output_type": "execute_result"
    }
   ],
   "source": [
    "DF.shape"
   ]
  },
  {
   "cell_type": "code",
   "execution_count": 58,
   "metadata": {
    "collapsed": false
   },
   "outputs": [
    {
     "data": {
      "text/html": [
       "<div>\n",
       "<table border=\"1\" class=\"dataframe\">\n",
       "  <thead>\n",
       "    <tr style=\"text-align: right;\">\n",
       "      <th></th>\n",
       "      <th>Year</th>\n",
       "      <th>DepTime</th>\n",
       "      <th>Distance</th>\n",
       "      <th>Month_c-1</th>\n",
       "      <th>Month_c-10</th>\n",
       "      <th>Month_c-11</th>\n",
       "      <th>Month_c-12</th>\n",
       "      <th>Month_c-2</th>\n",
       "      <th>Month_c-3</th>\n",
       "      <th>Month_c-4</th>\n",
       "      <th>...</th>\n",
       "      <th>Dest_VLD</th>\n",
       "      <th>Dest_VPS</th>\n",
       "      <th>Dest_WRG</th>\n",
       "      <th>Dest_WYS</th>\n",
       "      <th>Dest_XNA</th>\n",
       "      <th>Dest_YAK</th>\n",
       "      <th>Dest_YKM</th>\n",
       "      <th>Dest_YUM</th>\n",
       "      <th>dep_delayed_15min_N</th>\n",
       "      <th>dep_delayed_15min_Y</th>\n",
       "    </tr>\n",
       "  </thead>\n",
       "  <tbody>\n",
       "    <tr>\n",
       "      <th>65517</th>\n",
       "      <td>2005</td>\n",
       "      <td>1639</td>\n",
       "      <td>838</td>\n",
       "      <td>0</td>\n",
       "      <td>0</td>\n",
       "      <td>0</td>\n",
       "      <td>0</td>\n",
       "      <td>0</td>\n",
       "      <td>0</td>\n",
       "      <td>0</td>\n",
       "      <td>...</td>\n",
       "      <td>0</td>\n",
       "      <td>0</td>\n",
       "      <td>0</td>\n",
       "      <td>0</td>\n",
       "      <td>0</td>\n",
       "      <td>0</td>\n",
       "      <td>0</td>\n",
       "      <td>0</td>\n",
       "      <td>1</td>\n",
       "      <td>0</td>\n",
       "    </tr>\n",
       "    <tr>\n",
       "      <th>98268</th>\n",
       "      <td>2006</td>\n",
       "      <td>644</td>\n",
       "      <td>1726</td>\n",
       "      <td>0</td>\n",
       "      <td>0</td>\n",
       "      <td>1</td>\n",
       "      <td>0</td>\n",
       "      <td>0</td>\n",
       "      <td>0</td>\n",
       "      <td>0</td>\n",
       "      <td>...</td>\n",
       "      <td>0</td>\n",
       "      <td>0</td>\n",
       "      <td>0</td>\n",
       "      <td>0</td>\n",
       "      <td>0</td>\n",
       "      <td>0</td>\n",
       "      <td>0</td>\n",
       "      <td>0</td>\n",
       "      <td>1</td>\n",
       "      <td>0</td>\n",
       "    </tr>\n",
       "    <tr>\n",
       "      <th>73711</th>\n",
       "      <td>2006</td>\n",
       "      <td>812</td>\n",
       "      <td>197</td>\n",
       "      <td>0</td>\n",
       "      <td>0</td>\n",
       "      <td>1</td>\n",
       "      <td>0</td>\n",
       "      <td>0</td>\n",
       "      <td>0</td>\n",
       "      <td>0</td>\n",
       "      <td>...</td>\n",
       "      <td>0</td>\n",
       "      <td>0</td>\n",
       "      <td>0</td>\n",
       "      <td>0</td>\n",
       "      <td>0</td>\n",
       "      <td>0</td>\n",
       "      <td>0</td>\n",
       "      <td>0</td>\n",
       "      <td>1</td>\n",
       "      <td>0</td>\n",
       "    </tr>\n",
       "    <tr>\n",
       "      <th>13428</th>\n",
       "      <td>2004</td>\n",
       "      <td>1502</td>\n",
       "      <td>980</td>\n",
       "      <td>0</td>\n",
       "      <td>0</td>\n",
       "      <td>0</td>\n",
       "      <td>0</td>\n",
       "      <td>0</td>\n",
       "      <td>0</td>\n",
       "      <td>0</td>\n",
       "      <td>...</td>\n",
       "      <td>0</td>\n",
       "      <td>0</td>\n",
       "      <td>0</td>\n",
       "      <td>0</td>\n",
       "      <td>0</td>\n",
       "      <td>0</td>\n",
       "      <td>0</td>\n",
       "      <td>0</td>\n",
       "      <td>1</td>\n",
       "      <td>0</td>\n",
       "    </tr>\n",
       "    <tr>\n",
       "      <th>8071</th>\n",
       "      <td>2004</td>\n",
       "      <td>1145</td>\n",
       "      <td>1723</td>\n",
       "      <td>0</td>\n",
       "      <td>0</td>\n",
       "      <td>0</td>\n",
       "      <td>0</td>\n",
       "      <td>0</td>\n",
       "      <td>0</td>\n",
       "      <td>0</td>\n",
       "      <td>...</td>\n",
       "      <td>0</td>\n",
       "      <td>0</td>\n",
       "      <td>0</td>\n",
       "      <td>0</td>\n",
       "      <td>0</td>\n",
       "      <td>0</td>\n",
       "      <td>0</td>\n",
       "      <td>0</td>\n",
       "      <td>1</td>\n",
       "      <td>0</td>\n",
       "    </tr>\n",
       "  </tbody>\n",
       "</table>\n",
       "<p>5 rows × 691 columns</p>\n",
       "</div>"
      ],
      "text/plain": [
       "       Year  DepTime  Distance  Month_c-1  Month_c-10  Month_c-11  Month_c-12  \\\n",
       "65517  2005     1639       838          0           0           0           0   \n",
       "98268  2006      644      1726          0           0           1           0   \n",
       "73711  2006      812       197          0           0           1           0   \n",
       "13428  2004     1502       980          0           0           0           0   \n",
       "8071   2004     1145      1723          0           0           0           0   \n",
       "\n",
       "       Month_c-2  Month_c-3  Month_c-4         ...           Dest_VLD  \\\n",
       "65517          0          0          0         ...                  0   \n",
       "98268          0          0          0         ...                  0   \n",
       "73711          0          0          0         ...                  0   \n",
       "13428          0          0          0         ...                  0   \n",
       "8071           0          0          0         ...                  0   \n",
       "\n",
       "       Dest_VPS  Dest_WRG  Dest_WYS  Dest_XNA  Dest_YAK  Dest_YKM  Dest_YUM  \\\n",
       "65517         0         0         0         0         0         0         0   \n",
       "98268         0         0         0         0         0         0         0   \n",
       "73711         0         0         0         0         0         0         0   \n",
       "13428         0         0         0         0         0         0         0   \n",
       "8071          0         0         0         0         0         0         0   \n",
       "\n",
       "       dep_delayed_15min_N  dep_delayed_15min_Y  \n",
       "65517                    1                    0  \n",
       "98268                    1                    0  \n",
       "73711                    1                    0  \n",
       "13428                    1                    0  \n",
       "8071                     1                    0  \n",
       "\n",
       "[5 rows x 691 columns]"
      ]
     },
     "execution_count": 58,
     "metadata": {},
     "output_type": "execute_result"
    }
   ],
   "source": [
    "#sample = DF.sample(frac =0.1)\n",
    "sample = DF.sample(frac =1)\n",
    "sample.head()"
   ]
  },
  {
   "cell_type": "code",
   "execution_count": 61,
   "metadata": {
    "collapsed": false
   },
   "outputs": [
    {
     "data": {
      "text/plain": [
       "(74281, 691)"
      ]
     },
     "execution_count": 61,
     "metadata": {},
     "output_type": "execute_result"
    }
   ],
   "source": [
    "sample.shape"
   ]
  },
  {
   "cell_type": "code",
   "execution_count": 62,
   "metadata": {
    "collapsed": false
   },
   "outputs": [
    {
     "data": {
      "text/html": [
       "<div>\n",
       "<table border=\"1\" class=\"dataframe\">\n",
       "  <thead>\n",
       "    <tr style=\"text-align: right;\">\n",
       "      <th></th>\n",
       "      <th>Year</th>\n",
       "      <th>DepTime</th>\n",
       "      <th>Distance</th>\n",
       "      <th>Month_c-1</th>\n",
       "      <th>Month_c-10</th>\n",
       "      <th>Month_c-11</th>\n",
       "      <th>Month_c-12</th>\n",
       "      <th>Month_c-2</th>\n",
       "      <th>Month_c-3</th>\n",
       "      <th>Month_c-4</th>\n",
       "      <th>...</th>\n",
       "      <th>Dest_VCT</th>\n",
       "      <th>Dest_VIS</th>\n",
       "      <th>Dest_VLD</th>\n",
       "      <th>Dest_VPS</th>\n",
       "      <th>Dest_WRG</th>\n",
       "      <th>Dest_WYS</th>\n",
       "      <th>Dest_XNA</th>\n",
       "      <th>Dest_YAK</th>\n",
       "      <th>Dest_YKM</th>\n",
       "      <th>Dest_YUM</th>\n",
       "    </tr>\n",
       "  </thead>\n",
       "  <tbody>\n",
       "    <tr>\n",
       "      <th>65517</th>\n",
       "      <td>2005</td>\n",
       "      <td>1639</td>\n",
       "      <td>838</td>\n",
       "      <td>0</td>\n",
       "      <td>0</td>\n",
       "      <td>0</td>\n",
       "      <td>0</td>\n",
       "      <td>0</td>\n",
       "      <td>0</td>\n",
       "      <td>0</td>\n",
       "      <td>...</td>\n",
       "      <td>0</td>\n",
       "      <td>0</td>\n",
       "      <td>0</td>\n",
       "      <td>0</td>\n",
       "      <td>0</td>\n",
       "      <td>0</td>\n",
       "      <td>0</td>\n",
       "      <td>0</td>\n",
       "      <td>0</td>\n",
       "      <td>0</td>\n",
       "    </tr>\n",
       "    <tr>\n",
       "      <th>98268</th>\n",
       "      <td>2006</td>\n",
       "      <td>644</td>\n",
       "      <td>1726</td>\n",
       "      <td>0</td>\n",
       "      <td>0</td>\n",
       "      <td>1</td>\n",
       "      <td>0</td>\n",
       "      <td>0</td>\n",
       "      <td>0</td>\n",
       "      <td>0</td>\n",
       "      <td>...</td>\n",
       "      <td>0</td>\n",
       "      <td>0</td>\n",
       "      <td>0</td>\n",
       "      <td>0</td>\n",
       "      <td>0</td>\n",
       "      <td>0</td>\n",
       "      <td>0</td>\n",
       "      <td>0</td>\n",
       "      <td>0</td>\n",
       "      <td>0</td>\n",
       "    </tr>\n",
       "    <tr>\n",
       "      <th>73711</th>\n",
       "      <td>2006</td>\n",
       "      <td>812</td>\n",
       "      <td>197</td>\n",
       "      <td>0</td>\n",
       "      <td>0</td>\n",
       "      <td>1</td>\n",
       "      <td>0</td>\n",
       "      <td>0</td>\n",
       "      <td>0</td>\n",
       "      <td>0</td>\n",
       "      <td>...</td>\n",
       "      <td>0</td>\n",
       "      <td>0</td>\n",
       "      <td>0</td>\n",
       "      <td>0</td>\n",
       "      <td>0</td>\n",
       "      <td>0</td>\n",
       "      <td>0</td>\n",
       "      <td>0</td>\n",
       "      <td>0</td>\n",
       "      <td>0</td>\n",
       "    </tr>\n",
       "    <tr>\n",
       "      <th>13428</th>\n",
       "      <td>2004</td>\n",
       "      <td>1502</td>\n",
       "      <td>980</td>\n",
       "      <td>0</td>\n",
       "      <td>0</td>\n",
       "      <td>0</td>\n",
       "      <td>0</td>\n",
       "      <td>0</td>\n",
       "      <td>0</td>\n",
       "      <td>0</td>\n",
       "      <td>...</td>\n",
       "      <td>0</td>\n",
       "      <td>0</td>\n",
       "      <td>0</td>\n",
       "      <td>0</td>\n",
       "      <td>0</td>\n",
       "      <td>0</td>\n",
       "      <td>0</td>\n",
       "      <td>0</td>\n",
       "      <td>0</td>\n",
       "      <td>0</td>\n",
       "    </tr>\n",
       "    <tr>\n",
       "      <th>8071</th>\n",
       "      <td>2004</td>\n",
       "      <td>1145</td>\n",
       "      <td>1723</td>\n",
       "      <td>0</td>\n",
       "      <td>0</td>\n",
       "      <td>0</td>\n",
       "      <td>0</td>\n",
       "      <td>0</td>\n",
       "      <td>0</td>\n",
       "      <td>0</td>\n",
       "      <td>...</td>\n",
       "      <td>0</td>\n",
       "      <td>0</td>\n",
       "      <td>0</td>\n",
       "      <td>0</td>\n",
       "      <td>0</td>\n",
       "      <td>0</td>\n",
       "      <td>0</td>\n",
       "      <td>0</td>\n",
       "      <td>0</td>\n",
       "      <td>0</td>\n",
       "    </tr>\n",
       "  </tbody>\n",
       "</table>\n",
       "<p>5 rows × 689 columns</p>\n",
       "</div>"
      ],
      "text/plain": [
       "       Year  DepTime  Distance  Month_c-1  Month_c-10  Month_c-11  Month_c-12  \\\n",
       "65517  2005     1639       838          0           0           0           0   \n",
       "98268  2006      644      1726          0           0           1           0   \n",
       "73711  2006      812       197          0           0           1           0   \n",
       "13428  2004     1502       980          0           0           0           0   \n",
       "8071   2004     1145      1723          0           0           0           0   \n",
       "\n",
       "       Month_c-2  Month_c-3  Month_c-4    ...     Dest_VCT  Dest_VIS  \\\n",
       "65517          0          0          0    ...            0         0   \n",
       "98268          0          0          0    ...            0         0   \n",
       "73711          0          0          0    ...            0         0   \n",
       "13428          0          0          0    ...            0         0   \n",
       "8071           0          0          0    ...            0         0   \n",
       "\n",
       "       Dest_VLD  Dest_VPS  Dest_WRG  Dest_WYS  Dest_XNA  Dest_YAK  Dest_YKM  \\\n",
       "65517         0         0         0         0         0         0         0   \n",
       "98268         0         0         0         0         0         0         0   \n",
       "73711         0         0         0         0         0         0         0   \n",
       "13428         0         0         0         0         0         0         0   \n",
       "8071          0         0         0         0         0         0         0   \n",
       "\n",
       "       Dest_YUM  \n",
       "65517         0  \n",
       "98268         0  \n",
       "73711         0  \n",
       "13428         0  \n",
       "8071          0  \n",
       "\n",
       "[5 rows x 689 columns]"
      ]
     },
     "execution_count": 62,
     "metadata": {},
     "output_type": "execute_result"
    }
   ],
   "source": [
    "X = sample.loc[:,'Year':'Dest_YUM']\n",
    "X.head()"
   ]
  },
  {
   "cell_type": "code",
   "execution_count": 63,
   "metadata": {
    "collapsed": false
   },
   "outputs": [
    {
     "data": {
      "text/plain": [
       "65517    0\n",
       "98268    0\n",
       "73711    0\n",
       "13428    0\n",
       "8071     0\n",
       "Name: dep_delayed_15min_Y, dtype: float64"
      ]
     },
     "execution_count": 63,
     "metadata": {},
     "output_type": "execute_result"
    }
   ],
   "source": [
    "Y = sample.loc[:,'dep_delayed_15min_Y']\n",
    "Y.head()"
   ]
  },
  {
   "cell_type": "markdown",
   "metadata": {},
   "source": [
    "## Setting up training and test datasets"
   ]
  },
  {
   "cell_type": "code",
   "execution_count": 64,
   "metadata": {
    "collapsed": false
   },
   "outputs": [
    {
     "data": {
      "text/plain": [
       "(49768, 689)"
      ]
     },
     "execution_count": 64,
     "metadata": {},
     "output_type": "execute_result"
    }
   ],
   "source": [
    "from sklearn.cross_validation import train_test_split\n",
    "X_train, X_test, Y_train, Y_test = train_test_split(X, Y, test_size=0.33)\n",
    "X_train.shape"
   ]
  },
  {
   "cell_type": "code",
   "execution_count": 65,
   "metadata": {
    "collapsed": false
   },
   "outputs": [
    {
     "data": {
      "text/plain": [
       "(24513, 689)"
      ]
     },
     "execution_count": 65,
     "metadata": {},
     "output_type": "execute_result"
    }
   ],
   "source": [
    "X_test.shape"
   ]
  },
  {
   "cell_type": "markdown",
   "metadata": {},
   "source": [
    "## Implementing the random forest classifier\n",
    "\n",
    "In the following, we use the training dataset to train the random forest model. We first tentatively consider 4 estimators:"
   ]
  },
  {
   "cell_type": "code",
   "execution_count": 66,
   "metadata": {
    "collapsed": false
   },
   "outputs": [
    {
     "data": {
      "text/plain": [
       "RandomForestClassifier(bootstrap=True, class_weight=None, criterion='gini',\n",
       "            max_depth=None, max_features='auto', max_leaf_nodes=None,\n",
       "            min_samples_leaf=1, min_samples_split=2,\n",
       "            min_weight_fraction_leaf=0.0, n_estimators=4, n_jobs=1,\n",
       "            oob_score=False, random_state=None, verbose=0,\n",
       "            warm_start=False)"
      ]
     },
     "execution_count": 66,
     "metadata": {},
     "output_type": "execute_result"
    }
   ],
   "source": [
    "from sklearn.ensemble import RandomForestClassifier\n",
    "from sklearn.calibration import CalibratedClassifierCV\n",
    "from sklearn.metrics import log_loss\n",
    "\n",
    "clf = RandomForestClassifier(n_estimators=4)\n",
    "clf.fit(X_train, Y_train)"
   ]
  },
  {
   "cell_type": "code",
   "execution_count": 67,
   "metadata": {
    "collapsed": false
   },
   "outputs": [],
   "source": [
    "Y_train_prob = clf.predict_proba(X_train)\n",
    "Y_test_prob = clf.predict_proba(X_test)"
   ]
  },
  {
   "cell_type": "code",
   "execution_count": 68,
   "metadata": {
    "collapsed": false
   },
   "outputs": [],
   "source": [
    "from sklearn import metrics, cross_validation\n",
    "import matplotlib.pyplot as plt\n",
    "import matplotlib.lines as mlines\n",
    "import seaborn as sns\n",
    "sns.set_context(\"notebook\", font_scale=1.5,rc={\"lines.linewidth\": 3})\n",
    "%matplotlib inline\n",
    "\n",
    "fpr_train, tpr_train, _ = metrics.roc_curve(Y_train,Y_train_prob[:,1])\n",
    "roc_auc_train = metrics.auc(fpr_train, tpr_train)"
   ]
  },
  {
   "cell_type": "code",
   "execution_count": 69,
   "metadata": {
    "collapsed": false
   },
   "outputs": [
    {
     "data": {
      "text/plain": [
       "array([ 0.,  0.,  0., ...,  0.,  0.,  0.])"
      ]
     },
     "execution_count": 69,
     "metadata": {},
     "output_type": "execute_result"
    }
   ],
   "source": [
    "Y_train_prob[:,1]"
   ]
  },
  {
   "cell_type": "code",
   "execution_count": 70,
   "metadata": {
    "collapsed": true
   },
   "outputs": [],
   "source": [
    "fpr_test, tpr_test, _ = metrics.roc_curve(Y_test,Y_test_prob[:,1])\n",
    "roc_auc_test = metrics.auc(fpr_test, tpr_test)"
   ]
  },
  {
   "cell_type": "code",
   "execution_count": 71,
   "metadata": {
    "collapsed": false
   },
   "outputs": [],
   "source": [
    "X_val = DF_val.loc[:,'Year':'Dest_YUM']\n",
    "Y_val = DF_val.loc[:,'dep_delayed_15min_Y']\n",
    "Y_val_prob = clf.predict_proba(X_val)\n",
    "fpr_val, tpr_val, _ = metrics.roc_curve(Y_val,Y_val_prob[:,1])\n",
    "roc_auc_val = metrics.auc(fpr_val, tpr_val)"
   ]
  },
  {
   "cell_type": "markdown",
   "metadata": {},
   "source": [
    "Next we should visualize how good our model does. The function \"ROCplot\" is defined to make ROC plot:"
   ]
  },
  {
   "cell_type": "code",
   "execution_count": 72,
   "metadata": {
    "collapsed": false
   },
   "outputs": [],
   "source": [
    "def ROCplot(fpr_train, tpr_train, fpr_test, tpr_test, fpr_val, tpr_val):\n",
    "    plt.figure(figsize=(8,6))\n",
    "    plt.plot(fpr_train, tpr_train, color = 'r')\n",
    "    plt.plot(fpr_test, tpr_test, color = 'g')\n",
    "    plt.plot(fpr_val, tpr_val, color = 'b')\n",
    "    plt.plot([0, 1], [0, 1], 'k--')\n",
    "    plt.xlim([0.0, 1.0])\n",
    "    plt.ylim([0.0, 1.0])\n",
    "    plt.xlabel('False Positive Rate')\n",
    "    plt.ylabel('True Positive Rate')\n",
    "    plt.title('Model threshold')\n",
    "    green_line = mlines.Line2D([], [], color='green', label='ROC test (area = %0.2f)' % np.mean(roc_auc_test))\n",
    "    red_line = mlines.Line2D([], [], color='red', label='ROC train (area = %0.2f)' % roc_auc_train)\n",
    "    blue_line = mlines.Line2D([], [], color='blue', label='ROC val (area = %0.2f)' % roc_auc_val)\n",
    "    plt.legend(handles=[red_line, green_line, blue_line],loc=\"lower right\")\n",
    "    #plt.savefig('ROC_overfit.pdf')"
   ]
  },
  {
   "cell_type": "markdown",
   "metadata": {},
   "source": [
    "## Overfitting issue"
   ]
  },
  {
   "cell_type": "code",
   "execution_count": 73,
   "metadata": {
    "collapsed": false
   },
   "outputs": [
    {
     "data": {
      "image/png": "[encoded data removed]",
      "text/plain": [
       "<matplotlib.figure.Figure at 0x104210160>"
      ]
     },
     "metadata": {},
     "output_type": "display_data"
    }
   ],
   "source": [
    "ROCplot(fpr_train, tpr_train, fpr_test, tpr_test, fpr_val, tpr_val)"
   ]
  },
  {
   "cell_type": "markdown",
   "metadata": {},
   "source": [
    "From the ROC plot, we can see the model has been overfitting, even though we only consider 4 estimators. The training set shows very good performance, but the test and CV sets indicate poor performance. This is a common issue for an overfitting model. To fix this issue, we need to consider other more systematic ways to find the best estimators without overfitting."
   ]
  },
  {
   "cell_type": "markdown",
   "metadata": {},
   "source": [
    "## Grid Search\n",
    "\n",
    "Here we will do grid search. We can choose the number of estimators, and maximal depth, and minimal number of leaf of each tree. We examine all parameter and fit the model to select the best one."
   ]
  },
  {
   "cell_type": "code",
   "execution_count": 76,
   "metadata": {
    "collapsed": true
   },
   "outputs": [],
   "source": [
    "sample = DF.sample(frac =0.2)\n",
    "X = sample.loc[:,'Year':'Dest_YUM']\n",
    "Y = sample.loc[:,'dep_delayed_15min_Y']\n",
    "X_train, X_test, Y_train, Y_test = train_test_split(X, Y, test_size=0.33)"
   ]
  },
  {
   "cell_type": "markdown",
   "metadata": {},
   "source": [
    "But here instead doing the grid search using the entire training set (which is large), we can only randomly choose 20% of the all dataset to speed up the grid search. Next step is doing the grid search:"
   ]
  },
  {
   "cell_type": "code",
   "execution_count": 77,
   "metadata": {
    "collapsed": false
   },
   "outputs": [
    {
     "name": "stdout",
     "output_type": "stream",
     "text": [
      "Fitting 3 folds for each of 45 candidates, totalling 135 fits\n"
     ]
    },
    {
     "name": "stderr",
     "output_type": "stream",
     "text": [
      "[Parallel(n_jobs=-1)]: Done   1 jobs       | elapsed:    1.0s\n",
      "[Parallel(n_jobs=-1)]: Done  41 jobs       | elapsed:  1.8min\n",
      "[Parallel(n_jobs=-1)]: Done 129 out of 135 | elapsed:  6.1min remaining:   17.0s\n",
      "[Parallel(n_jobs=-1)]: Done 135 out of 135 | elapsed:  6.4min finished\n"
     ]
    },
    {
     "name": "stdout",
     "output_type": "stream",
     "text": [
      "[CV] min_samples_leaf=10, n_estimators=10, max_depth=5 ...............\n",
      "[CV] min_samples_leaf=10, n_estimators=10, max_depth=5 ...............\n",
      "[CV] min_samples_leaf=10, n_estimators=10, max_depth=5 ...............\n",
      "[CV] min_samples_leaf=10, n_estimators=20, max_depth=5 ...............\n",
      "[CV] ...... min_samples_leaf=10, n_estimators=10, max_depth=5 -   0.2s[CV] ...... min_samples_leaf=10, n_estimators=10, max_depth=5 -   0.2s[CV] ...... min_samples_leaf=10, n_estimators=10, max_depth=5 -   0.2s[CV] ...... min_samples_leaf=10, n_estimators=20, max_depth=5 -   0.2s\n",
      "\n",
      "\n",
      "\n",
      "[CV] min_samples_leaf=10, n_estimators=20, max_depth=5 ...............[CV] min_samples_leaf=10, n_estimators=20, max_depth=5 ...............[CV] min_samples_leaf=10, n_estimators=50, max_depth=5 ...............[CV] min_samples_leaf=10, n_estimators=50, max_depth=5 ...............\n",
      "\n",
      "\n",
      "\n",
      "[CV] ...... min_samples_leaf=10, n_estimators=20, max_depth=5 -   0.2s[CV] ...... min_samples_leaf=10, n_estimators=20, max_depth=5 -   0.2s[CV] ...... min_samples_leaf=10, n_estimators=50, max_depth=5 -   0.4s[CV] ...... min_samples_leaf=10, n_estimators=50, max_depth=5 -   0.4s\n",
      "\n",
      "\n",
      "\n",
      "[CV] min_samples_leaf=10, n_estimators=50, max_depth=5 ...............[CV] min_samples_leaf=10, n_estimators=100, max_depth=5 ..............[CV] min_samples_leaf=10, n_estimators=100, max_depth=5 ..............[CV] min_samples_leaf=10, n_estimators=100, max_depth=5 ..............\n",
      "\n",
      "\n",
      "\n",
      "[CV] ...... min_samples_leaf=10, n_estimators=50, max_depth=5 -   0.5s[CV] ..... min_samples_leaf=10, n_estimators=100, max_depth=5 -   0.8s[CV] ..... min_samples_leaf=10, n_estimators=100, max_depth=5 -   0.7s[CV] ..... min_samples_leaf=10, n_estimators=100, max_depth=5 -   0.7s\n",
      "\n",
      "\n",
      "\n",
      "[CV] min_samples_leaf=10, n_estimators=200, max_depth=5 ..............[CV] min_samples_leaf=10, n_estimators=200, max_depth=5 ..............[CV] min_samples_leaf=10, n_estimators=200, max_depth=5 ..............[CV] min_samples_leaf=20, n_estimators=10, max_depth=5 ...............\n",
      "\n",
      "\n",
      "\n",
      "[CV] ..... min_samples_leaf=10, n_estimators=200, max_depth=5 -   1.3s[CV] ..... min_samples_leaf=10, n_estimators=200, max_depth=5 -   1.4s[CV] ..... min_samples_leaf=10, n_estimators=200, max_depth=5 -   1.2s[CV] ...... min_samples_leaf=20, n_estimators=10, max_depth=5 -   0.2s\n",
      "\n",
      "\n",
      "\n",
      "[CV] min_samples_leaf=20, n_estimators=10, max_depth=5 ...............[CV] min_samples_leaf=20, n_estimators=10, max_depth=5 ...............[CV] min_samples_leaf=20, n_estimators=20, max_depth=5 ...............[CV] min_samples_leaf=20, n_estimators=20, max_depth=5 ...............\n",
      "\n",
      "\n",
      "\n",
      "[CV] ...... min_samples_leaf=20, n_estimators=10, max_depth=5 -   0.2s[CV] ...... min_samples_leaf=20, n_estimators=10, max_depth=5 -   0.2s[CV] ...... min_samples_leaf=20, n_estimators=20, max_depth=5 -   0.3s[CV] ...... min_samples_leaf=20, n_estimators=20, max_depth=5 -   0.2s\n",
      "\n",
      "\n",
      "\n",
      "[CV] min_samples_leaf=20, n_estimators=20, max_depth=5 ...............[CV] min_samples_leaf=20, n_estimators=50, max_depth=5 ...............[CV] min_samples_leaf=20, n_estimators=50, max_depth=5 ...............[CV] min_samples_leaf=20, n_estimators=50, max_depth=5 ...............\n",
      "\n",
      "\n",
      "\n",
      "[CV] ...... min_samples_leaf=20, n_estimators=20, max_depth=5 -   0.2s[CV] ...... min_samples_leaf=20, n_estimators=50, max_depth=5 -   0.4s[CV] ...... min_samples_leaf=20, n_estimators=50, max_depth=5 -   0.4s[CV] ...... min_samples_leaf=20, n_estimators=50, max_depth=5 -   0.4s\n",
      "\n",
      "\n",
      "\n",
      "[CV] min_samples_leaf=20, n_estimators=100, max_depth=5 ..............[CV] min_samples_leaf=20, n_estimators=100, max_depth=5 ..............[CV] min_samples_leaf=20, n_estimators=100, max_depth=5 ..............[CV] min_samples_leaf=20, n_estimators=200, max_depth=5 ..............\n",
      "\n",
      "\n",
      "\n",
      "[CV] ..... min_samples_leaf=20, n_estimators=100, max_depth=5 -   0.6s[CV] ..... min_samples_leaf=20, n_estimators=100, max_depth=5 -   0.6s[CV] ..... min_samples_leaf=20, n_estimators=100, max_depth=5 -   0.6s[CV] ..... min_samples_leaf=20, n_estimators=200, max_depth=5 -   1.3s\n",
      "\n",
      "\n",
      "\n",
      "[CV] min_samples_leaf=20, n_estimators=200, max_depth=5 ..............[CV] min_samples_leaf=20, n_estimators=200, max_depth=5 ..............[CV] min_samples_leaf=50, n_estimators=10, max_depth=5 ...............[CV] min_samples_leaf=50, n_estimators=10, max_depth=5 ...............\n",
      "\n",
      "\n",
      "\n",
      "[CV] ..... min_samples_leaf=20, n_estimators=200, max_depth=5 -   1.4s[CV] ..... min_samples_leaf=20, n_estimators=200, max_depth=5 -   1.3s[CV] ...... min_samples_leaf=50, n_estimators=10, max_depth=5 -   0.2s[CV] ...... min_samples_leaf=50, n_estimators=10, max_depth=5 -   0.1s\n",
      "\n",
      "\n",
      "\n",
      "[CV] min_samples_leaf=50, n_estimators=10, max_depth=5 ...............[CV] min_samples_leaf=50, n_estimators=20, max_depth=5 ...............[CV] min_samples_leaf=50, n_estimators=20, max_depth=5 ...............[CV] min_samples_leaf=50, n_estimators=20, max_depth=5 ...............\n",
      "\n",
      "\n",
      "\n",
      "[CV] ...... min_samples_leaf=50, n_estimators=10, max_depth=5 -   0.3s[CV] ...... min_samples_leaf=50, n_estimators=20, max_depth=5 -   0.2s[CV] ...... min_samples_leaf=50, n_estimators=20, max_depth=5 -   0.2s[CV] ...... min_samples_leaf=50, n_estimators=20, max_depth=5 -   0.2s\n",
      "\n",
      "\n",
      "\n",
      "[CV] min_samples_leaf=50, n_estimators=50, max_depth=5 ...............[CV] min_samples_leaf=50, n_estimators=50, max_depth=5 ...............[CV] min_samples_leaf=50, n_estimators=50, max_depth=5 ...............[CV] min_samples_leaf=50, n_estimators=100, max_depth=5 ..............\n",
      "\n",
      "\n",
      "\n",
      "[CV] ...... min_samples_leaf=50, n_estimators=50, max_depth=5 -   0.4s[CV] ...... min_samples_leaf=50, n_estimators=50, max_depth=5 -   0.3s[CV] ...... min_samples_leaf=50, n_estimators=50, max_depth=5 -   0.4s[CV] ..... min_samples_leaf=50, n_estimators=100, max_depth=5 -   0.8s\n",
      "\n",
      "\n",
      "\n",
      "[CV] min_samples_leaf=50, n_estimators=100, max_depth=5 ..............[CV] min_samples_leaf=50, n_estimators=100, max_depth=5 ..............[CV] min_samples_leaf=50, n_estimators=200, max_depth=5 ..............[CV] min_samples_leaf=50, n_estimators=200, max_depth=5 ..............\n",
      "\n",
      "\n",
      "\n",
      "[CV] ..... min_samples_leaf=50, n_estimators=100, max_depth=5 -   0.6s[CV] ..... min_samples_leaf=50, n_estimators=100, max_depth=5 -   0.7s[CV] ..... min_samples_leaf=50, n_estimators=200, max_depth=5 -   1.1s[CV] ..... min_samples_leaf=50, n_estimators=200, max_depth=5 -   1.1s\n",
      "\n",
      "\n",
      "\n",
      "[CV] min_samples_leaf=50, n_estimators=200, max_depth=5 ..............[CV] min_samples_leaf=10, n_estimators=10, max_depth=15 ..............[CV] min_samples_leaf=10, n_estimators=10, max_depth=15 ..............[CV] min_samples_leaf=10, n_estimators=10, max_depth=15 ..............\n",
      "\n",
      "\n",
      "\n",
      "[CV] ..... min_samples_leaf=50, n_estimators=200, max_depth=5 -   1.1s[CV] ..... min_samples_leaf=10, n_estimators=10, max_depth=15 -   0.2s[CV] ..... min_samples_leaf=10, n_estimators=10, max_depth=15 -   0.2s[CV] ..... min_samples_leaf=10, n_estimators=10, max_depth=15 -   0.2s\n",
      "\n",
      "\n",
      "\n",
      "[CV] min_samples_leaf=10, n_estimators=20, max_depth=15 ..............[CV] min_samples_leaf=10, n_estimators=20, max_depth=15 ..............[CV] min_samples_leaf=10, n_estimators=20, max_depth=15 ..............[CV] min_samples_leaf=10, n_estimators=50, max_depth=15 ..............\n",
      "\n",
      "\n",
      "\n",
      "[CV] ..... min_samples_leaf=10, n_estimators=20, max_depth=15 -   0.3s[CV] ..... min_samples_leaf=10, n_estimators=20, max_depth=15 -   0.3s[CV] ..... min_samples_leaf=10, n_estimators=20, max_depth=15 -   0.3s[CV] ..... min_samples_leaf=10, n_estimators=50, max_depth=15 -   0.7s\n",
      "\n",
      "\n",
      "\n",
      "[CV] min_samples_leaf=10, n_estimators=50, max_depth=15 ..............[CV] min_samples_leaf=10, n_estimators=50, max_depth=15 ..............[CV] min_samples_leaf=10, n_estimators=100, max_depth=15 .............[CV] min_samples_leaf=10, n_estimators=100, max_depth=15 .............\n",
      "\n",
      "\n",
      "\n",
      "[CV] ..... min_samples_leaf=10, n_estimators=50, max_depth=15 -   0.7s[CV] ..... min_samples_leaf=10, n_estimators=50, max_depth=15 -   0.7s[CV] .... min_samples_leaf=10, n_estimators=100, max_depth=15 -   1.2s[CV] .... min_samples_leaf=10, n_estimators=100, max_depth=15 -   1.3s\n",
      "\n",
      "\n",
      "\n",
      "[CV] min_samples_leaf=10, n_estimators=100, max_depth=15 .............[CV] min_samples_leaf=10, n_estimators=200, max_depth=15 .............[CV] min_samples_leaf=10, n_estimators=200, max_depth=15 .............[CV] min_samples_leaf=10, n_estimators=200, max_depth=15 .............\n",
      "\n",
      "\n",
      "\n",
      "[CV] .... min_samples_leaf=10, n_estimators=100, max_depth=15 -   1.3s[CV] .... min_samples_leaf=10, n_estimators=200, max_depth=15 -   3.3s[CV] .... min_samples_leaf=10, n_estimators=200, max_depth=15 -   3.0s[CV] .... min_samples_leaf=10, n_estimators=200, max_depth=15 -   2.4s\n",
      "\n",
      "\n",
      "\n",
      "[CV] min_samples_leaf=20, n_estimators=10, max_depth=15 ..............[CV] min_samples_leaf=20, n_estimators=10, max_depth=15 ..............[CV] min_samples_leaf=20, n_estimators=10, max_depth=15 ..............[CV] min_samples_leaf=20, n_estimators=20, max_depth=15 ..............\n",
      "\n",
      "\n",
      "\n",
      "[CV] ..... min_samples_leaf=20, n_estimators=10, max_depth=15 -   0.2s[CV] ..... min_samples_leaf=20, n_estimators=10, max_depth=15 -   0.2s[CV] ..... min_samples_leaf=20, n_estimators=10, max_depth=15 -   0.2s[CV] ..... min_samples_leaf=20, n_estimators=20, max_depth=15 -   0.3s\n",
      "\n",
      "\n",
      "\n",
      "[CV] min_samples_leaf=20, n_estimators=20, max_depth=15 ..............[CV] min_samples_leaf=20, n_estimators=20, max_depth=15 ..............[CV] min_samples_leaf=20, n_estimators=50, max_depth=15 ..............[CV] min_samples_leaf=20, n_estimators=50, max_depth=15 .............."
     ]
    },
    {
     "data": {
      "text/plain": [
       "GridSearchCV(cv=None, error_score='raise',\n",
       "       estimator=RandomForestClassifier(bootstrap=True, class_weight=None, criterion='gini',\n",
       "            max_depth=None, max_features='auto', max_leaf_nodes=None,\n",
       "            min_samples_leaf=1, min_samples_split=2,\n",
       "            min_weight_fraction_leaf=0.0, n_estimators=10, n_jobs=1,\n",
       "            oob_score=False, random_state=None, verbose=0,\n",
       "            warm_start=False),\n",
       "       fit_params={}, iid=True, loss_func=None, n_jobs=-1,\n",
       "       param_grid={'min_samples_leaf': [10, 20, 50], 'n_estimators': [10, 20, 50, 100, 200], 'max_depth': [5, 15, 25]},\n",
       "       pre_dispatch='2*n_jobs', refit=True, score_func=None,\n",
       "       scoring='roc_auc', verbose=2)"
      ]
     },
     "execution_count": 77,
     "metadata": {},
     "output_type": "execute_result"
    },
    {
     "name": "stdout",
     "output_type": "stream",
     "text": [
      "\n",
      "\n",
      "\n",
      "\n",
      "[CV] ..... min_samples_leaf=20, n_estimators=20, max_depth=15 -   0.3s[CV] ..... min_samples_leaf=20, n_estimators=20, max_depth=15 -   0.3s[CV] ..... min_samples_leaf=20, n_estimators=50, max_depth=15 -   0.6s[CV] ..... min_samples_leaf=20, n_estimators=50, max_depth=15 -   0.7s\n",
      "\n",
      "\n",
      "\n",
      "[CV] min_samples_leaf=20, n_estimators=50, max_depth=15 ..............[CV] min_samples_leaf=20, n_estimators=100, max_depth=15 .............[CV] min_samples_leaf=20, n_estimators=100, max_depth=15 .............[CV] min_samples_leaf=20, n_estimators=100, max_depth=15 .............\n",
      "\n",
      "\n",
      "\n",
      "[CV] ..... min_samples_leaf=20, n_estimators=50, max_depth=15 -   0.6s[CV] .... min_samples_leaf=20, n_estimators=100, max_depth=15 -   1.1s[CV] .... min_samples_leaf=20, n_estimators=100, max_depth=15 -   1.3s[CV] .... min_samples_leaf=20, n_estimators=100, max_depth=15 -   1.1s\n",
      "\n",
      "\n",
      "\n",
      "[CV] min_samples_leaf=20, n_estimators=200, max_depth=15 .............[CV] min_samples_leaf=20, n_estimators=200, max_depth=15 .............[CV] min_samples_leaf=20, n_estimators=200, max_depth=15 .............[CV] min_samples_leaf=50, n_estimators=10, max_depth=15 ..............\n",
      "\n",
      "\n",
      "\n",
      "[CV] .... min_samples_leaf=20, n_estimators=200, max_depth=15 -   2.2s[CV] .... min_samples_leaf=20, n_estimators=200, max_depth=15 -   2.4s[CV] .... min_samples_leaf=20, n_estimators=200, max_depth=15 -   2.7s[CV] ..... min_samples_leaf=50, n_estimators=10, max_depth=15 -   0.2s\n",
      "\n",
      "\n",
      "\n",
      "[CV] min_samples_leaf=50, n_estimators=10, max_depth=15 ..............[CV] min_samples_leaf=50, n_estimators=10, max_depth=15 ..............[CV] min_samples_leaf=50, n_estimators=20, max_depth=15 ..............[CV] min_samples_leaf=50, n_estimators=20, max_depth=15 ..............\n",
      "\n",
      "\n",
      "\n",
      "[CV] ..... min_samples_leaf=50, n_estimators=10, max_depth=15 -   0.2s[CV] ..... min_samples_leaf=50, n_estimators=10, max_depth=15 -   0.2s[CV] ..... min_samples_leaf=50, n_estimators=20, max_depth=15 -   0.3s[CV] ..... min_samples_leaf=50, n_estimators=20, max_depth=15 -   0.2s\n",
      "\n",
      "\n",
      "\n",
      "[CV] min_samples_leaf=50, n_estimators=20, max_depth=15 ..............[CV] min_samples_leaf=50, n_estimators=50, max_depth=15 ..............[CV] min_samples_leaf=50, n_estimators=50, max_depth=15 ..............[CV] min_samples_leaf=50, n_estimators=50, max_depth=15 ..............\n",
      "\n",
      "\n",
      "\n",
      "[CV] ..... min_samples_leaf=50, n_estimators=20, max_depth=15 -   0.3s[CV] ..... min_samples_leaf=50, n_estimators=50, max_depth=15 -   0.5s[CV] ..... min_samples_leaf=50, n_estimators=50, max_depth=15 -   0.5s[CV] ..... min_samples_leaf=50, n_estimators=50, max_depth=15 -   0.5s\n",
      "\n",
      "\n",
      "\n",
      "[CV] min_samples_leaf=50, n_estimators=100, max_depth=15 .............[CV] min_samples_leaf=50, n_estimators=100, max_depth=15 .............[CV] min_samples_leaf=50, n_estimators=100, max_depth=15 .............[CV] min_samples_leaf=50, n_estimators=200, max_depth=15 .............\n",
      "\n",
      "\n",
      "\n",
      "[CV] .... min_samples_leaf=50, n_estimators=100, max_depth=15 -   0.9s[CV] .... min_samples_leaf=50, n_estimators=100, max_depth=15 -   0.9s[CV] .... min_samples_leaf=50, n_estimators=100, max_depth=15 -   0.9s[CV] .... min_samples_leaf=50, n_estimators=200, max_depth=15 -   1.7s\n",
      "\n",
      "\n",
      "\n",
      "[CV] min_samples_leaf=50, n_estimators=200, max_depth=15 .............[CV] min_samples_leaf=50, n_estimators=200, max_depth=15 .............[CV] min_samples_leaf=10, n_estimators=10, max_depth=25 ..............[CV] min_samples_leaf=10, n_estimators=10, max_depth=25 ..............\n",
      "\n",
      "\n",
      "\n",
      "[CV] .... min_samples_leaf=50, n_estimators=200, max_depth=15 -   1.9s[CV] .... min_samples_leaf=50, n_estimators=200, max_depth=15 -   2.0s[CV] ..... min_samples_leaf=10, n_estimators=10, max_depth=25 -   0.3s[CV] ..... min_samples_leaf=10, n_estimators=10, max_depth=25 -   0.3s\n",
      "\n",
      "\n",
      "\n",
      "[CV] min_samples_leaf=10, n_estimators=10, max_depth=25 ..............[CV] min_samples_leaf=10, n_estimators=20, max_depth=25 ..............[CV] min_samples_leaf=10, n_estimators=20, max_depth=25 ..............[CV] min_samples_leaf=10, n_estimators=20, max_depth=25 ..............\n",
      "\n",
      "\n",
      "\n",
      "[CV] ..... min_samples_leaf=10, n_estimators=10, max_depth=25 -   0.5s[CV] ..... min_samples_leaf=10, n_estimators=20, max_depth=25 -   0.7s[CV] ..... min_samples_leaf=10, n_estimators=20, max_depth=25 -   0.4s[CV] ..... min_samples_leaf=10, n_estimators=20, max_depth=25 -   0.4s\n",
      "\n",
      "\n",
      "\n",
      "[CV] min_samples_leaf=10, n_estimators=50, max_depth=25 ..............[CV] min_samples_leaf=10, n_estimators=50, max_depth=25 ..............[CV] min_samples_leaf=10, n_estimators=50, max_depth=25 ..............[CV] min_samples_leaf=10, n_estimators=100, max_depth=25 .............\n",
      "\n",
      "\n",
      "\n",
      "[CV] ..... min_samples_leaf=10, n_estimators=50, max_depth=25 -   1.0s[CV] ..... min_samples_leaf=10, n_estimators=50, max_depth=25 -   0.9s[CV] ..... min_samples_leaf=10, n_estimators=50, max_depth=25 -   0.9s[CV] .... min_samples_leaf=10, n_estimators=100, max_depth=25 -   2.2s\n",
      "\n",
      "\n",
      "\n",
      "[CV] min_samples_leaf=10, n_estimators=100, max_depth=25 .............[CV] min_samples_leaf=10, n_estimators=100, max_depth=25 .............[CV] min_samples_leaf=10, n_estimators=200, max_depth=25 .............[CV] min_samples_leaf=10, n_estimators=200, max_depth=25 .............\n",
      "\n",
      "\n",
      "\n",
      "[CV] .... min_samples_leaf=10, n_estimators=100, max_depth=25 -   1.6s[CV] .... min_samples_leaf=10, n_estimators=100, max_depth=25 -   1.9s[CV] .... min_samples_leaf=10, n_estimators=200, max_depth=25 -   4.1s[CV] .... min_samples_leaf=10, n_estimators=200, max_depth=25 -   4.3s\n",
      "\n",
      "\n",
      "\n",
      "[CV] min_samples_leaf=10, n_estimators=200, max_depth=25 .............[CV] min_samples_leaf=20, n_estimators=10, max_depth=25 ..............[CV] min_samples_leaf=20, n_estimators=10, max_depth=25 ..............[CV] min_samples_leaf=20, n_estimators=10, max_depth=25 ..............\n",
      "\n",
      "\n",
      "\n",
      "[CV] .... min_samples_leaf=10, n_estimators=200, max_depth=25 -   3.2s[CV] ..... min_samples_leaf=20, n_estimators=10, max_depth=25 -   0.3s[CV] ..... min_samples_leaf=20, n_estimators=10, max_depth=25 -   0.3s[CV] ..... min_samples_leaf=20, n_estimators=10, max_depth=25 -   0.2s\n",
      "\n",
      "\n",
      "\n",
      "[CV] min_samples_leaf=20, n_estimators=20, max_depth=25 ..............[CV] min_samples_leaf=20, n_estimators=20, max_depth=25 ..............[CV] min_samples_leaf=20, n_estimators=20, max_depth=25 ..............[CV] min_samples_leaf=20, n_estimators=50, max_depth=25 ..............\n",
      "\n",
      "\n",
      "\n",
      "[CV] ..... min_samples_leaf=20, n_estimators=20, max_depth=25 -   0.5s[CV] ..... min_samples_leaf=20, n_estimators=20, max_depth=25 -   0.5s[CV] ..... min_samples_leaf=20, n_estimators=20, max_depth=25 -   0.4s[CV] ..... min_samples_leaf=20, n_estimators=50, max_depth=25 -   0.9s\n",
      "\n",
      "\n",
      "\n",
      "[CV] min_samples_leaf=20, n_estimators=50, max_depth=25 ..............[CV] min_samples_leaf=20, n_estimators=50, max_depth=25 ..............[CV] min_samples_leaf=20, n_estimators=100, max_depth=25 .............[CV] min_samples_leaf=20, n_estimators=100, max_depth=25 .............\n",
      "\n",
      "\n",
      "\n",
      "[CV] ..... min_samples_leaf=20, n_estimators=50, max_depth=25 -   0.9s[CV] ..... min_samples_leaf=20, n_estimators=50, max_depth=25 -   0.8s[CV] .... min_samples_leaf=20, n_estimators=100, max_depth=25 -   1.7s[CV] .... min_samples_leaf=20, n_estimators=100, max_depth=25 -   1.4s\n",
      "\n",
      "\n",
      "\n",
      "[CV] min_samples_leaf=20, n_estimators=100, max_depth=25 .............[CV] min_samples_leaf=20, n_estimators=200, max_depth=25 .............[CV] min_samples_leaf=20, n_estimators=200, max_depth=25 .............[CV] min_samples_leaf=20, n_estimators=200, max_depth=25 .............\n",
      "\n",
      "\n",
      "\n",
      "[CV] .... min_samples_leaf=20, n_estimators=100, max_depth=25 -   1.3s[CV] .... min_samples_leaf=20, n_estimators=200, max_depth=25 -   3.4s[CV] .... min_samples_leaf=20, n_estimators=200, max_depth=25 -   3.8s[CV] .... min_samples_leaf=20, n_estimators=200, max_depth=25 -   2.9s\n",
      "\n",
      "\n",
      "\n",
      "[CV] min_samples_leaf=50, n_estimators=10, max_depth=25 ..............[CV] min_samples_leaf=50, n_estimators=10, max_depth=25 ..............[CV] min_samples_leaf=50, n_estimators=10, max_depth=25 ..............[CV] min_samples_leaf=50, n_estimators=20, max_depth=25 ..............\n",
      "\n",
      "\n",
      "\n",
      "[CV] ..... min_samples_leaf=50, n_estimators=10, max_depth=25 -   0.3s[CV] ..... min_samples_leaf=50, n_estimators=10, max_depth=25 -   0.2s[CV] ..... min_samples_leaf=50, n_estimators=10, max_depth=25 -   0.2s[CV] ..... min_samples_leaf=50, n_estimators=20, max_depth=25 -   0.3s\n",
      "\n",
      "\n",
      "\n",
      "[CV] min_samples_leaf=50, n_estimators=20, max_depth=25 ..............[CV] min_samples_leaf=50, n_estimators=20, max_depth=25 ..............[CV] min_samples_leaf=50, n_estimators=50, max_depth=25 ..............[CV] min_samples_leaf=50, n_estimators=50, max_depth=25 ..............\n",
      "\n",
      "\n",
      "\n",
      "[CV] ..... min_samples_leaf=50, n_estimators=20, max_depth=25 -   0.2s[CV] ..... min_samples_leaf=50, n_estimators=20, max_depth=25 -   0.3s[CV] ..... min_samples_leaf=50, n_estimators=50, max_depth=25 -   0.5s[CV] ..... min_samples_leaf=50, n_estimators=50, max_depth=25 -   0.5s\n",
      "\n",
      "\n",
      "\n",
      "[CV] min_samples_leaf=50, n_estimators=50, max_depth=25 ..............[CV] min_samples_leaf=50, n_estimators=100, max_depth=25 .............[CV] min_samples_leaf=50, n_estimators=100, max_depth=25 .............[CV] min_samples_leaf=50, n_estimators=100, max_depth=25 .............\n",
      "\n",
      "\n",
      "\n",
      "[CV] ..... min_samples_leaf=50, n_estimators=50, max_depth=25 -   0.5s[CV] .... min_samples_leaf=50, n_estimators=100, max_depth=25 -   0.9s[CV] .... min_samples_leaf=50, n_estimators=100, max_depth=25 -   1.3s[CV] .... min_samples_leaf=50, n_estimators=100, max_depth=25 -   1.0s\n",
      "\n",
      "\n",
      "\n",
      "[CV] min_samples_leaf=50, n_estimators=200, max_depth=25 .............[CV] min_samples_leaf=50, n_estimators=200, max_depth=25 .............[CV] min_samples_leaf=50, n_estimators=200, max_depth=25 .............\n",
      "\n",
      "\n",
      "[CV] .... min_samples_leaf=50, n_estimators=200, max_depth=25 -   1.7s[CV] .... min_samples_leaf=50, n_estimators=200, max_depth=25 -   1.7s[CV] .... min_samples_leaf=50, n_estimators=200, max_depth=25 -   1.6s\n",
      "\n",
      "\n"
     ]
    }
   ],
   "source": [
    "from sklearn import grid_search\n",
    "rf = RandomForestClassifier()\n",
    "parameters = {'n_estimators': [10,20,50,100,200],'max_depth':[5,15,25],'min_samples_leaf':[10,20,50]}\n",
    "model_cv_grid = grid_search.GridSearchCV(rf,parameters,scoring='roc_auc',verbose=2,n_jobs=-1)\n",
    "model_cv_grid.fit(X_train,Y_train)"
   ]
  },
  {
   "cell_type": "code",
   "execution_count": 78,
   "metadata": {
    "collapsed": false
   },
   "outputs": [
    {
     "data": {
      "text/plain": [
       "[mean: 0.63998, std: 0.04697, params: {'min_samples_leaf': 10, 'n_estimators': 10, 'max_depth': 5},\n",
       " mean: 0.67969, std: 0.01989, params: {'min_samples_leaf': 10, 'n_estimators': 20, 'max_depth': 5},\n",
       " mean: 0.69022, std: 0.01000, params: {'min_samples_leaf': 10, 'n_estimators': 50, 'max_depth': 5},\n",
       " mean: 0.69301, std: 0.00839, params: {'min_samples_leaf': 10, 'n_estimators': 100, 'max_depth': 5},\n",
       " mean: 0.69412, std: 0.01007, params: {'min_samples_leaf': 10, 'n_estimators': 200, 'max_depth': 5},\n",
       " mean: 0.63291, std: 0.04390, params: {'min_samples_leaf': 20, 'n_estimators': 10, 'max_depth': 5},\n",
       " mean: 0.67389, std: 0.01346, params: {'min_samples_leaf': 20, 'n_estimators': 20, 'max_depth': 5},\n",
       " mean: 0.67934, std: 0.01684, params: {'min_samples_leaf': 20, 'n_estimators': 50, 'max_depth': 5},\n",
       " mean: 0.69053, std: 0.01019, params: {'min_samples_leaf': 20, 'n_estimators': 100, 'max_depth': 5},\n",
       " mean: 0.69618, std: 0.01145, params: {'min_samples_leaf': 20, 'n_estimators': 200, 'max_depth': 5},\n",
       " mean: 0.61888, std: 0.04146, params: {'min_samples_leaf': 50, 'n_estimators': 10, 'max_depth': 5},\n",
       " mean: 0.67141, std: 0.01027, params: {'min_samples_leaf': 50, 'n_estimators': 20, 'max_depth': 5},\n",
       " mean: 0.68031, std: 0.01654, params: {'min_samples_leaf': 50, 'n_estimators': 50, 'max_depth': 5},\n",
       " mean: 0.68427, std: 0.01583, params: {'min_samples_leaf': 50, 'n_estimators': 100, 'max_depth': 5},\n",
       " mean: 0.68515, std: 0.01116, params: {'min_samples_leaf': 50, 'n_estimators': 200, 'max_depth': 5},\n",
       " mean: 0.68635, std: 0.01199, params: {'min_samples_leaf': 10, 'n_estimators': 10, 'max_depth': 15},\n",
       " mean: 0.69016, std: 0.00800, params: {'min_samples_leaf': 10, 'n_estimators': 20, 'max_depth': 15},\n",
       " mean: 0.69412, std: 0.01026, params: {'min_samples_leaf': 10, 'n_estimators': 50, 'max_depth': 15},\n",
       " mean: 0.70663, std: 0.00976, params: {'min_samples_leaf': 10, 'n_estimators': 100, 'max_depth': 15},\n",
       " mean: 0.70390, std: 0.01188, params: {'min_samples_leaf': 10, 'n_estimators': 200, 'max_depth': 15},\n",
       " mean: 0.68092, std: 0.00709, params: {'min_samples_leaf': 20, 'n_estimators': 10, 'max_depth': 15},\n",
       " mean: 0.69216, std: 0.01612, params: {'min_samples_leaf': 20, 'n_estimators': 20, 'max_depth': 15},\n",
       " mean: 0.69809, std: 0.01488, params: {'min_samples_leaf': 20, 'n_estimators': 50, 'max_depth': 15},\n",
       " mean: 0.70265, std: 0.01338, params: {'min_samples_leaf': 20, 'n_estimators': 100, 'max_depth': 15},\n",
       " mean: 0.70399, std: 0.01293, params: {'min_samples_leaf': 20, 'n_estimators': 200, 'max_depth': 15},\n",
       " mean: 0.66176, std: 0.02543, params: {'min_samples_leaf': 50, 'n_estimators': 10, 'max_depth': 15},\n",
       " mean: 0.69015, std: 0.01838, params: {'min_samples_leaf': 50, 'n_estimators': 20, 'max_depth': 15},\n",
       " mean: 0.69237, std: 0.01193, params: {'min_samples_leaf': 50, 'n_estimators': 50, 'max_depth': 15},\n",
       " mean: 0.69858, std: 0.01559, params: {'min_samples_leaf': 50, 'n_estimators': 100, 'max_depth': 15},\n",
       " mean: 0.69734, std: 0.01251, params: {'min_samples_leaf': 50, 'n_estimators': 200, 'max_depth': 15},\n",
       " mean: 0.66749, std: 0.02016, params: {'min_samples_leaf': 10, 'n_estimators': 10, 'max_depth': 25},\n",
       " mean: 0.69439, std: 0.01570, params: {'min_samples_leaf': 10, 'n_estimators': 20, 'max_depth': 25},\n",
       " mean: 0.70719, std: 0.01029, params: {'min_samples_leaf': 10, 'n_estimators': 50, 'max_depth': 25},\n",
       " mean: 0.70897, std: 0.01140, params: {'min_samples_leaf': 10, 'n_estimators': 100, 'max_depth': 25},\n",
       " mean: 0.70884, std: 0.01297, params: {'min_samples_leaf': 10, 'n_estimators': 200, 'max_depth': 25},\n",
       " mean: 0.68323, std: 0.01464, params: {'min_samples_leaf': 20, 'n_estimators': 10, 'max_depth': 25},\n",
       " mean: 0.69312, std: 0.00729, params: {'min_samples_leaf': 20, 'n_estimators': 20, 'max_depth': 25},\n",
       " mean: 0.69946, std: 0.01405, params: {'min_samples_leaf': 20, 'n_estimators': 50, 'max_depth': 25},\n",
       " mean: 0.70496, std: 0.01466, params: {'min_samples_leaf': 20, 'n_estimators': 100, 'max_depth': 25},\n",
       " mean: 0.70568, std: 0.01686, params: {'min_samples_leaf': 20, 'n_estimators': 200, 'max_depth': 25},\n",
       " mean: 0.66804, std: 0.01838, params: {'min_samples_leaf': 50, 'n_estimators': 10, 'max_depth': 25},\n",
       " mean: 0.68679, std: 0.01384, params: {'min_samples_leaf': 50, 'n_estimators': 20, 'max_depth': 25},\n",
       " mean: 0.69646, std: 0.01368, params: {'min_samples_leaf': 50, 'n_estimators': 50, 'max_depth': 25},\n",
       " mean: 0.69955, std: 0.01489, params: {'min_samples_leaf': 50, 'n_estimators': 100, 'max_depth': 25},\n",
       " mean: 0.69851, std: 0.01299, params: {'min_samples_leaf': 50, 'n_estimators': 200, 'max_depth': 25}]"
      ]
     },
     "execution_count": 78,
     "metadata": {},
     "output_type": "execute_result"
    }
   ],
   "source": [
    "model_cv_grid.grid_scores_"
   ]
  },
  {
   "cell_type": "markdown",
   "metadata": {},
   "source": [
    "## Determined best parameters for the RF model via grid search"
   ]
  },
  {
   "cell_type": "code",
   "execution_count": 79,
   "metadata": {
    "collapsed": false,
    "scrolled": true
   },
   "outputs": [
    {
     "data": {
      "text/plain": [
       "RandomForestClassifier(bootstrap=True, class_weight=None, criterion='gini',\n",
       "            max_depth=25, max_features='auto', max_leaf_nodes=None,\n",
       "            min_samples_leaf=10, min_samples_split=2,\n",
       "            min_weight_fraction_leaf=0.0, n_estimators=100, n_jobs=1,\n",
       "            oob_score=False, random_state=None, verbose=0,\n",
       "            warm_start=False)"
      ]
     },
     "execution_count": 79,
     "metadata": {},
     "output_type": "execute_result"
    }
   ],
   "source": [
    "best_model = model_cv_grid.best_estimator_\n",
    "best_model"
   ]
  },
  {
   "cell_type": "markdown",
   "metadata": {},
   "source": [
    "Now we have the best parameters set for the random forest model. The max depth =25, min leaf =10, and number of estimators =100. Next let us further examine the new best estimated model's performace:"
   ]
  },
  {
   "cell_type": "code",
   "execution_count": 80,
   "metadata": {
    "collapsed": true
   },
   "outputs": [],
   "source": [
    "model_tuned = RandomForestClassifier(bootstrap=True, class_weight=None, criterion='gini',\n",
    "            max_depth=25, max_features='auto', max_leaf_nodes=None,\n",
    "            min_samples_leaf=10, min_samples_split=2,\n",
    "            min_weight_fraction_leaf=0.0, n_estimators=100, n_jobs=1,\n",
    "            oob_score=False, random_state=None, verbose=0,\n",
    "            warm_start=False)"
   ]
  },
  {
   "cell_type": "code",
   "execution_count": 81,
   "metadata": {
    "collapsed": false
   },
   "outputs": [
    {
     "name": "stdout",
     "output_type": "stream",
     "text": [
      "(74281, 689)\n"
     ]
    }
   ],
   "source": [
    "X = DF.loc[:,'Year':'Dest_YUM']\n",
    "Y = DF.loc[:,'dep_delayed_15min_Y']\n",
    "print (X.shape)\n",
    "X_train, X_test, Y_train, Y_test = cross_validation.train_test_split(X,Y)"
   ]
  },
  {
   "cell_type": "code",
   "execution_count": 82,
   "metadata": {
    "collapsed": false
   },
   "outputs": [
    {
     "data": {
      "text/plain": [
       "RandomForestClassifier(bootstrap=True, class_weight=None, criterion='gini',\n",
       "            max_depth=25, max_features='auto', max_leaf_nodes=None,\n",
       "            min_samples_leaf=10, min_samples_split=2,\n",
       "            min_weight_fraction_leaf=0.0, n_estimators=100, n_jobs=1,\n",
       "            oob_score=False, random_state=None, verbose=0,\n",
       "            warm_start=False)"
      ]
     },
     "execution_count": 82,
     "metadata": {},
     "output_type": "execute_result"
    }
   ],
   "source": [
    "model_tuned.fit(X_train, Y_train)"
   ]
  },
  {
   "cell_type": "code",
   "execution_count": 83,
   "metadata": {
    "collapsed": true
   },
   "outputs": [],
   "source": [
    "Y_train_prob = model_tuned.predict_proba(X_train)\n",
    "Y_test_prob = model_tuned.predict_proba(X_test)\n",
    "Y_val_prob = model_tuned.predict_proba(X_val)"
   ]
  },
  {
   "cell_type": "code",
   "execution_count": 84,
   "metadata": {
    "collapsed": false
   },
   "outputs": [],
   "source": [
    "fpr_train, tpr_train, _ = metrics.roc_curve(Y_train,Y_train_prob[:,1])\n",
    "roc_auc_train = metrics.auc(fpr_train, tpr_train)\n",
    "\n",
    "fpr_test, tpr_test, _ = metrics.roc_curve(Y_test,Y_test_prob[:,1])\n",
    "roc_auc_test = metrics.auc(fpr_test, tpr_test)\n",
    "\n",
    "fpr_val, tpr_val, _ = metrics.roc_curve(Y_val,Y_val_prob[:,1])\n",
    "roc_auc_val = metrics.auc(fpr_val, tpr_val)"
   ]
  },
  {
   "cell_type": "code",
   "execution_count": 85,
   "metadata": {
    "collapsed": false
   },
   "outputs": [
    {
     "data": {
      "image/png": "[encoded data removed]",
      "text/plain": [
       "<matplotlib.figure.Figure at 0x10b7f1128>"
      ]
     },
     "metadata": {},
     "output_type": "display_data"
    }
   ],
   "source": [
    "ROCplot(fpr_train, tpr_train, fpr_test, tpr_test, fpr_val, tpr_val)"
   ]
  },
  {
   "cell_type": "markdown",
   "metadata": {},
   "source": [
    "From the above results, the overfitting issue is no longer existing. Also the accuracy is raised. Both test set and CV stes show better perform than previous results. This shows after grid searching, we have better RF model to predict new observation."
   ]
  },
  {
   "cell_type": "markdown",
   "metadata": {},
   "source": [
    "## Which estimators are more significant?\n",
    "\n",
    "Recalled our grid search results, the best model is given:"
   ]
  },
  {
   "cell_type": "code",
   "execution_count": 86,
   "metadata": {
    "collapsed": false
   },
   "outputs": [
    {
     "data": {
      "text/plain": [
       "RandomForestClassifier(bootstrap=True, class_weight=None, criterion='gini',\n",
       "            max_depth=25, max_features='auto', max_leaf_nodes=None,\n",
       "            min_samples_leaf=10, min_samples_split=2,\n",
       "            min_weight_fraction_leaf=0.0, n_estimators=100, n_jobs=1,\n",
       "            oob_score=False, random_state=None, verbose=0,\n",
       "            warm_start=False)"
      ]
     },
     "execution_count": 86,
     "metadata": {},
     "output_type": "execute_result"
    }
   ],
   "source": [
    "best_model"
   ]
  },
  {
   "cell_type": "markdown",
   "metadata": {},
   "source": [
    "Next let's explore what attribute cause flights delay more significantly? Now we have built our models, and then we can find the importance of each feature:"
   ]
  },
  {
   "cell_type": "code",
   "execution_count": 121,
   "metadata": {
    "collapsed": true
   },
   "outputs": [],
   "source": [
    "importance = best_model.feature_importances_\n",
    "attribute = X.columns"
   ]
  },
  {
   "cell_type": "code",
   "execution_count": 125,
   "metadata": {
    "collapsed": false
   },
   "outputs": [
    {
     "data": {
      "text/html": [
       "<div>\n",
       "<table border=\"1\" class=\"dataframe\">\n",
       "  <thead>\n",
       "    <tr style=\"text-align: right;\">\n",
       "      <th></th>\n",
       "      <th>importance</th>\n",
       "      <th>variable</th>\n",
       "    </tr>\n",
       "  </thead>\n",
       "  <tbody>\n",
       "    <tr>\n",
       "      <th>0</th>\n",
       "      <td>0.380845</td>\n",
       "      <td>DepTime</td>\n",
       "    </tr>\n",
       "    <tr>\n",
       "      <th>1</th>\n",
       "      <td>0.049122</td>\n",
       "      <td>Distance</td>\n",
       "    </tr>\n",
       "    <tr>\n",
       "      <th>2</th>\n",
       "      <td>0.026713</td>\n",
       "      <td>Month_c-12</td>\n",
       "    </tr>\n",
       "    <tr>\n",
       "      <th>3</th>\n",
       "      <td>0.021533</td>\n",
       "      <td>Year</td>\n",
       "    </tr>\n",
       "    <tr>\n",
       "      <th>4</th>\n",
       "      <td>0.019153</td>\n",
       "      <td>Origin_ORD</td>\n",
       "    </tr>\n",
       "  </tbody>\n",
       "</table>\n",
       "</div>"
      ],
      "text/plain": [
       "   importance    variable\n",
       "0    0.380845     DepTime\n",
       "1    0.049122    Distance\n",
       "2    0.026713  Month_c-12\n",
       "3    0.021533        Year\n",
       "4    0.019153  Origin_ORD"
      ]
     },
     "execution_count": 125,
     "metadata": {},
     "output_type": "execute_result"
    }
   ],
   "source": [
    "v = sorted(range(len(importance)), key=lambda k: importance[k], reverse=True)\n",
    "sorted_importance = [importance[i] for i in v]\n",
    "sorted_attribute = [attribute[i] for i in v]\n",
    "\n",
    "df_importance = pd.DataFrame({'variable': sorted_attribute, 'importance' : sorted_importance})\n",
    "df_importance.sort_index().head(5)"
   ]
  },
  {
   "cell_type": "markdown",
   "metadata": {},
   "source": [
    "From this, we can see the most important factor to cause flights delay is the Departure time. Second is the distance. And then it is more frequent to happen in Dec. We can also see these in a bar chart:"
   ]
  },
  {
   "cell_type": "code",
   "execution_count": 133,
   "metadata": {
    "collapsed": false
   },
   "outputs": [
    {
     "data": {
      "image/png": "[encoded data removed]",
      "text/plain": [
       "<matplotlib.figure.Figure at 0x10b18e898>"
      ]
     },
     "metadata": {},
     "output_type": "display_data"
    }
   ],
   "source": [
    "x = sorted_importance[:5]\n",
    "y = sorted_attribute[:5]\n",
    "sns.set(style=\"whitegrid\",font_scale=1.5)\n",
    "f, ax = plt.subplots(figsize=(10, 5))\n",
    "sns.set_color_codes(\"muted\")\n",
    "sns.barplot(x=x, y=y, color=\"b\")\n",
    "ax.set(xticklabels=[],ylabel='',xlabel='',title='Feature Importance')\n",
    "sns.despine(left=True, bottom=True)"
   ]
  },
  {
   "cell_type": "code",
   "execution_count": null,
   "metadata": {
    "collapsed": true
   },
   "outputs": [],
   "source": []
  }
 ],
 "metadata": {
  "kernelspec": {
   "display_name": "Python 3",
   "language": "python",
   "name": "python3"
  },
  "language_info": {
   "codemirror_mode": {
    "name": "ipython",
    "version": 3
   },
   "file_extension": ".py",
   "mimetype": "text/x-python",
   "name": "python",
   "nbconvert_exporter": "python",
   "pygments_lexer": "ipython3",
   "version": "3.4.3"
  }
 },
 "nbformat": 4,
 "nbformat_minor": 0
}
