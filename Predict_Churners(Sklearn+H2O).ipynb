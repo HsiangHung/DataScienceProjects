{
 "cells": [
  {
   "cell_type": "markdown",
   "metadata": {},
   "source": [
    "# **Predit Churners (Sklearn + H2O)**"
   ]
  },
  {
   "cell_type": "markdown",
   "metadata": {},
   "source": [
    "This note is intended to go over various classifiers and compare sklearn and H2O. Here we are tentative to answer a question: how to predict which customers are going to or about becoming churners, in which most comapines are interested in knowing. The dataset is from [UCI Machine Learning repository](https://raw.githubusercontent.com/EricChiang/churn/master/data/churn.csv). \n",
    "\n",
    "We perform different classification methods to test which model has advantage and provides best results. The machine learning outcomes here are compared to the [blog](http://blog.yhat.com/posts/predicting-customer-churn-with-sklearn.html) using sklearn and H2O. In particular, we will implement deep learning from H2O to compute the accuracy.\n",
    "\n",
    "#### **Keywords: sklean/H2O classifiers, 10-fold cross-validation, deep learning**"
   ]
  },
  {
   "cell_type": "markdown",
   "metadata": {},
   "source": [
    "## **The Data**"
   ]
  },
  {
   "cell_type": "code",
   "execution_count": 1,
   "metadata": {
    "collapsed": false
   },
   "outputs": [],
   "source": [
    "import numpy as np\n",
    "import pandas as pd\n",
    "\n",
    "data = pd.read_csv('/Users/hsianghung/Desktop/churn.csv')"
   ]
  },
  {
   "cell_type": "code",
   "execution_count": 2,
   "metadata": {
    "collapsed": false
   },
   "outputs": [
    {
     "data": {
      "text/html": [
       "<div>\n",
       "<table border=\"1\" class=\"dataframe\">\n",
       "  <thead>\n",
       "    <tr style=\"text-align: right;\">\n",
       "      <th></th>\n",
       "      <th>State</th>\n",
       "      <th>Account Length</th>\n",
       "      <th>Area Code</th>\n",
       "      <th>Phone</th>\n",
       "      <th>Int'l Plan</th>\n",
       "      <th>VMail Plan</th>\n",
       "      <th>VMail Message</th>\n",
       "      <th>Day Mins</th>\n",
       "      <th>Day Calls</th>\n",
       "      <th>Day Charge</th>\n",
       "      <th>...</th>\n",
       "      <th>Eve Calls</th>\n",
       "      <th>Eve Charge</th>\n",
       "      <th>Night Mins</th>\n",
       "      <th>Night Calls</th>\n",
       "      <th>Night Charge</th>\n",
       "      <th>Intl Mins</th>\n",
       "      <th>Intl Calls</th>\n",
       "      <th>Intl Charge</th>\n",
       "      <th>CustServ Calls</th>\n",
       "      <th>Churn?</th>\n",
       "    </tr>\n",
       "  </thead>\n",
       "  <tbody>\n",
       "    <tr>\n",
       "      <th>0</th>\n",
       "      <td>KS</td>\n",
       "      <td>128</td>\n",
       "      <td>415</td>\n",
       "      <td>382-4657</td>\n",
       "      <td>no</td>\n",
       "      <td>yes</td>\n",
       "      <td>25</td>\n",
       "      <td>265.1</td>\n",
       "      <td>110</td>\n",
       "      <td>45.07</td>\n",
       "      <td>...</td>\n",
       "      <td>99</td>\n",
       "      <td>16.78</td>\n",
       "      <td>244.7</td>\n",
       "      <td>91</td>\n",
       "      <td>11.01</td>\n",
       "      <td>10.0</td>\n",
       "      <td>3</td>\n",
       "      <td>2.70</td>\n",
       "      <td>1</td>\n",
       "      <td>False.</td>\n",
       "    </tr>\n",
       "    <tr>\n",
       "      <th>1</th>\n",
       "      <td>OH</td>\n",
       "      <td>107</td>\n",
       "      <td>415</td>\n",
       "      <td>371-7191</td>\n",
       "      <td>no</td>\n",
       "      <td>yes</td>\n",
       "      <td>26</td>\n",
       "      <td>161.6</td>\n",
       "      <td>123</td>\n",
       "      <td>27.47</td>\n",
       "      <td>...</td>\n",
       "      <td>103</td>\n",
       "      <td>16.62</td>\n",
       "      <td>254.4</td>\n",
       "      <td>103</td>\n",
       "      <td>11.45</td>\n",
       "      <td>13.7</td>\n",
       "      <td>3</td>\n",
       "      <td>3.70</td>\n",
       "      <td>1</td>\n",
       "      <td>False.</td>\n",
       "    </tr>\n",
       "    <tr>\n",
       "      <th>2</th>\n",
       "      <td>NJ</td>\n",
       "      <td>137</td>\n",
       "      <td>415</td>\n",
       "      <td>358-1921</td>\n",
       "      <td>no</td>\n",
       "      <td>no</td>\n",
       "      <td>0</td>\n",
       "      <td>243.4</td>\n",
       "      <td>114</td>\n",
       "      <td>41.38</td>\n",
       "      <td>...</td>\n",
       "      <td>110</td>\n",
       "      <td>10.30</td>\n",
       "      <td>162.6</td>\n",
       "      <td>104</td>\n",
       "      <td>7.32</td>\n",
       "      <td>12.2</td>\n",
       "      <td>5</td>\n",
       "      <td>3.29</td>\n",
       "      <td>0</td>\n",
       "      <td>False.</td>\n",
       "    </tr>\n",
       "    <tr>\n",
       "      <th>3</th>\n",
       "      <td>OH</td>\n",
       "      <td>84</td>\n",
       "      <td>408</td>\n",
       "      <td>375-9999</td>\n",
       "      <td>yes</td>\n",
       "      <td>no</td>\n",
       "      <td>0</td>\n",
       "      <td>299.4</td>\n",
       "      <td>71</td>\n",
       "      <td>50.90</td>\n",
       "      <td>...</td>\n",
       "      <td>88</td>\n",
       "      <td>5.26</td>\n",
       "      <td>196.9</td>\n",
       "      <td>89</td>\n",
       "      <td>8.86</td>\n",
       "      <td>6.6</td>\n",
       "      <td>7</td>\n",
       "      <td>1.78</td>\n",
       "      <td>2</td>\n",
       "      <td>False.</td>\n",
       "    </tr>\n",
       "  </tbody>\n",
       "</table>\n",
       "<p>4 rows × 21 columns</p>\n",
       "</div>"
      ],
      "text/plain": [
       "  State  Account Length  Area Code     Phone Int'l Plan VMail Plan  \\\n",
       "0    KS             128        415  382-4657         no        yes   \n",
       "1    OH             107        415  371-7191         no        yes   \n",
       "2    NJ             137        415  358-1921         no         no   \n",
       "3    OH              84        408  375-9999        yes         no   \n",
       "\n",
       "   VMail Message  Day Mins  Day Calls  Day Charge   ...    Eve Calls  \\\n",
       "0             25     265.1        110       45.07   ...           99   \n",
       "1             26     161.6        123       27.47   ...          103   \n",
       "2              0     243.4        114       41.38   ...          110   \n",
       "3              0     299.4         71       50.90   ...           88   \n",
       "\n",
       "   Eve Charge  Night Mins  Night Calls  Night Charge  Intl Mins  Intl Calls  \\\n",
       "0       16.78       244.7           91         11.01       10.0           3   \n",
       "1       16.62       254.4          103         11.45       13.7           3   \n",
       "2       10.30       162.6          104          7.32       12.2           5   \n",
       "3        5.26       196.9           89          8.86        6.6           7   \n",
       "\n",
       "   Intl Charge  CustServ Calls  Churn?  \n",
       "0         2.70               1  False.  \n",
       "1         3.70               1  False.  \n",
       "2         3.29               0  False.  \n",
       "3         1.78               2  False.  \n",
       "\n",
       "[4 rows x 21 columns]"
      ]
     },
     "execution_count": 2,
     "metadata": {},
     "output_type": "execute_result"
    }
   ],
   "source": [
    "data.head(4)"
   ]
  },
  {
   "cell_type": "code",
   "execution_count": 3,
   "metadata": {
    "collapsed": false
   },
   "outputs": [
    {
     "data": {
      "text/plain": [
       "(3333, 21)"
      ]
     },
     "execution_count": 3,
     "metadata": {},
     "output_type": "execute_result"
    }
   ],
   "source": [
    "data.shape"
   ]
  },
  {
   "cell_type": "markdown",
   "metadata": {},
   "source": [
    "Here my focus is on analyzing how the consumers' behavior influences whether they will be churners or not. So I will take the State, Phone, and Area code away from Data:"
   ]
  },
  {
   "cell_type": "code",
   "execution_count": 4,
   "metadata": {
    "collapsed": false
   },
   "outputs": [],
   "source": [
    "del data['State']\n",
    "del data['Phone']\n",
    "del data['Area Code']"
   ]
  },
  {
   "cell_type": "code",
   "execution_count": 4,
   "metadata": {
    "collapsed": false
   },
   "outputs": [
    {
     "data": {
      "text/html": [
       "<div>\n",
       "<table border=\"1\" class=\"dataframe\">\n",
       "  <thead>\n",
       "    <tr style=\"text-align: right;\">\n",
       "      <th></th>\n",
       "      <th>Account Length</th>\n",
       "      <th>Int'l Plan</th>\n",
       "      <th>VMail Plan</th>\n",
       "      <th>VMail Message</th>\n",
       "      <th>Day Mins</th>\n",
       "      <th>Day Calls</th>\n",
       "      <th>Day Charge</th>\n",
       "      <th>Eve Mins</th>\n",
       "      <th>Eve Calls</th>\n",
       "      <th>Eve Charge</th>\n",
       "      <th>Night Mins</th>\n",
       "      <th>Night Calls</th>\n",
       "      <th>Night Charge</th>\n",
       "      <th>Intl Mins</th>\n",
       "      <th>Intl Calls</th>\n",
       "      <th>Intl Charge</th>\n",
       "      <th>CustServ Calls</th>\n",
       "      <th>Churn?</th>\n",
       "    </tr>\n",
       "  </thead>\n",
       "  <tbody>\n",
       "    <tr>\n",
       "      <th>0</th>\n",
       "      <td>128</td>\n",
       "      <td>no</td>\n",
       "      <td>yes</td>\n",
       "      <td>25</td>\n",
       "      <td>265.1</td>\n",
       "      <td>110</td>\n",
       "      <td>45.07</td>\n",
       "      <td>197.4</td>\n",
       "      <td>99</td>\n",
       "      <td>16.78</td>\n",
       "      <td>244.7</td>\n",
       "      <td>91</td>\n",
       "      <td>11.01</td>\n",
       "      <td>10.0</td>\n",
       "      <td>3</td>\n",
       "      <td>2.70</td>\n",
       "      <td>1</td>\n",
       "      <td>False.</td>\n",
       "    </tr>\n",
       "    <tr>\n",
       "      <th>1</th>\n",
       "      <td>107</td>\n",
       "      <td>no</td>\n",
       "      <td>yes</td>\n",
       "      <td>26</td>\n",
       "      <td>161.6</td>\n",
       "      <td>123</td>\n",
       "      <td>27.47</td>\n",
       "      <td>195.5</td>\n",
       "      <td>103</td>\n",
       "      <td>16.62</td>\n",
       "      <td>254.4</td>\n",
       "      <td>103</td>\n",
       "      <td>11.45</td>\n",
       "      <td>13.7</td>\n",
       "      <td>3</td>\n",
       "      <td>3.70</td>\n",
       "      <td>1</td>\n",
       "      <td>False.</td>\n",
       "    </tr>\n",
       "    <tr>\n",
       "      <th>2</th>\n",
       "      <td>137</td>\n",
       "      <td>no</td>\n",
       "      <td>no</td>\n",
       "      <td>0</td>\n",
       "      <td>243.4</td>\n",
       "      <td>114</td>\n",
       "      <td>41.38</td>\n",
       "      <td>121.2</td>\n",
       "      <td>110</td>\n",
       "      <td>10.30</td>\n",
       "      <td>162.6</td>\n",
       "      <td>104</td>\n",
       "      <td>7.32</td>\n",
       "      <td>12.2</td>\n",
       "      <td>5</td>\n",
       "      <td>3.29</td>\n",
       "      <td>0</td>\n",
       "      <td>False.</td>\n",
       "    </tr>\n",
       "    <tr>\n",
       "      <th>3</th>\n",
       "      <td>84</td>\n",
       "      <td>yes</td>\n",
       "      <td>no</td>\n",
       "      <td>0</td>\n",
       "      <td>299.4</td>\n",
       "      <td>71</td>\n",
       "      <td>50.90</td>\n",
       "      <td>61.9</td>\n",
       "      <td>88</td>\n",
       "      <td>5.26</td>\n",
       "      <td>196.9</td>\n",
       "      <td>89</td>\n",
       "      <td>8.86</td>\n",
       "      <td>6.6</td>\n",
       "      <td>7</td>\n",
       "      <td>1.78</td>\n",
       "      <td>2</td>\n",
       "      <td>False.</td>\n",
       "    </tr>\n",
       "    <tr>\n",
       "      <th>4</th>\n",
       "      <td>75</td>\n",
       "      <td>yes</td>\n",
       "      <td>no</td>\n",
       "      <td>0</td>\n",
       "      <td>166.7</td>\n",
       "      <td>113</td>\n",
       "      <td>28.34</td>\n",
       "      <td>148.3</td>\n",
       "      <td>122</td>\n",
       "      <td>12.61</td>\n",
       "      <td>186.9</td>\n",
       "      <td>121</td>\n",
       "      <td>8.41</td>\n",
       "      <td>10.1</td>\n",
       "      <td>3</td>\n",
       "      <td>2.73</td>\n",
       "      <td>3</td>\n",
       "      <td>False.</td>\n",
       "    </tr>\n",
       "  </tbody>\n",
       "</table>\n",
       "</div>"
      ],
      "text/plain": [
       "   Account Length Int'l Plan VMail Plan  VMail Message  Day Mins  Day Calls  \\\n",
       "0             128         no        yes             25     265.1        110   \n",
       "1             107         no        yes             26     161.6        123   \n",
       "2             137         no         no              0     243.4        114   \n",
       "3              84        yes         no              0     299.4         71   \n",
       "4              75        yes         no              0     166.7        113   \n",
       "\n",
       "   Day Charge  Eve Mins  Eve Calls  Eve Charge  Night Mins  Night Calls  \\\n",
       "0       45.07     197.4         99       16.78       244.7           91   \n",
       "1       27.47     195.5        103       16.62       254.4          103   \n",
       "2       41.38     121.2        110       10.30       162.6          104   \n",
       "3       50.90      61.9         88        5.26       196.9           89   \n",
       "4       28.34     148.3        122       12.61       186.9          121   \n",
       "\n",
       "   Night Charge  Intl Mins  Intl Calls  Intl Charge  CustServ Calls  Churn?  \n",
       "0         11.01       10.0           3         2.70               1  False.  \n",
       "1         11.45       13.7           3         3.70               1  False.  \n",
       "2          7.32       12.2           5         3.29               0  False.  \n",
       "3          8.86        6.6           7         1.78               2  False.  \n",
       "4          8.41       10.1           3         2.73               3  False.  "
      ]
     },
     "execution_count": 4,
     "metadata": {},
     "output_type": "execute_result"
    }
   ],
   "source": [
    "data.head()"
   ]
  },
  {
   "cell_type": "code",
   "execution_count": 5,
   "metadata": {
    "collapsed": false
   },
   "outputs": [
    {
     "data": {
      "text/plain": [
       "Index([u'Account Length', u'Int'l Plan', u'VMail Plan', u'VMail Message',\n",
       "       u'Day Mins', u'Day Calls', u'Day Charge', u'Eve Mins', u'Eve Calls',\n",
       "       u'Eve Charge', u'Night Mins', u'Night Calls', u'Night Charge',\n",
       "       u'Intl Mins', u'Intl Calls', u'Intl Charge', u'CustServ Calls',\n",
       "       u'Churn?'],\n",
       "      dtype='object')"
      ]
     },
     "execution_count": 5,
     "metadata": {},
     "output_type": "execute_result"
    }
   ],
   "source": [
    "data.columns"
   ]
  },
  {
   "cell_type": "code",
   "execution_count": 6,
   "metadata": {
    "collapsed": false
   },
   "outputs": [
    {
     "data": {
      "text/html": [
       "<div>\n",
       "<table border=\"1\" class=\"dataframe\">\n",
       "  <thead>\n",
       "    <tr style=\"text-align: right;\">\n",
       "      <th></th>\n",
       "      <th>Account Length</th>\n",
       "      <th>VMail Message</th>\n",
       "      <th>Day Mins</th>\n",
       "      <th>Day Calls</th>\n",
       "      <th>Day Charge</th>\n",
       "      <th>Eve Mins</th>\n",
       "      <th>Eve Calls</th>\n",
       "      <th>Eve Charge</th>\n",
       "      <th>Night Mins</th>\n",
       "      <th>Night Calls</th>\n",
       "      <th>...</th>\n",
       "      <th>Intl Mins</th>\n",
       "      <th>Intl Calls</th>\n",
       "      <th>Intl Charge</th>\n",
       "      <th>CustServ Calls</th>\n",
       "      <th>Int'l Plan_no</th>\n",
       "      <th>Int'l Plan_yes</th>\n",
       "      <th>VMail Plan_no</th>\n",
       "      <th>VMail Plan_yes</th>\n",
       "      <th>Churn?_False.</th>\n",
       "      <th>Churn?_True.</th>\n",
       "    </tr>\n",
       "  </thead>\n",
       "  <tbody>\n",
       "    <tr>\n",
       "      <th>0</th>\n",
       "      <td>128</td>\n",
       "      <td>25</td>\n",
       "      <td>265.1</td>\n",
       "      <td>110</td>\n",
       "      <td>45.07</td>\n",
       "      <td>197.4</td>\n",
       "      <td>99</td>\n",
       "      <td>16.78</td>\n",
       "      <td>244.7</td>\n",
       "      <td>91</td>\n",
       "      <td>...</td>\n",
       "      <td>10.0</td>\n",
       "      <td>3</td>\n",
       "      <td>2.70</td>\n",
       "      <td>1</td>\n",
       "      <td>1.0</td>\n",
       "      <td>0.0</td>\n",
       "      <td>0.0</td>\n",
       "      <td>1.0</td>\n",
       "      <td>1.0</td>\n",
       "      <td>0.0</td>\n",
       "    </tr>\n",
       "    <tr>\n",
       "      <th>1</th>\n",
       "      <td>107</td>\n",
       "      <td>26</td>\n",
       "      <td>161.6</td>\n",
       "      <td>123</td>\n",
       "      <td>27.47</td>\n",
       "      <td>195.5</td>\n",
       "      <td>103</td>\n",
       "      <td>16.62</td>\n",
       "      <td>254.4</td>\n",
       "      <td>103</td>\n",
       "      <td>...</td>\n",
       "      <td>13.7</td>\n",
       "      <td>3</td>\n",
       "      <td>3.70</td>\n",
       "      <td>1</td>\n",
       "      <td>1.0</td>\n",
       "      <td>0.0</td>\n",
       "      <td>0.0</td>\n",
       "      <td>1.0</td>\n",
       "      <td>1.0</td>\n",
       "      <td>0.0</td>\n",
       "    </tr>\n",
       "    <tr>\n",
       "      <th>2</th>\n",
       "      <td>137</td>\n",
       "      <td>0</td>\n",
       "      <td>243.4</td>\n",
       "      <td>114</td>\n",
       "      <td>41.38</td>\n",
       "      <td>121.2</td>\n",
       "      <td>110</td>\n",
       "      <td>10.30</td>\n",
       "      <td>162.6</td>\n",
       "      <td>104</td>\n",
       "      <td>...</td>\n",
       "      <td>12.2</td>\n",
       "      <td>5</td>\n",
       "      <td>3.29</td>\n",
       "      <td>0</td>\n",
       "      <td>1.0</td>\n",
       "      <td>0.0</td>\n",
       "      <td>1.0</td>\n",
       "      <td>0.0</td>\n",
       "      <td>1.0</td>\n",
       "      <td>0.0</td>\n",
       "    </tr>\n",
       "    <tr>\n",
       "      <th>3</th>\n",
       "      <td>84</td>\n",
       "      <td>0</td>\n",
       "      <td>299.4</td>\n",
       "      <td>71</td>\n",
       "      <td>50.90</td>\n",
       "      <td>61.9</td>\n",
       "      <td>88</td>\n",
       "      <td>5.26</td>\n",
       "      <td>196.9</td>\n",
       "      <td>89</td>\n",
       "      <td>...</td>\n",
       "      <td>6.6</td>\n",
       "      <td>7</td>\n",
       "      <td>1.78</td>\n",
       "      <td>2</td>\n",
       "      <td>0.0</td>\n",
       "      <td>1.0</td>\n",
       "      <td>1.0</td>\n",
       "      <td>0.0</td>\n",
       "      <td>1.0</td>\n",
       "      <td>0.0</td>\n",
       "    </tr>\n",
       "    <tr>\n",
       "      <th>4</th>\n",
       "      <td>75</td>\n",
       "      <td>0</td>\n",
       "      <td>166.7</td>\n",
       "      <td>113</td>\n",
       "      <td>28.34</td>\n",
       "      <td>148.3</td>\n",
       "      <td>122</td>\n",
       "      <td>12.61</td>\n",
       "      <td>186.9</td>\n",
       "      <td>121</td>\n",
       "      <td>...</td>\n",
       "      <td>10.1</td>\n",
       "      <td>3</td>\n",
       "      <td>2.73</td>\n",
       "      <td>3</td>\n",
       "      <td>0.0</td>\n",
       "      <td>1.0</td>\n",
       "      <td>1.0</td>\n",
       "      <td>0.0</td>\n",
       "      <td>1.0</td>\n",
       "      <td>0.0</td>\n",
       "    </tr>\n",
       "  </tbody>\n",
       "</table>\n",
       "<p>5 rows × 21 columns</p>\n",
       "</div>"
      ],
      "text/plain": [
       "   Account Length  VMail Message  Day Mins  Day Calls  Day Charge  Eve Mins  \\\n",
       "0             128             25     265.1        110       45.07     197.4   \n",
       "1             107             26     161.6        123       27.47     195.5   \n",
       "2             137              0     243.4        114       41.38     121.2   \n",
       "3              84              0     299.4         71       50.90      61.9   \n",
       "4              75              0     166.7        113       28.34     148.3   \n",
       "\n",
       "   Eve Calls  Eve Charge  Night Mins  Night Calls      ...       Intl Mins  \\\n",
       "0         99       16.78       244.7           91      ...            10.0   \n",
       "1        103       16.62       254.4          103      ...            13.7   \n",
       "2        110       10.30       162.6          104      ...            12.2   \n",
       "3         88        5.26       196.9           89      ...             6.6   \n",
       "4        122       12.61       186.9          121      ...            10.1   \n",
       "\n",
       "   Intl Calls  Intl Charge  CustServ Calls  Int'l Plan_no  Int'l Plan_yes  \\\n",
       "0           3         2.70               1            1.0             0.0   \n",
       "1           3         3.70               1            1.0             0.0   \n",
       "2           5         3.29               0            1.0             0.0   \n",
       "3           7         1.78               2            0.0             1.0   \n",
       "4           3         2.73               3            0.0             1.0   \n",
       "\n",
       "   VMail Plan_no  VMail Plan_yes  Churn?_False.  Churn?_True.  \n",
       "0            0.0             1.0            1.0           0.0  \n",
       "1            0.0             1.0            1.0           0.0  \n",
       "2            1.0             0.0            1.0           0.0  \n",
       "3            1.0             0.0            1.0           0.0  \n",
       "4            1.0             0.0            1.0           0.0  \n",
       "\n",
       "[5 rows x 21 columns]"
      ]
     },
     "execution_count": 6,
     "metadata": {},
     "output_type": "execute_result"
    }
   ],
   "source": [
    "data = pd.get_dummies(data)\n",
    "data.head()"
   ]
  },
  {
   "cell_type": "markdown",
   "metadata": {},
   "source": [
    "Also remove some redundant features from dummy variables (to reduce the feature dimension): "
   ]
  },
  {
   "cell_type": "code",
   "execution_count": 86,
   "metadata": {
    "collapsed": false
   },
   "outputs": [],
   "source": [
    "del data[\"Int'l Plan_no\"]\n",
    "del data[\"VMail Plan_no\"]\n",
    "del data[\"Churn?_False.\"]"
   ]
  },
  {
   "cell_type": "code",
   "execution_count": 87,
   "metadata": {
    "collapsed": false
   },
   "outputs": [
    {
     "data": {
      "text/html": [
       "<div>\n",
       "<table border=\"1\" class=\"dataframe\">\n",
       "  <thead>\n",
       "    <tr style=\"text-align: right;\">\n",
       "      <th></th>\n",
       "      <th>Account Length</th>\n",
       "      <th>VMail Message</th>\n",
       "      <th>Day Mins</th>\n",
       "      <th>Day Calls</th>\n",
       "      <th>Day Charge</th>\n",
       "      <th>Eve Mins</th>\n",
       "      <th>Eve Calls</th>\n",
       "      <th>Eve Charge</th>\n",
       "      <th>Night Mins</th>\n",
       "      <th>Night Calls</th>\n",
       "      <th>Night Charge</th>\n",
       "      <th>Intl Mins</th>\n",
       "      <th>Intl Calls</th>\n",
       "      <th>Intl Charge</th>\n",
       "      <th>CustServ Calls</th>\n",
       "      <th>Int'l Plan_yes</th>\n",
       "      <th>VMail Plan_yes</th>\n",
       "      <th>Churn?_True.</th>\n",
       "    </tr>\n",
       "  </thead>\n",
       "  <tbody>\n",
       "    <tr>\n",
       "      <th>0</th>\n",
       "      <td>128</td>\n",
       "      <td>25</td>\n",
       "      <td>265.1</td>\n",
       "      <td>110</td>\n",
       "      <td>45.07</td>\n",
       "      <td>197.4</td>\n",
       "      <td>99</td>\n",
       "      <td>16.78</td>\n",
       "      <td>244.7</td>\n",
       "      <td>91</td>\n",
       "      <td>11.01</td>\n",
       "      <td>10.0</td>\n",
       "      <td>3</td>\n",
       "      <td>2.70</td>\n",
       "      <td>1</td>\n",
       "      <td>0.0</td>\n",
       "      <td>1.0</td>\n",
       "      <td>0.0</td>\n",
       "    </tr>\n",
       "    <tr>\n",
       "      <th>1</th>\n",
       "      <td>107</td>\n",
       "      <td>26</td>\n",
       "      <td>161.6</td>\n",
       "      <td>123</td>\n",
       "      <td>27.47</td>\n",
       "      <td>195.5</td>\n",
       "      <td>103</td>\n",
       "      <td>16.62</td>\n",
       "      <td>254.4</td>\n",
       "      <td>103</td>\n",
       "      <td>11.45</td>\n",
       "      <td>13.7</td>\n",
       "      <td>3</td>\n",
       "      <td>3.70</td>\n",
       "      <td>1</td>\n",
       "      <td>0.0</td>\n",
       "      <td>1.0</td>\n",
       "      <td>0.0</td>\n",
       "    </tr>\n",
       "    <tr>\n",
       "      <th>2</th>\n",
       "      <td>137</td>\n",
       "      <td>0</td>\n",
       "      <td>243.4</td>\n",
       "      <td>114</td>\n",
       "      <td>41.38</td>\n",
       "      <td>121.2</td>\n",
       "      <td>110</td>\n",
       "      <td>10.30</td>\n",
       "      <td>162.6</td>\n",
       "      <td>104</td>\n",
       "      <td>7.32</td>\n",
       "      <td>12.2</td>\n",
       "      <td>5</td>\n",
       "      <td>3.29</td>\n",
       "      <td>0</td>\n",
       "      <td>0.0</td>\n",
       "      <td>0.0</td>\n",
       "      <td>0.0</td>\n",
       "    </tr>\n",
       "    <tr>\n",
       "      <th>3</th>\n",
       "      <td>84</td>\n",
       "      <td>0</td>\n",
       "      <td>299.4</td>\n",
       "      <td>71</td>\n",
       "      <td>50.90</td>\n",
       "      <td>61.9</td>\n",
       "      <td>88</td>\n",
       "      <td>5.26</td>\n",
       "      <td>196.9</td>\n",
       "      <td>89</td>\n",
       "      <td>8.86</td>\n",
       "      <td>6.6</td>\n",
       "      <td>7</td>\n",
       "      <td>1.78</td>\n",
       "      <td>2</td>\n",
       "      <td>1.0</td>\n",
       "      <td>0.0</td>\n",
       "      <td>0.0</td>\n",
       "    </tr>\n",
       "    <tr>\n",
       "      <th>4</th>\n",
       "      <td>75</td>\n",
       "      <td>0</td>\n",
       "      <td>166.7</td>\n",
       "      <td>113</td>\n",
       "      <td>28.34</td>\n",
       "      <td>148.3</td>\n",
       "      <td>122</td>\n",
       "      <td>12.61</td>\n",
       "      <td>186.9</td>\n",
       "      <td>121</td>\n",
       "      <td>8.41</td>\n",
       "      <td>10.1</td>\n",
       "      <td>3</td>\n",
       "      <td>2.73</td>\n",
       "      <td>3</td>\n",
       "      <td>1.0</td>\n",
       "      <td>0.0</td>\n",
       "      <td>0.0</td>\n",
       "    </tr>\n",
       "  </tbody>\n",
       "</table>\n",
       "</div>"
      ],
      "text/plain": [
       "   Account Length  VMail Message  Day Mins  Day Calls  Day Charge  Eve Mins  \\\n",
       "0             128             25     265.1        110       45.07     197.4   \n",
       "1             107             26     161.6        123       27.47     195.5   \n",
       "2             137              0     243.4        114       41.38     121.2   \n",
       "3              84              0     299.4         71       50.90      61.9   \n",
       "4              75              0     166.7        113       28.34     148.3   \n",
       "\n",
       "   Eve Calls  Eve Charge  Night Mins  Night Calls  Night Charge  Intl Mins  \\\n",
       "0         99       16.78       244.7           91         11.01       10.0   \n",
       "1        103       16.62       254.4          103         11.45       13.7   \n",
       "2        110       10.30       162.6          104          7.32       12.2   \n",
       "3         88        5.26       196.9           89          8.86        6.6   \n",
       "4        122       12.61       186.9          121          8.41       10.1   \n",
       "\n",
       "   Intl Calls  Intl Charge  CustServ Calls  Int'l Plan_yes  VMail Plan_yes  \\\n",
       "0           3         2.70               1             0.0             1.0   \n",
       "1           3         3.70               1             0.0             1.0   \n",
       "2           5         3.29               0             0.0             0.0   \n",
       "3           7         1.78               2             1.0             0.0   \n",
       "4           3         2.73               3             1.0             0.0   \n",
       "\n",
       "   Churn?_True.  \n",
       "0           0.0  \n",
       "1           0.0  \n",
       "2           0.0  \n",
       "3           0.0  \n",
       "4           0.0  "
      ]
     },
     "execution_count": 87,
     "metadata": {},
     "output_type": "execute_result"
    }
   ],
   "source": [
    "data.head()"
   ]
  },
  {
   "cell_type": "code",
   "execution_count": 7,
   "metadata": {
    "collapsed": false
   },
   "outputs": [
    {
     "data": {
      "text/plain": [
       "Index([u'Account Length', u'VMail Message', u'Day Mins', u'Day Calls',\n",
       "       u'Day Charge', u'Eve Mins', u'Eve Calls', u'Eve Charge', u'Night Mins',\n",
       "       u'Night Calls', u'Night Charge', u'Intl Mins', u'Intl Calls',\n",
       "       u'Intl Charge', u'CustServ Calls', u'Int'l Plan_no', u'Int'l Plan_yes',\n",
       "       u'VMail Plan_no', u'VMail Plan_yes', u'Churn?_False.', u'Churn?_True.'],\n",
       "      dtype='object')"
      ]
     },
     "execution_count": 7,
     "metadata": {},
     "output_type": "execute_result"
    }
   ],
   "source": [
    "data.columns"
   ]
  },
  {
   "cell_type": "code",
   "execution_count": 88,
   "metadata": {
    "collapsed": false
   },
   "outputs": [
    {
     "data": {
      "text/html": [
       "<div>\n",
       "<table border=\"1\" class=\"dataframe\">\n",
       "  <thead>\n",
       "    <tr style=\"text-align: right;\">\n",
       "      <th></th>\n",
       "      <th>Account Length</th>\n",
       "      <th>VMail Message</th>\n",
       "      <th>Day Mins</th>\n",
       "      <th>Day Calls</th>\n",
       "      <th>Day Charge</th>\n",
       "      <th>Eve Mins</th>\n",
       "      <th>Eve Calls</th>\n",
       "      <th>Eve Charge</th>\n",
       "      <th>Night Mins</th>\n",
       "      <th>Night Calls</th>\n",
       "      <th>Night Charge</th>\n",
       "      <th>Intl Mins</th>\n",
       "      <th>Intl Calls</th>\n",
       "      <th>Intl Charge</th>\n",
       "      <th>CustServ Calls</th>\n",
       "      <th>Int'l Plan_yes</th>\n",
       "      <th>VMail Plan_yes</th>\n",
       "    </tr>\n",
       "  </thead>\n",
       "  <tbody>\n",
       "    <tr>\n",
       "      <th>0</th>\n",
       "      <td>128</td>\n",
       "      <td>25</td>\n",
       "      <td>265.1</td>\n",
       "      <td>110</td>\n",
       "      <td>45.07</td>\n",
       "      <td>197.4</td>\n",
       "      <td>99</td>\n",
       "      <td>16.78</td>\n",
       "      <td>244.7</td>\n",
       "      <td>91</td>\n",
       "      <td>11.01</td>\n",
       "      <td>10.0</td>\n",
       "      <td>3</td>\n",
       "      <td>2.70</td>\n",
       "      <td>1</td>\n",
       "      <td>0.0</td>\n",
       "      <td>1.0</td>\n",
       "    </tr>\n",
       "    <tr>\n",
       "      <th>1</th>\n",
       "      <td>107</td>\n",
       "      <td>26</td>\n",
       "      <td>161.6</td>\n",
       "      <td>123</td>\n",
       "      <td>27.47</td>\n",
       "      <td>195.5</td>\n",
       "      <td>103</td>\n",
       "      <td>16.62</td>\n",
       "      <td>254.4</td>\n",
       "      <td>103</td>\n",
       "      <td>11.45</td>\n",
       "      <td>13.7</td>\n",
       "      <td>3</td>\n",
       "      <td>3.70</td>\n",
       "      <td>1</td>\n",
       "      <td>0.0</td>\n",
       "      <td>1.0</td>\n",
       "    </tr>\n",
       "    <tr>\n",
       "      <th>2</th>\n",
       "      <td>137</td>\n",
       "      <td>0</td>\n",
       "      <td>243.4</td>\n",
       "      <td>114</td>\n",
       "      <td>41.38</td>\n",
       "      <td>121.2</td>\n",
       "      <td>110</td>\n",
       "      <td>10.30</td>\n",
       "      <td>162.6</td>\n",
       "      <td>104</td>\n",
       "      <td>7.32</td>\n",
       "      <td>12.2</td>\n",
       "      <td>5</td>\n",
       "      <td>3.29</td>\n",
       "      <td>0</td>\n",
       "      <td>0.0</td>\n",
       "      <td>0.0</td>\n",
       "    </tr>\n",
       "    <tr>\n",
       "      <th>3</th>\n",
       "      <td>84</td>\n",
       "      <td>0</td>\n",
       "      <td>299.4</td>\n",
       "      <td>71</td>\n",
       "      <td>50.90</td>\n",
       "      <td>61.9</td>\n",
       "      <td>88</td>\n",
       "      <td>5.26</td>\n",
       "      <td>196.9</td>\n",
       "      <td>89</td>\n",
       "      <td>8.86</td>\n",
       "      <td>6.6</td>\n",
       "      <td>7</td>\n",
       "      <td>1.78</td>\n",
       "      <td>2</td>\n",
       "      <td>1.0</td>\n",
       "      <td>0.0</td>\n",
       "    </tr>\n",
       "    <tr>\n",
       "      <th>4</th>\n",
       "      <td>75</td>\n",
       "      <td>0</td>\n",
       "      <td>166.7</td>\n",
       "      <td>113</td>\n",
       "      <td>28.34</td>\n",
       "      <td>148.3</td>\n",
       "      <td>122</td>\n",
       "      <td>12.61</td>\n",
       "      <td>186.9</td>\n",
       "      <td>121</td>\n",
       "      <td>8.41</td>\n",
       "      <td>10.1</td>\n",
       "      <td>3</td>\n",
       "      <td>2.73</td>\n",
       "      <td>3</td>\n",
       "      <td>1.0</td>\n",
       "      <td>0.0</td>\n",
       "    </tr>\n",
       "  </tbody>\n",
       "</table>\n",
       "</div>"
      ],
      "text/plain": [
       "   Account Length  VMail Message  Day Mins  Day Calls  Day Charge  Eve Mins  \\\n",
       "0             128             25     265.1        110       45.07     197.4   \n",
       "1             107             26     161.6        123       27.47     195.5   \n",
       "2             137              0     243.4        114       41.38     121.2   \n",
       "3              84              0     299.4         71       50.90      61.9   \n",
       "4              75              0     166.7        113       28.34     148.3   \n",
       "\n",
       "   Eve Calls  Eve Charge  Night Mins  Night Calls  Night Charge  Intl Mins  \\\n",
       "0         99       16.78       244.7           91         11.01       10.0   \n",
       "1        103       16.62       254.4          103         11.45       13.7   \n",
       "2        110       10.30       162.6          104          7.32       12.2   \n",
       "3         88        5.26       196.9           89          8.86        6.6   \n",
       "4        122       12.61       186.9          121          8.41       10.1   \n",
       "\n",
       "   Intl Calls  Intl Charge  CustServ Calls  Int'l Plan_yes  VMail Plan_yes  \n",
       "0           3         2.70               1             0.0             1.0  \n",
       "1           3         3.70               1             0.0             1.0  \n",
       "2           5         3.29               0             0.0             0.0  \n",
       "3           7         1.78               2             1.0             0.0  \n",
       "4           3         2.73               3             1.0             0.0  "
      ]
     },
     "execution_count": 88,
     "metadata": {},
     "output_type": "execute_result"
    }
   ],
   "source": [
    "X = data.loc[:,:'VMail Plan_yes']\n",
    "X.head()"
   ]
  },
  {
   "cell_type": "code",
   "execution_count": 89,
   "metadata": {
    "collapsed": false
   },
   "outputs": [
    {
     "data": {
      "text/plain": [
       "(3333, 17)"
      ]
     },
     "execution_count": 89,
     "metadata": {},
     "output_type": "execute_result"
    }
   ],
   "source": [
    "X.shape"
   ]
  },
  {
   "cell_type": "code",
   "execution_count": 13,
   "metadata": {
    "collapsed": false
   },
   "outputs": [
    {
     "data": {
      "text/plain": [
       "0     0.0\n",
       "1     0.0\n",
       "2     0.0\n",
       "3     0.0\n",
       "4     0.0\n",
       "5     0.0\n",
       "6     0.0\n",
       "7     0.0\n",
       "8     0.0\n",
       "9     0.0\n",
       "10    1.0\n",
       "11    0.0\n",
       "12    0.0\n",
       "13    0.0\n",
       "14    0.0\n",
       "15    1.0\n",
       "16    0.0\n",
       "17    0.0\n",
       "18    0.0\n",
       "19    0.0\n",
       "Name: Churn?_True., dtype: float64"
      ]
     },
     "execution_count": 13,
     "metadata": {},
     "output_type": "execute_result"
    }
   ],
   "source": [
    "y = data.loc[:,'Churn?_True.']\n",
    "y.head(20)"
   ]
  },
  {
   "cell_type": "markdown",
   "metadata": {
    "collapsed": true
   },
   "source": [
    "## **Separate Data in Training and Test datasets**"
   ]
  },
  {
   "cell_type": "code",
   "execution_count": 14,
   "metadata": {
    "collapsed": true
   },
   "outputs": [],
   "source": [
    "from sklearn.cross_validation import cross_val_score, train_test_split\n",
    "from sklearn.tree import DecisionTreeClassifier\n",
    "from sklearn import linear_model\n",
    "from sklearn import grid_search"
   ]
  },
  {
   "cell_type": "code",
   "execution_count": 90,
   "metadata": {
    "collapsed": true
   },
   "outputs": [],
   "source": [
    "X_train, X_test, y_train, y_test = train_test_split(X, y, test_size=0.3)"
   ]
  },
  {
   "cell_type": "markdown",
   "metadata": {},
   "source": [
    "## **Sklearn Machine Learning Classifier**"
   ]
  },
  {
   "cell_type": "markdown",
   "metadata": {},
   "source": [
    "### **a. Logistic regression**"
   ]
  },
  {
   "cell_type": "code",
   "execution_count": 96,
   "metadata": {
    "collapsed": false,
    "scrolled": true
   },
   "outputs": [
    {
     "name": "stdout",
     "output_type": "stream",
     "text": [
      "(0.01, 0.8645545803086131)\n",
      "(0.1, 0.86799918792667052)\n",
      "(1, 0.86885940695878539)\n",
      "(2, 0.8697140920020896)\n",
      "(10, 0.87185639393904901)\n",
      "(100, 0.87142719357829601)\n",
      "(500, 0.87271292891575558)\n",
      "(1000, 0.87271292891575558)\n",
      "(5000, 0.87271292891575558)\n",
      "best reg = 500\n",
      "accuracy =  0.841\n"
     ]
    }
   ],
   "source": [
    "best_logreg_model = None\n",
    "max_score = -1\n",
    "best_reg = -1\n",
    "for regularization_param in [0.01, 0.1, 1, 2, 10, 100, 500, 1000, 5000]:\n",
    "    logreg = linear_model.LogisticRegression('l2', C=regularization_param)\n",
    "    cv_score = cross_val_score(logreg, X_train, y_train, cv=10)\n",
    "    print (regularization_param, np.mean(cv_score))\n",
    "    if np.mean(cv_score) > max_score:\n",
    "        max_score = np.mean(cv_score)\n",
    "        best_logreg_model = logreg\n",
    "        best_reg = regularization_param\n",
    "        \n",
    "best_logreg_model.fit(X_train, y_train)\n",
    "print 'best reg =', best_reg\n",
    "print 'accuracy = ', best_logreg_model.score(X_test, y_test)"
   ]
  },
  {
   "cell_type": "code",
   "execution_count": 97,
   "metadata": {
    "collapsed": true
   },
   "outputs": [],
   "source": [
    "logreg_y_test_prob = best_logreg_model.predict_proba(X_test)"
   ]
  },
  {
   "cell_type": "markdown",
   "metadata": {},
   "source": [
    "### **b. k-nearest-neighbor classifier**"
   ]
  },
  {
   "cell_type": "code",
   "execution_count": 98,
   "metadata": {
    "collapsed": false
   },
   "outputs": [
    {
     "name": "stdout",
     "output_type": "stream",
     "text": [
      "(1, 0.82810482070508706)\n",
      "(2, 0.87784105498697773)\n",
      "(3, 0.87654431491748352)\n",
      "(5, 0.88469335061202747)\n",
      "(6, 0.88426419768546438)\n",
      "(7, 0.88769767408031419)\n",
      "(8, 0.88513730300580973)\n",
      "(9, 0.88727772338657351)\n",
      "(10, 0.88513915293921208)\n",
      "(20, 0.88171299722098895)\n",
      "('best K is:', 7)\n",
      "0.859\n"
     ]
    }
   ],
   "source": [
    "from sklearn.neighbors import KNeighborsClassifier\n",
    "best_knn_model = None\n",
    "best_k = -1\n",
    "max_score = -1\n",
    "for n_neighbors in [1,2,3,5,6,7,8,9,10,20]:\n",
    "    KNN = KNeighborsClassifier(n_neighbors)\n",
    "    cv_score = cross_val_score(KNN, X_train, y_train, cv=10)\n",
    "    acc = np.mean(cv_score) \n",
    "    print (n_neighbors, acc)\n",
    "    if acc > max_score:\n",
    "        best_k = n_neighbors\n",
    "        max_score = acc\n",
    "        best_knn_model = KNN\n",
    "\n",
    "best_knn_model.fit(X_train, y_train)\n",
    "print('best K is:', best_k)\n",
    "print best_knn_model.score(X_test, y_test)"
   ]
  },
  {
   "cell_type": "code",
   "execution_count": 99,
   "metadata": {
    "collapsed": true
   },
   "outputs": [],
   "source": [
    "knn_y_test_prob = best_knn_model.predict_proba(X_test)"
   ]
  },
  {
   "cell_type": "markdown",
   "metadata": {},
   "source": [
    "### **c. LDA**"
   ]
  },
  {
   "cell_type": "code",
   "execution_count": 93,
   "metadata": {
    "collapsed": false
   },
   "outputs": [
    {
     "name": "stdout",
     "output_type": "stream",
     "text": [
      "('ACC: ', 0.83499999999999996)\n"
     ]
    }
   ],
   "source": [
    "from sklearn.lda import LDA\n",
    "lda = LDA()\n",
    "lda.fit(X_train, y_train)\n",
    "print ('ACC: ', lda.score(X_test, y_test))"
   ]
  },
  {
   "cell_type": "code",
   "execution_count": 94,
   "metadata": {
    "collapsed": true
   },
   "outputs": [],
   "source": [
    "lda_y_test_prob = lda.predict_proba(X_test)"
   ]
  },
  {
   "cell_type": "markdown",
   "metadata": {},
   "source": [
    "### **d. QDA**"
   ]
  },
  {
   "cell_type": "code",
   "execution_count": 91,
   "metadata": {
    "collapsed": false
   },
   "outputs": [
    {
     "name": "stdout",
     "output_type": "stream",
     "text": [
      "('ACC:', 0.86099999999999999)\n"
     ]
    }
   ],
   "source": [
    "from sklearn.qda import QDA\n",
    "qda = QDA()\n",
    "qda.fit(X_train, y_train)\n",
    "print ('ACC:', qda.score(X_test, y_test))"
   ]
  },
  {
   "cell_type": "code",
   "execution_count": 92,
   "metadata": {
    "collapsed": true
   },
   "outputs": [],
   "source": [
    "qda_y_test_prob = qda.predict_proba(X_test)"
   ]
  },
  {
   "cell_type": "markdown",
   "metadata": {},
   "source": [
    "### **e. Support vector machine**"
   ]
  },
  {
   "cell_type": "code",
   "execution_count": 58,
   "metadata": {
    "collapsed": true
   },
   "outputs": [],
   "source": [
    "from sklearn import svm"
   ]
  },
  {
   "cell_type": "code",
   "execution_count": 112,
   "metadata": {
    "collapsed": false
   },
   "outputs": [
    {
     "name": "stdout",
     "output_type": "stream",
     "text": [
      "(1.0, 0.84199999999999997)\n",
      "(2.0, 0.84299999999999997)\n",
      "(3.0, 0.84799999999999998)\n",
      "(4.0, 0.84999999999999998)\n",
      "(5.0, 0.85199999999999998)\n",
      "(7.0, 0.84699999999999998)\n",
      "(10, 0.84899999999999998)\n",
      "(15, 0.84399999999999997)\n",
      "(20, 0.83999999999999997)\n",
      "('best C =', 5.0)\n",
      "('ACC: ', 0.85199999999999998)\n"
     ]
    }
   ],
   "source": [
    "best_svm_model = None\n",
    "best_Cs = -1\n",
    "max_score = -1\n",
    "for Cs in [1.0, 2.0, 3.0, 4.0, 5.0, 7.0, 10, 15, 20]:\n",
    "    svc = svm.SVC(kernel='linear', C=Cs, probability=True)\n",
    "    ### not suggest to do cv in SVM since it costs time a lot, even an iteration\n",
    "    #cv_score = cross_val_score(svc, X_train, y_train, cv=5) \n",
    "    svc.fit(X_train, y_train)\n",
    "    acc = svc.score(X_test, y_test)\n",
    "    print (Cs, acc)\n",
    "    if acc > max_score:\n",
    "        best_Cs = Cs\n",
    "        max_score = acc\n",
    "        best_svm_model = svc\n",
    "\n",
    "best_svm_model.fit(X_train, y_train)\n",
    "print ('best C =', best_Cs)\n",
    "print ('ACC: ', best_svm_model.score(X_test, y_test))"
   ]
  },
  {
   "cell_type": "code",
   "execution_count": 113,
   "metadata": {
    "collapsed": true
   },
   "outputs": [],
   "source": [
    "svm_y_test_prob = best_svm_model.predict_proba(X_test)"
   ]
  },
  {
   "cell_type": "code",
   "execution_count": 26,
   "metadata": {
    "collapsed": false
   },
   "outputs": [
    {
     "name": "stdout",
     "output_type": "stream",
     "text": [
      "('ACC: ', 0.86636363636363634)\n"
     ]
    }
   ],
   "source": [
    "rbf_svc = svm.SVC(kernel='rbf', gamma=0.7, C=C).fit(X_train, y_train)\n",
    "rbf_svc.fit(X_train, y_train)\n",
    "print ('ACC: ', rbf_svc.score(X_test, y_test))"
   ]
  },
  {
   "cell_type": "code",
   "execution_count": 108,
   "metadata": {
    "collapsed": false
   },
   "outputs": [
    {
     "name": "stdout",
     "output_type": "stream",
     "text": [
      "('ACC: ', 0.84999999999999998)\n"
     ]
    }
   ],
   "source": [
    "C = 6.0\n",
    "linear_svc = svm.LinearSVC(C=C).fit(X_train, y_train)\n",
    "linear_svc.fit(X_train, y_train)\n",
    "print ('ACC: ', linear_svc.score(X_test, y_test))"
   ]
  },
  {
   "cell_type": "markdown",
   "metadata": {},
   "source": [
    "### **f. Decision tree**"
   ]
  },
  {
   "cell_type": "code",
   "execution_count": 109,
   "metadata": {
    "collapsed": false
   },
   "outputs": [
    {
     "name": "stdout",
     "output_type": "stream",
     "text": [
      "(4, 5, 0.89883640770128859)\n",
      "(4, 10, 0.90056596894135732)\n",
      "(4, 15, 0.88599382217111966)\n",
      "(4, 20, 0.87913045856844874)\n",
      "(8, 5, 0.92070292093416273)\n",
      "(8, 10, 0.9215815602433185)\n",
      "(8, 15, 0.90614181051875298)\n",
      "(8, 20, 0.89842371443858782)\n",
      "(12, 5, 0.91855511663118583)\n",
      "(12, 10, 0.92371092845785763)\n",
      "(12, 15, 0.9190045397681923)\n",
      "(12, 20, 0.90829690387556306)\n",
      "(16, 5, 0.91899168510275531)\n",
      "(16, 10, 0.92842096958013798)\n",
      "(16, 15, 0.91170283681753284)\n",
      "(16, 20, 0.9048597592367017)\n",
      "('best param =', 16, 10)\n",
      "('ACC: ', 0.94399999999999995)\n"
     ]
    }
   ],
   "source": [
    "best_tree_model = None\n",
    "best_nfeatures = -1\n",
    "best_depth = -1\n",
    "max_score = -1\n",
    "for features in [4, 8, 12, 16]:\n",
    "    for depth in [5, 10, 15, 20]:\n",
    "        tree = DecisionTreeClassifier(max_features = features, max_depth = depth, random_state=0)\n",
    "        cv_score = cross_val_score(tree, X_train, y_train, cv=10)  \n",
    "        acc = np.mean(cv_score) \n",
    "        print (features, depth, acc)\n",
    "        if acc > max_score:\n",
    "            best_nfeatures = features \n",
    "            best_depth = depth\n",
    "            best_tree_model = tree\n",
    "            max_score = acc\n",
    "            \n",
    "\n",
    "best_tree_model.fit(X_train, y_train)\n",
    "print ('best param =', best_nfeatures, best_depth)\n",
    "print ('ACC: ', best_tree_model.score(X_test, y_test))"
   ]
  },
  {
   "cell_type": "code",
   "execution_count": 110,
   "metadata": {
    "collapsed": true
   },
   "outputs": [],
   "source": [
    "tree_y_test_prob = best_tree_model.predict_proba(X_test)"
   ]
  },
  {
   "cell_type": "markdown",
   "metadata": {},
   "source": [
    "### **g. Random forest**"
   ]
  },
  {
   "cell_type": "code",
   "execution_count": 63,
   "metadata": {
    "collapsed": true
   },
   "outputs": [],
   "source": [
    "from sklearn.ensemble import RandomForestClassifier"
   ]
  },
  {
   "cell_type": "code",
   "execution_count": 103,
   "metadata": {
    "collapsed": false
   },
   "outputs": [
    {
     "name": "stdout",
     "output_type": "stream",
     "text": [
      "('ACC:', 0.93600000000000005)\n"
     ]
    }
   ],
   "source": [
    "rf = RandomForestClassifier()\n",
    "rf.fit(X_train, y_train)\n",
    "print ('ACC:', rf.score(X_test, y_test))"
   ]
  },
  {
   "cell_type": "code",
   "execution_count": 104,
   "metadata": {
    "collapsed": false
   },
   "outputs": [
    {
     "name": "stdout",
     "output_type": "stream",
     "text": [
      "Fitting 3 folds for each of 48 candidates, totalling 144 fits\n",
      "[CV] n_estimators=6, max_depth=5, min_samples_leaf=10 ................\n",
      "[CV] n_estimators=6, max_depth=5, min_samples_leaf=10 ................\n",
      "[CV] n_estimators=6, max_depth=5, min_samples_leaf=10 ................\n",
      "[CV] n_estimators=7, max_depth=5, min_samples_leaf=10 ................\n",
      "[CV] ....... n_estimators=6, max_depth=5, min_samples_leaf=10 -   0.1s\n",
      "[CV] ....... n_estimators=6, max_depth=5, min_samples_leaf=10 -   0.1s\n",
      "[CV] n_estimators=7, max_depth=5, min_samples_leaf=10 ................\n",
      "[CV] n_estimators=7, max_depth=5, min_samples_leaf=10 ................\n",
      "[CV] ....... n_estimators=6, max_depth=5, min_samples_leaf=10 -   0.1s\n",
      "[CV] ....... n_estimators=7, max_depth=5, min_samples_leaf=10 -   0.1s\n",
      "[CV] n_estimators=8, max_depth=5, min_samples_leaf=10 ................\n",
      "[CV] n_estimators=8, max_depth=5, min_samples_leaf=10 ................\n",
      "[CV] ....... n_estimators=7, max_depth=5, min_samples_leaf=10 -   0.1s\n",
      "[CV] n_estimators=8, max_depth=5, min_samples_leaf=10 ................\n",
      "[CV] ....... n_estimators=7, max_depth=5, min_samples_leaf=10 -   0.1s\n",
      "[CV] ....... n_estimators=8, max_depth=5, min_samples_leaf=10 -   0.1s\n",
      "[CV] n_estimators=9, max_depth=5, min_samples_leaf=10 ................\n",
      "[CV] n_estimators=10, max_depth=5, min_samples_leaf=10 ...............\n",
      "[CV] ....... n_estimators=8, max_depth=5, min_samples_leaf=10 -   0.1s\n",
      "[CV] n_estimators=10, max_depth=5, min_samples_leaf=10 ...............\n",
      "[CV] ....... n_estimators=8, max_depth=5, min_samples_leaf=10 -   0.1s\n",
      "[CV] ....... n_estimators=9, max_depth=5, min_samples_leaf=10 -   0.1s\n",
      "[CV] n_estimators=9, max_depth=5, min_samples_leaf=10 ................\n",
      "[CV] n_estimators=9, max_depth=5, min_samples_leaf=10 ................\n",
      "[CV] ...... n_estimators=10, max_depth=5, min_samples_leaf=10 -   0.1s\n",
      "[CV] ...... n_estimators=10, max_depth=5, min_samples_leaf=10 -   0.1s\n",
      "[CV] n_estimators=12, max_depth=5, min_samples_leaf=10 ...............\n",
      "[CV] n_estimators=10, max_depth=5, min_samples_leaf=10 ...............\n",
      "[CV] ....... n_estimators=9, max_depth=5, min_samples_leaf=10 -   0.1s\n",
      "[CV] n_estimators=12, max_depth=5, min_samples_leaf=10 ...............\n",
      "[CV] ....... n_estimators=9, max_depth=5, min_samples_leaf=10 -   0.1s\n",
      "[CV] n_estimators=14, max_depth=5, min_samples_leaf=10 ...............\n",
      "[CV] ...... n_estimators=10, max_depth=5, min_samples_leaf=10 -   0.1s\n",
      "[CV] n_estimators=14, max_depth=5, min_samples_leaf=10 ...............\n",
      "[CV] ...... n_estimators=12, max_depth=5, min_samples_leaf=10 -   0.1s\n",
      "[CV] n_estimators=16, max_depth=5, min_samples_leaf=10 ...............\n",
      "[CV] ...... n_estimators=12, max_depth=5, min_samples_leaf=10 -   0.1s\n",
      "[CV] n_estimators=12, max_depth=5, min_samples_leaf=10 ...............\n",
      "[CV] ...... n_estimators=14, max_depth=5, min_samples_leaf=10 -   0.1s\n",
      "[CV] n_estimators=14, max_depth=5, min_samples_leaf=10 ...............\n",
      "[CV] ...... n_estimators=14, max_depth=5, min_samples_leaf=10 -   0.1s\n",
      "[CV] n_estimators=16, max_depth=5, min_samples_leaf=10 ...............\n",
      "[CV] ...... n_estimators=16, max_depth=5, min_samples_leaf=10 -   0.1s\n",
      "[CV] ...... n_estimators=12, max_depth=5, min_samples_leaf=10 -   0.1s\n",
      "[CV] n_estimators=16, max_depth=5, min_samples_leaf=10 ...............\n",
      "[CV] n_estimators=6, max_depth=5, min_samples_leaf=20 ................\n",
      "[CV] ...... n_estimators=14, max_depth=5, min_samples_leaf=10 -   0.2s\n",
      "[CV] n_estimators=6, max_depth=5, min_samples_leaf=20 ................\n",
      "[CV] ....... n_estimators=6, max_depth=5, min_samples_leaf=20 -   0.1s\n",
      "[CV] ...... n_estimators=16, max_depth=5, min_samples_leaf=10 -   0.2s\n",
      "[CV] n_estimators=7, max_depth=5, min_samples_leaf=20 ................\n",
      "[CV] n_estimators=6, max_depth=5, min_samples_leaf=20 ................\n",
      "[CV] ....... n_estimators=6, max_depth=5, min_samples_leaf=20 -   0.1s\n",
      "[CV] n_estimators=7, max_depth=5, min_samples_leaf=20 ................\n",
      "[CV] ....... n_estimators=6, max_depth=5, min_samples_leaf=20 -   0.1s\n",
      "[CV] ...... n_estimators=16, max_depth=5, min_samples_leaf=10 -   0.2s\n",
      "[CV] n_estimators=8, max_depth=5, min_samples_leaf=20 ................\n",
      "[CV] n_estimators=8, max_depth=5, min_samples_leaf=20 ................\n",
      "[CV] ....... n_estimators=7, max_depth=5, min_samples_leaf=20 -   0.1s\n",
      "[CV] ....... n_estimators=7, max_depth=5, min_samples_leaf=20 -   0.1s\n",
      "[CV] n_estimators=7, max_depth=5, min_samples_leaf=20 ................\n",
      "[CV] n_estimators=9, max_depth=5, min_samples_leaf=20 ................\n",
      "[CV] ....... n_estimators=8, max_depth=5, min_samples_leaf=20 -   0.1s\n",
      "[CV] ....... n_estimators=8, max_depth=5, min_samples_leaf=20 -   0.1s\n",
      "[CV] n_estimators=8, max_depth=5, min_samples_leaf=20 ................\n",
      "[CV] n_estimators=9, max_depth=5, min_samples_leaf=20 ................\n",
      "[CV] ....... n_estimators=7, max_depth=5, min_samples_leaf=20 -   0.1s\n",
      "[CV] n_estimators=10, max_depth=5, min_samples_leaf=20 ...............\n",
      "[CV] ....... n_estimators=9, max_depth=5, min_samples_leaf=20 -   0.1s\n",
      "[CV] ....... n_estimators=8, max_depth=5, min_samples_leaf=20 -   0.1s\n",
      "[CV] n_estimators=9, max_depth=5, min_samples_leaf=20 ................\n",
      "[CV] ....... n_estimators=9, max_depth=5, min_samples_leaf=20 -   0.1s\n",
      "[CV] n_estimators=10, max_depth=5, min_samples_leaf=20 ...............\n",
      "[CV] n_estimators=12, max_depth=5, min_samples_leaf=20 ...............\n",
      "[CV] ...... n_estimators=10, max_depth=5, min_samples_leaf=20 -   0.1s\n",
      "[CV] n_estimators=10, max_depth=5, min_samples_leaf=20 ...............\n",
      "[CV] ....... n_estimators=9, max_depth=5, min_samples_leaf=20 -   0.1s\n",
      "[CV] n_estimators=14, max_depth=5, min_samples_leaf=20 ...............\n",
      "[CV] ...... n_estimators=10, max_depth=5, min_samples_leaf=20 -   0.1s\n",
      "[CV] n_estimators=12, max_depth=5, min_samples_leaf=20 ...............\n",
      "[CV] ...... n_estimators=12, max_depth=5, min_samples_leaf=20 -   0.2s\n",
      "[CV] n_estimators=12, max_depth=5, min_samples_leaf=20 ...............\n",
      "[CV] ...... n_estimators=10, max_depth=5, min_samples_leaf=20 -   0.2s\n",
      "[CV] n_estimators=14, max_depth=5, min_samples_leaf=20 ...............\n",
      "[CV] ...... n_estimators=12, max_depth=5, min_samples_leaf=20 -   0.1s\n",
      "[CV] n_estimators=16, max_depth=5, min_samples_leaf=20 ...............\n",
      "[CV] ...... n_estimators=14, max_depth=5, min_samples_leaf=20 -   0.2s\n",
      "[CV] ...... n_estimators=12, max_depth=5, min_samples_leaf=20 -   0.1s\n",
      "[CV] n_estimators=14, max_depth=5, min_samples_leaf=20 ...............\n",
      "[CV] n_estimators=6, max_depth=10, min_samples_leaf=10 ...............\n",
      "[CV] ...... n_estimators=14, max_depth=5, min_samples_leaf=20 -   0.2s\n",
      "[CV] n_estimators=16, max_depth=5, min_samples_leaf=20 ...............\n",
      "[CV] ...... n_estimators=6, max_depth=10, min_samples_leaf=10 -   0.1s\n",
      "[CV] n_estimators=6, max_depth=10, min_samples_leaf=10 ...............\n",
      "[CV] ...... n_estimators=14, max_depth=5, min_samples_leaf=20 -   0.1s\n",
      "[CV] n_estimators=6, max_depth=10, min_samples_leaf=10 ...............\n",
      "[CV] ...... n_estimators=16, max_depth=5, min_samples_leaf=20 -   0.2s\n",
      "[CV] n_estimators=16, max_depth=5, min_samples_leaf=20 ...............\n",
      "[CV] ...... n_estimators=6, max_depth=10, min_samples_leaf=10 -   0.1s\n",
      "[CV] n_estimators=7, max_depth=10, min_samples_leaf=10 ...............\n",
      "[CV] ...... n_estimators=6, max_depth=10, min_samples_leaf=10 -   0.1s\n",
      "[CV] ...... n_estimators=16, max_depth=5, min_samples_leaf=20 -   0.1s\n",
      "[CV] n_estimators=7, max_depth=10, min_samples_leaf=10 ...............\n",
      "[CV] n_estimators=8, max_depth=10, min_samples_leaf=10 ...............\n",
      "[CV] ...... n_estimators=7, max_depth=10, min_samples_leaf=10 -   0.1s\n",
      "[CV] n_estimators=7, max_depth=10, min_samples_leaf=10 ...............\n",
      "[CV] ...... n_estimators=16, max_depth=5, min_samples_leaf=20 -   0.1s\n",
      "[CV] ...... n_estimators=7, max_depth=10, min_samples_leaf=10 -   0.1s\n",
      "[CV] n_estimators=8, max_depth=10, min_samples_leaf=10 ...............\n",
      "[CV] n_estimators=9, max_depth=10, min_samples_leaf=10 ...............\n",
      "[CV] ...... n_estimators=8, max_depth=10, min_samples_leaf=10 -   0.1s\n",
      "[CV] n_estimators=8, max_depth=10, min_samples_leaf=10 ...............\n",
      "[CV] ...... n_estimators=7, max_depth=10, min_samples_leaf=10 -   0.1s\n",
      "[CV] n_estimators=10, max_depth=10, min_samples_leaf=10 ..............\n",
      "[CV] ...... n_estimators=8, max_depth=10, min_samples_leaf=10 -   0.1s\n",
      "[CV] n_estimators=9, max_depth=10, min_samples_leaf=10 ...............\n",
      "[CV] ...... n_estimators=8, max_depth=10, min_samples_leaf=10 -   0.1s\n",
      "[CV] ...... n_estimators=9, max_depth=10, min_samples_leaf=10 -   0.1s\n",
      "[CV] n_estimators=10, max_depth=10, min_samples_leaf=10 ..............\n",
      "[CV] n_estimators=9, max_depth=10, min_samples_leaf=10 ...............\n",
      "[CV] ..... n_estimators=10, max_depth=10, min_samples_leaf=10 -   0.1s\n",
      "[CV] n_estimators=10, max_depth=10, min_samples_leaf=10 ..............\n",
      "[CV] ...... n_estimators=9, max_depth=10, min_samples_leaf=10 -   0.1s\n",
      "[CV] n_estimators=12, max_depth=10, min_samples_leaf=10 ..............\n",
      "[CV] ...... n_estimators=9, max_depth=10, min_samples_leaf=10 -   0.1s\n",
      "[CV] n_estimators=14, max_depth=10, min_samples_leaf=10 ..............\n",
      "[CV] ..... n_estimators=10, max_depth=10, min_samples_leaf=10 -   0.1s\n",
      "[CV] n_estimators=12, max_depth=10, min_samples_leaf=10 ..............\n",
      "[CV] ..... n_estimators=10, max_depth=10, min_samples_leaf=10 -   0.1s\n",
      "[CV] n_estimators=14, max_depth=10, min_samples_leaf=10 ..............\n",
      "[CV] ..... n_estimators=12, max_depth=10, min_samples_leaf=10 -   0.1s\n",
      "[CV] n_estimators=12, max_depth=10, min_samples_leaf=10 ..............\n"
     ]
    },
    {
     "name": "stderr",
     "output_type": "stream",
     "text": [
      "[Parallel(n_jobs=-1)]: Done  58 tasks      | elapsed:    2.3s\n"
     ]
    },
    {
     "name": "stdout",
     "output_type": "stream",
     "text": [
      "[CV] ..... n_estimators=12, max_depth=10, min_samples_leaf=10 -   0.2s\n",
      "[CV] n_estimators=16, max_depth=10, min_samples_leaf=10 ..............\n",
      "[CV] ..... n_estimators=14, max_depth=10, min_samples_leaf=10 -   0.2s\n",
      "[CV] n_estimators=14, max_depth=10, min_samples_leaf=10 ..............\n",
      "[CV] ..... n_estimators=14, max_depth=10, min_samples_leaf=10 -   0.2s\n",
      "[CV] ..... n_estimators=12, max_depth=10, min_samples_leaf=10 -   0.2s\n",
      "[CV] n_estimators=16, max_depth=10, min_samples_leaf=10 ..............\n",
      "[CV] n_estimators=6, max_depth=10, min_samples_leaf=20 ...............\n",
      "[CV] ..... n_estimators=16, max_depth=10, min_samples_leaf=10 -   0.2s\n",
      "[CV] n_estimators=16, max_depth=10, min_samples_leaf=10 ..............\n",
      "[CV] ...... n_estimators=6, max_depth=10, min_samples_leaf=20 -   0.1s\n",
      "[CV] ..... n_estimators=14, max_depth=10, min_samples_leaf=10 -   0.1s\n",
      "[CV] n_estimators=6, max_depth=10, min_samples_leaf=20 ...............\n",
      "[CV] n_estimators=6, max_depth=10, min_samples_leaf=20 ...............\n",
      "[CV] ..... n_estimators=16, max_depth=10, min_samples_leaf=10 -   0.2s\n",
      "[CV] ...... n_estimators=6, max_depth=10, min_samples_leaf=20 -   0.1s\n",
      "[CV] n_estimators=8, max_depth=10, min_samples_leaf=20 ...............\n",
      "[CV] n_estimators=7, max_depth=10, min_samples_leaf=20 ...............\n",
      "[CV] ...... n_estimators=6, max_depth=10, min_samples_leaf=20 -   0.1s\n",
      "[CV] n_estimators=7, max_depth=10, min_samples_leaf=20 ...............\n",
      "[CV] ..... n_estimators=16, max_depth=10, min_samples_leaf=10 -   0.2s\n",
      "[CV] ...... n_estimators=7, max_depth=10, min_samples_leaf=20 -   0.1s\n",
      "[CV] ...... n_estimators=8, max_depth=10, min_samples_leaf=20 -   0.1s\n",
      "[CV] n_estimators=8, max_depth=10, min_samples_leaf=20 ...............\n",
      "[CV] ...... n_estimators=7, max_depth=10, min_samples_leaf=20 -   0.1s\n",
      "[CV] n_estimators=7, max_depth=10, min_samples_leaf=20 ...............\n",
      "[CV] n_estimators=8, max_depth=10, min_samples_leaf=20 ...............\n",
      "[CV] n_estimators=9, max_depth=10, min_samples_leaf=20 ...............\n",
      "[CV] ...... n_estimators=8, max_depth=10, min_samples_leaf=20 -   0.1s\n",
      "[CV] ...... n_estimators=7, max_depth=10, min_samples_leaf=20 -   0.1s\n",
      "[CV] ...... n_estimators=8, max_depth=10, min_samples_leaf=20 -   0.1s\n",
      "[CV] n_estimators=10, max_depth=10, min_samples_leaf=20 ..............\n",
      "[CV] n_estimators=9, max_depth=10, min_samples_leaf=20 ...............\n",
      "[CV] n_estimators=10, max_depth=10, min_samples_leaf=20 ..............\n",
      "[CV] ...... n_estimators=9, max_depth=10, min_samples_leaf=20 -   0.1s\n",
      "[CV] n_estimators=9, max_depth=10, min_samples_leaf=20 ...............\n",
      "[CV] ...... n_estimators=9, max_depth=10, min_samples_leaf=20 -   0.1s\n",
      "[CV] ..... n_estimators=10, max_depth=10, min_samples_leaf=20 -   0.1s\n",
      "[CV] n_estimators=10, max_depth=10, min_samples_leaf=20 ..............\n",
      "[CV] n_estimators=12, max_depth=10, min_samples_leaf=20 ..............\n",
      "[CV] ..... n_estimators=10, max_depth=10, min_samples_leaf=20 -   0.1s\n",
      "[CV] n_estimators=12, max_depth=10, min_samples_leaf=20 ..............\n",
      "[CV] ...... n_estimators=9, max_depth=10, min_samples_leaf=20 -   0.1s\n",
      "[CV] n_estimators=14, max_depth=10, min_samples_leaf=20 ..............\n",
      "[CV] ..... n_estimators=10, max_depth=10, min_samples_leaf=20 -   0.1s\n",
      "[CV] n_estimators=14, max_depth=10, min_samples_leaf=20 ..............\n",
      "[CV] ..... n_estimators=12, max_depth=10, min_samples_leaf=20 -   0.1s\n",
      "[CV] n_estimators=12, max_depth=10, min_samples_leaf=20 ..............\n",
      "[CV] ..... n_estimators=12, max_depth=10, min_samples_leaf=20 -   0.1s\n",
      "[CV] n_estimators=16, max_depth=10, min_samples_leaf=20 ..............\n",
      "[CV] ..... n_estimators=14, max_depth=10, min_samples_leaf=20 -   0.1s\n",
      "[CV] n_estimators=14, max_depth=10, min_samples_leaf=20 ..............\n",
      "[CV] ..... n_estimators=12, max_depth=10, min_samples_leaf=20 -   0.1s\n",
      "[CV] ..... n_estimators=14, max_depth=10, min_samples_leaf=20 -   0.1s\n",
      "[CV] n_estimators=16, max_depth=10, min_samples_leaf=20 ..............\n",
      "[CV] n_estimators=6, max_depth=15, min_samples_leaf=10 ...............\n",
      "[CV] ..... n_estimators=14, max_depth=10, min_samples_leaf=20 -   0.1s\n",
      "[CV] ..... n_estimators=16, max_depth=10, min_samples_leaf=20 -   0.1s\n",
      "[CV] n_estimators=6, max_depth=15, min_samples_leaf=10 ...............\n",
      "[CV] n_estimators=16, max_depth=10, min_samples_leaf=20 ..............\n",
      "[CV] ...... n_estimators=6, max_depth=15, min_samples_leaf=10 -   0.1s\n",
      "[CV] n_estimators=6, max_depth=15, min_samples_leaf=10 ...............\n",
      "[CV] ...... n_estimators=6, max_depth=15, min_samples_leaf=10 -   0.1s\n",
      "[CV] n_estimators=7, max_depth=15, min_samples_leaf=10 ...............\n",
      "[CV] ...... n_estimators=6, max_depth=15, min_samples_leaf=10 -   0.1s\n",
      "[CV] ..... n_estimators=16, max_depth=10, min_samples_leaf=20 -   0.2s\n",
      "[CV] n_estimators=7, max_depth=15, min_samples_leaf=10 ...............\n",
      "[CV] ..... n_estimators=16, max_depth=10, min_samples_leaf=20 -   0.1s\n",
      "[CV] n_estimators=8, max_depth=15, min_samples_leaf=10 ...............\n",
      "[CV] n_estimators=8, max_depth=15, min_samples_leaf=10 ...............\n",
      "[CV] ...... n_estimators=7, max_depth=15, min_samples_leaf=10 -   0.1s\n",
      "[CV] n_estimators=7, max_depth=15, min_samples_leaf=10 ...............\n",
      "[CV] ...... n_estimators=7, max_depth=15, min_samples_leaf=10 -   0.1s\n",
      "[CV] ...... n_estimators=8, max_depth=15, min_samples_leaf=10 -   0.1s\n",
      "[CV] n_estimators=9, max_depth=15, min_samples_leaf=10 ...............\n",
      "[CV] n_estimators=9, max_depth=15, min_samples_leaf=10 ...............\n",
      "[CV] ...... n_estimators=8, max_depth=15, min_samples_leaf=10 -   0.1s\n",
      "[CV] n_estimators=8, max_depth=15, min_samples_leaf=10 ...............\n",
      "[CV] ...... n_estimators=7, max_depth=15, min_samples_leaf=10 -   0.1s\n",
      "[CV] n_estimators=10, max_depth=15, min_samples_leaf=10 ..............\n",
      "[CV] ...... n_estimators=9, max_depth=15, min_samples_leaf=10 -   0.1s\n",
      "[CV] n_estimators=10, max_depth=15, min_samples_leaf=10 ..............\n",
      "[CV] ...... n_estimators=9, max_depth=15, min_samples_leaf=10 -   0.1s\n",
      "[CV] n_estimators=9, max_depth=15, min_samples_leaf=10 ...............\n",
      "[CV] ...... n_estimators=8, max_depth=15, min_samples_leaf=10 -   0.1s\n",
      "[CV] n_estimators=12, max_depth=15, min_samples_leaf=10 ..............\n",
      "[CV] ..... n_estimators=10, max_depth=15, min_samples_leaf=10 -   0.1s\n",
      "[CV] n_estimators=10, max_depth=15, min_samples_leaf=10 ..............\n",
      "[CV] ..... n_estimators=10, max_depth=15, min_samples_leaf=10 -   0.1s\n",
      "[CV] n_estimators=12, max_depth=15, min_samples_leaf=10 ..............\n",
      "[CV] ...... n_estimators=9, max_depth=15, min_samples_leaf=10 -   0.1s\n",
      "[CV] ..... n_estimators=12, max_depth=15, min_samples_leaf=10 -   0.1s\n",
      "[CV] n_estimators=14, max_depth=15, min_samples_leaf=10 ..............\n",
      "[CV] n_estimators=12, max_depth=15, min_samples_leaf=10 ..............\n",
      "[CV] ..... n_estimators=10, max_depth=15, min_samples_leaf=10 -   0.1s\n",
      "[CV] n_estimators=14, max_depth=15, min_samples_leaf=10 ..............\n",
      "[CV] ..... n_estimators=12, max_depth=15, min_samples_leaf=10 -   0.1s\n",
      "[CV] n_estimators=16, max_depth=15, min_samples_leaf=10 ..............\n",
      "[CV] ..... n_estimators=14, max_depth=15, min_samples_leaf=10 -   0.1s\n",
      "[CV] ..... n_estimators=12, max_depth=15, min_samples_leaf=10 -   0.1s\n",
      "[CV] n_estimators=14, max_depth=15, min_samples_leaf=10 ..............\n",
      "[CV] n_estimators=6, max_depth=15, min_samples_leaf=20 ...............\n",
      "[CV] ..... n_estimators=14, max_depth=15, min_samples_leaf=10 -   0.1s\n",
      "[CV] n_estimators=16, max_depth=15, min_samples_leaf=10 ..............\n",
      "[CV] ...... n_estimators=6, max_depth=15, min_samples_leaf=20 -   0.1s\n",
      "[CV] n_estimators=6, max_depth=15, min_samples_leaf=20 ...............\n",
      "[CV] ..... n_estimators=14, max_depth=15, min_samples_leaf=10 -   0.1s\n",
      "[CV] ...... n_estimators=6, max_depth=15, min_samples_leaf=20 -   0.0s\n",
      "[CV] ..... n_estimators=16, max_depth=15, min_samples_leaf=10 -   0.2s\n",
      "[CV] n_estimators=6, max_depth=15, min_samples_leaf=20 ...............\n",
      "[CV] n_estimators=16, max_depth=15, min_samples_leaf=10 ..............\n",
      "[CV] n_estimators=7, max_depth=15, min_samples_leaf=20 ...............\n",
      "[CV] ..... n_estimators=16, max_depth=15, min_samples_leaf=10 -   0.2s\n",
      "[CV] ...... n_estimators=6, max_depth=15, min_samples_leaf=20 -   0.1s\n",
      "[CV] n_estimators=8, max_depth=15, min_samples_leaf=20 ...............\n",
      "[CV] n_estimators=7, max_depth=15, min_samples_leaf=20 ...............\n",
      "[CV] ...... n_estimators=7, max_depth=15, min_samples_leaf=20 -   0.1s\n",
      "[CV] n_estimators=7, max_depth=15, min_samples_leaf=20 ...............\n",
      "[CV] ...... n_estimators=7, max_depth=15, min_samples_leaf=20 -   0.1s\n",
      "[CV] n_estimators=8, max_depth=15, min_samples_leaf=20 ...............\n",
      "[CV] ...... n_estimators=7, max_depth=15, min_samples_leaf=20 -   0.1s\n",
      "[CV] ..... n_estimators=16, max_depth=15, min_samples_leaf=10 -   0.3s\n",
      "[CV] ...... n_estimators=8, max_depth=15, min_samples_leaf=20 -   0.1s\n",
      "[CV] n_estimators=8, max_depth=15, min_samples_leaf=20 ...............\n",
      "[CV] n_estimators=9, max_depth=15, min_samples_leaf=20 ...............\n",
      "[CV] n_estimators=10, max_depth=15, min_samples_leaf=20 ..............\n",
      "[CV] ...... n_estimators=8, max_depth=15, min_samples_leaf=20 -   0.1s\n",
      "[CV] n_estimators=9, max_depth=15, min_samples_leaf=20 ...............\n",
      "[CV] ...... n_estimators=8, max_depth=15, min_samples_leaf=20 -   0.1s\n",
      "[CV] ...... n_estimators=9, max_depth=15, min_samples_leaf=20 -   0.1s\n",
      "[CV] n_estimators=9, max_depth=15, min_samples_leaf=20 ...............\n",
      "[CV] n_estimators=10, max_depth=15, min_samples_leaf=20 ..............\n",
      "[CV] ..... n_estimators=10, max_depth=15, min_samples_leaf=20 -   0.1s\n",
      "[CV] n_estimators=10, max_depth=15, min_samples_leaf=20 ..............\n",
      "[CV] ...... n_estimators=9, max_depth=15, min_samples_leaf=20 -   0.1s\n",
      "[CV] ...... n_estimators=9, max_depth=15, min_samples_leaf=20 -   0.1s\n",
      "[CV] n_estimators=12, max_depth=15, min_samples_leaf=20 ..............\n",
      "[CV] ..... n_estimators=10, max_depth=15, min_samples_leaf=20 -   0.1s\n",
      "[CV] n_estimators=12, max_depth=15, min_samples_leaf=20 ..............\n",
      "[CV] n_estimators=14, max_depth=15, min_samples_leaf=20 ..............\n",
      "[CV] ..... n_estimators=10, max_depth=15, min_samples_leaf=20 -   0.1s\n",
      "[CV] n_estimators=14, max_depth=15, min_samples_leaf=20 ..............\n",
      "[CV] ..... n_estimators=12, max_depth=15, min_samples_leaf=20 -   0.1s\n",
      "[CV] n_estimators=12, max_depth=15, min_samples_leaf=20 ..............\n",
      "[CV] ..... n_estimators=12, max_depth=15, min_samples_leaf=20 -   0.1s\n",
      "[CV] n_estimators=16, max_depth=15, min_samples_leaf=20 ..............\n",
      "[CV] ..... n_estimators=14, max_depth=15, min_samples_leaf=20 -   0.1s\n",
      "[CV] n_estimators=14, max_depth=15, min_samples_leaf=20 ..............\n",
      "[CV] ..... n_estimators=14, max_depth=15, min_samples_leaf=20 -   0.1s\n",
      "[CV] n_estimators=16, max_depth=15, min_samples_leaf=20 ..............\n",
      "[CV] ..... n_estimators=12, max_depth=15, min_samples_leaf=20 -   0.1s\n",
      "[CV] ..... n_estimators=16, max_depth=15, min_samples_leaf=20 -   0.1s\n",
      "[CV] n_estimators=16, max_depth=15, min_samples_leaf=20 ..............\n",
      "[CV] ..... n_estimators=14, max_depth=15, min_samples_leaf=20 -   0.1s\n",
      "[CV] ..... n_estimators=16, max_depth=15, min_samples_leaf=20 -   0.1s\n",
      "[CV] ..... n_estimators=16, max_depth=15, min_samples_leaf=20 -   0.1s\n"
     ]
    },
    {
     "name": "stderr",
     "output_type": "stream",
     "text": [
      "[Parallel(n_jobs=-1)]: Done 144 out of 144 | elapsed:    5.2s finished\n"
     ]
    }
   ],
   "source": [
    "rf = RandomForestClassifier()\n",
    "parameters = {'n_estimators': [6,7,8,9,10,12,14,16],'max_depth':[5,10,15],'min_samples_leaf':[10,20]}\n",
    "model_cv_grid = grid_search.GridSearchCV(rf,parameters,scoring='roc_auc',verbose=2,n_jobs=-1)\n",
    "model_cv_grid.fit(X_train,y_train)\n",
    "best_rf_model = model_cv_grid.best_estimator_"
   ]
  },
  {
   "cell_type": "code",
   "execution_count": 105,
   "metadata": {
    "collapsed": false
   },
   "outputs": [
    {
     "name": "stdout",
     "output_type": "stream",
     "text": [
      "('ACC:', 0.91900000000000004)\n"
     ]
    }
   ],
   "source": [
    "print ('ACC:', best_rf_model.score(X_test, y_test))"
   ]
  },
  {
   "cell_type": "code",
   "execution_count": 106,
   "metadata": {
    "collapsed": true
   },
   "outputs": [],
   "source": [
    "rf_y_test_prob = best_rf_model.predict_proba(X_test)"
   ]
  },
  {
   "cell_type": "code",
   "execution_count": 107,
   "metadata": {
    "collapsed": false
   },
   "outputs": [
    {
     "data": {
      "text/html": [
       "<div>\n",
       "<table border=\"1\" class=\"dataframe\">\n",
       "  <thead>\n",
       "    <tr style=\"text-align: right;\">\n",
       "      <th></th>\n",
       "      <th>importance</th>\n",
       "      <th>variable</th>\n",
       "    </tr>\n",
       "  </thead>\n",
       "  <tbody>\n",
       "    <tr>\n",
       "      <th>0</th>\n",
       "      <td>0.214102</td>\n",
       "      <td>Day Charge</td>\n",
       "    </tr>\n",
       "    <tr>\n",
       "      <th>1</th>\n",
       "      <td>0.177404</td>\n",
       "      <td>Day Mins</td>\n",
       "    </tr>\n",
       "    <tr>\n",
       "      <th>2</th>\n",
       "      <td>0.166280</td>\n",
       "      <td>CustServ Calls</td>\n",
       "    </tr>\n",
       "    <tr>\n",
       "      <th>3</th>\n",
       "      <td>0.096709</td>\n",
       "      <td>Int'l Plan_yes</td>\n",
       "    </tr>\n",
       "    <tr>\n",
       "      <th>4</th>\n",
       "      <td>0.072140</td>\n",
       "      <td>Eve Charge</td>\n",
       "    </tr>\n",
       "  </tbody>\n",
       "</table>\n",
       "</div>"
      ],
      "text/plain": [
       "   importance        variable\n",
       "0    0.214102      Day Charge\n",
       "1    0.177404        Day Mins\n",
       "2    0.166280  CustServ Calls\n",
       "3    0.096709  Int'l Plan_yes\n",
       "4    0.072140      Eve Charge"
      ]
     },
     "execution_count": 107,
     "metadata": {},
     "output_type": "execute_result"
    }
   ],
   "source": [
    "importance = best_rf_model.feature_importances_\n",
    "attribute = X.columns\n",
    "\n",
    "v = sorted(range(len(importance)), key=lambda k: importance[k], reverse=True)\n",
    "sorted_importance = [importance[i] for i in v]\n",
    "sorted_attribute = [attribute[i] for i in v]\n",
    "\n",
    "df_importance = pd.DataFrame({'variable': sorted_attribute, 'importance' : sorted_importance})\n",
    "df_importance.sort_index().head(5)"
   ]
  },
  {
   "cell_type": "markdown",
   "metadata": {},
   "source": [
    "## **ROC visualization**"
   ]
  },
  {
   "cell_type": "code",
   "execution_count": 69,
   "metadata": {
    "collapsed": false
   },
   "outputs": [],
   "source": [
    "from sklearn import metrics, cross_validation\n",
    "import matplotlib.pyplot as plt\n",
    "import matplotlib.lines as mlines\n",
    "import seaborn as sns\n",
    "sns.set_context(\"notebook\", font_scale=1.5,rc={\"lines.linewidth\": 3})\n",
    "%matplotlib inline"
   ]
  },
  {
   "cell_type": "code",
   "execution_count": 114,
   "metadata": {
    "collapsed": false
   },
   "outputs": [
    {
     "data": {
      "text/plain": [
       "<matplotlib.legend.Legend at 0x11d82de90>"
      ]
     },
     "execution_count": 114,
     "metadata": {},
     "output_type": "execute_result"
    },
    {
     "data": {
      "image/png": "[encoded data removed]",
      "text/plain": [
       "<matplotlib.figure.Figure at 0x11d38dc50>"
      ]
     },
     "metadata": {},
     "output_type": "display_data"
    }
   ],
   "source": [
    "fpr_logreg, tpr_logreg, _ = metrics.roc_curve(y_test, logreg_y_test_prob[:,1])\n",
    "roc_auc_logreg = metrics.auc(fpr_logreg, tpr_logreg)\n",
    "\n",
    "fpr_knn, tpr_knn, _ = metrics.roc_curve(y_test, knn_y_test_prob[:,1])\n",
    "roc_auc_knn = metrics.auc(fpr_knn, tpr_knn)\n",
    "\n",
    "fpr_lda, tpr_lda, _ = metrics.roc_curve(y_test, lda_y_test_prob[:,1])\n",
    "roc_auc_lda = metrics.auc(fpr_lda, tpr_lda)\n",
    "\n",
    "fpr_qda, tpr_qda, _ = metrics.roc_curve(y_test, qda_y_test_prob[:,1])\n",
    "roc_auc_qda = metrics.auc(fpr_qda, tpr_qda)\n",
    "\n",
    "fpr_svm, tpr_svm, _ = metrics.roc_curve(y_test, svm_y_test_prob[:,1])\n",
    "roc_auc_svm = metrics.auc(fpr_svm, tpr_svm)\n",
    "\n",
    "fpr_tree, tpr_tree, _ = metrics.roc_curve(y_test, tree_y_test_prob[:,1])\n",
    "roc_auc_tree = metrics.auc(fpr_tree, tpr_tree)\n",
    "\n",
    "fpr_rf, tpr_rf, _ = metrics.roc_curve(y_test, rf_y_test_prob[:,1])\n",
    "roc_auc_rf = metrics.auc(fpr_rf, tpr_rf)\n",
    "\n",
    "plt.figure(figsize=(8,6))\n",
    "plt.plot(fpr_logreg, tpr_logreg, color = 'b')\n",
    "plt.plot(fpr_knn, tpr_knn, color = 'r')   #m: magenta\n",
    "plt.plot(fpr_lda, tpr_lda, color = 'm')\n",
    "plt.plot(fpr_qda, tpr_qda, color = 'c')\n",
    "plt.plot(fpr_svm, tpr_svm, color = 'k')\n",
    "plt.plot(fpr_tree, tpr_tree, color = 'y')\n",
    "plt.plot(fpr_rf, tpr_rf, color = 'g')\n",
    "\n",
    "plt.plot([0, 1], [0, 1], 'k--')\n",
    "plt.xlim([0.0, 1.0])\n",
    "plt.ylim([0.0, 1.0])\n",
    "plt.xlabel('False Positive Rate')\n",
    "plt.ylabel('True Positive Rate')\n",
    "plt.title('ROC curves for classifiers')\n",
    "\n",
    "blue_line = mlines.Line2D([], [], color='blue', label='Log-Reg (area = %0.2f)' % roc_auc_logreg)\n",
    "red_line = mlines.Line2D([], [], color='red', label='KNN (area = %0.2f)' % roc_auc_knn)\n",
    "magneta_line = mlines.Line2D([], [], color='magenta', label='LDA (area = %0.2f)' % roc_auc_lda)\n",
    "cyan_line = mlines.Line2D([], [], color='cyan', label='QDA (area = %0.2f)' % roc_auc_qda)\n",
    "black_line = mlines.Line2D([], [], color='black', label='SVM (area = %0.2f)' % roc_auc_svm)\n",
    "yellow_line = mlines.Line2D([], [], color='yellow', label='Deicison Tree (area = %0.2f)' % roc_auc_tree)\n",
    "green_line = mlines.Line2D([], [], color='green', label='Random Forest (area = %0.2f)' % np.mean(roc_auc_rf))\n",
    "\n",
    "plt.legend(handles=[blue_line, red_line,magneta_line, cyan_line, black_line, yellow_line, green_line],loc=\"lower right\")"
   ]
  },
  {
   "cell_type": "markdown",
   "metadata": {},
   "source": [
    "## **Precision and Recall**"
   ]
  },
  {
   "cell_type": "code",
   "execution_count": 76,
   "metadata": {
    "collapsed": true
   },
   "outputs": [],
   "source": [
    "from sklearn.metrics import confusion_matrix"
   ]
  },
  {
   "cell_type": "code",
   "execution_count": 117,
   "metadata": {
    "collapsed": false
   },
   "outputs": [
    {
     "name": "stdout",
     "output_type": "stream",
     "text": [
      "KNN, 0.859\n",
      "[[ 31 127]\n",
      " [ 14 828]]\n",
      "P= 0.196202531646 R= 0.688888888889 F1= 0.305418719212\n",
      "-----------\n",
      "QDA, 0.861\n",
      "[[ 89  69]\n",
      " [ 70 772]]\n",
      "P= 0.563291139241 R= 0.559748427673 F1= 0.561514195584\n",
      "-----------\n",
      "SVM, 0.852\n",
      "[[ 20 138]\n",
      " [ 10 832]]\n",
      "P= 0.126582278481 R= 0.666666666667 F1= 0.212765957447\n",
      "-----------\n",
      "LDA, 0.835\n",
      "[[ 38 120]\n",
      " [ 45 797]]\n",
      "P= 0.240506329114 R= 0.457831325301 F1= 0.315352697095\n",
      "-----------\n",
      "log reg, 0.841\n",
      "[[ 30 128]\n",
      " [ 31 811]]\n",
      "P= 0.189873417722 R= 0.491803278689 F1= 0.27397260274\n",
      "-----------\n",
      "Random Forest, 0.919\n",
      "[[ 86  72]\n",
      " [  9 833]]\n",
      "P= 0.544303797468 R= 0.905263157895 F1= 0.679841897233\n",
      "-----------\n",
      "Decision Tree, 0.944\n",
      "[[119  39]\n",
      " [ 17 825]]\n",
      "P= 0.753164556962 R= 0.875 F1= 0.809523809524\n",
      "-----------\n"
     ]
    }
   ],
   "source": [
    "models = {'log reg,': best_logreg_model, 'KNN,': best_knn_model, 'LDA,': lda, 'QDA,': qda, 'SVM,': best_svm_model, \n",
    "          'Decision Tree,': best_tree_model, 'Random Forest,':best_rf_model}\n",
    "actual_pos = np.sum(y_test == 1)\n",
    "for model in models:\n",
    "    y_pred = models[model].predict(X_test)\n",
    "    conf = confusion_matrix(y_test, y_pred, labels =[1,0])\n",
    "    pred_pos = np.sum(y_pred == 1)\n",
    "    precision = conf[0,0]/float(actual_pos)\n",
    "    recall = conf[0,0]/float(pred_pos)\n",
    "    print model, np.mean(y_test == y_pred)\n",
    "    print conf\n",
    "    print 'P=', precision, 'R=', recall, 'F1=', 2*precision*recall/(precision+recall)\n",
    "    print '-----------'"
   ]
  },
  {
   "cell_type": "markdown",
   "metadata": {},
   "source": [
    "The best model is the **decision tree model**, which offers the best F1 score, and then **random forest model**. "
   ]
  },
  {
   "cell_type": "markdown",
   "metadata": {},
   "source": [
    "# **H2O Machine Learning Classifier**"
   ]
  },
  {
   "cell_type": "code",
   "execution_count": 118,
   "metadata": {
    "collapsed": true
   },
   "outputs": [],
   "source": [
    "import h2o"
   ]
  },
  {
   "cell_type": "code",
   "execution_count": 119,
   "metadata": {
    "collapsed": false
   },
   "outputs": [
    {
     "data": {
      "text/html": [
       "<div style=\"overflow:auto\"><table style=\"width:50%\"><tr><td>H2O cluster uptime: </td>\n",
       "<td>5 hours 1 minutes 6 seconds 343 milliseconds </td></tr>\n",
       "<tr><td>H2O cluster version: </td>\n",
       "<td>3.8.3.3</td></tr>\n",
       "<tr><td>H2O cluster name: </td>\n",
       "<td>H2O_started_from_python_hsianghung_vuh590</td></tr>\n",
       "<tr><td>H2O cluster total nodes: </td>\n",
       "<td>1</td></tr>\n",
       "<tr><td>H2O cluster total free memory: </td>\n",
       "<td>6.82 GB</td></tr>\n",
       "<tr><td>H2O cluster total cores: </td>\n",
       "<td>4</td></tr>\n",
       "<tr><td>H2O cluster allowed cores: </td>\n",
       "<td>4</td></tr>\n",
       "<tr><td>H2O cluster healthy: </td>\n",
       "<td>True</td></tr>\n",
       "<tr><td>H2O Connection ip: </td>\n",
       "<td>127.0.0.1</td></tr>\n",
       "<tr><td>H2O Connection port: </td>\n",
       "<td>54321</td></tr>\n",
       "<tr><td>H2O Connection proxy: </td>\n",
       "<td>None</td></tr>\n",
       "<tr><td>Python Version: </td>\n",
       "<td>2.7.11</td></tr></table></div>"
      ],
      "text/plain": [
       "------------------------------  --------------------------------------------\n",
       "H2O cluster uptime:             5 hours 1 minutes 6 seconds 343 milliseconds\n",
       "H2O cluster version:            3.8.3.3\n",
       "H2O cluster name:               H2O_started_from_python_hsianghung_vuh590\n",
       "H2O cluster total nodes:        1\n",
       "H2O cluster total free memory:  6.82 GB\n",
       "H2O cluster total cores:        4\n",
       "H2O cluster allowed cores:      4\n",
       "H2O cluster healthy:            True\n",
       "H2O Connection ip:              127.0.0.1\n",
       "H2O Connection port:            54321\n",
       "H2O Connection proxy:\n",
       "Python Version:                 2.7.11\n",
       "------------------------------  --------------------------------------------"
      ]
     },
     "metadata": {},
     "output_type": "display_data"
    }
   ],
   "source": [
    "# Number of threads, nthreads = -1, means use all cores on your machine\n",
    "# max_mem_size is the maximum memory (in GB) to allocate to H2O\n",
    "h2o.init(nthreads = -1, max_mem_size = 8)"
   ]
  },
  {
   "cell_type": "code",
   "execution_count": 120,
   "metadata": {
    "collapsed": false
   },
   "outputs": [
    {
     "name": "stdout",
     "output_type": "stream",
     "text": [
      "\n",
      "Parse Progress: [##################################################] 100%\n"
     ]
    }
   ],
   "source": [
    "data = h2o.import_file('/Users/hsianghung/Desktop/churn.csv')  # 163,987 rows x 15 columns"
   ]
  },
  {
   "cell_type": "code",
   "execution_count": 121,
   "metadata": {
    "collapsed": false
   },
   "outputs": [
    {
     "data": {
      "text/plain": [
       "(3333, 21)"
      ]
     },
     "execution_count": 121,
     "metadata": {},
     "output_type": "execute_result"
    }
   ],
   "source": [
    "data.shape"
   ]
  },
  {
   "cell_type": "code",
   "execution_count": 122,
   "metadata": {
    "collapsed": false
   },
   "outputs": [
    {
     "data": {
      "text/plain": [
       "h2o.frame.H2OFrame"
      ]
     },
     "execution_count": 122,
     "metadata": {},
     "output_type": "execute_result"
    }
   ],
   "source": [
    "type(data)"
   ]
  },
  {
   "cell_type": "code",
   "execution_count": 124,
   "metadata": {
    "collapsed": false
   },
   "outputs": [
    {
     "data": {
      "text/html": [
       "<table>\n",
       "<tr><th>State  </th><th style=\"text-align: right;\">  Account Length</th><th style=\"text-align: right;\">  Area Code</th><th>Phone   </th><th>Int'l Plan  </th><th>VMail Plan  </th><th style=\"text-align: right;\">  VMail Message</th><th style=\"text-align: right;\">  Day Mins</th><th style=\"text-align: right;\">  Day Calls</th><th style=\"text-align: right;\">  Day Charge</th><th style=\"text-align: right;\">  Eve Mins</th><th style=\"text-align: right;\">  Eve Calls</th><th style=\"text-align: right;\">  Eve Charge</th><th style=\"text-align: right;\">  Night Mins</th><th style=\"text-align: right;\">  Night Calls</th><th style=\"text-align: right;\">  Night Charge</th><th style=\"text-align: right;\">  Intl Mins</th><th style=\"text-align: right;\">  Intl Calls</th><th style=\"text-align: right;\">  Intl Charge</th><th style=\"text-align: right;\">  CustServ Calls</th><th>Churn?  </th></tr>\n",
       "<tr><td>KS     </td><td style=\"text-align: right;\">             128</td><td style=\"text-align: right;\">        415</td><td>382-4657</td><td>no          </td><td>yes         </td><td style=\"text-align: right;\">             25</td><td style=\"text-align: right;\">     265.1</td><td style=\"text-align: right;\">        110</td><td style=\"text-align: right;\">       45.07</td><td style=\"text-align: right;\">     197.4</td><td style=\"text-align: right;\">         99</td><td style=\"text-align: right;\">       16.78</td><td style=\"text-align: right;\">       244.7</td><td style=\"text-align: right;\">           91</td><td style=\"text-align: right;\">         11.01</td><td style=\"text-align: right;\">       10  </td><td style=\"text-align: right;\">           3</td><td style=\"text-align: right;\">         2.7 </td><td style=\"text-align: right;\">               1</td><td>False.  </td></tr>\n",
       "<tr><td>OH     </td><td style=\"text-align: right;\">             107</td><td style=\"text-align: right;\">        415</td><td>371-7191</td><td>no          </td><td>yes         </td><td style=\"text-align: right;\">             26</td><td style=\"text-align: right;\">     161.6</td><td style=\"text-align: right;\">        123</td><td style=\"text-align: right;\">       27.47</td><td style=\"text-align: right;\">     195.5</td><td style=\"text-align: right;\">        103</td><td style=\"text-align: right;\">       16.62</td><td style=\"text-align: right;\">       254.4</td><td style=\"text-align: right;\">          103</td><td style=\"text-align: right;\">         11.45</td><td style=\"text-align: right;\">       13.7</td><td style=\"text-align: right;\">           3</td><td style=\"text-align: right;\">         3.7 </td><td style=\"text-align: right;\">               1</td><td>False.  </td></tr>\n",
       "<tr><td>NJ     </td><td style=\"text-align: right;\">             137</td><td style=\"text-align: right;\">        415</td><td>358-1921</td><td>no          </td><td>no          </td><td style=\"text-align: right;\">              0</td><td style=\"text-align: right;\">     243.4</td><td style=\"text-align: right;\">        114</td><td style=\"text-align: right;\">       41.38</td><td style=\"text-align: right;\">     121.2</td><td style=\"text-align: right;\">        110</td><td style=\"text-align: right;\">       10.3 </td><td style=\"text-align: right;\">       162.6</td><td style=\"text-align: right;\">          104</td><td style=\"text-align: right;\">          7.32</td><td style=\"text-align: right;\">       12.2</td><td style=\"text-align: right;\">           5</td><td style=\"text-align: right;\">         3.29</td><td style=\"text-align: right;\">               0</td><td>False.  </td></tr>\n",
       "<tr><td>OH     </td><td style=\"text-align: right;\">              84</td><td style=\"text-align: right;\">        408</td><td>375-9999</td><td>yes         </td><td>no          </td><td style=\"text-align: right;\">              0</td><td style=\"text-align: right;\">     299.4</td><td style=\"text-align: right;\">         71</td><td style=\"text-align: right;\">       50.9 </td><td style=\"text-align: right;\">      61.9</td><td style=\"text-align: right;\">         88</td><td style=\"text-align: right;\">        5.26</td><td style=\"text-align: right;\">       196.9</td><td style=\"text-align: right;\">           89</td><td style=\"text-align: right;\">          8.86</td><td style=\"text-align: right;\">        6.6</td><td style=\"text-align: right;\">           7</td><td style=\"text-align: right;\">         1.78</td><td style=\"text-align: right;\">               2</td><td>False.  </td></tr>\n",
       "<tr><td>OK     </td><td style=\"text-align: right;\">              75</td><td style=\"text-align: right;\">        415</td><td>330-6626</td><td>yes         </td><td>no          </td><td style=\"text-align: right;\">              0</td><td style=\"text-align: right;\">     166.7</td><td style=\"text-align: right;\">        113</td><td style=\"text-align: right;\">       28.34</td><td style=\"text-align: right;\">     148.3</td><td style=\"text-align: right;\">        122</td><td style=\"text-align: right;\">       12.61</td><td style=\"text-align: right;\">       186.9</td><td style=\"text-align: right;\">          121</td><td style=\"text-align: right;\">          8.41</td><td style=\"text-align: right;\">       10.1</td><td style=\"text-align: right;\">           3</td><td style=\"text-align: right;\">         2.73</td><td style=\"text-align: right;\">               3</td><td>False.  </td></tr>\n",
       "</table>"
      ]
     },
     "metadata": {},
     "output_type": "display_data"
    },
    {
     "data": {
      "text/plain": []
     },
     "execution_count": 124,
     "metadata": {},
     "output_type": "execute_result"
    }
   ],
   "source": [
    "data.head(5)"
   ]
  },
  {
   "cell_type": "code",
   "execution_count": 129,
   "metadata": {
    "collapsed": true
   },
   "outputs": [],
   "source": [
    "data['Churn?'] = data['Churn?'].asfactor()"
   ]
  },
  {
   "cell_type": "code",
   "execution_count": 130,
   "metadata": {
    "collapsed": false
   },
   "outputs": [
    {
     "data": {
      "text/plain": [
       "[['False.', 'True.']]"
      ]
     },
     "execution_count": 130,
     "metadata": {},
     "output_type": "execute_result"
    }
   ],
   "source": [
    "data['Churn?'].levels()"
   ]
  },
  {
   "cell_type": "code",
   "execution_count": 162,
   "metadata": {
    "collapsed": false
   },
   "outputs": [],
   "source": [
    "# Partition data into 70%, 15%, 15% chunks\n",
    "# Setting a seed will guarantee reproducibility\n",
    "\n",
    "splits = data.split_frame(ratios=[0.7, 0.15], seed=1)  \n",
    "\n",
    "train = splits[0]\n",
    "valid = splits[1]\n",
    "test = splits[2]"
   ]
  },
  {
   "cell_type": "code",
   "execution_count": 163,
   "metadata": {
    "collapsed": false
   },
   "outputs": [
    {
     "name": "stdout",
     "output_type": "stream",
     "text": [
      "2342\n",
      "498\n",
      "493\n"
     ]
    }
   ],
   "source": [
    "print train.nrow\n",
    "print valid.nrow\n",
    "print test.nrow"
   ]
  },
  {
   "cell_type": "code",
   "execution_count": 137,
   "metadata": {
    "collapsed": true
   },
   "outputs": [],
   "source": [
    "x = list(data.columns)"
   ]
  },
  {
   "cell_type": "code",
   "execution_count": 138,
   "metadata": {
    "collapsed": false
   },
   "outputs": [],
   "source": [
    "x.remove('State')\n",
    "x.remove('Phone')\n",
    "x.remove('Area Code')\n",
    "x.remove('Churn?')"
   ]
  },
  {
   "cell_type": "code",
   "execution_count": 142,
   "metadata": {
    "collapsed": false
   },
   "outputs": [],
   "source": [
    "y= 'Churn?'"
   ]
  },
  {
   "cell_type": "code",
   "execution_count": 139,
   "metadata": {
    "collapsed": false
   },
   "outputs": [
    {
     "data": {
      "text/plain": [
       "[u'Account Length',\n",
       " u\"Int'l Plan\",\n",
       " u'VMail Plan',\n",
       " u'VMail Message',\n",
       " u'Day Mins',\n",
       " u'Day Calls',\n",
       " u'Day Charge',\n",
       " u'Eve Mins',\n",
       " u'Eve Calls',\n",
       " u'Eve Charge',\n",
       " u'Night Mins',\n",
       " u'Night Calls',\n",
       " u'Night Charge',\n",
       " u'Intl Mins',\n",
       " u'Intl Calls',\n",
       " u'Intl Charge',\n",
       " u'CustServ Calls']"
      ]
     },
     "execution_count": 139,
     "metadata": {},
     "output_type": "execute_result"
    }
   ],
   "source": [
    "x"
   ]
  },
  {
   "cell_type": "markdown",
   "metadata": {},
   "source": [
    "### **a. Random Forest**"
   ]
  },
  {
   "cell_type": "code",
   "execution_count": 140,
   "metadata": {
    "collapsed": true
   },
   "outputs": [],
   "source": [
    "# Import H2O RF:\n",
    "from h2o.estimators.random_forest import H2ORandomForestEstimator"
   ]
  },
  {
   "cell_type": "code",
   "execution_count": 143,
   "metadata": {
    "collapsed": false
   },
   "outputs": [
    {
     "name": "stdout",
     "output_type": "stream",
     "text": [
      "\n",
      "drf Model Build Progress: [##################################################] 100%\n"
     ]
    }
   ],
   "source": [
    "# Initialize the RF estimator:\n",
    "\n",
    "rf_fit1 = H2ORandomForestEstimator(model_id='rf_fit1', seed=1)\n",
    "rf_fit1.train(x=x, y=y, training_frame=train)"
   ]
  },
  {
   "cell_type": "code",
   "execution_count": 144,
   "metadata": {
    "collapsed": false
   },
   "outputs": [
    {
     "name": "stdout",
     "output_type": "stream",
     "text": [
      "\n",
      "drf Model Build Progress: [##################################################] 100%\n"
     ]
    }
   ],
   "source": [
    "rf_fit2 = H2ORandomForestEstimator(model_id='rf_fit2', ntrees=100, seed=1)\n",
    "rf_fit2.train(x=x, y=y, training_frame=train)"
   ]
  },
  {
   "cell_type": "code",
   "execution_count": 148,
   "metadata": {
    "collapsed": false
   },
   "outputs": [
    {
     "name": "stdout",
     "output_type": "stream",
     "text": [
      "\n",
      "drf Model Build Progress: [##################################################] 100%\n"
     ]
    }
   ],
   "source": [
    "rf_fit3 = H2ORandomForestEstimator(model_id='rf_fit3', seed=1, nfolds=5)\n",
    "rf_fit3.train(x=x, y=y, training_frame=data)"
   ]
  },
  {
   "cell_type": "code",
   "execution_count": 152,
   "metadata": {
    "collapsed": false
   },
   "outputs": [
    {
     "name": "stdout",
     "output_type": "stream",
     "text": [
      "0.944590222861\n",
      "0.935873472322\n",
      "1.0\n"
     ]
    }
   ],
   "source": [
    "rf_perf1 = rf_fit1.model_performance(test)\n",
    "rf_perf2 = rf_fit2.model_performance(test)\n",
    "rf_perf3 = rf_fit3.model_performance(test)\n",
    "\n",
    "# Retreive test set AUC\n",
    "print rf_perf1.auc()\n",
    "print rf_perf2.auc()\n",
    "print rf_perf3.auc()"
   ]
  },
  {
   "cell_type": "code",
   "execution_count": 154,
   "metadata": {
    "collapsed": false
   },
   "outputs": [
    {
     "name": "stdout",
     "output_type": "stream",
     "text": [
      "0.91113944281\n"
     ]
    }
   ],
   "source": [
    "print rf_fit3.auc(xval=True)"
   ]
  },
  {
   "cell_type": "markdown",
   "metadata": {},
   "source": [
    "### **b. Deep learning**"
   ]
  },
  {
   "cell_type": "code",
   "execution_count": 164,
   "metadata": {
    "collapsed": true
   },
   "outputs": [],
   "source": [
    "# Import H2O DL:\n",
    "from h2o.estimators.deeplearning import H2ODeepLearningEstimator"
   ]
  },
  {
   "cell_type": "code",
   "execution_count": 165,
   "metadata": {
    "collapsed": false
   },
   "outputs": [
    {
     "name": "stdout",
     "output_type": "stream",
     "text": [
      "\n",
      "deeplearning Model Build Progress: [##################################################] 100%\n"
     ]
    }
   ],
   "source": [
    "# Initialize and train the DL estimator:\n",
    "\n",
    "dl_fit1 = H2ODeepLearningEstimator(model_id='dl_fit1', seed=1)\n",
    "dl_fit1.train(x=x, y=y, training_frame=train)"
   ]
  },
  {
   "cell_type": "code",
   "execution_count": 166,
   "metadata": {
    "collapsed": false
   },
   "outputs": [
    {
     "name": "stdout",
     "output_type": "stream",
     "text": [
      "\n",
      "deeplearning Model Build Progress: [##################################################] 100%\n"
     ]
    }
   ],
   "source": [
    "dl_fit2 = H2ODeepLearningEstimator(model_id='dl_fit2', \n",
    "                                   epochs=20, \n",
    "                                   hidden=[10,10], \n",
    "                                   stopping_rounds=0,  #disable early stopping\n",
    "                                   seed=1)\n",
    "dl_fit2.train(x=x, y=y, training_frame=train)"
   ]
  },
  {
   "cell_type": "code",
   "execution_count": 167,
   "metadata": {
    "collapsed": false
   },
   "outputs": [
    {
     "name": "stdout",
     "output_type": "stream",
     "text": [
      "\n",
      "deeplearning Model Build Progress: [##################################################] 100%\n"
     ]
    }
   ],
   "source": [
    "dl_fit3 = H2ODeepLearningEstimator(model_id='dl_fit3', \n",
    "                                   epochs=20, \n",
    "                                   hidden=[10,10],\n",
    "                                   score_interval=1,          #used for early stopping\n",
    "                                   stopping_rounds=3,         #used for early stopping\n",
    "                                   stopping_metric='AUC',     #used for early stopping\n",
    "                                   stopping_tolerance=0.0005, #used for early stopping\n",
    "                                   seed=1)\n",
    "dl_fit3.train(x=x, y=y, training_frame=train, validation_frame=valid)"
   ]
  },
  {
   "cell_type": "code",
   "execution_count": 168,
   "metadata": {
    "collapsed": false
   },
   "outputs": [
    {
     "name": "stdout",
     "output_type": "stream",
     "text": [
      "0.920542774982\n",
      "0.919734004313\n",
      "0.929169662114\n"
     ]
    }
   ],
   "source": [
    "dl_perf1 = dl_fit1.model_performance(test)\n",
    "dl_perf2 = dl_fit2.model_performance(test)\n",
    "dl_perf3 = dl_fit3.model_performance(test)\n",
    "# Retreive test set AUC\n",
    "print dl_perf1.auc()\n",
    "print dl_perf2.auc()\n",
    "print dl_perf3.auc()"
   ]
  },
  {
   "cell_type": "code",
   "execution_count": null,
   "metadata": {
    "collapsed": true
   },
   "outputs": [],
   "source": []
  }
 ],
 "metadata": {
  "kernelspec": {
   "display_name": "Python [Root]",
   "language": "python",
   "name": "Python [Root]"
  },
  "language_info": {
   "codemirror_mode": {
    "name": "ipython",
    "version": 2
   },
   "file_extension": ".py",
   "mimetype": "text/x-python",
   "name": "python",
   "nbconvert_exporter": "python",
   "pygments_lexer": "ipython2",
   "version": "2.7.11"
  }
 },
 "nbformat": 4,
 "nbformat_minor": 0
}
