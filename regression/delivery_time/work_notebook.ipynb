{
 "cells": [
  {
   "cell_type": "markdown",
   "id": "subtle-admission",
   "metadata": {},
   "source": [
    "# Data Homework @ DoorDash\n",
    "\n",
    "This notebook describes steps including data preprocessing and building ML models to predict delivery time.\n",
    "\n",
    "The delivery time is the target variable and it is **supervised** learning. The delivery time spent (in sec) is numeric and continous so I will deal with this problem using **regression** models. \n",
    "\n",
    "Note that, all the events in **predict_data.csv** (from 2015-02-18 to 2015-02-25) are later than **historical_data.csv** (from 2014-10-19 to 2015-02-18). Therefore, when I am building ML models and doing model selection, I consider `out-of-time` data, i.e. 20% chronologically later events, for validation.\n",
    "\n",
    "Since it is a regression problem, I used metrics **Mean-Absolute-Errors (MAE)** and **Root-Squared-Mean-Errors (RMSE)**.  \n",
    "\n",
    "The table of content:\n",
    "\n",
    "* A. Data Preprocess\n",
    "\n",
    "    * A.1 Create target variable - 'spent_time'\n",
    "    * A.2 Outliers\n",
    "    * A.3 Categorical variable - 'store_primary_category'\n",
    "    * A.4 Missing value\n",
    "   \n",
    "* B. Feature Visualization\n",
    "* C. Regression Model\n",
    "    * C.1 Linear model - Lasso (Baseline)\n",
    "    * C.2 Random forest regressor\n",
    "    * C.3 Deep neural networks\n",
    "    * C.4 Gradient boosting machine \n",
    "    * C.5 Revised gradient boosted machine\n",
    "    * C.6 Model comparison\n",
    "* D. Prediction\n",
    "\n",
    "\n",
    "Also note there are missing values in **predict_data.csv**, so we have to impute missing values in the data.\n",
    "\n",
    "By model comparison, the optimal regression model is given by gradient boosting machine (GBM) with tree regressor, and I used it to generated prediction of **predict_data.csv** and saved in **data_to_predict_gbm.csv**. \n",
    "\n",
    "However, I also tried the revised GBM, which additionally considers a coefficent to adjust under-estimated delivery time in the cost. Though overall GBM still outperforms rGBM, the later lowers the impact under-estimated delivery time (but higher over-estimated delivery time). I also generated prediction and saved in **data_to_predict_gbm2.csv** for reference."
   ]
  },
  {
   "cell_type": "code",
   "execution_count": 1,
   "id": "ruled-mixture",
   "metadata": {},
   "outputs": [],
   "source": [
    "import pandas as pd\n",
    "import numpy as np\n",
    "\n",
    "import matplotlib.pyplot as plt\n",
    "import seaborn as sns; sns.set_theme()\n",
    "import pylab\n",
    "\n",
    "import matplotlib\n",
    "matplotlib.style.use('ggplot')\n",
    "\n",
    "%matplotlib inline"
   ]
  },
  {
   "cell_type": "code",
   "execution_count": 2,
   "id": "detected-rough",
   "metadata": {},
   "outputs": [
    {
     "data": {
      "text/plain": [
       "((197428, 16), (54778, 17))"
      ]
     },
     "execution_count": 2,
     "metadata": {},
     "output_type": "execute_result"
    }
   ],
   "source": [
    "df = pd.read_csv(\"historical_data.csv\")\n",
    "pred_df = pd.read_csv(\"predict_data.csv\")\n",
    "df.shape, pred_df.shape"
   ]
  },
  {
   "cell_type": "code",
   "execution_count": 4,
   "id": "plastic-georgia",
   "metadata": {},
   "outputs": [
    {
     "data": {
      "text/plain": [
       "('2014-10-19 05:24:15',\n",
       " '2015-02-18 06:00:44',\n",
       " '2015-02-18 14:50:28',\n",
       " '2015-02-25 05:59:49')"
      ]
     },
     "execution_count": 4,
     "metadata": {},
     "output_type": "execute_result"
    }
   ],
   "source": [
    "df[\"created_at\"].min(), df[\"created_at\"].max(), pred_df[\"created_at\"].min(), pred_df[\"created_at\"].max()"
   ]
  },
  {
   "cell_type": "code",
   "execution_count": 3,
   "id": "worth-shore",
   "metadata": {},
   "outputs": [],
   "source": [
    "df = df.sort_values(by=['created_at'])"
   ]
  },
  {
   "cell_type": "code",
   "execution_count": 4,
   "id": "saving-works",
   "metadata": {},
   "outputs": [
    {
     "data": {
      "text/html": [
       "<div>\n",
       "<style scoped>\n",
       "    .dataframe tbody tr th:only-of-type {\n",
       "        vertical-align: middle;\n",
       "    }\n",
       "\n",
       "    .dataframe tbody tr th {\n",
       "        vertical-align: top;\n",
       "    }\n",
       "\n",
       "    .dataframe thead th {\n",
       "        text-align: right;\n",
       "    }\n",
       "</style>\n",
       "<table border=\"1\" class=\"dataframe\">\n",
       "  <thead>\n",
       "    <tr style=\"text-align: right;\">\n",
       "      <th></th>\n",
       "      <th>market_id</th>\n",
       "      <th>created_at</th>\n",
       "      <th>actual_delivery_time</th>\n",
       "      <th>store_id</th>\n",
       "      <th>store_primary_category</th>\n",
       "      <th>order_protocol</th>\n",
       "      <th>total_items</th>\n",
       "      <th>subtotal</th>\n",
       "      <th>num_distinct_items</th>\n",
       "      <th>min_item_price</th>\n",
       "      <th>max_item_price</th>\n",
       "      <th>total_onshift_dashers</th>\n",
       "      <th>total_busy_dashers</th>\n",
       "      <th>total_outstanding_orders</th>\n",
       "      <th>estimated_order_place_duration</th>\n",
       "      <th>estimated_store_to_consumer_driving_duration</th>\n",
       "    </tr>\n",
       "  </thead>\n",
       "  <tbody>\n",
       "    <tr>\n",
       "      <th>2690</th>\n",
       "      <td>1.0</td>\n",
       "      <td>2014-10-19 05:24:15</td>\n",
       "      <td>2015-01-25 19:11:54</td>\n",
       "      <td>3560</td>\n",
       "      <td>italian</td>\n",
       "      <td>1.0</td>\n",
       "      <td>1</td>\n",
       "      <td>1695</td>\n",
       "      <td>1</td>\n",
       "      <td>1595</td>\n",
       "      <td>1595</td>\n",
       "      <td>NaN</td>\n",
       "      <td>NaN</td>\n",
       "      <td>NaN</td>\n",
       "      <td>446</td>\n",
       "      <td>412.0</td>\n",
       "    </tr>\n",
       "    <tr>\n",
       "      <th>43519</th>\n",
       "      <td>1.0</td>\n",
       "      <td>2015-01-21 15:22:03</td>\n",
       "      <td>2015-01-21 16:17:43</td>\n",
       "      <td>2966</td>\n",
       "      <td>dessert</td>\n",
       "      <td>4.0</td>\n",
       "      <td>2</td>\n",
       "      <td>1058</td>\n",
       "      <td>2</td>\n",
       "      <td>219</td>\n",
       "      <td>799</td>\n",
       "      <td>2.0</td>\n",
       "      <td>1.0</td>\n",
       "      <td>1.0</td>\n",
       "      <td>251</td>\n",
       "      <td>463.0</td>\n",
       "    </tr>\n",
       "    <tr>\n",
       "      <th>148754</th>\n",
       "      <td>3.0</td>\n",
       "      <td>2015-01-21 15:31:51</td>\n",
       "      <td>2015-01-21 16:16:34</td>\n",
       "      <td>1303</td>\n",
       "      <td>cafe</td>\n",
       "      <td>4.0</td>\n",
       "      <td>2</td>\n",
       "      <td>690</td>\n",
       "      <td>2</td>\n",
       "      <td>195</td>\n",
       "      <td>255</td>\n",
       "      <td>2.0</td>\n",
       "      <td>0.0</td>\n",
       "      <td>1.0</td>\n",
       "      <td>251</td>\n",
       "      <td>458.0</td>\n",
       "    </tr>\n",
       "    <tr>\n",
       "      <th>187014</th>\n",
       "      <td>1.0</td>\n",
       "      <td>2015-01-21 15:39:16</td>\n",
       "      <td>2015-01-21 15:58:11</td>\n",
       "      <td>5551</td>\n",
       "      <td>NaN</td>\n",
       "      <td>4.0</td>\n",
       "      <td>3</td>\n",
       "      <td>1867</td>\n",
       "      <td>3</td>\n",
       "      <td>449</td>\n",
       "      <td>529</td>\n",
       "      <td>4.0</td>\n",
       "      <td>1.0</td>\n",
       "      <td>1.0</td>\n",
       "      <td>251</td>\n",
       "      <td>284.0</td>\n",
       "    </tr>\n",
       "    <tr>\n",
       "      <th>10265</th>\n",
       "      <td>1.0</td>\n",
       "      <td>2015-01-21 15:40:42</td>\n",
       "      <td>2015-01-21 16:22:37</td>\n",
       "      <td>602</td>\n",
       "      <td>cafe</td>\n",
       "      <td>4.0</td>\n",
       "      <td>3</td>\n",
       "      <td>955</td>\n",
       "      <td>3</td>\n",
       "      <td>245</td>\n",
       "      <td>345</td>\n",
       "      <td>3.0</td>\n",
       "      <td>2.0</td>\n",
       "      <td>2.0</td>\n",
       "      <td>251</td>\n",
       "      <td>377.0</td>\n",
       "    </tr>\n",
       "  </tbody>\n",
       "</table>\n",
       "</div>"
      ],
      "text/plain": [
       "        market_id           created_at actual_delivery_time  store_id  \\\n",
       "2690          1.0  2014-10-19 05:24:15  2015-01-25 19:11:54      3560   \n",
       "43519         1.0  2015-01-21 15:22:03  2015-01-21 16:17:43      2966   \n",
       "148754        3.0  2015-01-21 15:31:51  2015-01-21 16:16:34      1303   \n",
       "187014        1.0  2015-01-21 15:39:16  2015-01-21 15:58:11      5551   \n",
       "10265         1.0  2015-01-21 15:40:42  2015-01-21 16:22:37       602   \n",
       "\n",
       "       store_primary_category  order_protocol  total_items  subtotal  \\\n",
       "2690                  italian             1.0            1      1695   \n",
       "43519                 dessert             4.0            2      1058   \n",
       "148754                   cafe             4.0            2       690   \n",
       "187014                    NaN             4.0            3      1867   \n",
       "10265                    cafe             4.0            3       955   \n",
       "\n",
       "        num_distinct_items  min_item_price  max_item_price  \\\n",
       "2690                     1            1595            1595   \n",
       "43519                    2             219             799   \n",
       "148754                   2             195             255   \n",
       "187014                   3             449             529   \n",
       "10265                    3             245             345   \n",
       "\n",
       "        total_onshift_dashers  total_busy_dashers  total_outstanding_orders  \\\n",
       "2690                      NaN                 NaN                       NaN   \n",
       "43519                     2.0                 1.0                       1.0   \n",
       "148754                    2.0                 0.0                       1.0   \n",
       "187014                    4.0                 1.0                       1.0   \n",
       "10265                     3.0                 2.0                       2.0   \n",
       "\n",
       "        estimated_order_place_duration  \\\n",
       "2690                               446   \n",
       "43519                              251   \n",
       "148754                             251   \n",
       "187014                             251   \n",
       "10265                              251   \n",
       "\n",
       "        estimated_store_to_consumer_driving_duration  \n",
       "2690                                           412.0  \n",
       "43519                                          463.0  \n",
       "148754                                         458.0  \n",
       "187014                                         284.0  \n",
       "10265                                          377.0  "
      ]
     },
     "execution_count": 4,
     "metadata": {},
     "output_type": "execute_result"
    }
   ],
   "source": [
    "df.head()"
   ]
  },
  {
   "cell_type": "code",
   "execution_count": 5,
   "id": "graduate-yacht",
   "metadata": {},
   "outputs": [
    {
     "name": "stdout",
     "output_type": "stream",
     "text": [
      "<class 'pandas.core.frame.DataFrame'>\n",
      "Int64Index: 197428 entries, 2690 to 61787\n",
      "Data columns (total 16 columns):\n",
      " #   Column                                        Non-Null Count   Dtype  \n",
      "---  ------                                        --------------   -----  \n",
      " 0   market_id                                     196441 non-null  float64\n",
      " 1   created_at                                    197428 non-null  object \n",
      " 2   actual_delivery_time                          197421 non-null  object \n",
      " 3   store_id                                      197428 non-null  int64  \n",
      " 4   store_primary_category                        192668 non-null  object \n",
      " 5   order_protocol                                196433 non-null  float64\n",
      " 6   total_items                                   197428 non-null  int64  \n",
      " 7   subtotal                                      197428 non-null  int64  \n",
      " 8   num_distinct_items                            197428 non-null  int64  \n",
      " 9   min_item_price                                197428 non-null  int64  \n",
      " 10  max_item_price                                197428 non-null  int64  \n",
      " 11  total_onshift_dashers                         181166 non-null  float64\n",
      " 12  total_busy_dashers                            181166 non-null  float64\n",
      " 13  total_outstanding_orders                      181166 non-null  float64\n",
      " 14  estimated_order_place_duration                197428 non-null  int64  \n",
      " 15  estimated_store_to_consumer_driving_duration  196902 non-null  float64\n",
      "dtypes: float64(6), int64(7), object(3)\n",
      "memory usage: 25.6+ MB\n"
     ]
    }
   ],
   "source": [
    "df.info()"
   ]
  },
  {
   "cell_type": "markdown",
   "id": "advance-electricity",
   "metadata": {},
   "source": [
    "## A. Data Preprocess\n",
    "\n",
    "### A.1 Create target variable - 'spent_time'\n",
    "\n",
    "Given `created_at` and `actual_delivery_time` columns, I made the target variable `spent_time`, which is the delivery time by `actual_delivery_time` - `created_at`. Meanwhile, I also created columns `month`, `day`, `hour` and `workday` from `created_at`. For example, \"2015-02-06 22:24:17\" will give `month`=2, `day`=6, `hour`=22 and `min`=24. The `workday` = $\\lbrace 0, 1, \\cdots, 6\\rbrace$ represent Sunday, Monday...\n",
    "\n",
    "Here I do not create year since only one data point in 2014, and it is an outlier and will be removed later."
   ]
  },
  {
   "cell_type": "code",
   "execution_count": 5,
   "id": "polished-scholar",
   "metadata": {},
   "outputs": [],
   "source": [
    "def get_time_features(df):\n",
    "    # take month, day, hour, min from created_at:\n",
    "    df[\"month\"] = df.apply(lambda x: int(x[\"created_at\"].split(\" \")[0].split(\"-\")[1]), axis=1)\n",
    "    df[\"day\"] = df.apply(lambda x: int(x[\"created_at\"].split(\" \")[0].split(\"-\")[2]), axis=1)\n",
    "    df[\"hour\"] = df.apply(lambda x: int(x[\"created_at\"].split(\" \")[1].split(\":\")[0]), axis=1)\n",
    "    df[\"min\"] = df.apply(lambda x: int(x[\"created_at\"].split(\" \")[1].split(\":\")[1]), axis=1)\n",
    "    \n",
    "    # take weekday information\n",
    "    df['weekday'] = df.apply(lambda x: x[\"created_at\"].split(\" \")[0], axis=1)\n",
    "    df['weekday'] = pd.to_datetime(df['weekday'], errors='coerce')\n",
    "    df['weekday'] = df['weekday'].dt.dayofweek\n",
    "    \n",
    "    df = df.drop(['created_at'], axis=1)\n",
    "    \n",
    "    return df\n",
    "\n",
    "def get_spent_time_for_delivery(df):\n",
    "    ''' \n",
    "    get target value: actual_deliver_time - created_at \n",
    "    ''' \n",
    "    df['ts1'] = df['created_at'].apply(lambda x: pd.Timestamp(x).timestamp())\n",
    "    df['ts2'] = df['actual_delivery_time'].apply(lambda x: pd.Timestamp(x).timestamp())\n",
    "    df['spent_time'] = pd.Series(df['ts2']-df['ts1'], index = df.index)\n",
    "    \n",
    "    df = df.drop(['ts1', 'ts2'], axis=1)\n",
    "    \n",
    "    return df"
   ]
  },
  {
   "cell_type": "code",
   "execution_count": 6,
   "id": "handy-stream",
   "metadata": {},
   "outputs": [],
   "source": [
    "df = df.dropna(axis=0, subset=['created_at', 'actual_delivery_time'])\n",
    "df = get_spent_time_for_delivery(df)\n",
    "df = df.drop(['actual_delivery_time'], axis=1)\n",
    "\n",
    "df = get_time_features(df)"
   ]
  },
  {
   "cell_type": "code",
   "execution_count": 8,
   "id": "empirical-virgin",
   "metadata": {},
   "outputs": [
    {
     "data": {
      "text/html": [
       "<div>\n",
       "<style scoped>\n",
       "    .dataframe tbody tr th:only-of-type {\n",
       "        vertical-align: middle;\n",
       "    }\n",
       "\n",
       "    .dataframe tbody tr th {\n",
       "        vertical-align: top;\n",
       "    }\n",
       "\n",
       "    .dataframe thead th {\n",
       "        text-align: right;\n",
       "    }\n",
       "</style>\n",
       "<table border=\"1\" class=\"dataframe\">\n",
       "  <thead>\n",
       "    <tr style=\"text-align: right;\">\n",
       "      <th></th>\n",
       "      <th>market_id</th>\n",
       "      <th>store_id</th>\n",
       "      <th>store_primary_category</th>\n",
       "      <th>order_protocol</th>\n",
       "      <th>total_items</th>\n",
       "      <th>subtotal</th>\n",
       "      <th>num_distinct_items</th>\n",
       "      <th>min_item_price</th>\n",
       "      <th>max_item_price</th>\n",
       "      <th>total_onshift_dashers</th>\n",
       "      <th>total_busy_dashers</th>\n",
       "      <th>total_outstanding_orders</th>\n",
       "      <th>estimated_order_place_duration</th>\n",
       "      <th>estimated_store_to_consumer_driving_duration</th>\n",
       "      <th>spent_time</th>\n",
       "      <th>month</th>\n",
       "      <th>day</th>\n",
       "      <th>hour</th>\n",
       "      <th>min</th>\n",
       "      <th>weekday</th>\n",
       "    </tr>\n",
       "  </thead>\n",
       "  <tbody>\n",
       "    <tr>\n",
       "      <th>2690</th>\n",
       "      <td>1.0</td>\n",
       "      <td>3560</td>\n",
       "      <td>italian</td>\n",
       "      <td>1.0</td>\n",
       "      <td>1</td>\n",
       "      <td>1695</td>\n",
       "      <td>1</td>\n",
       "      <td>1595</td>\n",
       "      <td>1595</td>\n",
       "      <td>NaN</td>\n",
       "      <td>NaN</td>\n",
       "      <td>NaN</td>\n",
       "      <td>446</td>\n",
       "      <td>412.0</td>\n",
       "      <td>8516859.0</td>\n",
       "      <td>10</td>\n",
       "      <td>19</td>\n",
       "      <td>5</td>\n",
       "      <td>24</td>\n",
       "      <td>6</td>\n",
       "    </tr>\n",
       "    <tr>\n",
       "      <th>43519</th>\n",
       "      <td>1.0</td>\n",
       "      <td>2966</td>\n",
       "      <td>dessert</td>\n",
       "      <td>4.0</td>\n",
       "      <td>2</td>\n",
       "      <td>1058</td>\n",
       "      <td>2</td>\n",
       "      <td>219</td>\n",
       "      <td>799</td>\n",
       "      <td>2.0</td>\n",
       "      <td>1.0</td>\n",
       "      <td>1.0</td>\n",
       "      <td>251</td>\n",
       "      <td>463.0</td>\n",
       "      <td>3340.0</td>\n",
       "      <td>1</td>\n",
       "      <td>21</td>\n",
       "      <td>15</td>\n",
       "      <td>22</td>\n",
       "      <td>2</td>\n",
       "    </tr>\n",
       "    <tr>\n",
       "      <th>148754</th>\n",
       "      <td>3.0</td>\n",
       "      <td>1303</td>\n",
       "      <td>cafe</td>\n",
       "      <td>4.0</td>\n",
       "      <td>2</td>\n",
       "      <td>690</td>\n",
       "      <td>2</td>\n",
       "      <td>195</td>\n",
       "      <td>255</td>\n",
       "      <td>2.0</td>\n",
       "      <td>0.0</td>\n",
       "      <td>1.0</td>\n",
       "      <td>251</td>\n",
       "      <td>458.0</td>\n",
       "      <td>2683.0</td>\n",
       "      <td>1</td>\n",
       "      <td>21</td>\n",
       "      <td>15</td>\n",
       "      <td>31</td>\n",
       "      <td>2</td>\n",
       "    </tr>\n",
       "    <tr>\n",
       "      <th>187014</th>\n",
       "      <td>1.0</td>\n",
       "      <td>5551</td>\n",
       "      <td>NaN</td>\n",
       "      <td>4.0</td>\n",
       "      <td>3</td>\n",
       "      <td>1867</td>\n",
       "      <td>3</td>\n",
       "      <td>449</td>\n",
       "      <td>529</td>\n",
       "      <td>4.0</td>\n",
       "      <td>1.0</td>\n",
       "      <td>1.0</td>\n",
       "      <td>251</td>\n",
       "      <td>284.0</td>\n",
       "      <td>1135.0</td>\n",
       "      <td>1</td>\n",
       "      <td>21</td>\n",
       "      <td>15</td>\n",
       "      <td>39</td>\n",
       "      <td>2</td>\n",
       "    </tr>\n",
       "    <tr>\n",
       "      <th>10265</th>\n",
       "      <td>1.0</td>\n",
       "      <td>602</td>\n",
       "      <td>cafe</td>\n",
       "      <td>4.0</td>\n",
       "      <td>3</td>\n",
       "      <td>955</td>\n",
       "      <td>3</td>\n",
       "      <td>245</td>\n",
       "      <td>345</td>\n",
       "      <td>3.0</td>\n",
       "      <td>2.0</td>\n",
       "      <td>2.0</td>\n",
       "      <td>251</td>\n",
       "      <td>377.0</td>\n",
       "      <td>2515.0</td>\n",
       "      <td>1</td>\n",
       "      <td>21</td>\n",
       "      <td>15</td>\n",
       "      <td>40</td>\n",
       "      <td>2</td>\n",
       "    </tr>\n",
       "  </tbody>\n",
       "</table>\n",
       "</div>"
      ],
      "text/plain": [
       "        market_id  store_id store_primary_category  order_protocol  \\\n",
       "2690          1.0      3560                italian             1.0   \n",
       "43519         1.0      2966                dessert             4.0   \n",
       "148754        3.0      1303                   cafe             4.0   \n",
       "187014        1.0      5551                    NaN             4.0   \n",
       "10265         1.0       602                   cafe             4.0   \n",
       "\n",
       "        total_items  subtotal  num_distinct_items  min_item_price  \\\n",
       "2690              1      1695                   1            1595   \n",
       "43519             2      1058                   2             219   \n",
       "148754            2       690                   2             195   \n",
       "187014            3      1867                   3             449   \n",
       "10265             3       955                   3             245   \n",
       "\n",
       "        max_item_price  total_onshift_dashers  total_busy_dashers  \\\n",
       "2690              1595                    NaN                 NaN   \n",
       "43519              799                    2.0                 1.0   \n",
       "148754             255                    2.0                 0.0   \n",
       "187014             529                    4.0                 1.0   \n",
       "10265              345                    3.0                 2.0   \n",
       "\n",
       "        total_outstanding_orders  estimated_order_place_duration  \\\n",
       "2690                         NaN                             446   \n",
       "43519                        1.0                             251   \n",
       "148754                       1.0                             251   \n",
       "187014                       1.0                             251   \n",
       "10265                        2.0                             251   \n",
       "\n",
       "        estimated_store_to_consumer_driving_duration  spent_time  month  day  \\\n",
       "2690                                           412.0   8516859.0     10   19   \n",
       "43519                                          463.0      3340.0      1   21   \n",
       "148754                                         458.0      2683.0      1   21   \n",
       "187014                                         284.0      1135.0      1   21   \n",
       "10265                                          377.0      2515.0      1   21   \n",
       "\n",
       "        hour  min  weekday  \n",
       "2690       5   24        6  \n",
       "43519     15   22        2  \n",
       "148754    15   31        2  \n",
       "187014    15   39        2  \n",
       "10265     15   40        2  "
      ]
     },
     "execution_count": 8,
     "metadata": {},
     "output_type": "execute_result"
    }
   ],
   "source": [
    "df.head()"
   ]
  },
  {
   "cell_type": "markdown",
   "id": "stylish-house",
   "metadata": {},
   "source": [
    "### A.2 Outliers\n",
    "\n",
    "There seem three different months in data, but only one data point for Oct. 2014. It is an outlier in `spent_time`. In visualizing boxplot: `spent time` vs `month` and histgram on `spent time`, we can see three data points, whose `spent_time` > 100000 sec (~ 27 hours). Thus these are outliers and I will remove from data (including the event is in 2014 Oct)."
   ]
  },
  {
   "cell_type": "code",
   "execution_count": 9,
   "id": "infrared-contrast",
   "metadata": {},
   "outputs": [
    {
     "data": {
      "image/png": "[encoded data removed]",
      "text/plain": [
       "<Figure size 864x288 with 2 Axes>"
      ]
     },
     "metadata": {
      "needs_background": "light"
     },
     "output_type": "display_data"
    }
   ],
   "source": [
    "plt.figure(figsize = (12,4), tight_layout=True)\n",
    "\n",
    "plt.subplot(121)  \n",
    "plt.boxplot([df[df.month==1]['spent_time'].tolist(), df[df.month==2]['spent_time'].tolist()])\n",
    "plt.xlabel('month', fontsize=18)\n",
    "plt.ylabel('spent_time', fontsize=18)\n",
    "\n",
    "plt.subplot(122)\n",
    "plt.hist(df['spent_time'], bins=200)\n",
    "plt.xlabel('spent_time', fontsize=18)\n",
    "\n",
    "plt.show()"
   ]
  },
  {
   "cell_type": "code",
   "execution_count": 7,
   "id": "absent-runner",
   "metadata": {},
   "outputs": [],
   "source": [
    "outliers = df[df.spent_time > 100000]\n",
    "df = df[df.spent_time < 100000]"
   ]
  },
  {
   "cell_type": "markdown",
   "id": "continent-blackjack",
   "metadata": {},
   "source": [
    "The outlier events are shown below:"
   ]
  },
  {
   "cell_type": "code",
   "execution_count": 11,
   "id": "national-gentleman",
   "metadata": {},
   "outputs": [
    {
     "data": {
      "text/html": [
       "<div>\n",
       "<style scoped>\n",
       "    .dataframe tbody tr th:only-of-type {\n",
       "        vertical-align: middle;\n",
       "    }\n",
       "\n",
       "    .dataframe tbody tr th {\n",
       "        vertical-align: top;\n",
       "    }\n",
       "\n",
       "    .dataframe thead th {\n",
       "        text-align: right;\n",
       "    }\n",
       "</style>\n",
       "<table border=\"1\" class=\"dataframe\">\n",
       "  <thead>\n",
       "    <tr style=\"text-align: right;\">\n",
       "      <th></th>\n",
       "      <th>market_id</th>\n",
       "      <th>store_id</th>\n",
       "      <th>store_primary_category</th>\n",
       "      <th>order_protocol</th>\n",
       "      <th>total_items</th>\n",
       "      <th>subtotal</th>\n",
       "      <th>num_distinct_items</th>\n",
       "      <th>min_item_price</th>\n",
       "      <th>max_item_price</th>\n",
       "      <th>total_onshift_dashers</th>\n",
       "      <th>total_busy_dashers</th>\n",
       "      <th>total_outstanding_orders</th>\n",
       "      <th>estimated_order_place_duration</th>\n",
       "      <th>estimated_store_to_consumer_driving_duration</th>\n",
       "      <th>spent_time</th>\n",
       "      <th>month</th>\n",
       "      <th>day</th>\n",
       "      <th>hour</th>\n",
       "      <th>min</th>\n",
       "      <th>weekday</th>\n",
       "    </tr>\n",
       "  </thead>\n",
       "  <tbody>\n",
       "    <tr>\n",
       "      <th>2690</th>\n",
       "      <td>1.0</td>\n",
       "      <td>3560</td>\n",
       "      <td>italian</td>\n",
       "      <td>1.0</td>\n",
       "      <td>1</td>\n",
       "      <td>1695</td>\n",
       "      <td>1</td>\n",
       "      <td>1595</td>\n",
       "      <td>1595</td>\n",
       "      <td>NaN</td>\n",
       "      <td>NaN</td>\n",
       "      <td>NaN</td>\n",
       "      <td>446</td>\n",
       "      <td>412.0</td>\n",
       "      <td>8516859.0</td>\n",
       "      <td>10</td>\n",
       "      <td>19</td>\n",
       "      <td>5</td>\n",
       "      <td>24</td>\n",
       "      <td>6</td>\n",
       "    </tr>\n",
       "    <tr>\n",
       "      <th>185550</th>\n",
       "      <td>4.0</td>\n",
       "      <td>6503</td>\n",
       "      <td>dessert</td>\n",
       "      <td>5.0</td>\n",
       "      <td>3</td>\n",
       "      <td>1520</td>\n",
       "      <td>3</td>\n",
       "      <td>220</td>\n",
       "      <td>750</td>\n",
       "      <td>0.0</td>\n",
       "      <td>0.0</td>\n",
       "      <td>0.0</td>\n",
       "      <td>251</td>\n",
       "      <td>476.0</td>\n",
       "      <td>373879.0</td>\n",
       "      <td>1</td>\n",
       "      <td>28</td>\n",
       "      <td>8</td>\n",
       "      <td>34</td>\n",
       "      <td>2</td>\n",
       "    </tr>\n",
       "    <tr>\n",
       "      <th>27189</th>\n",
       "      <td>1.0</td>\n",
       "      <td>4338</td>\n",
       "      <td>indian</td>\n",
       "      <td>3.0</td>\n",
       "      <td>4</td>\n",
       "      <td>4980</td>\n",
       "      <td>4</td>\n",
       "      <td>995</td>\n",
       "      <td>1795</td>\n",
       "      <td>72.0</td>\n",
       "      <td>68.0</td>\n",
       "      <td>104.0</td>\n",
       "      <td>251</td>\n",
       "      <td>767.0</td>\n",
       "      <td>332482.0</td>\n",
       "      <td>2</td>\n",
       "      <td>16</td>\n",
       "      <td>2</td>\n",
       "      <td>24</td>\n",
       "      <td>0</td>\n",
       "    </tr>\n",
       "  </tbody>\n",
       "</table>\n",
       "</div>"
      ],
      "text/plain": [
       "        market_id  store_id store_primary_category  order_protocol  \\\n",
       "2690          1.0      3560                italian             1.0   \n",
       "185550        4.0      6503                dessert             5.0   \n",
       "27189         1.0      4338                 indian             3.0   \n",
       "\n",
       "        total_items  subtotal  num_distinct_items  min_item_price  \\\n",
       "2690              1      1695                   1            1595   \n",
       "185550            3      1520                   3             220   \n",
       "27189             4      4980                   4             995   \n",
       "\n",
       "        max_item_price  total_onshift_dashers  total_busy_dashers  \\\n",
       "2690              1595                    NaN                 NaN   \n",
       "185550             750                    0.0                 0.0   \n",
       "27189             1795                   72.0                68.0   \n",
       "\n",
       "        total_outstanding_orders  estimated_order_place_duration  \\\n",
       "2690                         NaN                             446   \n",
       "185550                       0.0                             251   \n",
       "27189                      104.0                             251   \n",
       "\n",
       "        estimated_store_to_consumer_driving_duration  spent_time  month  day  \\\n",
       "2690                                           412.0   8516859.0     10   19   \n",
       "185550                                         476.0    373879.0      1   28   \n",
       "27189                                          767.0    332482.0      2   16   \n",
       "\n",
       "        hour  min  weekday  \n",
       "2690       5   24        6  \n",
       "185550     8   34        2  \n",
       "27189      2   24        0  "
      ]
     },
     "execution_count": 11,
     "metadata": {},
     "output_type": "execute_result"
    }
   ],
   "source": [
    "outliers.head()"
   ]
  },
  {
   "cell_type": "markdown",
   "id": "saving-index",
   "metadata": {},
   "source": [
    "After removing the outliers, the data look better:"
   ]
  },
  {
   "cell_type": "code",
   "execution_count": 8,
   "id": "covered-manner",
   "metadata": {},
   "outputs": [
    {
     "data": {
      "image/png": "[encoded data removed]",
      "text/plain": [
       "<Figure size 864x288 with 2 Axes>"
      ]
     },
     "metadata": {
      "needs_background": "light"
     },
     "output_type": "display_data"
    }
   ],
   "source": [
    "plt.figure(figsize = (12,4), tight_layout=True)\n",
    "        \n",
    "plt.subplot(121)  \n",
    "plt.boxplot([df[df.month==1]['spent_time'].tolist(), df[df.month==2]['spent_time'].tolist()])\n",
    "plt.xlabel('month', fontsize=18)\n",
    "plt.ylabel('spent_time', fontsize=18)\n",
    "\n",
    "plt.subplot(122)\n",
    "plt.hist(df['spent_time'], bins=200)\n",
    "plt.xlabel('spent_time', fontsize=18)\n",
    "plt.xlim(0, 15000)\n",
    "\n",
    "plt.show()"
   ]
  },
  {
   "cell_type": "markdown",
   "id": "sweet-fault",
   "metadata": {},
   "source": [
    "### A.3 Categorical variable - 'store_primary_category'\n",
    "\n",
    "Use `LabelEncoder` to convert `store_primary_category` to number label:"
   ]
  },
  {
   "cell_type": "code",
   "execution_count": 13,
   "id": "celtic-haiti",
   "metadata": {},
   "outputs": [
    {
     "data": {
      "image/png": "[encoded data removed]",
      "text/plain": [
       "<Figure size 720x576 with 1 Axes>"
      ]
     },
     "metadata": {},
     "output_type": "display_data"
    }
   ],
   "source": [
    "def pieChart(data):\n",
    "    c_dict = {}\n",
    "    for x in data:\n",
    "        c_dict[x] = c_dict.get(x, 0) + 1\n",
    "        \n",
    "    c_dict = sorted(c_dict.items(), key=lambda x: x[1], reverse=True)\n",
    "    \n",
    "    labels = [c[0] for c in c_dict]\n",
    "    sizes = [c[1]/len(data) for c in c_dict]\n",
    "    \n",
    "    fig1, ax1 = plt.subplots(figsize=(10, 8))\n",
    "    ax1.pie(sizes, labels=labels, autopct='%1.1f%%',\n",
    "            shadow=True, startangle=90)\n",
    "    ax1.axis('equal')  # Equal aspect ratio ensures that pie is drawn as a circle.\n",
    "    plt.show()\n",
    "    \n",
    "pieChart(df[\"store_primary_category\"])"
   ]
  },
  {
   "cell_type": "code",
   "execution_count": 9,
   "id": "parliamentary-correction",
   "metadata": {},
   "outputs": [],
   "source": [
    "from sklearn.preprocessing import LabelEncoder\n",
    "store_category_encoder = LabelEncoder()\n",
    "df[\"store_primary_category\"] = store_category_encoder.fit_transform(df[\"store_primary_category\"])"
   ]
  },
  {
   "cell_type": "markdown",
   "id": "funky-things",
   "metadata": {},
   "source": [
    "### A.4 Missing value\n",
    "\n",
    "Next check missing values. There are some missing values in the fields: `market_id`, `order_protocol`, `total_onshift_dashers`, `total_busy_dashers`, `total_outstanding_orders`, and `estimated_order_place_duration` in the data.\n",
    "\n",
    "`market_id` and `order_protocol` are like id, so we use `LabelEncoder` and keep them for later converting in **predict_data.csv**. Missing values in other fields are filled by their **median values**."
   ]
  },
  {
   "cell_type": "code",
   "execution_count": 15,
   "id": "shaped-silver",
   "metadata": {},
   "outputs": [
    {
     "data": {
      "text/plain": [
       "market_id                                         987\n",
       "store_id                                            0\n",
       "store_primary_category                              0\n",
       "order_protocol                                    995\n",
       "total_items                                         0\n",
       "subtotal                                            0\n",
       "num_distinct_items                                  0\n",
       "min_item_price                                      0\n",
       "max_item_price                                      0\n",
       "total_onshift_dashers                           16261\n",
       "total_busy_dashers                              16261\n",
       "total_outstanding_orders                        16261\n",
       "estimated_order_place_duration                      0\n",
       "estimated_store_to_consumer_driving_duration      526\n",
       "spent_time                                          0\n",
       "month                                               0\n",
       "day                                                 0\n",
       "hour                                                0\n",
       "min                                                 0\n",
       "weekday                                             0\n",
       "dtype: int64"
      ]
     },
     "execution_count": 15,
     "metadata": {},
     "output_type": "execute_result"
    }
   ],
   "source": [
    "df.isnull().sum()"
   ]
  },
  {
   "cell_type": "markdown",
   "id": "assisted-controversy",
   "metadata": {},
   "source": [
    "#### a. 'total_onshift_dashers', 'total_busy_dashers', 'total_outstanding_orders'\n",
    "\n",
    "Compute the **median** values of these attributes and later fill in missing values of these fields in **predict_data.csv**."
   ]
  },
  {
   "cell_type": "code",
   "execution_count": 25,
   "id": "likely-boundary",
   "metadata": {},
   "outputs": [
    {
     "data": {
      "image/png": "[encoded data removed]",
      "text/plain": [
       "<Figure size 1008x288 with 3 Axes>"
      ]
     },
     "metadata": {
      "needs_background": "light"
     },
     "output_type": "display_data"
    }
   ],
   "source": [
    "fig, axs = plt.subplots(1, 3, figsize = (14,4), tight_layout=True)\n",
    "\n",
    "axs[0].hist(df['total_onshift_dashers'].dropna(), bins=100)\n",
    "axs[1].hist(df['total_busy_dashers'].dropna(), bins=100)\n",
    "axs[2].hist(df['total_outstanding_orders'].dropna(), bins=100)\n",
    "\n",
    "plt.show()"
   ]
  },
  {
   "cell_type": "markdown",
   "id": "protecting-charter",
   "metadata": {},
   "source": [
    "#### b. 'order_protocol'\n",
    "\n",
    "Keep order_protocol_encoder and later convert `order_protocol` in **predict_data.csv**."
   ]
  },
  {
   "cell_type": "code",
   "execution_count": 10,
   "id": "favorite-tackle",
   "metadata": {},
   "outputs": [],
   "source": [
    "order_protocol_encoder = LabelEncoder()\n",
    "df[\"order_protocol\"] = order_protocol_encoder.fit_transform(df[\"order_protocol\"])"
   ]
  },
  {
   "cell_type": "code",
   "execution_count": 27,
   "id": "appointed-leather",
   "metadata": {},
   "outputs": [
    {
     "data": {
      "text/plain": [
       "{0, 1, 2, 3, 4, 5, 6, 7}"
      ]
     },
     "execution_count": 27,
     "metadata": {},
     "output_type": "execute_result"
    }
   ],
   "source": [
    "set(df[\"order_protocol\"])"
   ]
  },
  {
   "cell_type": "markdown",
   "id": "cardiovascular-credits",
   "metadata": {},
   "source": [
    "#### c. 'market_id'\n",
    "\n",
    "Keep market_id_encoder and later convert `market_id` in **predict_data.csv**."
   ]
  },
  {
   "cell_type": "code",
   "execution_count": 11,
   "id": "studied-sherman",
   "metadata": {},
   "outputs": [],
   "source": [
    "market_id_encoder = LabelEncoder()\n",
    "df[\"market_id\"] = market_id_encoder.fit_transform(df[\"market_id\"])"
   ]
  },
  {
   "cell_type": "code",
   "execution_count": 29,
   "id": "unexpected-hopkins",
   "metadata": {},
   "outputs": [
    {
     "data": {
      "text/plain": [
       "{0, 1, 2, 3, 4, 5, 6}"
      ]
     },
     "execution_count": 29,
     "metadata": {},
     "output_type": "execute_result"
    }
   ],
   "source": [
    "set(df['market_id'])"
   ]
  },
  {
   "cell_type": "markdown",
   "id": "favorite-hazard",
   "metadata": {},
   "source": [
    "#### d. 'estimated_store_to_consumer_driving_duration'\n",
    "\n",
    "Compute the **median** values of these attributes and later fill in missing values in **predict_data.csv**."
   ]
  },
  {
   "cell_type": "code",
   "execution_count": 18,
   "id": "technological-vegetable",
   "metadata": {},
   "outputs": [
    {
     "data": {
      "image/png": "[encoded data removed]",
      "text/plain": [
       "<Figure size 432x288 with 1 Axes>"
      ]
     },
     "metadata": {
      "needs_background": "light"
     },
     "output_type": "display_data"
    }
   ],
   "source": [
    "plt.hist(df['estimated_store_to_consumer_driving_duration'], bins=100)\n",
    "plt.show()"
   ]
  },
  {
   "cell_type": "markdown",
   "id": "composed-fusion",
   "metadata": {},
   "source": [
    "Finally I imputate the missing values of 'total_onshift_dashers', 'total_busy_dashers', 'total_outstanding_orders' by fill their corresponding median value:"
   ]
  },
  {
   "cell_type": "code",
   "execution_count": 12,
   "id": "integral-release",
   "metadata": {},
   "outputs": [],
   "source": [
    "fillna_values = {'total_onshift_dashers': df['total_onshift_dashers'].dropna().median(),\n",
    "          'total_busy_dashers': df['total_busy_dashers'].dropna().median(),\n",
    "          'total_outstanding_orders': df['total_outstanding_orders'].dropna().median(), \n",
    "          'estimated_store_to_consumer_driving_duration': df['estimated_store_to_consumer_driving_duration'].dropna().median()}\n",
    "\n",
    "df2 = df.fillna(value=fillna_values)"
   ]
  },
  {
   "cell_type": "code",
   "execution_count": 13,
   "id": "billion-addiction",
   "metadata": {},
   "outputs": [
    {
     "data": {
      "text/plain": [
       "market_id                                       0\n",
       "store_id                                        0\n",
       "store_primary_category                          0\n",
       "order_protocol                                  0\n",
       "total_items                                     0\n",
       "subtotal                                        0\n",
       "num_distinct_items                              0\n",
       "min_item_price                                  0\n",
       "max_item_price                                  0\n",
       "total_onshift_dashers                           0\n",
       "total_busy_dashers                              0\n",
       "total_outstanding_orders                        0\n",
       "estimated_order_place_duration                  0\n",
       "estimated_store_to_consumer_driving_duration    0\n",
       "spent_time                                      0\n",
       "month                                           0\n",
       "day                                             0\n",
       "hour                                            0\n",
       "min                                             0\n",
       "weekday                                         0\n",
       "dtype: int64"
      ]
     },
     "execution_count": 13,
     "metadata": {},
     "output_type": "execute_result"
    }
   ],
   "source": [
    "df2.isnull().sum()"
   ]
  },
  {
   "cell_type": "markdown",
   "id": "prompt-services",
   "metadata": {},
   "source": [
    "## B. Feature Visualization\n",
    "\n",
    "This session is used to visualize: (1) what attributes are highly correlated to the target variable (2) what attributes are highly correlated to each other? \n",
    "\n",
    "The former is used to understand data when building model, and the later helps us understand multicollinearity issue. When we are interpreting feature importance, we need to reduce highly correlated attributes to a representative one by dropping others or deploying PCA. \n",
    "\n",
    "### B.1 Pearson's correlation between attributes and target variables \n"
   ]
  },
  {
   "cell_type": "code",
   "execution_count": 35,
   "id": "accepting-cattle",
   "metadata": {},
   "outputs": [],
   "source": [
    "corr = df.drop(['market_id', 'store_id', 'store_primary_category'], axis=1).dropna().corr()"
   ]
  },
  {
   "cell_type": "code",
   "execution_count": 36,
   "id": "bound-marker",
   "metadata": {},
   "outputs": [
    {
     "data": {
      "text/html": [
       "<div>\n",
       "<style scoped>\n",
       "    .dataframe tbody tr th:only-of-type {\n",
       "        vertical-align: middle;\n",
       "    }\n",
       "\n",
       "    .dataframe tbody tr th {\n",
       "        vertical-align: top;\n",
       "    }\n",
       "\n",
       "    .dataframe thead th {\n",
       "        text-align: right;\n",
       "    }\n",
       "</style>\n",
       "<table border=\"1\" class=\"dataframe\">\n",
       "  <thead>\n",
       "    <tr style=\"text-align: right;\">\n",
       "      <th></th>\n",
       "      <th>attribute</th>\n",
       "      <th>corr</th>\n",
       "    </tr>\n",
       "  </thead>\n",
       "  <tbody>\n",
       "    <tr>\n",
       "      <th>11</th>\n",
       "      <td>spent_time</td>\n",
       "      <td>1.000000</td>\n",
       "    </tr>\n",
       "    <tr>\n",
       "      <th>10</th>\n",
       "      <td>estimated_store_to_consumer_driving_duration</td>\n",
       "      <td>0.224868</td>\n",
       "    </tr>\n",
       "    <tr>\n",
       "      <th>2</th>\n",
       "      <td>subtotal</td>\n",
       "      <td>0.203930</td>\n",
       "    </tr>\n",
       "    <tr>\n",
       "      <th>8</th>\n",
       "      <td>total_outstanding_orders</td>\n",
       "      <td>0.173720</td>\n",
       "    </tr>\n",
       "    <tr>\n",
       "      <th>3</th>\n",
       "      <td>num_distinct_items</td>\n",
       "      <td>0.149772</td>\n",
       "    </tr>\n",
       "    <tr>\n",
       "      <th>5</th>\n",
       "      <td>max_item_price</td>\n",
       "      <td>0.125453</td>\n",
       "    </tr>\n",
       "    <tr>\n",
       "      <th>1</th>\n",
       "      <td>total_items</td>\n",
       "      <td>0.111312</td>\n",
       "    </tr>\n",
       "    <tr>\n",
       "      <th>9</th>\n",
       "      <td>estimated_order_place_duration</td>\n",
       "      <td>0.099294</td>\n",
       "    </tr>\n",
       "    <tr>\n",
       "      <th>7</th>\n",
       "      <td>total_busy_dashers</td>\n",
       "      <td>0.086847</td>\n",
       "    </tr>\n",
       "    <tr>\n",
       "      <th>6</th>\n",
       "      <td>total_onshift_dashers</td>\n",
       "      <td>0.067593</td>\n",
       "    </tr>\n",
       "    <tr>\n",
       "      <th>12</th>\n",
       "      <td>month</td>\n",
       "      <td>0.065184</td>\n",
       "    </tr>\n",
       "    <tr>\n",
       "      <th>4</th>\n",
       "      <td>min_item_price</td>\n",
       "      <td>0.012703</td>\n",
       "    </tr>\n",
       "    <tr>\n",
       "      <th>16</th>\n",
       "      <td>weekday</td>\n",
       "      <td>0.001724</td>\n",
       "    </tr>\n",
       "    <tr>\n",
       "      <th>15</th>\n",
       "      <td>min</td>\n",
       "      <td>-0.005739</td>\n",
       "    </tr>\n",
       "    <tr>\n",
       "      <th>13</th>\n",
       "      <td>day</td>\n",
       "      <td>-0.065023</td>\n",
       "    </tr>\n",
       "    <tr>\n",
       "      <th>0</th>\n",
       "      <td>order_protocol</td>\n",
       "      <td>-0.067996</td>\n",
       "    </tr>\n",
       "    <tr>\n",
       "      <th>14</th>\n",
       "      <td>hour</td>\n",
       "      <td>-0.163385</td>\n",
       "    </tr>\n",
       "  </tbody>\n",
       "</table>\n",
       "</div>"
      ],
      "text/plain": [
       "                                       attribute      corr\n",
       "11                                    spent_time  1.000000\n",
       "10  estimated_store_to_consumer_driving_duration  0.224868\n",
       "2                                       subtotal  0.203930\n",
       "8                       total_outstanding_orders  0.173720\n",
       "3                             num_distinct_items  0.149772\n",
       "5                                 max_item_price  0.125453\n",
       "1                                    total_items  0.111312\n",
       "9                 estimated_order_place_duration  0.099294\n",
       "7                             total_busy_dashers  0.086847\n",
       "6                          total_onshift_dashers  0.067593\n",
       "12                                         month  0.065184\n",
       "4                                 min_item_price  0.012703\n",
       "16                                       weekday  0.001724\n",
       "15                                           min -0.005739\n",
       "13                                           day -0.065023\n",
       "0                                 order_protocol -0.067996\n",
       "14                                          hour -0.163385"
      ]
     },
     "execution_count": 36,
     "metadata": {},
     "output_type": "execute_result"
    }
   ],
   "source": [
    "features = corr['spent_time'].keys()\n",
    "pd.DataFrame({'attribute': [f for f in features], 'corr': [corr['spent_time'][f] for f in features]}).sort_values(by=['corr'], ascending=False)"
   ]
  },
  {
   "cell_type": "markdown",
   "id": "placed-steps",
   "metadata": {},
   "source": [
    "Surprisingly, I thought the delivery time spent will be highly dependent on if it is weekend, but it is only relevant to hours."
   ]
  },
  {
   "cell_type": "markdown",
   "id": "disciplinary-police",
   "metadata": {},
   "source": [
    "### B.2 Visualize highly correlated feature sets\n",
    "\n",
    "The entire correlation matrix is as follows:"
   ]
  },
  {
   "cell_type": "code",
   "execution_count": 665,
   "id": "divine-target",
   "metadata": {},
   "outputs": [
    {
     "data": {
      "image/png": "[encoded data removed]",
      "text/plain": [
       "<Figure size 720x576 with 2 Axes>"
      ]
     },
     "metadata": {
      "needs_background": "light"
     },
     "output_type": "display_data"
    }
   ],
   "source": [
    "plt.subplots(figsize=(10,8))\n",
    "ax = sns.heatmap(corr)"
   ]
  },
  {
   "cell_type": "markdown",
   "id": "loose-mustang",
   "metadata": {},
   "source": [
    "The followings are sets of highly correlated features in the dataset:\n",
    "\n",
    "1. {`total_onshift_dashers`, `total_busy_dashers`, `total_outstanding_orders`}:"
   ]
  },
  {
   "cell_type": "code",
   "execution_count": 654,
   "id": "widespread-diabetes",
   "metadata": {},
   "outputs": [
    {
     "name": "stdout",
     "output_type": "stream",
     "text": [
      "corr(total_onshift_dashers, total_busy_dashers): 0.9437474945801065\n",
      "corr(total_onshift_dashers, total_outstanding_orders): 0.9361700036941382\n",
      "corr(total_busy_dashers, total_outstanding_orders): 0.9329239953620025\n"
     ]
    }
   ],
   "source": [
    "print ('corr(total_onshift_dashers, total_busy_dashers):', corr['total_onshift_dashers']['total_busy_dashers'])\n",
    "print ('corr(total_onshift_dashers, total_outstanding_orders):', corr['total_onshift_dashers']['total_outstanding_orders'])\n",
    "print ('corr(total_busy_dashers, total_outstanding_orders):', corr['total_busy_dashers']['total_outstanding_orders'])"
   ]
  },
  {
   "cell_type": "markdown",
   "id": "worldwide-ladder",
   "metadata": {},
   "source": [
    "2. {`total_items`, `subtotal`, `num_distinct_items`}:"
   ]
  },
  {
   "cell_type": "code",
   "execution_count": 656,
   "id": "brief-professional",
   "metadata": {},
   "outputs": [
    {
     "name": "stdout",
     "output_type": "stream",
     "text": [
      "corr(total_items, subtotal): 0.5570585894626053\n",
      "corr(total_items, num_distinct_items): 0.7594561578276906\n",
      "corr(subtotal, num_distinct_items): 0.6814599301394307\n"
     ]
    }
   ],
   "source": [
    "print ('corr(total_items, subtotal):', corr['total_items']['subtotal'])\n",
    "print ('corr(total_items, num_distinct_items):', corr['total_items']['num_distinct_items'])\n",
    "print ('corr(subtotal, num_distinct_items):', corr['subtotal']['num_distinct_items'])"
   ]
  },
  {
   "cell_type": "code",
   "execution_count": 659,
   "id": "scientific-boston",
   "metadata": {},
   "outputs": [
    {
     "data": {
      "text/plain": [
       "[3090.761, 2779.844, 2652.96, 2826.105, 2684.771, 3005.173, 2909.966]"
      ]
     },
     "execution_count": 659,
     "metadata": {},
     "output_type": "execute_result"
    }
   ],
   "source": [
    "[round(np.mean(df1[df1.weekday==weekday]['spent_time'].tolist()), 3) for weekday in range(7)]"
   ]
  },
  {
   "cell_type": "markdown",
   "id": "thirty-seminar",
   "metadata": {},
   "source": [
    "Therefore, when need model interpretation in linear mdoel, I will simply leave one attribute among `total_onshift_dashers`, `total_busy_dashers`, `total_outstanding_orders`, to avoid multicollinearity. "
   ]
  },
  {
   "cell_type": "markdown",
   "id": "tropical-artist",
   "metadata": {},
   "source": [
    "## C. Regression Model\n",
    "\n",
    "This session is dedicated to build various ML models. \n",
    "\n",
    "As described at the beginning, since all the events in **predict_data.csv** are chronologicallly later than **historical_data.csv**, I took the later 20% out-of-time data from **historical_data.csv** for validation, rather than randomly selecting in-time for validation. For model comparison, I chose MAE (mean-absolute-error) and RMSE (rooted-mean-squared-error)\n",
    "\n",
    "$$ \\textrm{MAE} = \\frac{1}{N}\\sum^N_{i=1}|y_i-\\hat{y}_i|, $$ \n",
    "\n",
    "$$\\textrm{RMSE} = \\sqrt{\\frac{1}{N}\\sum^N_{i=1}(y_i-\\hat{y}_i)^2},$$ \n",
    "\n",
    "as metrics for validation. Lower MAE and RMSE means a better model. \n",
    "\n",
    "During the model exploration, I also check $R^2$. Generically, high $R^2$ means a better model, but upon increasing number of attributes used in models $R^2$ always increases. Thus I mainly select model by MAE and RMSE.\n",
    "\n",
    "I will use the following models:\n",
    "\n",
    "* C.1 Linear model $-$ Lasso (baseline)\n",
    "* C.2 Random Forest Regressor\n",
    "* C.3 Neural networks\n",
    "* C.4 Gradient Bboosted machine \n",
    "* C.5 Revised gradient boosted machine\n",
    "\n",
    "During training tree models, I found optimization with `criterion` = **mse** is much faster than using **mae**. Therefore I will stick using **mse** to optmize the cost function throughout training ML models."
   ]
  },
  {
   "cell_type": "code",
   "execution_count": 14,
   "id": "british-configuration",
   "metadata": {},
   "outputs": [],
   "source": [
    "from sklearn.model_selection import train_test_split\n",
    "\n",
    "from sklearn import linear_model\n",
    "from sklearn.ensemble import RandomForestRegressor\n",
    "from sklearn.ensemble import AdaBoostRegressor\n",
    "from sklearn.model_selection import cross_validate\n",
    "from sklearn.model_selection import GridSearchCV\n",
    "\n",
    "def MAE(true_y, pred_y):\n",
    "    return np.mean([abs(true_y[i]-pred_y[i]) for i in range(len(pred_y))])\n",
    "\n",
    "def RMSE(true_y, pred_y):\n",
    "    return np.sqrt(np.mean([(true_y[i]-pred_y[i])**2 for i in range(len(pred_y))]))"
   ]
  },
  {
   "cell_type": "markdown",
   "id": "virtual-friendship",
   "metadata": {},
   "source": [
    "### C.0 Training-Test Data split"
   ]
  },
  {
   "cell_type": "code",
   "execution_count": 15,
   "id": "compound-rating",
   "metadata": {},
   "outputs": [
    {
     "name": "stdout",
     "output_type": "stream",
     "text": [
      "(157934, 19) (157934,)\n"
     ]
    }
   ],
   "source": [
    "train, test = df2[:int(0.8*len(df2))], df2[int(0.8*len(df2)):]\n",
    "\n",
    "X_train, X_test = train.drop([\"spent_time\"], axis=1), test.drop([\"spent_time\"], axis=1)\n",
    "y_train, y_test = train[\"spent_time\"], test[\"spent_time\"]\n",
    "\n",
    "print (X_train.shape, y_train.shape)\n",
    "\n",
    "y_test = y_test.tolist()"
   ]
  },
  {
   "cell_type": "code",
   "execution_count": 16,
   "id": "opening-republic",
   "metadata": {},
   "outputs": [
    {
     "data": {
      "text/plain": [
       "((39484, 19), 39484, list)"
      ]
     },
     "execution_count": 16,
     "metadata": {},
     "output_type": "execute_result"
    }
   ],
   "source": [
    "X_test.shape, len(y_test), type(y_test)"
   ]
  },
  {
   "cell_type": "code",
   "execution_count": 17,
   "id": "solved-personal",
   "metadata": {},
   "outputs": [],
   "source": [
    "from sklearn import linear_model\n",
    "from sklearn.ensemble import RandomForestRegressor\n",
    "from sklearn.ensemble import AdaBoostRegressor\n",
    "from sklearn.model_selection import cross_validate\n",
    "from sklearn.model_selection import GridSearchCV"
   ]
  },
  {
   "cell_type": "markdown",
   "id": "fancy-suspension",
   "metadata": {},
   "source": [
    "### C.1 Linear model - Lasso\n",
    "\n",
    "First I built Lasso model (linear regression + $L_1$ regularization) for baseline model. Here I first  standardize the data and then use the standardized data to manually tune the model with different regularization strength $\\lambda$:"
   ]
  },
  {
   "cell_type": "code",
   "execution_count": 18,
   "id": "modified-syria",
   "metadata": {},
   "outputs": [],
   "source": [
    "from sklearn.preprocessing import StandardScaler\n",
    "scaler = StandardScaler()\n",
    "X_train_std = scaler.fit_transform(X_train)\n",
    "X_test_std = scaler.transform(X_test)"
   ]
  },
  {
   "cell_type": "markdown",
   "id": "retired-system",
   "metadata": {},
   "source": [
    "| $\\lambda$ |      0.1|  1 | 5 | 10 | 20| \n",
    "| :-: |    :-: |  :-: | :-: | :-: |:-: | \n",
    "| $R^2$ |     0.163 | 0.166 | 0.180 | 0.186 | 0.174  |  \n",
    "| MAE |       720.2 | 719.9 | 721.5 | 727.9 | 732.3 |  \n",
    "| RMSE |      1108.1 | 1105.5  | 1096.6 | 1092.6 | 1100.2 | \n",
    "\n",
    "#### Lasso grid search\n",
    "\n",
    "The following grid searches on regularization strength with 10-fold cross validation. It shows the best model is given around $\\lambda$ = 4."
   ]
  },
  {
   "cell_type": "code",
   "execution_count": 19,
   "id": "funded-ceramic",
   "metadata": {},
   "outputs": [
    {
     "data": {
      "text/plain": [
       "(0.17712296295229712, 720.6045415498229, 1098.4374802001407)"
      ]
     },
     "execution_count": 19,
     "metadata": {},
     "output_type": "execute_result"
    }
   ],
   "source": [
    "lasso = linear_model.Lasso()\n",
    "parameters = {'alpha': range(1, 20)}\n",
    "lasso = GridSearchCV(lasso, parameters, cv=10)\n",
    "lasso.fit(X_train_std, y_train)\n",
    "lasso.score(X_test_std, y_test), MAE(y_test, lasso.predict(X_test_std)), RMSE(y_test, lasso.predict(X_test_std))"
   ]
  },
  {
   "cell_type": "code",
   "execution_count": 20,
   "id": "failing-needle",
   "metadata": {},
   "outputs": [
    {
     "data": {
      "text/plain": [
       "Lasso(alpha=4)"
      ]
     },
     "execution_count": 20,
     "metadata": {},
     "output_type": "execute_result"
    }
   ],
   "source": [
    "lasso.best_estimator_"
   ]
  },
  {
   "cell_type": "markdown",
   "id": "understanding-young",
   "metadata": {},
   "source": [
    "#### feature importance\n",
    "\n",
    "The following shows attribute importance to the linear model. The top positive contribution are `estimated_store_to_consumer_driving_duration` and `subtotal`; `hour` is a top negative contribution to the model. This observation is consistent with that from Pearson's correlation."
   ]
  },
  {
   "cell_type": "code",
   "execution_count": 110,
   "id": "martial-happiness",
   "metadata": {},
   "outputs": [],
   "source": [
    "train2 = df2[:int(0.8*len(df2))].drop([\"total_onshift_dashers\", \"total_outstanding_orders\", \"market_id\", \"store_id\"], axis=1).sample(frac=1)\n",
    "X_train2, y_train2 = train2.drop([\"spent_time\"], axis=1), train2[\"spent_time\"]\n",
    "\n",
    "scaler2 = StandardScaler()\n",
    "X_train_std2 = scaler2.fit_transform(X_train2)\n",
    "\n",
    "lasso = linear_model.Lasso(alpha=4.0, random_state=10)\n",
    "lasso.fit(X_train_std2, y_train2)\n",
    "coeff =  list(lasso.coef_)"
   ]
  },
  {
   "cell_type": "code",
   "execution_count": 111,
   "id": "sonic-arlington",
   "metadata": {},
   "outputs": [
    {
     "data": {
      "text/html": [
       "<div>\n",
       "<style scoped>\n",
       "    .dataframe tbody tr th:only-of-type {\n",
       "        vertical-align: middle;\n",
       "    }\n",
       "\n",
       "    .dataframe tbody tr th {\n",
       "        vertical-align: top;\n",
       "    }\n",
       "\n",
       "    .dataframe thead th {\n",
       "        text-align: right;\n",
       "    }\n",
       "</style>\n",
       "<table border=\"1\" class=\"dataframe\">\n",
       "  <thead>\n",
       "    <tr style=\"text-align: right;\">\n",
       "      <th></th>\n",
       "      <th>attribute</th>\n",
       "      <th>coefficient</th>\n",
       "    </tr>\n",
       "  </thead>\n",
       "  <tbody>\n",
       "    <tr>\n",
       "      <th>11</th>\n",
       "      <td>day</td>\n",
       "      <td>-177.287696</td>\n",
       "    </tr>\n",
       "    <tr>\n",
       "      <th>12</th>\n",
       "      <td>hour</td>\n",
       "      <td>-118.198375</td>\n",
       "    </tr>\n",
       "    <tr>\n",
       "      <th>10</th>\n",
       "      <td>month</td>\n",
       "      <td>-105.955880</td>\n",
       "    </tr>\n",
       "    <tr>\n",
       "      <th>14</th>\n",
       "      <td>weekday</td>\n",
       "      <td>-15.980883</td>\n",
       "    </tr>\n",
       "    <tr>\n",
       "      <th>13</th>\n",
       "      <td>min</td>\n",
       "      <td>-1.998721</td>\n",
       "    </tr>\n",
       "    <tr>\n",
       "      <th>1</th>\n",
       "      <td>order_protocol</td>\n",
       "      <td>0.000000</td>\n",
       "    </tr>\n",
       "    <tr>\n",
       "      <th>5</th>\n",
       "      <td>min_item_price</td>\n",
       "      <td>0.000000</td>\n",
       "    </tr>\n",
       "    <tr>\n",
       "      <th>2</th>\n",
       "      <td>total_items</td>\n",
       "      <td>1.907811</td>\n",
       "    </tr>\n",
       "    <tr>\n",
       "      <th>0</th>\n",
       "      <td>store_primary_category</td>\n",
       "      <td>2.597575</td>\n",
       "    </tr>\n",
       "    <tr>\n",
       "      <th>6</th>\n",
       "      <td>max_item_price</td>\n",
       "      <td>13.858532</td>\n",
       "    </tr>\n",
       "    <tr>\n",
       "      <th>4</th>\n",
       "      <td>num_distinct_items</td>\n",
       "      <td>32.445883</td>\n",
       "    </tr>\n",
       "    <tr>\n",
       "      <th>7</th>\n",
       "      <td>total_busy_dashers</td>\n",
       "      <td>33.224144</td>\n",
       "    </tr>\n",
       "    <tr>\n",
       "      <th>8</th>\n",
       "      <td>estimated_order_place_duration</td>\n",
       "      <td>106.474497</td>\n",
       "    </tr>\n",
       "    <tr>\n",
       "      <th>3</th>\n",
       "      <td>subtotal</td>\n",
       "      <td>162.036976</td>\n",
       "    </tr>\n",
       "    <tr>\n",
       "      <th>9</th>\n",
       "      <td>estimated_store_to_consumer_driving_duration</td>\n",
       "      <td>252.159693</td>\n",
       "    </tr>\n",
       "  </tbody>\n",
       "</table>\n",
       "</div>"
      ],
      "text/plain": [
       "                                       attribute  coefficient\n",
       "11                                           day  -177.287696\n",
       "12                                          hour  -118.198375\n",
       "10                                         month  -105.955880\n",
       "14                                       weekday   -15.980883\n",
       "13                                           min    -1.998721\n",
       "1                                 order_protocol     0.000000\n",
       "5                                 min_item_price     0.000000\n",
       "2                                    total_items     1.907811\n",
       "0                         store_primary_category     2.597575\n",
       "6                                 max_item_price    13.858532\n",
       "4                             num_distinct_items    32.445883\n",
       "7                             total_busy_dashers    33.224144\n",
       "8                 estimated_order_place_duration   106.474497\n",
       "3                                       subtotal   162.036976\n",
       "9   estimated_store_to_consumer_driving_duration   252.159693"
      ]
     },
     "execution_count": 111,
     "metadata": {},
     "output_type": "execute_result"
    }
   ],
   "source": [
    "feature_importance = pd.DataFrame({'attribute': list(df2.drop([\"total_onshift_dashers\", \"total_outstanding_orders\", \"spent_time\", \"market_id\", \"store_id\"], axis=1).columns),\n",
    "                                 'coefficient': coeff})\n",
    "feature_importance.sort_values(by=['coefficient'])"
   ]
  },
  {
   "cell_type": "markdown",
   "id": "primary-indianapolis",
   "metadata": {},
   "source": [
    "### C.2 Random Forest Regressor\n",
    "\n",
    "Second I used random forest regressor. For randome forest, I manually tune two important hyperparameters: (a) **max_depth** and (b) **n_estimators** to see how the hyperparameters are related to $R^2$, MAE and RMSE:"
   ]
  },
  {
   "cell_type": "code",
   "execution_count": 46,
   "id": "perceived-parent",
   "metadata": {},
   "outputs": [
    {
     "data": {
      "text/plain": [
       "(0.18201023967405128, 710.9170653437151, 1095.1706721162914)"
      ]
     },
     "execution_count": 46,
     "metadata": {},
     "output_type": "execute_result"
    }
   ],
   "source": [
    "rfReg = RandomForestRegressor(n_estimators=18, max_depth=15, n_jobs=-1, random_state=100, verbose=0, warm_start=False, criterion='mse')\n",
    "rfReg.fit(X_train, y_train)\n",
    "rfReg.score(X_test, y_test), MAE(y_test, rfReg.predict(X_test)), RMSE(y_test, rfReg.predict(X_test))"
   ]
  },
  {
   "cell_type": "markdown",
   "id": "administrative-virgin",
   "metadata": {},
   "source": [
    "\n",
    "#### a. max_depth \n",
    "\n",
    "Following table is $R^2$, MAE and RMSE at various depth using all features:\n",
    " \n",
    " \n",
    "| depth | 5 | 10 | 15 |  20 | 25 | 30 | \n",
    "| :-: | :-: | :-: | :-: |  :-: | :-: | :-: | \n",
    "| $R^2$ | 0.121 | 0.161 | 0.184 | 0.189 | 0.184 | 0.185 |\n",
    "| MAE | 754.1 | 722.3 | 710.1 | 712.0 | 716.0 | 716.7 |\n",
    "| RMSE | 1135.4 | 1109.0 | 1093.7 | 1090.8 | 1093.6 | 1093.4 |\n",
    " \n",
    " \n",
    "Here we can see the optimal depth is around 15-25. There is overfitting for deeper trees (depth > 25) whereas underfitting for shallow trees (depth < 10).\n",
    "\n",
    "#### b. n_estimators\n",
    "\n",
    "Following table is $R^2$, MAE and RMSE at various n_estimators using depth=15:\n",
    "\n",
    "| n_estimators | 10 | 12 | 14 | 16 | 18 |\n",
    "| :-: | :-: | :-: | :-: | :-: | :-: | \n",
    "| $R^2$ | 0.170 | 0.174  | 0.178 | 0.179 | 0.182 |\n",
    "| MAE |  716.4  | 714.1  | 712.3 | 711.8 | 710.9 |\n",
    "| RMSE | 1103.0 | 1100.8 | 1097.6 | 1097.0 | 1095.2 |\n",
    "\n",
    "The results indicates the optimal model is given by using all estimators.\n",
    "\n",
    "#### Random forest grid search \n",
    "\n",
    "However, I still perform grid search on random forest regressor (for 5-fold cv, it still takes a lot time so I did not make tiny grain)"
   ]
  },
  {
   "cell_type": "code",
   "execution_count": 112,
   "id": "stretch-equivalent",
   "metadata": {},
   "outputs": [
    {
     "data": {
      "text/plain": [
       "(0.21102232274506183, 696.800305200255, 1075.5738367358654)"
      ]
     },
     "execution_count": 112,
     "metadata": {},
     "output_type": "execute_result"
    }
   ],
   "source": [
    "parameters = {'max_depth': [15, 18, 21], 'min_samples_split':[2, 4, 6], 'min_samples_leaf':[1,3]}\n",
    "rfr = RandomForestRegressor(criterion='mse')\n",
    "rfg_gs = GridSearchCV(rfr, parameters, cv=5)\n",
    "rfg_gs.fit(X_train, y_train)\n",
    "rfg_gs.score(X_test, y_test), MAE(y_test, rfg_gs.predict(X_test)), RMSE(y_test, rfg_gs.predict(X_test))"
   ]
  },
  {
   "cell_type": "code",
   "execution_count": 113,
   "id": "flexible-volleyball",
   "metadata": {},
   "outputs": [
    {
     "data": {
      "text/plain": [
       "RandomForestRegressor(max_depth=21, min_samples_leaf=3, min_samples_split=4)"
      ]
     },
     "execution_count": 113,
     "metadata": {},
     "output_type": "execute_result"
    }
   ],
   "source": [
    "rfg_gs.best_estimator_"
   ]
  },
  {
   "cell_type": "code",
   "execution_count": null,
   "id": "thermal-juvenile",
   "metadata": {},
   "outputs": [],
   "source": []
  },
  {
   "cell_type": "markdown",
   "id": "configured-satin",
   "metadata": {},
   "source": [
    "### C.3 Deep neural networks\n",
    "\n",
    "I also tried several neural network models with two hidden layers. However, the model performance is more poort than tree models. Usually we need big amount data to train nerual network. Therefore I will dedicate poor DNN by isufficient data size."
   ]
  },
  {
   "cell_type": "code",
   "execution_count": 21,
   "id": "level-corporation",
   "metadata": {},
   "outputs": [],
   "source": [
    "from tensorflow.keras.models import Sequential\n",
    "from tensorflow.keras.layers import Dense\n",
    "from tensorflow.keras.optimizers import Adam\n",
    "from tensorflow.keras.layers import Dropout"
   ]
  },
  {
   "cell_type": "code",
   "execution_count": 27,
   "id": "black-booth",
   "metadata": {},
   "outputs": [],
   "source": [
    "dnn = Sequential()\n",
    "dnn.add(Dense(8, activation='relu'))\n",
    "dnn.add(Dense(8, activation='relu'))\n",
    "dnn.add(Dense(1, activation=\"linear\"))\n",
    "dnn.compile(optimizer='adam', loss='mse')"
   ]
  },
  {
   "cell_type": "code",
   "execution_count": 23,
   "id": "rolled-discovery",
   "metadata": {},
   "outputs": [],
   "source": [
    "from tensorflow.keras.callbacks import EarlyStopping\n",
    "early_stop = EarlyStopping(monitor='val_loss', mode='min', verbose=0, patience=10)"
   ]
  },
  {
   "cell_type": "code",
   "execution_count": 28,
   "id": "enclosed-kitty",
   "metadata": {},
   "outputs": [
    {
     "name": "stdout",
     "output_type": "stream",
     "text": [
      "Train on 157934 samples, validate on 39484 samples\n",
      "Epoch 1/400\n",
      "157934/157934 [==============================] - 2s 12us/sample - loss: 7308175.3026 - val_loss: 3901244.5205\n",
      "Epoch 2/400\n",
      "157934/157934 [==============================] - 1s 9us/sample - loss: 1997705.4513 - val_loss: 1756470.9108\n",
      "Epoch 3/400\n",
      "157934/157934 [==============================] - 1s 9us/sample - loss: 1367097.5209 - val_loss: 1623262.3715\n",
      "Epoch 4/400\n",
      "157934/157934 [==============================] - 1s 9us/sample - loss: 1239345.9751 - val_loss: 1563069.7144\n",
      "Epoch 5/400\n",
      "157934/157934 [==============================] - 2s 10us/sample - loss: 1169538.3868 - val_loss: 1565631.2619\n",
      "Epoch 6/400\n",
      "157934/157934 [==============================] - 2s 10us/sample - loss: 1129807.2376 - val_loss: 1504298.7685\n",
      "Epoch 7/400\n",
      "157934/157934 [==============================] - 2s 10us/sample - loss: 1105714.9516 - val_loss: 1506208.8939\n",
      "Epoch 8/400\n",
      "157934/157934 [==============================] - 2s 10us/sample - loss: 1089481.1069 - val_loss: 1444669.3622\n",
      "Epoch 9/400\n",
      "157934/157934 [==============================] - 1s 9us/sample - loss: 1077716.6334 - val_loss: 1418979.7070\n",
      "Epoch 10/400\n",
      "157934/157934 [==============================] - 1s 9us/sample - loss: 1068873.1824 - val_loss: 1393343.1305\n",
      "Epoch 11/400\n",
      "157934/157934 [==============================] - 1s 9us/sample - loss: 1061927.6346 - val_loss: 1369546.8654\n",
      "Epoch 12/400\n",
      "157934/157934 [==============================] - 1s 9us/sample - loss: 1056154.0623 - val_loss: 1351493.8468\n",
      "Epoch 13/400\n",
      "157934/157934 [==============================] - 1s 9us/sample - loss: 1051482.5205 - val_loss: 1332725.1058\n",
      "Epoch 14/400\n",
      "157934/157934 [==============================] - 1s 9us/sample - loss: 1047576.9920 - val_loss: 1324136.3483\n",
      "Epoch 15/400\n",
      "157934/157934 [==============================] - 1s 9us/sample - loss: 1044418.7006 - val_loss: 1319238.9206\n",
      "Epoch 16/400\n",
      "157934/157934 [==============================] - 1s 9us/sample - loss: 1041611.3501 - val_loss: 1303044.2083\n",
      "Epoch 17/400\n",
      "157934/157934 [==============================] - 1s 9us/sample - loss: 1039225.8392 - val_loss: 1316785.2037\n",
      "Epoch 18/400\n",
      "157934/157934 [==============================] - 1s 9us/sample - loss: 1037309.1780 - val_loss: 1288467.7896\n",
      "Epoch 19/400\n",
      "157934/157934 [==============================] - 1s 9us/sample - loss: 1035608.9857 - val_loss: 1285804.5281\n",
      "Epoch 20/400\n",
      "157934/157934 [==============================] - 1s 9us/sample - loss: 1034146.9680 - val_loss: 1284839.0309\n",
      "Epoch 21/400\n",
      "157934/157934 [==============================] - 1s 9us/sample - loss: 1032837.4096 - val_loss: 1278814.8903\n",
      "Epoch 22/400\n",
      "157934/157934 [==============================] - 1s 9us/sample - loss: 1031677.1607 - val_loss: 1292877.8272\n",
      "Epoch 23/400\n",
      "157934/157934 [==============================] - 1s 9us/sample - loss: 1030579.4093 - val_loss: 1282165.7662\n",
      "Epoch 24/400\n",
      "157934/157934 [==============================] - 1s 9us/sample - loss: 1029607.2664 - val_loss: 1281779.8092\n",
      "Epoch 25/400\n",
      "157934/157934 [==============================] - 1s 9us/sample - loss: 1028601.6959 - val_loss: 1274636.7477\n",
      "Epoch 26/400\n",
      "157934/157934 [==============================] - 1s 9us/sample - loss: 1027820.7979 - val_loss: 1272186.4890\n",
      "Epoch 27/400\n",
      "157934/157934 [==============================] - 1s 9us/sample - loss: 1027030.1624 - val_loss: 1280469.3261\n",
      "Epoch 28/400\n",
      "157934/157934 [==============================] - 1s 9us/sample - loss: 1026214.8016 - val_loss: 1272074.6007\n",
      "Epoch 29/400\n",
      "157934/157934 [==============================] - 1s 9us/sample - loss: 1025504.0710 - val_loss: 1288170.4122\n",
      "Epoch 30/400\n",
      "157934/157934 [==============================] - 1s 9us/sample - loss: 1024743.3603 - val_loss: 1283540.2037\n",
      "Epoch 31/400\n",
      "157934/157934 [==============================] - 1s 9us/sample - loss: 1024139.8499 - val_loss: 1269010.0083\n",
      "Epoch 32/400\n",
      "157934/157934 [==============================] - 1s 9us/sample - loss: 1023481.7605 - val_loss: 1278095.3265\n",
      "Epoch 33/400\n",
      "157934/157934 [==============================] - 1s 9us/sample - loss: 1022777.3788 - val_loss: 1276696.3873\n",
      "Epoch 34/400\n",
      "157934/157934 [==============================] - 1s 9us/sample - loss: 1022259.1304 - val_loss: 1266587.9345\n",
      "Epoch 35/400\n",
      "157934/157934 [==============================] - 1s 9us/sample - loss: 1021563.3248 - val_loss: 1279519.9444\n",
      "Epoch 36/400\n",
      "157934/157934 [==============================] - 1s 9us/sample - loss: 1020974.6901 - val_loss: 1272911.8328\n",
      "Epoch 37/400\n",
      "157934/157934 [==============================] - 1s 9us/sample - loss: 1020304.7574 - val_loss: 1270029.8432\n",
      "Epoch 38/400\n",
      "157934/157934 [==============================] - 1s 9us/sample - loss: 1019804.1936 - val_loss: 1266740.1960\n",
      "Epoch 39/400\n",
      "157934/157934 [==============================] - 1s 9us/sample - loss: 1019294.0106 - val_loss: 1266918.0330\n",
      "Epoch 40/400\n",
      "157934/157934 [==============================] - 1s 9us/sample - loss: 1018747.0119 - val_loss: 1269551.1455\n",
      "Epoch 41/400\n",
      "157934/157934 [==============================] - 1s 9us/sample - loss: 1018189.4094 - val_loss: 1273909.3190\n",
      "Epoch 42/400\n",
      "157934/157934 [==============================] - 1s 9us/sample - loss: 1017832.5038 - val_loss: 1272354.8123\n",
      "Epoch 43/400\n",
      "157934/157934 [==============================] - 2s 10us/sample - loss: 1017303.4501 - val_loss: 1262931.3464\n",
      "Epoch 44/400\n",
      "157934/157934 [==============================] - 2s 10us/sample - loss: 1016760.1008 - val_loss: 1259900.7257\n",
      "Epoch 45/400\n",
      "157934/157934 [==============================] - 2s 10us/sample - loss: 1016190.2481 - val_loss: 1259466.7648\n",
      "Epoch 46/400\n",
      "157934/157934 [==============================] - 2s 10us/sample - loss: 1015678.4335 - val_loss: 1273965.7126\n",
      "Epoch 47/400\n",
      "157934/157934 [==============================] - 2s 10us/sample - loss: 1015301.4303 - val_loss: 1265350.8909\n",
      "Epoch 48/400\n",
      "157934/157934 [==============================] - 2s 10us/sample - loss: 1014799.8708 - val_loss: 1256500.9420\n",
      "Epoch 49/400\n",
      "157934/157934 [==============================] - 2s 10us/sample - loss: 1014391.2565 - val_loss: 1260757.7865\n",
      "Epoch 50/400\n",
      "157934/157934 [==============================] - 2s 10us/sample - loss: 1013905.6665 - val_loss: 1262310.0207\n",
      "Epoch 51/400\n",
      "157934/157934 [==============================] - 1s 9us/sample - loss: 1013547.8065 - val_loss: 1256014.9586\n",
      "Epoch 52/400\n",
      "157934/157934 [==============================] - 1s 9us/sample - loss: 1013291.4838 - val_loss: 1258056.6491\n",
      "Epoch 53/400\n",
      "157934/157934 [==============================] - 1s 9us/sample - loss: 1012883.3644 - val_loss: 1252757.4913\n",
      "Epoch 54/400\n",
      "157934/157934 [==============================] - 2s 12us/sample - loss: 1012486.2096 - val_loss: 1250107.3174\n",
      "Epoch 55/400\n",
      "157934/157934 [==============================] - 2s 10us/sample - loss: 1012188.6125 - val_loss: 1250080.3166\n",
      "Epoch 56/400\n",
      "157934/157934 [==============================] - 1s 9us/sample - loss: 1011845.5488 - val_loss: 1245000.3599\n",
      "Epoch 57/400\n",
      "157934/157934 [==============================] - 1s 9us/sample - loss: 1011450.7751 - val_loss: 1257132.0970\n",
      "Epoch 58/400\n",
      "157934/157934 [==============================] - 2s 10us/sample - loss: 1011220.2359 - val_loss: 1245205.6591\n",
      "Epoch 59/400\n",
      "157934/157934 [==============================] - 2s 10us/sample - loss: 1010953.5986 - val_loss: 1255698.7217\n",
      "Epoch 60/400\n",
      "157934/157934 [==============================] - 1s 9us/sample - loss: 1010557.7819 - val_loss: 1236868.6112\n",
      "Epoch 61/400\n",
      "157934/157934 [==============================] - 2s 10us/sample - loss: 1010251.5440 - val_loss: 1244338.5091\n",
      "Epoch 62/400\n",
      "157934/157934 [==============================] - 2s 10us/sample - loss: 1009992.6742 - val_loss: 1236821.2365\n",
      "Epoch 63/400\n",
      "157934/157934 [==============================] - 2s 10us/sample - loss: 1009687.2300 - val_loss: 1248221.0195\n",
      "Epoch 64/400\n",
      "157934/157934 [==============================] - 1s 9us/sample - loss: 1009366.7409 - val_loss: 1242902.7188\n",
      "Epoch 65/400\n",
      "157934/157934 [==============================] - 1s 9us/sample - loss: 1009105.2316 - val_loss: 1229516.8060\n",
      "Epoch 66/400\n",
      "157934/157934 [==============================] - 1s 9us/sample - loss: 1008840.0833 - val_loss: 1240452.9128\n",
      "Epoch 67/400\n"
     ]
    },
    {
     "name": "stdout",
     "output_type": "stream",
     "text": [
      "157934/157934 [==============================] - 1s 9us/sample - loss: 1008580.9846 - val_loss: 1233221.0538\n",
      "Epoch 68/400\n",
      "157934/157934 [==============================] - 1s 9us/sample - loss: 1008313.8326 - val_loss: 1238411.2031\n",
      "Epoch 69/400\n",
      "157934/157934 [==============================] - 1s 9us/sample - loss: 1008003.7881 - val_loss: 1233830.6782\n",
      "Epoch 70/400\n",
      "157934/157934 [==============================] - 1s 9us/sample - loss: 1007673.1711 - val_loss: 1236021.1792\n",
      "Epoch 71/400\n",
      "157934/157934 [==============================] - 1s 9us/sample - loss: 1007445.3597 - val_loss: 1234698.8243\n",
      "Epoch 72/400\n",
      "157934/157934 [==============================] - 1s 9us/sample - loss: 1007185.1432 - val_loss: 1227593.1135\n",
      "Epoch 73/400\n",
      "157934/157934 [==============================] - 1s 9us/sample - loss: 1006939.2801 - val_loss: 1234504.1738\n",
      "Epoch 74/400\n",
      "157934/157934 [==============================] - 2s 10us/sample - loss: 1006672.1880 - val_loss: 1230528.2979\n",
      "Epoch 75/400\n",
      "157934/157934 [==============================] - 1s 9us/sample - loss: 1006272.8275 - val_loss: 1227182.6148\n",
      "Epoch 76/400\n",
      "157934/157934 [==============================] - 1s 9us/sample - loss: 1006073.7000 - val_loss: 1220355.9126\n",
      "Epoch 77/400\n",
      "157934/157934 [==============================] - 1s 9us/sample - loss: 1005814.8965 - val_loss: 1230276.6854\n",
      "Epoch 78/400\n",
      "157934/157934 [==============================] - 1s 9us/sample - loss: 1005580.2457 - val_loss: 1223591.7675\n",
      "Epoch 79/400\n",
      "157934/157934 [==============================] - 1s 9us/sample - loss: 1005352.5704 - val_loss: 1216448.8429\n",
      "Epoch 80/400\n",
      "157934/157934 [==============================] - 1s 9us/sample - loss: 1005059.2557 - val_loss: 1215176.3828\n",
      "Epoch 81/400\n",
      "157934/157934 [==============================] - 1s 9us/sample - loss: 1004827.8110 - val_loss: 1214517.5258\n",
      "Epoch 82/400\n",
      "157934/157934 [==============================] - 1s 9us/sample - loss: 1004520.9787 - val_loss: 1215523.4388\n",
      "Epoch 83/400\n",
      "157934/157934 [==============================] - 1s 9us/sample - loss: 1004253.7758 - val_loss: 1216763.9102\n",
      "Epoch 84/400\n",
      "157934/157934 [==============================] - 2s 10us/sample - loss: 1003899.9833 - val_loss: 1215029.1763\n",
      "Epoch 85/400\n",
      "157934/157934 [==============================] - 1s 9us/sample - loss: 1003597.3330 - val_loss: 1209931.7158\n",
      "Epoch 86/400\n",
      "157934/157934 [==============================] - 1s 9us/sample - loss: 1003442.8206 - val_loss: 1220577.2243\n",
      "Epoch 87/400\n",
      "157934/157934 [==============================] - 1s 9us/sample - loss: 1002958.0186 - val_loss: 1222316.8270\n",
      "Epoch 88/400\n",
      "157934/157934 [==============================] - 1s 9us/sample - loss: 1002840.7150 - val_loss: 1206781.3662\n",
      "Epoch 89/400\n",
      "157934/157934 [==============================] - 1s 9us/sample - loss: 1002556.0652 - val_loss: 1218724.8617\n",
      "Epoch 90/400\n",
      "157934/157934 [==============================] - 1s 9us/sample - loss: 1002305.8149 - val_loss: 1208755.5454\n",
      "Epoch 91/400\n",
      "157934/157934 [==============================] - 1s 9us/sample - loss: 1001991.9160 - val_loss: 1203934.7947\n",
      "Epoch 92/400\n",
      "157934/157934 [==============================] - 1s 9us/sample - loss: 1001747.8066 - val_loss: 1205104.9261\n",
      "Epoch 93/400\n",
      "157934/157934 [==============================] - 1s 9us/sample - loss: 1001606.8342 - val_loss: 1211247.1963\n",
      "Epoch 94/400\n",
      "157934/157934 [==============================] - 2s 10us/sample - loss: 1001240.8487 - val_loss: 1202498.3944\n",
      "Epoch 95/400\n",
      "157934/157934 [==============================] - 2s 10us/sample - loss: 1001022.2719 - val_loss: 1208845.0585\n",
      "Epoch 96/400\n",
      "157934/157934 [==============================] - 1s 9us/sample - loss: 1000778.1779 - val_loss: 1208976.1935\n",
      "Epoch 97/400\n",
      "157934/157934 [==============================] - 1s 9us/sample - loss: 1000509.5111 - val_loss: 1201995.5772\n",
      "Epoch 98/400\n",
      "157934/157934 [==============================] - 1s 9us/sample - loss: 1000188.6134 - val_loss: 1201634.9682\n",
      "Epoch 99/400\n",
      "157934/157934 [==============================] - 1s 9us/sample - loss: 999914.6201 - val_loss: 1201148.9768\n",
      "Epoch 100/400\n",
      "157934/157934 [==============================] - 1s 9us/sample - loss: 999774.1644 - val_loss: 1209572.3976\n",
      "Epoch 101/400\n",
      "157934/157934 [==============================] - 1s 9us/sample - loss: 999464.8566 - val_loss: 1193710.6328\n",
      "Epoch 102/400\n",
      "157934/157934 [==============================] - 1s 9us/sample - loss: 999155.3829 - val_loss: 1200280.3746\n",
      "Epoch 103/400\n",
      "157934/157934 [==============================] - 1s 9us/sample - loss: 998914.3315 - val_loss: 1203189.6890\n",
      "Epoch 104/400\n",
      "157934/157934 [==============================] - 2s 12us/sample - loss: 998704.7826 - val_loss: 1195680.0520\n",
      "Epoch 105/400\n",
      "157934/157934 [==============================] - 1s 9us/sample - loss: 998419.4164 - val_loss: 1194403.5094\n",
      "Epoch 106/400\n",
      "157934/157934 [==============================] - 1s 9us/sample - loss: 998246.8322 - val_loss: 1196091.6970\n",
      "Epoch 107/400\n",
      "157934/157934 [==============================] - 1s 9us/sample - loss: 997972.6783 - val_loss: 1193962.3471\n",
      "Epoch 108/400\n",
      "157934/157934 [==============================] - 1s 9us/sample - loss: 997811.4543 - val_loss: 1200842.6756\n",
      "Epoch 109/400\n",
      "157934/157934 [==============================] - 1s 9us/sample - loss: 997532.9491 - val_loss: 1193416.2483\n",
      "Epoch 110/400\n",
      "157934/157934 [==============================] - 1s 9us/sample - loss: 997325.9996 - val_loss: 1198447.0287\n",
      "Epoch 111/400\n",
      "157934/157934 [==============================] - 1s 9us/sample - loss: 997182.6111 - val_loss: 1192945.1726\n",
      "Epoch 112/400\n",
      "157934/157934 [==============================] - 2s 10us/sample - loss: 996922.3126 - val_loss: 1192025.3783\n",
      "Epoch 113/400\n",
      "157934/157934 [==============================] - 2s 10us/sample - loss: 996696.3403 - val_loss: 1188567.5839\n",
      "Epoch 114/400\n",
      "157934/157934 [==============================] - 2s 11us/sample - loss: 996450.3927 - val_loss: 1200638.0178\n",
      "Epoch 115/400\n",
      "157934/157934 [==============================] - 2s 11us/sample - loss: 996267.7898 - val_loss: 1194463.3177\n",
      "Epoch 116/400\n",
      "157934/157934 [==============================] - 2s 10us/sample - loss: 996151.4677 - val_loss: 1197768.7844\n",
      "Epoch 117/400\n",
      "157934/157934 [==============================] - 2s 10us/sample - loss: 995972.9446 - val_loss: 1196626.8435\n",
      "Epoch 118/400\n",
      "157934/157934 [==============================] - 1s 9us/sample - loss: 995729.8419 - val_loss: 1184245.3853\n",
      "Epoch 119/400\n",
      "157934/157934 [==============================] - 1s 9us/sample - loss: 995487.2561 - val_loss: 1193436.2801\n",
      "Epoch 120/400\n",
      "157934/157934 [==============================] - 1s 9us/sample - loss: 995309.9647 - val_loss: 1183853.1485\n",
      "Epoch 121/400\n",
      "157934/157934 [==============================] - 1s 9us/sample - loss: 995229.2536 - val_loss: 1176894.7959\n",
      "Epoch 122/400\n",
      "157934/157934 [==============================] - 1s 9us/sample - loss: 995058.3195 - val_loss: 1185228.2139\n",
      "Epoch 123/400\n",
      "157934/157934 [==============================] - 1s 9us/sample - loss: 994831.4701 - val_loss: 1189190.6443\n",
      "Epoch 124/400\n",
      "157934/157934 [==============================] - 2s 10us/sample - loss: 994681.1410 - val_loss: 1188751.1107\n",
      "Epoch 125/400\n",
      "157934/157934 [==============================] - 2s 10us/sample - loss: 994552.5780 - val_loss: 1179533.1760\n",
      "Epoch 126/400\n",
      "157934/157934 [==============================] - 2s 10us/sample - loss: 994374.0223 - val_loss: 1183571.9323\n",
      "Epoch 127/400\n",
      "157934/157934 [==============================] - 2s 10us/sample - loss: 994195.6731 - val_loss: 1173923.7655\n",
      "Epoch 128/400\n",
      "157934/157934 [==============================] - 2s 10us/sample - loss: 994117.5365 - val_loss: 1182748.6479\n",
      "Epoch 129/400\n",
      "157934/157934 [==============================] - 2s 10us/sample - loss: 993956.6904 - val_loss: 1186324.4931\n",
      "Epoch 130/400\n",
      "157934/157934 [==============================] - 1s 9us/sample - loss: 993806.8534 - val_loss: 1169762.1943\n",
      "Epoch 131/400\n",
      "157934/157934 [==============================] - 1s 9us/sample - loss: 993810.7985 - val_loss: 1180240.4192\n",
      "Epoch 132/400\n",
      "157934/157934 [==============================] - 2s 10us/sample - loss: 993647.0287 - val_loss: 1181649.6075\n",
      "Epoch 133/400\n",
      "157934/157934 [==============================] - 1s 9us/sample - loss: 993548.9433 - val_loss: 1170712.3653\n",
      "Epoch 134/400\n"
     ]
    },
    {
     "name": "stdout",
     "output_type": "stream",
     "text": [
      "157934/157934 [==============================] - 2s 10us/sample - loss: 993438.1965 - val_loss: 1177594.8015\n",
      "Epoch 135/400\n",
      "157934/157934 [==============================] - 1s 9us/sample - loss: 993306.3879 - val_loss: 1187180.9583\n",
      "Epoch 136/400\n",
      "157934/157934 [==============================] - 1s 9us/sample - loss: 993255.7206 - val_loss: 1187714.5715\n",
      "Epoch 137/400\n",
      "157934/157934 [==============================] - 1s 9us/sample - loss: 993133.1638 - val_loss: 1176160.4632\n",
      "Epoch 138/400\n",
      "157934/157934 [==============================] - 1s 9us/sample - loss: 993163.0078 - val_loss: 1182940.8211\n",
      "Epoch 139/400\n",
      "157934/157934 [==============================] - 1s 9us/sample - loss: 993105.1239 - val_loss: 1176889.0519\n",
      "Epoch 140/400\n",
      "157934/157934 [==============================] - 1s 9us/sample - loss: 993039.6353 - val_loss: 1180658.0131\n"
     ]
    },
    {
     "data": {
      "text/plain": [
       "<tensorflow.python.keras.callbacks.History at 0x7f99d193bb10>"
      ]
     },
     "execution_count": 28,
     "metadata": {},
     "output_type": "execute_result"
    }
   ],
   "source": [
    "dnn.fit(x = X_train_std, y = y_train.values,\n",
    "          validation_data = (X_test_std, np.array(y_test)),\n",
    "          batch_size=128, epochs=400, callbacks=[early_stop])"
   ]
  },
  {
   "cell_type": "code",
   "execution_count": 29,
   "id": "confident-capacity",
   "metadata": {},
   "outputs": [
    {
     "data": {
      "text/plain": [
       "(703.2357, 1086.5809)"
      ]
     },
     "execution_count": 29,
     "metadata": {},
     "output_type": "execute_result"
    }
   ],
   "source": [
    "MAE(y_test, dnn.predict(X_test_std)), RMSE(y_test, dnn.predict(X_test_std))"
   ]
  },
  {
   "cell_type": "markdown",
   "id": "interested-registrar",
   "metadata": {},
   "source": [
    "### C.4 Gradient boosting machine (self-defined)\n",
    "\n",
    "Here I built a GBM with decision tree regressor. In each iteration (tree), the model is trained by fitting the attributes and the residuals (from previous tree).  "
   ]
  },
  {
   "cell_type": "code",
   "execution_count": 32,
   "id": "continued-jesus",
   "metadata": {},
   "outputs": [],
   "source": [
    "from sklearn.tree import DecisionTreeRegressor\n",
    "\n",
    "class GBMFromScratch(object):\n",
    "    def __init__(self, n_trees=10, alpha=0.1, max_depth=5):\n",
    "        self.n_trees = n_trees\n",
    "        self.alpha = alpha\n",
    "        self.max_depth = max_depth\n",
    "        self.model = None\n",
    "        self.cost = []\n",
    "    \n",
    "    def fit(self, x, y):\n",
    "        Fm = np.mean(y)\n",
    "        self.model = [Fm]\n",
    "        self.cost = {\"MAE\": [], \"RMSE\": []}\n",
    "        for t in range(self.n_trees):\n",
    "            tree = DecisionTreeRegressor(max_depth=self.max_depth)\n",
    "            res = list(y - Fm)            \n",
    "            tree.fit(x, res)\n",
    "            Fm += self.alpha*tree.predict(x)\n",
    "            self.model.append(tree)            \n",
    "            self.cost[\"MAE\"].append(MAE(y, self.predict(x)))\n",
    "            self.cost[\"RMSE\"].append(RMSE(y, self.predict(x)))\n",
    "        \n",
    "    def visualize_cost(self):\n",
    "        plt.figure(figsize = (12,4), tight_layout=True)\n",
    "        \n",
    "        plt.subplot(121)\n",
    "        plt.plot(range(len(self.cost[\"MAE\"])), self.cost[\"MAE\"])    \n",
    "        plt.xlabel('iteration', fontsize=18)\n",
    "        plt.ylabel('MAE', fontsize=18)\n",
    "\n",
    "        plt.subplot(122)\n",
    "        plt.plot(range(len(self.cost[\"RMSE\"])), self.cost[\"RMSE\"])\n",
    "        plt.xlabel('iteration', fontsize=18)\n",
    "        plt.ylabel('RMSE', fontsize=18)\n",
    "    \n",
    "        plt.show()\n",
    "        \n",
    "    def predict(self, x):\n",
    "        pred = self.model[0]\n",
    "        for i in range(1, len(self.model)):\n",
    "            pred += self.alpha*self.model[i].predict(x)\n",
    "        return pred\n",
    "    \n",
    "    def MSE(self, y, pred):\n",
    "        return sum((y-pred)**2)/len(y)\n",
    "    \n",
    "    def MAE(self, y, pred):\n",
    "        return sum(abs(y-pred))/len(y)"
   ]
  },
  {
   "cell_type": "code",
   "execution_count": 33,
   "id": "exclusive-convention",
   "metadata": {},
   "outputs": [
    {
     "data": {
      "image/png": "[encoded data removed]",
      "text/plain": [
       "<Figure size 864x288 with 2 Axes>"
      ]
     },
     "metadata": {
      "needs_background": "light"
     },
     "output_type": "display_data"
    },
    {
     "data": {
      "text/plain": [
       "(662.3059229857178, 1023.3450700389067)"
      ]
     },
     "execution_count": 33,
     "metadata": {},
     "output_type": "execute_result"
    }
   ],
   "source": [
    "gbm = GBMFromScratch(n_trees=800, max_depth=5)\n",
    "gbm.fit(X_train, y_train.values)\n",
    "gbm.visualize_cost()\n",
    "MAE(y_test, gbm.predict(X_test)), RMSE(y_test, gbm.predict(X_test))"
   ]
  },
  {
   "cell_type": "markdown",
   "id": "thorough-henry",
   "metadata": {},
   "source": [
    "\n",
    "| depth\\n_trees | 100 | 200 | 400 | 800 |     \n",
    "| :-: | :-: | :-: | :-: | :-: |             \n",
    "| 1 | 750.5  | 735.8 | 720.2 | 704.4 | \n",
    "| 3 | 699.5 | 684.1 | 673.9 | 668.3 | \n",
    "| 5 | 679.2 | 668.7 | 663.4 | 662.2 |\n",
    "| 7 | 671.5 | 665.6 | | |\n",
    "\n",
    "| depth\\n_trees | 100 | 200 | 400 | 800 |     \n",
    "| :-: | :-: | :-: | :-: | :-: |            \n",
    "| 1 |  1133.7 | 1120.6 | 1103.4 | 1085.6 | \n",
    "| 3 |  1078.1 | 1059.7 | 1045.1 | 1034.6 |\n",
    "| 5 |  1053.8 | 1039.8 | 1028.3 | 1023.4 |\n",
    "| 7 |  1045.2 | 1034.8 | \n",
    "\n",
    "\n",
    "\n"
   ]
  },
  {
   "cell_type": "code",
   "execution_count": null,
   "id": "loved-romantic",
   "metadata": {},
   "outputs": [],
   "source": []
  },
  {
   "cell_type": "markdown",
   "id": "widespread-parker",
   "metadata": {},
   "source": [
    "### C.5 Revised gradient boosted machine\n",
    "\n",
    "The following defines revised GBM, which rescales residuals before using in next tree. The `GBM2` class inherents from `GBMFromScratch` class. From the problem description, \n",
    "\n",
    "    \"..underestimating delivery time is roughly twice as costly as overestimating it.\"\n",
    "    \n",
    "Thus I add an additional coefficient $\\eta$ on residuals \n",
    "\n",
    "$$e= y-\\hat{y} \\to \\eta(y-\\hat{y}) \\ \\textrm{ if } e > 0, $$ \n",
    "\n",
    "i.e. under-estimate delivery time. On the other hand, no change on $e \\le 0$. Also, I further consider the MAE metric from positive and negative residuals.\n",
    "\n",
    "In this case, the boosted machine will amplitude the cost for under-estimate prediction during optimization."
   ]
  },
  {
   "cell_type": "code",
   "execution_count": 55,
   "id": "mobile-burden",
   "metadata": {},
   "outputs": [],
   "source": [
    "def MAE2(true_y, pred_y):\n",
    "    under_est = np.mean([abs(true_y[i]-pred_y[i]) for i in range(len(pred_y)) if true_y[i] >= pred_y[i]])\n",
    "    over_est = np.mean([abs(true_y[i]-pred_y[i]) for i in range(len(pred_y)) if true_y[i] < pred_y[i]])\n",
    "    return under_est, over_est\n",
    "\n",
    "\n",
    "class GBM2(GBMFromScratch):    \n",
    "    def fit(self, x, y, eta = 1.0):\n",
    "        Fm = np.mean(y)\n",
    "        self.model = [Fm]\n",
    "        self.cost = {\"MAE\": [], \"RMSE\": []}\n",
    "        for t in range(self.n_trees):\n",
    "            tree = DecisionTreeRegressor(max_depth=self.max_depth)\n",
    "            res = list(y - Fm)\n",
    "            \n",
    "            for i in range(len(res)):\n",
    "                if res[i] > 0:  # rescale underestimate delivery time\n",
    "                    res[i] = eta*res[i]\n",
    "                elif res[i] < 0: # overestimate delivery time\n",
    "                    res[i] = res[i] \n",
    "            \n",
    "            tree.fit(x, res)\n",
    "\n",
    "            Fm += self.alpha*tree.predict(x)\n",
    "            self.model.append(tree)  \n",
    "            self.cost[\"MAE\"].append(MAE(y, self.predict(x)))\n",
    "            self.cost[\"RMSE\"].append(RMSE(y, self.predict(x)))"
   ]
  },
  {
   "cell_type": "code",
   "execution_count": 62,
   "id": "rapid-tuesday",
   "metadata": {},
   "outputs": [
    {
     "data": {
      "image/png": "[encoded data removed]",
      "text/plain": [
       "<Figure size 864x288 with 2 Axes>"
      ]
     },
     "metadata": {
      "needs_background": "light"
     },
     "output_type": "display_data"
    },
    {
     "name": "stdout",
     "output_type": "stream",
     "text": [
      "MAE: 702.1916896245745 , RMSE: 1034.087488956366\n",
      "MAE > 0 and < 0: (808.3085175939058, 640.1063162474153)\n"
     ]
    }
   ],
   "source": [
    "gbm2 = GBM2(n_trees=400, max_depth=5)\n",
    "gbm2.fit(X_train, y_train.values, eta=2.0)\n",
    "gbm2.visualize_cost()\n",
    "print (\"MAE:\", MAE(y_test, gbm2.predict(X_test)), \", RMSE:\", RMSE(y_test, gbm2.predict(X_test)))\n",
    "print (\"MAE > 0 and < 0:\", MAE2(y_test, gbm2.predict(X_test)))"
   ]
  },
  {
   "cell_type": "markdown",
   "id": "tender-plane",
   "metadata": {},
   "source": [
    "\n",
    "| depth | n_trees | model | total MAE | MAE (e > 0) | MAE (e < 0) | \n",
    "| :-: | :-: | :-: | :-: | :-: | :-: |             \n",
    "| 3 | 400 | GBM |  673.9 | 853.7 | 502.8 |\n",
    "| 3 | 400 | rGBM ($\\eta$ = 1.5) | 674.0 | 851.8 | 571.1 |\n",
    "| 3 | 400 | rGBM ($\\eta$ = 2.0) | 702.5 | 823.8 | 629.5 |\n",
    "| 5 | 400 | GBM |  663.4 |  831.4 | 514 |\n",
    "| 5 | 400 | rGBM ($\\eta$ = 1.5) | 677.9 | 822.1 | 573.5 |\n",
    "| 5 | 400 | rGBM ($\\eta$ = 2.0) | 702.4 | 807.8 | 641.1 |\n",
    "| 5 | 800 | GBM | 662.2 | 819.7 | 528.9 |\n",
    "| 5 | 800 | rGBM ($\\eta$ = 2.0) | 704.2 | 802.6 | 647.4 |\n",
    "\n",
    "From the above, I will choose depth = 5, n_trees = 400 and $\\eta=2$ as the optimal rGBM to compare others models."
   ]
  },
  {
   "cell_type": "markdown",
   "id": "fundamental-buyer",
   "metadata": {},
   "source": [
    "### C.6 Model comparison\n",
    "\n",
    "We can summarize all the model performance and compare below\n",
    "\n",
    "| model | MAE | RMSE | \n",
    "| :-: | :-: | :-: |           \n",
    "| Lasso | 720.6 | 1098.4 | \n",
    "| random forest |  696.8 | 1075.6 |\n",
    "| DNN | 703.2 | 1086.5 |\n",
    "| GBM | 662.2 | 1023.3 | \n",
    "| rGBM | 702.4 | 1034.0 |\n",
    "\n",
    "We see the GBM outperforms to others. However, if further individually considering MAE by under-esimate events and over-estimate events, rGBM lower cost on under-estimate events, though raise cost on over-estimate events. By trade-off at $\\eta$, rGBM may outpeform GBM. \n",
    "\n",
    "In the following we can compare how predictions from GBM and rGBM relates to true values on delivery time:"
   ]
  },
  {
   "cell_type": "code",
   "execution_count": 114,
   "id": "present-cookie",
   "metadata": {},
   "outputs": [
    {
     "data": {
      "image/png": "[encoded data removed]",
      "text/plain": [
       "<Figure size 648x360 with 1 Axes>"
      ]
     },
     "metadata": {
      "needs_background": "light"
     },
     "output_type": "display_data"
    }
   ],
   "source": [
    "plt.figure(figsize=(9,5))\n",
    "plt.hist(gbm.predict(X_test), bins = 100, histtype='step', density=True,  label = \"GBM\", linewidth=2)\n",
    "plt.hist(gbm2.predict(X_test), bins = 100, histtype='step', density=True, label = \"rGBM\", linewidth=2)\n",
    "plt.hist(y_test, bins = 500, histtype='step', density=True, label = \"true value\", linewidth=2)\n",
    "plt.xlim(0, 10000)\n",
    "plt.xlabel(\"delivery time\", fontsize=18)\n",
    "plt.legend(fontsize=15)\n",
    "plt.show()"
   ]
  },
  {
   "cell_type": "markdown",
   "id": "raising-painting",
   "metadata": {},
   "source": [
    "rGBM with correction on $y-\\hat{y}$ raises delivery time to higher, to lower impact of underestimating delivery time."
   ]
  },
  {
   "cell_type": "markdown",
   "id": "looking-croatia",
   "metadata": {},
   "source": [
    "## D. Prediction\n",
    "\n",
    "Note data from **predict_data.csv** has `delivery_id` and `platform`, which we need to remove before implement to prediction since they don't exist in training data. Also, there are missing values in the data, so we need to use LabelEncoder generated in training data to convert `store_primary_category`, `store_primary_category` and `order_protocol`, also imputation on `total_onshift_dashers`, `total_busy_dashers`, `total_outstanding_orders` and `estimated_store_to_consumer_driving_duration`."
   ]
  },
  {
   "cell_type": "code",
   "execution_count": 34,
   "id": "available-banks",
   "metadata": {},
   "outputs": [
    {
     "data": {
      "text/plain": [
       "market_id                                        250\n",
       "created_at                                         0\n",
       "store_id                                           0\n",
       "store_primary_category                          1343\n",
       "order_protocol                                   283\n",
       "total_items                                        0\n",
       "subtotal                                           0\n",
       "num_distinct_items                                 0\n",
       "min_item_price                                     0\n",
       "max_item_price                                     0\n",
       "total_onshift_dashers                           4633\n",
       "total_busy_dashers                              4633\n",
       "total_outstanding_orders                        4633\n",
       "estimated_order_place_duration                     0\n",
       "estimated_store_to_consumer_driving_duration      11\n",
       "delivery_id                                        0\n",
       "platform                                           0\n",
       "dtype: int64"
      ]
     },
     "execution_count": 34,
     "metadata": {},
     "output_type": "execute_result"
    }
   ],
   "source": [
    "pred_df.isnull().sum()"
   ]
  },
  {
   "cell_type": "code",
   "execution_count": 35,
   "id": "above-stack",
   "metadata": {},
   "outputs": [],
   "source": [
    "pred_df = pred_df.dropna(axis=0, subset=['created_at'])\n",
    "pred_df = get_time_features(pred_df)\n",
    "\n",
    "pred_df[\"store_primary_category\"] = store_category_encoder.fit_transform(pred_df[\"store_primary_category\"])\n",
    "pred_df[\"order_protocol\"] = order_protocol_encoder.fit_transform(pred_df[\"order_protocol\"])\n",
    "pred_df[\"market_id\"] = market_id_encoder.fit_transform(pred_df[\"market_id\"])\n",
    "pred_df2 = pred_df.fillna(value=fillna_values)"
   ]
  },
  {
   "cell_type": "code",
   "execution_count": 36,
   "id": "unknown-wallet",
   "metadata": {},
   "outputs": [],
   "source": [
    "delivery_id = pred_df2['delivery_id'].tolist()\n",
    "pred_df2 = pred_df2.drop(['delivery_id', 'platform'], axis=1)"
   ]
  },
  {
   "cell_type": "code",
   "execution_count": 37,
   "id": "uniform-programming",
   "metadata": {},
   "outputs": [
    {
     "data": {
      "text/plain": [
       "((54778, 19), 54778, (39484, 19))"
      ]
     },
     "execution_count": 37,
     "metadata": {},
     "output_type": "execute_result"
    }
   ],
   "source": [
    "pred_df2.shape, len(delivery_id), X_test.shape"
   ]
  },
  {
   "cell_type": "code",
   "execution_count": 38,
   "id": "refined-score",
   "metadata": {},
   "outputs": [
    {
     "data": {
      "text/html": [
       "<div>\n",
       "<style scoped>\n",
       "    .dataframe tbody tr th:only-of-type {\n",
       "        vertical-align: middle;\n",
       "    }\n",
       "\n",
       "    .dataframe tbody tr th {\n",
       "        vertical-align: top;\n",
       "    }\n",
       "\n",
       "    .dataframe thead th {\n",
       "        text-align: right;\n",
       "    }\n",
       "</style>\n",
       "<table border=\"1\" class=\"dataframe\">\n",
       "  <thead>\n",
       "    <tr style=\"text-align: right;\">\n",
       "      <th></th>\n",
       "      <th>market_id</th>\n",
       "      <th>store_id</th>\n",
       "      <th>store_primary_category</th>\n",
       "      <th>order_protocol</th>\n",
       "      <th>total_items</th>\n",
       "      <th>subtotal</th>\n",
       "      <th>num_distinct_items</th>\n",
       "      <th>min_item_price</th>\n",
       "      <th>max_item_price</th>\n",
       "      <th>total_onshift_dashers</th>\n",
       "      <th>total_busy_dashers</th>\n",
       "      <th>total_outstanding_orders</th>\n",
       "      <th>estimated_order_place_duration</th>\n",
       "      <th>estimated_store_to_consumer_driving_duration</th>\n",
       "      <th>month</th>\n",
       "      <th>day</th>\n",
       "      <th>hour</th>\n",
       "      <th>min</th>\n",
       "      <th>weekday</th>\n",
       "    </tr>\n",
       "  </thead>\n",
       "  <tbody>\n",
       "    <tr>\n",
       "      <th>0</th>\n",
       "      <td>2</td>\n",
       "      <td>5477</td>\n",
       "      <td>71</td>\n",
       "      <td>0</td>\n",
       "      <td>5</td>\n",
       "      <td>7500</td>\n",
       "      <td>4</td>\n",
       "      <td>800</td>\n",
       "      <td>1800</td>\n",
       "      <td>4.0</td>\n",
       "      <td>4.0</td>\n",
       "      <td>4.0</td>\n",
       "      <td>446</td>\n",
       "      <td>670.0</td>\n",
       "      <td>2</td>\n",
       "      <td>25</td>\n",
       "      <td>2</td>\n",
       "      <td>22</td>\n",
       "      <td>2</td>\n",
       "    </tr>\n",
       "    <tr>\n",
       "      <th>1</th>\n",
       "      <td>2</td>\n",
       "      <td>5477</td>\n",
       "      <td>71</td>\n",
       "      <td>0</td>\n",
       "      <td>5</td>\n",
       "      <td>7100</td>\n",
       "      <td>4</td>\n",
       "      <td>800</td>\n",
       "      <td>1500</td>\n",
       "      <td>4.0</td>\n",
       "      <td>1.0</td>\n",
       "      <td>1.0</td>\n",
       "      <td>446</td>\n",
       "      <td>446.0</td>\n",
       "      <td>2</td>\n",
       "      <td>25</td>\n",
       "      <td>1</td>\n",
       "      <td>14</td>\n",
       "      <td>2</td>\n",
       "    </tr>\n",
       "    <tr>\n",
       "      <th>2</th>\n",
       "      <td>3</td>\n",
       "      <td>5477</td>\n",
       "      <td>66</td>\n",
       "      <td>0</td>\n",
       "      <td>4</td>\n",
       "      <td>4500</td>\n",
       "      <td>2</td>\n",
       "      <td>750</td>\n",
       "      <td>1500</td>\n",
       "      <td>9.0</td>\n",
       "      <td>7.0</td>\n",
       "      <td>6.0</td>\n",
       "      <td>446</td>\n",
       "      <td>504.0</td>\n",
       "      <td>2</td>\n",
       "      <td>22</td>\n",
       "      <td>2</td>\n",
       "      <td>27</td>\n",
       "      <td>6</td>\n",
       "    </tr>\n",
       "    <tr>\n",
       "      <th>3</th>\n",
       "      <td>2</td>\n",
       "      <td>5477</td>\n",
       "      <td>71</td>\n",
       "      <td>0</td>\n",
       "      <td>1</td>\n",
       "      <td>1700</td>\n",
       "      <td>1</td>\n",
       "      <td>1400</td>\n",
       "      <td>1400</td>\n",
       "      <td>3.0</td>\n",
       "      <td>3.0</td>\n",
       "      <td>3.0</td>\n",
       "      <td>446</td>\n",
       "      <td>687.0</td>\n",
       "      <td>2</td>\n",
       "      <td>25</td>\n",
       "      <td>1</td>\n",
       "      <td>32</td>\n",
       "      <td>2</td>\n",
       "    </tr>\n",
       "    <tr>\n",
       "      <th>4</th>\n",
       "      <td>0</td>\n",
       "      <td>2841</td>\n",
       "      <td>37</td>\n",
       "      <td>0</td>\n",
       "      <td>2</td>\n",
       "      <td>3150</td>\n",
       "      <td>2</td>\n",
       "      <td>1525</td>\n",
       "      <td>1625</td>\n",
       "      <td>4.0</td>\n",
       "      <td>4.0</td>\n",
       "      <td>4.0</td>\n",
       "      <td>446</td>\n",
       "      <td>528.0</td>\n",
       "      <td>2</td>\n",
       "      <td>24</td>\n",
       "      <td>5</td>\n",
       "      <td>20</td>\n",
       "      <td>1</td>\n",
       "    </tr>\n",
       "  </tbody>\n",
       "</table>\n",
       "</div>"
      ],
      "text/plain": [
       "   market_id  store_id  store_primary_category  order_protocol  total_items  \\\n",
       "0          2      5477                      71               0            5   \n",
       "1          2      5477                      71               0            5   \n",
       "2          3      5477                      66               0            4   \n",
       "3          2      5477                      71               0            1   \n",
       "4          0      2841                      37               0            2   \n",
       "\n",
       "   subtotal  num_distinct_items  min_item_price  max_item_price  \\\n",
       "0      7500                   4             800            1800   \n",
       "1      7100                   4             800            1500   \n",
       "2      4500                   2             750            1500   \n",
       "3      1700                   1            1400            1400   \n",
       "4      3150                   2            1525            1625   \n",
       "\n",
       "   total_onshift_dashers  total_busy_dashers  total_outstanding_orders  \\\n",
       "0                    4.0                 4.0                       4.0   \n",
       "1                    4.0                 1.0                       1.0   \n",
       "2                    9.0                 7.0                       6.0   \n",
       "3                    3.0                 3.0                       3.0   \n",
       "4                    4.0                 4.0                       4.0   \n",
       "\n",
       "   estimated_order_place_duration  \\\n",
       "0                             446   \n",
       "1                             446   \n",
       "2                             446   \n",
       "3                             446   \n",
       "4                             446   \n",
       "\n",
       "   estimated_store_to_consumer_driving_duration  month  day  hour  min  \\\n",
       "0                                         670.0      2   25     2   22   \n",
       "1                                         446.0      2   25     1   14   \n",
       "2                                         504.0      2   22     2   27   \n",
       "3                                         687.0      2   25     1   32   \n",
       "4                                         528.0      2   24     5   20   \n",
       "\n",
       "   weekday  \n",
       "0        2  \n",
       "1        2  \n",
       "2        6  \n",
       "3        2  \n",
       "4        1  "
      ]
     },
     "execution_count": 38,
     "metadata": {},
     "output_type": "execute_result"
    }
   ],
   "source": [
    "pred_df2.head()"
   ]
  },
  {
   "cell_type": "code",
   "execution_count": 39,
   "id": "known-probability",
   "metadata": {},
   "outputs": [
    {
     "data": {
      "text/plain": [
       "market_id                                       0\n",
       "store_id                                        0\n",
       "store_primary_category                          0\n",
       "order_protocol                                  0\n",
       "total_items                                     0\n",
       "subtotal                                        0\n",
       "num_distinct_items                              0\n",
       "min_item_price                                  0\n",
       "max_item_price                                  0\n",
       "total_onshift_dashers                           0\n",
       "total_busy_dashers                              0\n",
       "total_outstanding_orders                        0\n",
       "estimated_order_place_duration                  0\n",
       "estimated_store_to_consumer_driving_duration    0\n",
       "month                                           0\n",
       "day                                             0\n",
       "hour                                            0\n",
       "min                                             0\n",
       "weekday                                         0\n",
       "dtype: int64"
      ]
     },
     "execution_count": 39,
     "metadata": {},
     "output_type": "execute_result"
    }
   ],
   "source": [
    "pred_df2.isnull().sum()"
   ]
  },
  {
   "cell_type": "code",
   "execution_count": 852,
   "id": "independent-biography",
   "metadata": {},
   "outputs": [
    {
     "data": {
      "text/plain": [
       "((35859, 19), 35859)"
      ]
     },
     "execution_count": 852,
     "metadata": {},
     "output_type": "execute_result"
    }
   ],
   "source": [
    "X_test.shape, len(rfReg.predict(X_test))"
   ]
  },
  {
   "cell_type": "code",
   "execution_count": 44,
   "id": "qualified-stopping",
   "metadata": {},
   "outputs": [],
   "source": [
    "gbm_pred = gbm.predict(pred_df2.values)\n",
    "submit_df = pd.DataFrame({\"delivery_id\": delivery_id, \"pred_delivery_time\": gbm_pred})\n",
    "submit_df.to_csv(\"data_to_predict_gbm.csv\")"
   ]
  },
  {
   "cell_type": "code",
   "execution_count": 42,
   "id": "excessive-branch",
   "metadata": {},
   "outputs": [
    {
     "data": {
      "text/plain": [
       "(54778, 54778)"
      ]
     },
     "execution_count": 42,
     "metadata": {},
     "output_type": "execute_result"
    }
   ],
   "source": [
    "len(gbm_pred), len(delivery_id)"
   ]
  },
  {
   "cell_type": "code",
   "execution_count": 67,
   "id": "unsigned-calvin",
   "metadata": {},
   "outputs": [],
   "source": [
    "gbm2_pred = gbm2.predict(pred_df2.values)\n",
    "submit_df2 = pd.DataFrame({\"delivery_id\": delivery_id, \"pred_delivery_time\": gbm2_pred})\n",
    "submit_df2.to_csv(\"data_to_predict_gbm2.csv\")"
   ]
  },
  {
   "cell_type": "code",
   "execution_count": 69,
   "id": "entitled-remedy",
   "metadata": {},
   "outputs": [
    {
     "data": {
      "text/html": [
       "<div>\n",
       "<style scoped>\n",
       "    .dataframe tbody tr th:only-of-type {\n",
       "        vertical-align: middle;\n",
       "    }\n",
       "\n",
       "    .dataframe tbody tr th {\n",
       "        vertical-align: top;\n",
       "    }\n",
       "\n",
       "    .dataframe thead th {\n",
       "        text-align: right;\n",
       "    }\n",
       "</style>\n",
       "<table border=\"1\" class=\"dataframe\">\n",
       "  <thead>\n",
       "    <tr style=\"text-align: right;\">\n",
       "      <th></th>\n",
       "      <th>delivery_id</th>\n",
       "      <th>pred_delivery_time</th>\n",
       "    </tr>\n",
       "  </thead>\n",
       "  <tbody>\n",
       "    <tr>\n",
       "      <th>0</th>\n",
       "      <td>194096</td>\n",
       "      <td>3711.310091</td>\n",
       "    </tr>\n",
       "    <tr>\n",
       "      <th>1</th>\n",
       "      <td>236895</td>\n",
       "      <td>2940.616554</td>\n",
       "    </tr>\n",
       "    <tr>\n",
       "      <th>2</th>\n",
       "      <td>190868</td>\n",
       "      <td>3436.083397</td>\n",
       "    </tr>\n",
       "    <tr>\n",
       "      <th>3</th>\n",
       "      <td>183076</td>\n",
       "      <td>3494.792406</td>\n",
       "    </tr>\n",
       "    <tr>\n",
       "      <th>4</th>\n",
       "      <td>186200</td>\n",
       "      <td>2855.841294</td>\n",
       "    </tr>\n",
       "  </tbody>\n",
       "</table>\n",
       "</div>"
      ],
      "text/plain": [
       "   delivery_id  pred_delivery_time\n",
       "0       194096         3711.310091\n",
       "1       236895         2940.616554\n",
       "2       190868         3436.083397\n",
       "3       183076         3494.792406\n",
       "4       186200         2855.841294"
      ]
     },
     "execution_count": 69,
     "metadata": {},
     "output_type": "execute_result"
    }
   ],
   "source": [
    "submit_df2.head()"
   ]
  },
  {
   "cell_type": "code",
   "execution_count": 70,
   "id": "upset-dublin",
   "metadata": {},
   "outputs": [
    {
     "data": {
      "text/html": [
       "<div>\n",
       "<style scoped>\n",
       "    .dataframe tbody tr th:only-of-type {\n",
       "        vertical-align: middle;\n",
       "    }\n",
       "\n",
       "    .dataframe tbody tr th {\n",
       "        vertical-align: top;\n",
       "    }\n",
       "\n",
       "    .dataframe thead th {\n",
       "        text-align: right;\n",
       "    }\n",
       "</style>\n",
       "<table border=\"1\" class=\"dataframe\">\n",
       "  <thead>\n",
       "    <tr style=\"text-align: right;\">\n",
       "      <th></th>\n",
       "      <th>delivery_id</th>\n",
       "      <th>pred_delivery_time</th>\n",
       "    </tr>\n",
       "  </thead>\n",
       "  <tbody>\n",
       "    <tr>\n",
       "      <th>0</th>\n",
       "      <td>194096</td>\n",
       "      <td>3426.090814</td>\n",
       "    </tr>\n",
       "    <tr>\n",
       "      <th>1</th>\n",
       "      <td>236895</td>\n",
       "      <td>2574.004996</td>\n",
       "    </tr>\n",
       "    <tr>\n",
       "      <th>2</th>\n",
       "      <td>190868</td>\n",
       "      <td>3237.302239</td>\n",
       "    </tr>\n",
       "    <tr>\n",
       "      <th>3</th>\n",
       "      <td>183076</td>\n",
       "      <td>3574.124843</td>\n",
       "    </tr>\n",
       "    <tr>\n",
       "      <th>4</th>\n",
       "      <td>186200</td>\n",
       "      <td>2585.680135</td>\n",
       "    </tr>\n",
       "  </tbody>\n",
       "</table>\n",
       "</div>"
      ],
      "text/plain": [
       "   delivery_id  pred_delivery_time\n",
       "0       194096         3426.090814\n",
       "1       236895         2574.004996\n",
       "2       190868         3237.302239\n",
       "3       183076         3574.124843\n",
       "4       186200         2585.680135"
      ]
     },
     "execution_count": 70,
     "metadata": {},
     "output_type": "execute_result"
    }
   ],
   "source": [
    "submit_df.head()"
   ]
  },
  {
   "cell_type": "code",
   "execution_count": null,
   "id": "comic-therapist",
   "metadata": {},
   "outputs": [],
   "source": []
  }
 ],
 "metadata": {
  "kernelspec": {
   "display_name": "Python 3",
   "language": "python",
   "name": "python3"
  },
  "language_info": {
   "codemirror_mode": {
    "name": "ipython",
    "version": 3
   },
   "file_extension": ".py",
   "mimetype": "text/x-python",
   "name": "python",
   "nbconvert_exporter": "python",
   "pygments_lexer": "ipython3",
   "version": "3.7.10"
  }
 },
 "nbformat": 4,
 "nbformat_minor": 5
}
