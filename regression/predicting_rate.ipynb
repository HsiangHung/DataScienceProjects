{
 "cells": [
  {
   "cell_type": "markdown",
   "metadata": {},
   "source": [
    "# DATA CHALLENGE\n",
    "\n",
    "In this data challenge, we will try to build a predictive model to predict the win rate for a bid and analyze what the optimal bid amounts are able to maximize net revenue. In **Part A**, I will test several regression models, and show that the best model is given by random-forest-regression. With proper feature selection, the random-forest-regression also gives good performance. **Part B** is devoted to searching for the optimal bid to maximize net revenuse using the model.\n",
    "\n",
    "The content is as follows:\n",
    "\n",
    "+  **Part A**\n",
    " +  **A-1:** The Data\n",
    " +  **A-2:** Data Visualization\n",
    " +  **A-3:** Correlation Between Features and Target\n",
    "     +   *A-3(a)*: Pearson correlation for numeric variables\n",
    "     +   *A-3(b)*: Eta correlation for nominal variables\n",
    " +  **A-4:** Building Predictive Models\n",
    "     +   *A-4(a)*: Consider all features\n",
    "          +  (i) split the whole dataset to training set and test set:\n",
    "          +  (ii) decision-tree-regression\n",
    "          +  (iii) random-forest-regression\n",
    "          +  (iv) gradient-boosting-regression\n",
    "     +   *A-4(b)*: Feature selection\n",
    " +  **A-5:** Linear Regression Models\n",
    "     +   *A-5(a)*: One-hot-encoding (OHE) representation\n",
    "     +   *A-5(b)*: Linear regressions\n",
    "          +   (i) ridge (L2) regression\n",
    "          +   (ii) lasso (L1) regression\n",
    "          +   (iii) Bayesian ridge regression\n",
    "+  **Part B**\n",
    "+  **Summary**"
   ]
  },
  {
   "cell_type": "markdown",
   "metadata": {},
   "source": [
    "# **Part A**"
   ]
  },
  {
   "cell_type": "code",
   "execution_count": 115,
   "metadata": {
    "collapsed": true
   },
   "outputs": [],
   "source": [
    "import numpy as np\n",
    "from time import time"
   ]
  },
  {
   "cell_type": "markdown",
   "metadata": {},
   "source": [
    "## A-1: The Data"
   ]
  },
  {
   "cell_type": "markdown",
   "metadata": {},
   "source": [
    "In the dataset, all data are indicated by numbers. However, only **PUBLISHER_BID**, **RESPONSES** and **WINS** are numeric continuous variables; others like **date**, **hour**, **traffic_source**, **device** and **coutnry** are actually categorical variables. Thus, we need to know the number of different categories in each of the categorical features. "
   ]
  },
  {
   "cell_type": "code",
   "execution_count": 7,
   "metadata": {
    "collapsed": false
   },
   "outputs": [],
   "source": [
    "hd = open('DATA_SCIENCE_CHALLENGE.csv')\n",
    "traffic_dict = {}\n",
    "device_dict ={}\n",
    "country_dict ={}\n",
    "hour_dict ={}\n",
    "date_dict ={}\n",
    "x_bid = []\n",
    "x_hour = []\n",
    "x_date = []\n",
    "x_response = []\n",
    "y= []\n",
    "row = 0\n",
    "for line in hd:\n",
    "    if row > 0:\n",
    "        #print (line)\n",
    "        line = line.split(',')\n",
    "        date = line[1]\n",
    "        hour = line[2]\n",
    "        traffic = line[3]\n",
    "        device = line[4]\n",
    "        country = line[5]\n",
    "        bid = float(line[6])\n",
    "        win_rate = float(line[8])/int(line[7])\n",
    "        \n",
    "        ## remove the outliers, win_rate >1 and win_rate <0 data\n",
    "        if win_rate >= 0 and win_rate <=1:\n",
    "        \n",
    "            x_bid.append(float(line[6]))\n",
    "            y.append(win_rate)\n",
    "            x_hour.append(int(hour))\n",
    "            x_response.append(int(line[7]))\n",
    "            x_date.append(int(date))\n",
    "      \n",
    "            if traffic not in traffic_dict:\n",
    "                traffic_dict[traffic] = [win_rate]\n",
    "            else:\n",
    "                traffic_dict[traffic].append(win_rate)\n",
    "        \n",
    "            if device not in device_dict:\n",
    "                device_dict[device] = [win_rate]\n",
    "            else:\n",
    "                device_dict[device].append(win_rate)    \n",
    "        \n",
    "            if country not in country_dict:\n",
    "                country_dict[country] = [win_rate]\n",
    "            else:\n",
    "                country_dict[country].append(win_rate)\n",
    "       \n",
    "            #  ----------\n",
    "        \n",
    "            if date not in date_dict:\n",
    "                date_dict[date] = [win_rate]\n",
    "            else:\n",
    "                date_dict[date].append(win_rate)\n",
    "        \n",
    "            if hour not in hour_dict:\n",
    "                hour_dict[hour] = [win_rate]\n",
    "            else:\n",
    "                hour_dict[hour].append(win_rate)\n",
    "    row += 1     "
   ]
  },
  {
   "cell_type": "code",
   "execution_count": 3,
   "metadata": {
    "collapsed": false
   },
   "outputs": [
    {
     "name": "stdout",
     "output_type": "stream",
     "text": [
      "8 24 319 12 27\n"
     ]
    }
   ],
   "source": [
    "print (len(date_dict), len(hour_dict), len(traffic_dict), len(device_dict), len(country_dict))"
   ]
  },
  {
   "cell_type": "markdown",
   "metadata": {},
   "source": [
    "By the above operations, we can identify the number of different categories for each categorical feature: there are **8 dates**, **24 hours**, **319 traffic_sources**, **12 device types**, and **27 countries** in the dataset. Note that these are nominal, rather than ordinal variables. **win_rate** was computed as **RESPONSES**/**WINS** for each observation ."
   ]
  },
  {
   "cell_type": "markdown",
   "metadata": {},
   "source": [
    "## **A-2: Data Visualization**"
   ]
  },
  {
   "cell_type": "markdown",
   "metadata": {},
   "source": [
    "Before we start to work on building models, it would be helpful if we can visualize what the relation between the features (**PUBLISHER_BID**, **hour**, and **RESPONSES**) and **win_rate** is. Is there linearity? or polynomial relation?"
   ]
  },
  {
   "cell_type": "code",
   "execution_count": 84,
   "metadata": {
    "collapsed": true
   },
   "outputs": [],
   "source": [
    "import matplotlib.pyplot as plt\n",
    "import pylab\n",
    "from pylab import *\n",
    "%matplotlib inline\n",
    "import seaborn as sns\n",
    "def scatterplot(ax, title, x_label, y_label, x, y, upperlimit):\n",
    "    ax.scatter(x, y, s=70, marker=(5, 0), cmap=plt.cm.jet, linewidths=0, alpha=0.7)\n",
    "    ax.set_xlabel(x_label, size=20)\n",
    "    ax.set_ylabel(y_label, size=20)\n",
    "    ax.set_title(title, size=20)\n",
    "    plt.xlim(0,upperlimit)\n",
    "    plt.ylim(0,1.1)"
   ]
  },
  {
   "cell_type": "code",
   "execution_count": 9,
   "metadata": {
    "collapsed": false
   },
   "outputs": [
    {
     "name": "stderr",
     "output_type": "stream",
     "text": [
      "/Users/hhhung/anaconda/lib/python3.4/site-packages/matplotlib/collections.py:590: FutureWarning: elementwise comparison failed; returning scalar instead, but in the future will perform elementwise comparison\n",
      "  if self._edgecolors == str('face'):\n"
     ]
    },
    {
     "data": {
      "image/png": "[encoded data removed]",
      "text/plain": [
       "<matplotlib.figure.Figure at 0x118206128>"
      ]
     },
     "metadata": {},
     "output_type": "display_data"
    }
   ],
   "source": [
    "fig, ax = plt.subplots(nrows=1, ncols=3, figsize = (15,6))\n",
    "ax = plt.subplot(131)\n",
    "scatterplot(ax, '(a) PUBLISHER_BID vs win_rate', 'bid amount', 'win rate', x_bid, y, 10)\n",
    "\n",
    "ax = plt.subplot(132)\n",
    "scatterplot(ax, '(b) RESPONSES vs win_rate', '# of responses', 'win rate', x_response, y, 20000)\n",
    "\n",
    "ax = plt.subplot(133)\n",
    "scatterplot(ax, '(c) HOUR vs win_rate', 'hour', 'win rate', x_hour, y, 25)\n",
    "\n",
    "fig.tight_layout()\n",
    "plt.show()"
   ]
  },
  {
   "cell_type": "markdown",
   "metadata": {},
   "source": [
    "From these graphs, we are unable to explicitly determine if there is linearity or polynomial relation between **PUBLISHER_BID**, **RESPONSES**, **HOUR** and **win_rate**. However, we can roughly see there are negative correlations (although weak) between **PUBLISHER_BID - win_rate**, and **RESPONSES - win_rate** from (a) and (b), respectively. Later we will show more evidence to confirm this property."
   ]
  },
  {
   "cell_type": "markdown",
   "metadata": {},
   "source": [
    "## **A-3: Correlation Between Features and Target**\n",
    "\n",
    "In the following we compute the correlation coefficients with respective to target **win_rate**. For numeric features, **PUBLISHER_BID** and **RESPONSES**, we can compute the Pearson correlation coefficients, which will be Cor(**bid**, **win_rate**) and Cor(**responses**, **win_rate**). For the categorical features, **date**, **hour**, **traffic sources**, **device**, **country**, we resort to eta correlation."
   ]
  },
  {
   "cell_type": "code",
   "execution_count": 10,
   "metadata": {
    "collapsed": true
   },
   "outputs": [],
   "source": [
    "avg_y = np.mean(y)\n",
    "sigma_y = (np.std(y)**2)*len(y)"
   ]
  },
  {
   "cell_type": "markdown",
   "metadata": {},
   "source": [
    "### **A-3 (a): Pearson correlation for numeric variables**"
   ]
  },
  {
   "cell_type": "code",
   "execution_count": 11,
   "metadata": {
    "collapsed": false
   },
   "outputs": [
    {
     "name": "stdout",
     "output_type": "stream",
     "text": [
      "Cor(bid, win_rate)= -0.0306759601389\n",
      "Cor(response, win_rate)= -0.0256345358549\n"
     ]
    }
   ],
   "source": [
    "print ('Cor(bid, win_rate)=', np.corrcoef(x_bid, y)[0, 1])\n",
    "print ('Cor(response, win_rate)=', np.corrcoef(x_response, y)[0, 1])"
   ]
  },
  {
   "cell_type": "markdown",
   "metadata": {},
   "source": [
    "Here we can see the correlation coefficients between **PUBLISHER_BID - win_rate** and **RESPONSES - win_rate** are small negative numbers, meaning negative correlations. This indication is consistent with the previous visualization."
   ]
  },
  {
   "cell_type": "markdown",
   "metadata": {},
   "source": [
    "### **A-3 (b): Eta correlation for nominal variables**\n",
    "\n",
    "For nominal variables, we use [eta correlation](https://en.wikipedia.org/wiki/Correlation_ratio):\n",
    "### $$ \\eta^2 = \\frac{\\sum_c n_c (\\bar{y}_c-\\bar{y})^2}{\\sum_{c,i}(y_{ci}-\\bar{y})^2}, $$\n",
    "where $\\bar{y}_c$ is the mean in the category c and $\\bar{y}$ is the mean over all population, i.e.\n",
    "### $$ \\bar{y}_c = \\frac{\\sum_{i\\in c} y_{ci}}{n_c} , \\ \\bar{y} = \\frac{\\sum_{ci}y_{ci}}{\\sum_c n_c}$$ \n",
    "and $n_c$ is the number of samples belonging to category c. Here $y$ is **win_rate**."
   ]
  },
  {
   "cell_type": "code",
   "execution_count": 12,
   "metadata": {
    "collapsed": true
   },
   "outputs": [],
   "source": [
    "def eta_correlation_ratio(a_dict, avg_y, num_y):\n",
    "    eta_sq = 0\n",
    "    for key in a_dict:\n",
    "        avg_category = np.mean(a_dict[key])\n",
    "        n_category = len(a_dict[key])\n",
    "        eta_sq += n_category*((avg_category-avg_y)**2)\n",
    "        #print (key, n_category, avg_category, n_category*(avg_category-avg_y)**2)\n",
    "    return np.sqrt(eta_sq/num_y)"
   ]
  },
  {
   "cell_type": "code",
   "execution_count": 14,
   "metadata": {
    "collapsed": false
   },
   "outputs": [
    {
     "name": "stdout",
     "output_type": "stream",
     "text": [
      "Eta(date,rate)=    0.0174280193839\n",
      "Eta(hour,rate)=    0.0701491127019\n",
      "Eta(traffic,rate)= 0.381123092852\n",
      "Eta(device,rate) = 0.131468650475\n",
      "Eta(country,rate)= 0.305881222874\n"
     ]
    }
   ],
   "source": [
    "print ('Eta(date,rate)=   ', eta_correlation_ratio(date_dict, avg_y, sigma_y))\n",
    "print ('Eta(hour,rate)=   ', eta_correlation_ratio(hour_dict, avg_y, sigma_y))\n",
    "print ('Eta(traffic,rate)=', eta_correlation_ratio(traffic_dict, avg_y, sigma_y))\n",
    "print ('Eta(device,rate) =', eta_correlation_ratio(device_dict, avg_y, sigma_y))\n",
    "print ('Eta(country,rate)=', eta_correlation_ratio(country_dict, avg_y, sigma_y))"
   ]
  },
  {
   "cell_type": "markdown",
   "metadata": {
    "collapsed": true
   },
   "source": [
    "From the eta correlations, we learned that **traffic_source**, and **country** are the top 2 important features. **device** is third. **date** and **hour** may be relatively less important compared to the top three (although Pearson and eta correlation are not comparable)."
   ]
  },
  {
   "cell_type": "markdown",
   "metadata": {},
   "source": [
    "## **A-4: Building Predictive Models**\n",
    "\n",
    "In this subsection, we will build models using decision-tree-regression, random-forest-regression and gradient-boosting-regression. The reason we first try these models is that we don't have worry about the nominal features. In A-5 subsection, I will convert the nominal variables to one-hot-encoding representation and test other linear regression models.\n",
    "\n",
    "We first consider all features to train the models. Then I will show some features are removable and after doing that we still have similarly good regression models. In each benchmark test, we use **RMSE (root-mean-square-error)** and **R square** as metrics. Lower RMSE and higher R square denote a better regression model."
   ]
  },
  {
   "cell_type": "code",
   "execution_count": 24,
   "metadata": {
    "collapsed": false
   },
   "outputs": [
    {
     "data": {
      "text/html": [
       "<div>\n",
       "<table border=\"1\" class=\"dataframe\">\n",
       "  <thead>\n",
       "    <tr style=\"text-align: right;\">\n",
       "      <th></th>\n",
       "      <th>INDEX</th>\n",
       "      <th>RPT_DATE</th>\n",
       "      <th>RPT_HOUR</th>\n",
       "      <th>TRAFFIC_SOURCE</th>\n",
       "      <th>DEVICE_SUBTYPE</th>\n",
       "      <th>COUNTRY_ID</th>\n",
       "      <th>PUBLISHER_BID</th>\n",
       "      <th>RESPONSES</th>\n",
       "      <th>WINS</th>\n",
       "    </tr>\n",
       "  </thead>\n",
       "  <tbody>\n",
       "    <tr>\n",
       "      <th>0</th>\n",
       "      <td>1</td>\n",
       "      <td>8</td>\n",
       "      <td>23</td>\n",
       "      <td>66686962</td>\n",
       "      <td>10025</td>\n",
       "      <td>9</td>\n",
       "      <td>0.00743</td>\n",
       "      <td>252</td>\n",
       "      <td>0</td>\n",
       "    </tr>\n",
       "    <tr>\n",
       "      <th>1</th>\n",
       "      <td>2</td>\n",
       "      <td>8</td>\n",
       "      <td>23</td>\n",
       "      <td>66686962</td>\n",
       "      <td>22</td>\n",
       "      <td>27</td>\n",
       "      <td>0.00743</td>\n",
       "      <td>252</td>\n",
       "      <td>0</td>\n",
       "    </tr>\n",
       "    <tr>\n",
       "      <th>2</th>\n",
       "      <td>3</td>\n",
       "      <td>8</td>\n",
       "      <td>23</td>\n",
       "      <td>66686962</td>\n",
       "      <td>22</td>\n",
       "      <td>9</td>\n",
       "      <td>0.00743</td>\n",
       "      <td>126</td>\n",
       "      <td>0</td>\n",
       "    </tr>\n",
       "    <tr>\n",
       "      <th>3</th>\n",
       "      <td>4</td>\n",
       "      <td>8</td>\n",
       "      <td>23</td>\n",
       "      <td>66686962</td>\n",
       "      <td>22</td>\n",
       "      <td>9</td>\n",
       "      <td>0.01486</td>\n",
       "      <td>252</td>\n",
       "      <td>0</td>\n",
       "    </tr>\n",
       "    <tr>\n",
       "      <th>4</th>\n",
       "      <td>5</td>\n",
       "      <td>8</td>\n",
       "      <td>23</td>\n",
       "      <td>66686962</td>\n",
       "      <td>22</td>\n",
       "      <td>77</td>\n",
       "      <td>0.01486</td>\n",
       "      <td>126</td>\n",
       "      <td>0</td>\n",
       "    </tr>\n",
       "  </tbody>\n",
       "</table>\n",
       "</div>"
      ],
      "text/plain": [
       "   INDEX  RPT_DATE  RPT_HOUR  TRAFFIC_SOURCE  DEVICE_SUBTYPE  COUNTRY_ID  \\\n",
       "0      1         8        23        66686962           10025           9   \n",
       "1      2         8        23        66686962              22          27   \n",
       "2      3         8        23        66686962              22           9   \n",
       "3      4         8        23        66686962              22           9   \n",
       "4      5         8        23        66686962              22          77   \n",
       "\n",
       "   PUBLISHER_BID  RESPONSES  WINS  \n",
       "0        0.00743        252     0  \n",
       "1        0.00743        252     0  \n",
       "2        0.00743        126     0  \n",
       "3        0.01486        252     0  \n",
       "4        0.01486        126     0  "
      ]
     },
     "execution_count": 24,
     "metadata": {},
     "output_type": "execute_result"
    }
   ],
   "source": [
    "import pandas as pd\n",
    "data = pd.read_csv('DATA_SCIENCE_CHALLENGE.csv')\n",
    "data.head()"
   ]
  },
  {
   "cell_type": "code",
   "execution_count": 25,
   "metadata": {
    "collapsed": false
   },
   "outputs": [
    {
     "data": {
      "text/plain": [
       "(760841, 9)"
      ]
     },
     "execution_count": 25,
     "metadata": {},
     "output_type": "execute_result"
    }
   ],
   "source": [
    "data.shape"
   ]
  },
  {
   "cell_type": "markdown",
   "metadata": {},
   "source": [
    "Here I generate another column **win_rate** in the dataframe. Also, I found there are few outliers, where **win_rate >1** or even **win_rate <0**, which does not make any sense. I will remove them from the data."
   ]
  },
  {
   "cell_type": "code",
   "execution_count": 26,
   "metadata": {
    "collapsed": false
   },
   "outputs": [],
   "source": [
    "data['win_rate'] = pd.Series(data['WINS']/data['RESPONSES'], index=data.index)\n",
    "del data['WINS']\n",
    "data = data[data.win_rate <= 1]\n",
    "data = data[data.win_rate >=0]"
   ]
  },
  {
   "cell_type": "code",
   "execution_count": 27,
   "metadata": {
    "collapsed": false
   },
   "outputs": [
    {
     "data": {
      "text/html": [
       "<div>\n",
       "<table border=\"1\" class=\"dataframe\">\n",
       "  <thead>\n",
       "    <tr style=\"text-align: right;\">\n",
       "      <th></th>\n",
       "      <th>INDEX</th>\n",
       "      <th>RPT_DATE</th>\n",
       "      <th>RPT_HOUR</th>\n",
       "      <th>TRAFFIC_SOURCE</th>\n",
       "      <th>DEVICE_SUBTYPE</th>\n",
       "      <th>COUNTRY_ID</th>\n",
       "      <th>PUBLISHER_BID</th>\n",
       "      <th>RESPONSES</th>\n",
       "      <th>win_rate</th>\n",
       "    </tr>\n",
       "  </thead>\n",
       "  <tbody>\n",
       "    <tr>\n",
       "      <th>0</th>\n",
       "      <td>1</td>\n",
       "      <td>8</td>\n",
       "      <td>23</td>\n",
       "      <td>66686962</td>\n",
       "      <td>10025</td>\n",
       "      <td>9</td>\n",
       "      <td>0.00743</td>\n",
       "      <td>252</td>\n",
       "      <td>0</td>\n",
       "    </tr>\n",
       "    <tr>\n",
       "      <th>1</th>\n",
       "      <td>2</td>\n",
       "      <td>8</td>\n",
       "      <td>23</td>\n",
       "      <td>66686962</td>\n",
       "      <td>22</td>\n",
       "      <td>27</td>\n",
       "      <td>0.00743</td>\n",
       "      <td>252</td>\n",
       "      <td>0</td>\n",
       "    </tr>\n",
       "    <tr>\n",
       "      <th>2</th>\n",
       "      <td>3</td>\n",
       "      <td>8</td>\n",
       "      <td>23</td>\n",
       "      <td>66686962</td>\n",
       "      <td>22</td>\n",
       "      <td>9</td>\n",
       "      <td>0.00743</td>\n",
       "      <td>126</td>\n",
       "      <td>0</td>\n",
       "    </tr>\n",
       "    <tr>\n",
       "      <th>3</th>\n",
       "      <td>4</td>\n",
       "      <td>8</td>\n",
       "      <td>23</td>\n",
       "      <td>66686962</td>\n",
       "      <td>22</td>\n",
       "      <td>9</td>\n",
       "      <td>0.01486</td>\n",
       "      <td>252</td>\n",
       "      <td>0</td>\n",
       "    </tr>\n",
       "    <tr>\n",
       "      <th>4</th>\n",
       "      <td>5</td>\n",
       "      <td>8</td>\n",
       "      <td>23</td>\n",
       "      <td>66686962</td>\n",
       "      <td>22</td>\n",
       "      <td>77</td>\n",
       "      <td>0.01486</td>\n",
       "      <td>126</td>\n",
       "      <td>0</td>\n",
       "    </tr>\n",
       "  </tbody>\n",
       "</table>\n",
       "</div>"
      ],
      "text/plain": [
       "   INDEX  RPT_DATE  RPT_HOUR  TRAFFIC_SOURCE  DEVICE_SUBTYPE  COUNTRY_ID  \\\n",
       "0      1         8        23        66686962           10025           9   \n",
       "1      2         8        23        66686962              22          27   \n",
       "2      3         8        23        66686962              22           9   \n",
       "3      4         8        23        66686962              22           9   \n",
       "4      5         8        23        66686962              22          77   \n",
       "\n",
       "   PUBLISHER_BID  RESPONSES  win_rate  \n",
       "0        0.00743        252         0  \n",
       "1        0.00743        252         0  \n",
       "2        0.00743        126         0  \n",
       "3        0.01486        252         0  \n",
       "4        0.01486        126         0  "
      ]
     },
     "execution_count": 27,
     "metadata": {},
     "output_type": "execute_result"
    }
   ],
   "source": [
    "data.head()"
   ]
  },
  {
   "cell_type": "code",
   "execution_count": 28,
   "metadata": {
    "collapsed": false
   },
   "outputs": [
    {
     "data": {
      "text/plain": [
       "(760837, 9)"
      ]
     },
     "execution_count": 28,
     "metadata": {},
     "output_type": "execute_result"
    }
   ],
   "source": [
    "data.shape"
   ]
  },
  {
   "cell_type": "code",
   "execution_count": 54,
   "metadata": {
    "collapsed": true
   },
   "outputs": [],
   "source": [
    "'''This function is used to compute RMSE and R square'''\n",
    "def R_squared(predict, true):\n",
    "    if len(predict) != len(true): return False\n",
    "    meanTrue = np.mean(true)\n",
    "    RSS =0\n",
    "    TSS =0\n",
    "    for i in range(len(predict)):\n",
    "        RSS += (predict[i] - true[i])**2\n",
    "        TSS += (true[i] - meanTrue)**2\n",
    "    return np.sqrt(RSS/len(predict)), 1.0-RSS/TSS"
   ]
  },
  {
   "cell_type": "markdown",
   "metadata": {},
   "source": [
    "### **A-4 (a): Consider all features**\n",
    "\n",
    "Here we will use all features to train models. Note that KNN and usual linear regressions are NOT accessible here since the **DATE**, **HOUR**... **COUNTRY** are nominal features. I will try decision-tree-regression, random-forest-regression and gradient-boosting-regression."
   ]
  },
  {
   "cell_type": "code",
   "execution_count": 159,
   "metadata": {
    "collapsed": false
   },
   "outputs": [
    {
     "data": {
      "text/html": [
       "<div>\n",
       "<table border=\"1\" class=\"dataframe\">\n",
       "  <thead>\n",
       "    <tr style=\"text-align: right;\">\n",
       "      <th></th>\n",
       "      <th>RPT_DATE</th>\n",
       "      <th>RPT_HOUR</th>\n",
       "      <th>TRAFFIC_SOURCE</th>\n",
       "      <th>DEVICE_SUBTYPE</th>\n",
       "      <th>COUNTRY_ID</th>\n",
       "      <th>PUBLISHER_BID</th>\n",
       "      <th>RESPONSES</th>\n",
       "    </tr>\n",
       "  </thead>\n",
       "  <tbody>\n",
       "    <tr>\n",
       "      <th>0</th>\n",
       "      <td>8</td>\n",
       "      <td>23</td>\n",
       "      <td>66686962</td>\n",
       "      <td>10025</td>\n",
       "      <td>9</td>\n",
       "      <td>0.00743</td>\n",
       "      <td>252</td>\n",
       "    </tr>\n",
       "    <tr>\n",
       "      <th>1</th>\n",
       "      <td>8</td>\n",
       "      <td>23</td>\n",
       "      <td>66686962</td>\n",
       "      <td>22</td>\n",
       "      <td>27</td>\n",
       "      <td>0.00743</td>\n",
       "      <td>252</td>\n",
       "    </tr>\n",
       "    <tr>\n",
       "      <th>2</th>\n",
       "      <td>8</td>\n",
       "      <td>23</td>\n",
       "      <td>66686962</td>\n",
       "      <td>22</td>\n",
       "      <td>9</td>\n",
       "      <td>0.00743</td>\n",
       "      <td>126</td>\n",
       "    </tr>\n",
       "    <tr>\n",
       "      <th>3</th>\n",
       "      <td>8</td>\n",
       "      <td>23</td>\n",
       "      <td>66686962</td>\n",
       "      <td>22</td>\n",
       "      <td>9</td>\n",
       "      <td>0.01486</td>\n",
       "      <td>252</td>\n",
       "    </tr>\n",
       "    <tr>\n",
       "      <th>4</th>\n",
       "      <td>8</td>\n",
       "      <td>23</td>\n",
       "      <td>66686962</td>\n",
       "      <td>22</td>\n",
       "      <td>77</td>\n",
       "      <td>0.01486</td>\n",
       "      <td>126</td>\n",
       "    </tr>\n",
       "  </tbody>\n",
       "</table>\n",
       "</div>"
      ],
      "text/plain": [
       "   RPT_DATE  RPT_HOUR  TRAFFIC_SOURCE  DEVICE_SUBTYPE  COUNTRY_ID  \\\n",
       "0         8        23        66686962           10025           9   \n",
       "1         8        23        66686962              22          27   \n",
       "2         8        23        66686962              22           9   \n",
       "3         8        23        66686962              22           9   \n",
       "4         8        23        66686962              22          77   \n",
       "\n",
       "   PUBLISHER_BID  RESPONSES  \n",
       "0        0.00743        252  \n",
       "1        0.00743        252  \n",
       "2        0.00743        126  \n",
       "3        0.01486        252  \n",
       "4        0.01486        126  "
      ]
     },
     "execution_count": 159,
     "metadata": {},
     "output_type": "execute_result"
    }
   ],
   "source": [
    "X = data.iloc[:,1:8]\n",
    "y = data.iloc[:,8]\n",
    "X.head()"
   ]
  },
  {
   "cell_type": "code",
   "execution_count": 129,
   "metadata": {
    "collapsed": false
   },
   "outputs": [
    {
     "data": {
      "text/plain": [
       "((760837, 7), (760837,))"
      ]
     },
     "execution_count": 129,
     "metadata": {},
     "output_type": "execute_result"
    }
   ],
   "source": [
    "X.shape, y.shape"
   ]
  },
  {
   "cell_type": "code",
   "execution_count": 32,
   "metadata": {
    "collapsed": false
   },
   "outputs": [
    {
     "data": {
      "text/plain": [
       "0    0.00\n",
       "1    0.00\n",
       "2    0.00\n",
       "3    0.00\n",
       "4    0.00\n",
       "5    0.00\n",
       "6    0.00\n",
       "7    0.00\n",
       "8    0.00\n",
       "9    0.25\n",
       "Name: win_rate, dtype: float64"
      ]
     },
     "execution_count": 32,
     "metadata": {},
     "output_type": "execute_result"
    }
   ],
   "source": [
    "y.head(10)"
   ]
  },
  {
   "cell_type": "markdown",
   "metadata": {},
   "source": [
    "### (i) split the whole dataset to training set and test set:"
   ]
  },
  {
   "cell_type": "code",
   "execution_count": 130,
   "metadata": {
    "collapsed": false
   },
   "outputs": [],
   "source": [
    "from sklearn.cross_validation import cross_val_score, train_test_split\n",
    "from sklearn import metrics, cross_validation\n",
    "X_train, X_test, y_train, y_test = train_test_split(X, y, test_size=0.2)\n",
    "y_test = y_test.tolist()"
   ]
  },
  {
   "cell_type": "markdown",
   "metadata": {},
   "source": [
    "### **(ii) decision-tree-regression**"
   ]
  },
  {
   "cell_type": "code",
   "execution_count": 26,
   "metadata": {
    "collapsed": false
   },
   "outputs": [
    {
     "name": "stdout",
     "output_type": "stream",
     "text": [
      "(0.27217527397379737, -0.25180950418906511)\n"
     ]
    }
   ],
   "source": [
    "from sklearn.tree import DecisionTreeRegressor\n",
    "decTreeReg = DecisionTreeRegressor(random_state=100)\n",
    "decTreeReg.fit(X_train, y_train)\n",
    "predictedY = decTreeReg.predict(X_test)\n",
    "print (R_squared(predictedY, y_test))"
   ]
  },
  {
   "cell_type": "markdown",
   "metadata": {},
   "source": [
    "The first number is the **RMSE=0.272**, and second is the **R square = 0.25**. The small value of R square hints that the model doesn't capture the variance well. Next we try grid search:"
   ]
  },
  {
   "cell_type": "code",
   "execution_count": 162,
   "metadata": {
    "collapsed": false
   },
   "outputs": [
    {
     "name": "stdout",
     "output_type": "stream",
     "text": [
      "Fitting 5 folds for each of 20 candidates, totalling 100 fits\n"
     ]
    },
    {
     "name": "stderr",
     "output_type": "stream",
     "text": [
      "[Parallel(n_jobs=-1)]: Done  33 tasks      | elapsed:   42.5s\n",
      "[Parallel(n_jobs=-1)]: Done 100 out of 100 | elapsed:  2.4min finished\n"
     ]
    },
    {
     "name": "stdout",
     "output_type": "stream",
     "text": [
      "[CV] max_depth=5, min_samples_leaf=5 .................................\n",
      "[CV] max_depth=5, min_samples_leaf=5 .................................\n",
      "[CV] max_depth=5, min_samples_leaf=5 .................................\n",
      "[CV] max_depth=5, min_samples_leaf=5 .................................\n",
      "[CV] ........................ max_depth=5, min_samples_leaf=5 -   2.8s[CV] ........................ max_depth=5, min_samples_leaf=5 -   3.0s[CV] ........................ max_depth=5, min_samples_leaf=5 -   2.9s[CV] ........................ max_depth=5, min_samples_leaf=5 -   2.9s\n",
      "\n",
      "\n",
      "\n",
      "[CV] max_depth=5, min_samples_leaf=5 .................................[CV] max_depth=5, min_samples_leaf=10 ................................\n",
      "[CV] max_depth=5, min_samples_leaf=10 ................................[CV] max_depth=5, min_samples_leaf=10 ................................\n",
      "\n",
      "[CV] ....................... max_depth=5, min_samples_leaf=10 -   2.7s\n",
      "[CV] ....................... max_depth=5, min_samples_leaf=10 -   2.6s[CV] ........................ max_depth=5, min_samples_leaf=5 -   2.7s\n",
      "[CV] ....................... max_depth=5, min_samples_leaf=10 -   2.8s\n",
      "\n",
      "[CV] max_depth=5, min_samples_leaf=10 ................................\n",
      "\n",
      "[CV] max_depth=5, min_samples_leaf=20 ................................[CV] max_depth=5, min_samples_leaf=10 ................................\n",
      "[CV] ....................... max_depth=5, min_samples_leaf=10 -   2.7s[CV] max_depth=5, min_samples_leaf=20 ................................\n",
      "\n",
      "[CV] ....................... max_depth=5, min_samples_leaf=10 -   2.6s\n",
      "[CV] ....................... max_depth=5, min_samples_leaf=20 -   2.6s[CV] ....................... max_depth=5, min_samples_leaf=20 -   2.7s\n",
      "[CV] max_depth=5, min_samples_leaf=20 ................................\n",
      "\n",
      "\n",
      "[CV] max_depth=5, min_samples_leaf=20 ................................\n",
      "[CV] ....................... max_depth=5, min_samples_leaf=20 -   2.7s[CV] max_depth=5, min_samples_leaf=20 ................................\n",
      "[CV] max_depth=5, min_samples_leaf=30 ................................\n",
      "[CV] ....................... max_depth=5, min_samples_leaf=20 -   2.6s\n",
      "[CV] ....................... max_depth=5, min_samples_leaf=20 -   2.7s[CV] ....................... max_depth=5, min_samples_leaf=30 -   2.6s\n",
      "[CV] max_depth=5, min_samples_leaf=30 ................................\n",
      "\n",
      "\n",
      "[CV] max_depth=5, min_samples_leaf=30 ................................\n",
      "[CV] ....................... max_depth=5, min_samples_leaf=30 -   2.7s[CV] max_depth=5, min_samples_leaf=30 ................................\n",
      "[CV] max_depth=5, min_samples_leaf=30 ................................[CV] ....................... max_depth=5, min_samples_leaf=30 -   2.7s\n",
      "[CV] ....................... max_depth=5, min_samples_leaf=30 -   2.7s\n",
      "\n",
      "[CV] max_depth=15, min_samples_leaf=5 ................................\n",
      "\n",
      "[CV] ....................... max_depth=5, min_samples_leaf=30 -   2.6s[CV] max_depth=15, min_samples_leaf=5 ................................\n",
      "[CV] ....................... max_depth=15, min_samples_leaf=5 -   5.4s[CV] max_depth=15, min_samples_leaf=5 ................................\n",
      "\n",
      "[CV] ....................... max_depth=15, min_samples_leaf=5 -   5.2s\n",
      "[CV] ....................... max_depth=15, min_samples_leaf=5 -   5.4s[CV] max_depth=15, min_samples_leaf=5 ................................\n",
      "[CV] max_depth=15, min_samples_leaf=10 ...............................\n",
      "\n",
      "\n",
      "[CV] max_depth=15, min_samples_leaf=5 ................................\n",
      "[CV] ...................... max_depth=15, min_samples_leaf=10 -   6.7s[CV] max_depth=15, min_samples_leaf=10 ...............................\n",
      "[CV] ....................... max_depth=15, min_samples_leaf=5 -   5.3s[CV] ....................... max_depth=15, min_samples_leaf=5 -   6.8s\n",
      "[CV] ...................... max_depth=15, min_samples_leaf=10 -   7.3s\n",
      "\n",
      "[CV] max_depth=15, min_samples_leaf=10 ...............................\n",
      "\n",
      "[CV] max_depth=15, min_samples_leaf=10 ...............................[CV] max_depth=15, min_samples_leaf=10 ...............................[CV] ...................... max_depth=15, min_samples_leaf=10 -   8.0s[CV] max_depth=15, min_samples_leaf=20 ...............................\n",
      "\n",
      "\n",
      "\n",
      "[CV] ...................... max_depth=15, min_samples_leaf=10 -   7.5s[CV] ...................... max_depth=15, min_samples_leaf=10 -   7.9s[CV] max_depth=15, min_samples_leaf=20 ...............................\n",
      "[CV] ...................... max_depth=15, min_samples_leaf=20 -   7.5s\n",
      "\n",
      "[CV] ...................... max_depth=15, min_samples_leaf=20 -   8.4s\n",
      "[CV] max_depth=15, min_samples_leaf=20 ...............................\n",
      "[CV] max_depth=15, min_samples_leaf=20 ...............................\n",
      "[CV] max_depth=15, min_samples_leaf=20 ...............................\n",
      "[CV] ...................... max_depth=15, min_samples_leaf=20 -   7.4s\n",
      "[CV] max_depth=15, min_samples_leaf=30 ...............................\n",
      "[CV] ...................... max_depth=15, min_samples_leaf=20 -   8.4s\n",
      "[CV] ...................... max_depth=15, min_samples_leaf=20 -   8.4s[CV] ...................... max_depth=15, min_samples_leaf=30 -   7.3s\n",
      "[CV] max_depth=15, min_samples_leaf=30 ...............................\n",
      "\n",
      "\n",
      "[CV] max_depth=15, min_samples_leaf=30 ...............................[CV] ...................... max_depth=15, min_samples_leaf=30 -   8.1s[CV] max_depth=15, min_samples_leaf=30 ...............................[CV] max_depth=20, min_samples_leaf=5 ................................\n",
      "\n",
      "\n",
      "\n",
      "[CV] ....................... max_depth=20, min_samples_leaf=5 -   6.2s[CV] ...................... max_depth=15, min_samples_leaf=30 -   7.3s[CV] max_depth=15, min_samples_leaf=30 ...............................\n",
      "[CV] ...................... max_depth=15, min_samples_leaf=30 -   7.4s\n",
      "\n",
      "[CV] ...................... max_depth=15, min_samples_leaf=30 -   7.2s\n",
      "[CV] max_depth=20, min_samples_leaf=10 ...............................[CV] max_depth=20, min_samples_leaf=5 ................................\n",
      "\n",
      "[CV] max_depth=20, min_samples_leaf=5 ................................\n",
      "[CV] ....................... max_depth=20, min_samples_leaf=5 -   6.3s[CV] max_depth=20, min_samples_leaf=5 ................................\n",
      "[CV] ...................... max_depth=20, min_samples_leaf=10 -   5.5s\n",
      "\n",
      "[CV] ....................... max_depth=20, min_samples_leaf=5 -   6.1s\n",
      "[CV] max_depth=20, min_samples_leaf=10 ...............................\n",
      "[CV] ....................... max_depth=20, min_samples_leaf=5 -   6.3s\n",
      "[CV] max_depth=20, min_samples_leaf=10 ...............................\n",
      "[CV] ...................... max_depth=20, min_samples_leaf=10 -   5.6s\n",
      "[CV] max_depth=20, min_samples_leaf=5 ................................[CV] ...................... max_depth=20, min_samples_leaf=10 -   5.5s\n",
      "[CV] max_depth=20, min_samples_leaf=10 ...............................\n",
      "\n",
      "[CV] max_depth=20, min_samples_leaf=20 ...............................\n",
      "\n",
      "[CV] ....................... max_depth=20, min_samples_leaf=5 -   5.6s[CV] max_depth=20, min_samples_leaf=20 ...............................\n",
      "[CV] ...................... max_depth=20, min_samples_leaf=20 -   5.3s[CV] ...................... max_depth=20, min_samples_leaf=10 -   5.4s\n",
      "[CV] ...................... max_depth=20, min_samples_leaf=20 -   5.8s\n",
      "\n",
      "[CV] max_depth=20, min_samples_leaf=10 ...............................\n",
      "[CV] max_depth=20, min_samples_leaf=30 ...............................[CV] max_depth=20, min_samples_leaf=20 ...............................\n",
      "\n",
      "[CV] max_depth=20, min_samples_leaf=30 ...............................\n",
      "\n",
      "[CV] ...................... max_depth=20, min_samples_leaf=20 -   5.2s[CV] ...................... max_depth=20, min_samples_leaf=10 -   5.5s[CV] ...................... max_depth=20, min_samples_leaf=30 -   8.6s[CV] ...................... max_depth=20, min_samples_leaf=30 -   5.7s\n",
      "\n",
      "\n",
      "\n",
      "[CV] max_depth=20, min_samples_leaf=20 ...............................\n",
      "[CV] max_depth=20, min_samples_leaf=20 ...............................\n",
      "[CV] max_depth=25, min_samples_leaf=5 ................................[CV] max_depth=20, min_samples_leaf=30 ...............................[CV] ...................... max_depth=20, min_samples_leaf=20 -   5.8s[CV] ...................... max_depth=20, min_samples_leaf=20 -   5.7s\n",
      "\n",
      "\n",
      "\n",
      "[CV] ....................... max_depth=25, min_samples_leaf=5 -   6.7s[CV] ...................... max_depth=20, min_samples_leaf=30 -   8.4s[CV] max_depth=20, min_samples_leaf=30 ...............................\n",
      "[CV] max_depth=20, min_samples_leaf=30 ...............................\n",
      "\n",
      "[CV] ...................... max_depth=20, min_samples_leaf=30 -   8.6s\n",
      "[CV] max_depth=25, min_samples_leaf=10 ...............................\n",
      "[CV] max_depth=25, min_samples_leaf=5 ................................\n",
      "[CV] ...................... max_depth=20, min_samples_leaf=30 -   8.2s[CV] ...................... max_depth=25, min_samples_leaf=10 -   5.8s\n",
      "[CV] max_depth=25, min_samples_leaf=5 ................................\n",
      "\n",
      "[CV] ....................... max_depth=25, min_samples_leaf=5 -   6.9s\n",
      "[CV] max_depth=25, min_samples_leaf=5 ................................[CV] max_depth=25, min_samples_leaf=20 ...............................\n",
      "\n",
      "[CV] ....................... max_depth=25, min_samples_leaf=5 -   6.8s\n",
      "[CV] ...................... max_depth=25, min_samples_leaf=20 -   5.5s[CV] max_depth=25, min_samples_leaf=10 ...............................\n",
      "[CV] ....................... max_depth=25, min_samples_leaf=5 -   7.1s\n",
      "\n",
      "[CV] max_depth=25, min_samples_leaf=10 ...............................\n",
      "\n",
      "[CV] max_depth=25, min_samples_leaf=20 ...............................\n",
      "[CV] ...................... max_depth=25, min_samples_leaf=10 -   5.9s[CV] ...................... max_depth=25, min_samples_leaf=10 -   5.8s[CV] max_depth=25, min_samples_leaf=5 ................................[CV] ...................... max_depth=25, min_samples_leaf=20 -   5.2s\n",
      "\n",
      "\n",
      "\n",
      "[CV] max_depth=25, min_samples_leaf=20 ...............................\n",
      "[CV] max_depth=25, min_samples_leaf=10 ...............................\n",
      "[CV] ....................... max_depth=25, min_samples_leaf=5 -   6.0s[CV] max_depth=25, min_samples_leaf=30 ...............................\n",
      "[CV] ...................... max_depth=25, min_samples_leaf=20 -   5.3s[CV] ...................... max_depth=25, min_samples_leaf=10 -   5.6s\n",
      "[CV] ...................... max_depth=25, min_samples_leaf=30 -   5.4s\n",
      "\n",
      "[CV] max_depth=25, min_samples_leaf=10 ...............................\n",
      "[CV] max_depth=25, min_samples_leaf=30 ...............................[CV] max_depth=25, min_samples_leaf=20 ...............................\n",
      "[CV] max_depth=30, min_samples_leaf=5 ................................\n",
      "\n",
      "[CV] ...................... max_depth=25, min_samples_leaf=10 -   5.6s\n",
      "[CV] ...................... max_depth=25, min_samples_leaf=30 -   5.3s[CV] ...................... max_depth=25, min_samples_leaf=20 -   5.5s"
     ]
    },
    {
     "data": {
      "text/plain": [
       "GridSearchCV(cv=5, error_score='raise',\n",
       "       estimator=DecisionTreeRegressor(criterion='mse', max_depth=None, max_features=None,\n",
       "           max_leaf_nodes=None, min_impurity_split=1e-07,\n",
       "           min_samples_leaf=1, min_samples_split=2,\n",
       "           min_weight_fraction_leaf=0.0, presort=False, random_state=10,\n",
       "           splitter='best'),\n",
       "       fit_params={}, iid=True, n_jobs=-1,\n",
       "       param_grid={'max_depth': [5, 15, 20, 25, 30], 'min_samples_leaf': [5, 10, 20, 30]},\n",
       "       pre_dispatch='2*n_jobs', refit=True, scoring=None, verbose=2)"
      ]
     },
     "execution_count": 162,
     "metadata": {},
     "output_type": "execute_result"
    },
    {
     "name": "stdout",
     "output_type": "stream",
     "text": [
      "\n",
      "[CV] ....................... max_depth=30, min_samples_leaf=5 -   6.0s\n",
      "\n",
      "[CV] max_depth=25, min_samples_leaf=20 ...............................\n",
      "[CV] max_depth=25, min_samples_leaf=30 ...............................[CV] max_depth=25, min_samples_leaf=30 ...............................\n",
      "[CV] max_depth=30, min_samples_leaf=5 ................................\n",
      "\n",
      "[CV] ...................... max_depth=25, min_samples_leaf=20 -   5.6s\n",
      "[CV] ...................... max_depth=25, min_samples_leaf=30 -   5.3s[CV] ...................... max_depth=25, min_samples_leaf=30 -   5.3s\n",
      "[CV] ....................... max_depth=30, min_samples_leaf=5 -   6.1s\n",
      "\n",
      "[CV] max_depth=25, min_samples_leaf=30 ...............................\n",
      "\n",
      "[CV] max_depth=30, min_samples_leaf=5 ................................[CV] max_depth=30, min_samples_leaf=5 ................................[CV] ...................... max_depth=25, min_samples_leaf=30 -   5.3s[CV] max_depth=30, min_samples_leaf=20 ...............................\n",
      "\n",
      "\n",
      "\n",
      "[CV] ....................... max_depth=30, min_samples_leaf=5 -   6.4s[CV] ....................... max_depth=30, min_samples_leaf=5 -   6.3s[CV] max_depth=30, min_samples_leaf=5 ................................[CV] ...................... max_depth=30, min_samples_leaf=20 -   5.3s\n",
      "\n",
      "\n",
      "\n",
      "[CV] max_depth=30, min_samples_leaf=10 ...............................\n",
      "[CV] max_depth=30, min_samples_leaf=10 ...............................[CV] ....................... max_depth=30, min_samples_leaf=5 -   6.3s[CV] max_depth=30, min_samples_leaf=20 ...............................\n",
      "[CV] ...................... max_depth=30, min_samples_leaf=10 -   5.5s\n",
      "\n",
      "[CV] ...................... max_depth=30, min_samples_leaf=20 -   5.2s\n",
      "[CV] ...................... max_depth=30, min_samples_leaf=10 -   5.6s[CV] max_depth=30, min_samples_leaf=10 ...............................\n",
      "[CV] max_depth=30, min_samples_leaf=10 ...............................\n",
      "\n",
      "[CV] max_depth=30, min_samples_leaf=30 ...............................\n",
      "\n",
      "[CV] max_depth=30, min_samples_leaf=20 ...............................[CV] ...................... max_depth=30, min_samples_leaf=10 -   5.6s[CV] ...................... max_depth=30, min_samples_leaf=30 -   6.4s[CV] ...................... max_depth=30, min_samples_leaf=10 -   5.6s\n",
      "\n",
      "\n",
      "\n",
      "[CV] ...................... max_depth=30, min_samples_leaf=20 -   5.2s[CV] max_depth=30, min_samples_leaf=10 ...............................[CV] max_depth=30, min_samples_leaf=30 ...............................\n",
      "\n",
      "[CV] max_depth=30, min_samples_leaf=20 ...............................\n",
      "[CV] ...................... max_depth=30, min_samples_leaf=10 -   5.5s\n",
      "[CV] ...................... max_depth=30, min_samples_leaf=30 -   5.2s\n",
      "[CV] ...................... max_depth=30, min_samples_leaf=20 -   5.2s\n",
      "[CV] max_depth=30, min_samples_leaf=20 ...............................\n",
      "[CV] max_depth=30, min_samples_leaf=30 ...............................\n",
      "\n",
      "[CV] max_depth=30, min_samples_leaf=30 ...............................\n",
      "[CV] ...................... max_depth=30, min_samples_leaf=30 -   6.3s[CV] ...................... max_depth=30, min_samples_leaf=20 -   5.4s[CV] ...................... max_depth=30, min_samples_leaf=30 -   6.4s\n",
      "\n",
      "\n",
      "[CV] max_depth=30, min_samples_leaf=30 ...............................\n",
      "[CV] ...................... max_depth=30, min_samples_leaf=30 -   6.2s\n"
     ]
    }
   ],
   "source": [
    "from sklearn import grid_search\n",
    "from sklearn.tree import DecisionTreeRegressor\n",
    "decTreeReg = DecisionTreeRegressor(random_state=10)\n",
    "parameters = {'max_depth':[5,15,20,25,30],'min_samples_leaf':[5,10,20,30]}\n",
    "model_cv_grid = grid_search.GridSearchCV(decTreeReg,parameters,cv=5, verbose=2,n_jobs=-1)\n",
    "model_cv_grid.fit(X_train,y_train)"
   ]
  },
  {
   "cell_type": "code",
   "execution_count": 163,
   "metadata": {
    "collapsed": false
   },
   "outputs": [
    {
     "data": {
      "text/plain": [
       "[mean: 0.12206, std: 0.00157, params: {'max_depth': 5, 'min_samples_leaf': 5},\n",
       " mean: 0.12206, std: 0.00157, params: {'max_depth': 5, 'min_samples_leaf': 10},\n",
       " mean: 0.12206, std: 0.00157, params: {'max_depth': 5, 'min_samples_leaf': 20},\n",
       " mean: 0.12202, std: 0.00158, params: {'max_depth': 5, 'min_samples_leaf': 30},\n",
       " mean: 0.26531, std: 0.00470, params: {'max_depth': 15, 'min_samples_leaf': 5},\n",
       " mean: 0.27313, std: 0.00336, params: {'max_depth': 15, 'min_samples_leaf': 10},\n",
       " mean: 0.27876, std: 0.00304, params: {'max_depth': 15, 'min_samples_leaf': 20},\n",
       " mean: 0.27861, std: 0.00327, params: {'max_depth': 15, 'min_samples_leaf': 30},\n",
       " mean: 0.24385, std: 0.00595, params: {'max_depth': 20, 'min_samples_leaf': 5},\n",
       " mean: 0.28545, std: 0.00304, params: {'max_depth': 20, 'min_samples_leaf': 10},\n",
       " mean: 0.30633, std: 0.00247, params: {'max_depth': 20, 'min_samples_leaf': 20},\n",
       " mean: 0.30868, std: 0.00143, params: {'max_depth': 20, 'min_samples_leaf': 30},\n",
       " mean: 0.20452, std: 0.00641, params: {'max_depth': 25, 'min_samples_leaf': 5},\n",
       " mean: 0.27527, std: 0.00230, params: {'max_depth': 25, 'min_samples_leaf': 10},\n",
       " mean: 0.30825, std: 0.00302, params: {'max_depth': 25, 'min_samples_leaf': 20},\n",
       " mean: 0.31245, std: 0.00235, params: {'max_depth': 25, 'min_samples_leaf': 30},\n",
       " mean: 0.19246, std: 0.00615, params: {'max_depth': 30, 'min_samples_leaf': 5},\n",
       " mean: 0.27226, std: 0.00255, params: {'max_depth': 30, 'min_samples_leaf': 10},\n",
       " mean: 0.30784, std: 0.00288, params: {'max_depth': 30, 'min_samples_leaf': 20},\n",
       " mean: 0.31251, std: 0.00220, params: {'max_depth': 30, 'min_samples_leaf': 30}]"
      ]
     },
     "execution_count": 163,
     "metadata": {},
     "output_type": "execute_result"
    }
   ],
   "source": [
    "model_cv_grid.grid_scores_"
   ]
  },
  {
   "cell_type": "code",
   "execution_count": 164,
   "metadata": {
    "collapsed": false
   },
   "outputs": [
    {
     "data": {
      "text/plain": [
       "DecisionTreeRegressor(criterion='mse', max_depth=30, max_features=None,\n",
       "           max_leaf_nodes=None, min_impurity_split=1e-07,\n",
       "           min_samples_leaf=30, min_samples_split=2,\n",
       "           min_weight_fraction_leaf=0.0, presort=False, random_state=10,\n",
       "           splitter='best')"
      ]
     },
     "execution_count": 164,
     "metadata": {},
     "output_type": "execute_result"
    }
   ],
   "source": [
    "best_tree_model = model_cv_grid.best_estimator_\n",
    "best_tree_model"
   ]
  },
  {
   "cell_type": "code",
   "execution_count": 165,
   "metadata": {
    "collapsed": false
   },
   "outputs": [
    {
     "name": "stdout",
     "output_type": "stream",
     "text": [
      "(0.20116099396649775, 0.32133626865514531)\n"
     ]
    }
   ],
   "source": [
    "best_tree_model.fit(X_train, y_train)\n",
    "predictedY = best_tree_model.predict(X_test)\n",
    "print (R_squared(predictedY, y_test))"
   ]
  },
  {
   "cell_type": "markdown",
   "metadata": {},
   "source": [
    "After grid search, we have the optimal decision-tree model which provides lower RMSE and higher R square than a single shoot training."
   ]
  },
  {
   "cell_type": "markdown",
   "metadata": {},
   "source": [
    "### **(iii) random-forest-regression**"
   ]
  },
  {
   "cell_type": "code",
   "execution_count": 34,
   "metadata": {
    "collapsed": false
   },
   "outputs": [
    {
     "name": "stdout",
     "output_type": "stream",
     "text": [
      "(0.2084949762581379, 0.28007221723664366)\n"
     ]
    }
   ],
   "source": [
    "from sklearn.ensemble import RandomForestRegressor\n",
    "rfReg = RandomForestRegressor(n_estimators=20, n_jobs=-1, random_state=100, verbose=0, warm_start=False)\n",
    "rfReg.fit(X_train, y_train)\n",
    "predictedY = rfReg.predict(X_test)\n",
    "print (R_squared(predictedY, y_test))"
   ]
  },
  {
   "cell_type": "markdown",
   "metadata": {},
   "source": [
    "We can see the advantage of using the random-forest-regression. Even without doing grid search, the RMSE and R square are as good as ones from the optimal decision-tree-regression model. Next let's further go grid search on the random-forest-regression:"
   ]
  },
  {
   "cell_type": "code",
   "execution_count": 166,
   "metadata": {
    "collapsed": false
   },
   "outputs": [
    {
     "name": "stdout",
     "output_type": "stream",
     "text": [
      "Fitting 5 folds for each of 40 candidates, totalling 200 fits\n"
     ]
    },
    {
     "name": "stderr",
     "output_type": "stream",
     "text": [
      "[Parallel(n_jobs=-1)]: Done  33 tasks      | elapsed:  1.5min\n",
      "[Parallel(n_jobs=-1)]: Done 154 tasks      | elapsed: 12.4min\n",
      "[Parallel(n_jobs=-1)]: Done 200 out of 200 | elapsed: 16.7min finished\n"
     ]
    },
    {
     "name": "stdout",
     "output_type": "stream",
     "text": [
      "[CV] n_estimators=4, max_depth=5, min_samples_leaf=5 .................\n",
      "[CV] n_estimators=4, max_depth=5, min_samples_leaf=5 .................\n",
      "[CV] n_estimators=4, max_depth=5, min_samples_leaf=5 .................\n",
      "[CV] n_estimators=4, max_depth=5, min_samples_leaf=5 .................\n",
      "[CV] ........ n_estimators=4, max_depth=5, min_samples_leaf=5 -   7.6s[CV] ........ n_estimators=4, max_depth=5, min_samples_leaf=5 -   7.8s[CV] ........ n_estimators=4, max_depth=5, min_samples_leaf=5 -   8.0s[CV] ........ n_estimators=4, max_depth=5, min_samples_leaf=5 -   7.6s\n",
      "\n",
      "\n",
      "\n",
      "[CV] n_estimators=4, max_depth=5, min_samples_leaf=5 .................[CV] n_estimators=8, max_depth=5, min_samples_leaf=5 .................\n",
      "[CV] n_estimators=8, max_depth=5, min_samples_leaf=5 .................\n",
      "[CV] n_estimators=8, max_depth=5, min_samples_leaf=5 .................\n",
      "[CV] ........ n_estimators=8, max_depth=5, min_samples_leaf=5 -  16.6s[CV] ........ n_estimators=8, max_depth=5, min_samples_leaf=5 -  16.6s\n",
      "[CV] ........ n_estimators=4, max_depth=5, min_samples_leaf=5 -   9.3s\n",
      "\n",
      "[CV] ........ n_estimators=8, max_depth=5, min_samples_leaf=5 -  16.7s\n",
      "[CV] n_estimators=8, max_depth=5, min_samples_leaf=5 .................[CV] n_estimators=4, max_depth=5, min_samples_leaf=10 ................\n",
      "\n",
      "[CV] n_estimators=8, max_depth=5, min_samples_leaf=5 .................\n",
      "[CV] ....... n_estimators=4, max_depth=5, min_samples_leaf=10 -   7.3s[CV] n_estimators=4, max_depth=5, min_samples_leaf=10 ................\n",
      "\n",
      "[CV] ........ n_estimators=8, max_depth=5, min_samples_leaf=5 -  13.1s\n",
      "[CV] ....... n_estimators=4, max_depth=5, min_samples_leaf=10 -   7.4s[CV] ........ n_estimators=8, max_depth=5, min_samples_leaf=5 -  14.3s\n",
      "[CV] n_estimators=4, max_depth=5, min_samples_leaf=10 ................\n",
      "\n",
      "[CV] n_estimators=8, max_depth=5, min_samples_leaf=10 ................\n",
      "[CV] n_estimators=4, max_depth=5, min_samples_leaf=10 ................\n",
      "[CV] n_estimators=4, max_depth=5, min_samples_leaf=10 ................\n",
      "[CV] ....... n_estimators=4, max_depth=5, min_samples_leaf=10 -   7.3s[CV] ....... n_estimators=4, max_depth=5, min_samples_leaf=10 -   7.4s\n",
      "[CV] ....... n_estimators=8, max_depth=5, min_samples_leaf=10 -  13.5s\n",
      "\n",
      "[CV] ....... n_estimators=4, max_depth=5, min_samples_leaf=10 -   7.3s\n",
      "[CV] n_estimators=8, max_depth=5, min_samples_leaf=10 ................[CV] n_estimators=8, max_depth=5, min_samples_leaf=10 ................\n",
      "\n",
      "[CV] n_estimators=8, max_depth=5, min_samples_leaf=10 ................\n",
      "[CV] ....... n_estimators=8, max_depth=5, min_samples_leaf=10 -  13.5s[CV] n_estimators=8, max_depth=5, min_samples_leaf=10 ................\n",
      "\n",
      "[CV] ....... n_estimators=8, max_depth=5, min_samples_leaf=10 -  13.5s\n",
      "[CV] ....... n_estimators=8, max_depth=5, min_samples_leaf=10 -  13.4s[CV] ....... n_estimators=8, max_depth=5, min_samples_leaf=10 -  14.4s\n",
      "[CV] n_estimators=4, max_depth=5, min_samples_leaf=20 ................\n",
      "\n",
      "[CV] n_estimators=4, max_depth=5, min_samples_leaf=20 ................\n",
      "\n",
      "[CV] n_estimators=4, max_depth=5, min_samples_leaf=20 ................\n",
      "[CV] n_estimators=8, max_depth=5, min_samples_leaf=20 ................[CV] ....... n_estimators=4, max_depth=5, min_samples_leaf=20 -   8.6s[CV] ....... n_estimators=4, max_depth=5, min_samples_leaf=20 -   8.6s[CV] ....... n_estimators=4, max_depth=5, min_samples_leaf=20 -   7.8s\n",
      "\n",
      "\n",
      "\n",
      "[CV] ....... n_estimators=8, max_depth=5, min_samples_leaf=20 -  13.0s[CV] n_estimators=8, max_depth=5, min_samples_leaf=20 ................[CV] n_estimators=4, max_depth=5, min_samples_leaf=20 ................[CV] n_estimators=4, max_depth=5, min_samples_leaf=20 ................\n",
      "\n",
      "\n",
      "\n",
      "[CV] n_estimators=4, max_depth=5, min_samples_leaf=30 ................\n",
      "[CV] ....... n_estimators=8, max_depth=5, min_samples_leaf=20 -  13.5s[CV] ....... n_estimators=4, max_depth=5, min_samples_leaf=20 -   8.3s[CV] ....... n_estimators=4, max_depth=5, min_samples_leaf=20 -   8.5s[CV] ....... n_estimators=4, max_depth=5, min_samples_leaf=30 -   6.5s\n",
      "\n",
      "\n",
      "\n",
      "[CV] n_estimators=8, max_depth=5, min_samples_leaf=20 ................[CV] n_estimators=8, max_depth=5, min_samples_leaf=20 ................[CV] n_estimators=8, max_depth=5, min_samples_leaf=20 ................\n",
      "[CV] n_estimators=4, max_depth=5, min_samples_leaf=30 ................\n",
      "\n",
      "\n",
      "[CV] ....... n_estimators=8, max_depth=5, min_samples_leaf=20 -  12.6s[CV] ....... n_estimators=4, max_depth=5, min_samples_leaf=30 -   6.6s[CV] ....... n_estimators=8, max_depth=5, min_samples_leaf=20 -  12.1s[CV] ....... n_estimators=8, max_depth=5, min_samples_leaf=20 -  12.5s\n",
      "\n",
      "\n",
      "\n",
      "[CV] n_estimators=4, max_depth=5, min_samples_leaf=30 ................\n",
      "[CV] n_estimators=8, max_depth=5, min_samples_leaf=30 ................\n",
      "[CV] n_estimators=4, max_depth=5, min_samples_leaf=30 ................\n",
      "[CV] n_estimators=4, max_depth=5, min_samples_leaf=30 ................\n",
      "[CV] ....... n_estimators=4, max_depth=5, min_samples_leaf=30 -   6.8s[CV] ....... n_estimators=8, max_depth=5, min_samples_leaf=30 -  12.6s[CV] ....... n_estimators=4, max_depth=5, min_samples_leaf=30 -   6.5s[CV] ....... n_estimators=4, max_depth=5, min_samples_leaf=30 -   6.6s\n",
      "\n",
      "\n",
      "\n",
      "[CV] n_estimators=8, max_depth=5, min_samples_leaf=30 ................\n",
      "[CV] n_estimators=4, max_depth=15, min_samples_leaf=5 ................[CV] n_estimators=8, max_depth=5, min_samples_leaf=30 ................\n",
      "[CV] n_estimators=8, max_depth=5, min_samples_leaf=30 ................\n",
      "[CV] ....... n_estimators=8, max_depth=5, min_samples_leaf=30 -  12.2s\n",
      "[CV] ....... n_estimators=8, max_depth=5, min_samples_leaf=30 -  13.4s[CV] ....... n_estimators=8, max_depth=5, min_samples_leaf=30 -  12.4s\n",
      "[CV] ....... n_estimators=4, max_depth=15, min_samples_leaf=5 -  14.4s\n",
      "\n",
      "[CV] n_estimators=8, max_depth=5, min_samples_leaf=30 ................\n",
      "\n",
      "[CV] n_estimators=4, max_depth=15, min_samples_leaf=5 ................[CV] n_estimators=4, max_depth=15, min_samples_leaf=5 ................\n",
      "[CV] ....... n_estimators=8, max_depth=5, min_samples_leaf=30 -  13.3s[CV] n_estimators=8, max_depth=15, min_samples_leaf=5 ................\n",
      "\n",
      "[CV] ....... n_estimators=4, max_depth=15, min_samples_leaf=5 -  14.8s\n",
      "[CV] ....... n_estimators=8, max_depth=15, min_samples_leaf=5 -  26.4s[CV] ....... n_estimators=4, max_depth=15, min_samples_leaf=5 -  13.8s\n",
      "[CV] n_estimators=4, max_depth=15, min_samples_leaf=5 ................\n",
      "\n",
      "\n",
      "[CV] n_estimators=4, max_depth=15, min_samples_leaf=5 ................[CV] ....... n_estimators=4, max_depth=15, min_samples_leaf=5 -  13.0s[CV] n_estimators=8, max_depth=15, min_samples_leaf=5 ................\n",
      "[CV] n_estimators=8, max_depth=15, min_samples_leaf=5 ................\n",
      "\n",
      "[CV] ....... n_estimators=8, max_depth=15, min_samples_leaf=5 -  26.6s\n",
      "[CV] ....... n_estimators=4, max_depth=15, min_samples_leaf=5 -  13.4s[CV] n_estimators=8, max_depth=15, min_samples_leaf=5 ................\n",
      "[CV] ....... n_estimators=8, max_depth=15, min_samples_leaf=5 -  26.7s\n",
      "\n",
      "[CV] n_estimators=8, max_depth=15, min_samples_leaf=10 ...............\n",
      "[CV] n_estimators=8, max_depth=15, min_samples_leaf=5 ................\n",
      "[CV] ....... n_estimators=8, max_depth=15, min_samples_leaf=5 -  26.6s\n",
      "[CV] n_estimators=4, max_depth=15, min_samples_leaf=10 ...............[CV] ....... n_estimators=8, max_depth=15, min_samples_leaf=5 -  26.5s\n",
      "[CV] ...... n_estimators=8, max_depth=15, min_samples_leaf=10 -  25.4s\n",
      "\n",
      "[CV] n_estimators=4, max_depth=15, min_samples_leaf=10 ...............\n",
      "[CV] ...... n_estimators=4, max_depth=15, min_samples_leaf=10 -  13.5s[CV] n_estimators=4, max_depth=15, min_samples_leaf=10 ...............\n",
      "[CV] n_estimators=4, max_depth=15, min_samples_leaf=20 ...............\n",
      "\n",
      "\n",
      "[CV] ...... n_estimators=4, max_depth=15, min_samples_leaf=10 -  12.9s[CV] ...... n_estimators=4, max_depth=15, min_samples_leaf=20 -  13.8s[CV] n_estimators=4, max_depth=15, min_samples_leaf=10 ...............\n",
      "[CV] ...... n_estimators=4, max_depth=15, min_samples_leaf=10 -  13.9s\n",
      "\n",
      "[CV] ...... n_estimators=4, max_depth=15, min_samples_leaf=10 -  14.5s\n",
      "[CV] n_estimators=4, max_depth=15, min_samples_leaf=10 ...............\n",
      "[CV] n_estimators=4, max_depth=15, min_samples_leaf=20 ...............\n",
      "\n",
      "[CV] n_estimators=8, max_depth=15, min_samples_leaf=10 ...............[CV] ...... n_estimators=4, max_depth=15, min_samples_leaf=10 -  14.6s[CV] ...... n_estimators=4, max_depth=15, min_samples_leaf=20 -  16.0s[CV] n_estimators=8, max_depth=15, min_samples_leaf=10 ...............\n",
      "\n",
      "\n",
      "\n",
      "[CV] ...... n_estimators=8, max_depth=15, min_samples_leaf=10 -  25.3s[CV] ...... n_estimators=8, max_depth=15, min_samples_leaf=10 -  26.0s[CV] n_estimators=8, max_depth=15, min_samples_leaf=10 ...............\n",
      "[CV] n_estimators=8, max_depth=15, min_samples_leaf=20 ...............\n",
      "\n",
      "[CV] ...... n_estimators=8, max_depth=15, min_samples_leaf=10 -  26.1s\n",
      "[CV] n_estimators=4, max_depth=15, min_samples_leaf=20 ...............\n",
      "[CV] n_estimators=8, max_depth=15, min_samples_leaf=10 ...............\n",
      "[CV] ...... n_estimators=8, max_depth=15, min_samples_leaf=20 -  28.2s[CV] ...... n_estimators=4, max_depth=15, min_samples_leaf=20 -  14.5s\n",
      "[CV] n_estimators=4, max_depth=15, min_samples_leaf=20 ...............\n",
      "\n",
      "\n",
      "[CV] ...... n_estimators=8, max_depth=15, min_samples_leaf=10 -  27.8s[CV] ...... n_estimators=4, max_depth=15, min_samples_leaf=20 -  14.9s[CV] n_estimators=4, max_depth=15, min_samples_leaf=30 ...............[CV] n_estimators=4, max_depth=15, min_samples_leaf=20 ...............\n",
      "\n",
      "\n",
      "\n",
      "[CV] n_estimators=8, max_depth=15, min_samples_leaf=20 ...............[CV] n_estimators=8, max_depth=15, min_samples_leaf=20 ...............[CV] ...... n_estimators=4, max_depth=15, min_samples_leaf=30 -  15.0s[CV] ...... n_estimators=4, max_depth=15, min_samples_leaf=20 -  16.6s\n",
      "\n",
      "\n",
      "\n",
      "[CV] ...... n_estimators=8, max_depth=15, min_samples_leaf=20 -  28.9s[CV] ...... n_estimators=8, max_depth=15, min_samples_leaf=20 -  28.8s[CV] n_estimators=4, max_depth=15, min_samples_leaf=30 ...............\n",
      "[CV] n_estimators=8, max_depth=15, min_samples_leaf=20 ...............\n",
      "\n",
      "[CV] ...... n_estimators=4, max_depth=15, min_samples_leaf=30 -  12.9s\n",
      "[CV] n_estimators=4, max_depth=15, min_samples_leaf=30 ...............\n",
      "[CV] n_estimators=8, max_depth=15, min_samples_leaf=20 ...............\n",
      "[CV] ...... n_estimators=8, max_depth=15, min_samples_leaf=20 -  28.2s[CV] ...... n_estimators=4, max_depth=15, min_samples_leaf=30 -  15.5s\n",
      "[CV] n_estimators=8, max_depth=15, min_samples_leaf=30 ...............\n",
      "\n",
      "\n",
      "[CV] ...... n_estimators=8, max_depth=15, min_samples_leaf=20 -  27.9s[CV] ...... n_estimators=8, max_depth=15, min_samples_leaf=30 -  30.6s[CV] n_estimators=4, max_depth=15, min_samples_leaf=30 ...............[CV] n_estimators=4, max_depth=15, min_samples_leaf=30 ...............\n"
     ]
    },
    {
     "data": {
      "text/plain": [
       "GridSearchCV(cv=5, error_score='raise',\n",
       "       estimator=RandomForestRegressor(bootstrap=True, criterion='mse', max_depth=None,\n",
       "           max_features='auto', max_leaf_nodes=None,\n",
       "           min_impurity_split=1e-07, min_samples_leaf=1,\n",
       "           min_samples_split=2, min_weight_fraction_leaf=0.0,\n",
       "           n_estimators=10, n_jobs=1, oob_score=False, random_state=None,\n",
       "           verbose=0, warm_start=False),\n",
       "       fit_params={}, iid=True, n_jobs=-1,\n",
       "       param_grid={'n_estimators': [4, 8], 'max_depth': [5, 15, 20, 25, 30], 'min_samples_leaf': [5, 10, 20, 30]},\n",
       "       pre_dispatch='2*n_jobs', refit=True, scoring=None, verbose=2)"
      ]
     },
     "execution_count": 166,
     "metadata": {},
     "output_type": "execute_result"
    },
    {
     "name": "stdout",
     "output_type": "stream",
     "text": [
      "\n",
      "\n",
      "\n",
      "[CV] ...... n_estimators=4, max_depth=15, min_samples_leaf=30 -  12.8s[CV] n_estimators=8, max_depth=15, min_samples_leaf=30 ...............[CV] n_estimators=4, max_depth=20, min_samples_leaf=5 ................[CV] ...... n_estimators=4, max_depth=15, min_samples_leaf=30 -  13.9s\n",
      "\n",
      "\n",
      "\n",
      "[CV] n_estimators=8, max_depth=15, min_samples_leaf=30 ...............\n",
      "[CV] ...... n_estimators=8, max_depth=15, min_samples_leaf=30 -  30.6s[CV] ....... n_estimators=4, max_depth=20, min_samples_leaf=5 -  15.5s[CV] n_estimators=8, max_depth=15, min_samples_leaf=30 ...............\n",
      "[CV] ...... n_estimators=8, max_depth=15, min_samples_leaf=30 -  30.5s\n",
      "\n",
      "[CV] ...... n_estimators=8, max_depth=15, min_samples_leaf=30 -  30.6s\n",
      "[CV] n_estimators=4, max_depth=20, min_samples_leaf=5 ................[CV] n_estimators=8, max_depth=20, min_samples_leaf=5 ................\n",
      "\n",
      "[CV] n_estimators=4, max_depth=20, min_samples_leaf=5 ................\n",
      "\n",
      "[CV] ....... n_estimators=8, max_depth=20, min_samples_leaf=5 -  33.1s[CV] n_estimators=8, max_depth=15, min_samples_leaf=30 ...............[CV] ....... n_estimators=4, max_depth=20, min_samples_leaf=5 -  15.6s[CV] ....... n_estimators=4, max_depth=20, min_samples_leaf=5 -  15.8s\n",
      "\n",
      "\n",
      "\n",
      "[CV] n_estimators=8, max_depth=20, min_samples_leaf=5 ................[CV] ...... n_estimators=8, max_depth=15, min_samples_leaf=30 -  24.8s[CV] n_estimators=4, max_depth=20, min_samples_leaf=5 ................[CV] n_estimators=4, max_depth=20, min_samples_leaf=5 ................\n",
      "\n",
      "\n",
      "\n",
      "[CV] ....... n_estimators=8, max_depth=20, min_samples_leaf=5 -  29.4s[CV] n_estimators=8, max_depth=20, min_samples_leaf=5 ................\n",
      "[CV] ....... n_estimators=4, max_depth=20, min_samples_leaf=5 -  17.3s[CV] ....... n_estimators=4, max_depth=20, min_samples_leaf=5 -  16.0s\n",
      "[CV] ....... n_estimators=8, max_depth=20, min_samples_leaf=5 -  32.9s\n",
      "\n",
      "[CV] n_estimators=8, max_depth=20, min_samples_leaf=10 ...............\n",
      "\n",
      "[CV] n_estimators=8, max_depth=20, min_samples_leaf=5 ................[CV] n_estimators=8, max_depth=20, min_samples_leaf=5 ................\n",
      "[CV] ...... n_estimators=8, max_depth=20, min_samples_leaf=10 -  29.4s[CV] n_estimators=4, max_depth=20, min_samples_leaf=10 ...............\n",
      "[CV] ....... n_estimators=8, max_depth=20, min_samples_leaf=5 -  32.8s\n",
      "\n",
      "[CV] ....... n_estimators=8, max_depth=20, min_samples_leaf=5 -  33.1s\n",
      "[CV] n_estimators=4, max_depth=20, min_samples_leaf=20 ...............[CV] ...... n_estimators=4, max_depth=20, min_samples_leaf=10 -  16.4s\n",
      "[CV] n_estimators=4, max_depth=20, min_samples_leaf=10 ...............\n",
      "\n",
      "[CV] n_estimators=4, max_depth=20, min_samples_leaf=10 ...............\n",
      "[CV] ...... n_estimators=4, max_depth=20, min_samples_leaf=20 -  14.1s[CV] n_estimators=4, max_depth=20, min_samples_leaf=10 ...............\n",
      "\n",
      "[CV] ...... n_estimators=4, max_depth=20, min_samples_leaf=10 -  14.8s\n",
      "[CV] ...... n_estimators=4, max_depth=20, min_samples_leaf=10 -  13.9s[CV] ...... n_estimators=4, max_depth=20, min_samples_leaf=10 -  13.8s\n",
      "[CV] n_estimators=4, max_depth=20, min_samples_leaf=20 ...............\n",
      "\n",
      "[CV] n_estimators=4, max_depth=20, min_samples_leaf=10 ...............\n",
      "[CV] n_estimators=8, max_depth=20, min_samples_leaf=10 ...............[CV] n_estimators=8, max_depth=20, min_samples_leaf=10 ...............\n",
      "\n",
      "[CV] ...... n_estimators=4, max_depth=20, min_samples_leaf=20 -  15.0s\n",
      "[CV] ...... n_estimators=8, max_depth=20, min_samples_leaf=10 -  29.5s[CV] ...... n_estimators=4, max_depth=20, min_samples_leaf=10 -  15.3s\n",
      "[CV] ...... n_estimators=8, max_depth=20, min_samples_leaf=10 -  29.3s\n",
      "\n",
      "[CV] n_estimators=8, max_depth=20, min_samples_leaf=20 ...............\n",
      "\n",
      "[CV] n_estimators=8, max_depth=20, min_samples_leaf=10 ...............[CV] n_estimators=8, max_depth=20, min_samples_leaf=10 ...............[CV] ...... n_estimators=8, max_depth=20, min_samples_leaf=20 -  28.4s[CV] n_estimators=4, max_depth=20, min_samples_leaf=20 ...............\n",
      "\n",
      "\n",
      "\n",
      "[CV] ...... n_estimators=4, max_depth=20, min_samples_leaf=20 -  14.0s[CV] ...... n_estimators=8, max_depth=20, min_samples_leaf=10 -  28.5s[CV] ...... n_estimators=8, max_depth=20, min_samples_leaf=10 -  28.2s[CV] n_estimators=4, max_depth=20, min_samples_leaf=30 ...............\n",
      "\n",
      "\n",
      "\n",
      "[CV] n_estimators=4, max_depth=20, min_samples_leaf=20 ...............\n",
      "[CV] n_estimators=8, max_depth=20, min_samples_leaf=20 ...............\n",
      "[CV] n_estimators=4, max_depth=20, min_samples_leaf=20 ...............\n",
      "[CV] ...... n_estimators=4, max_depth=20, min_samples_leaf=30 -  15.6s[CV] ...... n_estimators=4, max_depth=20, min_samples_leaf=20 -  15.2s[CV] ...... n_estimators=8, max_depth=20, min_samples_leaf=20 -  28.5s[CV] ...... n_estimators=4, max_depth=20, min_samples_leaf=20 -  15.1s\n",
      "\n",
      "\n",
      "\n",
      "[CV] n_estimators=4, max_depth=20, min_samples_leaf=30 ...............\n",
      "[CV] n_estimators=8, max_depth=20, min_samples_leaf=20 ...............\n",
      "[CV] n_estimators=4, max_depth=20, min_samples_leaf=30 ...............[CV] n_estimators=8, max_depth=20, min_samples_leaf=20 ...............[CV] ...... n_estimators=4, max_depth=20, min_samples_leaf=30 -  13.8s[CV] ...... n_estimators=8, max_depth=20, min_samples_leaf=20 -  28.6s\n",
      "\n",
      "\n",
      "\n",
      "[CV] ...... n_estimators=4, max_depth=20, min_samples_leaf=30 -  15.8s[CV] ...... n_estimators=8, max_depth=20, min_samples_leaf=20 -  27.9s[CV] n_estimators=8, max_depth=20, min_samples_leaf=30 ...............\n",
      "[CV] n_estimators=4, max_depth=20, min_samples_leaf=30 ...............\n",
      "\n",
      "[CV] ...... n_estimators=8, max_depth=20, min_samples_leaf=30 -  27.2s\n",
      "[CV] n_estimators=4, max_depth=20, min_samples_leaf=30 ...............[CV] n_estimators=8, max_depth=20, min_samples_leaf=20 ...............\n",
      "\n",
      "[CV] ...... n_estimators=4, max_depth=20, min_samples_leaf=30 -  15.3s\n",
      "[CV] ...... n_estimators=8, max_depth=20, min_samples_leaf=20 -  28.8s[CV] n_estimators=4, max_depth=25, min_samples_leaf=5 ................\n",
      "\n",
      "[CV] ...... n_estimators=4, max_depth=20, min_samples_leaf=30 -  14.0s\n",
      "[CV] ....... n_estimators=4, max_depth=25, min_samples_leaf=5 -  19.7s[CV] n_estimators=8, max_depth=20, min_samples_leaf=30 ...............\n",
      "\n",
      "[CV] n_estimators=8, max_depth=20, min_samples_leaf=30 ...............\n",
      "\n",
      "[CV] ...... n_estimators=8, max_depth=20, min_samples_leaf=30 -  26.5s[CV] n_estimators=8, max_depth=20, min_samples_leaf=30 ...............\n",
      "[CV] ...... n_estimators=8, max_depth=20, min_samples_leaf=30 -  26.3s[CV] n_estimators=8, max_depth=25, min_samples_leaf=5 ................\n",
      "\n",
      "[CV] ...... n_estimators=8, max_depth=20, min_samples_leaf=30 -  26.8s\n",
      "[CV] ....... n_estimators=8, max_depth=25, min_samples_leaf=5 -  37.0s[CV] n_estimators=8, max_depth=20, min_samples_leaf=30 ...............\n",
      "[CV] n_estimators=4, max_depth=25, min_samples_leaf=5 ................\n",
      "\n",
      "[CV] n_estimators=4, max_depth=25, min_samples_leaf=5 ................\n",
      "[CV] n_estimators=4, max_depth=25, min_samples_leaf=10 ...............[CV] ...... n_estimators=8, max_depth=20, min_samples_leaf=30 -  31.2s\n",
      "[CV] ....... n_estimators=4, max_depth=25, min_samples_leaf=5 -  19.7s\n",
      "\n",
      "[CV] ....... n_estimators=4, max_depth=25, min_samples_leaf=5 -  20.1s\n",
      "[CV] ...... n_estimators=4, max_depth=25, min_samples_leaf=10 -  16.8s[CV] n_estimators=4, max_depth=25, min_samples_leaf=5 ................\n",
      "[CV] n_estimators=4, max_depth=25, min_samples_leaf=5 ................\n",
      "\n",
      "[CV] n_estimators=8, max_depth=25, min_samples_leaf=5 ................\n",
      "[CV] n_estimators=4, max_depth=25, min_samples_leaf=10 ...............\n",
      "[CV] ....... n_estimators=4, max_depth=25, min_samples_leaf=5 -  20.1s\n",
      "[CV] ....... n_estimators=4, max_depth=25, min_samples_leaf=5 -  20.6s[CV] ...... n_estimators=4, max_depth=25, min_samples_leaf=10 -  14.6s\n",
      "[CV] ....... n_estimators=8, max_depth=25, min_samples_leaf=5 -  36.8s\n",
      "\n",
      "[CV] n_estimators=8, max_depth=25, min_samples_leaf=5 ................\n",
      "\n",
      "[CV] n_estimators=8, max_depth=25, min_samples_leaf=5 ................[CV] n_estimators=8, max_depth=25, min_samples_leaf=10 ...............\n",
      "[CV] ....... n_estimators=8, max_depth=25, min_samples_leaf=5 -  34.7s[CV] n_estimators=8, max_depth=25, min_samples_leaf=5 ................\n",
      "[CV] ...... n_estimators=8, max_depth=25, min_samples_leaf=10 -  28.9s\n",
      "\n",
      "[CV] ....... n_estimators=8, max_depth=25, min_samples_leaf=5 -  34.1s\n",
      "[CV] n_estimators=4, max_depth=25, min_samples_leaf=10 ...............[CV] ....... n_estimators=8, max_depth=25, min_samples_leaf=5 -  30.9s\n",
      "[CV] n_estimators=4, max_depth=25, min_samples_leaf=20 ...............\n",
      "\n",
      "\n",
      "[CV] n_estimators=4, max_depth=25, min_samples_leaf=10 ...............[CV] ...... n_estimators=4, max_depth=25, min_samples_leaf=20 -  14.2s[CV] ...... n_estimators=4, max_depth=25, min_samples_leaf=10 -  14.6s[CV] n_estimators=8, max_depth=25, min_samples_leaf=10 ...............\n",
      "\n",
      "\n",
      "\n",
      "[CV] ...... n_estimators=4, max_depth=25, min_samples_leaf=10 -  14.8s[CV] n_estimators=4, max_depth=25, min_samples_leaf=20 ...............[CV] n_estimators=8, max_depth=25, min_samples_leaf=10 ...............[CV] ...... n_estimators=8, max_depth=25, min_samples_leaf=10 -  29.0s\n",
      "\n",
      "\n",
      "\n",
      "[CV] n_estimators=4, max_depth=25, min_samples_leaf=10 ...............\n",
      "[CV] ...... n_estimators=4, max_depth=25, min_samples_leaf=20 -  15.0s[CV] ...... n_estimators=8, max_depth=25, min_samples_leaf=10 -  28.9s[CV] n_estimators=4, max_depth=25, min_samples_leaf=20 ...............\n",
      "[CV] ...... n_estimators=4, max_depth=25, min_samples_leaf=10 -  15.0s\n",
      "\n",
      "[CV] ...... n_estimators=4, max_depth=25, min_samples_leaf=20 -  14.2s\n",
      "[CV] n_estimators=8, max_depth=25, min_samples_leaf=20 ...............\n",
      "[CV] n_estimators=8, max_depth=25, min_samples_leaf=10 ...............\n",
      "[CV] n_estimators=8, max_depth=25, min_samples_leaf=10 ...............[CV] ...... n_estimators=8, max_depth=25, min_samples_leaf=20 -  29.7s\n",
      "[CV] n_estimators=4, max_depth=25, min_samples_leaf=20 ...............\n",
      "\n",
      "[CV] ...... n_estimators=8, max_depth=25, min_samples_leaf=10 -  29.2s\n",
      "[CV] ...... n_estimators=8, max_depth=25, min_samples_leaf=10 -  28.3s[CV] n_estimators=4, max_depth=25, min_samples_leaf=30 ...............\n",
      "[CV] ...... n_estimators=4, max_depth=25, min_samples_leaf=20 -  15.2s\n",
      "\n",
      "[CV] n_estimators=8, max_depth=25, min_samples_leaf=20 ...............\n",
      "[CV] n_estimators=4, max_depth=25, min_samples_leaf=20 ...............[CV] ...... n_estimators=4, max_depth=25, min_samples_leaf=30 -  16.5s\n",
      "[CV] n_estimators=8, max_depth=25, min_samples_leaf=20 ...............\n",
      "\n",
      "\n",
      "[CV] ...... n_estimators=8, max_depth=25, min_samples_leaf=20 -  29.5s[CV] ...... n_estimators=8, max_depth=25, min_samples_leaf=20 -  29.6s[CV] ...... n_estimators=4, max_depth=25, min_samples_leaf=20 -  14.8s[CV] n_estimators=8, max_depth=25, min_samples_leaf=30 ...............\n",
      "\n",
      "\n",
      "\n",
      "[CV] ...... n_estimators=8, max_depth=25, min_samples_leaf=30 -  27.2s[CV] n_estimators=4, max_depth=25, min_samples_leaf=30 ...............\n",
      "[CV] n_estimators=4, max_depth=25, min_samples_leaf=30 ...............\n",
      "[CV] n_estimators=8, max_depth=25, min_samples_leaf=20 ...............\n",
      "\n",
      "[CV] ...... n_estimators=4, max_depth=25, min_samples_leaf=30 -  16.6s[CV] ...... n_estimators=4, max_depth=25, min_samples_leaf=30 -  16.7s[CV] ...... n_estimators=8, max_depth=25, min_samples_leaf=20 -  30.2s[CV] n_estimators=8, max_depth=25, min_samples_leaf=30 ...............\n",
      "\n",
      "\n",
      "\n",
      "[CV] n_estimators=4, max_depth=25, min_samples_leaf=30 ...............\n",
      "[CV] n_estimators=4, max_depth=25, min_samples_leaf=30 ...............\n",
      "[CV] n_estimators=8, max_depth=25, min_samples_leaf=20 ...............[CV] ...... n_estimators=8, max_depth=25, min_samples_leaf=30 -  25.0s[CV] ...... n_estimators=4, max_depth=25, min_samples_leaf=30 -  14.4s[CV] ...... n_estimators=4, max_depth=25, min_samples_leaf=30 -  14.3s\n",
      "\n",
      "\n",
      "\n",
      "[CV] ...... n_estimators=8, max_depth=25, min_samples_leaf=20 -  29.5s[CV] n_estimators=4, max_depth=30, min_samples_leaf=5 ................\n",
      "[CV] n_estimators=8, max_depth=25, min_samples_leaf=30 ...............\n",
      "[CV] n_estimators=8, max_depth=25, min_samples_leaf=30 ...............\n",
      "\n",
      "[CV] ....... n_estimators=4, max_depth=30, min_samples_leaf=5 -  15.2s[CV] ...... n_estimators=8, max_depth=25, min_samples_leaf=30 -  26.1s[CV] ...... n_estimators=8, max_depth=25, min_samples_leaf=30 -  26.1s[CV] n_estimators=8, max_depth=25, min_samples_leaf=30 ...............\n",
      "\n",
      "\n",
      "\n",
      "[CV] n_estimators=8, max_depth=30, min_samples_leaf=5 ................\n",
      "[CV] n_estimators=4, max_depth=30, min_samples_leaf=5 ................\n",
      "[CV] n_estimators=4, max_depth=30, min_samples_leaf=5 ................\n",
      "[CV] ...... n_estimators=8, max_depth=25, min_samples_leaf=30 -  26.8s[CV] ....... n_estimators=8, max_depth=30, min_samples_leaf=5 -  29.2s[CV] ....... n_estimators=4, max_depth=30, min_samples_leaf=5 -  14.6s[CV] ....... n_estimators=4, max_depth=30, min_samples_leaf=5 -  14.6s\n",
      "\n",
      "\n",
      "\n",
      "[CV] n_estimators=4, max_depth=30, min_samples_leaf=5 ................\n",
      "[CV] n_estimators=4, max_depth=30, min_samples_leaf=10 ...............\n",
      "[CV] n_estimators=8, max_depth=30, min_samples_leaf=5 ................\n",
      "[CV] n_estimators=8, max_depth=30, min_samples_leaf=5 ................\n",
      "[CV] ....... n_estimators=4, max_depth=30, min_samples_leaf=5 -  14.7s[CV] ...... n_estimators=4, max_depth=30, min_samples_leaf=10 -  15.8s[CV] ....... n_estimators=8, max_depth=30, min_samples_leaf=5 -  29.6s[CV] ....... n_estimators=8, max_depth=30, min_samples_leaf=5 -  29.3s\n",
      "\n",
      "\n",
      "\n",
      "[CV] n_estimators=4, max_depth=30, min_samples_leaf=5 ................\n",
      "[CV] n_estimators=8, max_depth=30, min_samples_leaf=10 ...............\n",
      "[CV] n_estimators=8, max_depth=30, min_samples_leaf=5 ................[CV] n_estimators=4, max_depth=30, min_samples_leaf=10 ...............[CV] ....... n_estimators=4, max_depth=30, min_samples_leaf=5 -  15.1s[CV] ...... n_estimators=8, max_depth=30, min_samples_leaf=10 -  30.0s\n",
      "\n",
      "\n",
      "\n",
      "[CV] ....... n_estimators=8, max_depth=30, min_samples_leaf=5 -  30.5s[CV] ...... n_estimators=4, max_depth=30, min_samples_leaf=10 -  14.5s[CV] n_estimators=8, max_depth=30, min_samples_leaf=5 ................\n",
      "[CV] n_estimators=8, max_depth=30, min_samples_leaf=10 ...............\n",
      "\n",
      "[CV] ....... n_estimators=8, max_depth=30, min_samples_leaf=5 -  28.6s\n",
      "[CV] n_estimators=8, max_depth=30, min_samples_leaf=10 ...............[CV] n_estimators=4, max_depth=30, min_samples_leaf=10 ...............\n",
      "\n",
      "[CV] ...... n_estimators=8, max_depth=30, min_samples_leaf=10 -  30.4s\n",
      "[CV] ...... n_estimators=4, max_depth=30, min_samples_leaf=10 -  16.2s[CV] n_estimators=4, max_depth=30, min_samples_leaf=10 ...............\n",
      "[CV] ...... n_estimators=8, max_depth=30, min_samples_leaf=10 -  29.3s\n",
      "\n",
      "[CV] n_estimators=8, max_depth=30, min_samples_leaf=20 ...............\n",
      "[CV] n_estimators=8, max_depth=30, min_samples_leaf=10 ...............[CV] ...... n_estimators=4, max_depth=30, min_samples_leaf=10 -  15.6s\n",
      "[CV] n_estimators=4, max_depth=30, min_samples_leaf=20 ...............\n",
      "\n",
      "\n",
      "[CV] ...... n_estimators=8, max_depth=30, min_samples_leaf=20 -  33.3s[CV] ...... n_estimators=4, max_depth=30, min_samples_leaf=20 -  13.8s[CV] ...... n_estimators=8, max_depth=30, min_samples_leaf=10 -  29.4s[CV] n_estimators=4, max_depth=30, min_samples_leaf=10 ...............\n",
      "\n",
      "\n",
      "\n",
      "[CV] ...... n_estimators=4, max_depth=30, min_samples_leaf=10 -  16.7s[CV] n_estimators=4, max_depth=30, min_samples_leaf=30 ...............[CV] n_estimators=4, max_depth=30, min_samples_leaf=20 ...............\n",
      "[CV] n_estimators=4, max_depth=30, min_samples_leaf=20 ...............\n",
      "\n",
      "\n",
      "[CV] ...... n_estimators=4, max_depth=30, min_samples_leaf=20 -  17.5s[CV] ...... n_estimators=4, max_depth=30, min_samples_leaf=20 -  13.8s[CV] n_estimators=8, max_depth=30, min_samples_leaf=10 ...............[CV] ...... n_estimators=4, max_depth=30, min_samples_leaf=30 -  17.3s\n",
      "\n",
      "\n",
      "\n",
      "[CV] n_estimators=8, max_depth=30, min_samples_leaf=20 ...............[CV] n_estimators=4, max_depth=30, min_samples_leaf=20 ...............\n",
      "[CV] ...... n_estimators=8, max_depth=30, min_samples_leaf=10 -  27.9s[CV] n_estimators=4, max_depth=30, min_samples_leaf=30 ...............\n",
      "[CV] ...... n_estimators=4, max_depth=30, min_samples_leaf=20 -  17.5s\n",
      "\n",
      "[CV] ...... n_estimators=8, max_depth=30, min_samples_leaf=20 -  32.7s\n",
      "[CV] n_estimators=4, max_depth=30, min_samples_leaf=20 ...............[CV] ...... n_estimators=4, max_depth=30, min_samples_leaf=30 -  16.4s\n",
      "[CV] n_estimators=8, max_depth=30, min_samples_leaf=20 ...............\n",
      "\n",
      "\n",
      "[CV] n_estimators=4, max_depth=30, min_samples_leaf=30 ...............[CV] ...... n_estimators=8, max_depth=30, min_samples_leaf=20 -  32.9s[CV] ...... n_estimators=4, max_depth=30, min_samples_leaf=20 -  17.1s[CV] n_estimators=8, max_depth=30, min_samples_leaf=30 ...............\n",
      "\n",
      "\n",
      "\n",
      "[CV] ...... n_estimators=8, max_depth=30, min_samples_leaf=30 -  25.0s[CV] ...... n_estimators=4, max_depth=30, min_samples_leaf=30 -  17.2s[CV] n_estimators=4, max_depth=30, min_samples_leaf=30 ...............\n",
      "[CV] n_estimators=8, max_depth=30, min_samples_leaf=20 ...............\n",
      "\n",
      "[CV] ...... n_estimators=4, max_depth=30, min_samples_leaf=30 -  18.2s\n",
      "[CV] n_estimators=4, max_depth=30, min_samples_leaf=30 ...............\n",
      "\n",
      "[CV] ...... n_estimators=8, max_depth=30, min_samples_leaf=20 -  33.5s[CV] n_estimators=8, max_depth=30, min_samples_leaf=30 ...............\n",
      "[CV] ...... n_estimators=4, max_depth=30, min_samples_leaf=30 -  15.8s\n",
      "[CV] ...... n_estimators=8, max_depth=30, min_samples_leaf=30 -  27.4s\n",
      "[CV] n_estimators=8, max_depth=30, min_samples_leaf=20 ...............\n",
      "[CV] n_estimators=8, max_depth=30, min_samples_leaf=30 ...............\n",
      "\n",
      "[CV] n_estimators=8, max_depth=30, min_samples_leaf=30 ...............\n",
      "[CV] ...... n_estimators=8, max_depth=30, min_samples_leaf=30 -  24.6s[CV] ...... n_estimators=8, max_depth=30, min_samples_leaf=20 -  32.9s[CV] ...... n_estimators=8, max_depth=30, min_samples_leaf=30 -  17.6s\n",
      "\n",
      "\n",
      "[CV] n_estimators=8, max_depth=30, min_samples_leaf=30 ...............\n",
      "[CV] ...... n_estimators=8, max_depth=30, min_samples_leaf=30 -  24.9s\n"
     ]
    }
   ],
   "source": [
    "from sklearn import grid_search\n",
    "from sklearn.ensemble import RandomForestRegressor\n",
    "rfReg = RandomForestRegressor()\n",
    "parameters = {'n_estimators': [4,8],'max_depth':[5,15,20,25,30],'min_samples_leaf':[5,10,20,30]}\n",
    "model_cv_grid = grid_search.GridSearchCV(rfReg,parameters,cv =5, verbose=2,n_jobs=-1)\n",
    "model_cv_grid.fit(X_train,y_train)"
   ]
  },
  {
   "cell_type": "code",
   "execution_count": 167,
   "metadata": {
    "collapsed": false
   },
   "outputs": [
    {
     "data": {
      "text/plain": [
       "[mean: 0.12764, std: 0.00125, params: {'n_estimators': 4, 'max_depth': 5, 'min_samples_leaf': 5},\n",
       " mean: 0.12858, std: 0.00085, params: {'n_estimators': 8, 'max_depth': 5, 'min_samples_leaf': 5},\n",
       " mean: 0.12784, std: 0.00159, params: {'n_estimators': 4, 'max_depth': 5, 'min_samples_leaf': 10},\n",
       " mean: 0.12838, std: 0.00104, params: {'n_estimators': 8, 'max_depth': 5, 'min_samples_leaf': 10},\n",
       " mean: 0.12692, std: 0.00183, params: {'n_estimators': 4, 'max_depth': 5, 'min_samples_leaf': 20},\n",
       " mean: 0.12850, std: 0.00045, params: {'n_estimators': 8, 'max_depth': 5, 'min_samples_leaf': 20},\n",
       " mean: 0.12790, std: 0.00081, params: {'n_estimators': 4, 'max_depth': 5, 'min_samples_leaf': 30},\n",
       " mean: 0.12797, std: 0.00066, params: {'n_estimators': 8, 'max_depth': 5, 'min_samples_leaf': 30},\n",
       " mean: 0.30034, std: 0.00285, params: {'n_estimators': 4, 'max_depth': 15, 'min_samples_leaf': 5},\n",
       " mean: 0.31354, std: 0.00315, params: {'n_estimators': 8, 'max_depth': 15, 'min_samples_leaf': 5},\n",
       " mean: 0.30554, std: 0.00209, params: {'n_estimators': 4, 'max_depth': 15, 'min_samples_leaf': 10},\n",
       " mean: 0.31505, std: 0.00175, params: {'n_estimators': 8, 'max_depth': 15, 'min_samples_leaf': 10},\n",
       " mean: 0.30274, std: 0.00150, params: {'n_estimators': 4, 'max_depth': 15, 'min_samples_leaf': 20},\n",
       " mean: 0.31045, std: 0.00149, params: {'n_estimators': 8, 'max_depth': 15, 'min_samples_leaf': 20},\n",
       " mean: 0.29876, std: 0.00166, params: {'n_estimators': 4, 'max_depth': 15, 'min_samples_leaf': 30},\n",
       " mean: 0.30436, std: 0.00344, params: {'n_estimators': 8, 'max_depth': 15, 'min_samples_leaf': 30},\n",
       " mean: 0.31524, std: 0.00206, params: {'n_estimators': 4, 'max_depth': 20, 'min_samples_leaf': 5},\n",
       " mean: 0.33721, std: 0.00290, params: {'n_estimators': 8, 'max_depth': 20, 'min_samples_leaf': 5},\n",
       " mean: 0.32932, std: 0.00118, params: {'n_estimators': 4, 'max_depth': 20, 'min_samples_leaf': 10},\n",
       " mean: 0.34414, std: 0.00108, params: {'n_estimators': 8, 'max_depth': 20, 'min_samples_leaf': 10},\n",
       " mean: 0.32872, std: 0.00192, params: {'n_estimators': 4, 'max_depth': 20, 'min_samples_leaf': 20},\n",
       " mean: 0.34138, std: 0.00180, params: {'n_estimators': 8, 'max_depth': 20, 'min_samples_leaf': 20},\n",
       " mean: 0.32358, std: 0.00283, params: {'n_estimators': 4, 'max_depth': 20, 'min_samples_leaf': 30},\n",
       " mean: 0.33425, std: 0.00080, params: {'n_estimators': 8, 'max_depth': 20, 'min_samples_leaf': 30},\n",
       " mean: 0.30508, std: 0.00255, params: {'n_estimators': 4, 'max_depth': 25, 'min_samples_leaf': 5},\n",
       " mean: 0.33320, std: 0.00316, params: {'n_estimators': 8, 'max_depth': 25, 'min_samples_leaf': 5},\n",
       " mean: 0.32885, std: 0.00243, params: {'n_estimators': 4, 'max_depth': 25, 'min_samples_leaf': 10},\n",
       " mean: 0.34562, std: 0.00222, params: {'n_estimators': 8, 'max_depth': 25, 'min_samples_leaf': 10},\n",
       " mean: 0.33373, std: 0.00138, params: {'n_estimators': 4, 'max_depth': 25, 'min_samples_leaf': 20},\n",
       " mean: 0.34489, std: 0.00176, params: {'n_estimators': 8, 'max_depth': 25, 'min_samples_leaf': 20},\n",
       " mean: 0.32879, std: 0.00269, params: {'n_estimators': 4, 'max_depth': 25, 'min_samples_leaf': 30},\n",
       " mean: 0.33869, std: 0.00180, params: {'n_estimators': 8, 'max_depth': 25, 'min_samples_leaf': 30},\n",
       " mean: 0.30640, std: 0.00377, params: {'n_estimators': 4, 'max_depth': 30, 'min_samples_leaf': 5},\n",
       " mean: 0.33147, std: 0.00259, params: {'n_estimators': 8, 'max_depth': 30, 'min_samples_leaf': 5},\n",
       " mean: 0.32732, std: 0.00186, params: {'n_estimators': 4, 'max_depth': 30, 'min_samples_leaf': 10},\n",
       " mean: 0.34591, std: 0.00172, params: {'n_estimators': 8, 'max_depth': 30, 'min_samples_leaf': 10},\n",
       " mean: 0.33339, std: 0.00277, params: {'n_estimators': 4, 'max_depth': 30, 'min_samples_leaf': 20},\n",
       " mean: 0.34522, std: 0.00204, params: {'n_estimators': 8, 'max_depth': 30, 'min_samples_leaf': 20},\n",
       " mean: 0.32635, std: 0.00250, params: {'n_estimators': 4, 'max_depth': 30, 'min_samples_leaf': 30},\n",
       " mean: 0.33776, std: 0.00135, params: {'n_estimators': 8, 'max_depth': 30, 'min_samples_leaf': 30}]"
      ]
     },
     "execution_count": 167,
     "metadata": {},
     "output_type": "execute_result"
    }
   ],
   "source": [
    "model_cv_grid.grid_scores_"
   ]
  },
  {
   "cell_type": "code",
   "execution_count": 168,
   "metadata": {
    "collapsed": false
   },
   "outputs": [
    {
     "data": {
      "text/plain": [
       "RandomForestRegressor(bootstrap=True, criterion='mse', max_depth=30,\n",
       "           max_features='auto', max_leaf_nodes=None,\n",
       "           min_impurity_split=1e-07, min_samples_leaf=10,\n",
       "           min_samples_split=2, min_weight_fraction_leaf=0.0,\n",
       "           n_estimators=8, n_jobs=1, oob_score=False, random_state=None,\n",
       "           verbose=0, warm_start=False)"
      ]
     },
     "execution_count": 168,
     "metadata": {},
     "output_type": "execute_result"
    }
   ],
   "source": [
    "best_rf_model = model_cv_grid.best_estimator_\n",
    "best_rf_model"
   ]
  },
  {
   "cell_type": "code",
   "execution_count": 169,
   "metadata": {
    "collapsed": false
   },
   "outputs": [
    {
     "name": "stdout",
     "output_type": "stream",
     "text": [
      "(0.19675389748813008, 0.35074727231530989)\n"
     ]
    }
   ],
   "source": [
    "best_rf_model.fit(X_train, y_train)\n",
    "predictedY = best_rf_model.predict(X_test)\n",
    "print (R_squared(predictedY, y_test))"
   ]
  },
  {
   "cell_type": "markdown",
   "metadata": {},
   "source": [
    "We can clearly see with the grid search, the RMSE and R sqaure are even slightly improved: RMSE =0.208 -> 0.198, and R sqaure = 0.28 -> 0.35, meaning we capture more variance from the model. Next we can list which features are important:"
   ]
  },
  {
   "cell_type": "code",
   "execution_count": 171,
   "metadata": {
    "collapsed": false
   },
   "outputs": [
    {
     "data": {
      "text/html": [
       "<div>\n",
       "<table border=\"1\" class=\"dataframe\">\n",
       "  <thead>\n",
       "    <tr style=\"text-align: right;\">\n",
       "      <th></th>\n",
       "      <th>importance</th>\n",
       "      <th>variable</th>\n",
       "    </tr>\n",
       "  </thead>\n",
       "  <tbody>\n",
       "    <tr>\n",
       "      <th>0</th>\n",
       "      <td>0.392915</td>\n",
       "      <td>TRAFFIC_SOURCE</td>\n",
       "    </tr>\n",
       "    <tr>\n",
       "      <th>1</th>\n",
       "      <td>0.211008</td>\n",
       "      <td>COUNTRY_ID</td>\n",
       "    </tr>\n",
       "    <tr>\n",
       "      <th>2</th>\n",
       "      <td>0.092912</td>\n",
       "      <td>RPT_HOUR</td>\n",
       "    </tr>\n",
       "    <tr>\n",
       "      <th>3</th>\n",
       "      <td>0.086251</td>\n",
       "      <td>PUBLISHER_BID</td>\n",
       "    </tr>\n",
       "    <tr>\n",
       "      <th>4</th>\n",
       "      <td>0.080205</td>\n",
       "      <td>RESPONSES</td>\n",
       "    </tr>\n",
       "    <tr>\n",
       "      <th>5</th>\n",
       "      <td>0.068840</td>\n",
       "      <td>DEVICE_SUBTYPE</td>\n",
       "    </tr>\n",
       "    <tr>\n",
       "      <th>6</th>\n",
       "      <td>0.067869</td>\n",
       "      <td>RPT_DATE</td>\n",
       "    </tr>\n",
       "  </tbody>\n",
       "</table>\n",
       "</div>"
      ],
      "text/plain": [
       "   importance        variable\n",
       "0    0.392915  TRAFFIC_SOURCE\n",
       "1    0.211008      COUNTRY_ID\n",
       "2    0.092912        RPT_HOUR\n",
       "3    0.086251   PUBLISHER_BID\n",
       "4    0.080205       RESPONSES\n",
       "5    0.068840  DEVICE_SUBTYPE\n",
       "6    0.067869        RPT_DATE"
      ]
     },
     "execution_count": 171,
     "metadata": {},
     "output_type": "execute_result"
    }
   ],
   "source": [
    "importance = best_rf_model.feature_importances_\n",
    "attribute = X.columns\n",
    "v = sorted(range(len(importance)), key=lambda k: importance[k], reverse=True)\n",
    "sorted_importance = [importance[i] for i in v]\n",
    "sorted_attribute = [attribute[i] for i in v]\n",
    "df_importance = pd.DataFrame({'variable': sorted_attribute, 'importance' : sorted_importance})\n",
    "df_importance.sort_index().head(7)"
   ]
  },
  {
   "cell_type": "markdown",
   "metadata": {},
   "source": [
    "The most important features are **traffic_source** and **country**, which is consistent with the observation using Eta correlation in the last section."
   ]
  },
  {
   "cell_type": "markdown",
   "metadata": {},
   "source": [
    "### **(iv) gradient-boosting-regression**\n",
    "\n",
    "**(Note that this algorithm is time-consuming and computationally expansive.)**\n",
    "Gradient Boosted Regression Trees is a generalization of boosting to arbitrary differentiable loss functions, supporting a number of different loss functions. Here we use the default 'ls'= least square for regression."
   ]
  },
  {
   "cell_type": "code",
   "execution_count": 136,
   "metadata": {
    "collapsed": false
   },
   "outputs": [
    {
     "name": "stdout",
     "output_type": "stream",
     "text": [
      "Fitting 3 folds for each of 16 candidates, totalling 48 fits\n"
     ]
    },
    {
     "name": "stderr",
     "output_type": "stream",
     "text": [
      "[Parallel(n_jobs=-1)]: Done  33 tasks      | elapsed: 31.0min\n",
      "[Parallel(n_jobs=-1)]: Done  48 out of  48 | elapsed: 50.9min finished\n"
     ]
    },
    {
     "name": "stdout",
     "output_type": "stream",
     "text": [
      "[CV] max_depth=3, learning_rate=0.1 ..................................\n",
      "[CV] max_depth=3, learning_rate=0.1 ..................................\n",
      "[CV] max_depth=3, learning_rate=0.1 ..................................\n",
      "[CV] max_depth=6, learning_rate=0.1 ..................................\n",
      "[CV] ......................... max_depth=3, learning_rate=0.1 -  10.2s[CV] ......................... max_depth=3, learning_rate=0.1 -  10.1s[CV] ......................... max_depth=3, learning_rate=0.1 -  10.2s[CV] ......................... max_depth=6, learning_rate=0.1 -  33.0s\n",
      "\n",
      "\n",
      "\n",
      "[CV] max_depth=6, learning_rate=0.1 ..................................\n",
      "[CV] max_depth=6, learning_rate=0.1 ..................................\n",
      "[CV] max_depth=9, learning_rate=0.1 ..................................\n",
      "[CV] max_depth=9, learning_rate=0.1 ..................................\n",
      "[CV] ......................... max_depth=6, learning_rate=0.1 -  35.0s[CV] ......................... max_depth=6, learning_rate=0.1 -  34.9s[CV] ......................... max_depth=9, learning_rate=0.1 - 2.6min[CV] ......................... max_depth=9, learning_rate=0.1 - 2.6min\n",
      "\n",
      "\n",
      "\n",
      "[CV] max_depth=12, learning_rate=0.1 .................................[CV] max_depth=9, learning_rate=0.1 ..................................\n",
      "[CV] max_depth=12, learning_rate=0.1 .................................\n",
      "[CV] max_depth=12, learning_rate=0.1 .................................\n",
      "[CV] ......................... max_depth=9, learning_rate=0.1 - 2.7min[CV] ........................ max_depth=12, learning_rate=0.1 -13.5min\n",
      "[CV] ........................ max_depth=12, learning_rate=0.1 -13.3min\n",
      "\n",
      "[CV] ........................ max_depth=12, learning_rate=0.1 -13.7min\n",
      "[CV] max_depth=3, learning_rate=0.2 ..................................\n",
      "[CV] max_depth=12, learning_rate=0.2 .................................\n",
      "[CV] max_depth=12, learning_rate=0.2 .................................[CV] ......................... max_depth=3, learning_rate=0.2 -  10.3s\n",
      "[CV] max_depth=3, learning_rate=0.5 ..................................\n",
      "\n",
      "[CV] ........................ max_depth=12, learning_rate=0.2 -14.7min\n",
      "[CV] ........................ max_depth=12, learning_rate=0.2 -14.5min[CV] max_depth=3, learning_rate=0.2 ..................................\n",
      "\n",
      "[CV] ......................... max_depth=3, learning_rate=0.5 -  11.1s\n",
      "[CV] ......................... max_depth=3, learning_rate=0.2 -  10.1s[CV] max_depth=3, learning_rate=1 ....................................\n",
      "[CV] max_depth=12, learning_rate=0.5 .................................\n",
      "\n",
      "[CV] max_depth=3, learning_rate=0.5 ..................................\n",
      "[CV] max_depth=3, learning_rate=0.2 ..................................[CV] ........................... max_depth=3, learning_rate=1 -  10.0s\n",
      "[CV] ........................ max_depth=12, learning_rate=0.5 -13.3min\n",
      "\n",
      "[CV] ......................... max_depth=3, learning_rate=0.5 -  10.5s\n",
      "[CV] ......................... max_depth=3, learning_rate=0.2 -  11.2s[CV] max_depth=3, learning_rate=1 ....................................\n",
      "\n",
      "[CV] max_depth=12, learning_rate=1 ...................................\n",
      "\n",
      "[CV] ........................... max_depth=3, learning_rate=1 -   9.8s[CV] max_depth=3, learning_rate=0.5 ..................................[CV] .......................... max_depth=12, learning_rate=1 - 9.0min[CV] max_depth=6, learning_rate=0.2 ..................................\n",
      "\n",
      "\n",
      "\n",
      "[CV] max_depth=3, learning_rate=1 ....................................\n",
      "[CV] ......................... max_depth=3, learning_rate=0.5 -  10.6s\n",
      "[CV] ......................... max_depth=6, learning_rate=0.2 -  35.0s[CV] ........................... max_depth=3, learning_rate=1 -   9.8s[CV] max_depth=6, learning_rate=0.5 ..................................\n",
      "\n",
      "\n",
      "[CV] ......................... max_depth=6, learning_rate=0.5 -  35.6s[CV] max_depth=6, learning_rate=0.2 ..................................\n",
      "[CV] max_depth=6, learning_rate=1 ....................................\n",
      "[CV] ......................... max_depth=6, learning_rate=0.2 -  33.8s\n",
      "[CV] max_depth=6, learning_rate=0.5 ..................................\n",
      "[CV] ........................... max_depth=6, learning_rate=1 -  34.4s\n",
      "[CV] max_depth=6, learning_rate=0.2 ..................................\n",
      "[CV] ......................... max_depth=6, learning_rate=0.5 -  37.9s\n",
      "[CV] max_depth=6, learning_rate=1 ....................................\n",
      "\n",
      "[CV] ......................... max_depth=6, learning_rate=0.2 -  35.2s[CV] ........................... max_depth=6, learning_rate=1 -  33.1s[CV] max_depth=6, learning_rate=0.5 ..................................\n",
      "\n",
      "\n",
      "[CV] ......................... max_depth=6, learning_rate=0.5 -  37.1s[CV] max_depth=9, learning_rate=0.2 ..................................[CV] max_depth=6, learning_rate=1 ....................................\n",
      "\n",
      "\n",
      "[CV] ........................... max_depth=6, learning_rate=1 -  32.1s[CV] max_depth=9, learning_rate=0.5 ..................................[CV] ......................... max_depth=9, learning_rate=0.2 - 3.1min\n",
      "\n",
      "\n",
      "[CV] max_depth=9, learning_rate=1 ....................................\n",
      "[CV] ......................... max_depth=9, learning_rate=0.5 - 3.2min[CV] max_depth=9, learning_rate=0.2 ..................................[CV] ........................... max_depth=9, learning_rate=1 - 2.6min\n",
      "\n",
      "\n",
      "[CV] max_depth=9, learning_rate=0.5 ..................................[CV] ......................... max_depth=9, learning_rate=0.2 - 3.0min[CV] max_depth=9, learning_rate=1 ....................................\n",
      "\n",
      "\n",
      "[CV] ......................... max_depth=9, learning_rate=0.5 - 2.9min[CV] max_depth=9, learning_rate=0.2 ..................................[CV] ........................... max_depth=9, learning_rate=1 - 2.4min\n",
      "\n",
      "\n",
      "[CV] max_depth=9, learning_rate=0.5 ..................................\n",
      "[CV] ......................... max_depth=9, learning_rate=0.2 - 2.8min[CV] max_depth=9, learning_rate=1 ....................................\n",
      "[CV] ......................... max_depth=9, learning_rate=0.5 - 2.8min\n",
      "[CV] ........................... max_depth=9, learning_rate=1 - 2.7min\n",
      "[CV] max_depth=12, learning_rate=0.2 .................................\n",
      "[CV] max_depth=12, learning_rate=0.5 .................................\n",
      "[CV] max_depth=12, learning_rate=1 ...................................\n",
      "[CV] ........................ max_depth=12, learning_rate=0.2 -14.4min\n",
      "[CV] ........................ max_depth=12, learning_rate=0.5 -12.5min\n",
      "[CV] .......................... max_depth=12, learning_rate=1 - 9.4min\n",
      "[CV] max_depth=12, learning_rate=0.5 .................................\n",
      "[CV] max_depth=12, learning_rate=1 ...................................\n",
      "\n",
      "[CV] ........................ max_depth=12, learning_rate=0.5 -13.4min[CV] .......................... max_depth=12, learning_rate=1 - 9.8min\n",
      "\n"
     ]
    },
    {
     "data": {
      "text/plain": [
       "GridSearchCV(cv=None, error_score='raise',\n",
       "       estimator=GradientBoostingRegressor(alpha=0.9, criterion='friedman_mse', init=None,\n",
       "             learning_rate=0.1, loss='ls', max_depth=3, max_features=None,\n",
       "             max_leaf_nodes=None, min_impurity_split=1e-07,\n",
       "             min_samples_leaf=1, min_samples_split=2,\n",
       "             min_weight_fraction_leaf=0.0, n_estimators=7, presort='auto',\n",
       "             random_state=None, subsample=1.0, verbose=0, warm_start=False),\n",
       "       fit_params={}, iid=True, n_jobs=-1,\n",
       "       param_grid={'max_depth': [3, 6, 9, 12], 'learning_rate': [0.1, 0.2, 0.5, 1]},\n",
       "       pre_dispatch='2*n_jobs', refit=True, scoring=None, verbose=2)"
      ]
     },
     "execution_count": 136,
     "metadata": {},
     "output_type": "execute_result"
    }
   ],
   "source": [
    "from sklearn import grid_search\n",
    "from sklearn.ensemble import GradientBoostingRegressor\n",
    "GBR = GradientBoostingRegressor(n_estimators=7)\n",
    "parameters = {'learning_rate': [0.1, 0.2, 0.5, 1],'max_depth':[3,6,9,12]}\n",
    "model_cv_grid = grid_search.GridSearchCV(GBR, parameters, cv=5, verbose=2, n_jobs=-1)\n",
    "model_cv_grid.fit(X_train,y_train)"
   ]
  },
  {
   "cell_type": "code",
   "execution_count": 137,
   "metadata": {
    "collapsed": false
   },
   "outputs": [
    {
     "data": {
      "text/plain": [
       "[mean: 0.06893, std: 0.00056, params: {'max_depth': 3, 'learning_rate': 0.1},\n",
       " mean: 0.11537, std: 0.00029, params: {'max_depth': 6, 'learning_rate': 0.1},\n",
       " mean: 0.15860, std: 0.00083, params: {'max_depth': 9, 'learning_rate': 0.1},\n",
       " mean: 0.20667, std: 0.00047, params: {'max_depth': 12, 'learning_rate': 0.1},\n",
       " mean: 0.09966, std: 0.00121, params: {'max_depth': 3, 'learning_rate': 0.2},\n",
       " mean: 0.15780, std: 0.00094, params: {'max_depth': 6, 'learning_rate': 0.2},\n",
       " mean: 0.21902, std: 0.00115, params: {'max_depth': 9, 'learning_rate': 0.2},\n",
       " mean: 0.27478, std: 0.00056, params: {'max_depth': 12, 'learning_rate': 0.2},\n",
       " mean: 0.14081, std: 0.00111, params: {'max_depth': 3, 'learning_rate': 0.5},\n",
       " mean: 0.21807, std: 0.00640, params: {'max_depth': 6, 'learning_rate': 0.5},\n",
       " mean: 0.27859, std: 0.00142, params: {'max_depth': 9, 'learning_rate': 0.5},\n",
       " mean: 0.30745, std: 0.00295, params: {'max_depth': 12, 'learning_rate': 0.5},\n",
       " mean: 0.14990, std: 0.00471, params: {'max_depth': 3, 'learning_rate': 1},\n",
       " mean: 0.23659, std: 0.00355, params: {'max_depth': 6, 'learning_rate': 1},\n",
       " mean: 0.27505, std: 0.00057, params: {'max_depth': 9, 'learning_rate': 1},\n",
       " mean: 0.21049, std: 0.00180, params: {'max_depth': 12, 'learning_rate': 1}]"
      ]
     },
     "execution_count": 137,
     "metadata": {},
     "output_type": "execute_result"
    }
   ],
   "source": [
    "model_cv_grid.grid_scores_"
   ]
  },
  {
   "cell_type": "code",
   "execution_count": 138,
   "metadata": {
    "collapsed": false
   },
   "outputs": [
    {
     "data": {
      "text/plain": [
       "GradientBoostingRegressor(alpha=0.9, criterion='friedman_mse', init=None,\n",
       "             learning_rate=0.5, loss='ls', max_depth=12, max_features=None,\n",
       "             max_leaf_nodes=None, min_impurity_split=1e-07,\n",
       "             min_samples_leaf=1, min_samples_split=2,\n",
       "             min_weight_fraction_leaf=0.0, n_estimators=7, presort='auto',\n",
       "             random_state=None, subsample=1.0, verbose=0, warm_start=False)"
      ]
     },
     "execution_count": 138,
     "metadata": {},
     "output_type": "execute_result"
    }
   ],
   "source": [
    "best_GBR_model = model_cv_grid.best_estimator_\n",
    "best_GBR_model"
   ]
  },
  {
   "cell_type": "code",
   "execution_count": 139,
   "metadata": {
    "collapsed": false
   },
   "outputs": [
    {
     "name": "stdout",
     "output_type": "stream",
     "text": [
      "(0.20153252244023914, 0.31882707699399238)\n"
     ]
    }
   ],
   "source": [
    "best_GBR_model.fit(X_train, y_train)\n",
    "predictedY = best_GBR_model.predict(X_test)\n",
    "print (R_squared(predictedY, y_test))"
   ]
  },
  {
   "cell_type": "markdown",
   "metadata": {},
   "source": [
    "We can see the gradient-boosting-regression gives results close to the decision-tree-regression, but still slightly worse than the random-forest-regression. Thus in the non-linear models, the random-forest-regression has the best performance."
   ]
  },
  {
   "cell_type": "markdown",
   "metadata": {},
   "source": [
    "### **A-4 (b): Feature selection**\n",
    "\n",
    "In this subsection, I will select important features to train models. From the eta correlations, **traffic_source**, **country** and **device** are more important than **date** and **hour**. For numeric features, our benchmark results show **RESPONSES** is not much relevant (I did try consider **RESPONSES** to train models and have slightly worse performance than that without the feature). So in the follwoing we only consider 4 features: **traffic_source**, **country**, **device** and **PUBLISHER_BID** to build models."
   ]
  },
  {
   "cell_type": "code",
   "execution_count": 172,
   "metadata": {
    "collapsed": false
   },
   "outputs": [
    {
     "data": {
      "text/html": [
       "<div>\n",
       "<table border=\"1\" class=\"dataframe\">\n",
       "  <thead>\n",
       "    <tr style=\"text-align: right;\">\n",
       "      <th></th>\n",
       "      <th>TRAFFIC_SOURCE</th>\n",
       "      <th>DEVICE_SUBTYPE</th>\n",
       "      <th>COUNTRY_ID</th>\n",
       "      <th>PUBLISHER_BID</th>\n",
       "    </tr>\n",
       "  </thead>\n",
       "  <tbody>\n",
       "    <tr>\n",
       "      <th>0</th>\n",
       "      <td>66686962</td>\n",
       "      <td>10025</td>\n",
       "      <td>9</td>\n",
       "      <td>0.00743</td>\n",
       "    </tr>\n",
       "    <tr>\n",
       "      <th>1</th>\n",
       "      <td>66686962</td>\n",
       "      <td>22</td>\n",
       "      <td>27</td>\n",
       "      <td>0.00743</td>\n",
       "    </tr>\n",
       "    <tr>\n",
       "      <th>2</th>\n",
       "      <td>66686962</td>\n",
       "      <td>22</td>\n",
       "      <td>9</td>\n",
       "      <td>0.00743</td>\n",
       "    </tr>\n",
       "    <tr>\n",
       "      <th>3</th>\n",
       "      <td>66686962</td>\n",
       "      <td>22</td>\n",
       "      <td>9</td>\n",
       "      <td>0.01486</td>\n",
       "    </tr>\n",
       "    <tr>\n",
       "      <th>4</th>\n",
       "      <td>66686962</td>\n",
       "      <td>22</td>\n",
       "      <td>77</td>\n",
       "      <td>0.01486</td>\n",
       "    </tr>\n",
       "  </tbody>\n",
       "</table>\n",
       "</div>"
      ],
      "text/plain": [
       "   TRAFFIC_SOURCE  DEVICE_SUBTYPE  COUNTRY_ID  PUBLISHER_BID\n",
       "0        66686962           10025           9        0.00743\n",
       "1        66686962              22          27        0.00743\n",
       "2        66686962              22           9        0.00743\n",
       "3        66686962              22           9        0.01486\n",
       "4        66686962              22          77        0.01486"
      ]
     },
     "execution_count": 172,
     "metadata": {},
     "output_type": "execute_result"
    }
   ],
   "source": [
    "X = data.iloc[:,[3,4,5,6]]\n",
    "y = data.iloc[:,8]\n",
    "X.head()"
   ]
  },
  {
   "cell_type": "code",
   "execution_count": 173,
   "metadata": {
    "collapsed": true
   },
   "outputs": [],
   "source": [
    "from sklearn.cross_validation import cross_val_score, train_test_split\n",
    "X_train, X_test, y_train, y_test = train_test_split(X, y, test_size=0.2)\n",
    "X_train.shape, y_train.shape\n",
    "y_test = y_test.tolist()"
   ]
  },
  {
   "cell_type": "code",
   "execution_count": 174,
   "metadata": {
    "collapsed": false
   },
   "outputs": [
    {
     "name": "stdout",
     "output_type": "stream",
     "text": [
      "Fitting 5 folds for each of 40 candidates, totalling 200 fits\n"
     ]
    },
    {
     "name": "stderr",
     "output_type": "stream",
     "text": [
      "[Parallel(n_jobs=-1)]: Done  33 tasks      | elapsed:   35.7s\n",
      "[Parallel(n_jobs=-1)]: Done 154 tasks      | elapsed:  3.9min\n",
      "[Parallel(n_jobs=-1)]: Done 200 out of 200 | elapsed:  5.3min finished\n"
     ]
    },
    {
     "name": "stdout",
     "output_type": "stream",
     "text": [
      "[CV] n_estimators=2, max_depth=5, min_samples_leaf=5 .................\n",
      "[CV] n_estimators=2, max_depth=5, min_samples_leaf=5 .................\n",
      "[CV] n_estimators=2, max_depth=5, min_samples_leaf=5 .................\n",
      "[CV] n_estimators=2, max_depth=5, min_samples_leaf=5 .................\n",
      "[CV] ........ n_estimators=2, max_depth=5, min_samples_leaf=5 -   3.6s[CV] ........ n_estimators=2, max_depth=5, min_samples_leaf=5 -   3.8s[CV] ........ n_estimators=2, max_depth=5, min_samples_leaf=5 -   3.8s[CV] ........ n_estimators=2, max_depth=5, min_samples_leaf=5 -   3.9s\n",
      "\n",
      "\n",
      "\n",
      "[CV] n_estimators=2, max_depth=5, min_samples_leaf=5 .................[CV] n_estimators=4, max_depth=5, min_samples_leaf=5 .................\n",
      "[CV] n_estimators=4, max_depth=5, min_samples_leaf=5 .................[CV] n_estimators=4, max_depth=5, min_samples_leaf=5 .................\n",
      "\n",
      "[CV] ........ n_estimators=4, max_depth=5, min_samples_leaf=5 -   4.6s\n",
      "[CV] ........ n_estimators=4, max_depth=5, min_samples_leaf=5 -   4.5s[CV] ........ n_estimators=2, max_depth=5, min_samples_leaf=5 -   3.1s\n",
      "[CV] ........ n_estimators=4, max_depth=5, min_samples_leaf=5 -   4.5s\n",
      "\n",
      "[CV] n_estimators=4, max_depth=5, min_samples_leaf=5 .................\n",
      "\n",
      "[CV] n_estimators=2, max_depth=5, min_samples_leaf=10 ................\n",
      "[CV] n_estimators=4, max_depth=5, min_samples_leaf=5 .................\n",
      "[CV] ........ n_estimators=4, max_depth=5, min_samples_leaf=5 -   4.4s[CV] n_estimators=2, max_depth=5, min_samples_leaf=10 ................\n",
      "[CV] ....... n_estimators=2, max_depth=5, min_samples_leaf=10 -   2.8s[CV] ........ n_estimators=4, max_depth=5, min_samples_leaf=5 -   4.0s\n",
      "[CV] ....... n_estimators=2, max_depth=5, min_samples_leaf=10 -   2.8s\n",
      "\n",
      "[CV] n_estimators=4, max_depth=5, min_samples_leaf=10 ................\n",
      "\n",
      "[CV] n_estimators=2, max_depth=5, min_samples_leaf=10 ................\n",
      "[CV] n_estimators=2, max_depth=5, min_samples_leaf=10 ................\n",
      "[CV] ....... n_estimators=4, max_depth=5, min_samples_leaf=10 -   5.7s[CV] n_estimators=2, max_depth=5, min_samples_leaf=10 ................\n",
      "[CV] ....... n_estimators=2, max_depth=5, min_samples_leaf=10 -   3.1s[CV] ....... n_estimators=2, max_depth=5, min_samples_leaf=10 -   3.2s\n",
      "[CV] ....... n_estimators=2, max_depth=5, min_samples_leaf=10 -   3.3s\n",
      "\n",
      "[CV] n_estimators=4, max_depth=5, min_samples_leaf=10 ................\n",
      "[CV] n_estimators=4, max_depth=5, min_samples_leaf=10 ................\n",
      "[CV] n_estimators=4, max_depth=5, min_samples_leaf=10 ................\n",
      "\n",
      "[CV] n_estimators=4, max_depth=5, min_samples_leaf=10 ................\n",
      "[CV] ....... n_estimators=4, max_depth=5, min_samples_leaf=10 -   6.1s[CV] ....... n_estimators=4, max_depth=5, min_samples_leaf=10 -   5.9s[CV] ....... n_estimators=4, max_depth=5, min_samples_leaf=10 -   4.7s[CV] ....... n_estimators=4, max_depth=5, min_samples_leaf=10 -   5.9s\n",
      "\n",
      "\n",
      "\n",
      "[CV] n_estimators=2, max_depth=5, min_samples_leaf=20 ................\n",
      "[CV] n_estimators=2, max_depth=5, min_samples_leaf=20 ................\n",
      "[CV] n_estimators=2, max_depth=5, min_samples_leaf=20 ................\n",
      "[CV] n_estimators=2, max_depth=5, min_samples_leaf=20 ................\n",
      "[CV] ....... n_estimators=2, max_depth=5, min_samples_leaf=20 -   3.0s[CV] ....... n_estimators=2, max_depth=5, min_samples_leaf=20 -   3.0s[CV] ....... n_estimators=2, max_depth=5, min_samples_leaf=20 -   3.2s[CV] ....... n_estimators=2, max_depth=5, min_samples_leaf=20 -   3.1s\n",
      "\n",
      "\n",
      "\n",
      "[CV] n_estimators=4, max_depth=5, min_samples_leaf=20 ................[CV] n_estimators=2, max_depth=5, min_samples_leaf=20 ................\n",
      "[CV] n_estimators=4, max_depth=5, min_samples_leaf=20 ................\n",
      "[CV] n_estimators=4, max_depth=5, min_samples_leaf=20 ................\n",
      "\n",
      "[CV] ....... n_estimators=2, max_depth=5, min_samples_leaf=20 -   3.1s[CV] ....... n_estimators=4, max_depth=5, min_samples_leaf=20 -   5.3s[CV] ....... n_estimators=4, max_depth=5, min_samples_leaf=20 -   5.1s[CV] ....... n_estimators=4, max_depth=5, min_samples_leaf=20 -   5.2s\n",
      "\n",
      "\n",
      "\n",
      "[CV] n_estimators=4, max_depth=5, min_samples_leaf=20 ................[CV] n_estimators=2, max_depth=5, min_samples_leaf=30 ................\n",
      "[CV] n_estimators=4, max_depth=5, min_samples_leaf=20 ................\n",
      "[CV] n_estimators=2, max_depth=5, min_samples_leaf=30 ................\n",
      "\n",
      "[CV] ....... n_estimators=2, max_depth=5, min_samples_leaf=30 -   3.2s[CV] ....... n_estimators=4, max_depth=5, min_samples_leaf=20 -   4.8s[CV] ....... n_estimators=2, max_depth=5, min_samples_leaf=30 -   3.4s[CV] ....... n_estimators=4, max_depth=5, min_samples_leaf=20 -   5.2s\n",
      "\n",
      "\n",
      "\n",
      "[CV] n_estimators=4, max_depth=5, min_samples_leaf=30 ................\n",
      "[CV] n_estimators=2, max_depth=5, min_samples_leaf=30 ................[CV] n_estimators=2, max_depth=5, min_samples_leaf=30 ................\n",
      "[CV] n_estimators=2, max_depth=5, min_samples_leaf=30 ................[CV] ....... n_estimators=4, max_depth=5, min_samples_leaf=30 -   6.2s\n",
      "[CV] ....... n_estimators=2, max_depth=5, min_samples_leaf=30 -   3.2s\n",
      "\n",
      "[CV] ....... n_estimators=2, max_depth=5, min_samples_leaf=30 -   3.5s\n",
      "[CV] ....... n_estimators=2, max_depth=5, min_samples_leaf=30 -   3.2s[CV] n_estimators=2, max_depth=15, min_samples_leaf=5 ................\n",
      "\n",
      "[CV] n_estimators=4, max_depth=5, min_samples_leaf=30 ................\n",
      "[CV] ....... n_estimators=2, max_depth=15, min_samples_leaf=5 -   4.6s[CV] n_estimators=4, max_depth=5, min_samples_leaf=30 ................\n",
      "\n",
      "[CV] n_estimators=4, max_depth=5, min_samples_leaf=30 ................\n",
      "[CV] ....... n_estimators=4, max_depth=5, min_samples_leaf=30 -   5.7s[CV] ....... n_estimators=4, max_depth=5, min_samples_leaf=30 -   5.9s\n",
      "[CV] n_estimators=2, max_depth=15, min_samples_leaf=5 ................\n",
      "\n",
      "\n",
      "[CV] ....... n_estimators=4, max_depth=5, min_samples_leaf=30 -   6.1s[CV] ....... n_estimators=2, max_depth=15, min_samples_leaf=5 -   6.3s[CV] n_estimators=2, max_depth=15, min_samples_leaf=5 ................[CV] n_estimators=2, max_depth=15, min_samples_leaf=5 ................\n",
      "\n",
      "\n",
      "\n",
      "[CV] ....... n_estimators=2, max_depth=15, min_samples_leaf=5 -   4.6s[CV] n_estimators=4, max_depth=5, min_samples_leaf=30 ................[CV] n_estimators=4, max_depth=15, min_samples_leaf=5 ................\n",
      "[CV] ....... n_estimators=2, max_depth=15, min_samples_leaf=5 -   4.2s\n",
      "\n",
      "[CV] ....... n_estimators=4, max_depth=15, min_samples_leaf=5 -  11.8s\n",
      "[CV] n_estimators=4, max_depth=15, min_samples_leaf=5 ................\n",
      "[CV] ....... n_estimators=4, max_depth=5, min_samples_leaf=30 -   4.5s\n",
      "[CV] n_estimators=4, max_depth=15, min_samples_leaf=5 ................\n",
      "[CV] ....... n_estimators=4, max_depth=15, min_samples_leaf=5 -  11.8s\n",
      "[CV] n_estimators=2, max_depth=15, min_samples_leaf=10 ...............[CV] ....... n_estimators=4, max_depth=15, min_samples_leaf=5 -  12.5s\n",
      "[CV] n_estimators=2, max_depth=15, min_samples_leaf=5 ................\n",
      "\n",
      "[CV] n_estimators=4, max_depth=15, min_samples_leaf=5 ................\n",
      "[CV] ...... n_estimators=2, max_depth=15, min_samples_leaf=10 -   6.0s[CV] n_estimators=2, max_depth=15, min_samples_leaf=10 ...............\n",
      "[CV] ....... n_estimators=2, max_depth=15, min_samples_leaf=5 -   5.8s\n",
      "\n",
      "[CV] ....... n_estimators=4, max_depth=15, min_samples_leaf=5 -  10.8s\n",
      "[CV] n_estimators=4, max_depth=15, min_samples_leaf=10 ...............\n",
      "[CV] ...... n_estimators=2, max_depth=15, min_samples_leaf=10 -   6.0s\n",
      "[CV] n_estimators=4, max_depth=15, min_samples_leaf=5 ................[CV] ...... n_estimators=4, max_depth=15, min_samples_leaf=10 -   8.3s\n",
      "[CV] n_estimators=2, max_depth=15, min_samples_leaf=10 ...............\n",
      "\n",
      "[CV] n_estimators=2, max_depth=15, min_samples_leaf=10 ...............\n",
      "[CV] ....... n_estimators=4, max_depth=15, min_samples_leaf=5 -  12.1s[CV] n_estimators=2, max_depth=15, min_samples_leaf=20 ...............\n",
      "[CV] ...... n_estimators=2, max_depth=15, min_samples_leaf=10 -   4.7s\n",
      "\n",
      "[CV] ...... n_estimators=2, max_depth=15, min_samples_leaf=10 -   5.6s\n",
      "[CV] n_estimators=2, max_depth=15, min_samples_leaf=10 ...............\n",
      "[CV] ...... n_estimators=2, max_depth=15, min_samples_leaf=20 -   4.4s\n",
      "[CV] n_estimators=4, max_depth=15, min_samples_leaf=10 ...............\n",
      "[CV] ...... n_estimators=2, max_depth=15, min_samples_leaf=10 -   6.1s\n",
      "[CV] n_estimators=4, max_depth=15, min_samples_leaf=10 ...............\n",
      "[CV] ...... n_estimators=4, max_depth=15, min_samples_leaf=10 -   7.9s\n",
      "[CV] n_estimators=2, max_depth=15, min_samples_leaf=20 ...............\n",
      "[CV] ...... n_estimators=4, max_depth=15, min_samples_leaf=10 -   8.1s\n",
      "[CV] n_estimators=4, max_depth=15, min_samples_leaf=10 ...............\n",
      "[CV] ...... n_estimators=2, max_depth=15, min_samples_leaf=20 -   4.3s\n",
      "[CV] n_estimators=2, max_depth=15, min_samples_leaf=20 ...............[CV] ...... n_estimators=4, max_depth=15, min_samples_leaf=10 -   8.4s\n",
      "[CV] n_estimators=2, max_depth=15, min_samples_leaf=20 ...............\n",
      "\n",
      "\n",
      "[CV] n_estimators=4, max_depth=15, min_samples_leaf=20 ...............\n",
      "[CV] ...... n_estimators=2, max_depth=15, min_samples_leaf=20 -   4.4s[CV] ...... n_estimators=2, max_depth=15, min_samples_leaf=20 -   4.2s[CV] n_estimators=4, max_depth=15, min_samples_leaf=10 ...............[CV] ...... n_estimators=4, max_depth=15, min_samples_leaf=20 -   7.5s\n",
      "\n",
      "\n",
      "\n",
      "[CV] n_estimators=2, max_depth=15, min_samples_leaf=20 ...............\n",
      "[CV] n_estimators=4, max_depth=15, min_samples_leaf=20 ...............\n",
      "[CV] ...... n_estimators=4, max_depth=15, min_samples_leaf=10 -   7.2s[CV] n_estimators=2, max_depth=15, min_samples_leaf=30 ...............\n",
      "[CV] ...... n_estimators=2, max_depth=15, min_samples_leaf=20 -   4.3s[CV] ...... n_estimators=4, max_depth=15, min_samples_leaf=20 -   7.5s\n",
      "[CV] ...... n_estimators=2, max_depth=15, min_samples_leaf=30 -   4.4s\n",
      "\n",
      "[CV] n_estimators=4, max_depth=15, min_samples_leaf=20 ...............\n",
      "\n",
      "[CV] n_estimators=4, max_depth=15, min_samples_leaf=20 ...............\n",
      "[CV] n_estimators=2, max_depth=15, min_samples_leaf=30 ...............\n",
      "[CV] ...... n_estimators=4, max_depth=15, min_samples_leaf=20 -   7.5s[CV] n_estimators=2, max_depth=15, min_samples_leaf=30 ...............\n",
      "[CV] ...... n_estimators=4, max_depth=15, min_samples_leaf=20 -   7.7s[CV] ...... n_estimators=2, max_depth=15, min_samples_leaf=30 -   4.2s\n",
      "[CV] ...... n_estimators=2, max_depth=15, min_samples_leaf=30 -   4.4s\n",
      "\n",
      "[CV] n_estimators=4, max_depth=15, min_samples_leaf=20 ...............\n",
      "[CV] n_estimators=2, max_depth=15, min_samples_leaf=30 ...............\n",
      "[CV] n_estimators=2, max_depth=15, min_samples_leaf=30 ...............\n",
      "\n",
      "[CV] n_estimators=4, max_depth=15, min_samples_leaf=30 ...............\n",
      "[CV] ...... n_estimators=2, max_depth=15, min_samples_leaf=30 -   4.3s[CV] ...... n_estimators=2, max_depth=15, min_samples_leaf=30 -   3.9s[CV] ...... n_estimators=4, max_depth=15, min_samples_leaf=20 -   7.2s[CV] ...... n_estimators=4, max_depth=15, min_samples_leaf=30 -   7.2s\n",
      "\n",
      "\n",
      "\n",
      "[CV] n_estimators=4, max_depth=15, min_samples_leaf=30 ...............\n",
      "[CV] n_estimators=4, max_depth=15, min_samples_leaf=30 ...............\n",
      "[CV] n_estimators=4, max_depth=15, min_samples_leaf=30 ...............\n",
      "[CV] n_estimators=2, max_depth=20, min_samples_leaf=5 ................\n",
      "[CV] ...... n_estimators=4, max_depth=15, min_samples_leaf=30 -   7.4s[CV] ...... n_estimators=4, max_depth=15, min_samples_leaf=30 -   7.4s"
     ]
    },
    {
     "data": {
      "text/plain": [
       "GridSearchCV(cv=5, error_score='raise',\n",
       "       estimator=RandomForestRegressor(bootstrap=True, criterion='mse', max_depth=None,\n",
       "           max_features='auto', max_leaf_nodes=None,\n",
       "           min_impurity_split=1e-07, min_samples_leaf=1,\n",
       "           min_samples_split=2, min_weight_fraction_leaf=0.0,\n",
       "           n_estimators=10, n_jobs=1, oob_score=False, random_state=None,\n",
       "           verbose=0, warm_start=False),\n",
       "       fit_params={}, iid=True, n_jobs=-1,\n",
       "       param_grid={'n_estimators': [2, 4], 'max_depth': [5, 15, 20, 25, 30], 'min_samples_leaf': [5, 10, 20, 30]},\n",
       "       pre_dispatch='2*n_jobs', refit=True, scoring=None, verbose=2)"
      ]
     },
     "execution_count": 174,
     "metadata": {},
     "output_type": "execute_result"
    },
    {
     "name": "stdout",
     "output_type": "stream",
     "text": [
      "[CV] ...... n_estimators=4, max_depth=15, min_samples_leaf=30 -   7.6s[CV] ....... n_estimators=2, max_depth=20, min_samples_leaf=5 -   4.5s\n",
      "\n",
      "\n",
      "\n",
      "[CV] n_estimators=2, max_depth=20, min_samples_leaf=5 ................\n",
      "[CV] n_estimators=2, max_depth=20, min_samples_leaf=5 ................\n",
      "[CV] n_estimators=4, max_depth=15, min_samples_leaf=30 ...............\n",
      "[CV] n_estimators=4, max_depth=20, min_samples_leaf=5 ................\n",
      "[CV] ....... n_estimators=2, max_depth=20, min_samples_leaf=5 -   4.6s[CV] ....... n_estimators=2, max_depth=20, min_samples_leaf=5 -   4.6s[CV] ...... n_estimators=4, max_depth=15, min_samples_leaf=30 -   7.1s[CV] ....... n_estimators=4, max_depth=20, min_samples_leaf=5 -   8.0s\n",
      "\n",
      "\n",
      "\n",
      "[CV] n_estimators=2, max_depth=20, min_samples_leaf=5 ................\n",
      "[CV] n_estimators=2, max_depth=20, min_samples_leaf=5 ................\n",
      "[CV] n_estimators=4, max_depth=20, min_samples_leaf=5 ................\n",
      "[CV] n_estimators=2, max_depth=20, min_samples_leaf=10 ...............\n",
      "[CV] ....... n_estimators=2, max_depth=20, min_samples_leaf=5 -   4.5s[CV] ....... n_estimators=2, max_depth=20, min_samples_leaf=5 -   4.5s[CV] ....... n_estimators=4, max_depth=20, min_samples_leaf=5 -   8.0s[CV] ...... n_estimators=2, max_depth=20, min_samples_leaf=10 -   4.6s\n",
      "\n",
      "\n",
      "\n",
      "[CV] n_estimators=4, max_depth=20, min_samples_leaf=5 ................\n",
      "[CV] n_estimators=4, max_depth=20, min_samples_leaf=5 ................\n",
      "[CV] n_estimators=4, max_depth=20, min_samples_leaf=5 ................\n",
      "[CV] n_estimators=2, max_depth=20, min_samples_leaf=10 ...............\n",
      "[CV] ....... n_estimators=4, max_depth=20, min_samples_leaf=5 -   8.0s[CV] ....... n_estimators=4, max_depth=20, min_samples_leaf=5 -   7.9s[CV] ....... n_estimators=4, max_depth=20, min_samples_leaf=5 -   7.8s[CV] ...... n_estimators=2, max_depth=20, min_samples_leaf=10 -   4.3s\n",
      "\n",
      "\n",
      "\n",
      "[CV] n_estimators=2, max_depth=20, min_samples_leaf=10 ...............\n",
      "[CV] n_estimators=2, max_depth=20, min_samples_leaf=10 ...............\n",
      "[CV] n_estimators=4, max_depth=20, min_samples_leaf=10 ...............\n",
      "[CV] n_estimators=4, max_depth=20, min_samples_leaf=10 ...............\n",
      "[CV] ...... n_estimators=2, max_depth=20, min_samples_leaf=10 -   4.6s[CV] ...... n_estimators=2, max_depth=20, min_samples_leaf=10 -   4.6s[CV] ...... n_estimators=4, max_depth=20, min_samples_leaf=10 -   8.3s[CV] ...... n_estimators=4, max_depth=20, min_samples_leaf=10 -   7.7s\n",
      "\n",
      "\n",
      "\n",
      "[CV] n_estimators=2, max_depth=20, min_samples_leaf=10 ...............\n",
      "[CV] n_estimators=4, max_depth=20, min_samples_leaf=10 ...............\n",
      "[CV] n_estimators=4, max_depth=20, min_samples_leaf=10 ...............[CV] n_estimators=2, max_depth=20, min_samples_leaf=20 ...............\n",
      "[CV] ...... n_estimators=2, max_depth=20, min_samples_leaf=10 -   4.5s[CV] ...... n_estimators=4, max_depth=20, min_samples_leaf=10 -   8.0s\n",
      "[CV] ...... n_estimators=2, max_depth=20, min_samples_leaf=20 -   4.9s\n",
      "\n",
      "[CV] ...... n_estimators=4, max_depth=20, min_samples_leaf=10 -   8.7s\n",
      "[CV] n_estimators=4, max_depth=20, min_samples_leaf=10 ...............\n",
      "[CV] n_estimators=2, max_depth=20, min_samples_leaf=20 ...............\n",
      "\n",
      "[CV] n_estimators=2, max_depth=20, min_samples_leaf=20 ...............\n",
      "[CV] ...... n_estimators=4, max_depth=20, min_samples_leaf=10 -   7.8s[CV] ...... n_estimators=2, max_depth=20, min_samples_leaf=20 -   4.7s[CV] n_estimators=4, max_depth=20, min_samples_leaf=20 ...............\n",
      "[CV] ...... n_estimators=2, max_depth=20, min_samples_leaf=20 -   5.9s\n",
      "\n",
      "[CV] ...... n_estimators=4, max_depth=20, min_samples_leaf=20 -  10.3s\n",
      "[CV] n_estimators=2, max_depth=20, min_samples_leaf=20 ...............\n",
      "[CV] n_estimators=2, max_depth=20, min_samples_leaf=20 ...............\n",
      "\n",
      "[CV] n_estimators=4, max_depth=20, min_samples_leaf=20 ...............\n",
      "[CV] ...... n_estimators=2, max_depth=20, min_samples_leaf=20 -   5.4s[CV] ...... n_estimators=2, max_depth=20, min_samples_leaf=20 -   5.7s[CV] n_estimators=2, max_depth=20, min_samples_leaf=30 ...............\n",
      "[CV] ...... n_estimators=4, max_depth=20, min_samples_leaf=20 -   9.4s\n",
      "\n",
      "[CV] ...... n_estimators=2, max_depth=20, min_samples_leaf=30 -   5.4s\n",
      "[CV] n_estimators=4, max_depth=20, min_samples_leaf=20 ...............\n",
      "[CV] n_estimators=4, max_depth=20, min_samples_leaf=20 ...............\n",
      "\n",
      "[CV] n_estimators=2, max_depth=20, min_samples_leaf=30 ...............\n",
      "[CV] ...... n_estimators=4, max_depth=20, min_samples_leaf=20 -  10.2s[CV] ...... n_estimators=4, max_depth=20, min_samples_leaf=20 -   9.7s[CV] n_estimators=2, max_depth=20, min_samples_leaf=30 ...............\n",
      "[CV] ...... n_estimators=2, max_depth=20, min_samples_leaf=30 -   4.8s\n",
      "\n",
      "[CV] ...... n_estimators=2, max_depth=20, min_samples_leaf=30 -   4.5s\n",
      "[CV] n_estimators=4, max_depth=20, min_samples_leaf=20 ...............[CV] n_estimators=2, max_depth=20, min_samples_leaf=30 ...............\n",
      "\n",
      "[CV] n_estimators=4, max_depth=20, min_samples_leaf=30 ...............\n",
      "\n",
      "[CV] ...... n_estimators=2, max_depth=20, min_samples_leaf=30 -   5.2s[CV] n_estimators=4, max_depth=20, min_samples_leaf=30 ...............\n",
      "[CV] ...... n_estimators=4, max_depth=20, min_samples_leaf=30 -   8.0s[CV] ...... n_estimators=4, max_depth=20, min_samples_leaf=20 -   8.6s\n",
      "[CV] ...... n_estimators=4, max_depth=20, min_samples_leaf=30 -   7.8s\n",
      "\n",
      "[CV] n_estimators=2, max_depth=20, min_samples_leaf=30 ...............\n",
      "\n",
      "[CV] n_estimators=4, max_depth=20, min_samples_leaf=30 ...............\n",
      "[CV] n_estimators=4, max_depth=20, min_samples_leaf=30 ...............\n",
      "[CV] ...... n_estimators=2, max_depth=20, min_samples_leaf=30 -   4.4s[CV] n_estimators=2, max_depth=25, min_samples_leaf=5 ................\n",
      "[CV] ...... n_estimators=4, max_depth=20, min_samples_leaf=30 -   7.7s[CV] ...... n_estimators=4, max_depth=20, min_samples_leaf=30 -   8.0s\n",
      "[CV] ....... n_estimators=2, max_depth=25, min_samples_leaf=5 -   4.6s\n",
      "\n",
      "[CV] n_estimators=4, max_depth=20, min_samples_leaf=30 ...............\n",
      "\n",
      "[CV] n_estimators=4, max_depth=25, min_samples_leaf=5 ................[CV] n_estimators=2, max_depth=25, min_samples_leaf=5 ................\n",
      "[CV] ...... n_estimators=4, max_depth=20, min_samples_leaf=30 -   7.8s[CV] n_estimators=2, max_depth=25, min_samples_leaf=5 ................\n",
      "\n",
      "[CV] ....... n_estimators=2, max_depth=25, min_samples_leaf=5 -   4.7s\n",
      "[CV] ....... n_estimators=2, max_depth=25, min_samples_leaf=5 -   4.5s[CV] ....... n_estimators=4, max_depth=25, min_samples_leaf=5 -   8.1s\n",
      "[CV] n_estimators=2, max_depth=25, min_samples_leaf=5 ................\n",
      "\n",
      "\n",
      "[CV] n_estimators=2, max_depth=25, min_samples_leaf=5 ................\n",
      "[CV] ....... n_estimators=2, max_depth=25, min_samples_leaf=5 -   4.7s[CV] n_estimators=4, max_depth=25, min_samples_leaf=5 ................\n",
      "[CV] n_estimators=2, max_depth=25, min_samples_leaf=10 ...............\n",
      "[CV] ....... n_estimators=2, max_depth=25, min_samples_leaf=5 -   4.6s\n",
      "[CV] ....... n_estimators=4, max_depth=25, min_samples_leaf=5 -   8.1s[CV] ...... n_estimators=2, max_depth=25, min_samples_leaf=10 -   4.6s\n",
      "[CV] n_estimators=4, max_depth=25, min_samples_leaf=5 ................\n",
      "\n",
      "\n",
      "[CV] n_estimators=4, max_depth=25, min_samples_leaf=5 ................[CV] ....... n_estimators=4, max_depth=25, min_samples_leaf=5 -   8.1s[CV] n_estimators=2, max_depth=25, min_samples_leaf=10 ...............\n",
      "[CV] n_estimators=2, max_depth=25, min_samples_leaf=10 ...............\n",
      "\n",
      "\n",
      "[CV] ...... n_estimators=2, max_depth=25, min_samples_leaf=10 -   4.5s[CV] ...... n_estimators=2, max_depth=25, min_samples_leaf=10 -   4.4s[CV] ....... n_estimators=4, max_depth=25, min_samples_leaf=5 -   8.1s[CV] n_estimators=4, max_depth=25, min_samples_leaf=5 ................\n",
      "\n",
      "\n",
      "\n",
      "[CV] ....... n_estimators=4, max_depth=25, min_samples_leaf=5 -   7.8s[CV] n_estimators=4, max_depth=25, min_samples_leaf=10 ...............\n",
      "[CV] n_estimators=4, max_depth=25, min_samples_leaf=10 ...............\n",
      "[CV] n_estimators=2, max_depth=25, min_samples_leaf=10 ...............\n",
      "\n",
      "[CV] ...... n_estimators=4, max_depth=25, min_samples_leaf=10 -   8.1s[CV] ...... n_estimators=4, max_depth=25, min_samples_leaf=10 -   8.0s[CV] ...... n_estimators=2, max_depth=25, min_samples_leaf=10 -   4.7s[CV] n_estimators=4, max_depth=25, min_samples_leaf=10 ...............\n",
      "\n",
      "\n",
      "\n",
      "[CV] ...... n_estimators=4, max_depth=25, min_samples_leaf=10 -   8.3s[CV] n_estimators=4, max_depth=25, min_samples_leaf=10 ...............\n",
      "[CV] n_estimators=2, max_depth=25, min_samples_leaf=20 ...............\n",
      "[CV] n_estimators=2, max_depth=25, min_samples_leaf=10 ...............\n",
      "\n",
      "[CV] ...... n_estimators=4, max_depth=25, min_samples_leaf=10 -   8.3s[CV] ...... n_estimators=2, max_depth=25, min_samples_leaf=20 -   5.1s[CV] ...... n_estimators=2, max_depth=25, min_samples_leaf=10 -   4.7s[CV] n_estimators=2, max_depth=25, min_samples_leaf=20 ...............\n",
      "\n",
      "\n",
      "\n",
      "[CV] ...... n_estimators=2, max_depth=25, min_samples_leaf=20 -   5.1s[CV] n_estimators=4, max_depth=25, min_samples_leaf=20 ...............\n",
      "[CV] n_estimators=2, max_depth=25, min_samples_leaf=20 ...............\n",
      "[CV] n_estimators=4, max_depth=25, min_samples_leaf=10 ...............\n",
      "[CV] ...... n_estimators=4, max_depth=25, min_samples_leaf=20 -   8.5s[CV] ...... n_estimators=2, max_depth=25, min_samples_leaf=20 -   4.4s\n",
      "[CV] n_estimators=2, max_depth=25, min_samples_leaf=20 ...............\n",
      "\n",
      "[CV] ...... n_estimators=4, max_depth=25, min_samples_leaf=10 -   7.9s\n",
      "[CV] n_estimators=2, max_depth=25, min_samples_leaf=30 ...............[CV] n_estimators=4, max_depth=25, min_samples_leaf=20 ...............\n",
      "[CV] ...... n_estimators=2, max_depth=25, min_samples_leaf=20 -   4.4s\n",
      "\n",
      "[CV] n_estimators=2, max_depth=25, min_samples_leaf=20 ...............\n",
      "\n",
      "[CV] ...... n_estimators=2, max_depth=25, min_samples_leaf=30 -   4.6s[CV] ...... n_estimators=4, max_depth=25, min_samples_leaf=20 -   8.4s[CV] ...... n_estimators=2, max_depth=25, min_samples_leaf=20 -   4.8s[CV] n_estimators=4, max_depth=25, min_samples_leaf=20 ...............\n",
      "\n",
      "\n",
      "\n",
      "[CV] ...... n_estimators=4, max_depth=25, min_samples_leaf=20 -   8.5s[CV] n_estimators=2, max_depth=25, min_samples_leaf=30 ...............\n",
      "[CV] n_estimators=2, max_depth=25, min_samples_leaf=30 ...............\n",
      "[CV] n_estimators=4, max_depth=25, min_samples_leaf=20 ...............\n",
      "\n",
      "[CV] ...... n_estimators=2, max_depth=25, min_samples_leaf=30 -   4.4s[CV] ...... n_estimators=2, max_depth=25, min_samples_leaf=30 -   4.5s[CV] ...... n_estimators=4, max_depth=25, min_samples_leaf=20 -   8.3s[CV] n_estimators=2, max_depth=25, min_samples_leaf=30 ...............\n",
      "\n",
      "\n",
      "\n",
      "[CV] ...... n_estimators=2, max_depth=25, min_samples_leaf=30 -   4.4s[CV] n_estimators=4, max_depth=25, min_samples_leaf=30 ...............\n",
      "[CV] n_estimators=4, max_depth=25, min_samples_leaf=30 ...............\n",
      "[CV] n_estimators=4, max_depth=25, min_samples_leaf=20 ...............\n",
      "\n",
      "[CV] ...... n_estimators=4, max_depth=25, min_samples_leaf=30 -   7.9s[CV] ...... n_estimators=4, max_depth=25, min_samples_leaf=30 -   7.9s[CV] ...... n_estimators=4, max_depth=25, min_samples_leaf=20 -   7.8s[CV] n_estimators=2, max_depth=25, min_samples_leaf=30 ...............\n",
      "\n",
      "\n",
      "\n",
      "[CV] ...... n_estimators=2, max_depth=25, min_samples_leaf=30 -   4.4s[CV] n_estimators=2, max_depth=30, min_samples_leaf=5 ................\n",
      "[CV] n_estimators=4, max_depth=25, min_samples_leaf=30 ...............\n",
      "[CV] n_estimators=4, max_depth=25, min_samples_leaf=30 ...............\n",
      "\n",
      "[CV] ....... n_estimators=2, max_depth=30, min_samples_leaf=5 -   4.9s[CV] ...... n_estimators=4, max_depth=25, min_samples_leaf=30 -   7.8s[CV] ...... n_estimators=4, max_depth=25, min_samples_leaf=30 -   8.0s[CV] n_estimators=4, max_depth=25, min_samples_leaf=30 ...............\n",
      "\n",
      "\n",
      "\n",
      "[CV] ...... n_estimators=4, max_depth=25, min_samples_leaf=30 -   7.8s[CV] n_estimators=2, max_depth=30, min_samples_leaf=5 ................\n",
      "[CV] n_estimators=4, max_depth=30, min_samples_leaf=5 ................\n",
      "[CV] n_estimators=2, max_depth=30, min_samples_leaf=5 ................\n",
      "\n",
      "[CV] ....... n_estimators=2, max_depth=30, min_samples_leaf=5 -   4.6s[CV] ....... n_estimators=4, max_depth=30, min_samples_leaf=5 -   9.1s[CV] ....... n_estimators=2, max_depth=30, min_samples_leaf=5 -   4.8s[CV] n_estimators=2, max_depth=30, min_samples_leaf=5 ................\n",
      "\n",
      "\n",
      "\n",
      "[CV] ....... n_estimators=2, max_depth=30, min_samples_leaf=5 -   4.6s[CV] n_estimators=4, max_depth=30, min_samples_leaf=5 ................\n",
      "[CV] n_estimators=2, max_depth=30, min_samples_leaf=10 ...............[CV] n_estimators=2, max_depth=30, min_samples_leaf=5 ................\n",
      "\n",
      "[CV] ....... n_estimators=4, max_depth=30, min_samples_leaf=5 -   9.2s\n",
      "[CV] ....... n_estimators=2, max_depth=30, min_samples_leaf=5 -   4.4s[CV] n_estimators=4, max_depth=30, min_samples_leaf=5 ................\n",
      "\n",
      "[CV] ...... n_estimators=2, max_depth=30, min_samples_leaf=10 -   6.1s\n",
      "[CV] ....... n_estimators=4, max_depth=30, min_samples_leaf=5 -   9.0s[CV] n_estimators=2, max_depth=30, min_samples_leaf=10 ...............\n",
      "\n",
      "[CV] n_estimators=4, max_depth=30, min_samples_leaf=5 ................\n",
      "\n",
      "[CV] ...... n_estimators=2, max_depth=30, min_samples_leaf=10 -   5.9s[CV] n_estimators=2, max_depth=30, min_samples_leaf=10 ...............[CV] ....... n_estimators=4, max_depth=30, min_samples_leaf=5 -   9.1s[CV] n_estimators=4, max_depth=30, min_samples_leaf=5 ................\n",
      "\n",
      "\n",
      "\n",
      "[CV] n_estimators=4, max_depth=30, min_samples_leaf=10 ...............\n",
      "[CV] ...... n_estimators=2, max_depth=30, min_samples_leaf=10 -   5.0s[CV] n_estimators=2, max_depth=30, min_samples_leaf=10 ...............\n",
      "[CV] ....... n_estimators=4, max_depth=30, min_samples_leaf=5 -   9.5s[CV] ...... n_estimators=4, max_depth=30, min_samples_leaf=10 -   9.2s\n",
      "[CV] ...... n_estimators=2, max_depth=30, min_samples_leaf=10 -   6.3s\n",
      "\n",
      "[CV] n_estimators=4, max_depth=30, min_samples_leaf=10 ...............\n",
      "[CV] n_estimators=4, max_depth=30, min_samples_leaf=10 ...............[CV] n_estimators=2, max_depth=30, min_samples_leaf=20 ...............\n",
      "[CV] n_estimators=2, max_depth=30, min_samples_leaf=10 ...............\n",
      "\n",
      "[CV] ...... n_estimators=4, max_depth=30, min_samples_leaf=10 -   9.1s\n",
      "[CV] ...... n_estimators=4, max_depth=30, min_samples_leaf=10 -   9.2s[CV] ...... n_estimators=2, max_depth=30, min_samples_leaf=20 -   6.2s\n",
      "[CV] ...... n_estimators=2, max_depth=30, min_samples_leaf=10 -   5.6s\n",
      "\n",
      "[CV] n_estimators=2, max_depth=30, min_samples_leaf=20 ...............\n",
      "\n",
      "[CV] n_estimators=4, max_depth=30, min_samples_leaf=10 ...............[CV] n_estimators=2, max_depth=30, min_samples_leaf=20 ...............[CV] ...... n_estimators=2, max_depth=30, min_samples_leaf=20 -   7.2s[CV] n_estimators=4, max_depth=30, min_samples_leaf=10 ...............\n",
      "\n",
      "\n",
      "\n",
      "[CV] ...... n_estimators=4, max_depth=30, min_samples_leaf=10 -  11.6s[CV] ...... n_estimators=2, max_depth=30, min_samples_leaf=20 -   6.6s[CV] n_estimators=2, max_depth=30, min_samples_leaf=20 ...............[CV] ...... n_estimators=4, max_depth=30, min_samples_leaf=10 -   9.2s\n",
      "\n",
      "\n",
      "\n",
      "[CV] n_estimators=4, max_depth=30, min_samples_leaf=20 ...............[CV] n_estimators=4, max_depth=30, min_samples_leaf=20 ...............[CV] ...... n_estimators=2, max_depth=30, min_samples_leaf=20 -   5.8s[CV] n_estimators=2, max_depth=30, min_samples_leaf=20 ...............\n",
      "\n",
      "\n",
      "\n",
      "[CV] ...... n_estimators=2, max_depth=30, min_samples_leaf=20 -   7.1s[CV] ...... n_estimators=4, max_depth=30, min_samples_leaf=20 -   9.6s[CV] ...... n_estimators=4, max_depth=30, min_samples_leaf=20 -   9.4s[CV] n_estimators=4, max_depth=30, min_samples_leaf=20 ...............\n",
      "\n",
      "\n",
      "\n",
      "[CV] n_estimators=4, max_depth=30, min_samples_leaf=20 ...............\n",
      "[CV] n_estimators=2, max_depth=30, min_samples_leaf=30 ...............[CV] n_estimators=2, max_depth=30, min_samples_leaf=30 ...............[CV] ...... n_estimators=4, max_depth=30, min_samples_leaf=20 -   9.0s[CV] ...... n_estimators=4, max_depth=30, min_samples_leaf=20 -   9.4s\n",
      "\n",
      "\n",
      "\n",
      "[CV] ...... n_estimators=2, max_depth=30, min_samples_leaf=30 -   4.8s[CV] ...... n_estimators=2, max_depth=30, min_samples_leaf=30 -   4.9s[CV] n_estimators=2, max_depth=30, min_samples_leaf=30 ...............\n",
      "[CV] n_estimators=4, max_depth=30, min_samples_leaf=20 ...............\n",
      "\n",
      "\n",
      "[CV] ...... n_estimators=2, max_depth=30, min_samples_leaf=30 -   4.9s[CV] ...... n_estimators=4, max_depth=30, min_samples_leaf=20 -   8.2s[CV] n_estimators=2, max_depth=30, min_samples_leaf=30 ...............\n",
      "[CV] n_estimators=2, max_depth=30, min_samples_leaf=30 ...............\n",
      "\n",
      "[CV] ...... n_estimators=2, max_depth=30, min_samples_leaf=30 -   4.6s\n",
      "[CV] n_estimators=4, max_depth=30, min_samples_leaf=30 ...............[CV] n_estimators=4, max_depth=30, min_samples_leaf=30 ...............\n",
      "[CV] ...... n_estimators=2, max_depth=30, min_samples_leaf=30 -   4.7s\n",
      "\n",
      "[CV] n_estimators=4, max_depth=30, min_samples_leaf=30 ...............\n",
      "[CV] ...... n_estimators=4, max_depth=30, min_samples_leaf=30 -   8.5s[CV] ...... n_estimators=4, max_depth=30, min_samples_leaf=30 -   8.5s\n",
      "[CV] n_estimators=4, max_depth=30, min_samples_leaf=30 ...............\n",
      "\n",
      "\n",
      "[CV] ...... n_estimators=4, max_depth=30, min_samples_leaf=30 -   8.2s[CV] ...... n_estimators=4, max_depth=30, min_samples_leaf=30 -   7.7s[CV] n_estimators=4, max_depth=30, min_samples_leaf=30 ...............\n",
      "\n",
      "\n",
      "[CV] ...... n_estimators=4, max_depth=30, min_samples_leaf=30 -   5.1s\n"
     ]
    }
   ],
   "source": [
    "from sklearn.ensemble import RandomForestRegressor\n",
    "from sklearn import grid_search\n",
    "rfReg = RandomForestRegressor()\n",
    "parameters = {'n_estimators': [2,4],'max_depth':[5,15,20,25,30],'min_samples_leaf':[5,10,20,30]}\n",
    "model_cv_grid = grid_search.GridSearchCV(rfReg,parameters,cv=5,verbose=2,n_jobs=-1)\n",
    "model_cv_grid.fit(X_train,y_train)"
   ]
  },
  {
   "cell_type": "code",
   "execution_count": 175,
   "metadata": {
    "collapsed": false
   },
   "outputs": [
    {
     "data": {
      "text/plain": [
       "[mean: 0.12578, std: 0.00112, params: {'n_estimators': 2, 'max_depth': 5, 'min_samples_leaf': 5},\n",
       " mean: 0.12665, std: 0.00152, params: {'n_estimators': 4, 'max_depth': 5, 'min_samples_leaf': 5},\n",
       " mean: 0.12525, std: 0.00086, params: {'n_estimators': 2, 'max_depth': 5, 'min_samples_leaf': 10},\n",
       " mean: 0.12630, std: 0.00149, params: {'n_estimators': 4, 'max_depth': 5, 'min_samples_leaf': 10},\n",
       " mean: 0.12446, std: 0.00149, params: {'n_estimators': 2, 'max_depth': 5, 'min_samples_leaf': 20},\n",
       " mean: 0.12752, std: 0.00109, params: {'n_estimators': 4, 'max_depth': 5, 'min_samples_leaf': 20},\n",
       " mean: 0.12598, std: 0.00094, params: {'n_estimators': 2, 'max_depth': 5, 'min_samples_leaf': 30},\n",
       " mean: 0.12578, std: 0.00109, params: {'n_estimators': 4, 'max_depth': 5, 'min_samples_leaf': 30},\n",
       " mean: 0.30693, std: 0.00363, params: {'n_estimators': 2, 'max_depth': 15, 'min_samples_leaf': 5},\n",
       " mean: 0.31605, std: 0.00393, params: {'n_estimators': 4, 'max_depth': 15, 'min_samples_leaf': 5},\n",
       " mean: 0.31123, std: 0.00521, params: {'n_estimators': 2, 'max_depth': 15, 'min_samples_leaf': 10},\n",
       " mean: 0.31894, std: 0.00388, params: {'n_estimators': 4, 'max_depth': 15, 'min_samples_leaf': 10},\n",
       " mean: 0.30506, std: 0.00595, params: {'n_estimators': 2, 'max_depth': 15, 'min_samples_leaf': 20},\n",
       " mean: 0.31456, std: 0.00438, params: {'n_estimators': 4, 'max_depth': 15, 'min_samples_leaf': 20},\n",
       " mean: 0.30523, std: 0.00373, params: {'n_estimators': 2, 'max_depth': 15, 'min_samples_leaf': 30},\n",
       " mean: 0.30936, std: 0.00557, params: {'n_estimators': 4, 'max_depth': 15, 'min_samples_leaf': 30},\n",
       " mean: 0.33868, std: 0.00214, params: {'n_estimators': 2, 'max_depth': 20, 'min_samples_leaf': 5},\n",
       " mean: 0.34611, std: 0.00271, params: {'n_estimators': 4, 'max_depth': 20, 'min_samples_leaf': 5},\n",
       " mean: 0.33989, std: 0.00257, params: {'n_estimators': 2, 'max_depth': 20, 'min_samples_leaf': 10},\n",
       " mean: 0.34644, std: 0.00328, params: {'n_estimators': 4, 'max_depth': 20, 'min_samples_leaf': 10},\n",
       " mean: 0.33476, std: 0.00291, params: {'n_estimators': 2, 'max_depth': 20, 'min_samples_leaf': 20},\n",
       " mean: 0.34188, std: 0.00223, params: {'n_estimators': 4, 'max_depth': 20, 'min_samples_leaf': 20},\n",
       " mean: 0.32907, std: 0.00426, params: {'n_estimators': 2, 'max_depth': 20, 'min_samples_leaf': 30},\n",
       " mean: 0.33519, std: 0.00289, params: {'n_estimators': 4, 'max_depth': 20, 'min_samples_leaf': 30},\n",
       " mean: 0.34255, std: 0.00230, params: {'n_estimators': 2, 'max_depth': 25, 'min_samples_leaf': 5},\n",
       " mean: 0.34981, std: 0.00231, params: {'n_estimators': 4, 'max_depth': 25, 'min_samples_leaf': 5},\n",
       " mean: 0.34349, std: 0.00323, params: {'n_estimators': 2, 'max_depth': 25, 'min_samples_leaf': 10},\n",
       " mean: 0.34924, std: 0.00224, params: {'n_estimators': 4, 'max_depth': 25, 'min_samples_leaf': 10},\n",
       " mean: 0.33979, std: 0.00299, params: {'n_estimators': 2, 'max_depth': 25, 'min_samples_leaf': 20},\n",
       " mean: 0.34481, std: 0.00259, params: {'n_estimators': 4, 'max_depth': 25, 'min_samples_leaf': 20},\n",
       " mean: 0.33358, std: 0.00244, params: {'n_estimators': 2, 'max_depth': 25, 'min_samples_leaf': 30},\n",
       " mean: 0.33997, std: 0.00324, params: {'n_estimators': 4, 'max_depth': 25, 'min_samples_leaf': 30},\n",
       " mean: 0.34363, std: 0.00327, params: {'n_estimators': 2, 'max_depth': 30, 'min_samples_leaf': 5},\n",
       " mean: 0.35061, std: 0.00270, params: {'n_estimators': 4, 'max_depth': 30, 'min_samples_leaf': 5},\n",
       " mean: 0.34378, std: 0.00232, params: {'n_estimators': 2, 'max_depth': 30, 'min_samples_leaf': 10},\n",
       " mean: 0.35020, std: 0.00335, params: {'n_estimators': 4, 'max_depth': 30, 'min_samples_leaf': 10},\n",
       " mean: 0.33927, std: 0.00233, params: {'n_estimators': 2, 'max_depth': 30, 'min_samples_leaf': 20},\n",
       " mean: 0.34592, std: 0.00327, params: {'n_estimators': 4, 'max_depth': 30, 'min_samples_leaf': 20},\n",
       " mean: 0.33506, std: 0.00294, params: {'n_estimators': 2, 'max_depth': 30, 'min_samples_leaf': 30},\n",
       " mean: 0.34141, std: 0.00284, params: {'n_estimators': 4, 'max_depth': 30, 'min_samples_leaf': 30}]"
      ]
     },
     "execution_count": 175,
     "metadata": {},
     "output_type": "execute_result"
    }
   ],
   "source": [
    "model_cv_grid.grid_scores_"
   ]
  },
  {
   "cell_type": "code",
   "execution_count": 176,
   "metadata": {
    "collapsed": false
   },
   "outputs": [
    {
     "data": {
      "text/plain": [
       "RandomForestRegressor(bootstrap=True, criterion='mse', max_depth=30,\n",
       "           max_features='auto', max_leaf_nodes=None,\n",
       "           min_impurity_split=1e-07, min_samples_leaf=5,\n",
       "           min_samples_split=2, min_weight_fraction_leaf=0.0,\n",
       "           n_estimators=4, n_jobs=1, oob_score=False, random_state=None,\n",
       "           verbose=0, warm_start=False)"
      ]
     },
     "execution_count": 176,
     "metadata": {},
     "output_type": "execute_result"
    }
   ],
   "source": [
    "best_rf_model = model_cv_grid.best_estimator_\n",
    "best_rf_model"
   ]
  },
  {
   "cell_type": "code",
   "execution_count": 177,
   "metadata": {
    "collapsed": false
   },
   "outputs": [
    {
     "name": "stdout",
     "output_type": "stream",
     "text": [
      "(0.19727945853054363, 0.35645557675242623)\n"
     ]
    }
   ],
   "source": [
    "best_rf_model.fit(X_train, y_train)\n",
    "predictedY = best_rf_model.predict(X_test)\n",
    "print (R_squared(predictedY, y_test))"
   ]
  },
  {
   "cell_type": "markdown",
   "metadata": {},
   "source": [
    "Now we can see that in comparison with the model with all features, the model with important features only shows similarly good performance as the models considering all features. This indicates the four features, **traffic source**, **device**, **country** and **PUBLISHER_BID** have captured the variance in the dataset.\n",
    "\n",
    "One thing is worthy to notice. Considering feature selection, we are still able to obtain good RMSE and high R square using the random-forest-regression model, even **without** doing grid search. This can save our time if the dataset is much bigger. As an example, the following shows a **single shoot test** for the random-forest-regression model:"
   ]
  },
  {
   "cell_type": "code",
   "execution_count": 111,
   "metadata": {
    "collapsed": false
   },
   "outputs": [
    {
     "name": "stdout",
     "output_type": "stream",
     "text": [
      "(0.19736961157131552, 0.35377915775728075)\n"
     ]
    }
   ],
   "source": [
    "from sklearn.ensemble import RandomForestRegressor\n",
    "rfReg = RandomForestRegressor(n_estimators=20, n_jobs=-1, random_state=100, verbose=0, warm_start=False)\n",
    "rfReg.fit(X_train, y_train)\n",
    "predictedY = rfReg.predict(X_test)\n",
    "print (R_squared(predictedY, y_test))"
   ]
  },
  {
   "cell_type": "markdown",
   "metadata": {},
   "source": [
    "## **A-5: Linear Regression Models**\n",
    "\n",
    "Previously we only consider decision-tree, random-forest models and gradient-boosting-regression. With categorical features, these models are useful. In this subsection, we will try other regression models: linear regression with L1 and L2 regularizations, Bayesian regression. However, the nominal features are needed to convert to one-hot-encdoing representation for the regression algorithms."
   ]
  },
  {
   "cell_type": "markdown",
   "metadata": {},
   "source": [
    "### **A-5 (a): One-hot-encoding (OHE) representation**"
   ]
  },
  {
   "cell_type": "code",
   "execution_count": 53,
   "metadata": {
    "collapsed": false
   },
   "outputs": [
    {
     "data": {
      "text/html": [
       "<div>\n",
       "<table border=\"1\" class=\"dataframe\">\n",
       "  <thead>\n",
       "    <tr style=\"text-align: right;\">\n",
       "      <th></th>\n",
       "      <th>INDEX</th>\n",
       "      <th>RPT_DATE</th>\n",
       "      <th>RPT_HOUR</th>\n",
       "      <th>TRAFFIC_SOURCE</th>\n",
       "      <th>DEVICE_SUBTYPE</th>\n",
       "      <th>COUNTRY_ID</th>\n",
       "      <th>PUBLISHER_BID</th>\n",
       "      <th>RESPONSES</th>\n",
       "      <th>win_rate</th>\n",
       "    </tr>\n",
       "  </thead>\n",
       "  <tbody>\n",
       "    <tr>\n",
       "      <th>0</th>\n",
       "      <td>1</td>\n",
       "      <td>8</td>\n",
       "      <td>23</td>\n",
       "      <td>66686962</td>\n",
       "      <td>10025</td>\n",
       "      <td>9</td>\n",
       "      <td>0.00743</td>\n",
       "      <td>252</td>\n",
       "      <td>0</td>\n",
       "    </tr>\n",
       "    <tr>\n",
       "      <th>1</th>\n",
       "      <td>2</td>\n",
       "      <td>8</td>\n",
       "      <td>23</td>\n",
       "      <td>66686962</td>\n",
       "      <td>22</td>\n",
       "      <td>27</td>\n",
       "      <td>0.00743</td>\n",
       "      <td>252</td>\n",
       "      <td>0</td>\n",
       "    </tr>\n",
       "    <tr>\n",
       "      <th>2</th>\n",
       "      <td>3</td>\n",
       "      <td>8</td>\n",
       "      <td>23</td>\n",
       "      <td>66686962</td>\n",
       "      <td>22</td>\n",
       "      <td>9</td>\n",
       "      <td>0.00743</td>\n",
       "      <td>126</td>\n",
       "      <td>0</td>\n",
       "    </tr>\n",
       "  </tbody>\n",
       "</table>\n",
       "</div>"
      ],
      "text/plain": [
       "   INDEX  RPT_DATE  RPT_HOUR  TRAFFIC_SOURCE  DEVICE_SUBTYPE  COUNTRY_ID  \\\n",
       "0      1         8        23        66686962           10025           9   \n",
       "1      2         8        23        66686962              22          27   \n",
       "2      3         8        23        66686962              22           9   \n",
       "\n",
       "   PUBLISHER_BID  RESPONSES  win_rate  \n",
       "0        0.00743        252         0  \n",
       "1        0.00743        252         0  \n",
       "2        0.00743        126         0  "
      ]
     },
     "execution_count": 53,
     "metadata": {},
     "output_type": "execute_result"
    }
   ],
   "source": [
    "import pandas as pd\n",
    "OHE_data = pd.read_csv('DATA_SCIENCE_CHALLENGE.csv')\n",
    "OHE_data['win_rate'] = pd.Series(OHE_data['WINS']/OHE_data['RESPONSES'], index=OHE_data.index)\n",
    "del OHE_data['WINS']\n",
    "OHE_data = OHE_data[OHE_data.win_rate <= 1]\n",
    "OHE_data = OHE_data[OHE_data.win_rate >=0]\n",
    "OHE_data.head(3)"
   ]
  },
  {
   "cell_type": "markdown",
   "metadata": {},
   "source": [
    "We can see if the categorical features are indicated by numbers, using \"get_dummies\" does not work:"
   ]
  },
  {
   "cell_type": "code",
   "execution_count": 51,
   "metadata": {
    "collapsed": false
   },
   "outputs": [
    {
     "data": {
      "text/html": [
       "<div>\n",
       "<table border=\"1\" class=\"dataframe\">\n",
       "  <thead>\n",
       "    <tr style=\"text-align: right;\">\n",
       "      <th></th>\n",
       "      <th>INDEX</th>\n",
       "      <th>RPT_DATE</th>\n",
       "      <th>RPT_HOUR</th>\n",
       "      <th>TRAFFIC_SOURCE</th>\n",
       "      <th>DEVICE_SUBTYPE</th>\n",
       "      <th>COUNTRY_ID</th>\n",
       "      <th>PUBLISHER_BID</th>\n",
       "      <th>RESPONSES</th>\n",
       "      <th>win_rate</th>\n",
       "    </tr>\n",
       "  </thead>\n",
       "  <tbody>\n",
       "    <tr>\n",
       "      <th>0</th>\n",
       "      <td>1</td>\n",
       "      <td>8</td>\n",
       "      <td>23</td>\n",
       "      <td>66686962</td>\n",
       "      <td>10025</td>\n",
       "      <td>9</td>\n",
       "      <td>0.00743</td>\n",
       "      <td>252</td>\n",
       "      <td>0</td>\n",
       "    </tr>\n",
       "    <tr>\n",
       "      <th>1</th>\n",
       "      <td>2</td>\n",
       "      <td>8</td>\n",
       "      <td>23</td>\n",
       "      <td>66686962</td>\n",
       "      <td>22</td>\n",
       "      <td>27</td>\n",
       "      <td>0.00743</td>\n",
       "      <td>252</td>\n",
       "      <td>0</td>\n",
       "    </tr>\n",
       "    <tr>\n",
       "      <th>2</th>\n",
       "      <td>3</td>\n",
       "      <td>8</td>\n",
       "      <td>23</td>\n",
       "      <td>66686962</td>\n",
       "      <td>22</td>\n",
       "      <td>9</td>\n",
       "      <td>0.00743</td>\n",
       "      <td>126</td>\n",
       "      <td>0</td>\n",
       "    </tr>\n",
       "  </tbody>\n",
       "</table>\n",
       "</div>"
      ],
      "text/plain": [
       "   INDEX  RPT_DATE  RPT_HOUR  TRAFFIC_SOURCE  DEVICE_SUBTYPE  COUNTRY_ID  \\\n",
       "0      1         8        23        66686962           10025           9   \n",
       "1      2         8        23        66686962              22          27   \n",
       "2      3         8        23        66686962              22           9   \n",
       "\n",
       "   PUBLISHER_BID  RESPONSES  win_rate  \n",
       "0        0.00743        252         0  \n",
       "1        0.00743        252         0  \n",
       "2        0.00743        126         0  "
      ]
     },
     "execution_count": 51,
     "metadata": {},
     "output_type": "execute_result"
    }
   ],
   "source": [
    "OHE_data = pd.get_dummies(OHE_data)\n",
    "OHE_data.head(3)"
   ]
  },
  {
   "cell_type": "markdown",
   "metadata": {},
   "source": [
    "The pandas library won't convert the categorical features labeled by numbers to OHE representation (dummy variable). For this purpose, I first transform all numbers to letters. Once the categorical features are indicated by characters, they are accessible to convert to OHE representation."
   ]
  },
  {
   "cell_type": "code",
   "execution_count": 55,
   "metadata": {
    "collapsed": true
   },
   "outputs": [],
   "source": [
    "transform_nums = {'1':'a', '2':'b', '3':'c', '4':'d', '5':'e', '6':'f', '7':'g', '8':'h', '9':'i', '0':'j'}\n",
    "def feature_convert(a_dict):\n",
    "    mapping = {}\n",
    "    for key in list(a_dict.keys()):\n",
    "        s = ''\n",
    "        for i in range(len(key)):\n",
    "            s += transform_nums[key[i]]\n",
    "        mapping[int(key)] = s\n",
    "    return mapping"
   ]
  },
  {
   "cell_type": "code",
   "execution_count": 56,
   "metadata": {
    "collapsed": false
   },
   "outputs": [],
   "source": [
    "date_mapping = feature_convert(date_dict)\n",
    "hour_mapping = feature_convert(hour_dict)\n",
    "traffic_mapping = feature_convert(traffic_dict)\n",
    "device_mapping = feature_convert(device_dict)\n",
    "country_mapping = feature_convert(country_dict)"
   ]
  },
  {
   "cell_type": "code",
   "execution_count": 57,
   "metadata": {
    "collapsed": true
   },
   "outputs": [],
   "source": [
    "OHE_data['RPT_DATE'] = OHE_data['RPT_DATE'].map(date_mapping)\n",
    "OHE_data['RPT_HOUR'] = OHE_data['RPT_HOUR'].map(hour_mapping)\n",
    "OHE_data['TRAFFIC_SOURCE'] = OHE_data['TRAFFIC_SOURCE'].map(traffic_mapping)\n",
    "OHE_data['DEVICE_SUBTYPE'] = OHE_data['DEVICE_SUBTYPE'].map(device_mapping)\n",
    "OHE_data['COUNTRY_ID'] = OHE_data['COUNTRY_ID'].map(country_mapping)"
   ]
  },
  {
   "cell_type": "code",
   "execution_count": 58,
   "metadata": {
    "collapsed": false
   },
   "outputs": [
    {
     "data": {
      "text/html": [
       "<div>\n",
       "<table border=\"1\" class=\"dataframe\">\n",
       "  <thead>\n",
       "    <tr style=\"text-align: right;\">\n",
       "      <th></th>\n",
       "      <th>INDEX</th>\n",
       "      <th>RPT_DATE</th>\n",
       "      <th>RPT_HOUR</th>\n",
       "      <th>TRAFFIC_SOURCE</th>\n",
       "      <th>DEVICE_SUBTYPE</th>\n",
       "      <th>COUNTRY_ID</th>\n",
       "      <th>PUBLISHER_BID</th>\n",
       "      <th>RESPONSES</th>\n",
       "      <th>win_rate</th>\n",
       "    </tr>\n",
       "  </thead>\n",
       "  <tbody>\n",
       "    <tr>\n",
       "      <th>0</th>\n",
       "      <td>1</td>\n",
       "      <td>h</td>\n",
       "      <td>bc</td>\n",
       "      <td>fffhfifb</td>\n",
       "      <td>ajjbe</td>\n",
       "      <td>i</td>\n",
       "      <td>0.00743</td>\n",
       "      <td>252</td>\n",
       "      <td>0</td>\n",
       "    </tr>\n",
       "    <tr>\n",
       "      <th>1</th>\n",
       "      <td>2</td>\n",
       "      <td>h</td>\n",
       "      <td>bc</td>\n",
       "      <td>fffhfifb</td>\n",
       "      <td>bb</td>\n",
       "      <td>bg</td>\n",
       "      <td>0.00743</td>\n",
       "      <td>252</td>\n",
       "      <td>0</td>\n",
       "    </tr>\n",
       "    <tr>\n",
       "      <th>2</th>\n",
       "      <td>3</td>\n",
       "      <td>h</td>\n",
       "      <td>bc</td>\n",
       "      <td>fffhfifb</td>\n",
       "      <td>bb</td>\n",
       "      <td>i</td>\n",
       "      <td>0.00743</td>\n",
       "      <td>126</td>\n",
       "      <td>0</td>\n",
       "    </tr>\n",
       "  </tbody>\n",
       "</table>\n",
       "</div>"
      ],
      "text/plain": [
       "   INDEX RPT_DATE RPT_HOUR TRAFFIC_SOURCE DEVICE_SUBTYPE COUNTRY_ID  \\\n",
       "0      1        h       bc       fffhfifb          ajjbe          i   \n",
       "1      2        h       bc       fffhfifb             bb         bg   \n",
       "2      3        h       bc       fffhfifb             bb          i   \n",
       "\n",
       "   PUBLISHER_BID  RESPONSES  win_rate  \n",
       "0        0.00743        252         0  \n",
       "1        0.00743        252         0  \n",
       "2        0.00743        126         0  "
      ]
     },
     "execution_count": 58,
     "metadata": {},
     "output_type": "execute_result"
    }
   ],
   "source": [
    "OHE_data.head(3)"
   ]
  },
  {
   "cell_type": "code",
   "execution_count": 59,
   "metadata": {
    "collapsed": true
   },
   "outputs": [],
   "source": [
    "OHE_data = pd.get_dummies(OHE_data)"
   ]
  },
  {
   "cell_type": "code",
   "execution_count": 60,
   "metadata": {
    "collapsed": false
   },
   "outputs": [
    {
     "data": {
      "text/html": [
       "<div>\n",
       "<table border=\"1\" class=\"dataframe\">\n",
       "  <thead>\n",
       "    <tr style=\"text-align: right;\">\n",
       "      <th></th>\n",
       "      <th>INDEX</th>\n",
       "      <th>PUBLISHER_BID</th>\n",
       "      <th>RESPONSES</th>\n",
       "      <th>win_rate</th>\n",
       "      <th>RPT_DATE_a</th>\n",
       "      <th>RPT_DATE_b</th>\n",
       "      <th>RPT_DATE_c</th>\n",
       "      <th>RPT_DATE_d</th>\n",
       "      <th>RPT_DATE_e</th>\n",
       "      <th>RPT_DATE_f</th>\n",
       "      <th>...</th>\n",
       "      <th>COUNTRY_ID_cb</th>\n",
       "      <th>COUNTRY_ID_ci</th>\n",
       "      <th>COUNTRY_ID_dd</th>\n",
       "      <th>COUNTRY_ID_f</th>\n",
       "      <th>COUNTRY_ID_g</th>\n",
       "      <th>COUNTRY_ID_gd</th>\n",
       "      <th>COUNTRY_ID_gg</th>\n",
       "      <th>COUNTRY_ID_h</th>\n",
       "      <th>COUNTRY_ID_i</th>\n",
       "      <th>COUNTRY_ID_ij</th>\n",
       "    </tr>\n",
       "  </thead>\n",
       "  <tbody>\n",
       "    <tr>\n",
       "      <th>0</th>\n",
       "      <td>1</td>\n",
       "      <td>0.00743</td>\n",
       "      <td>252</td>\n",
       "      <td>0</td>\n",
       "      <td>0</td>\n",
       "      <td>0</td>\n",
       "      <td>0</td>\n",
       "      <td>0</td>\n",
       "      <td>0</td>\n",
       "      <td>0</td>\n",
       "      <td>...</td>\n",
       "      <td>0</td>\n",
       "      <td>0</td>\n",
       "      <td>0</td>\n",
       "      <td>0</td>\n",
       "      <td>0</td>\n",
       "      <td>0</td>\n",
       "      <td>0</td>\n",
       "      <td>0</td>\n",
       "      <td>1</td>\n",
       "      <td>0</td>\n",
       "    </tr>\n",
       "    <tr>\n",
       "      <th>1</th>\n",
       "      <td>2</td>\n",
       "      <td>0.00743</td>\n",
       "      <td>252</td>\n",
       "      <td>0</td>\n",
       "      <td>0</td>\n",
       "      <td>0</td>\n",
       "      <td>0</td>\n",
       "      <td>0</td>\n",
       "      <td>0</td>\n",
       "      <td>0</td>\n",
       "      <td>...</td>\n",
       "      <td>0</td>\n",
       "      <td>0</td>\n",
       "      <td>0</td>\n",
       "      <td>0</td>\n",
       "      <td>0</td>\n",
       "      <td>0</td>\n",
       "      <td>0</td>\n",
       "      <td>0</td>\n",
       "      <td>0</td>\n",
       "      <td>0</td>\n",
       "    </tr>\n",
       "    <tr>\n",
       "      <th>2</th>\n",
       "      <td>3</td>\n",
       "      <td>0.00743</td>\n",
       "      <td>126</td>\n",
       "      <td>0</td>\n",
       "      <td>0</td>\n",
       "      <td>0</td>\n",
       "      <td>0</td>\n",
       "      <td>0</td>\n",
       "      <td>0</td>\n",
       "      <td>0</td>\n",
       "      <td>...</td>\n",
       "      <td>0</td>\n",
       "      <td>0</td>\n",
       "      <td>0</td>\n",
       "      <td>0</td>\n",
       "      <td>0</td>\n",
       "      <td>0</td>\n",
       "      <td>0</td>\n",
       "      <td>0</td>\n",
       "      <td>1</td>\n",
       "      <td>0</td>\n",
       "    </tr>\n",
       "  </tbody>\n",
       "</table>\n",
       "<p>3 rows × 394 columns</p>\n",
       "</div>"
      ],
      "text/plain": [
       "   INDEX  PUBLISHER_BID  RESPONSES  win_rate  RPT_DATE_a  RPT_DATE_b  \\\n",
       "0      1        0.00743        252         0           0           0   \n",
       "1      2        0.00743        252         0           0           0   \n",
       "2      3        0.00743        126         0           0           0   \n",
       "\n",
       "   RPT_DATE_c  RPT_DATE_d  RPT_DATE_e  RPT_DATE_f      ...        \\\n",
       "0           0           0           0           0      ...         \n",
       "1           0           0           0           0      ...         \n",
       "2           0           0           0           0      ...         \n",
       "\n",
       "   COUNTRY_ID_cb  COUNTRY_ID_ci  COUNTRY_ID_dd  COUNTRY_ID_f  COUNTRY_ID_g  \\\n",
       "0              0              0              0             0             0   \n",
       "1              0              0              0             0             0   \n",
       "2              0              0              0             0             0   \n",
       "\n",
       "   COUNTRY_ID_gd  COUNTRY_ID_gg  COUNTRY_ID_h  COUNTRY_ID_i  COUNTRY_ID_ij  \n",
       "0              0              0             0             1              0  \n",
       "1              0              0             0             0              0  \n",
       "2              0              0             0             1              0  \n",
       "\n",
       "[3 rows x 394 columns]"
      ]
     },
     "execution_count": 60,
     "metadata": {},
     "output_type": "execute_result"
    }
   ],
   "source": [
    "OHE_data.head(3)"
   ]
  },
  {
   "cell_type": "markdown",
   "metadata": {},
   "source": [
    "We can see now the categorical features are in OHE representation. The feature dimension however becomes 394:"
   ]
  },
  {
   "cell_type": "code",
   "execution_count": 61,
   "metadata": {
    "collapsed": false
   },
   "outputs": [
    {
     "data": {
      "text/plain": [
       "(760837, 394)"
      ]
     },
     "execution_count": 61,
     "metadata": {},
     "output_type": "execute_result"
    }
   ],
   "source": [
    "OHE_data.shape"
   ]
  },
  {
   "cell_type": "code",
   "execution_count": 117,
   "metadata": {
    "collapsed": false
   },
   "outputs": [
    {
     "data": {
      "text/html": [
       "<div>\n",
       "<table border=\"1\" class=\"dataframe\">\n",
       "  <thead>\n",
       "    <tr style=\"text-align: right;\">\n",
       "      <th></th>\n",
       "      <th>PUBLISHER_BID</th>\n",
       "      <th>RESPONSES</th>\n",
       "      <th>RPT_DATE_a</th>\n",
       "      <th>RPT_DATE_b</th>\n",
       "      <th>RPT_DATE_c</th>\n",
       "      <th>RPT_DATE_d</th>\n",
       "      <th>RPT_DATE_e</th>\n",
       "      <th>RPT_DATE_f</th>\n",
       "      <th>RPT_DATE_g</th>\n",
       "      <th>RPT_DATE_h</th>\n",
       "      <th>...</th>\n",
       "      <th>COUNTRY_ID_cb</th>\n",
       "      <th>COUNTRY_ID_ci</th>\n",
       "      <th>COUNTRY_ID_dd</th>\n",
       "      <th>COUNTRY_ID_f</th>\n",
       "      <th>COUNTRY_ID_g</th>\n",
       "      <th>COUNTRY_ID_gd</th>\n",
       "      <th>COUNTRY_ID_gg</th>\n",
       "      <th>COUNTRY_ID_h</th>\n",
       "      <th>COUNTRY_ID_i</th>\n",
       "      <th>COUNTRY_ID_ij</th>\n",
       "    </tr>\n",
       "  </thead>\n",
       "  <tbody>\n",
       "    <tr>\n",
       "      <th>0</th>\n",
       "      <td>0.00743</td>\n",
       "      <td>252</td>\n",
       "      <td>0</td>\n",
       "      <td>0</td>\n",
       "      <td>0</td>\n",
       "      <td>0</td>\n",
       "      <td>0</td>\n",
       "      <td>0</td>\n",
       "      <td>0</td>\n",
       "      <td>1</td>\n",
       "      <td>...</td>\n",
       "      <td>0</td>\n",
       "      <td>0</td>\n",
       "      <td>0</td>\n",
       "      <td>0</td>\n",
       "      <td>0</td>\n",
       "      <td>0</td>\n",
       "      <td>0</td>\n",
       "      <td>0</td>\n",
       "      <td>1</td>\n",
       "      <td>0</td>\n",
       "    </tr>\n",
       "    <tr>\n",
       "      <th>1</th>\n",
       "      <td>0.00743</td>\n",
       "      <td>252</td>\n",
       "      <td>0</td>\n",
       "      <td>0</td>\n",
       "      <td>0</td>\n",
       "      <td>0</td>\n",
       "      <td>0</td>\n",
       "      <td>0</td>\n",
       "      <td>0</td>\n",
       "      <td>1</td>\n",
       "      <td>...</td>\n",
       "      <td>0</td>\n",
       "      <td>0</td>\n",
       "      <td>0</td>\n",
       "      <td>0</td>\n",
       "      <td>0</td>\n",
       "      <td>0</td>\n",
       "      <td>0</td>\n",
       "      <td>0</td>\n",
       "      <td>0</td>\n",
       "      <td>0</td>\n",
       "    </tr>\n",
       "    <tr>\n",
       "      <th>2</th>\n",
       "      <td>0.00743</td>\n",
       "      <td>126</td>\n",
       "      <td>0</td>\n",
       "      <td>0</td>\n",
       "      <td>0</td>\n",
       "      <td>0</td>\n",
       "      <td>0</td>\n",
       "      <td>0</td>\n",
       "      <td>0</td>\n",
       "      <td>1</td>\n",
       "      <td>...</td>\n",
       "      <td>0</td>\n",
       "      <td>0</td>\n",
       "      <td>0</td>\n",
       "      <td>0</td>\n",
       "      <td>0</td>\n",
       "      <td>0</td>\n",
       "      <td>0</td>\n",
       "      <td>0</td>\n",
       "      <td>1</td>\n",
       "      <td>0</td>\n",
       "    </tr>\n",
       "  </tbody>\n",
       "</table>\n",
       "<p>3 rows × 392 columns</p>\n",
       "</div>"
      ],
      "text/plain": [
       "   PUBLISHER_BID  RESPONSES  RPT_DATE_a  RPT_DATE_b  RPT_DATE_c  RPT_DATE_d  \\\n",
       "0        0.00743        252           0           0           0           0   \n",
       "1        0.00743        252           0           0           0           0   \n",
       "2        0.00743        126           0           0           0           0   \n",
       "\n",
       "   RPT_DATE_e  RPT_DATE_f  RPT_DATE_g  RPT_DATE_h      ...        \\\n",
       "0           0           0           0           1      ...         \n",
       "1           0           0           0           1      ...         \n",
       "2           0           0           0           1      ...         \n",
       "\n",
       "   COUNTRY_ID_cb  COUNTRY_ID_ci  COUNTRY_ID_dd  COUNTRY_ID_f  COUNTRY_ID_g  \\\n",
       "0              0              0              0             0             0   \n",
       "1              0              0              0             0             0   \n",
       "2              0              0              0             0             0   \n",
       "\n",
       "   COUNTRY_ID_gd  COUNTRY_ID_gg  COUNTRY_ID_h  COUNTRY_ID_i  COUNTRY_ID_ij  \n",
       "0              0              0             0             1              0  \n",
       "1              0              0             0             0              0  \n",
       "2              0              0             0             1              0  \n",
       "\n",
       "[3 rows x 392 columns]"
      ]
     },
     "execution_count": 117,
     "metadata": {},
     "output_type": "execute_result"
    }
   ],
   "source": [
    "a = list(range(4,OHE_data.shape[1])) ## X_features start from RPT_DATE...\n",
    "a.insert(0,2)\n",
    "a.insert(0,1)\n",
    "'''consider all features as features except for \"win_rate\".'''\n",
    "X = OHE_data.iloc[:,a]\n",
    "y = OHE_data.iloc[:,3]\n",
    "X.head(3)"
   ]
  },
  {
   "cell_type": "markdown",
   "metadata": {},
   "source": [
    "Note that the features **PUBLISHER_BID** and **RESPONSES** are in different scales, we need to standardize the features:"
   ]
  },
  {
   "cell_type": "code",
   "execution_count": 63,
   "metadata": {
    "collapsed": false
   },
   "outputs": [],
   "source": [
    "from sklearn.preprocessing import StandardScaler\n",
    "stdsc = StandardScaler()\n",
    "X = stdsc.fit_transform(X)"
   ]
  },
  {
   "cell_type": "code",
   "execution_count": 64,
   "metadata": {
    "collapsed": false
   },
   "outputs": [
    {
     "name": "stdout",
     "output_type": "stream",
     "text": [
      "(608669, 392) (608669,)\n",
      "(152168, 392) (152168,)\n"
     ]
    }
   ],
   "source": [
    "from sklearn.cross_validation import cross_val_score, train_test_split\n",
    "from sklearn import metrics, cross_validation\n",
    "X_train, X_test, y_train, y_test = train_test_split(X, y, test_size=0.2)\n",
    "print (X_train.shape, y_train.shape)\n",
    "print (X_test.shape, y_test.shape)\n",
    "y_test = y_test.tolist()"
   ]
  },
  {
   "cell_type": "markdown",
   "metadata": {},
   "source": [
    "Now we have categorical features in OHE representation and standardized numeric features, ready to perform linear regression! In the following, we test ridge regression (L2), lasso (L1) and Bayesian regression. For the first two we implement 10-fold cross-validation. Note that here we don't consider the kNN regression. The large number of features (392) makes the regression computationally expansive and the results will be subject to dimensionality curse. \n",
    "\n",
    "### **A-5 (b): Linear regression**\n",
    "\n",
    "### **(i) ridge (L2) regression**"
   ]
  },
  {
   "cell_type": "code",
   "execution_count": 65,
   "metadata": {
    "collapsed": false
   },
   "outputs": [
    {
     "name": "stdout",
     "output_type": "stream",
     "text": [
      "0.01 0.229569811873\n",
      "0.1 0.229569812186\n",
      "1.0 0.229569814636\n",
      "2.0 0.229569817348\n",
      "3.0 0.229569820059\n",
      "5.0 0.229569825473\n",
      "7.0 0.229569830881\n",
      "10.0 0.229569838978\n",
      "10.0 (0.21463100017447201, 0.23038577079649958)\n"
     ]
    }
   ],
   "source": [
    "from sklearn import linear_model\n",
    "best_ridge_model = None\n",
    "max_rscore = -1\n",
    "best_lambda = -1\n",
    "for lambda_i in [1e-2, 0.1, 1.0, 2.0, 3.0, 5.0, 7.0, 10.0]:\n",
    "    ridge = linear_model.Ridge(alpha=lambda_i)\n",
    "    cv_score = cross_val_score(ridge, X_train, y_train, cv=10)\n",
    "    print (lambda_i, np.mean(cv_score))\n",
    "    if np.mean(cv_score) > max_rscore:\n",
    "        max_rscore = np.mean(cv_score)\n",
    "        best_ridge_model = ridge\n",
    "        best_lambda = lambda_i\n",
    "        \n",
    "best_ridge_model.fit(X_train, y_train)\n",
    "predictedY = best_ridge_model.predict(X_test)\n",
    "print (best_lambda, R_squared(predictedY, y_test))"
   ]
  },
  {
   "cell_type": "markdown",
   "metadata": {},
   "source": [
    "The best ridge model gives RMSE = 0.215 and R square =0.23, higher RMSE and lower R square than the random-forest model (RMSE=0.198, R^2 =0.35). Therefore its performance is worse than the random-forest-regression. \n",
    "\n",
    "As usual, in the linear regression model, we can also observe the weight coefficients to see which features are important, as shown below. However, the poor model performance is unable to give us any information here."
   ]
  },
  {
   "cell_type": "code",
   "execution_count": 66,
   "metadata": {
    "collapsed": false
   },
   "outputs": [
    {
     "data": {
      "text/plain": [
       "array([  1.06512359e-03,  -2.02773685e-03,  -1.41031475e-03,\n",
       "        -1.04329176e-03,  -9.47676916e-04,   2.19276888e-03,\n",
       "         2.64665278e-03,  -1.22072467e-03,   3.50785164e-04,\n",
       "        -5.00331536e-04,   1.27600904e-03,  -1.32605772e-03,\n",
       "        -1.80453524e-03,  -1.11533242e-03,  -9.36562044e-05,\n",
       "        -5.14257466e-04,   2.87978489e-04,   2.09871004e-03,\n",
       "         1.05193743e-03,   1.47072345e-03,  -1.37464759e-03,\n",
       "         3.57432411e-04,   1.12145726e-03,   2.15084001e-03,\n",
       "         2.13296308e-03,   9.20999950e-04,  -8.19980129e-04,\n",
       "        -8.76302035e-04,  -1.11946730e-03,  -1.06245146e-03,\n",
       "        -9.08424022e-04,  -1.14961584e-03,  -2.08853009e-03,\n",
       "         9.64882110e-04,   3.96718517e-03,   7.35364338e-03,\n",
       "        -4.70655287e-03,  -2.07994418e-04,  -7.63406719e-05,\n",
       "         3.44817327e-03,  -5.90197325e-04,   4.83365445e-05,\n",
       "        -4.19700159e-04,  -4.99264504e-04,  -2.15744513e-04,\n",
       "        -3.15111754e-03,   2.90399110e-03,  -1.05011453e-02,\n",
       "        -3.33922988e-03,   3.73881901e-04,  -6.28049384e-04,\n",
       "        -4.08918147e-04,  -2.77534392e-04,   2.08983595e-03,\n",
       "        -5.56218790e-04,  -7.69932680e-04,   8.77374850e-04,\n",
       "         5.87680197e-04,  -4.82260581e-05,   2.69330487e-04,\n",
       "         2.97534501e-04,  -3.63558109e-04,  -5.87855826e-03,\n",
       "        -3.73047729e-03,   3.40525524e-03,  -3.89434286e-03,\n",
       "         2.69010364e-03,  -2.00398304e-03,  -3.00966088e-03,\n",
       "         1.25881585e-03,  -4.50733427e-04,   6.93022358e-04,\n",
       "        -1.47476365e-04,  -3.67359376e-03,  -1.86242060e-03,\n",
       "        -1.04637038e-03,   1.62847173e-03,  -4.91007879e-03,\n",
       "        -1.05961146e-04,  -4.90524252e-04,   9.82727933e-03,\n",
       "        -3.22368265e-03,   3.15400096e-04,  -5.04042281e-04,\n",
       "        -2.52923650e-03,   1.20135145e-02,  -2.03306684e-03,\n",
       "        -4.68413893e-04,  -1.44141269e-03,   1.96176369e-04,\n",
       "         1.67063410e-03,   3.57189417e-03,   2.62272058e-04,\n",
       "         2.79971201e-04,  -2.98947703e-04,  -7.65339188e-05,\n",
       "        -3.15973817e-03,  -1.65788155e-04,  -9.59420135e-04,\n",
       "         9.38051830e-04,  -4.40583208e-04,   5.49143774e-03,\n",
       "        -4.95343881e-03,  -3.30105597e-04,   2.74205726e-03,\n",
       "        -4.10869209e-05,  -3.11532809e-03,   5.99944742e-03,\n",
       "         5.73969171e-03,  -2.35545490e-03,  -5.00579003e-03,\n",
       "        -1.36730175e-04,  -1.48920441e-03,   5.23641125e-03,\n",
       "        -3.63690297e-03,  -4.64609236e-03,  -6.50223739e-04,\n",
       "         5.53130677e-03,   2.99472877e-03,   3.82989428e-03,\n",
       "        -1.30346903e-04,  -1.01624878e-04,   1.86773511e-03,\n",
       "        -2.08103356e-02,   4.40819593e-04,   1.14978310e-02,\n",
       "        -2.22453620e-04,  -2.73620313e-03,   4.98242350e-05,\n",
       "         5.17322587e-03,   2.22154727e-03,  -5.04501452e-04,\n",
       "         6.06222520e-04,  -2.22441482e-04,   2.51054020e-03,\n",
       "        -1.26881767e-03,   1.27361079e-03,   1.64178149e-03,\n",
       "         8.67840932e-04,  -1.80415329e-04,   3.01664320e-05,\n",
       "        -8.70315411e-03,   6.88642997e-03,  -2.19800373e-04,\n",
       "        -6.16404495e-05,  -3.35375605e-03,  -3.74739908e-03,\n",
       "        -1.17178102e-04,  -6.76256838e-03,   4.47781520e-03,\n",
       "         5.50834066e-05,   1.32287292e-03,   1.37587934e-02,\n",
       "         6.79932184e-03,  -3.80425023e-04,   1.38111580e-02,\n",
       "        -4.30993472e-05,   4.75205713e-03,   2.35776548e-03,\n",
       "        -7.95041403e-05,   1.41540507e-03,   8.85215957e-03,\n",
       "         1.21391504e-03,  -1.46608990e-03,   7.50607227e-04,\n",
       "        -1.19385499e-03,  -4.84185190e-05,  -9.46297533e-04,\n",
       "         1.64146385e-02,   1.11921901e-02,  -5.12590776e-03,\n",
       "        -1.67009294e-04,  -6.85237346e-04,  -3.65244952e-04,\n",
       "        -3.30991219e-04,  -3.48885879e-03,   5.57457513e-03,\n",
       "        -7.78650737e-04,   2.80042806e-04,   3.79309519e-03,\n",
       "         2.84283497e-03,   1.26852639e-02,   6.19219872e-03,\n",
       "        -1.26246144e-02,  -1.34075901e-04,  -3.74530681e-03,\n",
       "         4.58105638e-03,   9.46602801e-04,  -1.99796047e-03,\n",
       "         6.62118877e-03,   1.22735899e-02,   1.29583115e-02,\n",
       "        -4.97304735e-04,   1.23425403e-02,   2.15243579e-04,\n",
       "        -1.92953338e-03,   4.42588506e-03,  -1.72456420e-02,\n",
       "        -1.61134577e-02,  -1.67935799e-02,   4.85263197e-03,\n",
       "        -9.38503204e-03,  -7.07571221e-03,  -5.92220908e-04,\n",
       "        -2.80085663e-03,   1.16702516e-03,  -1.04459652e-02,\n",
       "        -1.96711406e-04,  -2.52264801e-04,  -1.43056459e-03,\n",
       "         3.20226821e-04,  -1.94810860e-04,   4.32674839e-04,\n",
       "        -1.19915324e-03,  -2.36924495e-04,  -9.28731262e-03,\n",
       "        -7.83106098e-03,   7.41618634e-03,   3.85670371e-03,\n",
       "         8.29031204e-03,   2.00105150e-03,  -5.71941960e-03,\n",
       "        -2.13554441e-03,  -2.47065008e-04,   4.26918736e-03,\n",
       "        -3.60500471e-05,   1.50695497e-03,   4.07134358e-03,\n",
       "        -5.47845888e-04,  -2.42656459e-04,   9.88779664e-04,\n",
       "         1.37830263e-03,   1.00621199e-02,   9.91943688e-04,\n",
       "        -3.36705462e-24,   3.31260848e-03,   9.23807305e-04,\n",
       "        -1.67065037e-03,   4.55315323e-03,   1.12914251e-02,\n",
       "         4.88397506e-03,   3.95208561e-03,   3.46193569e-03,\n",
       "         1.92125404e-03,  -2.73846439e-04,   2.90469613e-03,\n",
       "         6.04106054e-03,  -2.01610053e-03,   1.20773476e-02,\n",
       "        -5.92582700e-04,  -2.49376389e-03,   1.11393966e-03,\n",
       "         2.53133596e-03,   5.63734588e-04,   9.24619447e-03,\n",
       "        -7.36445699e-04,   1.22211891e-03,   2.21644684e-03,\n",
       "        -1.54469872e-04,  -7.35309783e-04,  -6.49385184e-03,\n",
       "        -4.19034002e-04,   5.75676366e-03,  -4.41384889e-04,\n",
       "         7.19998279e-04,   1.45893357e-03,   3.35296605e-03,\n",
       "         1.84594562e-03,  -3.27497423e-04,   6.29066740e-03,\n",
       "        -1.57053375e-03,   8.81781074e-04,   2.31510799e-03,\n",
       "         9.38027298e-05,  -2.86039191e-03,  -1.19211673e-03,\n",
       "         4.94823554e-03,   2.66059938e-04,   7.76566987e-03,\n",
       "        -4.75432774e-04,   4.12648596e-04,  -9.68238270e-03,\n",
       "        -8.02103290e-04,   5.19576589e-03,   1.09752826e-02,\n",
       "         2.49799251e-03,   1.78523149e-03,  -3.67620186e-04,\n",
       "         3.97892107e-03,   1.87774152e-03,   3.28784064e-03,\n",
       "         2.96923569e-03,   1.29211043e-03,   3.20131454e-03,\n",
       "         1.05638626e-03,  -3.00365903e-04,   2.38712651e-03,\n",
       "         1.08980060e-03,   1.15507313e-03,   4.20252147e-04,\n",
       "         3.97303624e-03,   1.20341167e-05,  -4.84560755e-04,\n",
       "        -8.61542484e-04,  -2.21539920e-04,   6.36496216e-03,\n",
       "         4.00224748e-04,   8.36627815e-04,   1.56934937e-03,\n",
       "         1.29350291e-03,   3.02503776e-05,   1.08972731e-02,\n",
       "        -3.58996759e-04,   3.31747003e-03,   1.24908546e-03,\n",
       "        -2.12856669e-02,   1.46474505e-03,   1.17054043e-02,\n",
       "         3.39844541e-03,  -6.67671209e-04,  -3.55956366e-03,\n",
       "        -9.74341170e-04,   6.08162711e-04,   1.96840194e-03,\n",
       "         3.03830873e-03,  -3.18398016e-04,   1.20172997e-03,\n",
       "        -8.55845838e-04,   4.13296708e-03,   1.28162345e-04,\n",
       "         8.93286658e-04,  -1.46817797e-02,   7.17720086e-03,\n",
       "        -1.04977012e-02,   1.25694625e-03,  -3.48170306e-04,\n",
       "         8.90069737e-04,   2.11341997e-02,   9.81698212e-04,\n",
       "        -2.83385192e-03,  -8.39622002e-05,  -1.43007359e-04,\n",
       "        -9.02766580e-05,   6.26284526e-04,   5.58611950e-04,\n",
       "         4.37456089e-04,   2.40377056e-03,  -8.18303207e-04,\n",
       "         1.52080981e-03,  -1.06446598e-02,   7.70861134e-04,\n",
       "         5.16290929e-03,  -6.19455610e-05,  -1.45644077e-02,\n",
       "        -4.33989882e-03,   7.78399030e-04,  -2.56261877e-03,\n",
       "        -2.02533524e-03,  -1.32530511e-03,   9.09225627e-04,\n",
       "         8.01329056e-03,   5.20673153e-03,  -1.00310942e-02,\n",
       "         2.95096917e-03,   1.71869593e-02,  -4.61863545e-04,\n",
       "        -4.57110801e-03,   1.37436247e-02,   7.03638743e-03,\n",
       "         1.41754437e-02,   1.14069314e-02,   6.03180494e-03,\n",
       "         1.44755381e-02,   2.38246582e-02,   5.80253316e-04,\n",
       "         9.46146107e-03,   1.18684383e-02,   1.13125735e-02,\n",
       "         1.36410714e-02,   1.37534266e-03,   4.89607244e-03,\n",
       "        -1.41173740e-02,  -1.83628115e-03,   1.61128203e-03,\n",
       "         1.10894087e-03,  -3.07833206e-02,  -1.92219070e-03,\n",
       "        -3.09332126e-02,  -1.58997178e-02,   6.39953028e-03,\n",
       "        -6.96177205e-03,   1.01157342e-02])"
      ]
     },
     "execution_count": 66,
     "metadata": {},
     "output_type": "execute_result"
    }
   ],
   "source": [
    "best_ridge_model.coef_"
   ]
  },
  {
   "cell_type": "code",
   "execution_count": 67,
   "metadata": {
    "collapsed": false
   },
   "outputs": [
    {
     "data": {
      "text/plain": [
       "0.13395918616375052"
      ]
     },
     "execution_count": 67,
     "metadata": {},
     "output_type": "execute_result"
    }
   ],
   "source": [
    "best_ridge_model.intercept_"
   ]
  },
  {
   "cell_type": "markdown",
   "metadata": {},
   "source": [
    "### **(ii) lasso (L1) regression**"
   ]
  },
  {
   "cell_type": "code",
   "execution_count": 22,
   "metadata": {
    "collapsed": false
   },
   "outputs": [
    {
     "name": "stdout",
     "output_type": "stream",
     "text": [
      "0.0001 0.218472330815\n",
      "0.01 0.0026571685521\n",
      "0.1 0.000632913576233\n",
      "1.0 0.000632917956951\n",
      "2.0 0.000632922267623\n",
      "5.0 0.000632931683067\n"
     ]
    }
   ],
   "source": [
    "best_lasso_model = None\n",
    "max_rscore = -1\n",
    "best_lambda = -1\n",
    "for lambda_i in [1e-4, 1e-2, 0.1, 1.0, 2.0, 5.0]:\n",
    "    lasso = linear_model.Lasso(alpha=lambda_i)\n",
    "    cv_score = cross_val_score(lasso, X_train, y_train, cv=10)\n",
    "    print (lambda_i, np.mean(cv_score))\n",
    "    if np.mean(cv_score) > max_rscore:\n",
    "        max_rscore = np.mean(cv_score)\n",
    "        best_lasso_model = lasso\n",
    "        best_lambda = lambda_i"
   ]
  },
  {
   "cell_type": "code",
   "execution_count": 23,
   "metadata": {
    "collapsed": false
   },
   "outputs": [
    {
     "name": "stdout",
     "output_type": "stream",
     "text": [
      "0.0001 (0.21591855634959622, 0.217296854683934)\n"
     ]
    }
   ],
   "source": [
    "best_lasso_model.fit(X_train, y_train)\n",
    "predictedY = best_lasso_model.predict(X_test)\n",
    "print (best_lambda, R_squared(predictedY, y_test))"
   ]
  },
  {
   "cell_type": "markdown",
   "metadata": {
    "collapsed": true
   },
   "source": [
    "The best lasso model gives RMSE = 0.216 and R square = 0.217, still worse than the random-forest-regression model. The lasso model even gives lower R square than that from the ridge-regression model."
   ]
  },
  {
   "cell_type": "markdown",
   "metadata": {},
   "source": [
    "### (iii) Bayesian ridge regression"
   ]
  },
  {
   "cell_type": "code",
   "execution_count": 24,
   "metadata": {
    "collapsed": false
   },
   "outputs": [
    {
     "name": "stdout",
     "output_type": "stream",
     "text": [
      "1e-06 1e-06 (0.21434105695628783, 0.22869192283286888)\n",
      "1e-06 0.001 (0.214341056700734, 0.22869192467209409)\n",
      "1e-06 0.1 (0.21434103614243219, 0.22869207263052704)\n",
      "1e-06 1.0 (0.21434104858372174, 0.2286919830903652)\n",
      "0.001 1e-06 (0.21434105695852662, 0.22869192281675632)\n",
      "0.001 0.001 (0.2143410567029628, 0.22869192465605326)\n",
      "0.001 0.1 (0.21434103614396061, 0.22869207261952695)\n",
      "0.001 1.0 (0.21434104858237496, 0.22869198310005812)\n",
      "0.1 1e-06 (0.21434105718075169, 0.22869192121739867)\n",
      "0.1 0.001 (0.21434105692441327, 0.2286919230622706)\n",
      "0.1 0.1 (0.2143410362957068, 0.22869207152740711)\n",
      "0.1 1.0 (0.21434104844917293, 0.22869198405871527)\n",
      "1.0 1e-06 (0.21434105922629579, 0.22869190649558369)\n",
      "1.0 0.001 (0.21434105896285802, 0.22869190839154985)\n",
      "1.0 0.1 (0.21434103769825122, 0.22869206143327259)\n",
      "1.0 1.0 (0.21434104725061573, 0.22869199268475104)\n"
     ]
    }
   ],
   "source": [
    "from sklearn.linear_model import BayesianRidge\n",
    "for L1 in [1e-06, 1e-03, 0.1, 1.0]:\n",
    "    for L2 in [1e-06, 1e-03, 0.1, 1.0]:\n",
    "        a1 = 1e-06\n",
    "        a2 = 1e-06\n",
    "        bayesRidge = BayesianRidge(n_iter=300, tol=0.001, alpha_1=a1, alpha_2=a2, \n",
    "                          lambda_1=L1, lambda_2=L2, compute_score=False, \n",
    "                          fit_intercept=True, normalize=False, copy_X=True, verbose=False)\n",
    "        bayesRidge.fit(X_train, y_train)\n",
    "        predictedY = bayesRidge.predict(X_test)\n",
    "        print (L1, L2, R_squared(predictedY, y_test))"
   ]
  },
  {
   "cell_type": "markdown",
   "metadata": {
    "collapsed": true
   },
   "source": [
    "The performance of the Bayesian ridge regression model is still not competitive to the random-forest-regression. So here we have tested three linear models: ridge regression, lasso and Bayesian regression. They all show worse performance than the random-forest-regression and even decision-tree-regression, implying the non-linearity between the features and the target **win_rate**."
   ]
  },
  {
   "cell_type": "markdown",
   "metadata": {},
   "source": [
    "# **Part B**\n",
    "\n",
    "By testing several regression models in the previous section, we learned that the best model is the **random-forest-regression model**, which gives the lowest RMSE and highest R square. In this part, we use the optimal model with feature selection to build a function of searching for optimal bid with maximum net revenue. The model with less features will be more efficient when the dataset is getting bigger."
   ]
  },
  {
   "cell_type": "code",
   "execution_count": 103,
   "metadata": {
    "collapsed": true
   },
   "outputs": [],
   "source": [
    "'''function to compute net_revenue'''\n",
    "def compute_revenue(model, adv_cpc, traffic, device, country, publisher_bid):\n",
    "    win_rate = model.predict(np.array([[traffic, device, country, publisher_bid]]))[0]\n",
    "    return (adv_cpc-publisher_bid)*win_rate*0.15"
   ]
  },
  {
   "cell_type": "markdown",
   "metadata": {},
   "source": [
    "From the cpc formula, naively thinking, higher **adv_cpc** and lower **publisher_bid** are more beneficial to gain higher net revenue. However, the net revenue is a function of **publisher_bid**, **win_rate** and **adv_cpc**, and **win_rate** is needed to be determined by the predictive model. As we have seen in the previous visualization, there exists a slightly negative correlation between **publisher_bid** and **win_rate**, so the large **publisher_bid** limit (at fixed **avd_cpc**) doesn't favor net revenue. \n",
    "\n",
    "For example, when **traffic_source** ='274040327', **device** = 26, **country** =9, and suppose we charge **adv_cpc** = 0.3 and 0.7:"
   ]
  },
  {
   "cell_type": "code",
   "execution_count": 120,
   "metadata": {
    "collapsed": false
   },
   "outputs": [],
   "source": [
    "adv_cpc = 0.30\n",
    "bid = []\n",
    "net_revenue_1 = [] \n",
    "for i in range(1,30):\n",
    "    bid.append(0.01*i)\n",
    "    net_revenue_1.append(compute_revenue(best_rf_model, adv_cpc, 274040327, 26, 9, 0.01*i))\n",
    "    #print (bid, net_revenue)\n",
    "\n",
    "adv_cpc = 0.70\n",
    "net_revenue_2 = [] \n",
    "for i in range(1,30):\n",
    "    net_revenue_2.append(compute_revenue(best_rf_model, adv_cpc, 274040327, 26, 9, 0.01*i))"
   ]
  },
  {
   "cell_type": "code",
   "execution_count": 121,
   "metadata": {
    "collapsed": false
   },
   "outputs": [
    {
     "data": {
      "image/png": "[encoded data removed]",
      "text/plain": [
       "<matplotlib.figure.Figure at 0x116e680f0>"
      ]
     },
     "metadata": {},
     "output_type": "display_data"
    }
   ],
   "source": [
    "bid_vs_revenue_03 = plt.errorbar(bid, net_revenue_1, fmt='-o')\n",
    "bid_vs_revenue_07 = plt.errorbar(bid, net_revenue_2, fmt='-o')\n",
    "\n",
    "xlabel('bid amount')\n",
    "ylabel('net revenue')\n",
    "plt.legend([bid_vs_revenue_03, bid_vs_revenue_07],['cpc=0.3', 'cpc=0.7'],loc='upper right')\n",
    "title('Sum over distance |point-centriod| vs k')\n",
    "grid(True)\n",
    "\n",
    "show()"
   ]
  },
  {
   "cell_type": "markdown",
   "metadata": {},
   "source": [
    "We can see that the optimal net revenue is not necessary to appear at low bid amount: At **adv_cpc** =0.3, optimal bid is at 0.02, but at **adv_cpc** =0.7, optimal bid is at 0.16. Thus, to find the optimal bid amount to maximize the net revenue, we need to walk through the bid amounts. The function shown below is used to find the optimal bid amount to maximize the net revenuse at given features (the bid amount is searched in increment of 0.01):"
   ]
  },
  {
   "cell_type": "code",
   "execution_count": 157,
   "metadata": {
    "collapsed": false
   },
   "outputs": [],
   "source": [
    "def get_optimal_bid(model, traffic, device, country):\n",
    "    adv_cpc = [0.01, 0.02, 0.10, 0.15, 0.30, 0.70]\n",
    "    bestbid = []\n",
    "    revenue = []\n",
    "    for cpc in adv_cpc:\n",
    "        optimal_bid = -1\n",
    "        max_revenue = -1\n",
    "        for i in range(1,100):\n",
    "            bid = 0.01*i\n",
    "            net_revenue = compute_revenue(model, cpc, traffic, device, country, bid)\n",
    "            if net_revenue > max_revenue: optimal_bid, max_revenue = bid, net_revenue\n",
    "            #print (bid, net_revenue)\n",
    "        bestbid.append(optimal_bid)\n",
    "        revenue.append(max_revenue)\n",
    "        \n",
    "    df_importance = pd.DataFrame({'adv_cpc': adv_cpc, 'best_bid': bestbid, 'max_revenue' : revenue})\n",
    "    print (df_importance.head(10))"
   ]
  },
  {
   "cell_type": "code",
   "execution_count": 158,
   "metadata": {
    "collapsed": false
   },
   "outputs": [
    {
     "name": "stdout",
     "output_type": "stream",
     "text": [
      "   adv_cpc  best_bid  max_revenue\n",
      "0     0.01      0.01     0.000000\n",
      "1     0.02      0.01     0.000173\n",
      "2     0.10      0.02     0.003499\n",
      "3     0.15      0.02     0.005685\n",
      "4     0.30      0.02     0.012245\n",
      "5     0.70      0.16     0.035453\n"
     ]
    }
   ],
   "source": [
    "#get_optimal_bid(best_rf_model, 216145324,22,6)\n",
    "get_optimal_bid(best_rf_model, 274040327, 26, 9)\n",
    "#get_optimal_bid(best_rf_model, 93920677, 22, 156)"
   ]
  },
  {
   "cell_type": "markdown",
   "metadata": {
    "collapsed": true
   },
   "source": [
    "Therefore, for **avd_cpc** =0.01, 0.02, 0.1, 0.15, 0.3 and 0.7 and **traffic_source**=274040327, **device** = 26, **country** =9,, the optimal bid amounts to maximize the net revenue are 0.01, 0.01, 0.02, 0.02, 0.02 and 0.16, based on my random-forest-regression model. With different **traffic_source**, **device**, **country** we will have another optimal bid amounts."
   ]
  },
  {
   "cell_type": "markdown",
   "metadata": {
    "collapsed": true
   },
   "source": [
    "## Summary"
   ]
  },
  {
   "cell_type": "markdown",
   "metadata": {
    "collapsed": true
   },
   "source": [
    "In this report, I implemented several regression models: decision-tree, random-forest, gradient-boosting-tree, and linear regression models: ridge regression, lasso and Bayesian regression. The benchmarks show random-forest-regression has the best performance, giving lowest RMSE and highest R square. In the second part, I constructed a fucntion using the random-forest-regression model to evaluate the optimal value of bid amount which maximizes the net revenuse."
   ]
  },
  {
   "cell_type": "markdown",
   "metadata": {},
   "source": [
    "### Thank you!"
   ]
  },
  {
   "cell_type": "code",
   "execution_count": null,
   "metadata": {
    "collapsed": true
   },
   "outputs": [],
   "source": []
  }
 ],
 "metadata": {
  "kernelspec": {
   "display_name": "Python 3",
   "language": "python",
   "name": "python3"
  },
  "language_info": {
   "codemirror_mode": {
    "name": "ipython",
    "version": 3
   },
   "file_extension": ".py",
   "mimetype": "text/x-python",
   "name": "python",
   "nbconvert_exporter": "python",
   "pygments_lexer": "ipython3",
   "version": "3.4.5"
  }
 },
 "nbformat": 4,
 "nbformat_minor": 0
}
