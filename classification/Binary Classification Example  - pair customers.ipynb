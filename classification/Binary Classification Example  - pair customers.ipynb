{
 "cells": [
  {
   "cell_type": "markdown",
   "metadata": {},
   "source": [
    "# Logistic Regreesion Demo \n",
    "\n",
    "## Summary\n",
    "\n",
    "In this note, I will process provided data and build machine learning models. The problem is a binary classification $-$ positive case is that two devices are truely related. I will implement several classifiers: (1) linear model $-$ logistic models with $L_1$ and $L_2$ regularization, and (2) two non-linear models: decision tree and random forest. Among the models, random forest gives the best performance, but the difference is not significant.\n",
    "\n",
    "Before training models, I checked the target value $-$ `classification`, showing data is slightly imbalanced. Therefore, for classification problems we consider not only accuracy but also ROC curve to compute AUC for model performance comparison. I also reprocess the data in the following ways: (1) There exist a lot of `Nan` in `device2_bool1` feature, we need to replace these `Nan` with 0. (2) I also simply use `device1_loc1 == device2_loc1` as a boolean feature and (3) time difference between `device1_date1` and  `device2_date1`/`device2_date2` as time features.\n",
    "\n",
    "For each algorithm, I train the models using training datasets. During training process, I implement 10-fold cross-validation to grid search optimal hyperparameters to select best models, and compare the model performance using accuracy and AUC, by test datasets. The training/test dataset is $70\\%$/$30\\%$ of the entire data. The best accuracy obtained is $84\\%$.\n",
    "\n",
    "There are many ways to perform feature selection. We can use subset or forward/backward stepwise selection: gradually add/remove features to find out which feature has more/less impact to explain model variance. But the ensemble classifier, random forest, is helpful enough to simply select important features. By logisitc model andrandom forest, the top-2 important features are `session_overlaps` and `bool`. \n",
    "\n",
    "The following is content of the note:\n",
    "\n",
    "      A. Reading Data Using Pandas\n",
    "      B. Reprocess DataFrame\n",
    "          B.1 'Device2_bool1' feature\n",
    "          B.2 Is 'Device1_loc1' == 'Device2_loc1' feature\n",
    "          B.3 Timestamp interval feature\n",
    "      C. Building ML Models\n",
    "          C.1 Split training/test datasets\n",
    "          C.2 L2 logistic regression model\n",
    "          C.3 L1 logistic regression model\n",
    "          C.4 Decision tree\n",
    "          C.5 Random Forest\n",
    "      D. ROC Curve and Model Comparison     \n",
    "      "
   ]
  },
  {
   "cell_type": "code",
   "execution_count": 184,
   "metadata": {},
   "outputs": [],
   "source": [
    "import numpy as np\n",
    "import pandas as pd\n",
    "from datetime import datetime\n",
    "\n",
    "from sklearn.cross_validation import cross_val_score, train_test_split\n",
    "from sklearn.tree import DecisionTreeClassifier\n",
    "from sklearn import linear_model\n",
    "from sklearn import grid_search\n",
    "from sklearn.ensemble import RandomForestClassifier\n",
    "\n",
    "from sklearn import metrics\n",
    "\n",
    "import matplotlib.pyplot as plt\n",
    "%matplotlib inline\n",
    "\n",
    "import matplotlib.lines as mlines"
   ]
  },
  {
   "cell_type": "markdown",
   "metadata": {},
   "source": [
    "## A. Reading Data Using Pandas"
   ]
  },
  {
   "cell_type": "code",
   "execution_count": 194,
   "metadata": {},
   "outputs": [
    {
     "data": {
      "text/plain": [
       "(165474, 22)"
      ]
     },
     "execution_count": 194,
     "metadata": {},
     "output_type": "execute_result"
    }
   ],
   "source": [
    "data = pd.read_csv('assessment_data.csv')\n",
    "data.shape"
   ]
  },
  {
   "cell_type": "code",
   "execution_count": 135,
   "metadata": {},
   "outputs": [
    {
     "data": {
      "text/html": [
       "<div>\n",
       "<table border=\"1\" class=\"dataframe\">\n",
       "  <thead>\n",
       "    <tr style=\"text-align: right;\">\n",
       "      <th></th>\n",
       "      <th>Unnamed: 0</th>\n",
       "      <th>device1</th>\n",
       "      <th>device1_numsessions</th>\n",
       "      <th>device2</th>\n",
       "      <th>session_overlaps</th>\n",
       "      <th>device2_numsessions</th>\n",
       "      <th>device2_count2</th>\n",
       "      <th>device2_count3</th>\n",
       "      <th>device2_loc1</th>\n",
       "      <th>device2_count4</th>\n",
       "      <th>...</th>\n",
       "      <th>device2_date2</th>\n",
       "      <th>device2_bool1</th>\n",
       "      <th>additional_feature1</th>\n",
       "      <th>additional_feature2</th>\n",
       "      <th>additional_feature3</th>\n",
       "      <th>additional_feature4</th>\n",
       "      <th>additional_feature5</th>\n",
       "      <th>device1_date1</th>\n",
       "      <th>device1_loc1</th>\n",
       "      <th>classification</th>\n",
       "    </tr>\n",
       "  </thead>\n",
       "  <tbody>\n",
       "    <tr>\n",
       "      <th>0</th>\n",
       "      <td>12</td>\n",
       "      <td>device1424</td>\n",
       "      <td>10</td>\n",
       "      <td>device277201</td>\n",
       "      <td>3</td>\n",
       "      <td>10</td>\n",
       "      <td>2</td>\n",
       "      <td>10</td>\n",
       "      <td>Store_2456</td>\n",
       "      <td>5</td>\n",
       "      <td>...</td>\n",
       "      <td>2017-04-01 17:53:35.0</td>\n",
       "      <td>1.0</td>\n",
       "      <td>3</td>\n",
       "      <td>2029</td>\n",
       "      <td>1.137013</td>\n",
       "      <td>1.0</td>\n",
       "      <td>0.348135</td>\n",
       "      <td>2016-11-26</td>\n",
       "      <td>Store_2456</td>\n",
       "      <td>0</td>\n",
       "    </tr>\n",
       "    <tr>\n",
       "      <th>1</th>\n",
       "      <td>85</td>\n",
       "      <td>device9313</td>\n",
       "      <td>8</td>\n",
       "      <td>device158640</td>\n",
       "      <td>3</td>\n",
       "      <td>11</td>\n",
       "      <td>1</td>\n",
       "      <td>11</td>\n",
       "      <td>Store_2038</td>\n",
       "      <td>11</td>\n",
       "      <td>...</td>\n",
       "      <td>2017-01-24 13:59:02.0</td>\n",
       "      <td>NaN</td>\n",
       "      <td>2</td>\n",
       "      <td>2611</td>\n",
       "      <td>1.008809</td>\n",
       "      <td>1.0</td>\n",
       "      <td>0.093441</td>\n",
       "      <td>2016-11-16</td>\n",
       "      <td>Store_2038</td>\n",
       "      <td>0</td>\n",
       "    </tr>\n",
       "    <tr>\n",
       "      <th>2</th>\n",
       "      <td>107</td>\n",
       "      <td>device12934</td>\n",
       "      <td>4</td>\n",
       "      <td>device219316</td>\n",
       "      <td>3</td>\n",
       "      <td>6</td>\n",
       "      <td>2</td>\n",
       "      <td>6</td>\n",
       "      <td>Store_1947</td>\n",
       "      <td>6</td>\n",
       "      <td>...</td>\n",
       "      <td>2017-07-15 13:43:06.0</td>\n",
       "      <td>1.0</td>\n",
       "      <td>2</td>\n",
       "      <td>1903</td>\n",
       "      <td>1.016816</td>\n",
       "      <td>1.0</td>\n",
       "      <td>0.128580</td>\n",
       "      <td>2016-12-30</td>\n",
       "      <td>Store_1947</td>\n",
       "      <td>0</td>\n",
       "    </tr>\n",
       "    <tr>\n",
       "      <th>3</th>\n",
       "      <td>108</td>\n",
       "      <td>device12989</td>\n",
       "      <td>8</td>\n",
       "      <td>device283349</td>\n",
       "      <td>2</td>\n",
       "      <td>3</td>\n",
       "      <td>1</td>\n",
       "      <td>3</td>\n",
       "      <td>Store_1900</td>\n",
       "      <td>3</td>\n",
       "      <td>...</td>\n",
       "      <td>2017-03-30 12:16:00.0</td>\n",
       "      <td>NaN</td>\n",
       "      <td>2</td>\n",
       "      <td>1973</td>\n",
       "      <td>1.011151</td>\n",
       "      <td>1.0</td>\n",
       "      <td>0.105006</td>\n",
       "      <td>2016-11-21</td>\n",
       "      <td>Store_1900</td>\n",
       "      <td>0</td>\n",
       "    </tr>\n",
       "    <tr>\n",
       "      <th>4</th>\n",
       "      <td>116</td>\n",
       "      <td>device14262</td>\n",
       "      <td>9</td>\n",
       "      <td>device157131</td>\n",
       "      <td>2</td>\n",
       "      <td>3</td>\n",
       "      <td>1</td>\n",
       "      <td>3</td>\n",
       "      <td>Store_2022</td>\n",
       "      <td>3</td>\n",
       "      <td>...</td>\n",
       "      <td>2016-12-04 13:46:36.0</td>\n",
       "      <td>NaN</td>\n",
       "      <td>2</td>\n",
       "      <td>2949</td>\n",
       "      <td>1.005765</td>\n",
       "      <td>1.0</td>\n",
       "      <td>0.075706</td>\n",
       "      <td>2016-11-20</td>\n",
       "      <td>Store_2022</td>\n",
       "      <td>0</td>\n",
       "    </tr>\n",
       "  </tbody>\n",
       "</table>\n",
       "<p>5 rows × 22 columns</p>\n",
       "</div>"
      ],
      "text/plain": [
       "   Unnamed: 0      device1  device1_numsessions       device2  \\\n",
       "0          12   device1424                   10  device277201   \n",
       "1          85   device9313                    8  device158640   \n",
       "2         107  device12934                    4  device219316   \n",
       "3         108  device12989                    8  device283349   \n",
       "4         116  device14262                    9  device157131   \n",
       "\n",
       "   session_overlaps  device2_numsessions  device2_count2  device2_count3  \\\n",
       "0                 3                   10               2              10   \n",
       "1                 3                   11               1              11   \n",
       "2                 3                    6               2               6   \n",
       "3                 2                    3               1               3   \n",
       "4                 2                    3               1               3   \n",
       "\n",
       "  device2_loc1  device2_count4      ...                device2_date2  \\\n",
       "0   Store_2456               5      ...        2017-04-01 17:53:35.0   \n",
       "1   Store_2038              11      ...        2017-01-24 13:59:02.0   \n",
       "2   Store_1947               6      ...        2017-07-15 13:43:06.0   \n",
       "3   Store_1900               3      ...        2017-03-30 12:16:00.0   \n",
       "4   Store_2022               3      ...        2016-12-04 13:46:36.0   \n",
       "\n",
       "  device2_bool1 additional_feature1  additional_feature2  additional_feature3  \\\n",
       "0           1.0                   3                 2029             1.137013   \n",
       "1           NaN                   2                 2611             1.008809   \n",
       "2           1.0                   2                 1903             1.016816   \n",
       "3           NaN                   2                 1973             1.011151   \n",
       "4           NaN                   2                 2949             1.005765   \n",
       "\n",
       "   additional_feature4  additional_feature5  device1_date1  device1_loc1  \\\n",
       "0                  1.0             0.348135     2016-11-26    Store_2456   \n",
       "1                  1.0             0.093441     2016-11-16    Store_2038   \n",
       "2                  1.0             0.128580     2016-12-30    Store_1947   \n",
       "3                  1.0             0.105006     2016-11-21    Store_1900   \n",
       "4                  1.0             0.075706     2016-11-20    Store_2022   \n",
       "\n",
       "  classification  \n",
       "0              0  \n",
       "1              0  \n",
       "2              0  \n",
       "3              0  \n",
       "4              0  \n",
       "\n",
       "[5 rows x 22 columns]"
      ]
     },
     "execution_count": 135,
     "metadata": {},
     "output_type": "execute_result"
    }
   ],
   "source": [
    "data.head()"
   ]
  },
  {
   "cell_type": "code",
   "execution_count": 5,
   "metadata": {},
   "outputs": [
    {
     "data": {
      "text/plain": [
       "['Unnamed: 0',\n",
       " 'additional_feature1',\n",
       " 'additional_feature2',\n",
       " 'additional_feature3',\n",
       " 'additional_feature4',\n",
       " 'additional_feature5',\n",
       " 'classification',\n",
       " 'device1',\n",
       " 'device1_date1',\n",
       " 'device1_loc1',\n",
       " 'device1_numsessions',\n",
       " 'device2',\n",
       " 'device2_bool1',\n",
       " 'device2_count2',\n",
       " 'device2_count3',\n",
       " 'device2_count4',\n",
       " 'device2_count5',\n",
       " 'device2_date1',\n",
       " 'device2_date2',\n",
       " 'device2_loc1',\n",
       " 'device2_numsessions',\n",
       " 'session_overlaps']"
      ]
     },
     "execution_count": 5,
     "metadata": {},
     "output_type": "execute_result"
    }
   ],
   "source": [
    "sorted(data.columns)"
   ]
  },
  {
   "cell_type": "code",
   "execution_count": 10,
   "metadata": {},
   "outputs": [
    {
     "name": "stdout",
     "output_type": "stream",
     "text": [
      "{0: 103008, 1: 62466}\n"
     ]
    }
   ],
   "source": [
    "labels = {}\n",
    "for label in data['classification'].tolist():\n",
    "    labels[label] = labels.get(label, 0) + 1\n",
    "    \n",
    "print (labels)"
   ]
  },
  {
   "cell_type": "markdown",
   "metadata": {},
   "source": [
    "## B. Reprocess DataFrame "
   ]
  },
  {
   "cell_type": "code",
   "execution_count": 138,
   "metadata": {},
   "outputs": [
    {
     "data": {
      "text/plain": [
       "(165474, 13)"
      ]
     },
     "execution_count": 138,
     "metadata": {},
     "output_type": "execute_result"
    }
   ],
   "source": [
    "df = data[['classification',\n",
    " 'device2_count2',\n",
    " 'device2_count3',\n",
    " 'device2_count4',\n",
    " 'device2_count5',\n",
    " 'additional_feature1',\n",
    " 'additional_feature2',\n",
    " 'additional_feature3',\n",
    " 'additional_feature4',\n",
    " 'additional_feature5',\n",
    " 'device1_numsessions',\n",
    " 'device2_numsessions',\n",
    " 'session_overlaps']].dropna()\n",
    "\n",
    "df.shape"
   ]
  },
  {
   "cell_type": "code",
   "execution_count": 105,
   "metadata": {},
   "outputs": [],
   "source": [
    "classification = data['classification'].tolist()"
   ]
  },
  {
   "cell_type": "markdown",
   "metadata": {},
   "source": [
    "### B.1 'Device2_bool1' feature\n",
    "\n",
    "This feature may be useful. I found as `device2_bool1=Nan`, $22\\%$ of observations are truely related. But if `device2_bool1=1`, $65\\%$ of observations are truely related! Thus this feature should play a good role for classification and is worthy to reprocess and use later."
   ]
  },
  {
   "cell_type": "code",
   "execution_count": 139,
   "metadata": {},
   "outputs": [
    {
     "name": "stdout",
     "output_type": "stream",
     "text": [
      "num of (bool1=Nan): 106383 , pos rate (as bool1 is Nan) = 0.224\n",
      "num of (bool1=1): 59091 , pos rate (as bool1 =1) = 0.654\n"
     ]
    }
   ],
   "source": [
    "device2_bool1 = data['device2_bool1'].replace(float('Nan'),0).tolist()\n",
    "labels = {}\n",
    "for boolean, label in zip(device2_bool1, classification):\n",
    "    labels[(boolean, label)] = labels.get((boolean, label), 0) + 1\n",
    "    \n",
    "print ('num of (bool1=Nan):', labels[(0.0, 1)]+labels[(0.0, 0)], ', pos rate (as bool1 is Nan) = %.3f' %round(float(labels[(0.0, 1)]/(labels[(0.0, 1)]+labels[(0.0, 0)])),3)) \n",
    "print ('num of (bool1=1):', labels[(1.0, 1)]+labels[(1.0, 0)], ', pos rate (as bool1 =1) = %.3f' %round(float(labels[(1.0, 1)]/(labels[(1.0, 1)]+labels[(1.0, 0)])),3))"
   ]
  },
  {
   "cell_type": "code",
   "execution_count": 140,
   "metadata": {},
   "outputs": [],
   "source": [
    "df['bool'] = device2_bool1"
   ]
  },
  {
   "cell_type": "markdown",
   "metadata": {},
   "source": [
    "### B.2 Is 'Device1_loc1' == 'Device2_loc1' feature\n",
    "\n",
    "Similar, if `Device1_loc1 == Device2_loc1`, $29\\%$ is positive, whereas $39\\%$ for `Device1_loc1 != Device2_loc1`. Thus, this attribute should be helpful for model feature."
   ]
  },
  {
   "cell_type": "code",
   "execution_count": 127,
   "metadata": {},
   "outputs": [
    {
     "name": "stdout",
     "output_type": "stream",
     "text": [
      "{(0, 1): 57333, (1, 0): 12840, (0, 0): 90168, (1, 1): 5133}\n",
      "num of diff loc: 17973 , pos rate (diff loc) = 0.286\n",
      "num of same loc: 147501 , pos rate (same loc) = 0.389\n"
     ]
    }
   ],
   "source": [
    "device1_loc1 = data['device1_loc1'].tolist()\n",
    "device2_loc1 = data['device2_loc1'].tolist()\n",
    "\n",
    "i, is_loc_diff = 0, {}\n",
    "for x, y in zip(device1_loc1, device2_loc1):\n",
    "    if x != y:\n",
    "        diff = 1\n",
    "    else:\n",
    "        diff = 0    \n",
    "    is_loc_diff[(diff, classification[i])] = is_loc_diff.get((diff, classification[i]), 0) + 1\n",
    "    i += 1\n",
    "    \n",
    "print (is_loc_diff)\n",
    "print ('num of diff loc:', is_loc_diff[(1, 1)]+is_loc_diff[(1, 0)], ', pos rate (diff loc) = %.3f' %round(float(is_loc_diff[(1, 1)]/(is_loc_diff[(1, 1)]+is_loc_diff[(1, 0)])),3)) \n",
    "print ('num of same loc:', is_loc_diff[(0, 1)]+is_loc_diff[(0, 0)], ', pos rate (same loc) = %.3f' %round(float(is_loc_diff[(0, 1)]/(is_loc_diff[(0, 1)]+is_loc_diff[(0, 0)])),3))"
   ]
  },
  {
   "cell_type": "code",
   "execution_count": 141,
   "metadata": {},
   "outputs": [],
   "source": [
    "is_loc_diff = []\n",
    "for x, y in zip(data['device2_loc1'].tolist(), data['device1_loc1'].tolist()):\n",
    "    if x != y:\n",
    "        is_loc_diff.append(1)\n",
    "    else:\n",
    "        is_loc_diff.append(0)\n",
    "        \n",
    "df['is_loc_diff'] = is_loc_diff"
   ]
  },
  {
   "cell_type": "markdown",
   "metadata": {},
   "source": [
    "### B.3 Timestamp interval feature\n",
    "\n",
    "Direcly using the timestamp from data is not useful. Here I just simply consider the day difference between `device1_date1` and `device2_date1`/`device2_date2` as two model features."
   ]
  },
  {
   "cell_type": "code",
   "execution_count": 142,
   "metadata": {},
   "outputs": [],
   "source": [
    "time_diff_1, time_diff_2 = [], []\n",
    "for i, row in enumerate(data.iterrows()):\n",
    "    row = row[1]\n",
    "    device1_date1 = row['device1_date1']\n",
    "    device2_date1 = row['device2_date1']\n",
    "    device2_date2 = row['device2_date2']\n",
    "    time_diff_1.append((datetime.strptime(device1_date1, '%Y-%m-%d')-datetime.strptime(device2_date1.split(' ')[0], '%Y-%m-%d')).days)\n",
    "    time_diff_2.append((datetime.strptime(device1_date1, '%Y-%m-%d')-datetime.strptime(device2_date2.split(' ')[0], '%Y-%m-%d')).days)\n",
    "    \n",
    "df['time_diff_1'] = time_diff_1\n",
    "df['time_diff_2'] = time_diff_2"
   ]
  },
  {
   "cell_type": "code",
   "execution_count": 143,
   "metadata": {},
   "outputs": [
    {
     "data": {
      "text/html": [
       "<div>\n",
       "<table border=\"1\" class=\"dataframe\">\n",
       "  <thead>\n",
       "    <tr style=\"text-align: right;\">\n",
       "      <th></th>\n",
       "      <th>classification</th>\n",
       "      <th>device2_count2</th>\n",
       "      <th>device2_count3</th>\n",
       "      <th>device2_count4</th>\n",
       "      <th>device2_count5</th>\n",
       "      <th>additional_feature1</th>\n",
       "      <th>additional_feature2</th>\n",
       "      <th>additional_feature3</th>\n",
       "      <th>additional_feature4</th>\n",
       "      <th>additional_feature5</th>\n",
       "      <th>device1_numsessions</th>\n",
       "      <th>device2_numsessions</th>\n",
       "      <th>session_overlaps</th>\n",
       "      <th>bool</th>\n",
       "      <th>is_loc_diff</th>\n",
       "      <th>time_diff_1</th>\n",
       "      <th>time_diff_2</th>\n",
       "    </tr>\n",
       "  </thead>\n",
       "  <tbody>\n",
       "    <tr>\n",
       "      <th>0</th>\n",
       "      <td>0</td>\n",
       "      <td>2</td>\n",
       "      <td>10</td>\n",
       "      <td>5</td>\n",
       "      <td>5</td>\n",
       "      <td>3</td>\n",
       "      <td>2029</td>\n",
       "      <td>1.137013</td>\n",
       "      <td>1.0</td>\n",
       "      <td>0.348135</td>\n",
       "      <td>10</td>\n",
       "      <td>10</td>\n",
       "      <td>3</td>\n",
       "      <td>1.0</td>\n",
       "      <td>0</td>\n",
       "      <td>30</td>\n",
       "      <td>-126</td>\n",
       "    </tr>\n",
       "    <tr>\n",
       "      <th>1</th>\n",
       "      <td>0</td>\n",
       "      <td>1</td>\n",
       "      <td>11</td>\n",
       "      <td>11</td>\n",
       "      <td>11</td>\n",
       "      <td>2</td>\n",
       "      <td>2611</td>\n",
       "      <td>1.008809</td>\n",
       "      <td>1.0</td>\n",
       "      <td>0.093441</td>\n",
       "      <td>8</td>\n",
       "      <td>11</td>\n",
       "      <td>3</td>\n",
       "      <td>0.0</td>\n",
       "      <td>0</td>\n",
       "      <td>49</td>\n",
       "      <td>-69</td>\n",
       "    </tr>\n",
       "    <tr>\n",
       "      <th>2</th>\n",
       "      <td>0</td>\n",
       "      <td>2</td>\n",
       "      <td>6</td>\n",
       "      <td>6</td>\n",
       "      <td>6</td>\n",
       "      <td>2</td>\n",
       "      <td>1903</td>\n",
       "      <td>1.016816</td>\n",
       "      <td>1.0</td>\n",
       "      <td>0.128580</td>\n",
       "      <td>4</td>\n",
       "      <td>6</td>\n",
       "      <td>3</td>\n",
       "      <td>1.0</td>\n",
       "      <td>0</td>\n",
       "      <td>35</td>\n",
       "      <td>-197</td>\n",
       "    </tr>\n",
       "    <tr>\n",
       "      <th>3</th>\n",
       "      <td>0</td>\n",
       "      <td>1</td>\n",
       "      <td>3</td>\n",
       "      <td>3</td>\n",
       "      <td>3</td>\n",
       "      <td>2</td>\n",
       "      <td>1973</td>\n",
       "      <td>1.011151</td>\n",
       "      <td>1.0</td>\n",
       "      <td>0.105006</td>\n",
       "      <td>8</td>\n",
       "      <td>3</td>\n",
       "      <td>2</td>\n",
       "      <td>0.0</td>\n",
       "      <td>0</td>\n",
       "      <td>-57</td>\n",
       "      <td>-129</td>\n",
       "    </tr>\n",
       "    <tr>\n",
       "      <th>4</th>\n",
       "      <td>0</td>\n",
       "      <td>1</td>\n",
       "      <td>3</td>\n",
       "      <td>3</td>\n",
       "      <td>3</td>\n",
       "      <td>2</td>\n",
       "      <td>2949</td>\n",
       "      <td>1.005765</td>\n",
       "      <td>1.0</td>\n",
       "      <td>0.075706</td>\n",
       "      <td>9</td>\n",
       "      <td>3</td>\n",
       "      <td>2</td>\n",
       "      <td>0.0</td>\n",
       "      <td>0</td>\n",
       "      <td>30</td>\n",
       "      <td>-14</td>\n",
       "    </tr>\n",
       "  </tbody>\n",
       "</table>\n",
       "</div>"
      ],
      "text/plain": [
       "   classification  device2_count2  device2_count3  device2_count4  \\\n",
       "0               0               2              10               5   \n",
       "1               0               1              11              11   \n",
       "2               0               2               6               6   \n",
       "3               0               1               3               3   \n",
       "4               0               1               3               3   \n",
       "\n",
       "   device2_count5  additional_feature1  additional_feature2  \\\n",
       "0               5                    3                 2029   \n",
       "1              11                    2                 2611   \n",
       "2               6                    2                 1903   \n",
       "3               3                    2                 1973   \n",
       "4               3                    2                 2949   \n",
       "\n",
       "   additional_feature3  additional_feature4  additional_feature5  \\\n",
       "0             1.137013                  1.0             0.348135   \n",
       "1             1.008809                  1.0             0.093441   \n",
       "2             1.016816                  1.0             0.128580   \n",
       "3             1.011151                  1.0             0.105006   \n",
       "4             1.005765                  1.0             0.075706   \n",
       "\n",
       "   device1_numsessions  device2_numsessions  session_overlaps  bool  \\\n",
       "0                   10                   10                 3   1.0   \n",
       "1                    8                   11                 3   0.0   \n",
       "2                    4                    6                 3   1.0   \n",
       "3                    8                    3                 2   0.0   \n",
       "4                    9                    3                 2   0.0   \n",
       "\n",
       "   is_loc_diff  time_diff_1  time_diff_2  \n",
       "0            0           30         -126  \n",
       "1            0           49          -69  \n",
       "2            0           35         -197  \n",
       "3            0          -57         -129  \n",
       "4            0           30          -14  "
      ]
     },
     "execution_count": 143,
     "metadata": {},
     "output_type": "execute_result"
    }
   ],
   "source": [
    "df.head()"
   ]
  },
  {
   "cell_type": "code",
   "execution_count": 145,
   "metadata": {},
   "outputs": [
    {
     "data": {
      "text/plain": [
       "(165474, 17)"
      ]
     },
     "execution_count": 145,
     "metadata": {},
     "output_type": "execute_result"
    }
   ],
   "source": [
    "df.shape"
   ]
  },
  {
   "cell_type": "code",
   "execution_count": 148,
   "metadata": {},
   "outputs": [
    {
     "data": {
      "text/plain": [
       "Index(['classification', 'device2_count2', 'device2_count3', 'device2_count4',\n",
       "       'device2_count5', 'additional_feature1', 'additional_feature2',\n",
       "       'additional_feature3', 'additional_feature4', 'additional_feature5',\n",
       "       'device1_numsessions', 'device2_numsessions', 'session_overlaps',\n",
       "       'bool', 'is_loc_diff', 'time_diff_1', 'time_diff_2'],\n",
       "      dtype='object')"
      ]
     },
     "execution_count": 148,
     "metadata": {},
     "output_type": "execute_result"
    }
   ],
   "source": [
    "df.columns"
   ]
  },
  {
   "cell_type": "markdown",
   "metadata": {},
   "source": [
    "Now there are 17 features in data."
   ]
  },
  {
   "cell_type": "markdown",
   "metadata": {},
   "source": [
    "## C. Building ML Model\n",
    "\n",
    "I will implement two linear models: logistic models with $L_1$ and $L_2$ regularization and two non-linear models: Decision tree and random forest. For each, I do 10-fold cross validation for grid search optimal model hyper-parameters.\n",
    "\n",
    "### C.1 Split training/test datasets\n",
    "\n",
    "Take $70%$ as training dataset and $30\\%$ as test dataset."
   ]
  },
  {
   "cell_type": "code",
   "execution_count": 151,
   "metadata": {},
   "outputs": [
    {
     "name": "stdout",
     "output_type": "stream",
     "text": [
      "(115831, 16) (115831,) (49643, 16)\n"
     ]
    }
   ],
   "source": [
    "X = df[['device2_count2', 'device2_count3', 'device2_count4', 'device2_count5', \n",
    "   'additional_feature1', 'additional_feature2','additional_feature3', 'additional_feature4', 'additional_feature5',\n",
    "    'device1_numsessions', 'device2_numsessions', 'session_overlaps',\n",
    "    'bool', 'is_loc_diff', 'time_diff_1', 'time_diff_2']]\n",
    " \n",
    "Y = df['classification']\n",
    "\n",
    "X_train, X_test, y_train, y_test = train_test_split(X, Y, test_size=0.3);\n",
    "print (X_train.shape, y_train.shape, X_test.shape)"
   ]
  },
  {
   "cell_type": "markdown",
   "metadata": {},
   "source": [
    "### C.2 L2 logistic regression model\n",
    "\n",
    "First try linear model $-$ logistic regression with $L_2$ regularization. "
   ]
  },
  {
   "cell_type": "code",
   "execution_count": 159,
   "metadata": {},
   "outputs": [
    {
     "name": "stdout",
     "output_type": "stream",
     "text": [
      "0.01 0.818373414846\n",
      "0.02 0.817691381571\n",
      "0.03 0.817915804489\n",
      "0.04 0.818218015435\n",
      "0.05 0.818390654696\n",
      "0.06 0.81810576708\n",
      "0.07 0.817510120147\n",
      "0.08 0.817371917357\n",
      "0.09 0.81753598216\n",
      "best reg parameter = 0.050 , accuracy = 0.817\n"
     ]
    }
   ],
   "source": [
    "best_logreg_model = None\n",
    "max_score = -1\n",
    "best_reg = -1\n",
    "for regularization_param in [x*0.01 for x in range(1, 10)]:\n",
    "    logreg = linear_model.LogisticRegression('l2', C=regularization_param)\n",
    "    cv_score = cross_val_score(logreg, X_train, y_train, cv=10)\n",
    "    print (regularization_param, np.mean(cv_score))\n",
    "    if np.mean(cv_score) > max_score:\n",
    "        max_score = np.mean(cv_score)\n",
    "        best_logreg_model = logreg\n",
    "        best_reg = regularization_param\n",
    "\n",
    "best_logreg_model.fit(X_train, y_train)\n",
    "print ('best reg parameter = %.3f' %best_reg, ', accuracy = %.3f' %best_logreg_model.score(X_test, y_test))"
   ]
  },
  {
   "cell_type": "code",
   "execution_count": 175,
   "metadata": {},
   "outputs": [],
   "source": [
    "logreg_y_test_prob = best_logreg_model.predict_proba(X_test)"
   ]
  },
  {
   "cell_type": "markdown",
   "metadata": {},
   "source": [
    "### C.3 L1 logistic regression model\n",
    "\n",
    "Logistic regression with  $L_1$  regularization."
   ]
  },
  {
   "cell_type": "code",
   "execution_count": 174,
   "metadata": {},
   "outputs": [
    {
     "name": "stdout",
     "output_type": "stream",
     "text": [
      "0.01 0.817941758924\n",
      "0.1 0.817708670614\n",
      "0.5 0.817665499432\n",
      "1 0.817613690436\n",
      "2 0.817674124575\n",
      "5 0.817674130538\n",
      "10 0.817777728406\n",
      "50 0.817674123085\n",
      "100 0.817708664651\n",
      "best reg parameter = 0.010 , accuracy = 0.818\n"
     ]
    }
   ],
   "source": [
    "best_L1_model = None\n",
    "max_score = -1\n",
    "best_reg = -1\n",
    "for regularization_param in [0.01, 0.1, 0.5, 1, 2, 5, 10, 50, 100]:\n",
    "    logreg = linear_model.LogisticRegression('l1', C=regularization_param)\n",
    "    cv_score = cross_val_score(logreg, X_train, y_train, cv=10)\n",
    "    print (regularization_param, np.mean(cv_score))\n",
    "    if np.mean(cv_score) > max_score:\n",
    "        max_score = np.mean(cv_score)\n",
    "        best_L1_model = logreg\n",
    "        best_reg = regularization_param\n",
    "\n",
    "best_L1_model.fit(X_train, y_train)\n",
    "print ('best reg parameter = %.3f' %best_reg, ', accuracy = %.3f' %best_L1_model.score(X_test, y_test))"
   ]
  },
  {
   "cell_type": "code",
   "execution_count": 212,
   "metadata": {},
   "outputs": [
    {
     "data": {
      "text/html": [
       "<div>\n",
       "<table border=\"1\" class=\"dataframe\">\n",
       "  <thead>\n",
       "    <tr style=\"text-align: right;\">\n",
       "      <th></th>\n",
       "      <th>feature</th>\n",
       "      <th>weight</th>\n",
       "    </tr>\n",
       "  </thead>\n",
       "  <tbody>\n",
       "    <tr>\n",
       "      <th>0</th>\n",
       "      <td>device2_count2</td>\n",
       "      <td>-0.358020</td>\n",
       "    </tr>\n",
       "    <tr>\n",
       "      <th>1</th>\n",
       "      <td>device2_count3</td>\n",
       "      <td>-0.017122</td>\n",
       "    </tr>\n",
       "    <tr>\n",
       "      <th>2</th>\n",
       "      <td>device2_count4</td>\n",
       "      <td>-0.045442</td>\n",
       "    </tr>\n",
       "    <tr>\n",
       "      <th>3</th>\n",
       "      <td>device2_count5</td>\n",
       "      <td>-0.000518</td>\n",
       "    </tr>\n",
       "    <tr>\n",
       "      <th>4</th>\n",
       "      <td>additional_feature1</td>\n",
       "      <td>-0.508544</td>\n",
       "    </tr>\n",
       "    <tr>\n",
       "      <th>5</th>\n",
       "      <td>additional_feature2</td>\n",
       "      <td>-0.000088</td>\n",
       "    </tr>\n",
       "    <tr>\n",
       "      <th>6</th>\n",
       "      <td>additional_feature3</td>\n",
       "      <td>-0.810275</td>\n",
       "    </tr>\n",
       "    <tr>\n",
       "      <th>7</th>\n",
       "      <td>additional_feature4</td>\n",
       "      <td>-0.104529</td>\n",
       "    </tr>\n",
       "    <tr>\n",
       "      <th>8</th>\n",
       "      <td>additional_feature5</td>\n",
       "      <td>-0.776871</td>\n",
       "    </tr>\n",
       "    <tr>\n",
       "      <th>9</th>\n",
       "      <td>device1_numsessions</td>\n",
       "      <td>-0.099178</td>\n",
       "    </tr>\n",
       "    <tr>\n",
       "      <th>10</th>\n",
       "      <td>device2_numsessions</td>\n",
       "      <td>-0.026188</td>\n",
       "    </tr>\n",
       "    <tr>\n",
       "      <th>11</th>\n",
       "      <td>session_overlaps</td>\n",
       "      <td>0.817945</td>\n",
       "    </tr>\n",
       "    <tr>\n",
       "      <th>12</th>\n",
       "      <td>bool</td>\n",
       "      <td>1.624646</td>\n",
       "    </tr>\n",
       "    <tr>\n",
       "      <th>13</th>\n",
       "      <td>is_loc_diff</td>\n",
       "      <td>0.000000</td>\n",
       "    </tr>\n",
       "    <tr>\n",
       "      <th>14</th>\n",
       "      <td>time_diff_1</td>\n",
       "      <td>0.002521</td>\n",
       "    </tr>\n",
       "    <tr>\n",
       "      <th>15</th>\n",
       "      <td>time_diff_2</td>\n",
       "      <td>-0.003170</td>\n",
       "    </tr>\n",
       "  </tbody>\n",
       "</table>\n",
       "</div>"
      ],
      "text/plain": [
       "                feature    weight\n",
       "0        device2_count2 -0.358020\n",
       "1        device2_count3 -0.017122\n",
       "2        device2_count4 -0.045442\n",
       "3        device2_count5 -0.000518\n",
       "4   additional_feature1 -0.508544\n",
       "5   additional_feature2 -0.000088\n",
       "6   additional_feature3 -0.810275\n",
       "7   additional_feature4 -0.104529\n",
       "8   additional_feature5 -0.776871\n",
       "9   device1_numsessions -0.099178\n",
       "10  device2_numsessions -0.026188\n",
       "11     session_overlaps  0.817945\n",
       "12                 bool  1.624646\n",
       "13          is_loc_diff  0.000000\n",
       "14          time_diff_1  0.002521\n",
       "15          time_diff_2 -0.003170"
      ]
     },
     "execution_count": 212,
     "metadata": {},
     "output_type": "execute_result"
    }
   ],
   "source": [
    "df = pd.DataFrame({'feature': list(X.columns), 'weight': list(best_L1_model.coef_[0])})\n",
    "df.head(16)"
   ]
  },
  {
   "cell_type": "markdown",
   "metadata": {},
   "source": [
    "Compare to feature list, the largest weight is `bool` and second is `session_overlaps`. Interestingly, `is_loc_diff`  contributes to zero importance."
   ]
  },
  {
   "cell_type": "code",
   "execution_count": 176,
   "metadata": {},
   "outputs": [],
   "source": [
    "L1_y_test_prob = best_logreg_model.predict_proba(X_test)"
   ]
  },
  {
   "cell_type": "markdown",
   "metadata": {},
   "source": [
    "### C.4 Decision tree\n",
    "\n",
    "Then non-linear model: decision tree. "
   ]
  },
  {
   "cell_type": "code",
   "execution_count": 164,
   "metadata": {},
   "outputs": [
    {
     "name": "stdout",
     "output_type": "stream",
     "text": [
      "4 5 0.764941954718\n",
      "4 10 0.816404682674\n",
      "4 15 0.810689691994\n",
      "4 20 0.782571055034\n",
      "6 5 0.776778332972\n",
      "6 10 0.829544754454\n",
      "6 15 0.81112998722\n",
      "6 20 0.784435863626\n",
      "8 5 0.785722249468\n",
      "8 10 0.829432488962\n",
      "8 15 0.812200565606\n",
      "8 20 0.7853337215\n",
      "10 5 0.796168652206\n",
      "10 10 0.832281549218\n",
      "10 15 0.811725687074\n",
      "10 20 0.786533808965\n",
      "12 5 0.80102047489\n",
      "12 10 0.831910232778\n",
      "12 15 0.812053760777\n",
      "12 20 0.785955349702\n",
      "14 5 0.801046367463\n",
      "14 10 0.834034086344\n",
      "14 15 0.81192424947\n",
      "14 20 0.78716400268\n",
      "16 5 0.805095434686\n",
      "16 10 0.835018240379\n",
      "16 15 0.813305657236\n",
      "16 20 0.785843080479\n",
      "best tree parameter = (16, 10) , accuracy = 0.817\n"
     ]
    }
   ],
   "source": [
    "best_tree_model = None\n",
    "best_nfeatures = -1\n",
    "best_depth = -1\n",
    "max_score = -1\n",
    "for features in [4, 6, 8, 10, 12, 14, 16]:\n",
    "    for depth in [5, 10, 15, 20]:\n",
    "        tree = DecisionTreeClassifier(max_features = features, max_depth = depth, random_state=0)\n",
    "        cv_score = cross_val_score(tree, X_train, y_train, cv=10)  \n",
    "        acc = np.mean(cv_score) \n",
    "        print (features, depth, acc)\n",
    "        if acc > max_score:\n",
    "            best_nfeatures = features \n",
    "            best_depth = depth\n",
    "            best_tree_model = tree\n",
    "            max_score = acc\n",
    "\n",
    "best_tree_model.fit(X_train, y_train)\n",
    "print ('best tree parameter =', (best_nfeatures, best_depth), ', accuracy = %.3f' %best_logreg_model.score(X_test, y_test))"
   ]
  },
  {
   "cell_type": "markdown",
   "metadata": {},
   "source": [
    "The optimal number of features is 16, and optimal depth is 10. Decision tree doesn't have obviously outperform linear models."
   ]
  },
  {
   "cell_type": "code",
   "execution_count": 172,
   "metadata": {},
   "outputs": [],
   "source": [
    "tree_y_test_prob = best_tree_model.predict_proba(X_test)"
   ]
  },
  {
   "cell_type": "markdown",
   "metadata": {},
   "source": [
    "### C.5 Random Forest"
   ]
  },
  {
   "cell_type": "code",
   "execution_count": 166,
   "metadata": {},
   "outputs": [],
   "source": [
    "rf = RandomForestClassifier()\n",
    "parameters = {'n_estimators': [4,6,8,10,12,14,16],'max_depth':[5,10,15],'min_samples_leaf':[5,10,20]}\n",
    "model_cv_grid = grid_search.GridSearchCV(rf,parameters,scoring='roc_auc',verbose=0, n_jobs=-1)\n",
    "model_cv_grid.fit(X_train,y_train)\n",
    "best_rf_model = model_cv_grid.best_estimator_;"
   ]
  },
  {
   "cell_type": "code",
   "execution_count": 167,
   "metadata": {},
   "outputs": [
    {
     "data": {
      "text/plain": [
       "RandomForestClassifier(bootstrap=True, class_weight=None, criterion='gini',\n",
       "            max_depth=15, max_features='auto', max_leaf_nodes=None,\n",
       "            min_impurity_split=1e-07, min_samples_leaf=20,\n",
       "            min_samples_split=2, min_weight_fraction_leaf=0.0,\n",
       "            n_estimators=14, n_jobs=1, oob_score=False, random_state=None,\n",
       "            verbose=0, warm_start=False)"
      ]
     },
     "execution_count": 167,
     "metadata": {},
     "output_type": "execute_result"
    }
   ],
   "source": [
    "best_rf_model"
   ]
  },
  {
   "cell_type": "code",
   "execution_count": 168,
   "metadata": {},
   "outputs": [
    {
     "name": "stdout",
     "output_type": "stream",
     "text": [
      "accuracy = 0.843\n"
     ]
    }
   ],
   "source": [
    "print ('accuracy = %.3f' %best_rf_model.score(X_test, y_test))"
   ]
  },
  {
   "cell_type": "markdown",
   "metadata": {},
   "source": [
    "Random forest shows significant improvement, about 2% accuracy increase. next we can check which features are important:"
   ]
  },
  {
   "cell_type": "code",
   "execution_count": 214,
   "metadata": {},
   "outputs": [
    {
     "data": {
      "text/html": [
       "<div>\n",
       "<table border=\"1\" class=\"dataframe\">\n",
       "  <thead>\n",
       "    <tr style=\"text-align: right;\">\n",
       "      <th></th>\n",
       "      <th>importance</th>\n",
       "      <th>variable</th>\n",
       "    </tr>\n",
       "  </thead>\n",
       "  <tbody>\n",
       "    <tr>\n",
       "      <th>0</th>\n",
       "      <td>0.257493</td>\n",
       "      <td>session_overlaps</td>\n",
       "    </tr>\n",
       "    <tr>\n",
       "      <th>1</th>\n",
       "      <td>0.240956</td>\n",
       "      <td>bool</td>\n",
       "    </tr>\n",
       "    <tr>\n",
       "      <th>2</th>\n",
       "      <td>0.078015</td>\n",
       "      <td>device1_numsessions</td>\n",
       "    </tr>\n",
       "    <tr>\n",
       "      <th>3</th>\n",
       "      <td>0.070681</td>\n",
       "      <td>device2_count2</td>\n",
       "    </tr>\n",
       "    <tr>\n",
       "      <th>4</th>\n",
       "      <td>0.069220</td>\n",
       "      <td>additional_feature3</td>\n",
       "    </tr>\n",
       "    <tr>\n",
       "      <th>5</th>\n",
       "      <td>0.065720</td>\n",
       "      <td>additional_feature5</td>\n",
       "    </tr>\n",
       "    <tr>\n",
       "      <th>6</th>\n",
       "      <td>0.047779</td>\n",
       "      <td>additional_feature1</td>\n",
       "    </tr>\n",
       "    <tr>\n",
       "      <th>7</th>\n",
       "      <td>0.041120</td>\n",
       "      <td>additional_feature2</td>\n",
       "    </tr>\n",
       "    <tr>\n",
       "      <th>8</th>\n",
       "      <td>0.033980</td>\n",
       "      <td>device2_numsessions</td>\n",
       "    </tr>\n",
       "    <tr>\n",
       "      <th>9</th>\n",
       "      <td>0.021088</td>\n",
       "      <td>device2_count3</td>\n",
       "    </tr>\n",
       "    <tr>\n",
       "      <th>10</th>\n",
       "      <td>0.018997</td>\n",
       "      <td>time_diff_1</td>\n",
       "    </tr>\n",
       "    <tr>\n",
       "      <th>11</th>\n",
       "      <td>0.018832</td>\n",
       "      <td>time_diff_2</td>\n",
       "    </tr>\n",
       "    <tr>\n",
       "      <th>12</th>\n",
       "      <td>0.016680</td>\n",
       "      <td>device2_count5</td>\n",
       "    </tr>\n",
       "    <tr>\n",
       "      <th>13</th>\n",
       "      <td>0.016383</td>\n",
       "      <td>device2_count4</td>\n",
       "    </tr>\n",
       "    <tr>\n",
       "      <th>14</th>\n",
       "      <td>0.001858</td>\n",
       "      <td>is_loc_diff</td>\n",
       "    </tr>\n",
       "    <tr>\n",
       "      <th>15</th>\n",
       "      <td>0.001199</td>\n",
       "      <td>additional_feature4</td>\n",
       "    </tr>\n",
       "  </tbody>\n",
       "</table>\n",
       "</div>"
      ],
      "text/plain": [
       "    importance             variable\n",
       "0     0.257493     session_overlaps\n",
       "1     0.240956                 bool\n",
       "2     0.078015  device1_numsessions\n",
       "3     0.070681       device2_count2\n",
       "4     0.069220  additional_feature3\n",
       "5     0.065720  additional_feature5\n",
       "6     0.047779  additional_feature1\n",
       "7     0.041120  additional_feature2\n",
       "8     0.033980  device2_numsessions\n",
       "9     0.021088       device2_count3\n",
       "10    0.018997          time_diff_1\n",
       "11    0.018832          time_diff_2\n",
       "12    0.016680       device2_count5\n",
       "13    0.016383       device2_count4\n",
       "14    0.001858          is_loc_diff\n",
       "15    0.001199  additional_feature4"
      ]
     },
     "execution_count": 214,
     "metadata": {},
     "output_type": "execute_result"
    }
   ],
   "source": [
    "importance = best_rf_model.feature_importances_\n",
    "attribute = X.columns\n",
    "\n",
    "v = sorted(range(len(importance)), key=lambda k: importance[k], reverse=True)\n",
    "sorted_importance = [importance[i] for i in v]\n",
    "sorted_attribute = [attribute[i] for i in v]\n",
    "\n",
    "df_importance = pd.DataFrame({'variable': sorted_attribute, 'importance' : sorted_importance})\n",
    "df_importance.sort_index().head(16)"
   ]
  },
  {
   "cell_type": "markdown",
   "metadata": {},
   "source": [
    "The top-3 important features are (1) `session_overlaps` (2) `bool` (3) `device1_numsessions`. But difference between No.3 and No. 4 is not obvious, so the rank below No. 3 is not significant. However, the observation of first two important features  `session_overlaps` and `bool` is consistent with using logistic models with $L_1$ regularizaiton. Moreover, `is_loc_diff` still shows small contribution in random forest models."
   ]
  },
  {
   "cell_type": "code",
   "execution_count": 170,
   "metadata": {},
   "outputs": [],
   "source": [
    "rf_y_test_prob = best_rf_model.predict_proba(X_test)"
   ]
  },
  {
   "cell_type": "markdown",
   "metadata": {},
   "source": [
    "## D. ROC Curve and Model Comparison\n",
    "\n",
    "In the following, we plot the ROC curves for each model and compute AUC. The random forest still shows the largest area and outperforms others. However, the difference between the models is not significant."
   ]
  },
  {
   "cell_type": "code",
   "execution_count": 195,
   "metadata": {},
   "outputs": [
    {
     "data": {
      "image/png": "[encoded data removed]",
      "text/plain": [
       "<matplotlib.figure.Figure at 0x11bf3f278>"
      ]
     },
     "metadata": {},
     "output_type": "display_data"
    }
   ],
   "source": [
    "fpr_logreg, tpr_logreg, _ = metrics.roc_curve(y_test, logreg_y_test_prob[:,1])\n",
    "roc_auc_logreg = metrics.auc(fpr_logreg, tpr_logreg)\n",
    "\n",
    "fpr_L1, tpr_L1, _ = metrics.roc_curve(y_test, L1_y_test_prob[:,1])\n",
    "roc_auc_L1 = metrics.auc(fpr_L1, tpr_L1)\n",
    "\n",
    "fpr_tree, tpr_tree, _ = metrics.roc_curve(y_test, tree_y_test_prob[:,1])\n",
    "roc_auc_tree = metrics.auc(fpr_tree, tpr_tree)\n",
    "\n",
    "fpr_rf, tpr_rf, _ = metrics.roc_curve(y_test, rf_y_test_prob[:,1])\n",
    "roc_auc_rf = metrics.auc(fpr_rf, tpr_rf)\n",
    "\n",
    "plt.figure(figsize=(9,7))\n",
    "plt.plot(fpr_logreg, tpr_logreg, color = 'b')\n",
    "plt.plot(fpr_L1, tpr_L1, color = 'r')   #m: magenta\n",
    "plt.plot(fpr_tree, tpr_tree, color = 'c')\n",
    "plt.plot(fpr_rf, tpr_rf, color = 'g')\n",
    "\n",
    "plt.plot([0, 1], [0, 1], 'k--')\n",
    "plt.xlim([0.0, 1.0])\n",
    "plt.ylim([0.0, 1.0])\n",
    "plt.xlabel('False Positive Rate', fontsize=17)\n",
    "plt.ylabel('True Positive Rate', fontsize=17)\n",
    "plt.title('ROC curves', fontsize=17)\n",
    "\n",
    "blue_line = mlines.Line2D([], [], color='blue', label='L2 Log-Reg (AUC = %0.2f)' % roc_auc_logreg)\n",
    "red_line = mlines.Line2D([], [], color='red', label='L1 Log-Reg (AUC = %0.2f)' % roc_auc_L1)\n",
    "yellow_line = mlines.Line2D([], [], color='cyan', label='Deicison Tree (AUC = %0.2f)' % roc_auc_tree)\n",
    "green_line = mlines.Line2D([], [], color='green', label='Random Forest (AUC = %0.2f)' % np.mean(roc_auc_rf))\n",
    "\n",
    "plt.legend(handles=[blue_line, red_line, yellow_line, green_line],loc=\"lower right\", fontsize=15)\n",
    "plt.show()"
   ]
  },
  {
   "cell_type": "code",
   "execution_count": null,
   "metadata": {},
   "outputs": [],
   "source": []
  },
  {
   "cell_type": "code",
   "execution_count": null,
   "metadata": {},
   "outputs": [],
   "source": []
  },
  {
   "cell_type": "code",
   "execution_count": null,
   "metadata": {},
   "outputs": [],
   "source": []
  }
 ],
 "metadata": {
  "kernelspec": {
   "display_name": "Python 3",
   "language": "python",
   "name": "python3"
  },
  "language_info": {
   "codemirror_mode": {
    "name": "ipython",
    "version": 3
   },
   "file_extension": ".py",
   "mimetype": "text/x-python",
   "name": "python",
   "nbconvert_exporter": "python",
   "pygments_lexer": "ipython3",
   "version": "3.5.2"
  }
 },
 "nbformat": 4,
 "nbformat_minor": 2
}
