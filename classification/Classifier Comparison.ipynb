{
 "cells": [
  {
   "cell_type": "markdown",
   "metadata": {},
   "source": [
    "# Classifier Comparison\n",
    "\n",
    "This note is to compare using various classifiers: Naive Bayes, logistic regression, linear/Quadratic Discriminant Analysis, support vector machine and K-nearest-neighbor and random forest to perform classification.\n",
    "\n",
    "The data is the Titanic data from the Kaggle website. Each observation denotes each passenger's profile, age, coach class, gender and fare. The target is binary, survived or not, y=0/1. We will first visualize the data, to gain insight which feature plays important role. Then we run the classifiers to compare the performance. \n",
    "\n",
    "* notation: \"MSE\" is the mean squared error."
   ]
  },
  {
   "cell_type": "code",
   "execution_count": 2,
   "metadata": {
    "collapsed": false,
    "scrolled": true
   },
   "outputs": [
    {
     "data": {
      "text/html": [
       "<div>\n",
       "<table border=\"1\" class=\"dataframe\">\n",
       "  <thead>\n",
       "    <tr style=\"text-align: right;\">\n",
       "      <th></th>\n",
       "      <th>PassengerId</th>\n",
       "      <th>Survived</th>\n",
       "      <th>Pclass</th>\n",
       "      <th>Name</th>\n",
       "      <th>Sex</th>\n",
       "      <th>Age</th>\n",
       "      <th>SibSp</th>\n",
       "      <th>Parch</th>\n",
       "      <th>Ticket</th>\n",
       "      <th>Fare</th>\n",
       "      <th>Cabin</th>\n",
       "      <th>Embarked</th>\n",
       "    </tr>\n",
       "  </thead>\n",
       "  <tbody>\n",
       "    <tr>\n",
       "      <th>0</th>\n",
       "      <td>1</td>\n",
       "      <td>0</td>\n",
       "      <td>3</td>\n",
       "      <td>Braund, Mr. Owen Harris</td>\n",
       "      <td>male</td>\n",
       "      <td>22</td>\n",
       "      <td>1</td>\n",
       "      <td>0</td>\n",
       "      <td>A/5 21171</td>\n",
       "      <td>7.2500</td>\n",
       "      <td>NaN</td>\n",
       "      <td>S</td>\n",
       "    </tr>\n",
       "    <tr>\n",
       "      <th>1</th>\n",
       "      <td>2</td>\n",
       "      <td>1</td>\n",
       "      <td>1</td>\n",
       "      <td>Cumings, Mrs. John Bradley (Florence Briggs Th...</td>\n",
       "      <td>female</td>\n",
       "      <td>38</td>\n",
       "      <td>1</td>\n",
       "      <td>0</td>\n",
       "      <td>PC 17599</td>\n",
       "      <td>71.2833</td>\n",
       "      <td>C85</td>\n",
       "      <td>C</td>\n",
       "    </tr>\n",
       "    <tr>\n",
       "      <th>2</th>\n",
       "      <td>3</td>\n",
       "      <td>1</td>\n",
       "      <td>3</td>\n",
       "      <td>Heikkinen, Miss. Laina</td>\n",
       "      <td>female</td>\n",
       "      <td>26</td>\n",
       "      <td>0</td>\n",
       "      <td>0</td>\n",
       "      <td>STON/O2. 3101282</td>\n",
       "      <td>7.9250</td>\n",
       "      <td>NaN</td>\n",
       "      <td>S</td>\n",
       "    </tr>\n",
       "    <tr>\n",
       "      <th>3</th>\n",
       "      <td>4</td>\n",
       "      <td>1</td>\n",
       "      <td>1</td>\n",
       "      <td>Futrelle, Mrs. Jacques Heath (Lily May Peel)</td>\n",
       "      <td>female</td>\n",
       "      <td>35</td>\n",
       "      <td>1</td>\n",
       "      <td>0</td>\n",
       "      <td>113803</td>\n",
       "      <td>53.1000</td>\n",
       "      <td>C123</td>\n",
       "      <td>S</td>\n",
       "    </tr>\n",
       "    <tr>\n",
       "      <th>4</th>\n",
       "      <td>5</td>\n",
       "      <td>0</td>\n",
       "      <td>3</td>\n",
       "      <td>Allen, Mr. William Henry</td>\n",
       "      <td>male</td>\n",
       "      <td>35</td>\n",
       "      <td>0</td>\n",
       "      <td>0</td>\n",
       "      <td>373450</td>\n",
       "      <td>8.0500</td>\n",
       "      <td>NaN</td>\n",
       "      <td>S</td>\n",
       "    </tr>\n",
       "  </tbody>\n",
       "</table>\n",
       "</div>"
      ],
      "text/plain": [
       "   PassengerId  Survived  Pclass  \\\n",
       "0            1         0       3   \n",
       "1            2         1       1   \n",
       "2            3         1       3   \n",
       "3            4         1       1   \n",
       "4            5         0       3   \n",
       "\n",
       "                                                Name     Sex  Age  SibSp  \\\n",
       "0                            Braund, Mr. Owen Harris    male   22      1   \n",
       "1  Cumings, Mrs. John Bradley (Florence Briggs Th...  female   38      1   \n",
       "2                             Heikkinen, Miss. Laina  female   26      0   \n",
       "3       Futrelle, Mrs. Jacques Heath (Lily May Peel)  female   35      1   \n",
       "4                           Allen, Mr. William Henry    male   35      0   \n",
       "\n",
       "   Parch            Ticket     Fare Cabin Embarked  \n",
       "0      0         A/5 21171   7.2500   NaN        S  \n",
       "1      0          PC 17599  71.2833   C85        C  \n",
       "2      0  STON/O2. 3101282   7.9250   NaN        S  \n",
       "3      0            113803  53.1000  C123        S  \n",
       "4      0            373450   8.0500   NaN        S  "
      ]
     },
     "execution_count": 2,
     "metadata": {},
     "output_type": "execute_result"
    }
   ],
   "source": [
    "import pandas as pd\n",
    "import numpy as np\n",
    "import random\n",
    "\n",
    "import matplotlib.pyplot as plt\n",
    "import matplotlib.lines as mlines\n",
    "import seaborn as sns\n",
    "sns.set_context(\"notebook\", font_scale=1.5,rc={\"lines.linewidth\": 3})\n",
    "%matplotlib inline\n",
    "\n",
    "DF = pd.read_csv('train-2.csv')\n",
    "DF.head()"
   ]
  },
  {
   "cell_type": "code",
   "execution_count": 3,
   "metadata": {
    "collapsed": false
   },
   "outputs": [
    {
     "data": {
      "text/plain": [
       "(891, 12)"
      ]
     },
     "execution_count": 3,
     "metadata": {},
     "output_type": "execute_result"
    }
   ],
   "source": [
    "DF.shape"
   ]
  },
  {
   "cell_type": "code",
   "execution_count": 4,
   "metadata": {
    "collapsed": false
   },
   "outputs": [
    {
     "data": {
      "text/html": [
       "<div>\n",
       "<table border=\"1\" class=\"dataframe\">\n",
       "  <thead>\n",
       "    <tr style=\"text-align: right;\">\n",
       "      <th></th>\n",
       "      <th>Survived</th>\n",
       "      <th>Pclass</th>\n",
       "      <th>Sex</th>\n",
       "      <th>Age</th>\n",
       "      <th>SibSp</th>\n",
       "      <th>Parch</th>\n",
       "      <th>Fare</th>\n",
       "    </tr>\n",
       "  </thead>\n",
       "  <tbody>\n",
       "    <tr>\n",
       "      <th>0</th>\n",
       "      <td>0</td>\n",
       "      <td>3</td>\n",
       "      <td>male</td>\n",
       "      <td>22</td>\n",
       "      <td>1</td>\n",
       "      <td>0</td>\n",
       "      <td>7.2500</td>\n",
       "    </tr>\n",
       "    <tr>\n",
       "      <th>1</th>\n",
       "      <td>1</td>\n",
       "      <td>1</td>\n",
       "      <td>female</td>\n",
       "      <td>38</td>\n",
       "      <td>1</td>\n",
       "      <td>0</td>\n",
       "      <td>71.2833</td>\n",
       "    </tr>\n",
       "    <tr>\n",
       "      <th>2</th>\n",
       "      <td>1</td>\n",
       "      <td>3</td>\n",
       "      <td>female</td>\n",
       "      <td>26</td>\n",
       "      <td>0</td>\n",
       "      <td>0</td>\n",
       "      <td>7.9250</td>\n",
       "    </tr>\n",
       "    <tr>\n",
       "      <th>3</th>\n",
       "      <td>1</td>\n",
       "      <td>1</td>\n",
       "      <td>female</td>\n",
       "      <td>35</td>\n",
       "      <td>1</td>\n",
       "      <td>0</td>\n",
       "      <td>53.1000</td>\n",
       "    </tr>\n",
       "    <tr>\n",
       "      <th>4</th>\n",
       "      <td>0</td>\n",
       "      <td>3</td>\n",
       "      <td>male</td>\n",
       "      <td>35</td>\n",
       "      <td>0</td>\n",
       "      <td>0</td>\n",
       "      <td>8.0500</td>\n",
       "    </tr>\n",
       "  </tbody>\n",
       "</table>\n",
       "</div>"
      ],
      "text/plain": [
       "   Survived  Pclass     Sex  Age  SibSp  Parch     Fare\n",
       "0         0       3    male   22      1      0   7.2500\n",
       "1         1       1  female   38      1      0  71.2833\n",
       "2         1       3  female   26      0      0   7.9250\n",
       "3         1       1  female   35      1      0  53.1000\n",
       "4         0       3    male   35      0      0   8.0500"
      ]
     },
     "execution_count": 4,
     "metadata": {},
     "output_type": "execute_result"
    }
   ],
   "source": [
    "DF = DF.loc[:,['Survived','Pclass','Sex','Age','SibSp','Parch','Fare']]\n",
    "DF.head()"
   ]
  },
  {
   "cell_type": "markdown",
   "metadata": {},
   "source": [
    "### Converting categorical variables to dummy variables"
   ]
  },
  {
   "cell_type": "code",
   "execution_count": 5,
   "metadata": {
    "collapsed": false,
    "scrolled": true
   },
   "outputs": [
    {
     "data": {
      "text/html": [
       "<div>\n",
       "<table border=\"1\" class=\"dataframe\">\n",
       "  <thead>\n",
       "    <tr style=\"text-align: right;\">\n",
       "      <th></th>\n",
       "      <th>Survived</th>\n",
       "      <th>Pclass</th>\n",
       "      <th>Age</th>\n",
       "      <th>SibSp</th>\n",
       "      <th>Parch</th>\n",
       "      <th>Fare</th>\n",
       "      <th>Sex_female</th>\n",
       "      <th>Sex_male</th>\n",
       "    </tr>\n",
       "  </thead>\n",
       "  <tbody>\n",
       "    <tr>\n",
       "      <th>0</th>\n",
       "      <td>0</td>\n",
       "      <td>3</td>\n",
       "      <td>22</td>\n",
       "      <td>1</td>\n",
       "      <td>0</td>\n",
       "      <td>7.2500</td>\n",
       "      <td>0</td>\n",
       "      <td>1</td>\n",
       "    </tr>\n",
       "    <tr>\n",
       "      <th>1</th>\n",
       "      <td>1</td>\n",
       "      <td>1</td>\n",
       "      <td>38</td>\n",
       "      <td>1</td>\n",
       "      <td>0</td>\n",
       "      <td>71.2833</td>\n",
       "      <td>1</td>\n",
       "      <td>0</td>\n",
       "    </tr>\n",
       "    <tr>\n",
       "      <th>2</th>\n",
       "      <td>1</td>\n",
       "      <td>3</td>\n",
       "      <td>26</td>\n",
       "      <td>0</td>\n",
       "      <td>0</td>\n",
       "      <td>7.9250</td>\n",
       "      <td>1</td>\n",
       "      <td>0</td>\n",
       "    </tr>\n",
       "    <tr>\n",
       "      <th>3</th>\n",
       "      <td>1</td>\n",
       "      <td>1</td>\n",
       "      <td>35</td>\n",
       "      <td>1</td>\n",
       "      <td>0</td>\n",
       "      <td>53.1000</td>\n",
       "      <td>1</td>\n",
       "      <td>0</td>\n",
       "    </tr>\n",
       "    <tr>\n",
       "      <th>4</th>\n",
       "      <td>0</td>\n",
       "      <td>3</td>\n",
       "      <td>35</td>\n",
       "      <td>0</td>\n",
       "      <td>0</td>\n",
       "      <td>8.0500</td>\n",
       "      <td>0</td>\n",
       "      <td>1</td>\n",
       "    </tr>\n",
       "  </tbody>\n",
       "</table>\n",
       "</div>"
      ],
      "text/plain": [
       "   Survived  Pclass  Age  SibSp  Parch     Fare  Sex_female  Sex_male\n",
       "0         0       3   22      1      0   7.2500           0         1\n",
       "1         1       1   38      1      0  71.2833           1         0\n",
       "2         1       3   26      0      0   7.9250           1         0\n",
       "3         1       1   35      1      0  53.1000           1         0\n",
       "4         0       3   35      0      0   8.0500           0         1"
      ]
     },
     "execution_count": 5,
     "metadata": {},
     "output_type": "execute_result"
    }
   ],
   "source": [
    "DF = pd.get_dummies(DF)\n",
    "DF.head()"
   ]
  },
  {
   "cell_type": "markdown",
   "metadata": {},
   "source": [
    "### Removing Nan"
   ]
  },
  {
   "cell_type": "code",
   "execution_count": 6,
   "metadata": {
    "collapsed": true
   },
   "outputs": [],
   "source": [
    "DF.dropna(inplace=True)"
   ]
  },
  {
   "cell_type": "code",
   "execution_count": 7,
   "metadata": {
    "collapsed": false
   },
   "outputs": [
    {
     "data": {
      "text/html": [
       "<div>\n",
       "<table border=\"1\" class=\"dataframe\">\n",
       "  <thead>\n",
       "    <tr style=\"text-align: right;\">\n",
       "      <th></th>\n",
       "      <th>Pclass</th>\n",
       "      <th>Age</th>\n",
       "      <th>SibSp</th>\n",
       "      <th>Parch</th>\n",
       "      <th>Fare</th>\n",
       "      <th>Sex_female</th>\n",
       "    </tr>\n",
       "  </thead>\n",
       "  <tbody>\n",
       "    <tr>\n",
       "      <th>0</th>\n",
       "      <td>3</td>\n",
       "      <td>22</td>\n",
       "      <td>1</td>\n",
       "      <td>0</td>\n",
       "      <td>7.2500</td>\n",
       "      <td>0</td>\n",
       "    </tr>\n",
       "    <tr>\n",
       "      <th>1</th>\n",
       "      <td>1</td>\n",
       "      <td>38</td>\n",
       "      <td>1</td>\n",
       "      <td>0</td>\n",
       "      <td>71.2833</td>\n",
       "      <td>1</td>\n",
       "    </tr>\n",
       "    <tr>\n",
       "      <th>2</th>\n",
       "      <td>3</td>\n",
       "      <td>26</td>\n",
       "      <td>0</td>\n",
       "      <td>0</td>\n",
       "      <td>7.9250</td>\n",
       "      <td>1</td>\n",
       "    </tr>\n",
       "    <tr>\n",
       "      <th>3</th>\n",
       "      <td>1</td>\n",
       "      <td>35</td>\n",
       "      <td>1</td>\n",
       "      <td>0</td>\n",
       "      <td>53.1000</td>\n",
       "      <td>1</td>\n",
       "    </tr>\n",
       "    <tr>\n",
       "      <th>4</th>\n",
       "      <td>3</td>\n",
       "      <td>35</td>\n",
       "      <td>0</td>\n",
       "      <td>0</td>\n",
       "      <td>8.0500</td>\n",
       "      <td>0</td>\n",
       "    </tr>\n",
       "  </tbody>\n",
       "</table>\n",
       "</div>"
      ],
      "text/plain": [
       "   Pclass  Age  SibSp  Parch     Fare  Sex_female\n",
       "0       3   22      1      0   7.2500           0\n",
       "1       1   38      1      0  71.2833           1\n",
       "2       3   26      0      0   7.9250           1\n",
       "3       1   35      1      0  53.1000           1\n",
       "4       3   35      0      0   8.0500           0"
      ]
     },
     "execution_count": 7,
     "metadata": {},
     "output_type": "execute_result"
    }
   ],
   "source": [
    "X = DF.loc[:,['Pclass','Age','SibSp','Parch','Fare','Sex_female']]\n",
    "X.head()"
   ]
  },
  {
   "cell_type": "code",
   "execution_count": 8,
   "metadata": {
    "collapsed": false
   },
   "outputs": [
    {
     "data": {
      "text/plain": [
       "(714, 6)"
      ]
     },
     "execution_count": 8,
     "metadata": {},
     "output_type": "execute_result"
    }
   ],
   "source": [
    "X.shape"
   ]
  },
  {
   "cell_type": "code",
   "execution_count": 9,
   "metadata": {
    "collapsed": false
   },
   "outputs": [
    {
     "name": "stdout",
     "output_type": "stream",
     "text": [
      "0    0\n",
      "1    1\n",
      "2    1\n",
      "3    1\n",
      "4    0\n",
      "Name: Survived, dtype: int64\n"
     ]
    },
    {
     "data": {
      "text/plain": [
       "(714,)"
      ]
     },
     "execution_count": 9,
     "metadata": {},
     "output_type": "execute_result"
    }
   ],
   "source": [
    "y = DF.loc[:,'Survived']\n",
    "print (y.head())\n",
    "y.shape"
   ]
  },
  {
   "cell_type": "markdown",
   "metadata": {},
   "source": [
    "### Preparing training dataset"
   ]
  },
  {
   "cell_type": "code",
   "execution_count": 11,
   "metadata": {
    "collapsed": false
   },
   "outputs": [],
   "source": [
    "from sklearn.cross_validation import train_test_split\n",
    "from sklearn import metrics, cross_validation\n",
    "X_train, X_test, y_train, y_test = train_test_split(X, y, test_size=0.4)"
   ]
  },
  {
   "cell_type": "code",
   "execution_count": 12,
   "metadata": {
    "collapsed": false
   },
   "outputs": [
    {
     "data": {
      "text/html": [
       "<div>\n",
       "<table border=\"1\" class=\"dataframe\">\n",
       "  <thead>\n",
       "    <tr style=\"text-align: right;\">\n",
       "      <th></th>\n",
       "      <th>Pclass</th>\n",
       "      <th>Age</th>\n",
       "      <th>SibSp</th>\n",
       "      <th>Parch</th>\n",
       "      <th>Fare</th>\n",
       "      <th>Sex_female</th>\n",
       "    </tr>\n",
       "  </thead>\n",
       "  <tbody>\n",
       "    <tr>\n",
       "      <th>555</th>\n",
       "      <td>1</td>\n",
       "      <td>62</td>\n",
       "      <td>0</td>\n",
       "      <td>0</td>\n",
       "      <td>26.5500</td>\n",
       "      <td>0</td>\n",
       "    </tr>\n",
       "    <tr>\n",
       "      <th>293</th>\n",
       "      <td>3</td>\n",
       "      <td>24</td>\n",
       "      <td>0</td>\n",
       "      <td>0</td>\n",
       "      <td>8.8500</td>\n",
       "      <td>1</td>\n",
       "    </tr>\n",
       "    <tr>\n",
       "      <th>294</th>\n",
       "      <td>3</td>\n",
       "      <td>24</td>\n",
       "      <td>0</td>\n",
       "      <td>0</td>\n",
       "      <td>7.8958</td>\n",
       "      <td>0</td>\n",
       "    </tr>\n",
       "    <tr>\n",
       "      <th>221</th>\n",
       "      <td>2</td>\n",
       "      <td>27</td>\n",
       "      <td>0</td>\n",
       "      <td>0</td>\n",
       "      <td>13.0000</td>\n",
       "      <td>0</td>\n",
       "    </tr>\n",
       "    <tr>\n",
       "      <th>244</th>\n",
       "      <td>3</td>\n",
       "      <td>30</td>\n",
       "      <td>0</td>\n",
       "      <td>0</td>\n",
       "      <td>7.2250</td>\n",
       "      <td>0</td>\n",
       "    </tr>\n",
       "  </tbody>\n",
       "</table>\n",
       "</div>"
      ],
      "text/plain": [
       "     Pclass  Age  SibSp  Parch     Fare  Sex_female\n",
       "555       1   62      0      0  26.5500           0\n",
       "293       3   24      0      0   8.8500           1\n",
       "294       3   24      0      0   7.8958           0\n",
       "221       2   27      0      0  13.0000           0\n",
       "244       3   30      0      0   7.2250           0"
      ]
     },
     "execution_count": 12,
     "metadata": {},
     "output_type": "execute_result"
    }
   ],
   "source": [
    "X_train.head()"
   ]
  },
  {
   "cell_type": "code",
   "execution_count": 534,
   "metadata": {
    "collapsed": false
   },
   "outputs": [
    {
     "data": {
      "text/plain": [
       "(428, 6)"
      ]
     },
     "execution_count": 534,
     "metadata": {},
     "output_type": "execute_result"
    }
   ],
   "source": [
    "X_train.shape"
   ]
  },
  {
   "cell_type": "code",
   "execution_count": 535,
   "metadata": {
    "collapsed": false
   },
   "outputs": [
    {
     "data": {
      "text/plain": [
       "(428,)"
      ]
     },
     "execution_count": 535,
     "metadata": {},
     "output_type": "execute_result"
    }
   ],
   "source": [
    "y_train.shape"
   ]
  },
  {
   "cell_type": "markdown",
   "metadata": {},
   "source": [
    "### Prepare test and CV datasets"
   ]
  },
  {
   "cell_type": "code",
   "execution_count": 13,
   "metadata": {
    "collapsed": true
   },
   "outputs": [],
   "source": [
    "X_test, X_val, y_test, y_val = train_test_split(X_test, y_test, test_size=0.5)"
   ]
  },
  {
   "cell_type": "code",
   "execution_count": 14,
   "metadata": {
    "collapsed": false
   },
   "outputs": [
    {
     "name": "stdout",
     "output_type": "stream",
     "text": [
      "(143, 6)\n",
      "(143,)\n"
     ]
    },
    {
     "data": {
      "text/html": [
       "<div>\n",
       "<table border=\"1\" class=\"dataframe\">\n",
       "  <thead>\n",
       "    <tr style=\"text-align: right;\">\n",
       "      <th></th>\n",
       "      <th>Pclass</th>\n",
       "      <th>Age</th>\n",
       "      <th>SibSp</th>\n",
       "      <th>Parch</th>\n",
       "      <th>Fare</th>\n",
       "      <th>Sex_female</th>\n",
       "    </tr>\n",
       "  </thead>\n",
       "  <tbody>\n",
       "    <tr>\n",
       "      <th>690</th>\n",
       "      <td>1</td>\n",
       "      <td>31.00</td>\n",
       "      <td>1</td>\n",
       "      <td>0</td>\n",
       "      <td>57.0000</td>\n",
       "      <td>0</td>\n",
       "    </tr>\n",
       "    <tr>\n",
       "      <th>427</th>\n",
       "      <td>2</td>\n",
       "      <td>19.00</td>\n",
       "      <td>0</td>\n",
       "      <td>0</td>\n",
       "      <td>26.0000</td>\n",
       "      <td>1</td>\n",
       "    </tr>\n",
       "    <tr>\n",
       "      <th>73</th>\n",
       "      <td>3</td>\n",
       "      <td>26.00</td>\n",
       "      <td>1</td>\n",
       "      <td>0</td>\n",
       "      <td>14.4542</td>\n",
       "      <td>0</td>\n",
       "    </tr>\n",
       "    <tr>\n",
       "      <th>583</th>\n",
       "      <td>1</td>\n",
       "      <td>36.00</td>\n",
       "      <td>0</td>\n",
       "      <td>0</td>\n",
       "      <td>40.1250</td>\n",
       "      <td>0</td>\n",
       "    </tr>\n",
       "    <tr>\n",
       "      <th>755</th>\n",
       "      <td>2</td>\n",
       "      <td>0.67</td>\n",
       "      <td>1</td>\n",
       "      <td>1</td>\n",
       "      <td>14.5000</td>\n",
       "      <td>0</td>\n",
       "    </tr>\n",
       "  </tbody>\n",
       "</table>\n",
       "</div>"
      ],
      "text/plain": [
       "     Pclass    Age  SibSp  Parch     Fare  Sex_female\n",
       "690       1  31.00      1      0  57.0000           0\n",
       "427       2  19.00      0      0  26.0000           1\n",
       "73        3  26.00      1      0  14.4542           0\n",
       "583       1  36.00      0      0  40.1250           0\n",
       "755       2   0.67      1      1  14.5000           0"
      ]
     },
     "execution_count": 14,
     "metadata": {},
     "output_type": "execute_result"
    }
   ],
   "source": [
    "print (X_test.shape)\n",
    "print (y_test.shape)\n",
    "X_test.head()"
   ]
  },
  {
   "cell_type": "code",
   "execution_count": 15,
   "metadata": {
    "collapsed": false,
    "scrolled": true
   },
   "outputs": [
    {
     "name": "stdout",
     "output_type": "stream",
     "text": [
      "(143, 6)\n",
      "(143,)\n"
     ]
    },
    {
     "data": {
      "text/html": [
       "<div>\n",
       "<table border=\"1\" class=\"dataframe\">\n",
       "  <thead>\n",
       "    <tr style=\"text-align: right;\">\n",
       "      <th></th>\n",
       "      <th>Pclass</th>\n",
       "      <th>Age</th>\n",
       "      <th>SibSp</th>\n",
       "      <th>Parch</th>\n",
       "      <th>Fare</th>\n",
       "      <th>Sex_female</th>\n",
       "    </tr>\n",
       "  </thead>\n",
       "  <tbody>\n",
       "    <tr>\n",
       "      <th>188</th>\n",
       "      <td>3</td>\n",
       "      <td>40</td>\n",
       "      <td>1</td>\n",
       "      <td>1</td>\n",
       "      <td>15.5000</td>\n",
       "      <td>0</td>\n",
       "    </tr>\n",
       "    <tr>\n",
       "      <th>487</th>\n",
       "      <td>1</td>\n",
       "      <td>58</td>\n",
       "      <td>0</td>\n",
       "      <td>0</td>\n",
       "      <td>29.7000</td>\n",
       "      <td>0</td>\n",
       "    </tr>\n",
       "    <tr>\n",
       "      <th>363</th>\n",
       "      <td>3</td>\n",
       "      <td>35</td>\n",
       "      <td>0</td>\n",
       "      <td>0</td>\n",
       "      <td>7.0500</td>\n",
       "      <td>0</td>\n",
       "    </tr>\n",
       "    <tr>\n",
       "      <th>287</th>\n",
       "      <td>3</td>\n",
       "      <td>22</td>\n",
       "      <td>0</td>\n",
       "      <td>0</td>\n",
       "      <td>7.8958</td>\n",
       "      <td>0</td>\n",
       "    </tr>\n",
       "    <tr>\n",
       "      <th>350</th>\n",
       "      <td>3</td>\n",
       "      <td>23</td>\n",
       "      <td>0</td>\n",
       "      <td>0</td>\n",
       "      <td>9.2250</td>\n",
       "      <td>0</td>\n",
       "    </tr>\n",
       "  </tbody>\n",
       "</table>\n",
       "</div>"
      ],
      "text/plain": [
       "     Pclass  Age  SibSp  Parch     Fare  Sex_female\n",
       "188       3   40      1      1  15.5000           0\n",
       "487       1   58      0      0  29.7000           0\n",
       "363       3   35      0      0   7.0500           0\n",
       "287       3   22      0      0   7.8958           0\n",
       "350       3   23      0      0   9.2250           0"
      ]
     },
     "execution_count": 15,
     "metadata": {},
     "output_type": "execute_result"
    }
   ],
   "source": [
    "print (X_val.shape)\n",
    "print (y_val.shape)\n",
    "X_val.head()"
   ]
  },
  {
   "cell_type": "markdown",
   "metadata": {},
   "source": [
    "### ROC plot function\n",
    "\n",
    "The following is the prepared function to make ROC plot. The plotting function will be repeatedly used."
   ]
  },
  {
   "cell_type": "code",
   "execution_count": 16,
   "metadata": {
    "collapsed": true
   },
   "outputs": [],
   "source": [
    "from sklearn import metrics, cross_validation\n",
    "import matplotlib.pyplot as plt\n",
    "import matplotlib.lines as mlines\n",
    "import seaborn as sns\n",
    "sns.set_context(\"notebook\", font_scale=1.5,rc={\"lines.linewidth\": 3})\n",
    "%matplotlib inline\n",
    "\n",
    "def ROCplot(y_train, y_train_prob, y_test,y_test_prob, y_val,y_val_prob, title):\n",
    "    fpr_train, tpr_train, _ = metrics.roc_curve(y_train,y_train_prob[:,1])\n",
    "    roc_auc_train = metrics.auc(fpr_train, tpr_train)\n",
    "    \n",
    "    fpr_test, tpr_test, _ = metrics.roc_curve(y_test,y_test_prob[:,1])\n",
    "    roc_auc_test = metrics.auc(fpr_test, tpr_test)\n",
    "\n",
    "    fpr_val, tpr_val, _ = metrics.roc_curve(y_val,y_val_prob[:,1])\n",
    "    roc_auc_val = metrics.auc(fpr_val, tpr_val)\n",
    "    \n",
    "    plt.figure(figsize=(8,6))\n",
    "    plt.plot(fpr_train, tpr_train, color = 'r')\n",
    "    plt.plot(fpr_test, tpr_test, color = 'g')\n",
    "    plt.plot(fpr_val, tpr_val, color = 'b')\n",
    "    plt.plot([0, 1], [0, 1], 'k--')\n",
    "    plt.xlim([0.0, 1.0])\n",
    "    plt.ylim([0.0, 1.0])\n",
    "    plt.xlabel('False Positive Rate')\n",
    "    plt.ylabel('True Positive Rate')\n",
    "    plt.title(title)\n",
    "    green_line = mlines.Line2D([], [], color='green', label='ROC test (area = %0.2f)' % np.mean(roc_auc_test))\n",
    "    red_line = mlines.Line2D([], [], color='red', label='ROC train (area = %0.2f)' % roc_auc_train)\n",
    "    blue_line = mlines.Line2D([], [], color='blue', label='ROC val (area = %0.2f)' % roc_auc_val)\n",
    "    plt.legend(handles=[red_line, green_line, blue_line],loc=\"lower right\")"
   ]
  },
  {
   "cell_type": "markdown",
   "metadata": {},
   "source": [
    "## Data Visualization"
   ]
  },
  {
   "cell_type": "code",
   "execution_count": 539,
   "metadata": {
    "collapsed": false
   },
   "outputs": [
    {
     "data": {
      "image/png": "[encoded data removed]",
      "text/plain": [
       "<matplotlib.figure.Figure at 0x103360710>"
      ]
     },
     "metadata": {},
     "output_type": "display_data"
    }
   ],
   "source": [
    "import matplotlib.pyplot as plt\n",
    "\n",
    "fig, ax = plt.subplots(nrows=1, ncols=3, figsize = (15,4))\n",
    "\n",
    "x1 = X.loc[:,'Age'].tolist()\n",
    "x2 = X.loc[:,'Pclass'].tolist()\n",
    "y_surv  = y.tolist()\n",
    "\n",
    "ax = plt.subplot(131)\n",
    "ax.scatter(x1, x2, s=70, c=y, marker=(5, 0), cmap=plt.cm.cool, linewidths=0, alpha=0.7)\n",
    "ax.set_xlabel('Age', size=20)\n",
    "ax.set_ylabel('Class', size=20)\n",
    "ax.set_title('(a) Age vs Class', size=20)\n",
    "\n",
    "x1 = X.loc[:,'Sex_female'].tolist()\n",
    "x2 = X.loc[:,'Pclass'].tolist()\n",
    "ax = plt.subplot(132)\n",
    "ax.scatter(x1, x2, s=70, c=y, marker=(5, 0), cmap=plt.cm.cool, linewidths=0, alpha=0.7)\n",
    "ax.set_xlabel('Gender', size=20)\n",
    "ax.set_ylabel('Class', size=20)\n",
    "ax.set_title('(b) Gender vs Class', size=20)\n",
    "\n",
    "x1 = X.loc[:,'Age'].tolist()\n",
    "x2 = X.loc[:,'Sex_female'].tolist()\n",
    "ax = plt.subplot(133)\n",
    "ax.scatter(x1, x2, s=70, c=y, marker=(5, 0), cmap=plt.cm.cool, linewidths=0, alpha=0.7)\n",
    "ax.set_xlabel('Age', size=20)\n",
    "ax.set_ylabel('Gender', size=20)\n",
    "ax.set_title('(c) Age vs Gender', size=20)\n",
    "\n",
    "fig.tight_layout()\n",
    "plt.show()"
   ]
  },
  {
   "cell_type": "markdown",
   "metadata": {},
   "source": [
    "The cyan denote people who didn't survive. \"Gender = 0\" means \"males\", whereas \"Gender = 1\" \"females\". From these comparison, most survived people are females and are in the first class. The age is roughly an independent factor for adults, except very young children."
   ]
  },
  {
   "cell_type": "markdown",
   "metadata": {},
   "source": [
    "## A. Naive Bayes classifier"
   ]
  },
  {
   "cell_type": "markdown",
   "metadata": {},
   "source": [
    "### A.1 Gaussian Naive Bayes\n",
    "\n",
    "Here we assumed the features are normal distributed. \".score\" means the MSE, defining the correct classification ratio."
   ]
  },
  {
   "cell_type": "code",
   "execution_count": 30,
   "metadata": {
    "collapsed": false
   },
   "outputs": [
    {
     "data": {
      "text/plain": [
       "GaussianNB(priors=None)"
      ]
     },
     "execution_count": 30,
     "metadata": {},
     "output_type": "execute_result"
    }
   ],
   "source": [
    "from sklearn import datasets\n",
    "from sklearn.naive_bayes import GaussianNB\n",
    "gnb = GaussianNB()\n",
    "gnb.fit(X_train, y_train)\n",
    "#y_pred = gnb.fit(X_train, y_train).predict(X_test)"
   ]
  },
  {
   "cell_type": "code",
   "execution_count": 31,
   "metadata": {
    "collapsed": false
   },
   "outputs": [
    {
     "name": "stdout",
     "output_type": "stream",
     "text": [
      "MSE:  0.741258741259 0.755244755245\n"
     ]
    }
   ],
   "source": [
    "print ('MSE: ', gnb.score(X_test, y_test), gnb.score(X_val, y_val))"
   ]
  },
  {
   "cell_type": "code",
   "execution_count": 32,
   "metadata": {
    "collapsed": false
   },
   "outputs": [
    {
     "data": {
      "image/png": "[encoded data removed]",
      "text/plain": [
       "<matplotlib.figure.Figure at 0x1149b44a8>"
      ]
     },
     "metadata": {},
     "output_type": "display_data"
    }
   ],
   "source": [
    "y_train_prob = gnb.predict_proba(X_train)\n",
    "y_test_prob  = gnb.predict_proba(X_test)\n",
    "y_val_prob   = gnb.predict_proba(X_val)\n",
    "ROCplot(y_train, y_train_prob, y_test,y_test_prob, y_val,y_val_prob, 'Gaussian Naive Bayes')"
   ]
  },
  {
   "cell_type": "markdown",
   "metadata": {},
   "source": [
    "### How does the logistic regression classifier determine y=0/1?\n",
    "\n",
    "Let's see the outcome **y** of the test set:"
   ]
  },
  {
   "cell_type": "code",
   "execution_count": 36,
   "metadata": {
    "collapsed": false
   },
   "outputs": [
    {
     "name": "stdout",
     "output_type": "stream",
     "text": [
      "[1 1 0 0 1 1 0 1 1 0 0 0 0 1 1 1 0 0 0 1 0 0 1 0 1 0 0 0 0 1 0 0 1 0 1 1 1\n",
      " 1 0 1 0 1 0 1 1 0 1 1 0 0 1 0 0 1 0 0 0 0 0 0 0 0 1 0 1 1 1 1 0 1 0 0 0 0\n",
      " 0 1 0 0 0 0 0 1 0 1 0 0 1 0 0 0 0 0 1 0 0 1 1 0 0 1 1 0 1 0 0 0 1 0 1 0 0\n",
      " 0 0 0 1 1 0 0 0 0 1 0 1 1 0 1 0 1 0 1 1 1 0 1 0 0 0 0 0 0 0 0 0]\n"
     ]
    }
   ],
   "source": [
    "print (np.array(y_test))"
   ]
  },
  {
   "cell_type": "markdown",
   "metadata": {},
   "source": [
    "and according to the model, the preidctions $\\hat{y}$ are"
   ]
  },
  {
   "cell_type": "code",
   "execution_count": 41,
   "metadata": {
    "collapsed": false
   },
   "outputs": [
    {
     "name": "stdout",
     "output_type": "stream",
     "text": [
      "[0 1 0 0 0 1 0 1 0 0 0 0 1 1 1 1 0 0 0 0 1 0 0 0 0 0 1 0 0 1 0 0 1 0 1 1 0\n",
      " 1 0 1 1 0 0 1 1 0 0 0 1 0 1 0 0 0 0 1 0 0 1 0 0 0 1 0 1 1 0 1 0 1 0 0 1 0\n",
      " 0 0 1 0 0 1 0 1 1 0 1 1 1 0 1 0 0 0 1 0 0 1 1 0 0 1 1 0 1 0 1 0 0 0 1 0 1\n",
      " 0 0 0 0 1 0 1 0 0 1 0 1 0 0 0 0 1 1 1 1 1 0 1 0 0 0 0 0 0 0 1 0]\n"
     ]
    }
   ],
   "source": [
    "print (gnb.predict(X_test))"
   ]
  },
  {
   "cell_type": "markdown",
   "metadata": {},
   "source": [
    "We can examine the NB classifier gives the probability estimate for each observation as"
   ]
  },
  {
   "cell_type": "code",
   "execution_count": 38,
   "metadata": {
    "collapsed": false
   },
   "outputs": [
    {
     "data": {
      "text/plain": [
       "array([[  6.35995820e-01,   3.64004180e-01],\n",
       "       [  1.35559577e-01,   8.64440423e-01],\n",
       "       [  9.69347756e-01,   3.06522438e-02],\n",
       "       [  6.86785696e-01,   3.13214304e-01],\n",
       "       [  8.27693080e-01,   1.72306920e-01],\n",
       "       [  1.32156352e-01,   8.67843648e-01],\n",
       "       [  9.47242423e-01,   5.27575770e-02],\n",
       "       [  1.35196591e-01,   8.64803409e-01],\n",
       "       [  9.54224753e-01,   4.57752467e-02],\n",
       "       [  9.99967267e-01,   3.27334740e-05],\n",
       "       [  9.15155890e-01,   8.48441096e-02],\n",
       "       [  9.54224753e-01,   4.57752467e-02],\n",
       "       [  1.46658530e-01,   8.53341470e-01],\n",
       "       [  1.34462727e-05,   9.99986554e-01],\n",
       "       [  1.20133341e-01,   8.79866659e-01],\n",
       "       [  3.26058937e-01,   6.73941063e-01],\n",
       "       [  9.08923129e-01,   9.10768715e-02],\n",
       "       [  9.56894049e-01,   4.31059509e-02],\n",
       "       [  9.18499178e-01,   8.15008224e-02],\n",
       "       [  6.29395777e-01,   3.70604223e-01],\n",
       "       [  4.62666397e-01,   5.37333603e-01],\n",
       "       [  7.21017310e-01,   2.78982690e-01],\n",
       "       [  9.63989040e-01,   3.60109595e-02],\n",
       "       [  6.88643099e-01,   3.11356901e-01],\n",
       "       [  9.99908493e-01,   9.15071628e-05],\n",
       "       [  6.86229547e-01,   3.13770453e-01],\n",
       "       [  2.74923499e-01,   7.25076501e-01],\n",
       "       [  9.57897245e-01,   4.21027553e-02],\n",
       "       [  9.64946812e-01,   3.50531882e-02],\n",
       "       [  1.44226312e-01,   8.55773688e-01],\n",
       "       [  9.09471261e-01,   9.05287393e-02],\n",
       "       [  9.64411617e-01,   3.55883833e-02],\n",
       "       [  4.92647290e-01,   5.07352710e-01],\n",
       "       [  9.72438433e-01,   2.75615670e-02],\n",
       "       [  2.43954992e-02,   9.75604501e-01],\n",
       "       [  1.75837521e-01,   8.24162479e-01],\n",
       "       [  8.37862913e-01,   1.62137087e-01],\n",
       "       [  1.00446467e-01,   8.99553533e-01],\n",
       "       [  9.57562291e-01,   4.24377087e-02],\n",
       "       [  2.91408020e-01,   7.08591980e-01],\n",
       "       [  2.87740112e-01,   7.12259888e-01],\n",
       "       [  5.85137666e-01,   4.14862334e-01],\n",
       "       [  9.10691779e-01,   8.93082207e-02],\n",
       "       [  8.46880990e-02,   9.15311901e-01],\n",
       "       [  5.01604092e-03,   9.94983959e-01],\n",
       "       [  9.55287320e-01,   4.47126798e-02],\n",
       "       [  9.72097286e-01,   2.79027143e-02],\n",
       "       [  8.09101143e-01,   1.90898857e-01],\n",
       "       [  1.45229906e-01,   8.54770094e-01],\n",
       "       [  7.15055682e-01,   2.84944318e-01],\n",
       "       [  1.86321335e-01,   8.13678665e-01],\n",
       "       [  9.57798826e-01,   4.22011741e-02],\n",
       "       [  9.65669445e-01,   3.43305554e-02],\n",
       "       [  9.65712926e-01,   3.42870745e-02],\n",
       "       [  6.89501593e-01,   3.10498407e-01],\n",
       "       [  2.84837021e-01,   7.15162979e-01],\n",
       "       [  7.20238102e-01,   2.79761898e-01],\n",
       "       [  9.64286694e-01,   3.57133064e-02],\n",
       "       [  2.95063134e-01,   7.04936866e-01],\n",
       "       [  9.96034139e-01,   3.96586118e-03],\n",
       "       [  9.18821144e-01,   8.11788563e-02],\n",
       "       [  9.63162694e-01,   3.68373065e-02],\n",
       "       [  3.14626999e-02,   9.68537300e-01],\n",
       "       [  9.61487834e-01,   3.85121660e-02],\n",
       "       [  2.06946124e-01,   7.93053876e-01],\n",
       "       [  2.06936905e-10,   1.00000000e+00],\n",
       "       [  9.30687089e-01,   6.93129111e-02],\n",
       "       [  3.74631911e-01,   6.25368089e-01],\n",
       "       [  9.95903704e-01,   4.09629558e-03],\n",
       "       [  1.65635917e-01,   8.34364083e-01],\n",
       "       [  9.63311722e-01,   3.66882785e-02],\n",
       "       [  9.62914044e-01,   3.70859558e-02],\n",
       "       [  1.51784619e-01,   8.48215381e-01],\n",
       "       [  9.54497353e-01,   4.55026472e-02],\n",
       "       [  9.60203220e-01,   3.97967802e-02],\n",
       "       [  9.22179667e-01,   7.78203329e-02],\n",
       "       [  1.86874011e-01,   8.13125989e-01],\n",
       "       [  9.58540993e-01,   4.14590071e-02],\n",
       "       [  9.58265003e-01,   4.17349967e-02],\n",
       "       [  6.95846988e-03,   9.93041530e-01],\n",
       "       [  9.99923711e-01,   7.62893876e-05],\n",
       "       [  9.16711062e-03,   9.90832889e-01],\n",
       "       [  9.34737944e-06,   9.99990653e-01],\n",
       "       [  9.63976876e-01,   3.60231243e-02],\n",
       "       [  3.10278245e-01,   6.89721755e-01],\n",
       "       [  3.55259610e-01,   6.44740390e-01],\n",
       "       [  1.39660371e-02,   9.86033963e-01],\n",
       "       [  7.21631755e-01,   2.78368245e-01],\n",
       "       [  2.80225071e-01,   7.19774929e-01],\n",
       "       [  9.57988492e-01,   4.20115081e-02],\n",
       "       [  9.20888257e-01,   7.91117435e-02],\n",
       "       [  8.79145882e-01,   1.20854118e-01],\n",
       "       [  6.78992148e-02,   9.32100785e-01],\n",
       "       [  9.54172460e-01,   4.58275400e-02],\n",
       "       [  9.09375597e-01,   9.06244025e-02],\n",
       "       [  1.26008530e-02,   9.87399147e-01],\n",
       "       [  2.75741391e-01,   7.24258609e-01],\n",
       "       [  9.59128183e-01,   4.08718174e-02],\n",
       "       [  8.98119896e-01,   1.01880104e-01],\n",
       "       [  1.85103586e-01,   8.14896414e-01],\n",
       "       [  1.35644143e-01,   8.64355857e-01],\n",
       "       [  9.33383091e-01,   6.66169091e-02],\n",
       "       [  4.69166336e-01,   5.30833664e-01],\n",
       "       [  9.59098618e-01,   4.09013822e-02],\n",
       "       [  2.93240124e-01,   7.06759876e-01],\n",
       "       [  9.62883431e-01,   3.71165689e-02],\n",
       "       [  9.65715703e-01,   3.42842970e-02],\n",
       "       [  9.51142096e-01,   4.88579036e-02],\n",
       "       [  2.63411094e-01,   7.36588906e-01],\n",
       "       [  8.97084188e-01,   1.02915812e-01],\n",
       "       [  3.65886634e-01,   6.34113366e-01],\n",
       "       [  7.07089249e-01,   2.92910751e-01],\n",
       "       [  7.28775192e-01,   2.71224808e-01],\n",
       "       [  9.57645483e-01,   4.23545173e-02],\n",
       "       [  8.36135468e-01,   1.63864532e-01],\n",
       "       [  2.45940213e-02,   9.75405979e-01],\n",
       "       [  9.33701723e-01,   6.62982769e-02],\n",
       "       [  2.54025136e-01,   7.45974864e-01],\n",
       "       [  9.58940500e-01,   4.10595005e-02],\n",
       "       [  9.63494552e-01,   3.65054483e-02],\n",
       "       [  1.96564824e-03,   9.98034352e-01],\n",
       "       [  6.99139007e-01,   3.00860993e-01],\n",
       "       [  3.87386451e-02,   9.61261355e-01],\n",
       "       [  7.23237954e-01,   2.76762046e-01],\n",
       "       [  9.64408552e-01,   3.55914477e-02],\n",
       "       [  9.17044997e-01,   8.29550032e-02],\n",
       "       [  9.59936650e-01,   4.00633504e-02],\n",
       "       [  1.88906820e-01,   8.11093180e-01],\n",
       "       [  2.08928298e-01,   7.91071702e-01],\n",
       "       [  2.80176255e-01,   7.19823745e-01],\n",
       "       [  1.51784619e-01,   8.48215381e-01],\n",
       "       [  1.45787905e-01,   8.54212095e-01],\n",
       "       [  9.36376736e-01,   6.36232637e-02],\n",
       "       [  1.98677443e-01,   8.01322557e-01],\n",
       "       [  9.60818527e-01,   3.91814732e-02],\n",
       "       [  9.94645139e-01,   5.35486074e-03],\n",
       "       [  9.30982654e-01,   6.90173455e-02],\n",
       "       [  9.58967316e-01,   4.10326844e-02],\n",
       "       [  9.64409806e-01,   3.55901943e-02],\n",
       "       [  9.54165469e-01,   4.58345307e-02],\n",
       "       [  9.65491706e-01,   3.45082941e-02],\n",
       "       [  2.48877410e-06,   9.99997511e-01],\n",
       "       [  9.59052332e-01,   4.09476685e-02]])"
      ]
     },
     "execution_count": 38,
     "metadata": {},
     "output_type": "execute_result"
    }
   ],
   "source": [
    "gnb.predict_proba(X_test)"
   ]
  },
  {
   "cell_type": "markdown",
   "metadata": {},
   "source": [
    "Note here it is binary classification. In each observation, [x1, x2] = [probability P(y=0), P(y=1)]. When P(y=0) > P(y=1), y=0, vice versa."
   ]
  },
  {
   "cell_type": "markdown",
   "metadata": {},
   "source": [
    "## B. Logistic Regression"
   ]
  },
  {
   "cell_type": "code",
   "execution_count": 17,
   "metadata": {
    "collapsed": false
   },
   "outputs": [
    {
     "data": {
      "text/plain": [
       "LogisticRegression(C=100000.0, class_weight=None, dual=False,\n",
       "          fit_intercept=True, intercept_scaling=1, max_iter=100,\n",
       "          multi_class='ovr', n_jobs=1, penalty='l1', random_state=None,\n",
       "          solver='liblinear', tol=0.0001, verbose=0, warm_start=False)"
      ]
     },
     "execution_count": 17,
     "metadata": {},
     "output_type": "execute_result"
    }
   ],
   "source": [
    "from sklearn import linear_model\n",
    "logreg = linear_model.LogisticRegression(penalty='l1', C=1e5)\n",
    "logreg.fit(X_train, y_train)"
   ]
  },
  {
   "cell_type": "code",
   "execution_count": 19,
   "metadata": {
    "collapsed": false,
    "scrolled": true
   },
   "outputs": [
    {
     "name": "stdout",
     "output_type": "stream",
     "text": [
      "MSE: 0.762237762238 0.811188811189\n"
     ]
    }
   ],
   "source": [
    "print ('MSE:', logreg.score(X_test, y_test), logreg.score(X_val, y_val))"
   ]
  },
  {
   "cell_type": "code",
   "execution_count": 20,
   "metadata": {
    "collapsed": false,
    "scrolled": false
   },
   "outputs": [
    {
     "data": {
      "image/png": "[encoded data removed]",
      "text/plain": [
       "<matplotlib.figure.Figure at 0x111e115f8>"
      ]
     },
     "metadata": {},
     "output_type": "display_data"
    }
   ],
   "source": [
    "y_train_prob = logreg.predict_proba(X_train)\n",
    "y_test_prob = logreg.predict_proba(X_test)\n",
    "y_val_prob = logreg.predict_proba(X_val)\n",
    "ROCplot(y_train, y_train_prob, y_test,y_test_prob, y_val,y_val_prob, 'Logistic Regression')"
   ]
  },
  {
   "cell_type": "code",
   "execution_count": 21,
   "metadata": {
    "collapsed": false
   },
   "outputs": [
    {
     "name": "stdout",
     "output_type": "stream",
     "text": [
      "[[ -1.20560065e+00  -5.22402668e-02  -5.89222033e-01  -4.74087356e-02\n",
      "    1.52031683e-03   2.88684208e+00]]\n",
      "Index(['Pclass', 'Age', 'SibSp', 'Parch', 'Fare', 'Sex_female'], dtype='object')\n"
     ]
    }
   ],
   "source": [
    "importance = logreg.coef_\n",
    "attribute = X.columns\n",
    "\n",
    "print (importance)\n",
    "print (attribute)"
   ]
  },
  {
   "cell_type": "markdown",
   "metadata": {},
   "source": [
    "We can see the coefficients at gender is most significant. Next is Pclass. But note it is negative since less class number, larger chance to survive. So it has negative correlation."
   ]
  },
  {
   "cell_type": "markdown",
   "metadata": {},
   "source": [
    "### How does the logistic regression classifier determine y=0/1?"
   ]
  },
  {
   "cell_type": "markdown",
   "metadata": {},
   "source": [
    "we can still see the logistic regression model the given preidctions $\\hat{y}$"
   ]
  },
  {
   "cell_type": "code",
   "execution_count": 27,
   "metadata": {
    "collapsed": false
   },
   "outputs": [
    {
     "data": {
      "text/plain": [
       "array([0, 1, 0, 1, 0, 1, 0, 1, 0, 0, 0, 0, 0, 1, 1, 0, 0, 0, 0, 1, 0, 0, 0,\n",
       "       0, 0, 0, 1, 0, 0, 1, 0, 0, 1, 0, 1, 1, 0, 1, 0, 1, 1, 0, 0, 0, 1, 0,\n",
       "       0, 0, 1, 0, 1, 0, 0, 0, 0, 1, 0, 0, 1, 0, 0, 0, 1, 0, 1, 1, 0, 1, 0,\n",
       "       1, 0, 0, 1, 0, 0, 0, 1, 0, 0, 0, 0, 1, 1, 0, 1, 1, 1, 0, 1, 0, 0, 0,\n",
       "       1, 0, 0, 1, 1, 0, 0, 1, 1, 0, 0, 0, 1, 0, 0, 0, 1, 0, 0, 0, 0, 0, 0,\n",
       "       1, 0, 1, 0, 0, 1, 0, 1, 1, 0, 0, 0, 1, 1, 1, 1, 1, 0, 1, 0, 0, 0, 0,\n",
       "       0, 0, 0, 0, 0])"
      ]
     },
     "execution_count": 27,
     "metadata": {},
     "output_type": "execute_result"
    }
   ],
   "source": [
    "logreg.predict(X_test)"
   ]
  },
  {
   "cell_type": "code",
   "execution_count": 29,
   "metadata": {
    "collapsed": false
   },
   "outputs": [
    {
     "data": {
      "text/plain": [
       "array([[ 0.57095205,  0.42904795],\n",
       "       [ 0.07145969,  0.92854031],\n",
       "       [ 0.92417123,  0.07582877],\n",
       "       [ 0.4958429 ,  0.5041571 ],\n",
       "       [ 0.50472789,  0.49527211],\n",
       "       [ 0.23973597,  0.76026403],\n",
       "       [ 0.88979514,  0.11020486],\n",
       "       [ 0.06627335,  0.93372665],\n",
       "       [ 0.80195073,  0.19804927],\n",
       "       [ 0.95432372,  0.04567628],\n",
       "       [ 0.69259692,  0.30740308],\n",
       "       [ 0.80195073,  0.19804927],\n",
       "       [ 0.76908645,  0.23091355],\n",
       "       [ 0.12064624,  0.87935376],\n",
       "       [ 0.14483619,  0.85516381],\n",
       "       [ 0.85988824,  0.14011176],\n",
       "       [ 0.63526885,  0.36473115],\n",
       "       [ 0.82567101,  0.17432899],\n",
       "       [ 0.79692208,  0.20307792],\n",
       "       [ 0.49366636,  0.50633364],\n",
       "       [ 0.68612625,  0.31387375],\n",
       "       [ 0.55010494,  0.44989506],\n",
       "       [ 0.90331086,  0.09668914],\n",
       "       [ 0.82038783,  0.17961217],\n",
       "       [ 0.95833888,  0.04166112],\n",
       "       [ 0.7857424 ,  0.2142576 ],\n",
       "       [ 0.20071144,  0.79928856],\n",
       "       [ 0.83683006,  0.16316994],\n",
       "       [ 0.92013475,  0.07986525],\n",
       "       [ 0.09598548,  0.90401452],\n",
       "       [ 0.63366605,  0.36633395],\n",
       "       [ 0.91430955,  0.08569045],\n",
       "       [ 0.2985649 ,  0.7014351 ],\n",
       "       [ 0.85560056,  0.14439944],\n",
       "       [ 0.15302194,  0.84697806],\n",
       "       [ 0.15263826,  0.84736174],\n",
       "       [ 0.53349242,  0.46650758],\n",
       "       [ 0.32622482,  0.67377518],\n",
       "       [ 0.82425503,  0.17574497],\n",
       "       [ 0.23605138,  0.76394862],\n",
       "       [ 0.22676771,  0.77323229],\n",
       "       [ 0.65776406,  0.34223594],\n",
       "       [ 0.64641716,  0.35358284],\n",
       "       [ 0.8520778 ,  0.1479222 ],\n",
       "       [ 0.03563782,  0.96436218],\n",
       "       [ 0.80997387,  0.19002613],\n",
       "       [ 0.76052891,  0.23947109],\n",
       "       [ 0.75188686,  0.24811314],\n",
       "       [ 0.10193258,  0.89806742],\n",
       "       [ 0.74054725,  0.25945275],\n",
       "       [ 0.1821192 ,  0.8178808 ],\n",
       "       [ 0.83293341,  0.16706659],\n",
       "       [ 0.94032915,  0.05967085],\n",
       "       [ 0.89997119,  0.10002881],\n",
       "       [ 0.78604406,  0.21395594],\n",
       "       [ 0.21750242,  0.78249758],\n",
       "       [ 0.53714505,  0.46285495],\n",
       "       [ 0.90778212,  0.09221788],\n",
       "       [ 0.24555918,  0.75444082],\n",
       "       [ 0.93111558,  0.06888442],\n",
       "       [ 0.84977648,  0.15022352],\n",
       "       [ 0.89389346,  0.10610654],\n",
       "       [ 0.06821326,  0.93178674],\n",
       "       [ 0.87226867,  0.12773133],\n",
       "       [ 0.20777365,  0.79222635],\n",
       "       [ 0.1185001 ,  0.8814999 ],\n",
       "       [ 0.83071559,  0.16928441],\n",
       "       [ 0.25370544,  0.74629456],\n",
       "       [ 0.66080512,  0.33919488],\n",
       "       [ 0.13711368,  0.86288632],\n",
       "       [ 0.89377505,  0.10622495],\n",
       "       [ 0.8887123 ,  0.1112877 ],\n",
       "       [ 0.09249749,  0.90750251],\n",
       "       [ 0.80160037,  0.19839963],\n",
       "       [ 0.86032282,  0.13967718],\n",
       "       [ 0.823995  ,  0.176005  ],\n",
       "       [ 0.17512461,  0.82487539],\n",
       "       [ 0.84007705,  0.15992295],\n",
       "       [ 0.84036534,  0.15963466],\n",
       "       [ 0.96742251,  0.03257749],\n",
       "       [ 0.96920353,  0.03079647],\n",
       "       [ 0.10245774,  0.89754226],\n",
       "       [ 0.0152922 ,  0.9847078 ],\n",
       "       [ 0.90332026,  0.09667974],\n",
       "       [ 0.29709013,  0.70290987],\n",
       "       [ 0.33116551,  0.66883449],\n",
       "       [ 0.17706038,  0.82293962],\n",
       "       [ 0.56299718,  0.43700282],\n",
       "       [ 0.45605759,  0.54394241],\n",
       "       [ 0.83268292,  0.16731708],\n",
       "       [ 0.87670321,  0.12329679],\n",
       "       [ 0.95610551,  0.04389449],\n",
       "       [ 0.16017216,  0.83982784],\n",
       "       [ 0.98588194,  0.01411806],\n",
       "       [ 0.63438774,  0.36561226],\n",
       "       [ 0.01930284,  0.98069716],\n",
       "       [ 0.2005296 ,  0.7994704 ],\n",
       "       [ 0.84709201,  0.15290799],\n",
       "       [ 0.95303193,  0.04696807],\n",
       "       [ 0.18366462,  0.81633538],\n",
       "       [ 0.06613237,  0.93386763],\n",
       "       [ 0.89202454,  0.10797546],\n",
       "       [ 0.75838149,  0.24161851],\n",
       "       [ 0.84712237,  0.15287763],\n",
       "       [ 0.23548639,  0.76451361],\n",
       "       [ 0.88873861,  0.11126139],\n",
       "       [ 0.94850972,  0.05149028],\n",
       "       [ 0.94766963,  0.05233037],\n",
       "       [ 0.17645978,  0.82354022],\n",
       "       [ 0.54716087,  0.45283913],\n",
       "       [ 0.91287311,  0.08712689],\n",
       "       [ 0.61314822,  0.38685178],\n",
       "       [ 0.79106946,  0.20893054],\n",
       "       [ 0.83310434,  0.16689566],\n",
       "       [ 0.59097713,  0.40902287],\n",
       "       [ 0.395377  ,  0.604623  ],\n",
       "       [ 0.8458987 ,  0.1541013 ],\n",
       "       [ 0.34961012,  0.65038988],\n",
       "       [ 0.84727407,  0.15272593],\n",
       "       [ 0.88508669,  0.11491331],\n",
       "       [ 0.03194189,  0.96805811],\n",
       "       [ 0.79612618,  0.20387382],\n",
       "       [ 0.14837476,  0.85162524],\n",
       "       [ 0.48804436,  0.51195564],\n",
       "       [ 0.90768555,  0.09231445],\n",
       "       [ 0.71439168,  0.28560832],\n",
       "       [ 0.85712103,  0.14287897],\n",
       "       [ 0.1766986 ,  0.8233014 ],\n",
       "       [ 0.2264788 ,  0.7735212 ],\n",
       "       [ 0.20893941,  0.79106059],\n",
       "       [ 0.09249749,  0.90750251],\n",
       "       [ 0.10167887,  0.89832113],\n",
       "       [ 0.82245524,  0.17754476],\n",
       "       [ 0.31567233,  0.68432767],\n",
       "       [ 0.86645226,  0.13354774],\n",
       "       [ 0.54902245,  0.45097755],\n",
       "       [ 0.93934571,  0.06065429],\n",
       "       [ 0.84724948,  0.15275052],\n",
       "       [ 0.90768449,  0.09231551],\n",
       "       [ 0.80201712,  0.19798288],\n",
       "       [ 0.93087751,  0.06912249],\n",
       "       [ 0.67629277,  0.32370723],\n",
       "       [ 0.83855209,  0.16144791]])"
      ]
     },
     "execution_count": 29,
     "metadata": {},
     "output_type": "execute_result"
    }
   ],
   "source": [
    "logreg.predict_proba(X_test)"
   ]
  },
  {
   "cell_type": "markdown",
   "metadata": {},
   "source": [
    "Same as the Naive Bayes classifier, in each observation, we have [P(y=0), P(y=1)]. When P(y=0) > P(y=1), y=0, vice versa. Using 0.5 as the threshold value to determine y=0/1."
   ]
  },
  {
   "cell_type": "markdown",
   "metadata": {},
   "source": [
    "## C. Linear Discriminant Analysis (LDA)"
   ]
  },
  {
   "cell_type": "code",
   "execution_count": 579,
   "metadata": {
    "collapsed": false
   },
   "outputs": [
    {
     "data": {
      "text/plain": [
       "LDA(n_components=None, priors=None, shrinkage=None, solver='svd',\n",
       "  store_covariance=False, tol=0.0001)"
      ]
     },
     "execution_count": 579,
     "metadata": {},
     "output_type": "execute_result"
    }
   ],
   "source": [
    "from sklearn.lda import LDA\n",
    "lda = LDA()\n",
    "lda.fit(X_train, y_train)"
   ]
  },
  {
   "cell_type": "code",
   "execution_count": 581,
   "metadata": {
    "collapsed": false
   },
   "outputs": [
    {
     "name": "stdout",
     "output_type": "stream",
     "text": [
      "MSE:  0.825174825175 0.776223776224\n"
     ]
    }
   ],
   "source": [
    "print ('MSE: ', lda.score(X_test, y_test), lda.score(X_val, y_val))"
   ]
  },
  {
   "cell_type": "code",
   "execution_count": 550,
   "metadata": {
    "collapsed": false
   },
   "outputs": [
    {
     "data": {
      "image/png": "[encoded data removed]",
      "text/plain": [
       "<matplotlib.figure.Figure at 0x10a903978>"
      ]
     },
     "metadata": {},
     "output_type": "display_data"
    }
   ],
   "source": [
    "y_train_prob = lda.predict_proba(X_train)\n",
    "y_test_prob = lda.predict_proba(X_test)\n",
    "y_val_prob = lda.predict_proba(X_val)\n",
    "ROCplot(y_train, y_train_prob, y_test,y_test_prob, y_val,y_val_prob, 'LDA')"
   ]
  },
  {
   "cell_type": "markdown",
   "metadata": {},
   "source": [
    "## D. Quadratic Discriminant Analysis (QDA)"
   ]
  },
  {
   "cell_type": "code",
   "execution_count": 582,
   "metadata": {
    "collapsed": false
   },
   "outputs": [
    {
     "data": {
      "text/plain": [
       "QDA(priors=None, reg_param=0.0)"
      ]
     },
     "execution_count": 582,
     "metadata": {},
     "output_type": "execute_result"
    }
   ],
   "source": [
    "from sklearn.qda import QDA\n",
    "qda = QDA()\n",
    "qda.fit(X_train, y_train)"
   ]
  },
  {
   "cell_type": "code",
   "execution_count": 583,
   "metadata": {
    "collapsed": false
   },
   "outputs": [
    {
     "name": "stdout",
     "output_type": "stream",
     "text": [
      "MSE: 0.804195804196 0.79020979021\n"
     ]
    }
   ],
   "source": [
    "print ('MSE:', qda.score(X_test, y_test), qda.score(X_val, y_val))"
   ]
  },
  {
   "cell_type": "code",
   "execution_count": 584,
   "metadata": {
    "collapsed": false
   },
   "outputs": [
    {
     "data": {
      "image/png": "[encoded data removed]",
      "text/plain": [
       "<matplotlib.figure.Figure at 0x10ace41d0>"
      ]
     },
     "metadata": {},
     "output_type": "display_data"
    }
   ],
   "source": [
    "y_train_prob = qda.predict_proba(X_train)\n",
    "y_test_prob = qda.predict_proba(X_test)\n",
    "y_val_prob = qda.predict_proba(X_val)\n",
    "ROCplot(y_train, y_train_prob, y_test,y_test_prob, y_val,y_val_prob, 'QDA')"
   ]
  },
  {
   "cell_type": "markdown",
   "metadata": {},
   "source": [
    "## D. Support Vector Machine\n",
    "\n",
    "Note in the following SVM claaifiers, there are no \"predict_proba\" methods. So we are unable to plot ROC.\n",
    "\n",
    "### D.1 SVM with linear kernel"
   ]
  },
  {
   "cell_type": "code",
   "execution_count": 585,
   "metadata": {
    "collapsed": false
   },
   "outputs": [
    {
     "data": {
      "text/plain": [
       "SVC(C=1.0, cache_size=200, class_weight=None, coef0=0.0, degree=3, gamma=0.0,\n",
       "  kernel='linear', max_iter=-1, probability=False, random_state=None,\n",
       "  shrinking=True, tol=0.001, verbose=False)"
      ]
     },
     "execution_count": 585,
     "metadata": {},
     "output_type": "execute_result"
    }
   ],
   "source": [
    "from sklearn import svm\n",
    "C =1.0\n",
    "svc = svm.SVC(kernel='linear', C=C)\n",
    "svc.fit(X_train, y_train)"
   ]
  },
  {
   "cell_type": "code",
   "execution_count": 586,
   "metadata": {
    "collapsed": false
   },
   "outputs": [
    {
     "name": "stdout",
     "output_type": "stream",
     "text": [
      "MSE:  0.776223776224 0.783216783217\n"
     ]
    }
   ],
   "source": [
    "print ('MSE: ', svc.score(X_test, y_test), svc.score(X_val, y_val))"
   ]
  },
  {
   "cell_type": "markdown",
   "metadata": {},
   "source": [
    "### D. 2 SVM with rbf kernel"
   ]
  },
  {
   "cell_type": "code",
   "execution_count": 587,
   "metadata": {
    "collapsed": false
   },
   "outputs": [
    {
     "data": {
      "text/plain": [
       "SVC(C=1.0, cache_size=200, class_weight=None, coef0=0.0, degree=3, gamma=0.7,\n",
       "  kernel='rbf', max_iter=-1, probability=False, random_state=None,\n",
       "  shrinking=True, tol=0.001, verbose=False)"
      ]
     },
     "execution_count": 587,
     "metadata": {},
     "output_type": "execute_result"
    }
   ],
   "source": [
    "rbf_svc = svm.SVC(kernel='rbf', gamma=0.7, C=C)\n",
    "rbf_svc.fit(X_train, y_train)"
   ]
  },
  {
   "cell_type": "code",
   "execution_count": 588,
   "metadata": {
    "collapsed": false
   },
   "outputs": [
    {
     "name": "stdout",
     "output_type": "stream",
     "text": [
      "MSE:  0.657342657343 0.636363636364\n"
     ]
    }
   ],
   "source": [
    "print ('MSE: ', rbf_svc.score(X_test, y_test), rbf_svc.score(X_val, y_val))"
   ]
  },
  {
   "cell_type": "markdown",
   "metadata": {},
   "source": [
    "### D. 3 Linear Support Vector Classification"
   ]
  },
  {
   "cell_type": "code",
   "execution_count": 589,
   "metadata": {
    "collapsed": false
   },
   "outputs": [
    {
     "data": {
      "text/plain": [
       "LinearSVC(C=1.0, class_weight=None, dual=True, fit_intercept=True,\n",
       "     intercept_scaling=1, loss='squared_hinge', max_iter=1000,\n",
       "     multi_class='ovr', penalty='l2', random_state=None, tol=0.0001,\n",
       "     verbose=0)"
      ]
     },
     "execution_count": 589,
     "metadata": {},
     "output_type": "execute_result"
    }
   ],
   "source": [
    "lin_svc = svm.LinearSVC(C=C)\n",
    "lin_svc.fit(X_train, y_train)"
   ]
  },
  {
   "cell_type": "code",
   "execution_count": 590,
   "metadata": {
    "collapsed": false
   },
   "outputs": [
    {
     "name": "stdout",
     "output_type": "stream",
     "text": [
      "MSE:  0.706293706294 0.671328671329\n"
     ]
    }
   ],
   "source": [
    "print ('MSE: ', lin_svc.score(X_test, y_test), lin_svc.score(X_val, y_val))"
   ]
  },
  {
   "cell_type": "markdown",
   "metadata": {},
   "source": [
    "## E. K-nearest neighbor classifier"
   ]
  },
  {
   "cell_type": "code",
   "execution_count": 591,
   "metadata": {
    "collapsed": false
   },
   "outputs": [
    {
     "name": "stdout",
     "output_type": "stream",
     "text": [
      "1 0.72027972028\n",
      "2 0.762237762238\n",
      "3 0.72027972028\n",
      "5 0.727272727273\n",
      "10 0.727272727273\n",
      "20 0.797202797203\n",
      "30 0.783216783217\n",
      "50 0.776223776224\n",
      "best K is: 20\n"
     ]
    }
   ],
   "source": [
    "from sklearn.neighbors import KNeighborsClassifier\n",
    "best_k = 1\n",
    "best_acc = 0\n",
    "for n_neighbors in [1,2,3,5,10,20,30,50]:\n",
    "    KNN = KNeighborsClassifier(n_neighbors)\n",
    "    KNN.fit(X_train, y_train)\n",
    "    acc = KNN.score(X_test, y_test)\n",
    "    print (n_neighbors, acc)\n",
    "    if acc > best_acc:\n",
    "        best_k = n_neighbors\n",
    "        best_acc = acc\n",
    "\n",
    "print('best K is:', best_k)"
   ]
  },
  {
   "cell_type": "code",
   "execution_count": 592,
   "metadata": {
    "collapsed": false
   },
   "outputs": [
    {
     "data": {
      "text/plain": [
       "KNeighborsClassifier(algorithm='auto', leaf_size=30, metric='minkowski',\n",
       "           metric_params=None, n_neighbors=20, p=2, weights='uniform')"
      ]
     },
     "execution_count": 592,
     "metadata": {},
     "output_type": "execute_result"
    }
   ],
   "source": [
    "KNN = KNeighborsClassifier(n_neighbors = best_k)\n",
    "KNN.fit(X_train, y_train)"
   ]
  },
  {
   "cell_type": "code",
   "execution_count": 593,
   "metadata": {
    "collapsed": false
   },
   "outputs": [
    {
     "name": "stdout",
     "output_type": "stream",
     "text": [
      "MSE:  0.797202797203 0.685314685315\n"
     ]
    }
   ],
   "source": [
    "print('MSE: ', KNN.score(X_test, y_test), KNN.score(X_val, y_val))"
   ]
  },
  {
   "cell_type": "code",
   "execution_count": 560,
   "metadata": {
    "collapsed": false
   },
   "outputs": [
    {
     "data": {
      "image/png": "[encoded data removed]",
      "text/plain": [
       "<matplotlib.figure.Figure at 0x10acbcdd8>"
      ]
     },
     "metadata": {},
     "output_type": "display_data"
    }
   ],
   "source": [
    "y_train_prob = KNN.predict_proba(X_train)\n",
    "y_test_prob  = KNN.predict_proba(X_test)\n",
    "y_val_prob   = KNN.predict_proba(X_val)\n",
    "ROCplot(y_train, y_train_prob, y_test,y_test_prob, y_val,y_val_prob, 'K-nearest-neighbor')"
   ]
  },
  {
   "cell_type": "markdown",
   "metadata": {},
   "source": [
    "## F. Random Forest Model"
   ]
  },
  {
   "cell_type": "code",
   "execution_count": 561,
   "metadata": {
    "collapsed": false
   },
   "outputs": [
    {
     "data": {
      "text/plain": [
       "RandomForestClassifier(bootstrap=True, class_weight=None, criterion='gini',\n",
       "            max_depth=None, max_features='auto', max_leaf_nodes=None,\n",
       "            min_samples_leaf=1, min_samples_split=2,\n",
       "            min_weight_fraction_leaf=0.0, n_estimators=6, n_jobs=1,\n",
       "            oob_score=False, random_state=None, verbose=0,\n",
       "            warm_start=False)"
      ]
     },
     "execution_count": 561,
     "metadata": {},
     "output_type": "execute_result"
    }
   ],
   "source": [
    "from sklearn.ensemble import RandomForestClassifier\n",
    "from sklearn.calibration import CalibratedClassifierCV\n",
    "from sklearn.metrics import log_loss\n",
    "\n",
    "rf = RandomForestClassifier(n_estimators=6)\n",
    "rf.fit(X_train, y_train)"
   ]
  },
  {
   "cell_type": "code",
   "execution_count": 563,
   "metadata": {
    "collapsed": false
   },
   "outputs": [
    {
     "name": "stdout",
     "output_type": "stream",
     "text": [
      "MSE: 0.762237762238 0.755244755245\n"
     ]
    }
   ],
   "source": [
    "print ('MSE:', rf.score(X_test, y_test), rf.score(X_val, y_val))"
   ]
  },
  {
   "cell_type": "code",
   "execution_count": 564,
   "metadata": {
    "collapsed": false
   },
   "outputs": [
    {
     "data": {
      "image/png": "[encoded data removed]",
      "text/plain": [
       "<matplotlib.figure.Figure at 0x103304c88>"
      ]
     },
     "metadata": {},
     "output_type": "display_data"
    }
   ],
   "source": [
    "y_train_prob = rf.predict_proba(X_train)\n",
    "y_test_prob = rf.predict_proba(X_test)\n",
    "y_val_prob = rf.predict_proba(X_val)\n",
    "ROCplot(y_train, y_train_prob, y_test,y_test_prob, y_val,y_val_prob, 'Random Forest')"
   ]
  },
  {
   "cell_type": "markdown",
   "metadata": {},
   "source": [
    "We can see the overfitting isse here since the ROC curve of training set is equal to one."
   ]
  },
  {
   "cell_type": "markdown",
   "metadata": {},
   "source": [
    "### F. 2 Random Forest Grid Search"
   ]
  },
  {
   "cell_type": "code",
   "execution_count": 565,
   "metadata": {
    "collapsed": false
   },
   "outputs": [
    {
     "name": "stdout",
     "output_type": "stream",
     "text": [
      "Fitting 3 folds for each of 18 candidates, totalling 54 fits\n"
     ]
    },
    {
     "name": "stderr",
     "output_type": "stream",
     "text": [
      "[Parallel(n_jobs=-1)]: Done   1 jobs       | elapsed:    0.1s\n",
      "[Parallel(n_jobs=-1)]: Done  41 jobs       | elapsed:    0.4s\n",
      "[Parallel(n_jobs=-1)]: Done  48 out of  54 | elapsed:    0.4s remaining:    0.1s\n",
      "[Parallel(n_jobs=-1)]: Done  54 out of  54 | elapsed:    0.4s finished\n"
     ]
    },
    {
     "name": "stdout",
     "output_type": "stream",
     "text": [
      "[CV] max_depth=5, n_estimators=2, min_samples_leaf=10 ................\n",
      "[CV] max_depth=5, n_estimators=2, min_samples_leaf=10 ................\n",
      "[CV] max_depth=5, n_estimators=2, min_samples_leaf=10 ................\n",
      "[CV] max_depth=5, n_estimators=4, min_samples_leaf=10 ................\n",
      "[CV] ....... max_depth=5, n_estimators=2, min_samples_leaf=10 -   0.0s\n",
      "[CV] ....... max_depth=5, n_estimators=2, min_samples_leaf=10 -   0.0s\n",
      "[CV] ....... max_depth=5, n_estimators=2, min_samples_leaf=10 -   0.0s\n",
      "[CV] ....... max_depth=5, n_estimators=4, min_samples_leaf=10 -   0.0s\n",
      "[CV] max_depth=5, n_estimators=4, min_samples_leaf=10 ................\n",
      "[CV] max_depth=5, n_estimators=4, min_samples_leaf=10 ................\n",
      "[CV] max_depth=5, n_estimators=6, min_samples_leaf=10 ................\n",
      "[CV] max_depth=5, n_estimators=2, min_samples_leaf=20 ................\n",
      "[CV] ....... max_depth=5, n_estimators=4, min_samples_leaf=10 -   0.0s\n",
      "[CV] ....... max_depth=5, n_estimators=4, min_samples_leaf=10 -   0.0s\n",
      "[CV] ....... max_depth=5, n_estimators=6, min_samples_leaf=10 -   0.0s\n",
      "[CV] ....... max_depth=5, n_estimators=2, min_samples_leaf=20 -   0.0s\n",
      "[CV] max_depth=5, n_estimators=6, min_samples_leaf=10 ................\n",
      "[CV] max_depth=5, n_estimators=6, min_samples_leaf=10 ................\n",
      "[CV] max_depth=5, n_estimators=4, min_samples_leaf=20 ................\n",
      "[CV] max_depth=5, n_estimators=2, min_samples_leaf=20 ................\n",
      "[CV] ....... max_depth=5, n_estimators=6, min_samples_leaf=10 -   0.1s[CV] ....... max_depth=5, n_estimators=6, min_samples_leaf=10 -   0.0s\n",
      "[CV] ....... max_depth=5, n_estimators=4, min_samples_leaf=20 -   0.0s\n",
      "[CV] ....... max_depth=5, n_estimators=2, min_samples_leaf=20 -   0.0s\n",
      "\n",
      "[CV] max_depth=5, n_estimators=4, min_samples_leaf=20 ................\n",
      "[CV] max_depth=5, n_estimators=6, min_samples_leaf=20 ................\n",
      "[CV] max_depth=5, n_estimators=4, min_samples_leaf=20 ................\n",
      "[CV] max_depth=5, n_estimators=2, min_samples_leaf=20 ................\n",
      "[CV] ....... max_depth=5, n_estimators=4, min_samples_leaf=20 -   0.0s\n",
      "[CV] ....... max_depth=5, n_estimators=6, min_samples_leaf=20 -   0.0s\n",
      "[CV] ....... max_depth=5, n_estimators=4, min_samples_leaf=20 -   0.0s\n",
      "[CV] ....... max_depth=5, n_estimators=2, min_samples_leaf=20 -   0.0s\n",
      "[CV] max_depth=10, n_estimators=2, min_samples_leaf=10 ...............\n",
      "[CV] max_depth=10, n_estimators=6, min_samples_leaf=10 ...............\n",
      "[CV] max_depth=5, n_estimators=6, min_samples_leaf=20 ................\n",
      "[CV] max_depth=5, n_estimators=6, min_samples_leaf=20 ................\n",
      "[CV] ...... max_depth=10, n_estimators=2, min_samples_leaf=10 -   0.0s\n",
      "[CV] ...... max_depth=10, n_estimators=6, min_samples_leaf=10 -   0.0s\n",
      "[CV] ....... max_depth=5, n_estimators=6, min_samples_leaf=20 -   0.0s\n",
      "[CV] ....... max_depth=5, n_estimators=6, min_samples_leaf=20 -   0.0s\n",
      "[CV] max_depth=10, n_estimators=2, min_samples_leaf=10 ...............\n",
      "[CV] max_depth=10, n_estimators=2, min_samples_leaf=20 ...............\n",
      "[CV] max_depth=10, n_estimators=4, min_samples_leaf=10 ...............\n",
      "[CV] max_depth=10, n_estimators=2, min_samples_leaf=10 ...............\n",
      "[CV] ...... max_depth=10, n_estimators=2, min_samples_leaf=10 -   0.0s\n",
      "[CV] ...... max_depth=10, n_estimators=2, min_samples_leaf=20 -   0.0s\n",
      "[CV] ...... max_depth=10, n_estimators=4, min_samples_leaf=10 -   0.0s\n",
      "[CV] ...... max_depth=10, n_estimators=2, min_samples_leaf=10 -   0.0s\n",
      "[CV] max_depth=10, n_estimators=4, min_samples_leaf=10 ...............\n",
      "[CV] max_depth=10, n_estimators=4, min_samples_leaf=20 ...............\n",
      "[CV] max_depth=10, n_estimators=6, min_samples_leaf=10 ...............\n",
      "[CV] max_depth=10, n_estimators=4, min_samples_leaf=10 ...............\n",
      "[CV] ...... max_depth=10, n_estimators=4, min_samples_leaf=10 -   0.0s\n",
      "[CV] ...... max_depth=10, n_estimators=4, min_samples_leaf=20 -   0.0s\n",
      "[CV] ...... max_depth=10, n_estimators=6, min_samples_leaf=10 -   0.0s\n",
      "[CV] ...... max_depth=10, n_estimators=4, min_samples_leaf=10 -   0.0s\n",
      "[CV] max_depth=10, n_estimators=6, min_samples_leaf=10 ...............\n",
      "[CV] max_depth=10, n_estimators=6, min_samples_leaf=20 ...............\n",
      "[CV] max_depth=10, n_estimators=6, min_samples_leaf=20 ...............\n",
      "[CV] max_depth=10, n_estimators=2, min_samples_leaf=20 ...............\n",
      "[CV] ...... max_depth=10, n_estimators=6, min_samples_leaf=10 -   0.0s\n",
      "[CV] ...... max_depth=10, n_estimators=6, min_samples_leaf=20 -   0.0s\n",
      "[CV] ...... max_depth=10, n_estimators=6, min_samples_leaf=20 -   0.0s\n",
      "[CV] ...... max_depth=10, n_estimators=2, min_samples_leaf=20 -   0.0s\n",
      "[CV] max_depth=10, n_estimators=4, min_samples_leaf=20 ...............\n",
      "[CV] max_depth=15, n_estimators=6, min_samples_leaf=10 ...............\n",
      "[CV] max_depth=15, n_estimators=2, min_samples_leaf=10 ...............\n",
      "[CV] max_depth=10, n_estimators=2, min_samples_leaf=20 ...............\n",
      "[CV] ...... max_depth=10, n_estimators=4, min_samples_leaf=20 -   0.0s\n",
      "[CV] ...... max_depth=15, n_estimators=6, min_samples_leaf=10 -   0.0s\n",
      "[CV] ...... max_depth=15, n_estimators=2, min_samples_leaf=10 -   0.0s\n",
      "[CV] ...... max_depth=10, n_estimators=2, min_samples_leaf=20 -   0.0s\n",
      "[CV] max_depth=10, n_estimators=6, min_samples_leaf=20 ...............\n",
      "[CV] max_depth=15, n_estimators=2, min_samples_leaf=20 ...............\n",
      "[CV] max_depth=15, n_estimators=4, min_samples_leaf=10 ...............\n",
      "[CV] max_depth=10, n_estimators=4, min_samples_leaf=20 ...............\n",
      "[CV] ...... max_depth=10, n_estimators=6, min_samples_leaf=20 -   0.0s\n",
      "[CV] ...... max_depth=15, n_estimators=2, min_samples_leaf=20 -   0.0s\n",
      "[CV] ...... max_depth=15, n_estimators=4, min_samples_leaf=10 -   0.0s\n",
      "[CV] ...... max_depth=10, n_estimators=4, min_samples_leaf=20 -   0.0s\n",
      "[CV] max_depth=15, n_estimators=4, min_samples_leaf=10 ...............\n",
      "[CV] max_depth=15, n_estimators=4, min_samples_leaf=20 ...............\n",
      "[CV] max_depth=15, n_estimators=6, min_samples_leaf=10 ...............\n",
      "[CV] max_depth=15, n_estimators=2, min_samples_leaf=10 ...............\n",
      "[CV] ...... max_depth=15, n_estimators=4, min_samples_leaf=10 -   0.0s\n",
      "[CV] ...... max_depth=15, n_estimators=4, min_samples_leaf=20 -   0.0s\n",
      "[CV] ...... max_depth=15, n_estimators=6, min_samples_leaf=10 -   0.0s\n",
      "[CV] ...... max_depth=15, n_estimators=2, min_samples_leaf=10 -   0.0s\n",
      "[CV] max_depth=15, n_estimators=6, min_samples_leaf=10 ...............\n",
      "[CV] max_depth=15, n_estimators=6, min_samples_leaf=20 ...............\n",
      "[CV] max_depth=15, n_estimators=2, min_samples_leaf=20 ...............\n",
      "[CV] max_depth=15, n_estimators=2, min_samples_leaf=10 ...............\n",
      "[CV] ...... max_depth=15, n_estimators=6, min_samples_leaf=10 -   0.0s\n",
      "[CV] ...... max_depth=15, n_estimators=6, min_samples_leaf=20 -   0.0s\n",
      "[CV] ...... max_depth=15, n_estimators=2, min_samples_leaf=20 -   0.0s\n",
      "[CV] ...... max_depth=15, n_estimators=2, min_samples_leaf=10 -   0.0s\n",
      "[CV] max_depth=15, n_estimators=4, min_samples_leaf=20 ...............\n",
      "[CV] max_depth=15, n_estimators=6, min_samples_leaf=20 ...............\n",
      "[CV] max_depth=15, n_estimators=4, min_samples_leaf=10 ...............\n",
      "[CV] ...... max_depth=15, n_estimators=4, min_samples_leaf=20 -   0.0s\n",
      "[CV] ...... max_depth=15, n_estimators=6, min_samples_leaf=20 -   0.0s\n",
      "[CV] ...... max_depth=15, n_estimators=4, min_samples_leaf=10 -   0.0s\n",
      "[CV] max_depth=15, n_estimators=2, min_samples_leaf=20 ...............\n",
      "[CV] ...... max_depth=15, n_estimators=2, min_samples_leaf=20 -   0.0s\n",
      "[CV] max_depth=15, n_estimators=4, min_samples_leaf=20 ...............\n",
      "[CV] ...... max_depth=15, n_estimators=4, min_samples_leaf=20 -   0.0s\n",
      "[CV] max_depth=15, n_estimators=6, min_samples_leaf=20 ...............\n",
      "[CV] ...... max_depth=15, n_estimators=6, min_samples_leaf=20 -   0.0s\n"
     ]
    },
    {
     "data": {
      "text/plain": [
       "GridSearchCV(cv=None, error_score='raise',\n",
       "       estimator=RandomForestClassifier(bootstrap=True, class_weight=None, criterion='gini',\n",
       "            max_depth=None, max_features='auto', max_leaf_nodes=None,\n",
       "            min_samples_leaf=1, min_samples_split=2,\n",
       "            min_weight_fraction_leaf=0.0, n_estimators=10, n_jobs=1,\n",
       "            oob_score=False, random_state=None, verbose=0,\n",
       "            warm_start=False),\n",
       "       fit_params={}, iid=True, loss_func=None, n_jobs=-1,\n",
       "       param_grid={'max_depth': [5, 10, 15], 'n_estimators': [2, 4, 6], 'min_samples_leaf': [10, 20]},\n",
       "       pre_dispatch='2*n_jobs', refit=True, score_func=None,\n",
       "       scoring='roc_auc', verbose=2)"
      ]
     },
     "execution_count": 565,
     "metadata": {},
     "output_type": "execute_result"
    }
   ],
   "source": [
    "from sklearn import grid_search\n",
    "rf = RandomForestClassifier()\n",
    "parameters = {'n_estimators': [2,4,6],'max_depth':[5,10,15],'min_samples_leaf':[10,20]}\n",
    "model_cv_grid = grid_search.GridSearchCV(rf,parameters,scoring='roc_auc',verbose=2,n_jobs=-1)\n",
    "model_cv_grid.fit(X_train,y_train)"
   ]
  },
  {
   "cell_type": "code",
   "execution_count": 566,
   "metadata": {
    "collapsed": false
   },
   "outputs": [
    {
     "data": {
      "text/plain": [
       "RandomForestClassifier(bootstrap=True, class_weight=None, criterion='gini',\n",
       "            max_depth=5, max_features='auto', max_leaf_nodes=None,\n",
       "            min_samples_leaf=10, min_samples_split=2,\n",
       "            min_weight_fraction_leaf=0.0, n_estimators=6, n_jobs=1,\n",
       "            oob_score=False, random_state=None, verbose=0,\n",
       "            warm_start=False)"
      ]
     },
     "execution_count": 566,
     "metadata": {},
     "output_type": "execute_result"
    }
   ],
   "source": [
    "best_model = model_cv_grid.best_estimator_\n",
    "best_model"
   ]
  },
  {
   "cell_type": "code",
   "execution_count": 567,
   "metadata": {
    "collapsed": true
   },
   "outputs": [],
   "source": [
    "model_tuned = best_model"
   ]
  },
  {
   "cell_type": "code",
   "execution_count": 568,
   "metadata": {
    "collapsed": false
   },
   "outputs": [
    {
     "data": {
      "text/plain": [
       "RandomForestClassifier(bootstrap=True, class_weight=None, criterion='gini',\n",
       "            max_depth=5, max_features='auto', max_leaf_nodes=None,\n",
       "            min_samples_leaf=10, min_samples_split=2,\n",
       "            min_weight_fraction_leaf=0.0, n_estimators=6, n_jobs=1,\n",
       "            oob_score=False, random_state=None, verbose=0,\n",
       "            warm_start=False)"
      ]
     },
     "execution_count": 568,
     "metadata": {},
     "output_type": "execute_result"
    }
   ],
   "source": [
    "model_tuned.fit(X_train, y_train)"
   ]
  },
  {
   "cell_type": "code",
   "execution_count": 569,
   "metadata": {
    "collapsed": false
   },
   "outputs": [
    {
     "data": {
      "image/png": "[encoded data removed]",
      "text/plain": [
       "<matplotlib.figure.Figure at 0x10c490240>"
      ]
     },
     "metadata": {},
     "output_type": "display_data"
    }
   ],
   "source": [
    "y_train_prob = model_tuned.predict_proba(X_train)\n",
    "y_test_prob = model_tuned.predict_proba(X_test)\n",
    "y_val_prob = model_tuned.predict_proba(X_val)\n",
    "ROCplot(y_train, y_train_prob, y_test,y_test_prob, y_val,y_val_prob, 'Random Forest with Grid search')"
   ]
  },
  {
   "cell_type": "code",
   "execution_count": 594,
   "metadata": {
    "collapsed": false
   },
   "outputs": [
    {
     "name": "stdout",
     "output_type": "stream",
     "text": [
      "MSE: 0.804195804196 0.762237762238\n"
     ]
    }
   ],
   "source": [
    "print ('MSE:', model_tuned.score(X_test, y_test), model_tuned.score(X_val, y_val))"
   ]
  },
  {
   "cell_type": "code",
   "execution_count": 571,
   "metadata": {
    "collapsed": false
   },
   "outputs": [
    {
     "data": {
      "text/html": [
       "<div>\n",
       "<table border=\"1\" class=\"dataframe\">\n",
       "  <thead>\n",
       "    <tr style=\"text-align: right;\">\n",
       "      <th></th>\n",
       "      <th>importance</th>\n",
       "      <th>variable</th>\n",
       "    </tr>\n",
       "  </thead>\n",
       "  <tbody>\n",
       "    <tr>\n",
       "      <th>0</th>\n",
       "      <td>0.530204</td>\n",
       "      <td>Sex_female</td>\n",
       "    </tr>\n",
       "    <tr>\n",
       "      <th>1</th>\n",
       "      <td>0.189801</td>\n",
       "      <td>Pclass</td>\n",
       "    </tr>\n",
       "    <tr>\n",
       "      <th>2</th>\n",
       "      <td>0.177489</td>\n",
       "      <td>Fare</td>\n",
       "    </tr>\n",
       "    <tr>\n",
       "      <th>3</th>\n",
       "      <td>0.065283</td>\n",
       "      <td>Age</td>\n",
       "    </tr>\n",
       "    <tr>\n",
       "      <th>4</th>\n",
       "      <td>0.026105</td>\n",
       "      <td>SibSp</td>\n",
       "    </tr>\n",
       "  </tbody>\n",
       "</table>\n",
       "</div>"
      ],
      "text/plain": [
       "   importance    variable\n",
       "0    0.530204  Sex_female\n",
       "1    0.189801      Pclass\n",
       "2    0.177489        Fare\n",
       "3    0.065283         Age\n",
       "4    0.026105       SibSp"
      ]
     },
     "execution_count": 571,
     "metadata": {},
     "output_type": "execute_result"
    }
   ],
   "source": [
    "importance = model_tuned.feature_importances_\n",
    "attribute = X.columns\n",
    "\n",
    "v = sorted(range(len(importance)), key=lambda k: importance[k], reverse=True)\n",
    "sorted_importance = [importance[i] for i in v]\n",
    "sorted_attribute = [attribute[i] for i in v]\n",
    "\n",
    "df_importance = pd.DataFrame({'variable': sorted_attribute, 'importance' : sorted_importance})\n",
    "df_importance.sort_index().head(5)"
   ]
  },
  {
   "cell_type": "markdown",
   "metadata": {},
   "source": [
    "This results show the most significant factor for passengers survived or not is the gender. The people might still  let ladies to have the priority to board the life-boat. Second is the class level. We can the first class passengers have larger chance to survive, and then the ages. "
   ]
  },
  {
   "cell_type": "markdown",
   "metadata": {},
   "source": [
    "## Conclusion\n",
    "\n",
    "The performances for all classifiers are quite similar. But roughly speaking, random forest, LDA/QDA and logistic regression are a little bit better than other classifiers. The KNN's and SVM performance is not as good as others. In particular, SVM is relatively slow, even in the small dataset. Note that random forest has the overfit issue (ROC area is equal to 1). Therefore, running grid search to find best parameters is suggested.\n",
    "\n",
    "From both logistic regression and random forest, we can learn that gender is the most significant factor and the class is the second. So female first class passengers have largest chance to survive."
   ]
  }
 ],
 "metadata": {
  "kernelspec": {
   "display_name": "Python 3",
   "language": "python",
   "name": "python3"
  },
  "language_info": {
   "codemirror_mode": {
    "name": "ipython",
    "version": 3
   },
   "file_extension": ".py",
   "mimetype": "text/x-python",
   "name": "python",
   "nbconvert_exporter": "python",
   "pygments_lexer": "ipython3",
   "version": "3.4.5"
  }
 },
 "nbformat": 4,
 "nbformat_minor": 0
}
