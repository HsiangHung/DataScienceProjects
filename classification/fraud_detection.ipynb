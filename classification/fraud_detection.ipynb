{
 "cells": [
  {
   "cell_type": "markdown",
   "metadata": {},
   "source": [
    "# Anomaly Detection Practice\n",
    "\n",
    "In this note, we will study an anomaly detection problem. Due to existence of labels on the data, I will classify this as a supervised learning problem. \n",
    "\n",
    "There are almost 2 million rows and 17 features, and the number of fraud transactions is only about 8000. Therefore the data is highly skewed. In the note, we will first check through the categorical features. I didn't find any significant difference to identify frauds and normal transactions. For each categorical feature, we perform a chi-square test to find the p-value; the null hypothesis $-$ negative (normal) data has same categorical distribution as positive (fraud) one. We found all hypothesis testing shows large p-value, so we cannot reject the null hypothesis, i.e. the categorical distributions of negative and positive sample is the same (or similar). But one interesting indication is that fraud transactions used to repeat 'device_id' and 'fuzzy_device_id'.\n",
    "\n",
    "Next we move to continuous features. In addition to 'page_time_on' and 'transaction_amount', we found 'time_diff' defined as time difference between 'device_first_seen' and the transaction time 'datetime' could be useful. They significantly show different distribution behavior, like different median/mean values, for frauds and normal transactions. In particular, even using modified Z score of 'transaction_amount' as classifier can reach 60% recall. \n",
    "\n",
    "Based on the above analysis, I simply consider the three continuous features and build machine learning models. We tried logistic regression, random forest and finally ensemble learning. I firstly separate training/test dataset and only use training dataset for modelling. For each model, I undersample the majority (normal data), and then combine all fraud data and subset of the normal transaction to generate new dataset for training. The model performance is given by using test dataset.\n",
    "\n",
    "While the new dataset has less fraud-normal ratio = 1:5, the model gives higher recall but low precision. Whereas including more normal data, say fraud-normal ratio = 1:50, the recall drops but precision enhances. Thus there exists trade-off between precision and recall. To determine the right metric, it depends on how much cost for getting a  false negative and missing a false negative. To compromise, I select Macro F1 score as the metric to select the optimal classification model. Meanwhile, I also visualize both precision-recall and ROC curves, and compute the area under the curves (AUC) for performance comparison. Higher AUC values denote a better model. From the models I adventured here, **random forest and ensemble learning show similar performance and both outperform logistic regression**. The **most important feature is 'transaction_amount'**.\n",
    "\n",
    "The content of the note is as follows. The Sec. 1 and Sec. 2 are the analysis of features by comparing frauds and normal data. Sec. 3 is devoted to modeling. \n",
    "\n",
    "    0. Data Preparation\n",
    "    1. Categorical Feature\n",
    "      1.1 'browser_language'\n",
    "      1.2 'os' and 'ua_os'\n",
    "      1.3 'os_anomaly' and 'browser_language_anomaly'\n",
    "      1.4 'true_ip_geo'\n",
    "      1.5 'proxy_ip_geo'\n",
    "      1.6 'device_id' and 'fuzzy_device_id'\n",
    "    2. Continuous Feature\n",
    "      2.1 'time_diff'\n",
    "      2.2 'page_time_on'\n",
    "      2.3 'transaction_amount'\n",
    "    3. Machine Learning\n",
    "      3.1 Data manipulation and Pipeline\n",
    "      3.2 Logistic Regression\n",
    "      3.3 Random Forest\n",
    "      3.4 Ensemble Learning"
   ]
  },
  {
   "cell_type": "code",
   "execution_count": 1,
   "metadata": {},
   "outputs": [],
   "source": [
    "import numpy as np\n",
    "import pandas as pd\n",
    "import random\n",
    "import matplotlib.pyplot as plt\n",
    "import seaborn as sns\n",
    "%matplotlib inline\n",
    "from datetime import datetime\n",
    "from scipy.stats import chisquare"
   ]
  },
  {
   "cell_type": "markdown",
   "metadata": {},
   "source": [
    "# 0. Data Preparation"
   ]
  },
  {
   "cell_type": "code",
   "execution_count": 2,
   "metadata": {},
   "outputs": [],
   "source": [
    "data = pd.read_csv('/Users/hhung/Desktop/tmx_data.csv')"
   ]
  },
  {
   "cell_type": "code",
   "execution_count": 3,
   "metadata": {},
   "outputs": [
    {
     "data": {
      "text/plain": [
       "(1931530, 17)"
      ]
     },
     "execution_count": 3,
     "metadata": {},
     "output_type": "execute_result"
    }
   ],
   "source": [
    "data.shape"
   ]
  },
  {
   "cell_type": "code",
   "execution_count": 4,
   "metadata": {},
   "outputs": [
    {
     "data": {
      "text/html": [
       "<div>\n",
       "<style scoped>\n",
       "    .dataframe tbody tr th:only-of-type {\n",
       "        vertical-align: middle;\n",
       "    }\n",
       "\n",
       "    .dataframe tbody tr th {\n",
       "        vertical-align: top;\n",
       "    }\n",
       "\n",
       "    .dataframe thead th {\n",
       "        text-align: right;\n",
       "    }\n",
       "</style>\n",
       "<table border=\"1\" class=\"dataframe\">\n",
       "  <thead>\n",
       "    <tr style=\"text-align: right;\">\n",
       "      <th></th>\n",
       "      <th>datetime</th>\n",
       "      <th>browser_language</th>\n",
       "      <th>device_id</th>\n",
       "      <th>device_first_seen</th>\n",
       "      <th>os</th>\n",
       "      <th>os_anomaly</th>\n",
       "      <th>ua_os</th>\n",
       "      <th>browser_language_anomaly</th>\n",
       "      <th>fuzzy_device_id</th>\n",
       "      <th>fuzzy_device_first_seen</th>\n",
       "      <th>true_ip</th>\n",
       "      <th>true_ip_geo</th>\n",
       "      <th>proxy_ip</th>\n",
       "      <th>proxy_ip_geo</th>\n",
       "      <th>page_time_on</th>\n",
       "      <th>transaction_amount</th>\n",
       "      <th>frd</th>\n",
       "    </tr>\n",
       "  </thead>\n",
       "  <tbody>\n",
       "    <tr>\n",
       "      <th>0</th>\n",
       "      <td>2017-02-03 15:27:56.434</td>\n",
       "      <td>en-GB</td>\n",
       "      <td>b997731646e641c2a67be8b78977cec4</td>\n",
       "      <td>2016-07-20 00:00:00.000</td>\n",
       "      <td>Windows</td>\n",
       "      <td>NaN</td>\n",
       "      <td>win10</td>\n",
       "      <td>NaN</td>\n",
       "      <td>b997731646e641c2a67be8b78977cec4</td>\n",
       "      <td>2016-07-20 00:00:00.000</td>\n",
       "      <td>86.3.57.193</td>\n",
       "      <td>GB</td>\n",
       "      <td>NaN</td>\n",
       "      <td>NaN</td>\n",
       "      <td>12474.0</td>\n",
       "      <td>985.0</td>\n",
       "      <td>1</td>\n",
       "    </tr>\n",
       "    <tr>\n",
       "      <th>1</th>\n",
       "      <td>2017-02-06 12:12:37.806</td>\n",
       "      <td>en-US,en;q=0.8</td>\n",
       "      <td>f898b94549f148cd9e7553d4cb0b1b18</td>\n",
       "      <td>2017-02-06 00:00:00.000</td>\n",
       "      <td>Windows</td>\n",
       "      <td>NaN</td>\n",
       "      <td>win7</td>\n",
       "      <td>NaN</td>\n",
       "      <td>f898b94549f148cd9e7553d4cb0b1b18</td>\n",
       "      <td>2017-02-06 00:00:00.000</td>\n",
       "      <td>82.5.29.233</td>\n",
       "      <td>GB</td>\n",
       "      <td>NaN</td>\n",
       "      <td>NaN</td>\n",
       "      <td>42533.0</td>\n",
       "      <td>995.0</td>\n",
       "      <td>1</td>\n",
       "    </tr>\n",
       "    <tr>\n",
       "      <th>2</th>\n",
       "      <td>2017-02-06 11:10:12.312</td>\n",
       "      <td>en-GB</td>\n",
       "      <td>ffd09ef2f216457aac5d295a74df6976</td>\n",
       "      <td>2017-01-31 00:00:00.000</td>\n",
       "      <td>Windows</td>\n",
       "      <td>NaN</td>\n",
       "      <td>win10</td>\n",
       "      <td>NaN</td>\n",
       "      <td>ffd09ef2f216457aac5d295a74df6976</td>\n",
       "      <td>2017-01-31 00:00:00.000</td>\n",
       "      <td>86.141.251.95</td>\n",
       "      <td>GB</td>\n",
       "      <td>NaN</td>\n",
       "      <td>NaN</td>\n",
       "      <td>3020.0</td>\n",
       "      <td>1732.9</td>\n",
       "      <td>1</td>\n",
       "    </tr>\n",
       "    <tr>\n",
       "      <th>3</th>\n",
       "      <td>2017-02-07 14:35:25.556</td>\n",
       "      <td>en-GB,en;q=0.5</td>\n",
       "      <td>9f72df7fefee430a87558817f2a6b29a</td>\n",
       "      <td>2016-12-13 00:00:00.000</td>\n",
       "      <td>Windows</td>\n",
       "      <td>NaN</td>\n",
       "      <td>win7</td>\n",
       "      <td>NaN</td>\n",
       "      <td>9f72df7fefee430a87558817f2a6b29a</td>\n",
       "      <td>2016-12-13 00:00:00.000</td>\n",
       "      <td>79.78.127.191</td>\n",
       "      <td>GB</td>\n",
       "      <td>NaN</td>\n",
       "      <td>NaN</td>\n",
       "      <td>13179.0</td>\n",
       "      <td>3110.0</td>\n",
       "      <td>1</td>\n",
       "    </tr>\n",
       "    <tr>\n",
       "      <th>4</th>\n",
       "      <td>2017-02-08 14:24:39.853</td>\n",
       "      <td>en-GB,en-US;q=0.8,en;q=0.6</td>\n",
       "      <td>9dd8b168a5f1486db191c57efeaf2935</td>\n",
       "      <td>2017-02-08 00:00:00.000</td>\n",
       "      <td>Windows</td>\n",
       "      <td>NaN</td>\n",
       "      <td>NaN</td>\n",
       "      <td>NaN</td>\n",
       "      <td>9dd8b168a5f1486db191c57efeaf2935</td>\n",
       "      <td>2017-02-08 00:00:00.000</td>\n",
       "      <td>94.197.0.167</td>\n",
       "      <td>GB</td>\n",
       "      <td>NaN</td>\n",
       "      <td>NaN</td>\n",
       "      <td>6339.0</td>\n",
       "      <td>6.5</td>\n",
       "      <td>1</td>\n",
       "    </tr>\n",
       "  </tbody>\n",
       "</table>\n",
       "</div>"
      ],
      "text/plain": [
       "                  datetime            browser_language  \\\n",
       "0  2017-02-03 15:27:56.434                       en-GB   \n",
       "1  2017-02-06 12:12:37.806              en-US,en;q=0.8   \n",
       "2  2017-02-06 11:10:12.312                       en-GB   \n",
       "3  2017-02-07 14:35:25.556              en-GB,en;q=0.5   \n",
       "4  2017-02-08 14:24:39.853  en-GB,en-US;q=0.8,en;q=0.6   \n",
       "\n",
       "                          device_id        device_first_seen       os  \\\n",
       "0  b997731646e641c2a67be8b78977cec4  2016-07-20 00:00:00.000  Windows   \n",
       "1  f898b94549f148cd9e7553d4cb0b1b18  2017-02-06 00:00:00.000  Windows   \n",
       "2  ffd09ef2f216457aac5d295a74df6976  2017-01-31 00:00:00.000  Windows   \n",
       "3  9f72df7fefee430a87558817f2a6b29a  2016-12-13 00:00:00.000  Windows   \n",
       "4  9dd8b168a5f1486db191c57efeaf2935  2017-02-08 00:00:00.000  Windows   \n",
       "\n",
       "  os_anomaly  ua_os browser_language_anomaly  \\\n",
       "0        NaN  win10                      NaN   \n",
       "1        NaN   win7                      NaN   \n",
       "2        NaN  win10                      NaN   \n",
       "3        NaN   win7                      NaN   \n",
       "4        NaN    NaN                      NaN   \n",
       "\n",
       "                    fuzzy_device_id  fuzzy_device_first_seen        true_ip  \\\n",
       "0  b997731646e641c2a67be8b78977cec4  2016-07-20 00:00:00.000    86.3.57.193   \n",
       "1  f898b94549f148cd9e7553d4cb0b1b18  2017-02-06 00:00:00.000    82.5.29.233   \n",
       "2  ffd09ef2f216457aac5d295a74df6976  2017-01-31 00:00:00.000  86.141.251.95   \n",
       "3  9f72df7fefee430a87558817f2a6b29a  2016-12-13 00:00:00.000  79.78.127.191   \n",
       "4  9dd8b168a5f1486db191c57efeaf2935  2017-02-08 00:00:00.000   94.197.0.167   \n",
       "\n",
       "  true_ip_geo proxy_ip proxy_ip_geo  page_time_on  transaction_amount  frd  \n",
       "0          GB      NaN          NaN       12474.0               985.0    1  \n",
       "1          GB      NaN          NaN       42533.0               995.0    1  \n",
       "2          GB      NaN          NaN        3020.0              1732.9    1  \n",
       "3          GB      NaN          NaN       13179.0              3110.0    1  \n",
       "4          GB      NaN          NaN        6339.0                 6.5    1  "
      ]
     },
     "execution_count": 4,
     "metadata": {},
     "output_type": "execute_result"
    }
   ],
   "source": [
    "data.head()"
   ]
  },
  {
   "cell_type": "code",
   "execution_count": 5,
   "metadata": {},
   "outputs": [],
   "source": [
    "time_diff = []\n",
    "for i, row in enumerate(data.iterrows()):\n",
    "    row = row[1]\n",
    "    if pd.isnull(row['datetime']) == False and pd.isnull(row['device_first_seen']) == False:\n",
    "        time_2 = row['datetime'].split(' ')[0]\n",
    "        time_1 = row['device_first_seen'].split(' ')[0]\n",
    "        time_diff.append((datetime.strptime(time_2, '%Y-%m-%d')-datetime.strptime(time_1, '%Y-%m-%d')).days)\n",
    "    else:\n",
    "        time_diff.append(float('nan'))\n",
    "\n",
    "data['time_diff'] = time_diff"
   ]
  },
  {
   "cell_type": "code",
   "execution_count": 6,
   "metadata": {},
   "outputs": [
    {
     "data": {
      "text/plain": [
       "(7986, 1923544)"
      ]
     },
     "execution_count": 6,
     "metadata": {},
     "output_type": "execute_result"
    }
   ],
   "source": [
    "pos_data, neg_data = data[data.frd == 1], data[data.frd == 0]\n",
    "len(pos_data), len(neg_data)"
   ]
  },
  {
   "cell_type": "markdown",
   "metadata": {},
   "source": [
    "# 1. Categorical Feature\n",
    "\n",
    "Here we will walk through the categorical features. For each, we perform chi-square testing to compare normal data pool and fraud data pool. The null hypothesis is \n",
    "\n",
    "$$H_0: \\textrm{categorical variable distribution for positive sample} = \\textrm{categorical variable distribution for negative sample}$$\n",
    "\n",
    "and the alternative hypothesis is they are not equal. We found all have large p-value, i.e. these distributions are the same. Thus I won't use the catgeorical features for later modeling."
   ]
  },
  {
   "cell_type": "code",
   "execution_count": 6,
   "metadata": {},
   "outputs": [],
   "source": [
    "def category_dict(feature, x):\n",
    "    '''given a feature list x, return the categorical count dictionary\n",
    "       e.g. x = [A, A, B, A, C, C]\n",
    "       return {A: 3, B:1, C: 2}\n",
    "    '''\n",
    "    x_dict = {}\n",
    "    for i in x:\n",
    "        x_dict[i] = x_dict.get(i, 0) + 1\n",
    "        \n",
    "    x_dict = {i: round(x_dict[i]*1.0/len(x), 4) for i in x_dict}\n",
    "    sorted_x = sorted(x_dict.items(), key=lambda kv: kv[1], reverse=True)\n",
    "    category, ratio = [], []\n",
    "    for item in sorted_x:\n",
    "        category.append(item[0])\n",
    "        ratio.append(item[1])\n",
    "    return x_dict, pd.DataFrame({feature: category, 'ratio': ratio})"
   ]
  },
  {
   "cell_type": "markdown",
   "metadata": {},
   "source": [
    "## 1.1 'browser_language'"
   ]
  },
  {
   "cell_type": "code",
   "execution_count": 215,
   "metadata": {},
   "outputs": [
    {
     "name": "stdout",
     "output_type": "stream",
     "text": [
      "4939 59\n"
     ]
    }
   ],
   "source": [
    "neg = neg_data['browser_language'].tolist()\n",
    "pos = pos_data['browser_language'].tolist()\n",
    "print (len(set(neg)), len(set(pos)))"
   ]
  },
  {
   "cell_type": "code",
   "execution_count": 216,
   "metadata": {},
   "outputs": [],
   "source": [
    "neg_category_dict, neg_table = category_dict('browser language', neg)\n",
    "pos_category_dict, pos_table = category_dict('browser language', pos)"
   ]
  },
  {
   "cell_type": "code",
   "execution_count": 199,
   "metadata": {},
   "outputs": [
    {
     "data": {
      "text/html": [
       "<div>\n",
       "<table border=\"1\" class=\"dataframe\">\n",
       "  <thead>\n",
       "    <tr style=\"text-align: right;\">\n",
       "      <th></th>\n",
       "      <th>browser language</th>\n",
       "      <th>ratio</th>\n",
       "    </tr>\n",
       "  </thead>\n",
       "  <tbody>\n",
       "    <tr>\n",
       "      <th>0</th>\n",
       "      <td>en-US,en;q=0.8</td>\n",
       "      <td>0.2057</td>\n",
       "    </tr>\n",
       "    <tr>\n",
       "      <th>1</th>\n",
       "      <td>en-GB</td>\n",
       "      <td>0.1787</td>\n",
       "    </tr>\n",
       "    <tr>\n",
       "      <th>2</th>\n",
       "      <td>en-GB,en-US;q=0.8,en;q=0.6</td>\n",
       "      <td>0.1585</td>\n",
       "    </tr>\n",
       "    <tr>\n",
       "      <th>3</th>\n",
       "      <td>en-gb</td>\n",
       "      <td>0.1547</td>\n",
       "    </tr>\n",
       "    <tr>\n",
       "      <th>4</th>\n",
       "      <td>en-GB,en;q=0.5</td>\n",
       "      <td>0.0826</td>\n",
       "    </tr>\n",
       "  </tbody>\n",
       "</table>\n",
       "</div>"
      ],
      "text/plain": [
       "             browser language   ratio\n",
       "0              en-US,en;q=0.8  0.2057\n",
       "1                       en-GB  0.1787\n",
       "2  en-GB,en-US;q=0.8,en;q=0.6  0.1585\n",
       "3                       en-gb  0.1547\n",
       "4              en-GB,en;q=0.5  0.0826"
      ]
     },
     "execution_count": 199,
     "metadata": {},
     "output_type": "execute_result"
    }
   ],
   "source": [
    "pd.DataFrame(neg_table).head()"
   ]
  },
  {
   "cell_type": "code",
   "execution_count": 200,
   "metadata": {},
   "outputs": [
    {
     "data": {
      "text/html": [
       "<div>\n",
       "<table border=\"1\" class=\"dataframe\">\n",
       "  <thead>\n",
       "    <tr style=\"text-align: right;\">\n",
       "      <th></th>\n",
       "      <th>browser language</th>\n",
       "      <th>ratio</th>\n",
       "    </tr>\n",
       "  </thead>\n",
       "  <tbody>\n",
       "    <tr>\n",
       "      <th>0</th>\n",
       "      <td>en-US,en;q=0.8</td>\n",
       "      <td>0.2514</td>\n",
       "    </tr>\n",
       "    <tr>\n",
       "      <th>1</th>\n",
       "      <td>en-GB,en-US;q=0.8,en;q=0.6</td>\n",
       "      <td>0.1804</td>\n",
       "    </tr>\n",
       "    <tr>\n",
       "      <th>2</th>\n",
       "      <td>en-gb</td>\n",
       "      <td>0.1634</td>\n",
       "    </tr>\n",
       "    <tr>\n",
       "      <th>3</th>\n",
       "      <td>en-GB</td>\n",
       "      <td>0.1146</td>\n",
       "    </tr>\n",
       "    <tr>\n",
       "      <th>4</th>\n",
       "      <td>en-GB,en;q=0.5</td>\n",
       "      <td>0.0849</td>\n",
       "    </tr>\n",
       "  </tbody>\n",
       "</table>\n",
       "</div>"
      ],
      "text/plain": [
       "             browser language   ratio\n",
       "0              en-US,en;q=0.8  0.2514\n",
       "1  en-GB,en-US;q=0.8,en;q=0.6  0.1804\n",
       "2                       en-gb  0.1634\n",
       "3                       en-GB  0.1146\n",
       "4              en-GB,en;q=0.5  0.0849"
      ]
     },
     "execution_count": 200,
     "metadata": {},
     "output_type": "execute_result"
    }
   ],
   "source": [
    "pd.DataFrame(pos_table).head()"
   ]
  },
  {
   "cell_type": "code",
   "execution_count": 217,
   "metadata": {},
   "outputs": [
    {
     "data": {
      "text/plain": [
       "Power_divergenceResult(statistic=0.15583592016610731, pvalue=0.99999981555967066)"
      ]
     },
     "execution_count": 217,
     "metadata": {},
     "output_type": "execute_result"
    }
   ],
   "source": [
    "chisquare(pos_table['ratio'][:10], f_exp=[neg_category_dict[x] for x in pos_table['browser language'][:10]])"
   ]
  },
  {
   "cell_type": "markdown",
   "metadata": {},
   "source": [
    "## 1.2 'os' and 'ua_os'"
   ]
  },
  {
   "cell_type": "code",
   "execution_count": 221,
   "metadata": {},
   "outputs": [
    {
     "name": "stdout",
     "output_type": "stream",
     "text": [
      "10 10\n"
     ]
    }
   ],
   "source": [
    "neg = neg_data['os'].tolist()\n",
    "pos = pos_data['os'].tolist()\n",
    "print (len(set(neg)), len(set(pos)))\n",
    "\n",
    "neg_category_dict, neg_table = category_dict('os', neg)\n",
    "pos_category_dict, pos_table = category_dict('os', pos)"
   ]
  },
  {
   "cell_type": "code",
   "execution_count": 222,
   "metadata": {},
   "outputs": [
    {
     "data": {
      "text/plain": [
       "Power_divergenceResult(statistic=0.13718594693649608, pvalue=0.9999998952746616)"
      ]
     },
     "execution_count": 222,
     "metadata": {},
     "output_type": "execute_result"
    }
   ],
   "source": [
    "chisquare(pos_table['ratio'][:10], f_exp=[neg_category_dict[x] for x in pos_table['os'][:10]])"
   ]
  },
  {
   "cell_type": "code",
   "execution_count": 223,
   "metadata": {},
   "outputs": [
    {
     "name": "stdout",
     "output_type": "stream",
     "text": [
      "185 38\n"
     ]
    }
   ],
   "source": [
    "neg = neg_data['ua_os'].tolist()\n",
    "pos = pos_data['ua_os'].tolist()\n",
    "print (len(set(neg)), len(set(pos)))\n",
    "neg_category_dict, neg_table = category_dict('ua_os', neg)\n",
    "pos_category_dict, pos_table = category_dict('ua_os', pos)"
   ]
  },
  {
   "cell_type": "code",
   "execution_count": 224,
   "metadata": {},
   "outputs": [
    {
     "data": {
      "text/plain": [
       "Power_divergenceResult(statistic=0.16019778188824921, pvalue=0.9999997915351494)"
      ]
     },
     "execution_count": 224,
     "metadata": {},
     "output_type": "execute_result"
    }
   ],
   "source": [
    "chisquare(pos_table['ratio'][:10], f_exp=[neg_category_dict[x] for x in pos_table['ua_os'][:10]])"
   ]
  },
  {
   "cell_type": "code",
   "execution_count": 228,
   "metadata": {},
   "outputs": [
    {
     "data": {
      "text/html": [
       "<div>\n",
       "<table border=\"1\" class=\"dataframe\">\n",
       "  <thead>\n",
       "    <tr style=\"text-align: right;\">\n",
       "      <th></th>\n",
       "      <th>ratio</th>\n",
       "      <th>ua_os</th>\n",
       "    </tr>\n",
       "  </thead>\n",
       "  <tbody>\n",
       "    <tr>\n",
       "      <th>0</th>\n",
       "      <td>0.3028</td>\n",
       "      <td>win10</td>\n",
       "    </tr>\n",
       "    <tr>\n",
       "      <th>1</th>\n",
       "      <td>0.2117</td>\n",
       "      <td>win7</td>\n",
       "    </tr>\n",
       "    <tr>\n",
       "      <th>2</th>\n",
       "      <td>0.1321</td>\n",
       "      <td>macosx</td>\n",
       "    </tr>\n",
       "    <tr>\n",
       "      <th>3</th>\n",
       "      <td>0.1226</td>\n",
       "      <td>ios</td>\n",
       "    </tr>\n",
       "    <tr>\n",
       "      <th>4</th>\n",
       "      <td>0.0597</td>\n",
       "      <td>NaN</td>\n",
       "    </tr>\n",
       "  </tbody>\n",
       "</table>\n",
       "</div>"
      ],
      "text/plain": [
       "    ratio   ua_os\n",
       "0  0.3028   win10\n",
       "1  0.2117    win7\n",
       "2  0.1321  macosx\n",
       "3  0.1226     ios\n",
       "4  0.0597     NaN"
      ]
     },
     "execution_count": 228,
     "metadata": {},
     "output_type": "execute_result"
    }
   ],
   "source": [
    "neg_table.head()"
   ]
  },
  {
   "cell_type": "code",
   "execution_count": 229,
   "metadata": {},
   "outputs": [
    {
     "data": {
      "text/html": [
       "<div>\n",
       "<table border=\"1\" class=\"dataframe\">\n",
       "  <thead>\n",
       "    <tr style=\"text-align: right;\">\n",
       "      <th></th>\n",
       "      <th>ratio</th>\n",
       "      <th>ua_os</th>\n",
       "    </tr>\n",
       "  </thead>\n",
       "  <tbody>\n",
       "    <tr>\n",
       "      <th>0</th>\n",
       "      <td>0.3278</td>\n",
       "      <td>win10</td>\n",
       "    </tr>\n",
       "    <tr>\n",
       "      <th>1</th>\n",
       "      <td>0.1793</td>\n",
       "      <td>ios</td>\n",
       "    </tr>\n",
       "    <tr>\n",
       "      <th>2</th>\n",
       "      <td>0.1784</td>\n",
       "      <td>win7</td>\n",
       "    </tr>\n",
       "    <tr>\n",
       "      <th>3</th>\n",
       "      <td>0.0940</td>\n",
       "      <td>NaN</td>\n",
       "    </tr>\n",
       "    <tr>\n",
       "      <th>4</th>\n",
       "      <td>0.0721</td>\n",
       "      <td>win8.1</td>\n",
       "    </tr>\n",
       "  </tbody>\n",
       "</table>\n",
       "</div>"
      ],
      "text/plain": [
       "    ratio   ua_os\n",
       "0  0.3278   win10\n",
       "1  0.1793     ios\n",
       "2  0.1784    win7\n",
       "3  0.0940     NaN\n",
       "4  0.0721  win8.1"
      ]
     },
     "execution_count": 229,
     "metadata": {},
     "output_type": "execute_result"
    }
   ],
   "source": [
    "pos_table.head()"
   ]
  },
  {
   "cell_type": "markdown",
   "metadata": {},
   "source": [
    "## 1.3 'os_anomaly' and 'browser_language_anomaly'"
   ]
  },
  {
   "cell_type": "code",
   "execution_count": 10,
   "metadata": {},
   "outputs": [
    {
     "name": "stdout",
     "output_type": "stream",
     "text": [
      "(2, 2)\n"
     ]
    }
   ],
   "source": [
    "neg = neg_data['os_anomaly'].tolist()\n",
    "pos = pos_data['os_anomaly'].tolist()\n",
    "print (len(set(neg)), len(set(pos)))\n",
    "neg_category_dict, neg_table = category_dict('os_anomaly', neg)\n",
    "pos_category_dict, pos_table = category_dict('os_anomaly', pos)"
   ]
  },
  {
   "cell_type": "code",
   "execution_count": 11,
   "metadata": {},
   "outputs": [
    {
     "data": {
      "text/html": [
       "<div>\n",
       "<style scoped>\n",
       "    .dataframe tbody tr th:only-of-type {\n",
       "        vertical-align: middle;\n",
       "    }\n",
       "\n",
       "    .dataframe tbody tr th {\n",
       "        vertical-align: top;\n",
       "    }\n",
       "\n",
       "    .dataframe thead th {\n",
       "        text-align: right;\n",
       "    }\n",
       "</style>\n",
       "<table border=\"1\" class=\"dataframe\">\n",
       "  <thead>\n",
       "    <tr style=\"text-align: right;\">\n",
       "      <th></th>\n",
       "      <th>os_anomaly</th>\n",
       "      <th>ratio</th>\n",
       "    </tr>\n",
       "  </thead>\n",
       "  <tbody>\n",
       "    <tr>\n",
       "      <th>0</th>\n",
       "      <td>NaN</td>\n",
       "      <td>0.9542</td>\n",
       "    </tr>\n",
       "    <tr>\n",
       "      <th>1</th>\n",
       "      <td>True</td>\n",
       "      <td>0.0458</td>\n",
       "    </tr>\n",
       "  </tbody>\n",
       "</table>\n",
       "</div>"
      ],
      "text/plain": [
       "  os_anomaly   ratio\n",
       "0        NaN  0.9542\n",
       "1       True  0.0458"
      ]
     },
     "execution_count": 11,
     "metadata": {},
     "output_type": "execute_result"
    }
   ],
   "source": [
    "neg_table.head()"
   ]
  },
  {
   "cell_type": "code",
   "execution_count": 232,
   "metadata": {},
   "outputs": [
    {
     "data": {
      "text/html": [
       "<div>\n",
       "<table border=\"1\" class=\"dataframe\">\n",
       "  <thead>\n",
       "    <tr style=\"text-align: right;\">\n",
       "      <th></th>\n",
       "      <th>os_anomaly</th>\n",
       "      <th>ratio</th>\n",
       "    </tr>\n",
       "  </thead>\n",
       "  <tbody>\n",
       "    <tr>\n",
       "      <th>0</th>\n",
       "      <td>NaN</td>\n",
       "      <td>0.9335</td>\n",
       "    </tr>\n",
       "    <tr>\n",
       "      <th>1</th>\n",
       "      <td>True</td>\n",
       "      <td>0.0665</td>\n",
       "    </tr>\n",
       "  </tbody>\n",
       "</table>\n",
       "</div>"
      ],
      "text/plain": [
       "  os_anomaly   ratio\n",
       "0        NaN  0.9335\n",
       "1       True  0.0665"
      ]
     },
     "execution_count": 232,
     "metadata": {},
     "output_type": "execute_result"
    }
   ],
   "source": [
    "pos_table.head()"
   ]
  },
  {
   "cell_type": "code",
   "execution_count": 233,
   "metadata": {},
   "outputs": [],
   "source": [
    "neg = neg_data['browser_language_anomaly'].tolist()\n",
    "pos = pos_data['browser_language_anomaly'].tolist()\n",
    "neg_category_dict, neg_table = category_dict('os_anomaly', neg)\n",
    "pos_category_dict, pos_table = category_dict('os_anomaly', pos)"
   ]
  },
  {
   "cell_type": "code",
   "execution_count": 234,
   "metadata": {},
   "outputs": [
    {
     "data": {
      "text/html": [
       "<div>\n",
       "<table border=\"1\" class=\"dataframe\">\n",
       "  <thead>\n",
       "    <tr style=\"text-align: right;\">\n",
       "      <th></th>\n",
       "      <th>os_anomaly</th>\n",
       "      <th>ratio</th>\n",
       "    </tr>\n",
       "  </thead>\n",
       "  <tbody>\n",
       "    <tr>\n",
       "      <th>0</th>\n",
       "      <td>NaN</td>\n",
       "      <td>0.9994</td>\n",
       "    </tr>\n",
       "    <tr>\n",
       "      <th>1</th>\n",
       "      <td>True</td>\n",
       "      <td>0.0006</td>\n",
       "    </tr>\n",
       "  </tbody>\n",
       "</table>\n",
       "</div>"
      ],
      "text/plain": [
       "  os_anomaly   ratio\n",
       "0        NaN  0.9994\n",
       "1       True  0.0006"
      ]
     },
     "execution_count": 234,
     "metadata": {},
     "output_type": "execute_result"
    }
   ],
   "source": [
    "neg_table.head()"
   ]
  },
  {
   "cell_type": "code",
   "execution_count": 235,
   "metadata": {},
   "outputs": [
    {
     "data": {
      "text/html": [
       "<div>\n",
       "<table border=\"1\" class=\"dataframe\">\n",
       "  <thead>\n",
       "    <tr style=\"text-align: right;\">\n",
       "      <th></th>\n",
       "      <th>os_anomaly</th>\n",
       "      <th>ratio</th>\n",
       "    </tr>\n",
       "  </thead>\n",
       "  <tbody>\n",
       "    <tr>\n",
       "      <th>0</th>\n",
       "      <td>NaN</td>\n",
       "      <td>0.9997</td>\n",
       "    </tr>\n",
       "    <tr>\n",
       "      <th>1</th>\n",
       "      <td>True</td>\n",
       "      <td>0.0003</td>\n",
       "    </tr>\n",
       "  </tbody>\n",
       "</table>\n",
       "</div>"
      ],
      "text/plain": [
       "  os_anomaly   ratio\n",
       "0        NaN  0.9997\n",
       "1       True  0.0003"
      ]
     },
     "execution_count": 235,
     "metadata": {},
     "output_type": "execute_result"
    }
   ],
   "source": [
    "pos_table.head()"
   ]
  },
  {
   "cell_type": "markdown",
   "metadata": {},
   "source": [
    "## 1.4 'true_ip_geo'"
   ]
  },
  {
   "cell_type": "code",
   "execution_count": 12,
   "metadata": {},
   "outputs": [
    {
     "name": "stdout",
     "output_type": "stream",
     "text": [
      "(205, 24)\n"
     ]
    }
   ],
   "source": [
    "neg = neg_data['true_ip_geo'].tolist()\n",
    "pos = pos_data['true_ip_geo'].tolist()\n",
    "print (len(set(neg)),  len(set(pos)))\n",
    "neg_category_dict, neg_table = category_dict('true_ip_geo', neg)\n",
    "pos_category_dict, pos_table = category_dict('true_ip_geo', pos)"
   ]
  },
  {
   "cell_type": "code",
   "execution_count": 243,
   "metadata": {},
   "outputs": [
    {
     "data": {
      "text/html": [
       "<div>\n",
       "<table border=\"1\" class=\"dataframe\">\n",
       "  <thead>\n",
       "    <tr style=\"text-align: right;\">\n",
       "      <th></th>\n",
       "      <th>ratio</th>\n",
       "      <th>true_ip_geo</th>\n",
       "    </tr>\n",
       "  </thead>\n",
       "  <tbody>\n",
       "    <tr>\n",
       "      <th>0</th>\n",
       "      <td>0.9266</td>\n",
       "      <td>GB</td>\n",
       "    </tr>\n",
       "    <tr>\n",
       "      <th>1</th>\n",
       "      <td>0.0201</td>\n",
       "      <td>NaN</td>\n",
       "    </tr>\n",
       "    <tr>\n",
       "      <th>2</th>\n",
       "      <td>0.0144</td>\n",
       "      <td>IE</td>\n",
       "    </tr>\n",
       "    <tr>\n",
       "      <th>3</th>\n",
       "      <td>0.0039</td>\n",
       "      <td>US</td>\n",
       "    </tr>\n",
       "    <tr>\n",
       "      <th>4</th>\n",
       "      <td>0.0035</td>\n",
       "      <td>ES</td>\n",
       "    </tr>\n",
       "  </tbody>\n",
       "</table>\n",
       "</div>"
      ],
      "text/plain": [
       "    ratio true_ip_geo\n",
       "0  0.9266          GB\n",
       "1  0.0201         NaN\n",
       "2  0.0144          IE\n",
       "3  0.0039          US\n",
       "4  0.0035          ES"
      ]
     },
     "execution_count": 243,
     "metadata": {},
     "output_type": "execute_result"
    }
   ],
   "source": [
    "neg_table.head()"
   ]
  },
  {
   "cell_type": "code",
   "execution_count": 244,
   "metadata": {},
   "outputs": [
    {
     "data": {
      "text/html": [
       "<div>\n",
       "<table border=\"1\" class=\"dataframe\">\n",
       "  <thead>\n",
       "    <tr style=\"text-align: right;\">\n",
       "      <th></th>\n",
       "      <th>ratio</th>\n",
       "      <th>true_ip_geo</th>\n",
       "    </tr>\n",
       "  </thead>\n",
       "  <tbody>\n",
       "    <tr>\n",
       "      <th>0</th>\n",
       "      <td>0.9242</td>\n",
       "      <td>GB</td>\n",
       "    </tr>\n",
       "    <tr>\n",
       "      <th>1</th>\n",
       "      <td>0.0491</td>\n",
       "      <td>NaN</td>\n",
       "    </tr>\n",
       "    <tr>\n",
       "      <th>2</th>\n",
       "      <td>0.0095</td>\n",
       "      <td>IN</td>\n",
       "    </tr>\n",
       "    <tr>\n",
       "      <th>3</th>\n",
       "      <td>0.0038</td>\n",
       "      <td>NG</td>\n",
       "    </tr>\n",
       "    <tr>\n",
       "      <th>4</th>\n",
       "      <td>0.0024</td>\n",
       "      <td>IE</td>\n",
       "    </tr>\n",
       "  </tbody>\n",
       "</table>\n",
       "</div>"
      ],
      "text/plain": [
       "    ratio true_ip_geo\n",
       "0  0.9242          GB\n",
       "1  0.0491         NaN\n",
       "2  0.0095          IN\n",
       "3  0.0038          NG\n",
       "4  0.0024          IE"
      ]
     },
     "execution_count": 244,
     "metadata": {},
     "output_type": "execute_result"
    }
   ],
   "source": [
    "pos_table.head()"
   ]
  },
  {
   "cell_type": "code",
   "execution_count": 18,
   "metadata": {},
   "outputs": [
    {
     "data": {
      "text/plain": [
       "Power_divergenceResult(statistic=0.071322732895690452, pvalue=0.99999928383760428)"
      ]
     },
     "execution_count": 18,
     "metadata": {},
     "output_type": "execute_result"
    }
   ],
   "source": [
    "f_exp = []\n",
    "pos_sample = []\n",
    "for x in pos_table['true_ip_geo'][:10]:\n",
    "    if x in neg_category_dict:\n",
    "        pos_sample.append(pos_category_dict[x])\n",
    "        f_exp.append(neg_category_dict[x])\n",
    "\n",
    "chisquare(pos_sample, f_exp=f_exp)"
   ]
  },
  {
   "cell_type": "markdown",
   "metadata": {},
   "source": [
    "## 1.5 'proxy_ip_geo'"
   ]
  },
  {
   "cell_type": "code",
   "execution_count": 245,
   "metadata": {},
   "outputs": [
    {
     "name": "stdout",
     "output_type": "stream",
     "text": [
      "103 11\n"
     ]
    }
   ],
   "source": [
    "neg = neg_data['proxy_ip_geo'].tolist()\n",
    "pos = pos_data['proxy_ip_geo'].tolist()\n",
    "print (len(set(neg)),  len(set(pos)))\n",
    "neg_category_dict, neg_table = category_dict('proxy_ip_geo', neg)\n",
    "pos_category_dict, pos_table = category_dict('proxy_ip_geo', pos)"
   ]
  },
  {
   "cell_type": "code",
   "execution_count": 248,
   "metadata": {},
   "outputs": [
    {
     "data": {
      "text/html": [
       "<div>\n",
       "<table border=\"1\" class=\"dataframe\">\n",
       "  <thead>\n",
       "    <tr style=\"text-align: right;\">\n",
       "      <th></th>\n",
       "      <th>proxy_ip_geo</th>\n",
       "      <th>ratio</th>\n",
       "    </tr>\n",
       "  </thead>\n",
       "  <tbody>\n",
       "    <tr>\n",
       "      <th>0</th>\n",
       "      <td>NaN</td>\n",
       "      <td>0.9905</td>\n",
       "    </tr>\n",
       "    <tr>\n",
       "      <th>1</th>\n",
       "      <td>GB</td>\n",
       "      <td>0.0082</td>\n",
       "    </tr>\n",
       "    <tr>\n",
       "      <th>2</th>\n",
       "      <td>US</td>\n",
       "      <td>0.0003</td>\n",
       "    </tr>\n",
       "    <tr>\n",
       "      <th>3</th>\n",
       "      <td>NL</td>\n",
       "      <td>0.0002</td>\n",
       "    </tr>\n",
       "    <tr>\n",
       "      <th>4</th>\n",
       "      <td>FR</td>\n",
       "      <td>0.0001</td>\n",
       "    </tr>\n",
       "  </tbody>\n",
       "</table>\n",
       "</div>"
      ],
      "text/plain": [
       "  proxy_ip_geo   ratio\n",
       "0          NaN  0.9905\n",
       "1           GB  0.0082\n",
       "2           US  0.0003\n",
       "3           NL  0.0002\n",
       "4           FR  0.0001"
      ]
     },
     "execution_count": 248,
     "metadata": {},
     "output_type": "execute_result"
    }
   ],
   "source": [
    "neg_table.head()"
   ]
  },
  {
   "cell_type": "code",
   "execution_count": 249,
   "metadata": {},
   "outputs": [
    {
     "data": {
      "text/html": [
       "<div>\n",
       "<table border=\"1\" class=\"dataframe\">\n",
       "  <thead>\n",
       "    <tr style=\"text-align: right;\">\n",
       "      <th></th>\n",
       "      <th>proxy_ip_geo</th>\n",
       "      <th>ratio</th>\n",
       "    </tr>\n",
       "  </thead>\n",
       "  <tbody>\n",
       "    <tr>\n",
       "      <th>0</th>\n",
       "      <td>NaN</td>\n",
       "      <td>0.9703</td>\n",
       "    </tr>\n",
       "    <tr>\n",
       "      <th>1</th>\n",
       "      <td>GB</td>\n",
       "      <td>0.0257</td>\n",
       "    </tr>\n",
       "    <tr>\n",
       "      <th>2</th>\n",
       "      <td>NL</td>\n",
       "      <td>0.0014</td>\n",
       "    </tr>\n",
       "    <tr>\n",
       "      <th>3</th>\n",
       "      <td>DE</td>\n",
       "      <td>0.0008</td>\n",
       "    </tr>\n",
       "    <tr>\n",
       "      <th>4</th>\n",
       "      <td>US</td>\n",
       "      <td>0.0006</td>\n",
       "    </tr>\n",
       "  </tbody>\n",
       "</table>\n",
       "</div>"
      ],
      "text/plain": [
       "  proxy_ip_geo   ratio\n",
       "0          NaN  0.9703\n",
       "1           GB  0.0257\n",
       "2           NL  0.0014\n",
       "3           DE  0.0008\n",
       "4           US  0.0006"
      ]
     },
     "execution_count": 249,
     "metadata": {},
     "output_type": "execute_result"
    }
   ],
   "source": [
    "pos_table.head()"
   ]
  },
  {
   "cell_type": "code",
   "execution_count": 247,
   "metadata": {},
   "outputs": [
    {
     "data": {
      "text/plain": [
       "Power_divergenceResult(statistic=0.050159514534418442, pvalue=0.99969071210334293)"
      ]
     },
     "execution_count": 247,
     "metadata": {},
     "output_type": "execute_result"
    }
   ],
   "source": [
    "chisquare(pos_table['ratio'][:5], f_exp=[neg_category_dict[x] for x in pos_table['proxy_ip_geo'][:5]])"
   ]
  },
  {
   "cell_type": "markdown",
   "metadata": {},
   "source": [
    "## 1.6 'device_id' and 'fuzzy_device_id'\n",
    "\n",
    "For these two features, though there are a lot of various 'device_id' and 'fuzzy_device_id' for transactions, I found **'device_id' and 'fuzzy_device_id' for frauds repeat to appear more frequently**. As shown below, expcet 'Nan', there are no dominating 'device_id' appeared for normal tranactions, but for frauds, many 'device_id' repeat to appear. Thus in future, we can identify if the 'device_id' has extraordinarily high frequency to appear, it is possible to be an outlier."
   ]
  },
  {
   "cell_type": "code",
   "execution_count": 310,
   "metadata": {},
   "outputs": [
    {
     "data": {
      "text/plain": [
       "(1152277, 1094182)"
      ]
     },
     "execution_count": 310,
     "metadata": {},
     "output_type": "execute_result"
    }
   ],
   "source": [
    "len(set(data['device_id'].tolist())), len(set(data['fuzzy_device_id'].tolist()))"
   ]
  },
  {
   "cell_type": "code",
   "execution_count": 252,
   "metadata": {},
   "outputs": [
    {
     "data": {
      "text/html": [
       "<div>\n",
       "<table border=\"1\" class=\"dataframe\">\n",
       "  <thead>\n",
       "    <tr style=\"text-align: right;\">\n",
       "      <th></th>\n",
       "      <th>device_id</th>\n",
       "      <th>ratio</th>\n",
       "    </tr>\n",
       "  </thead>\n",
       "  <tbody>\n",
       "    <tr>\n",
       "      <th>0</th>\n",
       "      <td>NaN</td>\n",
       "      <td>0.0174</td>\n",
       "    </tr>\n",
       "    <tr>\n",
       "      <th>1</th>\n",
       "      <td>2c3e11adf10140018815200b305bd897</td>\n",
       "      <td>0.0001</td>\n",
       "    </tr>\n",
       "    <tr>\n",
       "      <th>2</th>\n",
       "      <td>11f71c4309704ac69e5df1212d0f0b99</td>\n",
       "      <td>0.0001</td>\n",
       "    </tr>\n",
       "    <tr>\n",
       "      <th>3</th>\n",
       "      <td>0f0116e81d184e7ab7ee8ba494583b43</td>\n",
       "      <td>0.0001</td>\n",
       "    </tr>\n",
       "    <tr>\n",
       "      <th>4</th>\n",
       "      <td>e964c8c578ad454cbe82bd7d04926b83</td>\n",
       "      <td>0.0001</td>\n",
       "    </tr>\n",
       "    <tr>\n",
       "      <th>5</th>\n",
       "      <td>ec49f88893ff4d469825118f71059705</td>\n",
       "      <td>0.0001</td>\n",
       "    </tr>\n",
       "    <tr>\n",
       "      <th>6</th>\n",
       "      <td>40180a0325424845a42c646073768ac9</td>\n",
       "      <td>0.0001</td>\n",
       "    </tr>\n",
       "    <tr>\n",
       "      <th>7</th>\n",
       "      <td>d7ca99cdeeb148acafcfba1337e1ac51</td>\n",
       "      <td>0.0001</td>\n",
       "    </tr>\n",
       "  </tbody>\n",
       "</table>\n",
       "</div>"
      ],
      "text/plain": [
       "                          device_id   ratio\n",
       "0                               NaN  0.0174\n",
       "1  2c3e11adf10140018815200b305bd897  0.0001\n",
       "2  11f71c4309704ac69e5df1212d0f0b99  0.0001\n",
       "3  0f0116e81d184e7ab7ee8ba494583b43  0.0001\n",
       "4  e964c8c578ad454cbe82bd7d04926b83  0.0001\n",
       "5  ec49f88893ff4d469825118f71059705  0.0001\n",
       "6  40180a0325424845a42c646073768ac9  0.0001\n",
       "7  d7ca99cdeeb148acafcfba1337e1ac51  0.0001"
      ]
     },
     "execution_count": 252,
     "metadata": {},
     "output_type": "execute_result"
    }
   ],
   "source": [
    "category_dict('device_id', neg_data['device_id'].tolist())[1].head(8)"
   ]
  },
  {
   "cell_type": "code",
   "execution_count": 257,
   "metadata": {},
   "outputs": [
    {
     "data": {
      "text/html": [
       "<div>\n",
       "<table border=\"1\" class=\"dataframe\">\n",
       "  <thead>\n",
       "    <tr style=\"text-align: right;\">\n",
       "      <th></th>\n",
       "      <th>device_id</th>\n",
       "      <th>ratio</th>\n",
       "    </tr>\n",
       "  </thead>\n",
       "  <tbody>\n",
       "    <tr>\n",
       "      <th>0</th>\n",
       "      <td>NaN</td>\n",
       "      <td>0.0293</td>\n",
       "    </tr>\n",
       "    <tr>\n",
       "      <th>1</th>\n",
       "      <td>c6e5bcdd43344a0c9bb04fd7e8361a96</td>\n",
       "      <td>0.0116</td>\n",
       "    </tr>\n",
       "    <tr>\n",
       "      <th>2</th>\n",
       "      <td>cb5f4ac919c749ffb63a333050ce1017</td>\n",
       "      <td>0.0115</td>\n",
       "    </tr>\n",
       "    <tr>\n",
       "      <th>3</th>\n",
       "      <td>3d72ff8e771b4cd7930365f86527be85</td>\n",
       "      <td>0.0095</td>\n",
       "    </tr>\n",
       "    <tr>\n",
       "      <th>4</th>\n",
       "      <td>d705de64f5ac46efaf9f85ee4fbdc878</td>\n",
       "      <td>0.0095</td>\n",
       "    </tr>\n",
       "    <tr>\n",
       "      <th>5</th>\n",
       "      <td>85848fe04e114f93ae83ce4a4daeb834</td>\n",
       "      <td>0.0085</td>\n",
       "    </tr>\n",
       "    <tr>\n",
       "      <th>6</th>\n",
       "      <td>c7aa168af34e4a0e99da24da0d9b4805</td>\n",
       "      <td>0.0073</td>\n",
       "    </tr>\n",
       "    <tr>\n",
       "      <th>7</th>\n",
       "      <td>84eed3c683b94dd791a9866fe572e6b0</td>\n",
       "      <td>0.0070</td>\n",
       "    </tr>\n",
       "    <tr>\n",
       "      <th>8</th>\n",
       "      <td>f4e9eedc37c14cd38725e8480be6618d</td>\n",
       "      <td>0.0070</td>\n",
       "    </tr>\n",
       "    <tr>\n",
       "      <th>9</th>\n",
       "      <td>9ce5f2e263c6405b960c7014fcb37062</td>\n",
       "      <td>0.0056</td>\n",
       "    </tr>\n",
       "  </tbody>\n",
       "</table>\n",
       "</div>"
      ],
      "text/plain": [
       "                          device_id   ratio\n",
       "0                               NaN  0.0293\n",
       "1  c6e5bcdd43344a0c9bb04fd7e8361a96  0.0116\n",
       "2  cb5f4ac919c749ffb63a333050ce1017  0.0115\n",
       "3  3d72ff8e771b4cd7930365f86527be85  0.0095\n",
       "4  d705de64f5ac46efaf9f85ee4fbdc878  0.0095\n",
       "5  85848fe04e114f93ae83ce4a4daeb834  0.0085\n",
       "6  c7aa168af34e4a0e99da24da0d9b4805  0.0073\n",
       "7  84eed3c683b94dd791a9866fe572e6b0  0.0070\n",
       "8  f4e9eedc37c14cd38725e8480be6618d  0.0070\n",
       "9  9ce5f2e263c6405b960c7014fcb37062  0.0056"
      ]
     },
     "execution_count": 257,
     "metadata": {},
     "output_type": "execute_result"
    }
   ],
   "source": [
    "category_dict('device_id', pos_data['device_id'].tolist())[1].head(10)"
   ]
  },
  {
   "cell_type": "code",
   "execution_count": 254,
   "metadata": {},
   "outputs": [
    {
     "data": {
      "text/html": [
       "<div>\n",
       "<table border=\"1\" class=\"dataframe\">\n",
       "  <thead>\n",
       "    <tr style=\"text-align: right;\">\n",
       "      <th></th>\n",
       "      <th>fuzzy_device_id</th>\n",
       "      <th>ratio</th>\n",
       "    </tr>\n",
       "  </thead>\n",
       "  <tbody>\n",
       "    <tr>\n",
       "      <th>0</th>\n",
       "      <td>NaN</td>\n",
       "      <td>0.0159</td>\n",
       "    </tr>\n",
       "    <tr>\n",
       "      <th>1</th>\n",
       "      <td>44c78bb2ef7e40babe2ec65e4a3a3166</td>\n",
       "      <td>0.0002</td>\n",
       "    </tr>\n",
       "    <tr>\n",
       "      <th>2</th>\n",
       "      <td>11f71c4309704ac69e5df1212d0f0b99</td>\n",
       "      <td>0.0001</td>\n",
       "    </tr>\n",
       "    <tr>\n",
       "      <th>3</th>\n",
       "      <td>0ffda682aeb54a2b9dee361cd24fc5dc</td>\n",
       "      <td>0.0001</td>\n",
       "    </tr>\n",
       "    <tr>\n",
       "      <th>4</th>\n",
       "      <td>3560c753dbd84c9ab1d8d6eb3cbfc814</td>\n",
       "      <td>0.0001</td>\n",
       "    </tr>\n",
       "    <tr>\n",
       "      <th>5</th>\n",
       "      <td>0f0116e81d184e7ab7ee8ba494583b43</td>\n",
       "      <td>0.0001</td>\n",
       "    </tr>\n",
       "    <tr>\n",
       "      <th>6</th>\n",
       "      <td>5dd13737365e454e9ea9094355fe1e6a</td>\n",
       "      <td>0.0001</td>\n",
       "    </tr>\n",
       "    <tr>\n",
       "      <th>7</th>\n",
       "      <td>ec49f88893ff4d469825118f71059705</td>\n",
       "      <td>0.0001</td>\n",
       "    </tr>\n",
       "  </tbody>\n",
       "</table>\n",
       "</div>"
      ],
      "text/plain": [
       "                    fuzzy_device_id   ratio\n",
       "0                               NaN  0.0159\n",
       "1  44c78bb2ef7e40babe2ec65e4a3a3166  0.0002\n",
       "2  11f71c4309704ac69e5df1212d0f0b99  0.0001\n",
       "3  0ffda682aeb54a2b9dee361cd24fc5dc  0.0001\n",
       "4  3560c753dbd84c9ab1d8d6eb3cbfc814  0.0001\n",
       "5  0f0116e81d184e7ab7ee8ba494583b43  0.0001\n",
       "6  5dd13737365e454e9ea9094355fe1e6a  0.0001\n",
       "7  ec49f88893ff4d469825118f71059705  0.0001"
      ]
     },
     "execution_count": 254,
     "metadata": {},
     "output_type": "execute_result"
    }
   ],
   "source": [
    "category_dict('fuzzy_device_id', neg_data['fuzzy_device_id'].tolist())[1].head(8)"
   ]
  },
  {
   "cell_type": "code",
   "execution_count": 256,
   "metadata": {},
   "outputs": [
    {
     "data": {
      "text/html": [
       "<div>\n",
       "<table border=\"1\" class=\"dataframe\">\n",
       "  <thead>\n",
       "    <tr style=\"text-align: right;\">\n",
       "      <th></th>\n",
       "      <th>fuzzy_device_id</th>\n",
       "      <th>ratio</th>\n",
       "    </tr>\n",
       "  </thead>\n",
       "  <tbody>\n",
       "    <tr>\n",
       "      <th>0</th>\n",
       "      <td>NaN</td>\n",
       "      <td>0.0284</td>\n",
       "    </tr>\n",
       "    <tr>\n",
       "      <th>1</th>\n",
       "      <td>c6e5bcdd43344a0c9bb04fd7e8361a96</td>\n",
       "      <td>0.0116</td>\n",
       "    </tr>\n",
       "    <tr>\n",
       "      <th>2</th>\n",
       "      <td>cb5f4ac919c749ffb63a333050ce1017</td>\n",
       "      <td>0.0115</td>\n",
       "    </tr>\n",
       "    <tr>\n",
       "      <th>3</th>\n",
       "      <td>b4acc77ccab0409a99801ca0411a7984</td>\n",
       "      <td>0.0100</td>\n",
       "    </tr>\n",
       "    <tr>\n",
       "      <th>4</th>\n",
       "      <td>3d72ff8e771b4cd7930365f86527be85</td>\n",
       "      <td>0.0095</td>\n",
       "    </tr>\n",
       "    <tr>\n",
       "      <th>5</th>\n",
       "      <td>85848fe04e114f93ae83ce4a4daeb834</td>\n",
       "      <td>0.0085</td>\n",
       "    </tr>\n",
       "    <tr>\n",
       "      <th>6</th>\n",
       "      <td>aada26dfeca347e998998cf59bda2d57</td>\n",
       "      <td>0.0073</td>\n",
       "    </tr>\n",
       "    <tr>\n",
       "      <th>7</th>\n",
       "      <td>84eed3c683b94dd791a9866fe572e6b0</td>\n",
       "      <td>0.0070</td>\n",
       "    </tr>\n",
       "    <tr>\n",
       "      <th>8</th>\n",
       "      <td>f4e9eedc37c14cd38725e8480be6618d</td>\n",
       "      <td>0.0070</td>\n",
       "    </tr>\n",
       "    <tr>\n",
       "      <th>9</th>\n",
       "      <td>9ce5f2e263c6405b960c7014fcb37062</td>\n",
       "      <td>0.0056</td>\n",
       "    </tr>\n",
       "  </tbody>\n",
       "</table>\n",
       "</div>"
      ],
      "text/plain": [
       "                    fuzzy_device_id   ratio\n",
       "0                               NaN  0.0284\n",
       "1  c6e5bcdd43344a0c9bb04fd7e8361a96  0.0116\n",
       "2  cb5f4ac919c749ffb63a333050ce1017  0.0115\n",
       "3  b4acc77ccab0409a99801ca0411a7984  0.0100\n",
       "4  3d72ff8e771b4cd7930365f86527be85  0.0095\n",
       "5  85848fe04e114f93ae83ce4a4daeb834  0.0085\n",
       "6  aada26dfeca347e998998cf59bda2d57  0.0073\n",
       "7  84eed3c683b94dd791a9866fe572e6b0  0.0070\n",
       "8  f4e9eedc37c14cd38725e8480be6618d  0.0070\n",
       "9  9ce5f2e263c6405b960c7014fcb37062  0.0056"
      ]
     },
     "execution_count": 256,
     "metadata": {},
     "output_type": "execute_result"
    }
   ],
   "source": [
    "category_dict('fuzzy_device_id', pos_data['fuzzy_device_id'].tolist())[1].head(10)"
   ]
  },
  {
   "cell_type": "markdown",
   "metadata": {},
   "source": [
    "# 2. Continuous Feature\n",
    "\n",
    "Here we will analyze different continuous features for normal data and fraud. In addition to 'page_time_on' and 'transaction_amount', I found 'time_diff' defined as time difference between 'datetime' and 'device_first_seen' also indicates some a useful signal to distinguish frauds and normal data.\n",
    "\n",
    "There exist two easy ways to statistically inference outlier $-$ [Z score and modified Z score](https://www.itl.nist.gov/div898/handbook/eda/section3/eda35h.htm). The modified Z score is defined as\n",
    "\n",
    "$$M_i = \\frac{0.6745(x_i-\\tilde{x})}{\\textrm{MAD}},$$\n",
    "\n",
    "where $\\tilde{x}$ denotes the median of $\\lbrace x_1, x_2, \\cdots\\rbrace$ and MAD denoting the median absolute deviation.  As modified Z-scores with an absolute value is greater than 3.5, it is labeled as potential outliers.\n",
    "\n",
    "For each, I will compare distribution of positive and negative samples using hisgram and boxplot. I found all of them do not show a normal distribution, and not even an approximate normal distribution. Therefore, I won't calculate Z score. However, the modified Z score carries some useful information to identify outliers."
   ]
  },
  {
   "cell_type": "code",
   "execution_count": 261,
   "metadata": {},
   "outputs": [],
   "source": [
    "def get_MAD(x_list):\n",
    "    '''to calculate median absolute deviation\n",
    "    '''\n",
    "    x_list = [x for x in x_list if not np.isnan(x)]\n",
    "    median = np.median(x_list)\n",
    "    return median, np.median([abs(x-median) for x in x_list])\n",
    "\n",
    "def modified_Z_classifier(pos_data, median, MAD):\n",
    "    '''to calculate recall if using modified Z score as classifier'''\n",
    "    ct, fraud_ct = 0, 0\n",
    "    nan_ct = 0\n",
    "    for x in pos_data.tolist():\n",
    "        if not np.isnan(x):\n",
    "            ct += 1 \n",
    "            if abs(0.6745*(x-median)/MAD) > 3.5:\n",
    "                fraud_ct += 1\n",
    "        else:\n",
    "            nan_ct += 1\n",
    "        \n",
    "    print ('recall =', round(fraud_ct*1.0/ct, 3))\n",
    "    print ('nan ratio =', round(nan_ct*1.0/ct, 3))"
   ]
  },
  {
   "cell_type": "markdown",
   "metadata": {},
   "source": [
    "## 2.1 'time_diff'\n",
    "\n",
    "The feature 'time_diff' shows signficiant difference between fraud and normal samples. For fraud transactions, the time between 'datetime' and 'device_first_seen' are much shorter compared to normal ones; **fraud: median = 1 day and mean = 60 days, normal: median = 71 days and mean = 159 days**. The fraud data has stronger skewed distribution than the normal one. However, the simple modified Z score classifier still shows low recall, but the feature will be useful for later machine learning model."
   ]
  },
  {
   "cell_type": "code",
   "execution_count": 306,
   "metadata": {},
   "outputs": [],
   "source": [
    "neg = [x for x in neg_data['time_diff'].tolist() if not np.isnan(x)]\n",
    "pos = [x for x in pos_data['time_diff'].tolist() if not np.isnan(x)]"
   ]
  },
  {
   "cell_type": "code",
   "execution_count": 307,
   "metadata": {},
   "outputs": [
    {
     "data": {
      "image/png": "[encoded data removed]",
      "text/plain": [
       "<matplotlib.figure.Figure at 0x12f4274e0>"
      ]
     },
     "metadata": {},
     "output_type": "display_data"
    }
   ],
   "source": [
    "plt.hist(neg, 200, normed=1, color='green', histtype='step', label ='normal')\n",
    "plt.hist(pos, 200, normed=1, color='blue', histtype='step', label='fraud')\n",
    "plt.legend(loc='best', fontsize=13)\n",
    "plt.xlabel('time difference', fontsize=15)\n",
    "plt.xlim(0, 500)\n",
    "plt.show()"
   ]
  },
  {
   "cell_type": "code",
   "execution_count": 259,
   "metadata": {},
   "outputs": [
    {
     "data": {
      "text/plain": [
       "(71.0, 1.0)"
      ]
     },
     "execution_count": 259,
     "metadata": {},
     "output_type": "execute_result"
    }
   ],
   "source": [
    "np.median(neg), np.median(pos)"
   ]
  },
  {
   "cell_type": "code",
   "execution_count": 287,
   "metadata": {},
   "outputs": [
    {
     "data": {
      "text/plain": [
       "(159.4222698276935, 59.768068758952985)"
      ]
     },
     "execution_count": 287,
     "metadata": {},
     "output_type": "execute_result"
    }
   ],
   "source": [
    "np.mean(neg), np.mean(pos)"
   ]
  },
  {
   "cell_type": "code",
   "execution_count": 285,
   "metadata": {},
   "outputs": [
    {
     "data": {
      "image/png": "[encoded data removed]",
      "text/plain": [
       "<matplotlib.figure.Figure at 0x12c0042b0>"
      ]
     },
     "metadata": {},
     "output_type": "display_data"
    }
   ],
   "source": [
    "plt.boxplot([neg, pos], labels=['not fraud', 'fraud'])\n",
    "plt.show()"
   ]
  },
  {
   "cell_type": "code",
   "execution_count": 261,
   "metadata": {},
   "outputs": [],
   "source": [
    "neg_median, MAD = get_MAD(neg_data['time_diff'].tolist())"
   ]
  },
  {
   "cell_type": "code",
   "execution_count": 284,
   "metadata": {},
   "outputs": [
    {
     "name": "stdout",
     "output_type": "stream",
     "text": [
      "recall = 0.044\n",
      "nan ratio = 0.04\n"
     ]
    }
   ],
   "source": [
    "modified_Z_classifier(pos_data['time_diff'], neg_median, MAD)"
   ]
  },
  {
   "cell_type": "markdown",
   "metadata": {},
   "source": [
    "## 2.2 'page_time_on'\n",
    "\n",
    "On the other hand, 'page_time_on' feature shows a less signficiant signal to identify fraud and normal samples from the histgram. **Fraud: median = 11174 and mean = 35697, normal: median = 9783 and mean = 18756**. However, the simple modified Z score classifier shows a higher recall than using 'time_diff'. We will also implement the continuous feature for later machine learning model."
   ]
  },
  {
   "cell_type": "code",
   "execution_count": 308,
   "metadata": {},
   "outputs": [],
   "source": [
    "neg = [x for x in neg_data['page_time_on'].tolist() if not np.isnan(x)]\n",
    "pos = [x for x in pos_data['page_time_on'].tolist() if not np.isnan(x)]"
   ]
  },
  {
   "cell_type": "code",
   "execution_count": 309,
   "metadata": {},
   "outputs": [
    {
     "data": {
      "image/png": "[encoded data removed]",
      "text/plain": [
       "<matplotlib.figure.Figure at 0x138a25748>"
      ]
     },
     "metadata": {},
     "output_type": "display_data"
    }
   ],
   "source": [
    "plt.hist(neg, 2000, normed=1, color='green', histtype='step', label ='normal')\n",
    "plt.hist(pos, 2000, normed=1, color='blue', histtype='step', label='fraud')\n",
    "plt.legend(loc='best', fontsize=13)\n",
    "plt.xlabel('page time on', fontsize=15)\n",
    "plt.xlim(0, 100000)\n",
    "plt.show()"
   ]
  },
  {
   "cell_type": "code",
   "execution_count": 289,
   "metadata": {},
   "outputs": [
    {
     "data": {
      "text/plain": [
       "(9783.0, 11174.0)"
      ]
     },
     "execution_count": 289,
     "metadata": {},
     "output_type": "execute_result"
    }
   ],
   "source": [
    "np.median(neg), np.median(pos)"
   ]
  },
  {
   "cell_type": "code",
   "execution_count": 290,
   "metadata": {},
   "outputs": [
    {
     "data": {
      "text/plain": [
       "(18756.039420922218, 35697.099445375985)"
      ]
     },
     "execution_count": 290,
     "metadata": {},
     "output_type": "execute_result"
    }
   ],
   "source": [
    "np.mean(neg), np.mean(pos)"
   ]
  },
  {
   "cell_type": "code",
   "execution_count": 295,
   "metadata": {},
   "outputs": [
    {
     "data": {
      "image/png": "[encoded data removed]",
      "text/plain": [
       "<matplotlib.figure.Figure at 0x18f0d9a58>"
      ]
     },
     "metadata": {},
     "output_type": "display_data"
    }
   ],
   "source": [
    "plt.boxplot([neg, pos], labels=['not fraud', 'fraud'])\n",
    "plt.show()"
   ]
  },
  {
   "cell_type": "code",
   "execution_count": 296,
   "metadata": {},
   "outputs": [
    {
     "name": "stdout",
     "output_type": "stream",
     "text": [
      "recall = 0.161\n",
      "nan ratio = 0.03\n"
     ]
    }
   ],
   "source": [
    "neg_median, MAD = get_MAD(neg_data['page_time_on'].tolist())\n",
    "modified_Z_classifier(pos_data['page_time_on'], neg_median, MAD)"
   ]
  },
  {
   "cell_type": "markdown",
   "metadata": {},
   "source": [
    "## 2.3 'transaction_amount'\n",
    "\n",
    "Finally, 'transaction_amount' strongly shows signficiant difference between fraud and normal samples. Fraud transactions have larger median and mean values compared to normal ones. **Fraud: median = 1800 and mean = 3076, normal: median = 200 and mean = 464**. The fraud data distribution has a long tail whereas normal transactions are more right-skewed. Moreover, the simple modified Z score classifier shows a surprisingly high recall performance: about 0.6. Thus 'transaction_amount' will be also implemented in later machine learning models."
   ]
  },
  {
   "cell_type": "code",
   "execution_count": 262,
   "metadata": {},
   "outputs": [],
   "source": [
    "neg = [x for x in neg_data['transaction_amount'].tolist() if not np.isnan(x)]\n",
    "pos = [x for x in pos_data['transaction_amount'].tolist() if not np.isnan(x)]"
   ]
  },
  {
   "cell_type": "code",
   "execution_count": 305,
   "metadata": {},
   "outputs": [
    {
     "data": {
      "image/png": "[encoded data removed]",
      "text/plain": [
       "<matplotlib.figure.Figure at 0x12f0d39e8>"
      ]
     },
     "metadata": {},
     "output_type": "display_data"
    }
   ],
   "source": [
    "plt.hist(neg, 100, normed=1, color='green', histtype='step', label ='normal')\n",
    "plt.hist(pos, 5000, normed=1, color='blue', histtype='step', label='fraud')\n",
    "plt.legend(loc='best', fontsize=13)\n",
    "plt.xlabel('transaction_amount', fontsize=15)\n",
    "plt.xlim(0, 10000)\n",
    "plt.show()"
   ]
  },
  {
   "cell_type": "code",
   "execution_count": 299,
   "metadata": {},
   "outputs": [
    {
     "data": {
      "text/plain": [
       "(200.0, 1800.0)"
      ]
     },
     "execution_count": 299,
     "metadata": {},
     "output_type": "execute_result"
    }
   ],
   "source": [
    "np.median(neg), np.median(pos)"
   ]
  },
  {
   "cell_type": "code",
   "execution_count": 298,
   "metadata": {},
   "outputs": [
    {
     "data": {
      "text/plain": [
       "(464.65321993430535, 3076.8936477665429)"
      ]
     },
     "execution_count": 298,
     "metadata": {},
     "output_type": "execute_result"
    }
   ],
   "source": [
    "np.mean(neg), np.mean(pos)"
   ]
  },
  {
   "cell_type": "code",
   "execution_count": 169,
   "metadata": {},
   "outputs": [
    {
     "data": {
      "image/png": "[encoded data removed]",
      "text/plain": [
       "<matplotlib.figure.Figure at 0x10857b898>"
      ]
     },
     "metadata": {},
     "output_type": "display_data"
    }
   ],
   "source": [
    "#neg_sample = np.array(neg_data['transaction_amount'].tolist())[np.random.randint(len(neg_data), size=100000)]\n",
    "plt.boxplot([neg, pos], labels=['not fraud', 'fraud'])\n",
    "plt.show()"
   ]
  },
  {
   "cell_type": "code",
   "execution_count": 263,
   "metadata": {},
   "outputs": [
    {
     "name": "stdout",
     "output_type": "stream",
     "text": [
      "('recall =', 0.59)\n",
      "('nan ratio =', 0.022)\n"
     ]
    }
   ],
   "source": [
    "neg_median, MAD = get_MAD(neg_data['transaction_amount'].tolist())\n",
    "modified_Z_classifier(pos_data['transaction_amount'], neg_median, MAD)"
   ]
  },
  {
   "cell_type": "markdown",
   "metadata": {},
   "source": [
    "# 3. Machine Learning \n",
    "\n",
    "Next I will perform machine learning models $-$ logistic regression, random forest and ensemble learning to classify the fraud transactions against normal data. The data is imblanced. At beginning I split the training/test dataset. I only use the test dataset for performance comparison, and the remaining dataset to training ML models.\n",
    "To implement the classification models, I tried to undersample the majority (normal transactions), and then combine all frauds and subset of normal transaction to generate new dataset for model training. \n",
    "\n",
    "I simply consider several fraud-normal ratio combinations $-$ 1:5, 1:12 and 1:50 etc. While the new dataset has less undersampling majority (1:5), the model gives higher recall but low precision. Whereas including more normal data (like 1:50), the recall drops but precision enhances.\n",
    "Random forest gives outperforms logistic regression and slighlty ensemble learning. \n",
    "\n",
    "\n",
    "For such an imbalanced problem, accuracy is not a right metric. For anomaly detection, usually we need high recall (sucessfully predict more frauds). However, once recall is too high, we have very low precision, meaning too many False positives $-$ we predict the transaction is a fraud but it is actually not. This may result in losing customers' trust and confidence. The trade-off between precision and recall depends on how much cost for getting a false negative and missing a false negative.\n",
    "\n",
    "To compromise, I select **Macro F1** score as the metric to select the optimal classification model. But eventually I also plot **precision-recall curves** rather than ROC curve and compute the AUC under the curves for performance comparison. Higher AUC values denote a better model is."
   ]
  },
  {
   "cell_type": "code",
   "execution_count": 31,
   "metadata": {},
   "outputs": [],
   "source": [
    "from sklearn.linear_model import LogisticRegression\n",
    "from sklearn import grid_search\n",
    "from sklearn.ensemble import RandomForestClassifier, AdaBoostClassifier\n",
    "from sklearn.tree import DecisionTreeClassifier\n",
    "from sklearn.metrics import confusion_matrix\n",
    "from sklearn.cross_validation import cross_val_score, train_test_split\n",
    "from sklearn.metrics import precision_recall_curve, roc_curve\n",
    "import matplotlib.lines as mlines\n",
    "from sklearn import metrics\n",
    "from sklearn.naive_bayes import GaussianNB"
   ]
  },
  {
   "cell_type": "markdown",
   "metadata": {},
   "source": [
    "## 3.1 Data manipulation and Pipeline\n",
    "\n",
    "In the following I will show the procedures for the data pipeline. Note I first extract test dataset and only use the training dataset for model training.\n",
    "\n",
    "    (a) Implement feature subset of fraud and normal data\n",
    "    (b) Split the entire data to training/test dataset\n",
    "    (c) Undersample normal data and concatenate fraud data to generate new dataset\n",
    "    (d) Shuffle undersampled dataset and split training/test dataset\n",
    "    (e) Training model\n",
    "\n",
    "### a. Implement feature subset of fraud and normal data"
   ]
  },
  {
   "cell_type": "code",
   "execution_count": 9,
   "metadata": {},
   "outputs": [],
   "source": [
    "sub_neg_data = neg_data[['time_diff', 'page_time_on', 'transaction_amount', 'frd']].dropna()\n",
    "sub_pos_data = pos_data[['time_diff', 'page_time_on', 'transaction_amount', 'frd']].dropna()"
   ]
  },
  {
   "cell_type": "code",
   "execution_count": 10,
   "metadata": {},
   "outputs": [
    {
     "data": {
      "text/plain": [
       "((1923544, 18), (1888202, 4))"
      ]
     },
     "execution_count": 10,
     "metadata": {},
     "output_type": "execute_result"
    }
   ],
   "source": [
    "neg_data.shape, sub_neg_data.shape"
   ]
  },
  {
   "cell_type": "code",
   "execution_count": 11,
   "metadata": {},
   "outputs": [
    {
     "data": {
      "text/plain": [
       "((7986, 18), (7679, 4))"
      ]
     },
     "execution_count": 11,
     "metadata": {},
     "output_type": "execute_result"
    }
   ],
   "source": [
    "pos_data.shape, sub_pos_data.shape"
   ]
  },
  {
   "cell_type": "markdown",
   "metadata": {},
   "source": [
    "### b. Split the entire data to training/test dataset\n",
    "\n",
    "Here I separate the 'X_test' and 'y_test' as test datasets for performance comparison. While training models, I won't use the dataset."
   ]
  },
  {
   "cell_type": "code",
   "execution_count": 12,
   "metadata": {},
   "outputs": [],
   "source": [
    "train_neg, test_neg = train_test_split(sub_neg_data, test_size=0.3)\n",
    "train_pos, test_pos = train_test_split(sub_pos_data, test_size=0.3)"
   ]
  },
  {
   "cell_type": "code",
   "execution_count": 18,
   "metadata": {},
   "outputs": [],
   "source": [
    "test_data = pd.concat([test_neg, test_pos]).sample(frac=1)"
   ]
  },
  {
   "cell_type": "code",
   "execution_count": 19,
   "metadata": {},
   "outputs": [],
   "source": [
    "X_test = test_data[['time_diff', 'page_time_on', 'transaction_amount']]\n",
    "y_test = test_data['frd']"
   ]
  },
  {
   "cell_type": "code",
   "execution_count": 20,
   "metadata": {},
   "outputs": [
    {
     "data": {
      "text/plain": [
       "(568765, 3)"
      ]
     },
     "execution_count": 20,
     "metadata": {},
     "output_type": "execute_result"
    }
   ],
   "source": [
    "X_test.shape"
   ]
  },
  {
   "cell_type": "markdown",
   "metadata": {},
   "source": [
    "### c. Undersample normal data and concatenate fraud data to generate new dataset\n",
    "\n",
    "Below test_size are 0.02, 0.05 and 0.2, denoting 2%, 5% and 20% subset of normal transactions. Here is to undersample the normal dataset."
   ]
  },
  {
   "cell_type": "code",
   "execution_count": 186,
   "metadata": {},
   "outputs": [],
   "source": [
    "training_data = train_test_split(train_neg, test_size=0.2)\n",
    "training_data = pd.concat([X[1], train_pos])"
   ]
  },
  {
   "cell_type": "code",
   "execution_count": 100,
   "metadata": {},
   "outputs": [
    {
     "data": {
      "text/plain": [
       "(660871, 4)"
      ]
     },
     "execution_count": 100,
     "metadata": {},
     "output_type": "execute_result"
    }
   ],
   "source": [
    "X[1].shape"
   ]
  },
  {
   "cell_type": "code",
   "execution_count": 101,
   "metadata": {},
   "outputs": [
    {
     "data": {
      "text/plain": [
       "(666246, 4)"
      ]
     },
     "execution_count": 101,
     "metadata": {},
     "output_type": "execute_result"
    }
   ],
   "source": [
    "training_data.shape"
   ]
  },
  {
   "cell_type": "markdown",
   "metadata": {},
   "source": [
    "### d. Shuffle undersampled dataset  and split training/test dataset"
   ]
  },
  {
   "cell_type": "code",
   "execution_count": 193,
   "metadata": {},
   "outputs": [],
   "source": [
    "training_data = training_data.sample(frac=1)\n",
    "X_train = training_data[['time_diff', 'page_time_on', 'transaction_amount']]\n",
    "y_train = training_data['frd']"
   ]
  },
  {
   "cell_type": "markdown",
   "metadata": {},
   "source": [
    "### e. Training model\n",
    "\n",
    "Here we just simply try a logistic regression model without regularization:"
   ]
  },
  {
   "cell_type": "code",
   "execution_count": 195,
   "metadata": {},
   "outputs": [
    {
     "name": "stdout",
     "output_type": "stream",
     "text": [
      "accuracy = 0.991\n",
      "('P = 0.166', 'R = 0.322')\n",
      "F1 = 0.219 \n",
      "[[   741   1563]\n",
      " [  3713 562748]]\n"
     ]
    }
   ],
   "source": [
    "best_logreg_model = LogisticRegression()\n",
    "best_logreg_model.fit(X_train, y_train)\n",
    "pred = best_logreg_model.predict(X_test)\n",
    "print ('accuracy = %.3f' %best_logreg_model.score(X_test, y_test))\n",
    "conf_matrix = confusion_matrix(y_test, pred, labels=[1, 0])\n",
    "TP, FP, FN, TN = conf_matrix[0][0], conf_matrix[1][0], conf_matrix[0][1], conf_matrix[1][1]\n",
    "precision, recall = TP*1.0/sum(pred), TP*1.0/sum(y_test)\n",
    "print ('P = %.3f' %precision, 'R = %.3f' %recall)\n",
    "print ('F1 = %.3f ' %(2*precision*recall/(precision+recall)))\n",
    "print (conf_matrix)"
   ]
  },
  {
   "cell_type": "markdown",
   "metadata": {},
   "source": [
    "## 3.2 Logistic Regression\n",
    "\n",
    "Now we can run through all data pipeline and ML for once. We try seversal fraud-normal data ratio majority strategies $-$ 1:5, 1:12, 1:50, 1:125, 1:200. First we use the logisit regression model. The followings are the functions for training ML models and evaluating the metrics.\n",
    "\n",
    "### a. Codes for combined procedures"
   ]
  },
  {
   "cell_type": "code",
   "execution_count": 15,
   "metadata": {},
   "outputs": [],
   "source": [
    "def logisitic_regression(X_train, y_train):\n",
    "    '''training a logistic regression model with L2 regularization'''\n",
    "    best_logreg_model = None\n",
    "    max_score = -1\n",
    "    best_reg = -1\n",
    "    for regularization_param in [0.2, 0.4, 0.6, 0.8, 1, 1.2]:\n",
    "        logreg = LogisticRegression('l2', C=regularization_param)\n",
    "        cv_score = cross_val_score(logreg, X_train, y_train, cv=10, scoring='f1_macro')\n",
    "        #print (regularization_param, np.mean(cv_score))\n",
    "        if np.mean(cv_score) > max_score:\n",
    "            max_score = np.mean(cv_score)\n",
    "            best_logreg_model = logreg\n",
    "            best_reg = regularization_param\n",
    "            \n",
    "    best_logreg_model.fit(X_train, y_train)\n",
    "    return best_logreg_model\n",
    "\n",
    "def random_forest(X_train, y_train):\n",
    "    '''training a random forest'''\n",
    "    rf = RandomForestClassifier()\n",
    "    parameters = {'n_estimators': [3],'max_depth':[5,10,15],'min_samples_leaf':[5,10,20]}\n",
    "    model_cv_grid = grid_search.GridSearchCV(rf, parameters, scoring='f1_macro',verbose=0, n_jobs=-1)\n",
    "    model_cv_grid.fit(X_train,y_train)\n",
    "    best_rf_model = model_cv_grid.best_estimator_\n",
    "    return best_rf_model\n",
    "\n",
    "\n",
    "def evaluation(y_test, pred):\n",
    "    '''metric evaluation, F1, precision, recall'''\n",
    "    conf_matrix = confusion_matrix(y_test, pred, labels=[1, 0])\n",
    "    TP, FP, FN, TN = conf_matrix[0][0], conf_matrix[1][0], conf_matrix[0][1], conf_matrix[1][1]\n",
    "    precision, recall = TP*1.0/sum(pred), TP*1.0/sum(y_test)\n",
    "    print ('P = %.3f' % precision, 'R = %.3f' % recall)\n",
    "    print ('F1 = %.3f' %(2*precision*recall/(precision+recall)))\n",
    "    print (conf_matrix)"
   ]
  },
  {
   "cell_type": "markdown",
   "metadata": {},
   "source": [
    "### b. Performance comparison for different fraud-normal data ratio\n"
   ]
  },
  {
   "cell_type": "markdown",
   "metadata": {},
   "source": [
    "#### fraud : normal = 1 : 5"
   ]
  },
  {
   "cell_type": "code",
   "execution_count": 163,
   "metadata": {},
   "outputs": [
    {
     "name": "stdout",
     "output_type": "stream",
     "text": [
      "('P = 0.064', 'R = 0.400')\n",
      "F1 = 0.111\n",
      "[[   921   1383]\n",
      " [ 13386 553075]]\n"
     ]
    }
   ],
   "source": [
    "X = train_test_split(train_neg, test_size=0.02)\n",
    "training_data = pd.concat([X[1], train_pos]).sample(frac=1)\n",
    "X_train = training_data[['time_diff', 'page_time_on', 'transaction_amount']]\n",
    "y_train = training_data['frd']\n",
    "logreg_model_1 = logisitic_regression(X_train, y_train)\n",
    "evaluation(y_test, logreg_model_1.predict(X_test))"
   ]
  },
  {
   "cell_type": "markdown",
   "metadata": {},
   "source": [
    "#### fraud : normal = 1 : 12"
   ]
  },
  {
   "cell_type": "code",
   "execution_count": 22,
   "metadata": {},
   "outputs": [
    {
     "name": "stdout",
     "output_type": "stream",
     "text": [
      "('P = 0.184', 'R = 0.325')\n",
      "F1 = 0.235\n",
      "[[   749   1555]\n",
      " [  3317 563144]]\n"
     ]
    }
   ],
   "source": [
    "X = train_test_split(train_neg, test_size=0.05)\n",
    "training_data = pd.concat([X[1], train_pos]).sample(frac=1)\n",
    "X_train = training_data[['time_diff', 'page_time_on', 'transaction_amount']]\n",
    "y_train = training_data['frd']\n",
    "logreg_model_2 = logisitic_regression(X_train, y_train)\n",
    "evaluation(y_test, logreg_model_2.predict(X_test))"
   ]
  },
  {
   "cell_type": "markdown",
   "metadata": {},
   "source": [
    "#### fraud : normal = 1 : 50"
   ]
  },
  {
   "cell_type": "code",
   "execution_count": 23,
   "metadata": {},
   "outputs": [
    {
     "name": "stdout",
     "output_type": "stream",
     "text": [
      "('P = 0.958', 'R = 0.239')\n",
      "F1 = 0.382\n",
      "[[   550   1754]\n",
      " [    24 566437]]\n"
     ]
    }
   ],
   "source": [
    "X = train_test_split(train_neg, test_size=0.2)\n",
    "training_data = pd.concat([X[1], train_pos]).sample(frac=1)\n",
    "X_train = training_data[['time_diff', 'page_time_on', 'transaction_amount']]\n",
    "y_train = training_data['frd']\n",
    "logreg_model_3 = logisitic_regression(X_train, y_train)\n",
    "evaluation(y_test, logreg_model_3.predict(X_test))"
   ]
  },
  {
   "cell_type": "markdown",
   "metadata": {},
   "source": [
    "#### fraud : normal = 1 : 125"
   ]
  },
  {
   "cell_type": "code",
   "execution_count": 24,
   "metadata": {},
   "outputs": [
    {
     "name": "stdout",
     "output_type": "stream",
     "text": [
      "('P = 1.000', 'R = 0.131')\n",
      "F1 = 0.231\n",
      "[[   301   2003]\n",
      " [     0 566461]]\n"
     ]
    }
   ],
   "source": [
    "X = train_test_split(train_neg, test_size=0.5)\n",
    "training_data = pd.concat([X[1], train_pos]).sample(frac=1)\n",
    "X_train = training_data[['time_diff', 'page_time_on', 'transaction_amount']]\n",
    "y_train = training_data['frd']\n",
    "logreg_model_4 = logisitic_regression(X_train, y_train)\n",
    "evaluation(y_test, logreg_model_4.predict(X_test))"
   ]
  },
  {
   "cell_type": "code",
   "execution_count": 166,
   "metadata": {},
   "outputs": [
    {
     "name": "stdout",
     "output_type": "stream",
     "text": [
      "('P = 0.997', 'R = 0.164')\n",
      "F1 = 0.282\n",
      "[[   378   1926]\n",
      " [     1 566460]]\n"
     ]
    }
   ],
   "source": [
    "X = train_test_split(train_neg, test_size=0.5)\n",
    "training_data = pd.concat([X[1], train_pos]).sample(frac=1)\n",
    "X_train = training_data[['time_diff', 'page_time_on', 'transaction_amount']]\n",
    "y_train = training_data['frd']\n",
    "logreg_model_4 = logisitic_regression(X_train, y_train)\n",
    "evaluation(y_test, logreg_model_4.predict(X_test))"
   ]
  },
  {
   "cell_type": "markdown",
   "metadata": {},
   "source": [
    "#### precision-recall curve"
   ]
  },
  {
   "cell_type": "code",
   "execution_count": 25,
   "metadata": {},
   "outputs": [],
   "source": [
    "y_test_prob_1 = logreg_model_1.predict_proba(X_test)\n",
    "y_test_prob_2 = logreg_model_2.predict_proba(X_test)\n",
    "y_test_prob_3 = logreg_model_3.predict_proba(X_test)\n",
    "y_test_prob_4 = logreg_model_4.predict_proba(X_test)"
   ]
  },
  {
   "cell_type": "code",
   "execution_count": 30,
   "metadata": {},
   "outputs": [
    {
     "data": {
      "image/png": "[encoded data removed]",
      "text/plain": [
       "<Figure size 576x648 with 1 Axes>"
      ]
     },
     "metadata": {},
     "output_type": "display_data"
    }
   ],
   "source": [
    "precision_1, recall_1, _ = precision_recall_curve(y_test, y_test_prob_1[:,1])\n",
    "precision_2, recall_2, _ = precision_recall_curve(y_test, y_test_prob_2[:,1]) \n",
    "precision_3, recall_3, _ = precision_recall_curve(y_test, y_test_prob_3[:,1]) \n",
    "precision_4, recall_4, _ = precision_recall_curve(y_test, y_test_prob_4[:,1]) \n",
    "pr_auc_logreg_1 = metrics.auc(recall_1, precision_1)\n",
    "pr_auc_logreg_2 = metrics.auc(recall_2, precision_2)\n",
    "pr_auc_logreg_3 = metrics.auc(recall_3, precision_3)\n",
    "pr_auc_logreg_4 = metrics.auc(recall_4, precision_4)\n",
    "plt.figure(figsize=(8,9))\n",
    "plt.plot(recall_1, precision_1, color = 'b')\n",
    "plt.plot(recall_2, precision_2, color = 'r')\n",
    "plt.plot(recall_3, precision_3, color = 'c')\n",
    "plt.plot(recall_4, precision_4, color = 'm')\n",
    "plt.xlim([0.0, 1.0])\n",
    "plt.ylim([0.0, 1.0])\n",
    "plt.xlabel('Recall', fontsize=20)\n",
    "plt.ylabel('Precision', fontsize=20)\n",
    "plt.title('Logisitc Regression', fontsize=20)\n",
    "plt.tick_params(labelsize=15)\n",
    "\n",
    "blue_line = mlines.Line2D([], [], color='blue', label='1:5 (AUC = %0.2f)' % pr_auc_logreg_1)\n",
    "red_line = mlines.Line2D([], [], color='red', label='1:12 (AUC = %0.2f)' % pr_auc_logreg_2)\n",
    "cyan_line = mlines.Line2D([], [], color='cyan', label='1:50 (AUC = %0.2f)' % pr_auc_logreg_3)\n",
    "pink_line = mlines.Line2D([], [], color='pink', label='1:125 (AUC = %0.2f)' % pr_auc_logreg_4)\n",
    "\n",
    "plt.legend(handles=[blue_line, red_line, cyan_line, pink_line],loc=\"lower right\", fontsize=15)\n",
    "plt.savefig('/Users/hhung/Desktop/logreg_pr.png')\n",
    "plt.show()"
   ]
  },
  {
   "cell_type": "code",
   "execution_count": 33,
   "metadata": {},
   "outputs": [
    {
     "data": {
      "image/png": "[encoded data removed]",
      "text/plain": [
       "<Figure size 576x648 with 1 Axes>"
      ]
     },
     "metadata": {},
     "output_type": "display_data"
    }
   ],
   "source": [
    "fpr_1, tpr_1, _ = roc_curve(y_test, y_test_prob_1[:,1])\n",
    "fpr_2, tpr_2, _ = roc_curve(y_test, y_test_prob_2[:,1]) \n",
    "fpr_3, tpr_3, _ = roc_curve(y_test, y_test_prob_3[:,1]) \n",
    "fpr_4, tpr_4, _ = roc_curve(y_test, y_test_prob_4[:,1]) \n",
    "roc_auc_logreg_1 = metrics.auc(fpr_1, tpr_1)\n",
    "roc_auc_logreg_2 = metrics.auc(fpr_2, tpr_2)\n",
    "roc_auc_logreg_3 = metrics.auc(fpr_3, tpr_3)\n",
    "roc_auc_logreg_4 = metrics.auc(fpr_4, tpr_4)\n",
    "plt.figure(figsize=(8,9))\n",
    "plt.plot(fpr_1, tpr_1, color = 'b')\n",
    "plt.plot(fpr_2, tpr_2, color = 'r')\n",
    "plt.plot(fpr_3, tpr_3, color = 'c')\n",
    "plt.plot(fpr_4, tpr_4, color = 'm')\n",
    "plt.xlim([0.0, 1.0])\n",
    "plt.ylim([0.0, 1.0])\n",
    "plt.xlabel('False Positive Rate', fontsize=20)\n",
    "plt.ylabel('True Positive Rat', fontsize=20)\n",
    "plt.title('Logisitc Regression', fontsize=20)\n",
    "plt.tick_params(labelsize=15)\n",
    "\n",
    "blue_line = mlines.Line2D([], [], color='blue', label='1:5 (AUC = %0.2f)' % roc_auc_logreg_1)\n",
    "red_line = mlines.Line2D([], [], color='red', label='1:12 (AUC = %0.2f)' % roc_auc_logreg_2)\n",
    "cyan_line = mlines.Line2D([], [], color='cyan', label='1:50 (AUC = %0.2f)' % roc_auc_logreg_3)\n",
    "pink_line = mlines.Line2D([], [], color='pink', label='1:125 (AUC = %0.2f)' % roc_auc_logreg_4)\n",
    "\n",
    "plt.legend(handles=[blue_line, red_line, cyan_line, pink_line],loc=\"lower right\", fontsize=15)\n",
    "plt.savefig('/Users/hhung/Desktop/logreg_roc.png')\n",
    "plt.show()"
   ]
  },
  {
   "cell_type": "markdown",
   "metadata": {},
   "source": [
    "Using logistic regression models, we can observe models with all fraud-normal data ratios show similar performance. For little amount of undersampled normal data, the models gave higher recall, but lowest precision (if threshold is 0.5). By putting more and more normal data, the classifiers predict higher precision, but meanwhile surpress recall. Furthermore, we can see all models have similar AUC under the precision-recall curve.\n",
    "\n",
    "## 3.3 Random Forest\n",
    "\n",
    "Next we turn to the non-linear classifier: random forest model. The random forest models outperform logisitc regression models, by comparing the area under the precision-recall curve (AUC). Note that for each random forest, I perform grid search using 10-fold cross validation for avoiding overfitting.\n",
    "\n",
    "#### fraud : normal = 1 : 5"
   ]
  },
  {
   "cell_type": "code",
   "execution_count": 53,
   "metadata": {},
   "outputs": [
    {
     "name": "stdout",
     "output_type": "stream",
     "text": [
      "('P = 0.068', 'R = 0.551')\n",
      "F1 = 0.121\n",
      "[[  1270   1034]\n",
      " [ 17413 549048]]\n"
     ]
    }
   ],
   "source": [
    "X = train_test_split(train_neg, test_size=0.02)\n",
    "training_data = pd.concat([X[1], train_pos]).sample(frac=1)\n",
    "X_train = training_data[['time_diff', 'page_time_on', 'transaction_amount']]\n",
    "y_train = training_data['frd']\n",
    "rf_model_1 = random_forest(X_train, y_train)\n",
    "evaluation(y_test, rf_model_1.predict(X_test))"
   ]
  },
  {
   "cell_type": "markdown",
   "metadata": {},
   "source": [
    "#### fraud : normal = 1 : 12"
   ]
  },
  {
   "cell_type": "code",
   "execution_count": 35,
   "metadata": {},
   "outputs": [
    {
     "name": "stdout",
     "output_type": "stream",
     "text": [
      "('P = 0.179', 'R = 0.431')\n",
      "F1 = 0.253\n",
      "[[   994   1310]\n",
      " [  4561 561900]]\n"
     ]
    }
   ],
   "source": [
    "X = train_test_split(train_neg, test_size=0.05)\n",
    "training_data = pd.concat([X[1], train_pos]).sample(frac=1)\n",
    "X_train = training_data[['time_diff', 'page_time_on', 'transaction_amount']]\n",
    "y_train = training_data['frd']\n",
    "rf_model_2 = random_forest(X_train, y_train)\n",
    "evaluation(y_test, rf_model_2.predict(X_test))"
   ]
  },
  {
   "cell_type": "markdown",
   "metadata": {},
   "source": [
    "#### fraud : normal = 1 : 50"
   ]
  },
  {
   "cell_type": "code",
   "execution_count": 37,
   "metadata": {},
   "outputs": [
    {
     "name": "stdout",
     "output_type": "stream",
     "text": [
      "('P = 0.737', 'R = 0.320')\n",
      "F1 = 0.447\n",
      "[[   738   1566]\n",
      " [   263 566198]]\n"
     ]
    }
   ],
   "source": [
    "X = train_test_split(train_neg, test_size=0.2)\n",
    "training_data = pd.concat([X[1], train_pos]).sample(frac=1)\n",
    "X_train = training_data[['time_diff', 'page_time_on', 'transaction_amount']]\n",
    "y_train = training_data['frd']\n",
    "rf_model_3 = random_forest(X_train, y_train)\n",
    "evaluation(y_test, rf_model_3.predict(X_test))"
   ]
  },
  {
   "cell_type": "markdown",
   "metadata": {},
   "source": [
    "#### fraud : normal = 1 : 125"
   ]
  },
  {
   "cell_type": "code",
   "execution_count": 38,
   "metadata": {},
   "outputs": [
    {
     "name": "stdout",
     "output_type": "stream",
     "text": [
      "('P = 0.935', 'R = 0.306')\n",
      "F1 = 0.461\n",
      "[[   705   1599]\n",
      " [    49 566412]]\n"
     ]
    }
   ],
   "source": [
    "X = train_test_split(train_neg, test_size=0.5)\n",
    "training_data = pd.concat([X[1], train_pos]).sample(frac=1)\n",
    "X_train = training_data[['time_diff', 'page_time_on', 'transaction_amount']]\n",
    "y_train = training_data['frd']\n",
    "rf_model_4 = random_forest(X_train, y_train)\n",
    "evaluation(y_test, rf_model_4.predict(X_test))"
   ]
  },
  {
   "cell_type": "markdown",
   "metadata": {},
   "source": [
    "#### fraud : normal = 1 : 200"
   ]
  },
  {
   "cell_type": "code",
   "execution_count": 39,
   "metadata": {},
   "outputs": [
    {
     "name": "stdout",
     "output_type": "stream",
     "text": [
      "('P = 0.979', 'R = 0.298')\n",
      "F1 = 0.457\n",
      "[[   686   1618]\n",
      " [    15 566446]]\n"
     ]
    }
   ],
   "source": [
    "X = train_test_split(train_neg, test_size=0.8)\n",
    "training_data = pd.concat([X[1], train_pos]).sample(frac=1)\n",
    "X_train = training_data[['time_diff', 'page_time_on', 'transaction_amount']]\n",
    "y_train = training_data['frd']\n",
    "rf_model_5 = random_forest(X_train, y_train)\n",
    "evaluation(y_test, rf_model_5.predict(X_test))"
   ]
  },
  {
   "cell_type": "markdown",
   "metadata": {},
   "source": [
    "#### precision-recall curve"
   ]
  },
  {
   "cell_type": "code",
   "execution_count": 54,
   "metadata": {},
   "outputs": [],
   "source": [
    "y_test_prob_1 = rf_model_1.predict_proba(X_test)\n",
    "y_test_prob_2 = rf_model_2.predict_proba(X_test)\n",
    "y_test_prob_3 = rf_model_3.predict_proba(X_test)\n",
    "y_test_prob_4 = rf_model_4.predict_proba(X_test)\n",
    "y_test_prob_5 = rf_model_5.predict_proba(X_test)"
   ]
  },
  {
   "cell_type": "code",
   "execution_count": 55,
   "metadata": {},
   "outputs": [
    {
     "data": {
      "image/png": "[encoded data removed]",
      "text/plain": [
       "<Figure size 576x648 with 1 Axes>"
      ]
     },
     "metadata": {},
     "output_type": "display_data"
    }
   ],
   "source": [
    "precision_1, recall_1, _ = precision_recall_curve(y_test, y_test_prob_1[:,1])\n",
    "precision_2, recall_2, _ = precision_recall_curve(y_test, y_test_prob_2[:,1]) \n",
    "precision_3, recall_3, _ = precision_recall_curve(y_test, y_test_prob_3[:,1])\n",
    "precision_4, recall_4, _ = precision_recall_curve(y_test, y_test_prob_4[:,1]) \n",
    "precision_5, recall_5, _ = precision_recall_curve(y_test, y_test_prob_5[:,1])\n",
    "pr_auc_rf_1 = metrics.auc(recall_1, precision_1)\n",
    "pr_auc_rf_2 = metrics.auc(recall_2, precision_2)\n",
    "pr_auc_rf_3 = metrics.auc(recall_3, precision_3)\n",
    "pr_auc_rf_4 = metrics.auc(recall_4, precision_4)\n",
    "pr_auc_rf_5 = metrics.auc(recall_5, precision_5)\n",
    "\n",
    "plt.figure(figsize=(8,9))\n",
    "plt.plot(recall_1, precision_1, color = 'b')\n",
    "plt.plot(recall_2, precision_2, color = 'r')\n",
    "plt.plot(recall_3, precision_3, color = 'c')\n",
    "plt.plot(recall_4, precision_4, color = 'm')\n",
    "plt.plot(recall_5, precision_5, color = 'g')\n",
    "\n",
    "plt.xlim([0.0, 1.0])\n",
    "plt.ylim([0.0, 1.0])\n",
    "plt.xlabel('Recall', fontsize=20)\n",
    "plt.ylabel('Precision', fontsize=20)\n",
    "plt.title('Random Forest', fontsize=20)\n",
    "plt.tick_params(labelsize=15)\n",
    "blue_line = mlines.Line2D([], [], color='blue', label='1:5 (AUC = %0.2f)' % pr_auc_rf_1)\n",
    "red_line = mlines.Line2D([], [], color='red', label='1:12 (AUC = %0.2f)' % pr_auc_rf_2)\n",
    "cyan_line = mlines.Line2D([], [], color='cyan', label='1:50 (AUC = %0.2f)' % pr_auc_rf_3)\n",
    "pink_line = mlines.Line2D([], [], color='pink', label='1:125 (AUC = %0.2f)' % pr_auc_rf_4)\n",
    "green_line = mlines.Line2D([], [], color='green', label='1:200 (AUC = %0.2f)' % pr_auc_rf_5)\n",
    "\n",
    "plt.legend(handles=[blue_line, red_line, cyan_line, pink_line, green_line],loc=\"lower right\", fontsize=15)\n",
    "plt.savefig('/Users/hhung/Desktop/randomforest_pr.png')\n",
    "plt.show()"
   ]
  },
  {
   "cell_type": "code",
   "execution_count": 56,
   "metadata": {},
   "outputs": [
    {
     "data": {
      "image/png": "[encoded data removed]",
      "text/plain": [
       "<Figure size 576x648 with 1 Axes>"
      ]
     },
     "metadata": {},
     "output_type": "display_data"
    }
   ],
   "source": [
    "fpr_1, tpr_1, _ = roc_curve(y_test, y_test_prob_1[:,1])\n",
    "fpr_2, tpr_2, _ = roc_curve(y_test, y_test_prob_2[:,1]) \n",
    "fpr_3, tpr_3, _ = roc_curve(y_test, y_test_prob_3[:,1]) \n",
    "fpr_4, tpr_4, _ = roc_curve(y_test, y_test_prob_4[:,1]) \n",
    "fpr_5, tpr_5, _ = roc_curve(y_test, y_test_prob_5[:,1]) \n",
    "roc_auc_rf_1 = metrics.auc(fpr_1, tpr_1)\n",
    "roc_auc_rf_2 = metrics.auc(fpr_2, tpr_2)\n",
    "roc_auc_rf_3 = metrics.auc(fpr_3, tpr_3)\n",
    "roc_auc_rf_4 = metrics.auc(fpr_4, tpr_4)\n",
    "roc_auc_rf_5 = metrics.auc(fpr_5, tpr_5)\n",
    "plt.figure(figsize=(8,9))\n",
    "plt.plot(fpr_1, tpr_1, color = 'b')\n",
    "plt.plot(fpr_2, tpr_2, color = 'r')\n",
    "plt.plot(fpr_3, tpr_3, color = 'c')\n",
    "plt.plot(fpr_4, tpr_4, color = 'm')\n",
    "plt.plot(fpr_5, tpr_5, color = 'g')\n",
    "plt.xlim([0.0, 1.0])\n",
    "plt.ylim([0.0, 1.0])\n",
    "plt.xlabel('False Positive Rate', fontsize=20)\n",
    "plt.ylabel('True Positive Rat', fontsize=20)\n",
    "plt.title('Random Forest', fontsize=20)\n",
    "plt.tick_params(labelsize=15)\n",
    "\n",
    "blue_line = mlines.Line2D([], [], color='blue', label='1:5 (AUC = %0.2f)' % roc_auc_rf_1)\n",
    "red_line = mlines.Line2D([], [], color='red', label='1:12 (AUC = %0.2f)' % roc_auc_rf_2)\n",
    "cyan_line = mlines.Line2D([], [], color='cyan', label='1:50 (AUC = %0.2f)' % roc_auc_rf_3)\n",
    "pink_line = mlines.Line2D([], [], color='pink', label='1:125 (AUC = %0.2f)' % roc_auc_rf_4)\n",
    "green_line = mlines.Line2D([], [], color='green', label='1:200 (AUC = %0.2f)' % roc_auc_rf_5)\n",
    "\n",
    "plt.legend(handles=[blue_line, red_line, cyan_line, pink_line, green_line],loc=\"lower right\", fontsize=15)\n",
    "plt.savefig('/Users/hhung/Desktop/randomforest_roc.png')\n",
    "plt.show()"
   ]
  },
  {
   "cell_type": "markdown",
   "metadata": {},
   "source": [
    "#### feature importance\n",
    "\n",
    "Here shows feature importance for 1:5 and 1:200 random forest models. We found 'transaction_amount' is always the most important. For small fraud-normal ratio data, 'time_diff' plays second important role. However, for large fraud-normal ratio, the importance between 'time_diff' and 'page_time_on' are similar. "
   ]
  },
  {
   "cell_type": "code",
   "execution_count": 314,
   "metadata": {},
   "outputs": [
    {
     "data": {
      "text/html": [
       "<div>\n",
       "<style scoped>\n",
       "    .dataframe tbody tr th:only-of-type {\n",
       "        vertical-align: middle;\n",
       "    }\n",
       "\n",
       "    .dataframe tbody tr th {\n",
       "        vertical-align: top;\n",
       "    }\n",
       "\n",
       "    .dataframe thead th {\n",
       "        text-align: right;\n",
       "    }\n",
       "</style>\n",
       "<table border=\"1\" class=\"dataframe\">\n",
       "  <thead>\n",
       "    <tr style=\"text-align: right;\">\n",
       "      <th></th>\n",
       "      <th>importance</th>\n",
       "      <th>variable</th>\n",
       "    </tr>\n",
       "  </thead>\n",
       "  <tbody>\n",
       "    <tr>\n",
       "      <th>0</th>\n",
       "      <td>0.732562</td>\n",
       "      <td>transaction_amount</td>\n",
       "    </tr>\n",
       "    <tr>\n",
       "      <th>1</th>\n",
       "      <td>0.214425</td>\n",
       "      <td>time_diff</td>\n",
       "    </tr>\n",
       "    <tr>\n",
       "      <th>2</th>\n",
       "      <td>0.053013</td>\n",
       "      <td>page_time_on</td>\n",
       "    </tr>\n",
       "  </tbody>\n",
       "</table>\n",
       "</div>"
      ],
      "text/plain": [
       "   importance            variable\n",
       "0    0.732562  transaction_amount\n",
       "1    0.214425           time_diff\n",
       "2    0.053013        page_time_on"
      ]
     },
     "execution_count": 314,
     "metadata": {},
     "output_type": "execute_result"
    }
   ],
   "source": [
    "importance = rf_model_1.feature_importances_\n",
    "attribute = X_train.columns\n",
    "\n",
    "v = sorted(range(len(importance)), key=lambda k: importance[k], reverse=True)\n",
    "sorted_importance = [importance[i] for i in v]\n",
    "sorted_attribute = [attribute[i] for i in v]\n",
    "\n",
    "df_importance = pd.DataFrame({'variable': sorted_attribute, 'importance' : sorted_importance})\n",
    "df_importance.sort_index().head(16)"
   ]
  },
  {
   "cell_type": "code",
   "execution_count": 318,
   "metadata": {},
   "outputs": [
    {
     "data": {
      "text/html": [
       "<div>\n",
       "<style scoped>\n",
       "    .dataframe tbody tr th:only-of-type {\n",
       "        vertical-align: middle;\n",
       "    }\n",
       "\n",
       "    .dataframe tbody tr th {\n",
       "        vertical-align: top;\n",
       "    }\n",
       "\n",
       "    .dataframe thead th {\n",
       "        text-align: right;\n",
       "    }\n",
       "</style>\n",
       "<table border=\"1\" class=\"dataframe\">\n",
       "  <thead>\n",
       "    <tr style=\"text-align: right;\">\n",
       "      <th></th>\n",
       "      <th>importance</th>\n",
       "      <th>variable</th>\n",
       "    </tr>\n",
       "  </thead>\n",
       "  <tbody>\n",
       "    <tr>\n",
       "      <th>0</th>\n",
       "      <td>0.899342</td>\n",
       "      <td>transaction_amount</td>\n",
       "    </tr>\n",
       "    <tr>\n",
       "      <th>1</th>\n",
       "      <td>0.064805</td>\n",
       "      <td>page_time_on</td>\n",
       "    </tr>\n",
       "    <tr>\n",
       "      <th>2</th>\n",
       "      <td>0.035853</td>\n",
       "      <td>time_diff</td>\n",
       "    </tr>\n",
       "  </tbody>\n",
       "</table>\n",
       "</div>"
      ],
      "text/plain": [
       "   importance            variable\n",
       "0    0.899342  transaction_amount\n",
       "1    0.064805        page_time_on\n",
       "2    0.035853           time_diff"
      ]
     },
     "execution_count": 318,
     "metadata": {},
     "output_type": "execute_result"
    }
   ],
   "source": [
    "importance = rf_model_5.feature_importances_\n",
    "attribute = X_train.columns\n",
    "\n",
    "v = sorted(range(len(importance)), key=lambda k: importance[k], reverse=True)\n",
    "sorted_importance = [importance[i] for i in v]\n",
    "sorted_attribute = [attribute[i] for i in v]\n",
    "\n",
    "df_importance = pd.DataFrame({'variable': sorted_attribute, 'importance' : sorted_importance})\n",
    "df_importance.sort_index().head(16)"
   ]
  },
  {
   "cell_type": "code",
   "execution_count": null,
   "metadata": {},
   "outputs": [],
   "source": []
  },
  {
   "cell_type": "markdown",
   "metadata": {},
   "source": [
    "## 3.4 Ensemble Learning\n",
    "\n",
    "Finally let's try ensemble learning. Here I used five classifier $-$ logisitc regression, decision tree, random forest, Naive Bayes and Adaboosting. AUC under the precision-recall curve is slightly worse than only using random forest as classifier. "
   ]
  },
  {
   "cell_type": "code",
   "execution_count": 43,
   "metadata": {},
   "outputs": [],
   "source": [
    "from sklearn.ensemble import VotingClassifier"
   ]
  },
  {
   "cell_type": "code",
   "execution_count": 44,
   "metadata": {},
   "outputs": [
    {
     "name": "stdout",
     "output_type": "stream",
     "text": [
      "('P = 0.052', 'R = 0.610')\n",
      "F1 = 0.097\n",
      "[[  1406    898]\n",
      " [ 25425 541036]]\n"
     ]
    }
   ],
   "source": [
    "X = train_test_split(train_neg, test_size=0.02)\n",
    "training_data = pd.concat([X[1], train_pos]).sample(frac=1)\n",
    "X_train = training_data[['time_diff', 'page_time_on', 'transaction_amount']]\n",
    "y_train = training_data['frd']\n",
    "\n",
    "model_1 = VotingClassifier(estimators=[('lr', LogisticRegression(random_state=1)), \n",
    "                                     ('dt', DecisionTreeClassifier(random_state=1)), \n",
    "                                     ('rf', RandomForestClassifier(random_state=1)),\n",
    "                                    ('nb', GaussianNB()), \n",
    "                                    ('ada', AdaBoostClassifier())], \n",
    "                         voting='soft', weights=[1, 2, 2, 1, 2])\n",
    "model_1.fit(X_train, y_train)\n",
    "evaluation(y_test, model_1.predict(X_test))"
   ]
  },
  {
   "cell_type": "code",
   "execution_count": 45,
   "metadata": {},
   "outputs": [
    {
     "name": "stdout",
     "output_type": "stream",
     "text": [
      "('P = 0.100', 'R = 0.496')\n",
      "F1 = 0.167\n",
      "[[  1143   1161]\n",
      " [ 10260 556201]]\n"
     ]
    }
   ],
   "source": [
    "X = train_test_split(train_neg, test_size=0.05)\n",
    "training_data = pd.concat([X[1], train_pos]).sample(frac=1)\n",
    "X_train = training_data[['time_diff', 'page_time_on', 'transaction_amount']]\n",
    "y_train = training_data['frd']\n",
    "\n",
    "model_2 = VotingClassifier(estimators=[('lr', LogisticRegression(random_state=1)), \n",
    "                                     ('dt', DecisionTreeClassifier(random_state=1)), \n",
    "                                     ('rf', RandomForestClassifier(random_state=1)),\n",
    "                                    ('nb', GaussianNB()), \n",
    "                                    ('ada', AdaBoostClassifier())], \n",
    "                         voting='soft', weights=[1, 2, 2, 1, 2])\n",
    "model_2.fit(X_train, y_train)\n",
    "evaluation(y_test, model_2.predict(X_test))"
   ]
  },
  {
   "cell_type": "code",
   "execution_count": 46,
   "metadata": {},
   "outputs": [
    {
     "name": "stdout",
     "output_type": "stream",
     "text": [
      "('P = 0.283', 'R = 0.389')\n",
      "F1 = 0.327\n",
      "[[   896   1408]\n",
      " [  2273 564188]]\n"
     ]
    }
   ],
   "source": [
    "X = train_test_split(train_neg, test_size=0.2)\n",
    "training_data = pd.concat([X[1], train_pos]).sample(frac=1)\n",
    "X_train = training_data[['time_diff', 'page_time_on', 'transaction_amount']]\n",
    "y_train = training_data['frd']\n",
    "\n",
    "model_3 = VotingClassifier(estimators=[('lr', LogisticRegression(random_state=1)), \n",
    "                                     ('dt', DecisionTreeClassifier(random_state=1)), \n",
    "                                     ('rf', RandomForestClassifier(random_state=1)),\n",
    "                                    ('nb', GaussianNB()), \n",
    "                                    ('ada', AdaBoostClassifier())], \n",
    "                         voting='soft', weights=[1, 2, 2, 1, 2])\n",
    "model_3.fit(X_train, y_train)\n",
    "evaluation(y_test, model_3.predict(X_test))"
   ]
  },
  {
   "cell_type": "code",
   "execution_count": 47,
   "metadata": {},
   "outputs": [
    {
     "name": "stdout",
     "output_type": "stream",
     "text": [
      "('P = 0.515', 'R = 0.338')\n",
      "F1 = 0.408\n",
      "[[   778   1526]\n",
      " [   734 565727]]\n"
     ]
    }
   ],
   "source": [
    "X = train_test_split(train_neg, test_size=0.5)\n",
    "training_data = pd.concat([X[1], train_pos]).sample(frac=1)\n",
    "X_train = training_data[['time_diff', 'page_time_on', 'transaction_amount']]\n",
    "y_train = training_data['frd']\n",
    "\n",
    "model_4 = VotingClassifier(estimators=[('lr', LogisticRegression(random_state=1)), \n",
    "                                     ('dt', DecisionTreeClassifier(random_state=1)), \n",
    "                                     ('rf', RandomForestClassifier(random_state=1)),\n",
    "                                    ('nb', GaussianNB()), \n",
    "                                    ('ada', AdaBoostClassifier())], \n",
    "                         voting='soft', weights=[1, 2, 2, 1, 2])\n",
    "model_4.fit(X_train, y_train)\n",
    "evaluation(y_test, model_4.predict(X_test))"
   ]
  },
  {
   "cell_type": "code",
   "execution_count": 57,
   "metadata": {},
   "outputs": [],
   "source": [
    "y_test_prob_1 = model_1.predict_proba(X_test)\n",
    "y_test_prob_2 = model_2.predict_proba(X_test)\n",
    "y_test_prob_3 = model_3.predict_proba(X_test)\n",
    "y_test_prob_4 = model_4.predict_proba(X_test)"
   ]
  },
  {
   "cell_type": "code",
   "execution_count": 49,
   "metadata": {},
   "outputs": [
    {
     "data": {
      "image/png": "[encoded data removed]",
      "text/plain": [
       "<Figure size 576x648 with 1 Axes>"
      ]
     },
     "metadata": {},
     "output_type": "display_data"
    }
   ],
   "source": [
    "precision_1, recall_1, _ = precision_recall_curve(y_test, y_test_prob_1[:,1])\n",
    "precision_2, recall_2, _ = precision_recall_curve(y_test, y_test_prob_2[:,1]) \n",
    "precision_3, recall_3, _ = precision_recall_curve(y_test, y_test_prob_3[:,1])\n",
    "precision_4, recall_4, _ = precision_recall_curve(y_test, y_test_prob_4[:,1]) \n",
    "\n",
    "pr_auc_ensemble_1 = metrics.auc(recall_1, precision_1)\n",
    "pr_auc_ensemble_2 = metrics.auc(recall_2, precision_2)\n",
    "pr_auc_ensemble_3 = metrics.auc(recall_3, precision_3)\n",
    "pr_auc_ensemble_4 = metrics.auc(recall_4, precision_4)\n",
    "\n",
    "\n",
    "plt.figure(figsize=(8,9))\n",
    "plt.plot(recall_1, precision_1, color = 'b')\n",
    "plt.plot(recall_2, precision_2, color = 'r')\n",
    "plt.plot(recall_3, precision_3, color = 'c')\n",
    "plt.plot(recall_4, precision_4, color = 'm')\n",
    "\n",
    "plt.xlim([0.0, 1.0])\n",
    "plt.ylim([0.0, 1.0])\n",
    "plt.xlabel('Recall', fontsize=20)\n",
    "plt.ylabel('Precision', fontsize=20)\n",
    "plt.tick_params(labelsize=15)\n",
    "blue_line = mlines.Line2D([], [], color='blue', label='1:5 (AUC = %0.2f)' % pr_auc_ensemble_1)\n",
    "red_line = mlines.Line2D([], [], color='red', label='1:12 (AUC = %0.2f)' % pr_auc_ensemble_2)\n",
    "cyan_line = mlines.Line2D([], [], color='cyan', label='1:50 (AUC = %0.2f)' % pr_auc_ensemble_3)\n",
    "pink_line = mlines.Line2D([], [], color='pink', label='1:125 (AUC = %0.2f)' % pr_auc_ensemble_4)\n",
    "\n",
    "plt.legend(handles=[blue_line, red_line, cyan_line, pink_line],loc=\"lower right\", fontsize=15)\n",
    "plt.title('ensemble learning', fontsize=20)\n",
    "plt.savefig('/Users/hhung/Desktop/ensemble_pr.png')\n",
    "plt.show()"
   ]
  },
  {
   "cell_type": "code",
   "execution_count": 58,
   "metadata": {},
   "outputs": [
    {
     "data": {
      "image/png": "[encoded data removed]",
      "text/plain": [
       "<Figure size 576x648 with 1 Axes>"
      ]
     },
     "metadata": {},
     "output_type": "display_data"
    }
   ],
   "source": [
    "fpr_1, tpr_1, _ = roc_curve(y_test, y_test_prob_1[:,1])\n",
    "fpr_2, tpr_2, _ = roc_curve(y_test, y_test_prob_2[:,1]) \n",
    "fpr_3, tpr_3, _ = roc_curve(y_test, y_test_prob_3[:,1]) \n",
    "fpr_4, tpr_4, _ = roc_curve(y_test, y_test_prob_4[:,1])  \n",
    "roc_auc_ensemble_1 = metrics.auc(fpr_1, tpr_1)\n",
    "roc_auc_ensemble_2 = metrics.auc(fpr_2, tpr_2)\n",
    "roc_auc_ensemble_3 = metrics.auc(fpr_3, tpr_3)\n",
    "roc_auc_ensemble_4 = metrics.auc(fpr_4, tpr_4)\n",
    "plt.figure(figsize=(8,9))\n",
    "plt.plot(fpr_1, tpr_1, color = 'b')\n",
    "plt.plot(fpr_2, tpr_2, color = 'r')\n",
    "plt.plot(fpr_3, tpr_3, color = 'c')\n",
    "plt.plot(fpr_4, tpr_4, color = 'm')\n",
    "plt.xlim([0.0, 1.0])\n",
    "plt.ylim([0.0, 1.0])\n",
    "plt.xlabel('False Positive Rate', fontsize=20)\n",
    "plt.ylabel('True Positive Rat', fontsize=20)\n",
    "plt.title('Ensemble Learning', fontsize=20)\n",
    "plt.tick_params(labelsize=15)\n",
    "\n",
    "blue_line = mlines.Line2D([], [], color='blue', label='1:5 (AUC = %0.2f)' % roc_auc_ensemble_1)\n",
    "red_line = mlines.Line2D([], [], color='red', label='1:12 (AUC = %0.2f)' % roc_auc_ensemble_2)\n",
    "cyan_line = mlines.Line2D([], [], color='cyan', label='1:50 (AUC = %0.2f)' % roc_auc_ensemble_3)\n",
    "pink_line = mlines.Line2D([], [], color='pink', label='1:125 (AUC = %0.2f)' % roc_auc_ensemble_4)\n",
    "\n",
    "plt.legend(handles=[blue_line, red_line, cyan_line, pink_line],loc=\"lower right\", fontsize=15)\n",
    "plt.savefig('/Users/hhung/Desktop/ensemble_roc.png')\n",
    "plt.show()"
   ]
  },
  {
   "cell_type": "code",
   "execution_count": null,
   "metadata": {},
   "outputs": [],
   "source": []
  }
 ],
 "metadata": {
  "anaconda-cloud": {},
  "kernelspec": {
   "display_name": "Python 3",
   "language": "python",
   "name": "python3"
  },
  "language_info": {
   "codemirror_mode": {
    "name": "ipython",
    "version": 3
   },
   "file_extension": ".py",
   "mimetype": "text/x-python",
   "name": "python",
   "nbconvert_exporter": "python",
   "pygments_lexer": "ipython3",
   "version": "3.6.5"
  }
 },
 "nbformat": 4,
 "nbformat_minor": 2
}
